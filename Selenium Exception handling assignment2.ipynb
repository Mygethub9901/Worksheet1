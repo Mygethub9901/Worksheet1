{
 "cells": [
  {
   "cell_type": "code",
   "execution_count": 1,
   "metadata": {},
   "outputs": [
    {
     "name": "stdout",
     "output_type": "stream",
     "text": [
      "Requirement already satisfied: selenium in c:\\users\\ankita\\anaconda3\\lib\\site-packages (3.141.0)\n",
      "Requirement already satisfied: urllib3 in c:\\users\\ankita\\anaconda3\\lib\\site-packages (from selenium) (1.25.11)\n"
     ]
    }
   ],
   "source": [
    "!pip install selenium"
   ]
  },
  {
   "cell_type": "code",
   "execution_count": 2,
   "metadata": {},
   "outputs": [],
   "source": [
    "import selenium\n",
    "import pandas as pd\n",
    "from selenium import webdriver\n",
    "import time\n",
    "from selenium.common.exceptions import NoSuchElementException"
   ]
  },
  {
   "cell_type": "markdown",
   "metadata": {},
   "source": [
    "Q1: Write a python program to scrape data for “Data Analyst” Job position in \n",
    "“Bangalore” location. You have to scrape the job-title, job-location, company_name,\n",
    "experience_required. You have to scrape first 10 jobs data."
   ]
  },
  {
   "cell_type": "code",
   "execution_count": 262,
   "metadata": {},
   "outputs": [],
   "source": [
    "driver = webdriver.Chrome(r\"C:\\Users\\Ankita\\Downloads\\chromedriver_win32\\chromedriver.exe\")"
   ]
  },
  {
   "cell_type": "code",
   "execution_count": 263,
   "metadata": {},
   "outputs": [],
   "source": [
    "url = 'https://www.naukri.com/jobs-in-india'\n",
    "driver.get(url)"
   ]
  },
  {
   "cell_type": "code",
   "execution_count": 264,
   "metadata": {},
   "outputs": [
    {
     "data": {
      "text/plain": [
       "<selenium.webdriver.remote.webelement.WebElement (session=\"6d2c0ff6e2c237b2c9ab7fb6ad45e1fe\", element=\"5976c2df-773b-4a9c-a428-ef1a3405bfd0\")>"
      ]
     },
     "execution_count": 264,
     "metadata": {},
     "output_type": "execute_result"
    }
   ],
   "source": [
    "search_btn = driver.find_element_by_xpath(\"//span[@class='quick-search-bar__view__modify-link']\")\n",
    "search_btn"
   ]
  },
  {
   "cell_type": "code",
   "execution_count": 265,
   "metadata": {},
   "outputs": [],
   "source": [
    "search_btn.click()"
   ]
  },
  {
   "cell_type": "code",
   "execution_count": 266,
   "metadata": {},
   "outputs": [],
   "source": [
    "search_job = driver.find_element_by_id('qsb-keyword-sugg')\n",
    "search_job.send_keys(\"Data Scientist\")"
   ]
  },
  {
   "cell_type": "code",
   "execution_count": 267,
   "metadata": {},
   "outputs": [],
   "source": [
    "search_loc = driver.find_element_by_id('qsb-location-sugg')\n",
    "search_loc.send_keys(\"Bangalore/Bengaluru\")"
   ]
  },
  {
   "cell_type": "code",
   "execution_count": 268,
   "metadata": {},
   "outputs": [],
   "source": [
    "search_btn = driver.find_element_by_xpath(\"//button[@class='btn-primary']\")\n",
    "search_btn.click()"
   ]
  },
  {
   "cell_type": "code",
   "execution_count": 269,
   "metadata": {},
   "outputs": [],
   "source": [
    "urls=[]\n",
    "for i in driver.find_elements_by_xpath((\"//a[@class='title fw500 ellipsis']\")):\n",
    "    urls.append(i.get_attribute(\"href\"))"
   ]
  },
  {
   "cell_type": "code",
   "execution_count": 270,
   "metadata": {},
   "outputs": [
    {
     "data": {
      "text/plain": [
       "20"
      ]
     },
     "execution_count": 270,
     "metadata": {},
     "output_type": "execute_result"
    }
   ],
   "source": [
    "len(urls)"
   ]
  },
  {
   "cell_type": "code",
   "execution_count": 271,
   "metadata": {},
   "outputs": [
    {
     "data": {
      "text/plain": [
       "['https://www.naukri.com/job-listings-data-scientist-senior-business-analyst-lead-analyst-evalueserve-com-pvt-ltd-gurgaon-gurugram-bangalore-bengaluru-2-to-7-years-110821005065?src=jobsearchDesk&sid=16287614102923085&xp=1&px=1',\n",
       " 'https://www.naukri.com/job-listings-lead-data-scientist-retail-industry-ibm-india-pvt-limited-bangalore-bengaluru-7-to-10-years-100821908363?src=jobsearchDesk&sid=16287614102923085&xp=2&px=1',\n",
       " 'https://www.naukri.com/job-listings-senior-lead-data-scientist-superior-group-bangalore-bengaluru-6-to-11-years-100821500375?src=jobsearchDesk&sid=16287614102923085&xp=3&px=1',\n",
       " 'https://www.naukri.com/job-listings-data-scientist-advanced-analytics-ibm-india-pvt-limited-bangalore-bengaluru-5-to-10-years-110821906281?src=jobsearchDesk&sid=16287614102923085&xp=4&px=1',\n",
       " 'https://www.naukri.com/job-listings-senior-data-scientist-smiths-detection-systems-private-limited-bangalore-bengaluru-8-to-10-years-260721903257?src=jobsearchDesk&sid=16287614102923085&xp=5&px=1',\n",
       " 'https://www.naukri.com/job-listings-senior-data-scientist-cognizer-india-private-limited-bangalore-bengaluru-5-to-10-years-100821001616?src=jobsearchDesk&sid=16287614102923085&xp=6&px=1',\n",
       " 'https://www.naukri.com/job-listings-lead-data-scientist-zycus-infotech-pvt-ltd-bangalore-bengaluru-14-to-16-years-100821906533?src=jobsearchDesk&sid=16287614102923085&xp=7&px=1',\n",
       " 'https://www.naukri.com/job-listings-lead-data-scientist-transorg-solutions-services-p-ltd-bangalore-bengaluru-delhi-ncr-mumbai-all-areas-4-to-6-years-160721005471?src=jobsearchDesk&sid=16287614102923085&xp=8&px=1',\n",
       " 'https://www.naukri.com/job-listings-senior-data-scientist-tech-lead-data-science-confidential-bangalore-bengaluru-delhi-ncr-6-to-9-years-100821906281?src=jobsearchDesk&sid=16287614102923085&xp=9&px=1',\n",
       " 'https://www.naukri.com/job-listings-senior-data-scientist-kpo-talentco-search-pvt-ltd-mumbai-bangalore-bengaluru-delhi-ncr-6-to-10-years-110821908145?src=jobsearchDesk&sid=16287614102923085&xp=10&px=1',\n",
       " 'https://www.naukri.com/job-listings-data-scientist-natural-language-processing-hyderabad-location-clifford-chance-business-services-private-limited-hyderabad-secunderabad-pune-chennai-bangalore-bengaluru-5-to-10-years-120821000435?src=jobsearchDesk&sid=16287614102923085&xp=11&px=1',\n",
       " 'https://www.naukri.com/job-listings-looking-for-data-scientist-for-chennai-location-intelizign-engineering-services-pvt-ltd-hyderabad-secunderabad-chennai-bangalore-bengaluru-3-to-7-years-110821004891?src=jobsearchDesk&sid=16287614102923085&xp=12&px=1',\n",
       " 'https://www.naukri.com/job-listings-data-scientist-cognizant-technology-solutions-india-pvt-ltd-chennai-bangalore-bengaluru-10-to-12-years-090821904407?src=jobsearchDesk&sid=16287614102923085&xp=13&px=1',\n",
       " 'https://www.naukri.com/job-listings-data-scientist-artificial-intelligence-ibm-india-pvt-limited-bangalore-bengaluru-4-to-6-years-110821906941?src=jobsearchDesk&sid=16287614102923085&xp=14&px=1',\n",
       " 'https://www.naukri.com/job-listings-data-scientist-advanced-analytics-ibm-india-pvt-limited-bangalore-bengaluru-4-to-8-years-110821906897?src=jobsearchDesk&sid=16287614102923085&xp=15&px=1',\n",
       " 'https://www.naukri.com/job-listings-data-scientist-artificial-intelligence-ibm-india-pvt-limited-bangalore-bengaluru-4-to-8-years-110821906005?src=jobsearchDesk&sid=16287614102923085&xp=16&px=1',\n",
       " 'https://www.naukri.com/job-listings-data-scientist-oracle-india-pvt-ltd-bangalore-bengaluru-6-to-10-years-190521008276?src=jobsearchDesk&sid=16287614102923085&xp=17&px=1',\n",
       " 'https://www.naukri.com/job-listings-data-scientist-artificial-intelligence-ibm-india-pvt-limited-bangalore-bengaluru-4-to-8-years-110821906380?src=jobsearchDesk&sid=16287614102923085&xp=18&px=1',\n",
       " 'https://www.naukri.com/job-listings-data-scientist-sql-r-python-imindyourbusiness-bangalore-bengaluru-4-to-8-years-110821900877?src=jobsearchDesk&sid=16287614102923085&xp=19&px=1',\n",
       " 'https://www.naukri.com/job-listings-senior-data-scientist-symbiosis-international-w-l-l-bangalore-bengaluru-10-to-15-years-050821004331?src=jobsearchDesk&sid=16287614102923085&xp=20&px=1']"
      ]
     },
     "execution_count": 271,
     "metadata": {},
     "output_type": "execute_result"
    }
   ],
   "source": [
    "urls"
   ]
  },
  {
   "cell_type": "code",
   "execution_count": 272,
   "metadata": {},
   "outputs": [],
   "source": [
    "urls=[]\n",
    "for i in driver.find_elements_by_xpath(\"//a[@class='title fw500 ellipsis']\"):\n",
    "    urls.append(i.get_attribute(\"href\"))"
   ]
  },
  {
   "cell_type": "code",
   "execution_count": 273,
   "metadata": {},
   "outputs": [],
   "source": [
    "job_title=[]\n",
    "job_location=[]\n",
    "company_name=[]\n",
    "experience_required=[]\n",
    "job_description=[]"
   ]
  },
  {
   "cell_type": "code",
   "execution_count": 274,
   "metadata": {},
   "outputs": [],
   "source": [
    "for i in urls[0:10]:\n",
    "    driver.get(i)\n",
    "    time.sleep(0)\n",
    "    try:\n",
    "        job=driver.find_element_by_xpath(\"//h1[@class='jd-header-title']\")\n",
    "        job_title.append(job.text.replace(\"/n\",\"new line\"))\n",
    "    except NoSuchElementException:\n",
    "        job_title.append('-')\n",
    "        \n",
    "    try:\n",
    "        job_desc=driver.find_element_by_xpath(\"//section[@class='job-desc']\")\n",
    "        job_description.append(job_desc.text)\n",
    "    except:\n",
    "        job_location.append('-')\n",
    "        \n",
    "    try:\n",
    "        job_loc=driver.find_element_by_xpath(\"//div[@class='loc']\")\n",
    "        job_location.append(job_loc.text)\n",
    "    except:\n",
    "        job_location.append('-')\n",
    "        \n",
    "    try:\n",
    "        comp_name=driver.find_element_by_xpath(\"//div[@class='jd-header-comp-name']\")\n",
    "        company_name.append(comp_name.text)\n",
    "    except:\n",
    "        job_location.append('-')\n",
    "        \n",
    "    try:\n",
    "        exp_req=driver.find_element_by_xpath(\"//div[@class='exp']\")\n",
    "        experience_required.append(exp_req.text)\n",
    "    except:\n",
    "        experience_required.append('-')    \n",
    "        "
   ]
  },
  {
   "cell_type": "code",
   "execution_count": 275,
   "metadata": {},
   "outputs": [
    {
     "name": "stdout",
     "output_type": "stream",
     "text": [
      "10\n",
      "16\n",
      "7\n",
      "10\n"
     ]
    }
   ],
   "source": [
    "print(len(job_title))\n",
    "print(len(job_location))\n",
    "print(len(company_name))\n",
    "print(len(experience_required))"
   ]
  },
  {
   "cell_type": "code",
   "execution_count": 256,
   "metadata": {},
   "outputs": [
    {
     "data": {
      "text/plain": [
       "['Data Scientist- Senior Business Analyst/Lead Analyst',\n",
       " '-',\n",
       " 'Data Scientist- Senior Business Analyst/Lead Analyst',\n",
       " '-',\n",
       " 'Data Scientist- Senior Business Analyst/Lead Analyst',\n",
       " '-',\n",
       " 'Senior/ Lead Data Scientist',\n",
       " '-',\n",
       " '-',\n",
       " 'Senior Data Scientist',\n",
       " 'Lead Data Scientist',\n",
       " 'Lead Data Scientist',\n",
       " 'Senior Data Scientist / Tech Lead - Data Science',\n",
       " 'Senior Data Scientist - KPO',\n",
       " 'Data Scientist- Senior Business Analyst/Lead Analyst',\n",
       " '-',\n",
       " 'Senior/ Lead Data Scientist',\n",
       " '-',\n",
       " '-',\n",
       " 'Senior Data Scientist',\n",
       " 'Lead Data Scientist',\n",
       " 'Lead Data Scientist',\n",
       " 'Senior Data Scientist / Tech Lead - Data Science',\n",
       " 'Senior Data Scientist - KPO']"
      ]
     },
     "execution_count": 256,
     "metadata": {},
     "output_type": "execute_result"
    }
   ],
   "source": [
    "job_title"
   ]
  },
  {
   "cell_type": "code",
   "execution_count": 232,
   "metadata": {},
   "outputs": [
    {
     "data": {
      "text/plain": [
       "[\"Job description\\nRoles and responsibilities \\nJob description\\n\\nSkill: SQL, Python, Business Analysis, Data Science;\\n\\nExp: 2-7 years;\\n\\nJob Description Ensuring quality in crowd sourcing model is the biggest challenge to solve for. Being the first data scientist of the company, you shall be responsible for building robust algorithms ensure quality, from scratch.Responsibilities- Develop models to derive maximum quality from crowd sourced data\\n\\nDerive insights and identify opportunities through the use of algorithmic, statistical, mining & visualisation techniques- Work closely with engineering to implement aforementioned models\\nRequired Candidate profile\\nRequirements\\n\\nBachelors or above in Mathematics, Statistics, CS or related fields.\\n\\nMin. 2 years experience with mathematical modelling, statistical analysis, machine learning, NLP- Must have implemented machine learning based solution which is being used in production\\n\\nProgramming proficiency, preferably with Python, R, SQL, Java and equivalents- Experience of working with relational and non-relational databasesWe're a fast growing startup, looking for talented and ambitious individuals who want to join us on this journey and build awesome things which can change the way work gets done. You shall get,- Complete Ownership, Flexible timings\\n\\nWe deal with millions of data points every day and we can assure you that you will have no dearth of data to work with in this job- Pay as per industry standards. Lucrative stock options.\\n\\nAn awesome office to work in and awesome people to work with- Weekend beer! Munchies on the house )\\nRoleData Analyst\\nIndustry TypeIT Services & Consulting\\nFunctional AreaAnalytics & Business Intelligence\\nEmployment TypeFull Time, Permanent\\nRole CategoryAnalytics & BI\\nEducation\\nUG :B.Sc in Maths, Statistics, B.Tech/B.E. in Computers, B.A in Statistics, Maths\\nPG :Any Postgraduate\\nDoctorate :Any Doctorate, Doctorate Not Required\\nKey Skills\\nData ScienceJavaRNLPAlgorithmsData ScientistMachine LearningStatistical AnalysisStatisticsPythonSQL\",\n",
       " \"Job description\\nWhat You'll Do :\\n\\n- Leverage data to perform intensive analysis across all areas of our business to catalyze product development\\n\\n- Design experiments and interpret the results to draw detailed and actionable conclusions\\n\\n- Generate and execute on ideas for exploratory analysis to shape future projects and provide recommendations for actions\\n\\n- Perform time-series analyses, hypothesis testing, and causal analyses to statistically assess relative impact and extract trends\\n\\n- Create models to enhance understanding of user behavior and predict future performance of cohorts\\n\\n- Create dashboards and reports to regularly communicate results and monitor key metrics\\n\\n- Present findings to senior management to guide business decisions\\n\\n- Collaborate with cross-functional teams across disciplines such as product, engineering, operations, and marketing\\n\\nRequired Candidate profile\\nWhat You'll Need :\\n\\n- 3-5 years of experience in a quantitative analysis role\\n\\n- BE/BS/MS in Physics, Economics, Applied Math, Statistics, Engineering, Computer Science, or other quantitative field (advanced degrees are a plus)\\n\\n- Comfortable writing code and contributing to a code base in Python or R\\n\\n- Proficient in writing and understanding complex SQL; experience working with large data sets\\n\\n- Advanced knowledge of experimentation and statistical methods\\n\\n- Ability to deliver on tight timelines and move quickly while maintaining attention to detail\\n\\n- Collaborate closely with cross-functional teams to execute on decisions\\n\\n- Self-driven and proactive with the ability to work in a self-guided manner\\n\\n- Excellent communication and organization skills\\nRoleData Analyst\\nIndustry TypeIT Services & Consulting\\nFunctional AreaAnalytics & Business Intelligence\\nEmployment TypeFull Time, Permanent\\nRole CategoryAnalytics & BI\\nEducation\\nUG :B.Tech/B.E. in Computers, B.Sc in Physics, Statistics\\nPG :MS/M.Sc(Science) in Physics, Computers, Statistics\\nDoctorate :Doctorate Not Required\\nKey Skills\\nData ScienceRData ScientistData Managementproduct developmentPythonSQL\",\n",
       " 'Job description\\nRoles and Responsibilities\\n- Implement data-driven solutions based on advanced ML and optimization algorithms to address business problems\\n\\n- Research, experiment, and innovate MLstatistical approaches in various application areas of interest and contribute to IP\\n\\n- Partner with engineering teams to build scalable, efficient, automated ML-based pipelines (trainingevaluationmonitoring)\\n\\n- Deploy, maintain, and debug MLdecision models in a production environment\\n\\n- Analyze and assess data to ensure high data quality and correctness of downstream processes\\n\\n- Communicate results to stakeholders and present datainsights to participate in and drive decision making.\\nRoleData Analyst\\nIndustry TypeIT Services & Consulting\\nFunctional AreaAnalytics & Business Intelligence\\nEmployment TypeFull Time, Permanent\\nRole CategoryAnalytics & BI\\nEducation\\nUG :B.Sc in Any Specialization, B.Tech/B.E. in Any Specialization, BCA in Computers\\nPG :Any Postgraduate\\nDoctorate :Doctorate Not Required\\nKey Skills\\nData ScienceData QualityData ScientistStatistical ModelingStatistical AnalystMachine Learning',\n",
       " 'Job description\\n- Looking for Data Scientists with the capability to work on independent statistical and machine learning research/ projects.\\n\\nJob Responsibilities:\\n\\n- Ability to deliver solutions around a host of domains and problems, with some of them being: Customer Segmentation & Targeting, Propensity Modeling, Churn Modeling, Lifetime Value Estimation, Forecasting, Recommender Systems, Modeling Response to Incentives, Marketing Mix Optimization, Price Optimization\\n\\n- Ability to understand a problem statement and implement analytical solutions & techniques independently with independently/ proactively/ thought-leadership\\n\\n- Conceptualize, design, and deliver high-quality solutions and insightful analysis\\n\\n- Conduct research and prototyping innovations; data and requirements gathering; solution scoping and architecture; consulting clients and client facing teams on advanced statistical and machine learning problems\\n\\n- Collaborate and coordinate with different functional teams (engineering and product development) to implement models and monitor outcomes\\n\\nExperience Required:\\n\\n- B.Tech / M.Tech in Computer Science / Mathematics / Signal Processing or related fields from one of the premier Institutes (IITs/ NITs/ BITS) with minimum 3+ years of experience in Machine Learning domain\\n\\n- Expert level proficiency in at least one of R and Python\\n\\n- Ability to create efficient solutions to complex problems. Strong skills in data-structures and ML algorithms\\n\\n- Intermediate to advanced knowledge of machine learning, probability theory, statistics, and algorithms.\\n\\n- We use regression, Bayesian methods, tree-based learners, SVM, RF, XGBOOST, time series modeling, dimensionality reduction, SEM, GLM, GLMM, clustering, Deep learning etc. on a regular basis. If you know few of them you are good to go.\\nRoleData Analyst\\nIndustry TypeIT Services & Consulting\\nFunctional AreaAnalytics & Business Intelligence\\nEmployment TypeFull Time, Permanent\\nRole CategoryAnalytics & BI\\nEducation\\nUG :B.Tech/B.E. in Computers\\nPG :MBA/PGDM in Any Specialization\\nDoctorate :Doctorate Not Required\\nKey Skills\\nData ScienceRBayesian methodsData ScientistData ManagementData AnalyticsMachine LearningAnalyticsPython',\n",
       " 'Job description\\nResponsibilities:\\n\\n- Work with stakeholders throughout the organization to identify opportunities for leveraging company data to drive business solutions.\\n\\n- Mine and analyze data from company databases to drive optimization and improvement\\n\\n- Assess the effectiveness and accuracy of new data sources and data gathering techniques.\\n\\n- Develop custom data models and algorithms to apply to data sets.\\n\\n- Use predictive modeling to increase and optimize customer experiences, revenue generation, ad targeting and other business outcomes.\\n\\n- Develop company A/B testing framework and test model quality.\\n\\n- Coordinate with different functional teams to implement models and monitor outcomes.\\n\\n- Develop processes and tools to monitor and analyze model performance and data accuracy\\n\\nRequired Candidate profile\\nQualifications & Experience:\\n\\n- PG / MBA with 2 to 5 Yrs Experience with strong problem solving skills with an emphasis on product development.\\n\\n- Experience using statistical computer languages (R, Python, SLQ, etc.) to manipulate data and draw insights from large data sets.\\n\\n- Experience working with and creating data architectures.\\n\\n- Knowledge of a variety of machine learning techniques (clustering, decision tree learning, artificial neural networks, etc.) and their real-world advantages/drawbacks.\\n\\n- Knowledge of advanced statistical techniques and concepts .\\nRoleData Analyst\\nIndustry TypeAnalytics / KPO / Research\\nFunctional AreaAnalytics & Business Intelligence\\nEmployment TypeFull Time, Permanent\\nRole CategoryAnalytics & BI\\nEducation\\nUG :Any Graduate\\nPG :MBA/PGDM in Any Specialization\\nDoctorate :Doctorate Not Required\\nKey Skills\\nData SciencePredictive ModelingNLPData ScientistArtificial IntelligenceData ManagementStatistical ModelingData ModelingMachine LearningPythonSQL',\n",
       " 'Job description\\nResponsibilities :\\n\\n- Ability to work independently and with team members from different backgrounds.\\n\\n- Use effective text representations to transform natural language into useful features.\\n\\n- Find and implement the right algorithms and tools for NLP tasks.\\n\\n- Develop NLP models according to requirements.\\n\\n- Perform statistical analysis of results and refine models.\\n\\n- Remain updated in the rapidly changing field of machine learning.\\n\\n- Design and implement ML algorithms and models (especially deep learning models) through in-depth research.\\n\\n- and experiment with neural network models, parameter optimization, and optimization algorithms.\\n\\n- Research and experiment with neural network models, parameter optimization, and optimization algorithms.\\n\\n- Conduct research to advance the state of the art in deep learning and provide technical solutions for real world challenges in various scenario.\\n\\nRequirements :\\n\\n- Knowledge of programming languages like SQL, Python.\\n\\n- Strong mathematics skills (e.g. statistics)\\n\\n- Experience with common data science toolkits\\n\\n- Experience with machine learning and AI\\n\\n- Should have understanding of model deployment.\\nRoleData Analyst\\nIndustry TypeIT Services & Consulting\\nFunctional AreaAnalytics & Business Intelligence\\nEmployment TypeFull Time, Permanent\\nRole CategoryAnalytics & BI\\nEducation\\nUG :B.Sc in Any Specialization, BCA in Computers, B.Tech/B.E. in Any Specialization\\nPG :Any Postgraduate\\nDoctorate :Doctorate Not Required\\nKey Skills\\nData ScienceStatistical analysisNLPData ScientistArtificial IntelligenceMachine LearningPythonSQL',\n",
       " 'Job description\\nJob Role Responsibilities\\nWork with computational scientists, data scientists, engineers, software developers, and geoscientists across the globe to develop, deliver and apply computational tools, models, or software to support our business\\nEnhance proprietary computational models and tools to address evolving business needs\\nUse machine learning, pattern recognition, deep learning, statistical analysis and data visualizations along with domain knowledge and subject-specific models (Eg. physics-based) to solve science, engineering, commercial problems and provide business insights\\nDesign, build, and execute studies using proprietary or commercial tools to provide insights including calibrating models to field data and providing field optimization recommendations\\n\\n\\nJob Requirements\\nMasters degree from a recognized university in one of the following disciplines: Chemical Engineering, Mechanical Engineering or related disciplines with minimum GPA 7.0 (out of 10.0) and above\\nProfessional work experience in developing, applying, and analyzing physics-based models and/or data driven computational models and simulations.\\n2-7 years of applied computational work experience for candidates with a Masters degree.\\nAbility to understand, enhance and apply computational models\\nFamiliarity with general numerical analysis and methods for solving differential equations\\nExperience with developing, applying and validating physics-based or data-driven tools to model complex systems\\nExperience with application of optimization tools in Matlab/Python for engineering problems is a plus\\nFamiliarity with Statistical analysis, regression, classification is a plus\\nStrong engineering fundamentals\\nFamiliarity with Oil and Gas Industry is plus\\nAbility to formulate complex problems in a solvable way\\nSoftware Skills\\nCompetent to expert level programming experience\\nBackground in C/C++/Python or Matlab as well as Object oriented programming\\nPrior knowledge of commercial software development and/or experience in commercial software teams is a plus\\nSoftware testing and development practices (Agile, etc.) is a plus\\nStrong communication and interpersonal skill\\n\\nJob Segment: \\nDatabase, Scientific, Engineer, Testing, Mechanical Engineer, Engineering, Technology\\nRoleDesign Engineer\\nIndustry TypePower\\nFunctional AreaEngineering Design, R&D\\nEmployment TypeFull Time, Permanent\\nRole CategoryEngineering Design\\nEducation\\nUG :B.Tech/B.E. in Any Specialization\\nPG :Any Postgraduate\\nKey Skills\\nData ScienceData ScientistC + +Mechanical EngineeringChemical EngineeringMachine LearningDeep LearningPythonMatlabMechanical Engineer',\n",
       " 'Job description\\nRoles and Responsibilities\\nInteract with various business heads and function heads to get a detailed understanding of process flows and tracked metrics under their respective verticals\\nSynthesize and communicate main findings and conclusions through business review meetings in a way that these serve as helpful input for the leadership\\nIdeate and continuously refine comprehensive models and help construct dashboards and reports for various verticals\\nBuild comprehensive models to identify and track key levers of business performance\\nDesign visuals to effectively represent the data models and analyses to provide a clear structure for decision making\\nDrive adoption and deploy change management initiatives for higher usage of business analytics tools\\nDevelop statistical and machine-learning models towards estimation and classification of clinical variables.\\nDevelop computer vision algorithms on medical imaging data with image processing and deep learning/neural networks techniques towards image segmentation, image classification and 3D reconstruction.\\nDevelop NLP algorithms to classify and summarize structured/unstructured text data\\nThe candidate will interact with clinicians and other functional experts to develop a reasonable understanding of the underlying clinical/business concepts for the given problem domain. The candidate will then conceive, develop, deploy, validate and evaluate models to accurately reflect the underlying concept.\\n\\n\\n\\n\\n\\nRoleBusiness Analyst\\nIndustry TypeMedical Services / Hospital\\nFunctional AreaAnalytics & Business Intelligence\\nEmployment TypeFull Time, Permanent\\nRole CategoryAnalytics & BI\\nEducation\\nUG :Any Graduate\\nPG :Post Graduation Not Required\\nDoctorate :Doctorate Not Required\\nKey Skills\\nChange ManagementNLPAlgorithmsBusiness AnalyticsImage ProcessingNeural Networksdata scientistMedical ImagingComputer VisionDeep Learning',\n",
       " 'Job description\\nexp in advanced analytics, model building, statistical modeling, Solid technical / data-mining skills to work with large volumes of data; extract and manipulate large datasets using tools Python and SQL other programming/scripting languages\\nRoleSoftware Developer\\nIndustry TypeIT Services & Consulting\\nFunctional AreaIT Software - Application Programming, Maintenance\\nEmployment TypeFull Time, Permanent\\nRole CategoryProgramming & Design\\nEducation\\nUG :Any Graduate\\nKey Skills\\npipelinepredictive AnalyticsStatistical modelingData ScientistData MiningData Extractionmodel buildingNOSQLCredit Risk AnalysisPythonstatistics',\n",
       " 'Job description\\n\\n\\nJob Description\\nContribute and build an internal product library that is focused on solving business problems related to prediction recommendation.\\nResearch unfamiliar methodologies, techniques to fine tune existing models in the product suite and, recommend better solutions and/or technologies.\\nImprove features of the AIQ product to include newer machine learning algorithms in the likes of product recommendation, real time predictions, fraud detection, offer personalization etc\\nCollaborate with client teams to on-board data, build models and score predictions.\\nParticipate in building automations and standalone applications around machine learning algorithms to enable a One Click solution to getting predictions and recommendations.\\nAnalyze large datasets, perform data wrangling operations, apply statistical treatments to filter and fine tune input data, engineer new features and eventually aid the process of building machine learning models.\\nRun test cases to tune existing models for performance, check criteria and define thresholds for success by scaling the input data to multifold.\\nDemonstrate a basic understanding of different machine learning concepts such as Regression, Matrix Factorization, K-fold Validations and different algorithms such as Decision Trees, Random Forrest, K-means clustering.\\n\\n\\n\\n\\nQualifications\\nBachelor s degree in a quantitative discipline (e.g., Statistics, Economics, Mathematics, Marketing Analytics) or significant relevant coursework\\nAdvanced degree (Master s/PhD) in Statistics, Econom\\nRoleResearch Scientist\\nIndustry TypeAdvertising & Marketing\\nFunctional AreaMedical, Healthcare, R&D, Pharmaceuticals, Biotechnology\\nEmployment TypeFull Time, Permanent\\nRole CategoryR&D\\nEducation\\nUG :Any Graduate\\nPG :Post Graduation Not Required\\nKey Skills\\nLogistic regressiondeep learningGITNeural networksMachine learninglinear regressionTest casesbig dataAWSPython']"
      ]
     },
     "execution_count": 232,
     "metadata": {},
     "output_type": "execute_result"
    }
   ],
   "source": [
    "job_description"
   ]
  },
  {
   "cell_type": "code",
   "execution_count": 233,
   "metadata": {},
   "outputs": [
    {
     "data": {
      "text/plain": [
       "['Bangalore/Bengaluru',\n",
       " '-',\n",
       " 'Bangalore/Bengaluru',\n",
       " '-',\n",
       " 'Bangalore/Bengaluru',\n",
       " '-',\n",
       " 'Mumbai, Bangalore/Bengaluru, Delhi NCR',\n",
       " '-',\n",
       " 'Bangalore/Bengaluru',\n",
       " '-',\n",
       " 'Bangalore/Bengaluru',\n",
       " '-',\n",
       " 'Bangalore/Bengaluru',\n",
       " '-',\n",
       " 'Bangalore/Bengaluru',\n",
       " '-',\n",
       " 'Hyderabad/Secunderabad, Chennai, Bangalore/Bengaluru',\n",
       " '-',\n",
       " 'Bangalore/Bengaluru',\n",
       " '-']"
      ]
     },
     "execution_count": 233,
     "metadata": {},
     "output_type": "execute_result"
    }
   ],
   "source": [
    "job_location"
   ]
  },
  {
   "cell_type": "code",
   "execution_count": 257,
   "metadata": {},
   "outputs": [
    {
     "data": {
      "text/plain": [
       "['Evalueserve.com Pvt. Ltd3.4(412 Reviews)',\n",
       " 'Evalueserve.com Pvt. Ltd3.4(412 Reviews)',\n",
       " 'Evalueserve.com Pvt. Ltd3.4(412 Reviews)',\n",
       " 'Superior Group4.6(14 Reviews)',\n",
       " 'Cognizer India Private Limited',\n",
       " 'Zycus Infotech Pvt Ltd3.2(174 Reviews)',\n",
       " 'TransOrg Solutions Services (P) Ltd.',\n",
       " 'Confidential',\n",
       " 'TalentCo Search Pvt Ltd',\n",
       " 'Evalueserve.com Pvt. Ltd3.4(412 Reviews)',\n",
       " 'Superior Group4.6(14 Reviews)',\n",
       " 'Cognizer India Private Limited',\n",
       " 'Zycus Infotech Pvt Ltd3.2(174 Reviews)',\n",
       " 'TransOrg Solutions Services (P) Ltd.',\n",
       " 'Confidential',\n",
       " 'TalentCo Search Pvt Ltd']"
      ]
     },
     "execution_count": 257,
     "metadata": {},
     "output_type": "execute_result"
    }
   ],
   "source": [
    "company_name"
   ]
  },
  {
   "cell_type": "code",
   "execution_count": 258,
   "metadata": {},
   "outputs": [
    {
     "data": {
      "text/plain": [
       "['Evalueserve.com Pvt. Ltd3.4(412 Reviews)',\n",
       " '2 - 7 years',\n",
       " '2 - 7 years',\n",
       " '-',\n",
       " '6 - 11 years',\n",
       " '-',\n",
       " '-',\n",
       " '5 - 10 years',\n",
       " '14 - 16 years',\n",
       " '4 - 6 years',\n",
       " '6 - 9 years',\n",
       " '6 - 10 years',\n",
       " '2 - 7 years',\n",
       " '-',\n",
       " '6 - 11 years',\n",
       " '-',\n",
       " '-',\n",
       " '5 - 10 years',\n",
       " '14 - 16 years',\n",
       " '4 - 6 years',\n",
       " '6 - 9 years',\n",
       " '6 - 10 years']"
      ]
     },
     "execution_count": 258,
     "metadata": {},
     "output_type": "execute_result"
    }
   ],
   "source": [
    "experience_required"
   ]
  },
  {
   "cell_type": "code",
   "execution_count": null,
   "metadata": {},
   "outputs": [],
   "source": []
  }
 ],
 "metadata": {
  "kernelspec": {
   "display_name": "Python 3",
   "language": "python",
   "name": "python3"
  },
  "language_info": {
   "codemirror_mode": {
    "name": "ipython",
    "version": 3
   },
   "file_extension": ".py",
   "mimetype": "text/x-python",
   "name": "python",
   "nbconvert_exporter": "python",
   "pygments_lexer": "ipython3",
   "version": "3.8.5"
  }
 },
 "nbformat": 4,
 "nbformat_minor": 4
}
