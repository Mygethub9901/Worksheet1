{
 "cells": [
  {
   "cell_type": "code",
   "execution_count": 468,
   "metadata": {},
   "outputs": [
    {
     "name": "stdout",
     "output_type": "stream",
     "text": [
      "Requirement already satisfied: selenium in c:\\users\\ankita\\anaconda3\\lib\\site-packages (3.141.0)\n",
      "Requirement already satisfied: urllib3 in c:\\users\\ankita\\anaconda3\\lib\\site-packages (from selenium) (1.25.11)\n"
     ]
    }
   ],
   "source": [
    "!pip install selenium"
   ]
  },
  {
   "cell_type": "markdown",
   "metadata": {},
   "source": [
    "install the selenium driver"
   ]
  },
  {
   "cell_type": "code",
   "execution_count": 469,
   "metadata": {},
   "outputs": [],
   "source": [
    "import selenium\n",
    "import pandas as pd\n",
    "from selenium import webdriver"
   ]
  },
  {
   "cell_type": "markdown",
   "metadata": {},
   "source": [
    "import files and driver"
   ]
  },
  {
   "cell_type": "code",
   "execution_count": 472,
   "metadata": {},
   "outputs": [],
   "source": [
    "driver = webdriver.Chrome(r\"C:\\Users\\Ankita\\Downloads\\chromedriver_win32\\chromedriver.exe\")"
   ]
  },
  {
   "cell_type": "markdown",
   "metadata": {},
   "source": [
    "call chrome driver link"
   ]
  },
  {
   "cell_type": "markdown",
   "metadata": {},
   "source": [
    "Q1: Write a python program to scrape data for “Data Analyst” Job position in \n",
    "“Bangalore” location. You have to scrape the job-title, job-location, company_name,\n",
    "experience_required. You have to scrape first 10 jobs data."
   ]
  },
  {
   "cell_type": "code",
   "execution_count": 473,
   "metadata": {},
   "outputs": [],
   "source": [
    "url = 'https://www.naukri.com/jobs-in-india'\n",
    "driver.get(url)"
   ]
  },
  {
   "cell_type": "markdown",
   "metadata": {},
   "source": [
    "scrape naukari url"
   ]
  },
  {
   "cell_type": "code",
   "execution_count": 474,
   "metadata": {},
   "outputs": [
    {
     "data": {
      "text/plain": [
       "<selenium.webdriver.remote.webelement.WebElement (session=\"d32e3d96e6caa2ea6e87f059cded0181\", element=\"611929b3-69b2-4d1c-b9cc-2259874af952\")>"
      ]
     },
     "execution_count": 474,
     "metadata": {},
     "output_type": "execute_result"
    }
   ],
   "source": [
    "search_btn = driver.find_element_by_xpath(\"//span[@class='quick-search-bar__view__modify-link']\")\n",
    "search_btn"
   ]
  },
  {
   "cell_type": "code",
   "execution_count": 475,
   "metadata": {},
   "outputs": [],
   "source": [
    "search_btn.click()"
   ]
  },
  {
   "cell_type": "markdown",
   "metadata": {},
   "source": [
    "click on modify button code"
   ]
  },
  {
   "cell_type": "code",
   "execution_count": 476,
   "metadata": {},
   "outputs": [
    {
     "data": {
      "text/plain": [
       "<selenium.webdriver.remote.webelement.WebElement (session=\"d32e3d96e6caa2ea6e87f059cded0181\", element=\"a5abc3cc-5b48-4eb0-a120-b0df2aad1ec1\")>"
      ]
     },
     "execution_count": 476,
     "metadata": {},
     "output_type": "execute_result"
    }
   ],
   "source": [
    "search_job = driver.find_element_by_id('qsb-keyword-sugg')\n",
    "search_job"
   ]
  },
  {
   "cell_type": "code",
   "execution_count": 477,
   "metadata": {},
   "outputs": [],
   "source": [
    "search_job.send_keys(\"Data Analyst\")"
   ]
  },
  {
   "cell_type": "markdown",
   "metadata": {},
   "source": [
    "search button access code and enter Data Analyst in search field"
   ]
  },
  {
   "cell_type": "code",
   "execution_count": 478,
   "metadata": {},
   "outputs": [],
   "source": [
    "search_loc = driver.find_element_by_id('qsb-location-sugg')\n",
    "search_loc.send_keys(\"Bangalore\")"
   ]
  },
  {
   "cell_type": "markdown",
   "metadata": {},
   "source": [
    "Enter Bangalore in location field"
   ]
  },
  {
   "cell_type": "code",
   "execution_count": 479,
   "metadata": {},
   "outputs": [
    {
     "data": {
      "text/plain": [
       "<selenium.webdriver.remote.webelement.WebElement (session=\"d32e3d96e6caa2ea6e87f059cded0181\", element=\"682bb631-db6e-43b4-8317-56eec8296364\")>"
      ]
     },
     "execution_count": 479,
     "metadata": {},
     "output_type": "execute_result"
    }
   ],
   "source": [
    "search_btn = driver.find_element_by_xpath(\"//button[@class='btn-primary']\")\n",
    "search_btn"
   ]
  },
  {
   "cell_type": "code",
   "execution_count": 480,
   "metadata": {},
   "outputs": [],
   "source": [
    "search_btn.click()"
   ]
  },
  {
   "cell_type": "markdown",
   "metadata": {},
   "source": [
    "click on search button"
   ]
  },
  {
   "cell_type": "code",
   "execution_count": 481,
   "metadata": {},
   "outputs": [
    {
     "data": {
      "text/plain": [
       "[<selenium.webdriver.remote.webelement.WebElement (session=\"d32e3d96e6caa2ea6e87f059cded0181\", element=\"c3c084e6-a36f-4d1e-bbac-a676f75e7449\")>,\n",
       " <selenium.webdriver.remote.webelement.WebElement (session=\"d32e3d96e6caa2ea6e87f059cded0181\", element=\"dbf62295-c7b0-4298-9f98-ec6e0d337cea\")>,\n",
       " <selenium.webdriver.remote.webelement.WebElement (session=\"d32e3d96e6caa2ea6e87f059cded0181\", element=\"60c380f5-67d8-4547-b3d1-bc3d44c784a4\")>,\n",
       " <selenium.webdriver.remote.webelement.WebElement (session=\"d32e3d96e6caa2ea6e87f059cded0181\", element=\"bfebef98-78ea-4782-b59f-772be3fc51ce\")>,\n",
       " <selenium.webdriver.remote.webelement.WebElement (session=\"d32e3d96e6caa2ea6e87f059cded0181\", element=\"69591ac9-df3a-418e-abf6-f0d943084af3\")>,\n",
       " <selenium.webdriver.remote.webelement.WebElement (session=\"d32e3d96e6caa2ea6e87f059cded0181\", element=\"c157b3e4-1ab1-4907-8ce1-19282045a209\")>,\n",
       " <selenium.webdriver.remote.webelement.WebElement (session=\"d32e3d96e6caa2ea6e87f059cded0181\", element=\"a3551f1c-1bf6-4cd2-8a29-7c915b12d53a\")>,\n",
       " <selenium.webdriver.remote.webelement.WebElement (session=\"d32e3d96e6caa2ea6e87f059cded0181\", element=\"ebd1a93f-3017-4af1-882a-9f184f546105\")>,\n",
       " <selenium.webdriver.remote.webelement.WebElement (session=\"d32e3d96e6caa2ea6e87f059cded0181\", element=\"9876b7e6-3cca-4136-8909-58f0d4e461c8\")>,\n",
       " <selenium.webdriver.remote.webelement.WebElement (session=\"d32e3d96e6caa2ea6e87f059cded0181\", element=\"7cfb9ba1-129b-4744-84e7-a5e9c99c2d07\")>,\n",
       " <selenium.webdriver.remote.webelement.WebElement (session=\"d32e3d96e6caa2ea6e87f059cded0181\", element=\"893bdb78-ac56-4a2f-94dc-688f59c08426\")>,\n",
       " <selenium.webdriver.remote.webelement.WebElement (session=\"d32e3d96e6caa2ea6e87f059cded0181\", element=\"87dbf861-b761-4b52-9f83-68d45c3c1568\")>,\n",
       " <selenium.webdriver.remote.webelement.WebElement (session=\"d32e3d96e6caa2ea6e87f059cded0181\", element=\"c86e64c3-7f7e-4335-893f-65072b606dd1\")>,\n",
       " <selenium.webdriver.remote.webelement.WebElement (session=\"d32e3d96e6caa2ea6e87f059cded0181\", element=\"6e1e024c-8d03-4533-8845-9e13008a85e6\")>,\n",
       " <selenium.webdriver.remote.webelement.WebElement (session=\"d32e3d96e6caa2ea6e87f059cded0181\", element=\"66a206d8-20e9-41c8-bb89-de725e4b06c7\")>,\n",
       " <selenium.webdriver.remote.webelement.WebElement (session=\"d32e3d96e6caa2ea6e87f059cded0181\", element=\"3bee4e0f-1fcd-4251-8ad5-b180ebe1171f\")>,\n",
       " <selenium.webdriver.remote.webelement.WebElement (session=\"d32e3d96e6caa2ea6e87f059cded0181\", element=\"355e0a4d-19bd-4c73-af89-39faf22c0a76\")>,\n",
       " <selenium.webdriver.remote.webelement.WebElement (session=\"d32e3d96e6caa2ea6e87f059cded0181\", element=\"9396cbf6-8128-44fd-9ce1-8abc6b28a0fb\")>,\n",
       " <selenium.webdriver.remote.webelement.WebElement (session=\"d32e3d96e6caa2ea6e87f059cded0181\", element=\"caa6bb2a-99f1-41d6-9499-10ef2966fb14\")>,\n",
       " <selenium.webdriver.remote.webelement.WebElement (session=\"d32e3d96e6caa2ea6e87f059cded0181\", element=\"9759ab68-b177-421c-8e44-041b9fee98ea\")>]"
      ]
     },
     "execution_count": 481,
     "metadata": {},
     "output_type": "execute_result"
    }
   ],
   "source": [
    "titles_tags=driver.find_elements_by_xpath(\"//a[@class='title fw500 ellipsis']\")\n",
    "titles_tags"
   ]
  },
  {
   "cell_type": "code",
   "execution_count": 483,
   "metadata": {},
   "outputs": [
    {
     "data": {
      "text/plain": [
       "['Business Data Analyst',\n",
       " 'Business Data Analyst',\n",
       " 'Data Analyst/Business Analyst-Gurgaon/Bangalore/Mumbai (only Females)',\n",
       " 'Senior Specialist - Data Analyst',\n",
       " 'Business/Data Analyst - SSE/LA',\n",
       " 'Business Data Analyst II',\n",
       " 'Data Analyst',\n",
       " 'Data Analyst',\n",
       " 'Senior Data Analyst',\n",
       " 'Data Analyst']"
      ]
     },
     "execution_count": 483,
     "metadata": {},
     "output_type": "execute_result"
    }
   ],
   "source": [
    "job_titles=[]\n",
    "for i in titles_tags[0:10]:\n",
    "    job_titles.append(i.text)\n",
    "job_titles"
   ]
  },
  {
   "cell_type": "markdown",
   "metadata": {},
   "source": [
    "scrape job titles code"
   ]
  },
  {
   "cell_type": "code",
   "execution_count": 484,
   "metadata": {},
   "outputs": [
    {
     "data": {
      "text/plain": [
       "[<selenium.webdriver.remote.webelement.WebElement (session=\"d32e3d96e6caa2ea6e87f059cded0181\", element=\"e99f6ab3-e887-4e60-bcc4-41cfdee3c703\")>,\n",
       " <selenium.webdriver.remote.webelement.WebElement (session=\"d32e3d96e6caa2ea6e87f059cded0181\", element=\"be60ef11-be83-41e5-affe-4ed72c427266\")>,\n",
       " <selenium.webdriver.remote.webelement.WebElement (session=\"d32e3d96e6caa2ea6e87f059cded0181\", element=\"7adccec3-6781-488e-ac17-97bde932f2b8\")>,\n",
       " <selenium.webdriver.remote.webelement.WebElement (session=\"d32e3d96e6caa2ea6e87f059cded0181\", element=\"3ff22266-d1e8-4580-be0f-d512a6c4757b\")>,\n",
       " <selenium.webdriver.remote.webelement.WebElement (session=\"d32e3d96e6caa2ea6e87f059cded0181\", element=\"03f995b2-8511-48a2-a7d5-2c35bf6442ae\")>,\n",
       " <selenium.webdriver.remote.webelement.WebElement (session=\"d32e3d96e6caa2ea6e87f059cded0181\", element=\"fb18ab8c-bf9c-4c32-8fd5-ba2165a3fb57\")>,\n",
       " <selenium.webdriver.remote.webelement.WebElement (session=\"d32e3d96e6caa2ea6e87f059cded0181\", element=\"5b0dc994-6954-4525-b2bd-4dc03b9e130c\")>,\n",
       " <selenium.webdriver.remote.webelement.WebElement (session=\"d32e3d96e6caa2ea6e87f059cded0181\", element=\"0e57f3dd-53da-4561-a1e0-2caea656ddf5\")>,\n",
       " <selenium.webdriver.remote.webelement.WebElement (session=\"d32e3d96e6caa2ea6e87f059cded0181\", element=\"20f9998f-b296-4bda-b684-eacdd4259512\")>,\n",
       " <selenium.webdriver.remote.webelement.WebElement (session=\"d32e3d96e6caa2ea6e87f059cded0181\", element=\"48e14354-c2fd-45f6-b0c9-f6f45f34ef9c\")>,\n",
       " <selenium.webdriver.remote.webelement.WebElement (session=\"d32e3d96e6caa2ea6e87f059cded0181\", element=\"79279646-b419-4711-8429-a0b81c7fe20b\")>,\n",
       " <selenium.webdriver.remote.webelement.WebElement (session=\"d32e3d96e6caa2ea6e87f059cded0181\", element=\"c97cb0ac-8784-4f32-8f34-e5592453b169\")>,\n",
       " <selenium.webdriver.remote.webelement.WebElement (session=\"d32e3d96e6caa2ea6e87f059cded0181\", element=\"8e41b9a4-535a-4ed9-9f49-1c1e26593801\")>,\n",
       " <selenium.webdriver.remote.webelement.WebElement (session=\"d32e3d96e6caa2ea6e87f059cded0181\", element=\"7a7cb702-05dd-4069-8725-25f250c750ed\")>,\n",
       " <selenium.webdriver.remote.webelement.WebElement (session=\"d32e3d96e6caa2ea6e87f059cded0181\", element=\"6dc4bb94-a775-4c19-9c98-db644b321e87\")>,\n",
       " <selenium.webdriver.remote.webelement.WebElement (session=\"d32e3d96e6caa2ea6e87f059cded0181\", element=\"8abd1e93-9447-47ae-874e-31c961c90a51\")>,\n",
       " <selenium.webdriver.remote.webelement.WebElement (session=\"d32e3d96e6caa2ea6e87f059cded0181\", element=\"e605a780-0390-446c-b9dd-95b9d06fbca6\")>,\n",
       " <selenium.webdriver.remote.webelement.WebElement (session=\"d32e3d96e6caa2ea6e87f059cded0181\", element=\"c3e8517b-bc5c-4664-8352-959d0a7dfb5b\")>,\n",
       " <selenium.webdriver.remote.webelement.WebElement (session=\"d32e3d96e6caa2ea6e87f059cded0181\", element=\"8c6519e0-8beb-40dd-858b-cbcc0139ba2a\")>,\n",
       " <selenium.webdriver.remote.webelement.WebElement (session=\"d32e3d96e6caa2ea6e87f059cded0181\", element=\"b46b6484-2946-43e2-bab5-dc9c6bdfdb6f\")>]"
      ]
     },
     "execution_count": 484,
     "metadata": {},
     "output_type": "execute_result"
    }
   ],
   "source": [
    "companies_tags=driver.find_elements_by_xpath(\"//a[@class='subTitle ellipsis fleft']\")\n",
    "companies_tags\n"
   ]
  },
  {
   "cell_type": "code",
   "execution_count": 485,
   "metadata": {},
   "outputs": [
    {
     "data": {
      "text/plain": [
       "['Trigent Software',\n",
       " 'Trigent Software',\n",
       " 'India Medtronic Pvt. Ltd,.',\n",
       " 'Philips India Limited',\n",
       " 'CGI Information Systems and Management Consultants',\n",
       " 'Infobahn Softworld Inc.',\n",
       " 'WEIWO Communication Pvt. Ltd.',\n",
       " 'GCC SERVICES INDIA PRIVATE LIMITED',\n",
       " 'SMEDC SERVICES PRIVATE LIMITED',\n",
       " 'Allegis Services India Pvt. Ltd.']"
      ]
     },
     "execution_count": 485,
     "metadata": {},
     "output_type": "execute_result"
    }
   ],
   "source": [
    "company_names=[]\n",
    "for i in companies_tags[0:10]:\n",
    "    company_names.append(i.text)\n",
    "company_names"
   ]
  },
  {
   "cell_type": "markdown",
   "metadata": {},
   "source": [
    "scrape company names code"
   ]
  },
  {
   "cell_type": "code",
   "execution_count": 486,
   "metadata": {},
   "outputs": [
    {
     "data": {
      "text/plain": [
       "[<selenium.webdriver.remote.webelement.WebElement (session=\"d32e3d96e6caa2ea6e87f059cded0181\", element=\"fb8b0094-d7a9-4603-a582-92c641a670cd\")>,\n",
       " <selenium.webdriver.remote.webelement.WebElement (session=\"d32e3d96e6caa2ea6e87f059cded0181\", element=\"2816c41c-0fca-4c65-b649-64b140577fad\")>,\n",
       " <selenium.webdriver.remote.webelement.WebElement (session=\"d32e3d96e6caa2ea6e87f059cded0181\", element=\"e9fdaeec-0a94-47fb-94e4-0262fd8de731\")>,\n",
       " <selenium.webdriver.remote.webelement.WebElement (session=\"d32e3d96e6caa2ea6e87f059cded0181\", element=\"0058548d-ddc0-46d2-ba99-ed5c8b86932f\")>,\n",
       " <selenium.webdriver.remote.webelement.WebElement (session=\"d32e3d96e6caa2ea6e87f059cded0181\", element=\"7b64a91e-bbf0-4aed-9373-abc1e71df733\")>,\n",
       " <selenium.webdriver.remote.webelement.WebElement (session=\"d32e3d96e6caa2ea6e87f059cded0181\", element=\"b53f24cc-84d0-4745-aa95-ff5d80a31f59\")>,\n",
       " <selenium.webdriver.remote.webelement.WebElement (session=\"d32e3d96e6caa2ea6e87f059cded0181\", element=\"671e75c5-7a43-4d0c-82d5-2e46a1cce81d\")>,\n",
       " <selenium.webdriver.remote.webelement.WebElement (session=\"d32e3d96e6caa2ea6e87f059cded0181\", element=\"96a362a8-a978-4dbd-9357-4c8cd4c905ea\")>,\n",
       " <selenium.webdriver.remote.webelement.WebElement (session=\"d32e3d96e6caa2ea6e87f059cded0181\", element=\"77a6d166-89ec-4991-b958-1c10ea762457\")>,\n",
       " <selenium.webdriver.remote.webelement.WebElement (session=\"d32e3d96e6caa2ea6e87f059cded0181\", element=\"62b4a3f5-e62f-4ca0-ba44-46078072da09\")>,\n",
       " <selenium.webdriver.remote.webelement.WebElement (session=\"d32e3d96e6caa2ea6e87f059cded0181\", element=\"72f32cb1-d753-461d-a4bc-21617b9e65fb\")>,\n",
       " <selenium.webdriver.remote.webelement.WebElement (session=\"d32e3d96e6caa2ea6e87f059cded0181\", element=\"c01ba717-fcc1-4ce8-b7d0-7ed94d3c0469\")>,\n",
       " <selenium.webdriver.remote.webelement.WebElement (session=\"d32e3d96e6caa2ea6e87f059cded0181\", element=\"0dccc2f6-39e0-4aa8-a82f-c59e7240bb15\")>,\n",
       " <selenium.webdriver.remote.webelement.WebElement (session=\"d32e3d96e6caa2ea6e87f059cded0181\", element=\"5ec892f8-f208-4401-860c-c6d74014e898\")>,\n",
       " <selenium.webdriver.remote.webelement.WebElement (session=\"d32e3d96e6caa2ea6e87f059cded0181\", element=\"d06e3332-2277-46b2-80b4-32417edfb5fb\")>,\n",
       " <selenium.webdriver.remote.webelement.WebElement (session=\"d32e3d96e6caa2ea6e87f059cded0181\", element=\"fa594fb8-880f-44aa-afcf-4a8d7b320c3c\")>,\n",
       " <selenium.webdriver.remote.webelement.WebElement (session=\"d32e3d96e6caa2ea6e87f059cded0181\", element=\"364aa153-fe5f-4477-8029-8207fefedf3f\")>,\n",
       " <selenium.webdriver.remote.webelement.WebElement (session=\"d32e3d96e6caa2ea6e87f059cded0181\", element=\"cfdecf64-40fa-458b-b62f-d567e643b775\")>,\n",
       " <selenium.webdriver.remote.webelement.WebElement (session=\"d32e3d96e6caa2ea6e87f059cded0181\", element=\"83d2ca51-390b-4dfa-b68c-cf53f4b138a5\")>,\n",
       " <selenium.webdriver.remote.webelement.WebElement (session=\"d32e3d96e6caa2ea6e87f059cded0181\", element=\"e9614b0b-ac0b-4fc6-a543-d048a7fb4725\")>]"
      ]
     },
     "execution_count": 486,
     "metadata": {},
     "output_type": "execute_result"
    }
   ],
   "source": [
    "experience_tags=driver.find_elements_by_xpath(\"//li[@class='fleft grey-text br2 placeHolderLi experience']//span\")\n",
    "experience_tags"
   ]
  },
  {
   "cell_type": "code",
   "execution_count": 487,
   "metadata": {},
   "outputs": [
    {
     "data": {
      "text/plain": [
       "['3-5 Yrs',\n",
       " '3-5 Yrs',\n",
       " '1-4 Yrs',\n",
       " '4-8 Yrs',\n",
       " '2-5 Yrs',\n",
       " '5-8 Yrs',\n",
       " '4-8 Yrs',\n",
       " '5-9 Yrs',\n",
       " '5-8 Yrs',\n",
       " '2-5 Yrs']"
      ]
     },
     "execution_count": 487,
     "metadata": {},
     "output_type": "execute_result"
    }
   ],
   "source": [
    "experience_required=[]\n",
    "for i in experience_tags[0:10]:\n",
    "    experience_required.append(i.text)\n",
    "experience_required"
   ]
  },
  {
   "cell_type": "markdown",
   "metadata": {},
   "source": [
    "scrape exeperience information code"
   ]
  },
  {
   "cell_type": "code",
   "execution_count": 488,
   "metadata": {},
   "outputs": [
    {
     "data": {
      "text/plain": [
       "[<selenium.webdriver.remote.webelement.WebElement (session=\"d32e3d96e6caa2ea6e87f059cded0181\", element=\"f5bc6021-4c51-431a-9ba9-c1bd3deb1bee\")>,\n",
       " <selenium.webdriver.remote.webelement.WebElement (session=\"d32e3d96e6caa2ea6e87f059cded0181\", element=\"49b0d698-de0a-4362-aa61-88408cfdc7b6\")>,\n",
       " <selenium.webdriver.remote.webelement.WebElement (session=\"d32e3d96e6caa2ea6e87f059cded0181\", element=\"120d1f14-9144-47eb-9a3c-fe9b18747ba7\")>,\n",
       " <selenium.webdriver.remote.webelement.WebElement (session=\"d32e3d96e6caa2ea6e87f059cded0181\", element=\"82f0bfca-a476-49eb-832b-12c059556654\")>,\n",
       " <selenium.webdriver.remote.webelement.WebElement (session=\"d32e3d96e6caa2ea6e87f059cded0181\", element=\"357c4e20-4711-48ec-9146-c4edea84da3c\")>,\n",
       " <selenium.webdriver.remote.webelement.WebElement (session=\"d32e3d96e6caa2ea6e87f059cded0181\", element=\"5ef664a8-6446-43e3-a990-cecd2c54e64e\")>,\n",
       " <selenium.webdriver.remote.webelement.WebElement (session=\"d32e3d96e6caa2ea6e87f059cded0181\", element=\"c6dd3238-61e3-43df-b67f-7202cc1e3053\")>,\n",
       " <selenium.webdriver.remote.webelement.WebElement (session=\"d32e3d96e6caa2ea6e87f059cded0181\", element=\"7a8cd1d9-9448-4626-8ffd-73f9b6ee3dc8\")>,\n",
       " <selenium.webdriver.remote.webelement.WebElement (session=\"d32e3d96e6caa2ea6e87f059cded0181\", element=\"604a3f48-31a9-46eb-8949-aa54fb403cc9\")>,\n",
       " <selenium.webdriver.remote.webelement.WebElement (session=\"d32e3d96e6caa2ea6e87f059cded0181\", element=\"3af2b8a9-823e-4a70-a480-b01befa76c3f\")>,\n",
       " <selenium.webdriver.remote.webelement.WebElement (session=\"d32e3d96e6caa2ea6e87f059cded0181\", element=\"54c78464-3999-4d27-9521-3551b2409a17\")>,\n",
       " <selenium.webdriver.remote.webelement.WebElement (session=\"d32e3d96e6caa2ea6e87f059cded0181\", element=\"033628aa-7f39-4617-856c-67a619a02405\")>,\n",
       " <selenium.webdriver.remote.webelement.WebElement (session=\"d32e3d96e6caa2ea6e87f059cded0181\", element=\"49959539-690a-4a38-a6e8-0d27faa4e45b\")>,\n",
       " <selenium.webdriver.remote.webelement.WebElement (session=\"d32e3d96e6caa2ea6e87f059cded0181\", element=\"95f930ec-b376-4dfb-b14c-429a9d8a1f41\")>,\n",
       " <selenium.webdriver.remote.webelement.WebElement (session=\"d32e3d96e6caa2ea6e87f059cded0181\", element=\"b3eeb622-3334-4a07-9107-2c87019b7d14\")>,\n",
       " <selenium.webdriver.remote.webelement.WebElement (session=\"d32e3d96e6caa2ea6e87f059cded0181\", element=\"ac3f7742-4375-46bb-be39-02b8fe1ee95f\")>,\n",
       " <selenium.webdriver.remote.webelement.WebElement (session=\"d32e3d96e6caa2ea6e87f059cded0181\", element=\"39467f02-f565-4260-a26d-4b5f13b927bd\")>,\n",
       " <selenium.webdriver.remote.webelement.WebElement (session=\"d32e3d96e6caa2ea6e87f059cded0181\", element=\"708bb29c-cf9a-4add-b149-14bccbc58e89\")>,\n",
       " <selenium.webdriver.remote.webelement.WebElement (session=\"d32e3d96e6caa2ea6e87f059cded0181\", element=\"c31ac714-b541-4c81-9140-decc55d31286\")>,\n",
       " <selenium.webdriver.remote.webelement.WebElement (session=\"d32e3d96e6caa2ea6e87f059cded0181\", element=\"7de63bea-0520-4904-8486-57c40c5c7a10\")>]"
      ]
     },
     "execution_count": 488,
     "metadata": {},
     "output_type": "execute_result"
    }
   ],
   "source": [
    "locations_tags=driver.find_elements_by_xpath(\"//li[@class='fleft grey-text br2 placeHolderLi location']//span[1]\")\n",
    "locations_tags"
   ]
  },
  {
   "cell_type": "code",
   "execution_count": 489,
   "metadata": {},
   "outputs": [
    {
     "data": {
      "text/plain": [
       "['Bangalore/Bengaluru',\n",
       " 'Bangalore/Bengaluru',\n",
       " 'Gurgaon/Gurugram, Bangalore/Bengaluru, Mumbai (All Areas)',\n",
       " 'Bangalore/Bengaluru',\n",
       " 'Bangalore/Bengaluru',\n",
       " 'Bangalore/Bengaluru',\n",
       " 'Bangalore/Bengaluru(Ulsoor)',\n",
       " 'Bangalore/Bengaluru',\n",
       " 'Bangalore/Bengaluru',\n",
       " 'Bangalore/Bengaluru']"
      ]
     },
     "execution_count": 489,
     "metadata": {},
     "output_type": "execute_result"
    }
   ],
   "source": [
    "locations_list=[]\n",
    "for i in locations_tags[0:10]:\n",
    "    locations_list.append(i.text)\n",
    "locations_list"
   ]
  },
  {
   "cell_type": "markdown",
   "metadata": {},
   "source": [
    "scrape location information code"
   ]
  },
  {
   "cell_type": "code",
   "execution_count": 490,
   "metadata": {},
   "outputs": [
    {
     "name": "stdout",
     "output_type": "stream",
     "text": [
      "10 10 10 10\n"
     ]
    }
   ],
   "source": [
    "print(len(job_titles),len(company_names),len(experience_required),len(locations_list))"
   ]
  },
  {
   "cell_type": "markdown",
   "metadata": {},
   "source": [
    "count the scrap data code"
   ]
  },
  {
   "cell_type": "code",
   "execution_count": 491,
   "metadata": {},
   "outputs": [],
   "source": [
    "#import pandas as pd\n",
    "jobs=pd.DataFrame({})\n",
    "jobs['title']=job_titles\n",
    "jobs['company']=company_names\n",
    "jobs['experience_required']=experience_required\n",
    "jobs['location']=locations_list"
   ]
  },
  {
   "cell_type": "code",
   "execution_count": 492,
   "metadata": {},
   "outputs": [
    {
     "data": {
      "text/html": [
       "<div>\n",
       "<style scoped>\n",
       "    .dataframe tbody tr th:only-of-type {\n",
       "        vertical-align: middle;\n",
       "    }\n",
       "\n",
       "    .dataframe tbody tr th {\n",
       "        vertical-align: top;\n",
       "    }\n",
       "\n",
       "    .dataframe thead th {\n",
       "        text-align: right;\n",
       "    }\n",
       "</style>\n",
       "<table border=\"1\" class=\"dataframe\">\n",
       "  <thead>\n",
       "    <tr style=\"text-align: right;\">\n",
       "      <th></th>\n",
       "      <th>title</th>\n",
       "      <th>company</th>\n",
       "      <th>experience_required</th>\n",
       "      <th>location</th>\n",
       "    </tr>\n",
       "  </thead>\n",
       "  <tbody>\n",
       "    <tr>\n",
       "      <th>0</th>\n",
       "      <td>Business Data Analyst</td>\n",
       "      <td>Trigent Software</td>\n",
       "      <td>3-5 Yrs</td>\n",
       "      <td>Bangalore/Bengaluru</td>\n",
       "    </tr>\n",
       "    <tr>\n",
       "      <th>1</th>\n",
       "      <td>Business Data Analyst</td>\n",
       "      <td>Trigent Software</td>\n",
       "      <td>3-5 Yrs</td>\n",
       "      <td>Bangalore/Bengaluru</td>\n",
       "    </tr>\n",
       "    <tr>\n",
       "      <th>2</th>\n",
       "      <td>Data Analyst/Business Analyst-Gurgaon/Bangalor...</td>\n",
       "      <td>India Medtronic Pvt. Ltd,.</td>\n",
       "      <td>1-4 Yrs</td>\n",
       "      <td>Gurgaon/Gurugram, Bangalore/Bengaluru, Mumbai ...</td>\n",
       "    </tr>\n",
       "    <tr>\n",
       "      <th>3</th>\n",
       "      <td>Senior Specialist - Data Analyst</td>\n",
       "      <td>Philips India Limited</td>\n",
       "      <td>4-8 Yrs</td>\n",
       "      <td>Bangalore/Bengaluru</td>\n",
       "    </tr>\n",
       "    <tr>\n",
       "      <th>4</th>\n",
       "      <td>Business/Data Analyst - SSE/LA</td>\n",
       "      <td>CGI Information Systems and Management Consult...</td>\n",
       "      <td>2-5 Yrs</td>\n",
       "      <td>Bangalore/Bengaluru</td>\n",
       "    </tr>\n",
       "    <tr>\n",
       "      <th>5</th>\n",
       "      <td>Business Data Analyst II</td>\n",
       "      <td>Infobahn Softworld Inc.</td>\n",
       "      <td>5-8 Yrs</td>\n",
       "      <td>Bangalore/Bengaluru</td>\n",
       "    </tr>\n",
       "    <tr>\n",
       "      <th>6</th>\n",
       "      <td>Data Analyst</td>\n",
       "      <td>WEIWO Communication Pvt. Ltd.</td>\n",
       "      <td>4-8 Yrs</td>\n",
       "      <td>Bangalore/Bengaluru(Ulsoor)</td>\n",
       "    </tr>\n",
       "    <tr>\n",
       "      <th>7</th>\n",
       "      <td>Data Analyst</td>\n",
       "      <td>GCC SERVICES INDIA PRIVATE LIMITED</td>\n",
       "      <td>5-9 Yrs</td>\n",
       "      <td>Bangalore/Bengaluru</td>\n",
       "    </tr>\n",
       "    <tr>\n",
       "      <th>8</th>\n",
       "      <td>Senior Data Analyst</td>\n",
       "      <td>SMEDC SERVICES PRIVATE LIMITED</td>\n",
       "      <td>5-8 Yrs</td>\n",
       "      <td>Bangalore/Bengaluru</td>\n",
       "    </tr>\n",
       "    <tr>\n",
       "      <th>9</th>\n",
       "      <td>Data Analyst</td>\n",
       "      <td>Allegis Services India Pvt. Ltd.</td>\n",
       "      <td>2-5 Yrs</td>\n",
       "      <td>Bangalore/Bengaluru</td>\n",
       "    </tr>\n",
       "  </tbody>\n",
       "</table>\n",
       "</div>"
      ],
      "text/plain": [
       "                                               title  \\\n",
       "0                              Business Data Analyst   \n",
       "1                              Business Data Analyst   \n",
       "2  Data Analyst/Business Analyst-Gurgaon/Bangalor...   \n",
       "3                   Senior Specialist - Data Analyst   \n",
       "4                     Business/Data Analyst - SSE/LA   \n",
       "5                           Business Data Analyst II   \n",
       "6                                       Data Analyst   \n",
       "7                                       Data Analyst   \n",
       "8                                Senior Data Analyst   \n",
       "9                                       Data Analyst   \n",
       "\n",
       "                                             company experience_required  \\\n",
       "0                                   Trigent Software             3-5 Yrs   \n",
       "1                                   Trigent Software             3-5 Yrs   \n",
       "2                         India Medtronic Pvt. Ltd,.             1-4 Yrs   \n",
       "3                              Philips India Limited             4-8 Yrs   \n",
       "4  CGI Information Systems and Management Consult...             2-5 Yrs   \n",
       "5                            Infobahn Softworld Inc.             5-8 Yrs   \n",
       "6                      WEIWO Communication Pvt. Ltd.             4-8 Yrs   \n",
       "7                 GCC SERVICES INDIA PRIVATE LIMITED             5-9 Yrs   \n",
       "8                     SMEDC SERVICES PRIVATE LIMITED             5-8 Yrs   \n",
       "9                   Allegis Services India Pvt. Ltd.             2-5 Yrs   \n",
       "\n",
       "                                            location  \n",
       "0                                Bangalore/Bengaluru  \n",
       "1                                Bangalore/Bengaluru  \n",
       "2  Gurgaon/Gurugram, Bangalore/Bengaluru, Mumbai ...  \n",
       "3                                Bangalore/Bengaluru  \n",
       "4                                Bangalore/Bengaluru  \n",
       "5                                Bangalore/Bengaluru  \n",
       "6                        Bangalore/Bengaluru(Ulsoor)  \n",
       "7                                Bangalore/Bengaluru  \n",
       "8                                Bangalore/Bengaluru  \n",
       "9                                Bangalore/Bengaluru  "
      ]
     },
     "execution_count": 492,
     "metadata": {},
     "output_type": "execute_result"
    }
   ],
   "source": [
    "jobs"
   ]
  },
  {
   "cell_type": "markdown",
   "metadata": {},
   "source": [
    "Create a dataframe of scrap data"
   ]
  },
  {
   "cell_type": "markdown",
   "metadata": {},
   "source": []
  },
  {
   "cell_type": "markdown",
   "metadata": {},
   "source": [
    "Q2: Write a python program to scrape data for “Data Scientist” Job position in \n",
    "“Bangalore” location. You have to scrape the job-title, job-location,\n",
    "company_name, full job-description. You have to scrape first 10 jobs data."
   ]
  },
  {
   "cell_type": "code",
   "execution_count": 525,
   "metadata": {},
   "outputs": [],
   "source": [
    "import selenium\n",
    "import pandas as pd\n",
    "from selenium import webdriver"
   ]
  },
  {
   "cell_type": "markdown",
   "metadata": {},
   "source": [
    "import files driver"
   ]
  },
  {
   "cell_type": "code",
   "execution_count": 526,
   "metadata": {},
   "outputs": [],
   "source": [
    "driver = webdriver.Chrome(r\"C:\\Users\\Ankita\\Downloads\\chromedriver_win32\\chromedriver.exe\")"
   ]
  },
  {
   "cell_type": "markdown",
   "metadata": {},
   "source": [
    "open chrome driver code"
   ]
  },
  {
   "cell_type": "code",
   "execution_count": 527,
   "metadata": {},
   "outputs": [],
   "source": [
    "url = 'https://www.naukri.com/jobs-in-india'\n",
    "driver.get(url)"
   ]
  },
  {
   "cell_type": "markdown",
   "metadata": {},
   "source": [
    "enter naukari url code"
   ]
  },
  {
   "cell_type": "code",
   "execution_count": 528,
   "metadata": {},
   "outputs": [
    {
     "data": {
      "text/plain": [
       "<selenium.webdriver.remote.webelement.WebElement (session=\"754c9c54a11900931e86891c3d8b37a3\", element=\"b9a7871d-debc-416d-b436-7ab1072377e2\")>"
      ]
     },
     "execution_count": 528,
     "metadata": {},
     "output_type": "execute_result"
    }
   ],
   "source": [
    "search_btn = driver.find_element_by_xpath(\"//span[@class='quick-search-bar__view__modify-link']\")\n",
    "search_btn"
   ]
  },
  {
   "cell_type": "code",
   "execution_count": 529,
   "metadata": {},
   "outputs": [],
   "source": [
    "search_btn.click()"
   ]
  },
  {
   "cell_type": "markdown",
   "metadata": {},
   "source": [
    "search button code"
   ]
  },
  {
   "cell_type": "code",
   "execution_count": 530,
   "metadata": {},
   "outputs": [
    {
     "data": {
      "text/plain": [
       "<selenium.webdriver.remote.webelement.WebElement (session=\"754c9c54a11900931e86891c3d8b37a3\", element=\"9f47f05c-24e3-4edf-8d41-82f58f40d3cd\")>"
      ]
     },
     "execution_count": 530,
     "metadata": {},
     "output_type": "execute_result"
    }
   ],
   "source": [
    "search_job = driver.find_element_by_id('qsb-keyword-sugg')\n",
    "search_job"
   ]
  },
  {
   "cell_type": "code",
   "execution_count": 531,
   "metadata": {},
   "outputs": [],
   "source": [
    "search_job.send_keys(\"Data Scientist\")"
   ]
  },
  {
   "cell_type": "markdown",
   "metadata": {},
   "source": [
    "Enter Data Scientist into job location"
   ]
  },
  {
   "cell_type": "code",
   "execution_count": 532,
   "metadata": {},
   "outputs": [],
   "source": [
    "search_loc = driver.find_element_by_id('qsb-location-sugg')\n",
    "search_loc.send_keys(\"Bangalore\")"
   ]
  },
  {
   "cell_type": "markdown",
   "metadata": {},
   "source": [
    "Enter Bangalore in location field code"
   ]
  },
  {
   "cell_type": "code",
   "execution_count": 533,
   "metadata": {},
   "outputs": [
    {
     "data": {
      "text/plain": [
       "<selenium.webdriver.remote.webelement.WebElement (session=\"754c9c54a11900931e86891c3d8b37a3\", element=\"0c81ece7-1b3f-4005-8686-5e6ead55c55b\")>"
      ]
     },
     "execution_count": 533,
     "metadata": {},
     "output_type": "execute_result"
    }
   ],
   "source": [
    "search_btn = driver.find_element_by_xpath(\"//button[@class='btn-primary']\")\n",
    "search_btn"
   ]
  },
  {
   "cell_type": "code",
   "execution_count": 534,
   "metadata": {},
   "outputs": [],
   "source": [
    "search_btn.click()"
   ]
  },
  {
   "cell_type": "markdown",
   "metadata": {},
   "source": [
    "Enter search button code"
   ]
  },
  {
   "cell_type": "code",
   "execution_count": 535,
   "metadata": {},
   "outputs": [
    {
     "data": {
      "text/plain": [
       "[<selenium.webdriver.remote.webelement.WebElement (session=\"754c9c54a11900931e86891c3d8b37a3\", element=\"1815839b-8cab-4a1b-a125-63711743dbab\")>,\n",
       " <selenium.webdriver.remote.webelement.WebElement (session=\"754c9c54a11900931e86891c3d8b37a3\", element=\"120cec5d-de81-4ff6-9afd-8bf689bb9287\")>,\n",
       " <selenium.webdriver.remote.webelement.WebElement (session=\"754c9c54a11900931e86891c3d8b37a3\", element=\"c7533c66-663d-4b1c-b24f-85bba4109771\")>,\n",
       " <selenium.webdriver.remote.webelement.WebElement (session=\"754c9c54a11900931e86891c3d8b37a3\", element=\"99611ea8-111e-4f2e-9139-a99b11d4bab1\")>,\n",
       " <selenium.webdriver.remote.webelement.WebElement (session=\"754c9c54a11900931e86891c3d8b37a3\", element=\"87ad1e16-281a-49be-bf36-ad6c8a22f49f\")>,\n",
       " <selenium.webdriver.remote.webelement.WebElement (session=\"754c9c54a11900931e86891c3d8b37a3\", element=\"272985ea-46e2-4a31-8db9-0ddb090861b9\")>,\n",
       " <selenium.webdriver.remote.webelement.WebElement (session=\"754c9c54a11900931e86891c3d8b37a3\", element=\"af722d52-a700-4e8f-aa17-e17bad3587bd\")>,\n",
       " <selenium.webdriver.remote.webelement.WebElement (session=\"754c9c54a11900931e86891c3d8b37a3\", element=\"a341e981-a787-4168-8887-0b82fc75dd09\")>,\n",
       " <selenium.webdriver.remote.webelement.WebElement (session=\"754c9c54a11900931e86891c3d8b37a3\", element=\"7f724511-db2f-40b3-9448-61436527d653\")>,\n",
       " <selenium.webdriver.remote.webelement.WebElement (session=\"754c9c54a11900931e86891c3d8b37a3\", element=\"624926a0-a412-449e-a2b6-6681309cc713\")>,\n",
       " <selenium.webdriver.remote.webelement.WebElement (session=\"754c9c54a11900931e86891c3d8b37a3\", element=\"ea34c054-7f4d-4b50-a28d-b70bb08cc946\")>,\n",
       " <selenium.webdriver.remote.webelement.WebElement (session=\"754c9c54a11900931e86891c3d8b37a3\", element=\"7ef16164-ca06-406c-84f8-874b8c6f9aaf\")>,\n",
       " <selenium.webdriver.remote.webelement.WebElement (session=\"754c9c54a11900931e86891c3d8b37a3\", element=\"cb131824-3fca-4847-846b-4968b0d5ceb6\")>,\n",
       " <selenium.webdriver.remote.webelement.WebElement (session=\"754c9c54a11900931e86891c3d8b37a3\", element=\"b9c76ca2-0f66-42b3-8373-e85212ba70d3\")>,\n",
       " <selenium.webdriver.remote.webelement.WebElement (session=\"754c9c54a11900931e86891c3d8b37a3\", element=\"d7f8b634-72c8-4868-9fd0-c8537eed65c5\")>,\n",
       " <selenium.webdriver.remote.webelement.WebElement (session=\"754c9c54a11900931e86891c3d8b37a3\", element=\"cd6865a1-c774-42aa-b5f7-0e7725ff5e83\")>,\n",
       " <selenium.webdriver.remote.webelement.WebElement (session=\"754c9c54a11900931e86891c3d8b37a3\", element=\"a823c324-4617-41c5-8abe-bfa0774641bd\")>,\n",
       " <selenium.webdriver.remote.webelement.WebElement (session=\"754c9c54a11900931e86891c3d8b37a3\", element=\"f6759be0-d293-4a19-9a3d-8a6ab7e06ed4\")>,\n",
       " <selenium.webdriver.remote.webelement.WebElement (session=\"754c9c54a11900931e86891c3d8b37a3\", element=\"21cd6ea1-bee9-48f4-a249-cef8ee70796c\")>,\n",
       " <selenium.webdriver.remote.webelement.WebElement (session=\"754c9c54a11900931e86891c3d8b37a3\", element=\"7c09aad1-8329-4325-8bff-790d5b3b6316\")>]"
      ]
     },
     "execution_count": 535,
     "metadata": {},
     "output_type": "execute_result"
    }
   ],
   "source": [
    "titles_tags=driver.find_elements_by_xpath(\"//a[@class='title fw500 ellipsis']\")\n",
    "titles_tags"
   ]
  },
  {
   "cell_type": "code",
   "execution_count": 536,
   "metadata": {},
   "outputs": [
    {
     "data": {
      "text/plain": [
       "['Senior Data Scientist',\n",
       " 'Data Scientist: Advanced Analytics',\n",
       " 'Senior Data Scientist',\n",
       " 'Senior Data Scientist',\n",
       " 'DATA SCIENTIST',\n",
       " 'Data Engineers , Data Scientist and SAP',\n",
       " 'Python - Data Scientist',\n",
       " 'Software Developer - Data Scientist / NLP / Machine Learning & Dot Net',\n",
       " 'Data scientist',\n",
       " 'Senior Associate - Data Scientist']"
      ]
     },
     "execution_count": 536,
     "metadata": {},
     "output_type": "execute_result"
    }
   ],
   "source": [
    "job_titles=[]\n",
    "for i in titles_tags[0:10]:\n",
    "    job_titles.append(i.text)\n",
    "job_titles"
   ]
  },
  {
   "cell_type": "markdown",
   "metadata": {},
   "source": [
    "Scrape the job titles"
   ]
  },
  {
   "cell_type": "code",
   "execution_count": 537,
   "metadata": {},
   "outputs": [
    {
     "data": {
      "text/plain": [
       "[<selenium.webdriver.remote.webelement.WebElement (session=\"754c9c54a11900931e86891c3d8b37a3\", element=\"6eb0b257-b994-4e2e-85e2-ef9d5345bd52\")>,\n",
       " <selenium.webdriver.remote.webelement.WebElement (session=\"754c9c54a11900931e86891c3d8b37a3\", element=\"cee2aeee-a410-4374-9b22-a782e0868f00\")>,\n",
       " <selenium.webdriver.remote.webelement.WebElement (session=\"754c9c54a11900931e86891c3d8b37a3\", element=\"3ae6e4be-8ad3-4c6c-a91b-9b60861a2fbd\")>,\n",
       " <selenium.webdriver.remote.webelement.WebElement (session=\"754c9c54a11900931e86891c3d8b37a3\", element=\"d64e263c-1733-4ecc-abfb-6ade0315c0e6\")>,\n",
       " <selenium.webdriver.remote.webelement.WebElement (session=\"754c9c54a11900931e86891c3d8b37a3\", element=\"94b97c23-2e2f-428a-88fa-9e3b3542f461\")>,\n",
       " <selenium.webdriver.remote.webelement.WebElement (session=\"754c9c54a11900931e86891c3d8b37a3\", element=\"bef7708e-6196-4cbd-8770-0f2e08383153\")>,\n",
       " <selenium.webdriver.remote.webelement.WebElement (session=\"754c9c54a11900931e86891c3d8b37a3\", element=\"13b5bd51-71de-4648-a796-7d4418ce14ab\")>,\n",
       " <selenium.webdriver.remote.webelement.WebElement (session=\"754c9c54a11900931e86891c3d8b37a3\", element=\"0b027a5b-cdea-4916-ab22-71a350e87227\")>,\n",
       " <selenium.webdriver.remote.webelement.WebElement (session=\"754c9c54a11900931e86891c3d8b37a3\", element=\"a008c750-7c57-43cf-b2e4-802e206758a7\")>,\n",
       " <selenium.webdriver.remote.webelement.WebElement (session=\"754c9c54a11900931e86891c3d8b37a3\", element=\"ed1ecfc7-bbbc-476d-87ee-e5efc9109c78\")>,\n",
       " <selenium.webdriver.remote.webelement.WebElement (session=\"754c9c54a11900931e86891c3d8b37a3\", element=\"232698b4-fd63-4629-8c15-5a9adb58f21a\")>,\n",
       " <selenium.webdriver.remote.webelement.WebElement (session=\"754c9c54a11900931e86891c3d8b37a3\", element=\"e83f41e7-da23-48df-9a96-27d617db475b\")>,\n",
       " <selenium.webdriver.remote.webelement.WebElement (session=\"754c9c54a11900931e86891c3d8b37a3\", element=\"7e8dce46-1a99-4569-83b1-846297335010\")>,\n",
       " <selenium.webdriver.remote.webelement.WebElement (session=\"754c9c54a11900931e86891c3d8b37a3\", element=\"d839fae8-e75f-4bdd-ac80-ded57966ab29\")>,\n",
       " <selenium.webdriver.remote.webelement.WebElement (session=\"754c9c54a11900931e86891c3d8b37a3\", element=\"60208240-f9f4-436a-aa63-0929be4bdcbc\")>,\n",
       " <selenium.webdriver.remote.webelement.WebElement (session=\"754c9c54a11900931e86891c3d8b37a3\", element=\"25dfde77-9dad-4365-aa4d-a4a025211d2b\")>,\n",
       " <selenium.webdriver.remote.webelement.WebElement (session=\"754c9c54a11900931e86891c3d8b37a3\", element=\"cc8cdf6c-18a2-4960-8206-d8a09fc000f7\")>,\n",
       " <selenium.webdriver.remote.webelement.WebElement (session=\"754c9c54a11900931e86891c3d8b37a3\", element=\"420c3d0f-70d9-4791-9218-ac97d50cb3d1\")>,\n",
       " <selenium.webdriver.remote.webelement.WebElement (session=\"754c9c54a11900931e86891c3d8b37a3\", element=\"af5a3e4e-e0d9-4d2c-90df-a2e6b23fe91f\")>,\n",
       " <selenium.webdriver.remote.webelement.WebElement (session=\"754c9c54a11900931e86891c3d8b37a3\", element=\"57c3065f-3f98-4ad8-ab71-40b9a0dde88e\")>]"
      ]
     },
     "execution_count": 537,
     "metadata": {},
     "output_type": "execute_result"
    }
   ],
   "source": [
    "companies_tags=driver.find_elements_by_xpath(\"//a[@class='subTitle ellipsis fleft']\")\n",
    "companies_tags\n"
   ]
  },
  {
   "cell_type": "code",
   "execution_count": 538,
   "metadata": {},
   "outputs": [
    {
     "data": {
      "text/plain": [
       "['Philips India Limited',\n",
       " 'IBM India Pvt. Limited',\n",
       " 'SYMBIOSIS International W.L.L',\n",
       " 'Datamatics Global Services Ltd',\n",
       " 'McAfee Software (India) Pvt. Ltd',\n",
       " 'Teamware Solutions',\n",
       " 'Mindtree Limited',\n",
       " 'Cunesoft India Private Limited',\n",
       " 'Uber',\n",
       " 'Novotree Minds Consulting Pvt Limited']"
      ]
     },
     "execution_count": 538,
     "metadata": {},
     "output_type": "execute_result"
    }
   ],
   "source": [
    "company_names=[]\n",
    "for i in companies_tags[0:10]:\n",
    "    company_names.append(i.text)\n",
    "company_names"
   ]
  },
  {
   "cell_type": "markdown",
   "metadata": {},
   "source": [
    "Scrape company name"
   ]
  },
  {
   "cell_type": "code",
   "execution_count": 539,
   "metadata": {},
   "outputs": [
    {
     "data": {
      "text/plain": [
       "[<selenium.webdriver.remote.webelement.WebElement (session=\"754c9c54a11900931e86891c3d8b37a3\", element=\"a0e0425c-8f66-4925-8735-1b95fd2f3fd1\")>,\n",
       " <selenium.webdriver.remote.webelement.WebElement (session=\"754c9c54a11900931e86891c3d8b37a3\", element=\"f13a4d5d-7a5d-4986-93d4-d0be8822894b\")>,\n",
       " <selenium.webdriver.remote.webelement.WebElement (session=\"754c9c54a11900931e86891c3d8b37a3\", element=\"ca3cf078-e09f-4240-898c-f3c12870cf20\")>,\n",
       " <selenium.webdriver.remote.webelement.WebElement (session=\"754c9c54a11900931e86891c3d8b37a3\", element=\"4ee1ad4a-37aa-4eb5-8392-cbadeae349db\")>,\n",
       " <selenium.webdriver.remote.webelement.WebElement (session=\"754c9c54a11900931e86891c3d8b37a3\", element=\"f72baae7-29e4-4254-84f3-7d6b93666d1a\")>,\n",
       " <selenium.webdriver.remote.webelement.WebElement (session=\"754c9c54a11900931e86891c3d8b37a3\", element=\"a42ef131-734d-4bab-82a5-5e80d6a05adb\")>,\n",
       " <selenium.webdriver.remote.webelement.WebElement (session=\"754c9c54a11900931e86891c3d8b37a3\", element=\"d0360eb0-1564-4b33-a142-52ffbd8d3938\")>,\n",
       " <selenium.webdriver.remote.webelement.WebElement (session=\"754c9c54a11900931e86891c3d8b37a3\", element=\"58eb881b-ceb4-4a7c-962c-8a37acd36e12\")>,\n",
       " <selenium.webdriver.remote.webelement.WebElement (session=\"754c9c54a11900931e86891c3d8b37a3\", element=\"1ec98af8-abfd-433f-9084-4ff59addc9d8\")>,\n",
       " <selenium.webdriver.remote.webelement.WebElement (session=\"754c9c54a11900931e86891c3d8b37a3\", element=\"4db75e02-f316-4824-874c-39e5e2d0c57f\")>,\n",
       " <selenium.webdriver.remote.webelement.WebElement (session=\"754c9c54a11900931e86891c3d8b37a3\", element=\"d6a14eb5-a3b9-463f-80aa-3e379b8b49e8\")>,\n",
       " <selenium.webdriver.remote.webelement.WebElement (session=\"754c9c54a11900931e86891c3d8b37a3\", element=\"b8be4519-b57a-41ea-beee-4c1d3698abb0\")>,\n",
       " <selenium.webdriver.remote.webelement.WebElement (session=\"754c9c54a11900931e86891c3d8b37a3\", element=\"b87ead76-61a9-4b17-91ca-5ffac6c22778\")>,\n",
       " <selenium.webdriver.remote.webelement.WebElement (session=\"754c9c54a11900931e86891c3d8b37a3\", element=\"7a3a47ad-6525-40fc-8b25-862ee9e341f1\")>,\n",
       " <selenium.webdriver.remote.webelement.WebElement (session=\"754c9c54a11900931e86891c3d8b37a3\", element=\"fe3461a7-cc20-4152-add7-b437719e2274\")>,\n",
       " <selenium.webdriver.remote.webelement.WebElement (session=\"754c9c54a11900931e86891c3d8b37a3\", element=\"d0939597-9190-42e1-9b71-3dff82da8788\")>,\n",
       " <selenium.webdriver.remote.webelement.WebElement (session=\"754c9c54a11900931e86891c3d8b37a3\", element=\"febc88d0-17e0-42c7-8b80-b8fd919cba4e\")>,\n",
       " <selenium.webdriver.remote.webelement.WebElement (session=\"754c9c54a11900931e86891c3d8b37a3\", element=\"232ed019-72d8-4d0d-a09e-3405444d5277\")>,\n",
       " <selenium.webdriver.remote.webelement.WebElement (session=\"754c9c54a11900931e86891c3d8b37a3\", element=\"da70bc63-1b5c-4042-ac77-29e15d5ab6bc\")>,\n",
       " <selenium.webdriver.remote.webelement.WebElement (session=\"754c9c54a11900931e86891c3d8b37a3\", element=\"dadc5eed-422c-430e-9628-94c43208469e\")>]"
      ]
     },
     "execution_count": 539,
     "metadata": {},
     "output_type": "execute_result"
    }
   ],
   "source": [
    "locations_tags=driver.find_elements_by_xpath(\"//li[@class='fleft grey-text br2 placeHolderLi location']//span[1]\")\n",
    "locations_tags"
   ]
  },
  {
   "cell_type": "code",
   "execution_count": 540,
   "metadata": {},
   "outputs": [
    {
     "data": {
      "text/plain": [
       "['Bangalore/Bengaluru',\n",
       " 'Bangalore/Bengaluru',\n",
       " 'Bangalore/Bengaluru',\n",
       " 'Bangalore/Bengaluru',\n",
       " 'Bangalore/Bengaluru',\n",
       " 'Bangalore/Bengaluru',\n",
       " 'Bangalore/Bengaluru',\n",
       " 'Bangalore/Bengaluru',\n",
       " 'Bangalore/Bengaluru',\n",
       " 'Bangalore/Bengaluru']"
      ]
     },
     "execution_count": 540,
     "metadata": {},
     "output_type": "execute_result"
    }
   ],
   "source": [
    "locations_list=[]\n",
    "for i in locations_tags[0:10]:\n",
    "    locations_list.append(i.text)\n",
    "locations_list"
   ]
  },
  {
   "cell_type": "markdown",
   "metadata": {},
   "source": [
    "Scrape location name information"
   ]
  },
  {
   "cell_type": "code",
   "execution_count": 541,
   "metadata": {},
   "outputs": [
    {
     "name": "stdout",
     "output_type": "stream",
     "text": [
      "10 10 10\n"
     ]
    }
   ],
   "source": [
    "print(len(job_titles),len(company_names),len(locations_list))"
   ]
  },
  {
   "cell_type": "markdown",
   "metadata": {},
   "source": [
    "Scrap the data of 10 jobs"
   ]
  },
  {
   "cell_type": "code",
   "execution_count": 542,
   "metadata": {},
   "outputs": [],
   "source": [
    "#import pandas as pd\n",
    "jobs=pd.DataFrame({})\n",
    "jobs['title']=job_titles\n",
    "jobs['company']=company_names\n",
    "jobs['location']=locations_list"
   ]
  },
  {
   "cell_type": "code",
   "execution_count": 543,
   "metadata": {},
   "outputs": [
    {
     "data": {
      "text/html": [
       "<div>\n",
       "<style scoped>\n",
       "    .dataframe tbody tr th:only-of-type {\n",
       "        vertical-align: middle;\n",
       "    }\n",
       "\n",
       "    .dataframe tbody tr th {\n",
       "        vertical-align: top;\n",
       "    }\n",
       "\n",
       "    .dataframe thead th {\n",
       "        text-align: right;\n",
       "    }\n",
       "</style>\n",
       "<table border=\"1\" class=\"dataframe\">\n",
       "  <thead>\n",
       "    <tr style=\"text-align: right;\">\n",
       "      <th></th>\n",
       "      <th>title</th>\n",
       "      <th>company</th>\n",
       "      <th>location</th>\n",
       "    </tr>\n",
       "  </thead>\n",
       "  <tbody>\n",
       "    <tr>\n",
       "      <th>0</th>\n",
       "      <td>Senior Data Scientist</td>\n",
       "      <td>Philips India Limited</td>\n",
       "      <td>Bangalore/Bengaluru</td>\n",
       "    </tr>\n",
       "    <tr>\n",
       "      <th>1</th>\n",
       "      <td>Data Scientist: Advanced Analytics</td>\n",
       "      <td>IBM India Pvt. Limited</td>\n",
       "      <td>Bangalore/Bengaluru</td>\n",
       "    </tr>\n",
       "    <tr>\n",
       "      <th>2</th>\n",
       "      <td>Senior Data Scientist</td>\n",
       "      <td>SYMBIOSIS International W.L.L</td>\n",
       "      <td>Bangalore/Bengaluru</td>\n",
       "    </tr>\n",
       "    <tr>\n",
       "      <th>3</th>\n",
       "      <td>Senior Data Scientist</td>\n",
       "      <td>Datamatics Global Services Ltd</td>\n",
       "      <td>Bangalore/Bengaluru</td>\n",
       "    </tr>\n",
       "    <tr>\n",
       "      <th>4</th>\n",
       "      <td>DATA SCIENTIST</td>\n",
       "      <td>McAfee Software (India) Pvt. Ltd</td>\n",
       "      <td>Bangalore/Bengaluru</td>\n",
       "    </tr>\n",
       "    <tr>\n",
       "      <th>5</th>\n",
       "      <td>Data Engineers , Data Scientist and SAP</td>\n",
       "      <td>Teamware Solutions</td>\n",
       "      <td>Bangalore/Bengaluru</td>\n",
       "    </tr>\n",
       "    <tr>\n",
       "      <th>6</th>\n",
       "      <td>Python - Data Scientist</td>\n",
       "      <td>Mindtree Limited</td>\n",
       "      <td>Bangalore/Bengaluru</td>\n",
       "    </tr>\n",
       "    <tr>\n",
       "      <th>7</th>\n",
       "      <td>Software Developer - Data Scientist / NLP / Ma...</td>\n",
       "      <td>Cunesoft India Private Limited</td>\n",
       "      <td>Bangalore/Bengaluru</td>\n",
       "    </tr>\n",
       "    <tr>\n",
       "      <th>8</th>\n",
       "      <td>Data scientist</td>\n",
       "      <td>Uber</td>\n",
       "      <td>Bangalore/Bengaluru</td>\n",
       "    </tr>\n",
       "    <tr>\n",
       "      <th>9</th>\n",
       "      <td>Senior Associate - Data Scientist</td>\n",
       "      <td>Novotree Minds Consulting Pvt Limited</td>\n",
       "      <td>Bangalore/Bengaluru</td>\n",
       "    </tr>\n",
       "  </tbody>\n",
       "</table>\n",
       "</div>"
      ],
      "text/plain": [
       "                                               title  \\\n",
       "0                              Senior Data Scientist   \n",
       "1                 Data Scientist: Advanced Analytics   \n",
       "2                              Senior Data Scientist   \n",
       "3                              Senior Data Scientist   \n",
       "4                                     DATA SCIENTIST   \n",
       "5            Data Engineers , Data Scientist and SAP   \n",
       "6                            Python - Data Scientist   \n",
       "7  Software Developer - Data Scientist / NLP / Ma...   \n",
       "8                                     Data scientist   \n",
       "9                  Senior Associate - Data Scientist   \n",
       "\n",
       "                                 company             location  \n",
       "0                  Philips India Limited  Bangalore/Bengaluru  \n",
       "1                 IBM India Pvt. Limited  Bangalore/Bengaluru  \n",
       "2          SYMBIOSIS International W.L.L  Bangalore/Bengaluru  \n",
       "3         Datamatics Global Services Ltd  Bangalore/Bengaluru  \n",
       "4       McAfee Software (India) Pvt. Ltd  Bangalore/Bengaluru  \n",
       "5                     Teamware Solutions  Bangalore/Bengaluru  \n",
       "6                       Mindtree Limited  Bangalore/Bengaluru  \n",
       "7         Cunesoft India Private Limited  Bangalore/Bengaluru  \n",
       "8                                   Uber  Bangalore/Bengaluru  \n",
       "9  Novotree Minds Consulting Pvt Limited  Bangalore/Bengaluru  "
      ]
     },
     "execution_count": 543,
     "metadata": {},
     "output_type": "execute_result"
    }
   ],
   "source": [
    "jobs"
   ]
  },
  {
   "cell_type": "markdown",
   "metadata": {},
   "source": [
    "Create dataframe"
   ]
  },
  {
   "cell_type": "code",
   "execution_count": null,
   "metadata": {},
   "outputs": [],
   "source": [
    "#scrap data from job openings"
   ]
  },
  {
   "cell_type": "code",
   "execution_count": 544,
   "metadata": {},
   "outputs": [
    {
     "data": {
      "text/plain": [
       "[<selenium.webdriver.remote.webelement.WebElement (session=\"754c9c54a11900931e86891c3d8b37a3\", element=\"1815839b-8cab-4a1b-a125-63711743dbab\")>,\n",
       " <selenium.webdriver.remote.webelement.WebElement (session=\"754c9c54a11900931e86891c3d8b37a3\", element=\"120cec5d-de81-4ff6-9afd-8bf689bb9287\")>,\n",
       " <selenium.webdriver.remote.webelement.WebElement (session=\"754c9c54a11900931e86891c3d8b37a3\", element=\"c7533c66-663d-4b1c-b24f-85bba4109771\")>,\n",
       " <selenium.webdriver.remote.webelement.WebElement (session=\"754c9c54a11900931e86891c3d8b37a3\", element=\"99611ea8-111e-4f2e-9139-a99b11d4bab1\")>,\n",
       " <selenium.webdriver.remote.webelement.WebElement (session=\"754c9c54a11900931e86891c3d8b37a3\", element=\"87ad1e16-281a-49be-bf36-ad6c8a22f49f\")>,\n",
       " <selenium.webdriver.remote.webelement.WebElement (session=\"754c9c54a11900931e86891c3d8b37a3\", element=\"272985ea-46e2-4a31-8db9-0ddb090861b9\")>,\n",
       " <selenium.webdriver.remote.webelement.WebElement (session=\"754c9c54a11900931e86891c3d8b37a3\", element=\"af722d52-a700-4e8f-aa17-e17bad3587bd\")>,\n",
       " <selenium.webdriver.remote.webelement.WebElement (session=\"754c9c54a11900931e86891c3d8b37a3\", element=\"a341e981-a787-4168-8887-0b82fc75dd09\")>,\n",
       " <selenium.webdriver.remote.webelement.WebElement (session=\"754c9c54a11900931e86891c3d8b37a3\", element=\"7f724511-db2f-40b3-9448-61436527d653\")>,\n",
       " <selenium.webdriver.remote.webelement.WebElement (session=\"754c9c54a11900931e86891c3d8b37a3\", element=\"624926a0-a412-449e-a2b6-6681309cc713\")>,\n",
       " <selenium.webdriver.remote.webelement.WebElement (session=\"754c9c54a11900931e86891c3d8b37a3\", element=\"ea34c054-7f4d-4b50-a28d-b70bb08cc946\")>,\n",
       " <selenium.webdriver.remote.webelement.WebElement (session=\"754c9c54a11900931e86891c3d8b37a3\", element=\"7ef16164-ca06-406c-84f8-874b8c6f9aaf\")>,\n",
       " <selenium.webdriver.remote.webelement.WebElement (session=\"754c9c54a11900931e86891c3d8b37a3\", element=\"cb131824-3fca-4847-846b-4968b0d5ceb6\")>,\n",
       " <selenium.webdriver.remote.webelement.WebElement (session=\"754c9c54a11900931e86891c3d8b37a3\", element=\"b9c76ca2-0f66-42b3-8373-e85212ba70d3\")>,\n",
       " <selenium.webdriver.remote.webelement.WebElement (session=\"754c9c54a11900931e86891c3d8b37a3\", element=\"d7f8b634-72c8-4868-9fd0-c8537eed65c5\")>,\n",
       " <selenium.webdriver.remote.webelement.WebElement (session=\"754c9c54a11900931e86891c3d8b37a3\", element=\"cd6865a1-c774-42aa-b5f7-0e7725ff5e83\")>,\n",
       " <selenium.webdriver.remote.webelement.WebElement (session=\"754c9c54a11900931e86891c3d8b37a3\", element=\"a823c324-4617-41c5-8abe-bfa0774641bd\")>,\n",
       " <selenium.webdriver.remote.webelement.WebElement (session=\"754c9c54a11900931e86891c3d8b37a3\", element=\"f6759be0-d293-4a19-9a3d-8a6ab7e06ed4\")>,\n",
       " <selenium.webdriver.remote.webelement.WebElement (session=\"754c9c54a11900931e86891c3d8b37a3\", element=\"21cd6ea1-bee9-48f4-a249-cef8ee70796c\")>,\n",
       " <selenium.webdriver.remote.webelement.WebElement (session=\"754c9c54a11900931e86891c3d8b37a3\", element=\"7c09aad1-8329-4325-8bff-790d5b3b6316\")>]"
      ]
     },
     "execution_count": 544,
     "metadata": {},
     "output_type": "execute_result"
    }
   ],
   "source": [
    "url = driver.find_elements_by_xpath(\"//a[@class='title fw500 ellipsis']\")\n",
    "url"
   ]
  },
  {
   "cell_type": "code",
   "execution_count": 545,
   "metadata": {},
   "outputs": [
    {
     "data": {
      "text/plain": [
       "['https://www.naukri.com/job-listings-senior-data-scientist-philips-india-limited-bangalore-bengaluru-8-to-10-years-060821501599?src=jobsearchDesk&sid=16282778756007926&xp=1&px=1',\n",
       " 'https://www.naukri.com/job-listings-data-scientist-advanced-analytics-ibm-india-pvt-limited-bangalore-bengaluru-5-to-10-years-060821907733?src=jobsearchDesk&sid=16282778756007926&xp=2&px=1',\n",
       " 'https://www.naukri.com/job-listings-senior-data-scientist-symbiosis-international-w-l-l-bangalore-bengaluru-10-to-15-years-050821004331?src=jobsearchDesk&sid=16282778756007926&xp=3&px=1',\n",
       " 'https://www.naukri.com/job-listings-senior-data-scientist-datamatics-global-services-ltd-bangalore-bengaluru-8-to-13-years-040821003517?src=jobsearchDesk&sid=16282778756007926&xp=4&px=1',\n",
       " 'https://www.naukri.com/job-listings-data-scientist-mcafee-software-india-pvt-ltd-bangalore-bengaluru-4-to-8-years-050821501145?src=jobsearchDesk&sid=16282778756007926&xp=5&px=1',\n",
       " 'https://www.naukri.com/job-listings-data-engineers-data-scientist-and-sap-teamware-solutions-bangalore-bengaluru-7-to-10-years-300721500677?src=jobsearchDesk&sid=16282778756007926&xp=6&px=1',\n",
       " 'https://www.naukri.com/job-listings-python-data-scientist-mindtree-limited-bangalore-bengaluru-3-to-5-years-040821500207?src=jobsearchDesk&sid=16282778756007926&xp=7&px=1',\n",
       " 'https://www.naukri.com/job-listings-software-developer-data-scientist-nlp-machine-learning-dot-net-cunesoft-india-private-limited-bangalore-bengaluru-3-to-8-years-190121001281?src=jobsearchDesk&sid=16282778756007926&xp=8&px=1',\n",
       " 'https://www.naukri.com/job-listings-data-scientist-uber-bangalore-bengaluru-6-to-8-years-050821500683?src=jobsearchDesk&sid=16282778756007926&xp=9&px=1',\n",
       " 'https://www.naukri.com/job-listings-senior-associate-data-scientist-novotree-minds-consulting-pvt-limited-bangalore-bengaluru-4-to-7-years-300721001832?src=jobsearchDesk&sid=16282778756007926&xp=10&px=1',\n",
       " 'https://www.naukri.com/job-listings-senior-data-scientist-ibm-india-pvt-limited-bangalore-bengaluru-5-to-10-years-260721907182?src=jobsearchDesk&sid=16282778756007926&xp=11&px=1',\n",
       " 'https://www.naukri.com/job-listings-sr-data-scientist-ibm-india-pvt-limited-bangalore-bengaluru-8-to-12-years-230721906918?src=jobsearchDesk&sid=16282778756007926&xp=12&px=1',\n",
       " 'https://www.naukri.com/job-listings-senior-data-scientist-publicis-groupe-bangalore-bengaluru-2-to-5-years-030821501259?src=jobsearchDesk&sid=16282778756007926&xp=13&px=1',\n",
       " 'https://www.naukri.com/job-listings-senior-data-scientist-bidgely-technologies-private-limited-bangalore-bengaluru-4-to-6-years-030821500043?src=jobsearchDesk&sid=16282778756007926&xp=14&px=1',\n",
       " 'https://www.naukri.com/job-listings-senior-data-scientist-goals-101-data-solutions-pvt-ltd-new-delhi-bangalore-bengaluru-delhi-ncr-4-to-8-years-030821000870?src=jobsearchDesk&sid=16282778756007926&xp=15&px=1',\n",
       " 'https://www.naukri.com/job-listings-data-scientist-permanent-role-onward-technologies-limited-hyderabad-secunderabad-chennai-bangalore-bengaluru-6-to-11-years-030821002780?src=jobsearchDesk&sid=16282778756007926&xp=16&px=1',\n",
       " 'https://www.naukri.com/job-listings-senior-data-scientist-randstad-india-pvt-ltd-bangalore-bengaluru-4-to-9-years-280721000424?src=jobsearchDesk&sid=16282778756007926&xp=17&px=1',\n",
       " 'https://www.naukri.com/job-listings-senior-data-scientist-red-hat-india-pvt-ltd-bangalore-bengaluru-8-to-13-years-220721008125?src=jobsearchDesk&sid=16282778756007926&xp=18&px=1',\n",
       " 'https://www.naukri.com/job-listings-sr-data-scientist-tech-lead-data-science-confidential-bangalore-bengaluru-6-to-9-years-020821903704?src=jobsearchDesk&sid=16282778756007926&xp=19&px=1',\n",
       " 'https://www.naukri.com/job-listings-senior-data-scientist-l-a-consultancy-kochi-cochin-hyderabad-secunderabad-pune-chennai-delhi-ncr-bangalore-bengaluru-5-to-9-years-310721903849?src=jobsearchDesk&sid=16282778756007926&xp=20&px=1']"
      ]
     },
     "execution_count": 545,
     "metadata": {},
     "output_type": "execute_result"
    }
   ],
   "source": [
    "job_opening_urls = []\n",
    "#url = driver.find_elements_by_xpath('//a[@class=\"title fw500 ellipsis\"]')\n",
    "for i in url:\n",
    "    job_opening_urls.append(i.get_attribute('href'))\n",
    "job_opening_urls"
   ]
  },
  {
   "cell_type": "code",
   "execution_count": 547,
   "metadata": {},
   "outputs": [
    {
     "data": {
      "text/plain": [
       "['Senior Data Scientist',\n",
       " 'Data Scientist: Advanced Analytics',\n",
       " 'Senior Data Scientist',\n",
       " 'Senior Data Scientist',\n",
       " 'DATA SCIENTIST',\n",
       " 'Data Engineers , Data Scientist and SAP',\n",
       " 'Python - Data Scientist',\n",
       " 'Software Developer - Data Scientist / NLP / Machine Learning & Dot Net',\n",
       " 'Data scientist',\n",
       " 'Senior Associate - Data Scientist',\n",
       " '--',\n",
       " '--',\n",
       " '--',\n",
       " 'Job Description',\n",
       " '--',\n",
       " '--',\n",
       " '--',\n",
       " '--',\n",
       " '--',\n",
       " '--',\n",
       " '--',\n",
       " '--',\n",
       " '--',\n",
       " '--',\n",
       " '--',\n",
       " '--',\n",
       " '--',\n",
       " '--',\n",
       " '--',\n",
       " '--',\n",
       " '--',\n",
       " 'Job Description',\n",
       " '--',\n",
       " 'Job Description',\n",
       " '--',\n",
       " '--',\n",
       " '--',\n",
       " '--',\n",
       " '--',\n",
       " '--',\n",
       " '--',\n",
       " '--',\n",
       " '--',\n",
       " '--',\n",
       " '--',\n",
       " '--',\n",
       " '--',\n",
       " '--',\n",
       " '--',\n",
       " '--',\n",
       " '--',\n",
       " 'Job description\\n  Be a part of the Enterprise IT , Information and Data Science team and drive a strategic and actionable Data Science architecture to activate the needed business capabilities. Deliver business use cases like Care Provider (Customer, Product , IB ) 360 initiative, Product bundling , Value Based pricing , Conversational AI, Indirect Trade partner classification , Data pipeline predictions etc - an ambition to better understand the needs of Healthcare Providers, the way Philips serves its customers and how and where Philips can add value to the customer decision journey.\\nYour responsibilities\\nEnsure strategic direction for data science capabilities for Philips is created and kept up to date on a regular basis\\nContinuously evaluate the latest techniques in Artificial intelligence, machine learning, robotics, statistical analysis\\nImplement advanced algorithms for business problems based on statistical analysis, coding, deep learning, advanced data mining techniques etc.\\nDevelop new algorithms if necessary, to bring predictive, advanced statistics / learning based solutions\\nDevelop algorithms to further automate processes and feed insights back into PIL for better business outcome\\nCo-create with business / market / functions or IT platforms on requirements\\nEnsure quality of data and solution developed\\nLead and drive data mining, creating algorithms, collection of data, collection of procedures during the design, build phases of a project\\nLead and drive in deploy and testing of the solutions and insights\\nSpot and evaluate emerging/cutting edge, open source, data science/machine learning libraries\\nYou are part of:\\nYou will be part of Group IT , Information and Data Management team that drives business impact through Data Science and Advanced analytics. A team that instigates collaboration across diverse teams globally to manage Data as an asset at Philips.\\nCore competencies needed to be successful:\\nA Master s Degree or PhD in Computer Science, Econometrics, Artificial Intelligence, Applied Mathematics, Statistics or equivalent;\\n8-10 years of overall experience in data science, data analytics roles\\n8+ years of experience in multiple of machine learning, data mining, deep learning, artificial intelligence, pattern recognition areas\\nExperience in driving implementation of solutions, data and algorithms on data warehouse and lakes like Azure , AWS, SQL etc\\nDemonstrable advanced programming experience in Python or another programming language such as Azure ML/R/Python etc ;\\nStrong analytical and social skills and the capability to translate data intelligence into valuable insights for the senior stakeholders in the company\\nAbility to formulate multiple complex business problems into hypothesis and proof of concepts for testing\\nManage Projects and lead a sub-portfolio of data science project teams to deliver results\\nCoach, Guide and direct teams of internal and vendor resources\\nCollaborate across IT platform teams to deploy solutions and drive continuous improvements\\nManage senior stakeholder in the company in a matrix organization i.e. Market / BG / Function leaders\\nRoleBusiness/EDP Analyst\\nIndustry TypeMedical Services / Hospital\\nFunctional AreaITES, BPO, KPO, LPO, Customer Service, Operations\\nEmployment TypeFull Time, Permanent\\nRole CategoryOperations\\nEducation\\nUG :Any Graduate\\nPG :Post Graduation Not Required\\nKey Skills\\nComputer scienceData managementCodingAnalyticalMachine learningHealthcareData miningRoboticsSQLPython',\n",
       " '--',\n",
       " '--',\n",
       " '--',\n",
       " \"Job description\\nRequired Candidate profile\\nWe are looking for a Senior Data Scientist with a min of 10 years experience in Banking Financial Domain (especially Compliance related) and a solid background in Cloudera.\\nAs a Cloudera Specialist, you must be adept in Cloudera tools like CDH, CEPH, CM, CMA, Data node EDH, HVE, JAS, NameNode, Nodemanager, QJM, QJN, RM and ZK.\\nThis will be a two years assignment to one of the Leading Class A banks in Abu Dhabi.\\nCandidate should have finished two or three full implementations of Data Analytics in Compliance in large Enterprise Banks.\\nShould be having thorough knowledge in R, Python, Scala on demand and Jupyter Notebooks.\\nShould be having hands experience in CCA Spark and Hadoop developer.\\nShould be having a Financial Compliance Background with a good knowledge and hands on expertise on Compliance related domains.\\nShould be a Machine Learning expert and create new models and use various library in that area. You should have proven skills in this area.\\nShould be having a thorough theoretical and practical idea on the following systems (From a Data Scientist Perspective)\\nHDFS\\nYarn\\nMapReduce\\nHive\\nPig\\nApache Ambari\\nHBase / Apache Impala\\nStorm\\nOozie\\nRanger\\nZookeeper\\nVarious data ingestion tools like Sqoop, flume, Kafka\\nVarious reporting tools like Drill, Phoenix, Zeppelin\\nWill be an added advantage if you have exposure to GPU processing, Tensor Flow and Data Lakes.\\nShould be able to produce high Quality Business documentation, Project Management, Agile Framework practices as needed.\\nShould inspect the current Cloudera Architecture and suggest enhancements or improve it.\\nShould be able to communicate with Senior Business Management ideas, concepts and deliverables.\\nIf you have certifications on Cloudera (Cloudera Data Engineer, Spark and Hadoop Developer), it will be an added advantage.\\nData Scientist - Compliance\\nResponsibilities:\\nUse advanced analytics methods to extract value from business data\\nPerform large-scale experimentation and build data-driven models to answer business questions\\nConduct research on cutting-edge techniques and tools in machine learning/deep learning/artificial intelligence\\nDetermine requirements that will be used to train and evolve deep learning models and algorithms\\nArticulate a vision and roadmap for the exploitation of data as a valued corporate asset\\nInfluence product teams through presentation of data-based recommendations\\nEvangelize best practices to analytics and products teams\\nAssemble large, complex data sets that meet functional / non-functional business requirements.\\nIdentify, design, and implement internal process improvements: automating manual processes, optimizing analytics delivery, re-designing infrastructure for greater scalability, etc.\\nBuild analytics tools that utilize the data to provide actionable insights into customer acquisition, operational efficiency and other key business performance metrics.\\nWork with stakeholders including the Executive, Product, Data and Design teams to assist with analytics related technical issues and support their data infrastructure needs.\\nWork with data and analytics experts to strive for greater functionality data systems\\nTypical skills and background:\\nSKILLS:\\nCan work with data to identify patterns.\\nUse judgement to form conclusions that may challenge conventional wisdom and focus on the crux of issues to identify high-leverage intervention points and strategies.\\nRapidly acquire new knowledge and learn new skills\\nSeek to understand business needs and get results that have a clear, positive, and direct impact on business performance\\nApply different strategies to convince others to change their opinions or plans and ensure that proposals or arguments are supported by strong logic and a compelling business case, addressing all relevant factors.\\nConsider the relative costs and benefits of potential actions to choose the most appropriate one\\nCommunication and storytelling\\nTeamwork and collaboration\\nBanking domain business knowledge\\nAdvanced analytics modelling and orchestration\\nSolid development skills in Java, Scala and SQL\\nSound knowledge of using data science tools and languages like Cloudera Data Science Workbench (CDSW), Jupyter Notebook, Python etc.\\nClear hands-on mastery in big datab systems - Hadoop ecosystem, Cloud technologies (AWS, Azure, Google), in-memory database systems (HANA, Hazel cast, etc) and other database systems - traditional RDBMS (Terradata, SQL Server, Oracle), and NoSQL databases (Cassandra, MongoDB, DynamoDB)\\nComfortable in dashboard development (Tableau, Powerbi, Qlik, etc) and in developing data analytics models (R, Python, Spark)\\nEXPERIENCE AND QUALIFICATION:\\nMasters degree from top-tier college/university in Computer Science, Statistics, Economics, or other closely-related field\\nMinimum of 6 years' hands-on experience with a strong data background\\nExtensive experience working with Big Data tools and building data solutions for advanced analytics\\nExperience with statistical software, scripting languages, and packages (e.g. R, MATLAB, SAS, and Python)\\nConsiderable experience in solving business problems with advanced analytical solutions\\nProven experience in conducting statistical analysis and building models with advanced scripting language such as R, SPSS, or other analytic tools.\\nExperience building and deploying predictive models, web scraping, and scalable data pipelines.\\nStrong understanding of statistical methods and skills such as Bayesian Networks Inference, linear and non-linear regression, hierarchical, mixed models/multi-level modeling\\nPractical knowledge across data extraction and transformation tools - traditional ETL tools (Informatica, Altryx) as well as more recent big data tools\\nFinancial Renumeration will be based on your skills and expertise.\\nNotice Period of 30 to 45 days preferred\\nPrevious working experience in Middle East and Gulf regions preferred Roles and Responsibilities\\n\\n\\nDesired Candidate Profile\\n\\n\\nPerks and Benefits\\n\\n\\nRoleData Analyst\\nIndustry TypeBanking\\nFunctional AreaAnalytics & Business Intelligence\\nEmployment TypeFull Time, Temporary/Contractual\\nRole CategoryAnalytics & BI\\nEducation\\nUG :Any Graduate\\nKey Skills\\nData ScienceBig Data AnalyticsHiveSqoopHdfs\",\n",
       " '--',\n",
       " 'Job description\\nRoles and Responsibilities\\n\\nDetails in lined for Hiring Team to focus:\\nThe hiring is for a single Data Scientist (7-8+yrs) as he/she shall be an individual contributor.\\nWe shall seek for a strong java/python/scala with expertise into frameworks ML (spark/keras/tensorflow).\\nML concepts has to be thorough with proven expertise in ( Decision Trees, Random Forest, NLP) Deep Learning is excluded.\\nDesired Candidate Profile\\n\\n\\nPerks and Benefits\\n\\n\\nRoleTechnical Architect\\nIndustry TypeRecruitment / Staffing\\nFunctional AreaIT Software - Application Programming, Maintenance\\nEmployment TypeFull Time, Permanent\\nRole CategoryProgramming & Design\\nEducation\\nUG :Any Graduate\\nKey Skills\\nTensorflowJavaNLPSCALAKerasSparkDecision TreesDeep LearningPythonRandom Forest',\n",
       " '--',\n",
       " 'Job description\\nData Scientist Primary Location India, Bangalore Date posted 08/01/2021\\nApply Now Save Job ID: JR0024575\\n\\n\\nJob Title:\\nData Scientist\\n\\n\\nRole Overview:\\nData scientist will be doing research on innovative projects in platform engineering group at McAfee. Platform Engineering Group is the is one of the core groups responsible for collecting data from millions of sensors from various products of Enterprises, using the data to protect the customers, provide insights and necessary actions to be taken for security gap.\\n\\nThis position is an integral part of the McAfee Enterprise business segment which was acquired by Symphony Technology Group (STG) in July 2021. McAfee Enterprise and its team members remain committed to keeping governments and enterprises safe. This position is dedicated to and part of the McAfee Enterprise business.\\n\\n\\n\\nCompany Overview\\nMcAfee is a leader in personal security for consumers. Focused on protecting people, not just devices, McAfee consumer solutions adapt to users needs in an always online world, empowering them to live securely through integrated, intuitive solutions that protects their families and communities with the right security at the right moment.\\nAbout the Role:\\nDevelop Machine learning models to analyze and obtain practical insights from large volume of data that requires expertise at data exploration, analysis and feature engineering\\nExperiment and Develop POCs of innovative ideas to come up with new solutions for addressing security gaps\\nCreate machine learning pipelines to automate generation of efficient and better models\\nCommunicate and work with engineering teams to productionize the solutions\\nTaking ownership and responsibility of the solutions and driving to closure\\nParticipate in data and product analytics to develop customer insights and product features\\nImplement newer machine learning algorithms and models to improve the efficacy of the existing solutions\\nPublish research papers on the experiments and machine learning solutions\\nAbout you :\\n5+ years of experience in the field of Data Science\\n5+ years of programming experience in at least one of Python or Java\\n3+ years of working experience on large datasets using ML and experience with ML model life cycle\\nPhD degree in Computer Science, Data Science, Statistics, Mathematics or other related fields is preferred\\nDeep knowledge in Natural Language processing, Deep learning, statistics, predictive modeling and time series analysis.\\nPassionate about Cybersecurity and want to apply machine learning solutions in this space to solve security problems.\\nExperience working on Big data problems\\nExperience working on problems relevant to detecting risk, fraud and trust is an added advantage\\nExperience in working in AWS cloud environment is an added advantage\\nExperience with Publishing research papers\\n\\n\\nRoleResearch Scientist\\nIndustry TypeIT Services & Consulting\\nFunctional AreaMedical, Healthcare, R&D, Pharmaceuticals, Biotechnology\\nEmployment TypeFull Time, Permanent\\nRole CategoryR&D\\nEducation\\nUG :Any Graduate\\nPG :Post Graduation Not Required\\nKey Skills\\nComputer sciencePublishingdata scienceMachine learningPredictive modelingNatural language processingSensorsResearchAnalyticsPython',\n",
       " '--',\n",
       " 'Job description\\nDynamic recruiting professional with 7 - 10 years of high-performance tech recruiting experience with search firms and /or mid-large-sized technology companies.\\nExperience in engaging and hiring the best talent for Data Engineers, Data Scientist and SAP\\nOpen to learning from your peers managers, anything that helps you do your job better day in day out also often share best practices in hiring talent attraction strategies with them.\\nWork well with teams as also on your own as a high-impact individual contributor.\\nUse social media, job boards, Internet sourcing, and other technical means to source candidates for open jobs.\\nUnderstanding of modern recruiting methods like hackathons but are equally comfortable with old school methods as well.\\nWork with internal technology teams and hiring managers to assist with recruitment efforts across levels.\\nWork in sync with the company-wide recruitment strategy. This may include job posting optimization, recruiting marketing channel development, search selection using job boards, digital and non-digital employment marketing, comprehensive recruitment campaign planning, talent planning, stakeholder management, etc.\\nIdentify and source appropriate talent for current open roles within the organization using traditional non-traditional means of recruiting.\\nProactively develop talent pools/talent communities to dip into when hiring is in full swing.\\nManage the end-to-end recruitment process and life-cycle, including sourcing, initial assessments, telephonic personal interviews culminating in offers maintaining the appropriate MIS.\\nRoleRecruitment Executive\\nIndustry TypeIT Services & Consulting\\nFunctional AreaHR, Recruitment, Administration, IR\\nEmployment TypeFull Time, Permanent\\nRole CategoryHR/ Recruitment / IR\\nEducation\\nUG :Any Graduate\\nPG :Any Postgraduate\\nKey Skills\\nChannel DevelopmentSocial MediaCampaign PlanningSelectionHiringSourcingIndividual ContributorJob PostingRecruitment',\n",
       " '--',\n",
       " 'Job description\\nBasic Qualifications\\n3-5 years of hands-on experience in in data science, applied statistics, machine learning, data mining, statistical modeling tools and underlying algorithms 3-5 years of hands-on experience building production grade machine learning enabled solutions end to end.\\n3-5 years of experience in statistical modeling methods, time series, text mining, optimization, information retrieval\\n3-5 years hands-on experience using R, Python or and other languages appropriate for large scale analysis of numerical and textual data\\n3-5 years Hands-on experience using SQL and data mining\\nExperience with experiments, machine learning, deep learning, anomaly detection, predictive analysis, exploratory data analysis, and other areas of data science\\nExperience using large data systems Advanced data visualization experience\\nExperience in business, program and/or strategy planning Experience in business, program and/or strategy planning Experience in business, program and/or strategy planning.\\nJob Requirements:\\nPython, SQL, R Language, Machine Learning for Rules, AI Hub, Machine Learning Fundamentals, Machine Learning Application\\nRoleResearch Scientist\\nIndustry TypeIT Services & Consulting\\nFunctional AreaMedical, Healthcare, R&D, Pharmaceuticals, Biotechnology\\nEmployment TypeFull Time, Permanent\\nRole CategoryR&D\\nEducation\\nUG :Any Graduate\\nPG :Any Postgraduate\\nKey Skills\\nText miningData analysisStatistical modelingdata scienceMachine learningInformation retrievaldata visualizationData miningSQLPython',\n",
       " '--',\n",
       " 'Job description\\nDear Candidates\\nWe are looking for a competent and enthusiastic candidate with the below requirement. This vital role ensures Cunesoft India Pvt Ltd (a Phlexglobal Company) Bangalore can provide a high-quality end product to internal and external users. This position requires strong technical and communication skills as well as both independent and team working, including working closely with all other areas of the software delivery team and the rest of the Technology department.\\nRoles and Responsibilities\\n\\nKey Activities\\nDevelop and improve the existing data mining and NLP related processes within our Regulatory Data Management platform\\nDevelop new ways of improving and transforming the regulatory processes of Phlexglobal customers.\\nInteract with product management, project management and development teams to develop additional modules and functions within the Phlexglobal Cloud Platform\\nDesign and create solutions for pre specified modules and functions\\nUse existing tools and techniques to develop and test new and existing work\\nDefine, create and execute automated test cases, i.e. unit tests\\nParticipate in troubleshooting and triaging of issues with different teams to drive towards root cause identification and resolution\\nSupport production deployment of applications and perform validation testing during the off-hours maintenance windows\\nSupport and fix existing and new identified issues by either customers or internal test teams.\\n\\nDesired Candidate Profile\\n\\n\\nRequired Skills & Experience\\n\\nMinimum 3+ years working experience in NLP, Artificial Intelligence, Machine Learning, Text Mining, Neural Networks\\nStrong programming skills using PYTHON\\nIn depth experience with OpenNLP, Stanford NLP or related NLP / data mining technologies\\nIn depth experience with Python and data libraries such as scikit learn, pandas, numpy, etc.\\nSelecting features, building and optimizing classifiers using Machine learning techniques\\nExcellent understanding of Machine Learning Techniques and Algorithms.\\nMust have Data mining / Natural Language Processing experience\\nMust have very good understanding of GIT\\nProcessing, Cleansing, and verifying the integrity of data\\nDevelop custom data models and algorithms to apply to data sets.\\nDefining validation strategies\\nDefining the preprocessing or feature engineering to be done on a given dataset\\nDefining data augmentation pipelines\\nTraining models and tuning their hyperparameters\\nAnalyzing the errors of the model and designing strategies to overcome them\\nDeploying models to production\\n\\nAdded advantages\\n3+ years experience using Microsoft .NET / C#\\nExposure to ML.Net, AutoML, NimbusML, etc\\nGood knowledge of Microsoft Visual Studio is preferred\\nGood to have Microsoft SQL Server, preferably Microsoft SQL Azure\\nPrevious experience in the Life sciences area\\n\\nOther requirements\\nExcellent verbal and written communication skills\\nMust be flexible, independent and self motivated\\nPunctual, Regular and consistent attendance\\nAs part of the Interview process, you should have attempted the below mentioned Kaggle project.\\n\\nhttps://www.kaggle.com/c/titanic\\n\\nWe would like to arrange a phone interview with you. Please confirm your interest in this position by sending your recent CV attached along with below details.\\n\\nTotal years of Experience :\\n\\nRelevant Experience :\\n\\nCurrent CTC :\\n\\nExpected CTC :\\n\\nNotice Period :\\n\\nCurrent Location :\\n\\nBest time to talk to you :\\n\\nCandidates with relevant experience can contact me.\\n\\nWe are looking for a candidate who can join us immediately / in less than 15-20 days / 30 days / ASAP\\n\\nPlease ignore, if you have already been interviewed within 3 months.\\n\\nThanks\\nSrini\\n\\nsarumugam@phlexglobal.com\\n+91 63660 85842\\n\\nDot Net Developer\\n\\nJunior (3-5 yrs), Mid (5-8 yrs) & Lead (8-12 yrs) level roles.\\n\\nCommercial experience in web development using the full Microsoft .Net development stack (specifically C#, MVC, .Net Core), SQL, front-end frameworks (jQuery, React, etc).\\n\\nCoding, Entity framework, Linq, Source control system (Any - TFS or GIT), Data structures\\n\\nSkilled in modern development principles (Agile, SOLID, TDD, design patterns, IoC)\\n\\nAt least theoretical knowledge - know-SQL database (example\\nAzure Cosmos)\\n\\nGood to have - Ideally experience of Azure, MVVM, microservices, message bus, containerisation, serverless.\\n\\nMicrosoft .Net development stack, C#, MVC, .Net Core, SQL, front-end frameworks, jQuery, React, Entity framework, Linq, TFS, GIT, Data structures, Agile, SOLID, TDD, design patterns, IoC, SQL database, Azure Cosmos, Azure, MVVM, microservices, message bus, containerisation, serverless\\nRoleSoftware Developer\\nIndustry TypePharmaceutical & Life Sciences\\nFunctional AreaIT Software - Application Programming, Maintenance\\nEmployment TypeFull Time, Permanent\\nRole CategoryProgramming & Design\\nEducation\\nUG :Graduation Not Required\\nKey Skills\\npandaspythonnlpscikitlearndataminingneuralnetworkdeeplearningmachinelearningdatasciencenumpynaturallanguageprocessingartificialintelligence',\n",
       " '--',\n",
       " \"Job description\\nAbout the role\\nWe are looking for skilled motivated professionals who will support and own multiple projects globally that drive business growth while still balancing compliance risk and partner friction. The role will cover areas such as (not limited to) Sanctions screening; Partner and user compliance; Customer due diligence; Transaction monitoring; Metrics development and monitoring; and Model and Strategy development - to help balance partner friction and compliance risk\\nWhat you'll do\\nDevelop and manage user risk rating models that meet applicable regulatory requirements and are aligned with standard methodologies and practices. Interpret large amounts of complex data to formulate problem statements, concise conclusions regarding underlying risk dynamics, trends, and opportunities Identify key risk indicators and metrics while developing and monitoring key parameters, enhance reporting, and identify new areas of analytic focus to better understand operational risk.\\nOwn compliance specific area - end to end - ranging from the discovery of the business problem to eventually working with the Engineering/Product teams to execute it Strategy design and analysis of domain-specific use-cases such as Reduction of cost of compliance;\\nImprove monitoring mechanism to alert any anomaly in compliance or business metric; Improve funnel for Partner onboarding, thereby improving user experience; and Drive multiple experiments to evaluate and quantify the hypothesis Extensive data analytics and SQL query writing Predictive modeling / Machine learning algorithms - using random Forest / Decision tree / Logistic regression\\nKey Qualifications\\n6 years of proven experience in a data-focused role such as product analytics, business analytics, business operations, or data science Education in Engineering, Computer Science, Math, Economics, Statistics or equivalent experience Past experience in Payments or Compliance with a Product / Tech company serving millions of customers on multiple platforms and countries BA/BS in Mathematics, Statistics, Computer Science, Economics, Business or analytical field SQL mastery.\\nWrite efficient and complex code in SQL Experience in Python/R and in experimentation, A/B testing, and statistical modeling Define business metrics, including Key Performance Indicators, for financial products, in close partnership with Product Management and other leaders Proven ability to handle large datasets, explore and utilize raw data feeds\\nExcellent data visualization skills Love of data - you just go get the data you need and turn it into an insightful story. You know how to convert data into decisions without getting stuck in paralysis by analysis A well-organized, structured approach to problem-solving\\nStrong sense of ownership, accountability, and entrepreneurial spirit Able to lead change and solution-oriented Great communicator, problem-solver confident in decision making Independent autonomous, while still a strong teammate Enthusiastic, self-starting and thrives in changing, agile environment.\\nRoleBusiness Analyst\\nIndustry TypeInternet\\nFunctional AreaIT Software - Application Programming, Maintenance\\nEmployment TypeFull Time, Permanent\\nRole CategorySystem Design/Implementation/ERP/CRM\\nEducation\\nUG :Any Graduate\\nPG :Post Graduation Not Required\\nKey Skills\\nProduct managementComputer scienceIT strategyBusiness analyticsAnalyticalMachine learningAgileMonitoringSQLPython\",\n",
       " '--',\n",
       " 'Job description\\nRoles and Responsibilities\\nAs a Senior Associate you will be responsible for the overall health of a client engagement. You will be challenged with a mix of technical as well as business strategy/planning problems. As a key member of the team, you will be expected to drive adoption of new technologies, tools and process improvements within the team to build world class analytical capabilities for customers.\\n\\nPrimary Responsibilities:\\n\\nAbility to work with business users to refine analytical requirements and breakdown/solve\\ncomplex business problems\\nStaying connected with analytics industry trends in data, techniques, technologies and leveraging\\nthem to develop learning packages as well as evangelizing their use across teams\\nDepending on the client engagement, leading a team of analysts/associates and mentoring people in a fast paced, learning driven environment\\nStrong application knowledge of tools (R/SAS/Python/SPSS etc.)\\nHands on experience in statistical techniques (Regression, Machine Learning, Classification, Time series, etc.)\\nExperience of working on analytics projects and initiatives with 5+ years of experience\\n\\nAdditional Responsibilities:\\nProficiency with Git\\nUnderstanding of software development methodologies (Agile essential), values, and procedures\\nExperience or certifications with visualization tools (Tableau/Qlik/PowerBI etc.)\\nWell versed with big data handling using Hadoop, etc.\\nProject management certifications: PMP/ CAPM/ CSM\\n\\nDesired Candidate Profile\\n\\n\\nPerks and Benefits\\n\\n\\nRoleAnalytics Manager\\nIndustry TypeAnalytics / KPO / Research\\nFunctional AreaAnalytics & Business Intelligence\\nEmployment TypeFull Time, Permanent\\nRole CategoryAnalytics & BI\\nEducation\\nUG :B.Sc in Maths, Statistics, B.Tech/B.E. in Any Specialization\\nPG :M.A in Economics, MS/M.Sc(Science) in Maths, Statistics, M.Tech in Any Specialization\\nDoctorate :Ph.D/Doctorate in Statistics, Economics\\nKey Skills\\nRData ScientistPython\\nProject ManagementSASClassificationHadoopBig DataTableauMachine LearningAnalyticsAnalytics Project\\nSkills highlighted with ‘‘ are preferred keyskills']"
      ]
     },
     "execution_count": 547,
     "metadata": {},
     "output_type": "execute_result"
    }
   ],
   "source": [
    "for i in job_opening_urls[0:10]:\n",
    "    driver.get(i)\n",
    "    try:\n",
    "        job_title = driver.find_element_by_xpath(\"//h1[@class='av-special-heading-tag']\")\n",
    "        job_titles.append(job_title.text)\n",
    "    except:\n",
    "        job_titles.append(\"--\")\n",
    "        \n",
    "    try:\n",
    "        job_title = driver.find_element_by_xpath(\"//section[@class='job-desc']\")\n",
    "        job_titles.append(job_title.text)\n",
    "    except:\n",
    "        job_titles.append(\"--\")\n",
    "        \n",
    "job_titles"
   ]
  },
  {
   "cell_type": "markdown",
   "metadata": {},
   "source": [
    "Scrape job description"
   ]
  },
  {
   "cell_type": "code",
   "execution_count": null,
   "metadata": {},
   "outputs": [],
   "source": []
  },
  {
   "cell_type": "markdown",
   "metadata": {},
   "source": [
    "Q3: In this question you have to scrape data using the filters available on the \n",
    "webpage as shown below:\n"
   ]
  },
  {
   "cell_type": "code",
   "execution_count": 550,
   "metadata": {},
   "outputs": [],
   "source": [
    "driver = webdriver.Chrome(r\"C:\\Users\\Ankita\\Downloads\\chromedriver_win32\\chromedriver.exe\")"
   ]
  },
  {
   "cell_type": "markdown",
   "metadata": {},
   "source": [
    "Load the chrome"
   ]
  },
  {
   "cell_type": "code",
   "execution_count": 551,
   "metadata": {},
   "outputs": [],
   "source": [
    "url = 'https://www.naukri.com/jobs-in-india'\n",
    "driver.get(url)"
   ]
  },
  {
   "cell_type": "markdown",
   "metadata": {},
   "source": [
    "Enter naukari url"
   ]
  },
  {
   "cell_type": "code",
   "execution_count": 552,
   "metadata": {},
   "outputs": [
    {
     "data": {
      "text/plain": [
       "<selenium.webdriver.remote.webelement.WebElement (session=\"cf81141dcb7feefb71418f93f55cb988\", element=\"3dd082ff-1235-4a8d-9437-902a80beab6b\")>"
      ]
     },
     "execution_count": 552,
     "metadata": {},
     "output_type": "execute_result"
    }
   ],
   "source": [
    "search_btn = driver.find_element_by_xpath(\"//span[@class='quick-search-bar__view__modify-link']\")\n",
    "search_btn"
   ]
  },
  {
   "cell_type": "code",
   "execution_count": 553,
   "metadata": {},
   "outputs": [],
   "source": [
    "search_btn.click()"
   ]
  },
  {
   "cell_type": "markdown",
   "metadata": {},
   "source": [
    "Enter search button"
   ]
  },
  {
   "cell_type": "code",
   "execution_count": 554,
   "metadata": {},
   "outputs": [
    {
     "data": {
      "text/plain": [
       "<selenium.webdriver.remote.webelement.WebElement (session=\"cf81141dcb7feefb71418f93f55cb988\", element=\"2bb6ebff-e497-48f4-a390-50046f9fc72f\")>"
      ]
     },
     "execution_count": 554,
     "metadata": {},
     "output_type": "execute_result"
    }
   ],
   "source": [
    "search_job = driver.find_element_by_id('qsb-keyword-sugg')\n",
    "search_job"
   ]
  },
  {
   "cell_type": "code",
   "execution_count": 555,
   "metadata": {},
   "outputs": [],
   "source": [
    "search_job.send_keys(\"Data Scientist\")"
   ]
  },
  {
   "cell_type": "markdown",
   "metadata": {},
   "source": [
    "Enter Data Scientist on job search field"
   ]
  },
  {
   "cell_type": "code",
   "execution_count": 556,
   "metadata": {},
   "outputs": [
    {
     "data": {
      "text/plain": [
       "<selenium.webdriver.remote.webelement.WebElement (session=\"cf81141dcb7feefb71418f93f55cb988\", element=\"23fd8d18-bc42-4eca-bda4-14e474efa3cf\")>"
      ]
     },
     "execution_count": 556,
     "metadata": {},
     "output_type": "execute_result"
    }
   ],
   "source": [
    "search_btn = driver.find_element_by_xpath(\"//button[@class='btn-primary']\")\n",
    "search_btn"
   ]
  },
  {
   "cell_type": "code",
   "execution_count": 557,
   "metadata": {},
   "outputs": [],
   "source": [
    "search_btn.click()"
   ]
  },
  {
   "cell_type": "markdown",
   "metadata": {},
   "source": [
    "Click on search button"
   ]
  },
  {
   "cell_type": "code",
   "execution_count": 558,
   "metadata": {},
   "outputs": [],
   "source": [
    "location_filter = driver.find_element_by_xpath('/html/body/div[1]/div[3]/div[2]/section[1]/div[2]/div[3]/div[2]/div[3]/label/i')\n",
    "location_filter.click()"
   ]
  },
  {
   "cell_type": "markdown",
   "metadata": {},
   "source": [
    "Click and select location fielter"
   ]
  },
  {
   "cell_type": "code",
   "execution_count": 559,
   "metadata": {},
   "outputs": [],
   "source": [
    "salary_filter = driver.find_element_by_xpath('/html/body/div[1]/div[3]/div[2]/section[1]/div[2]/div[4]/div[2]/div[2]/label/i')\n",
    "salary_filter.click()"
   ]
  },
  {
   "cell_type": "markdown",
   "metadata": {},
   "source": [
    "Click and select salary filter"
   ]
  },
  {
   "cell_type": "code",
   "execution_count": 560,
   "metadata": {},
   "outputs": [
    {
     "data": {
      "text/plain": [
       "[<selenium.webdriver.remote.webelement.WebElement (session=\"cf81141dcb7feefb71418f93f55cb988\", element=\"ea6cf3e3-a93c-439d-bd1b-23f3c12d83a9\")>,\n",
       " <selenium.webdriver.remote.webelement.WebElement (session=\"cf81141dcb7feefb71418f93f55cb988\", element=\"0218af4c-3169-4379-8fe1-5d7d88b1d1c2\")>,\n",
       " <selenium.webdriver.remote.webelement.WebElement (session=\"cf81141dcb7feefb71418f93f55cb988\", element=\"48cd5dce-6a16-4b78-9ce7-f1fb202105ae\")>,\n",
       " <selenium.webdriver.remote.webelement.WebElement (session=\"cf81141dcb7feefb71418f93f55cb988\", element=\"32dbf5dd-c342-47b5-9c99-f054011ec856\")>,\n",
       " <selenium.webdriver.remote.webelement.WebElement (session=\"cf81141dcb7feefb71418f93f55cb988\", element=\"2dfe4f3f-bf54-4181-89e7-d93f5e696e39\")>,\n",
       " <selenium.webdriver.remote.webelement.WebElement (session=\"cf81141dcb7feefb71418f93f55cb988\", element=\"48d1f2bd-9115-4a9d-bc18-f7db51ec8919\")>,\n",
       " <selenium.webdriver.remote.webelement.WebElement (session=\"cf81141dcb7feefb71418f93f55cb988\", element=\"21f5f608-6c4f-43db-bb47-3c644c0d58b9\")>,\n",
       " <selenium.webdriver.remote.webelement.WebElement (session=\"cf81141dcb7feefb71418f93f55cb988\", element=\"2ad97646-1b30-4b07-a029-8f7572136f45\")>,\n",
       " <selenium.webdriver.remote.webelement.WebElement (session=\"cf81141dcb7feefb71418f93f55cb988\", element=\"786feeb0-b9ee-4f5c-9ad8-22598c706227\")>,\n",
       " <selenium.webdriver.remote.webelement.WebElement (session=\"cf81141dcb7feefb71418f93f55cb988\", element=\"9633c6f5-22d9-45ad-8d94-c29df80c1677\")>,\n",
       " <selenium.webdriver.remote.webelement.WebElement (session=\"cf81141dcb7feefb71418f93f55cb988\", element=\"36cb90ba-4d00-4deb-84d7-1766ce7540d1\")>,\n",
       " <selenium.webdriver.remote.webelement.WebElement (session=\"cf81141dcb7feefb71418f93f55cb988\", element=\"7e0590d5-bfb0-4852-9448-46949d814591\")>,\n",
       " <selenium.webdriver.remote.webelement.WebElement (session=\"cf81141dcb7feefb71418f93f55cb988\", element=\"a9346844-0ce0-401b-89fb-3952e1f69778\")>,\n",
       " <selenium.webdriver.remote.webelement.WebElement (session=\"cf81141dcb7feefb71418f93f55cb988\", element=\"d386894b-6038-4dfe-b46e-3d12d0138c8c\")>,\n",
       " <selenium.webdriver.remote.webelement.WebElement (session=\"cf81141dcb7feefb71418f93f55cb988\", element=\"2ac13be7-319b-4cfc-9557-d6ce3f404b88\")>,\n",
       " <selenium.webdriver.remote.webelement.WebElement (session=\"cf81141dcb7feefb71418f93f55cb988\", element=\"52d2f132-2145-42c9-97e2-3b516fb992a4\")>,\n",
       " <selenium.webdriver.remote.webelement.WebElement (session=\"cf81141dcb7feefb71418f93f55cb988\", element=\"6bc836b2-c95a-4284-91c8-7c9ee2254b75\")>,\n",
       " <selenium.webdriver.remote.webelement.WebElement (session=\"cf81141dcb7feefb71418f93f55cb988\", element=\"a3f3a3e4-9593-47f4-ad62-35b3c9d58a0b\")>,\n",
       " <selenium.webdriver.remote.webelement.WebElement (session=\"cf81141dcb7feefb71418f93f55cb988\", element=\"24c45572-dcd2-4917-a35b-c012bfb048fe\")>,\n",
       " <selenium.webdriver.remote.webelement.WebElement (session=\"cf81141dcb7feefb71418f93f55cb988\", element=\"e77a3dc7-7bb7-4f57-bca7-643d93e3a5a1\")>]"
      ]
     },
     "execution_count": 560,
     "metadata": {},
     "output_type": "execute_result"
    }
   ],
   "source": [
    "titles_tags=driver.find_elements_by_xpath(\"//a[@class='title fw500 ellipsis']\")\n",
    "titles_tags"
   ]
  },
  {
   "cell_type": "code",
   "execution_count": 561,
   "metadata": {},
   "outputs": [
    {
     "data": {
      "text/plain": [
       "['Data Scientist / Sr. Data Scientist',\n",
       " 'Only Fresher / Data Scientist / Data Analyst / Analytics - MNC Jobs',\n",
       " 'Data Scientist',\n",
       " 'Senior Data Scientist - Noida',\n",
       " 'Data Scientist / Data Analyst',\n",
       " 'Immediate Openings For DATA Scientist with 6 To 7 yrs of Experience',\n",
       " 'Data Scientist',\n",
       " 'Senior Data Scientist',\n",
       " 'Data Scientist',\n",
       " 'Data Scientist - Machine Learning/NLP']"
      ]
     },
     "execution_count": 561,
     "metadata": {},
     "output_type": "execute_result"
    }
   ],
   "source": [
    "job_titles=[]\n",
    "for i in titles_tags[0:10]:\n",
    "    job_titles.append(i.text)\n",
    "job_titles"
   ]
  },
  {
   "cell_type": "markdown",
   "metadata": {},
   "source": [
    "Scrape job titles"
   ]
  },
  {
   "cell_type": "code",
   "execution_count": 562,
   "metadata": {},
   "outputs": [
    {
     "data": {
      "text/plain": [
       "[<selenium.webdriver.remote.webelement.WebElement (session=\"cf81141dcb7feefb71418f93f55cb988\", element=\"f8acd4b3-3ba6-44cf-bcc5-4199e3f2330c\")>,\n",
       " <selenium.webdriver.remote.webelement.WebElement (session=\"cf81141dcb7feefb71418f93f55cb988\", element=\"4b9263d5-1ee8-47e7-9453-f98557ef5a77\")>,\n",
       " <selenium.webdriver.remote.webelement.WebElement (session=\"cf81141dcb7feefb71418f93f55cb988\", element=\"98181e7f-aa6f-4c5e-bb42-debb46e661be\")>,\n",
       " <selenium.webdriver.remote.webelement.WebElement (session=\"cf81141dcb7feefb71418f93f55cb988\", element=\"76696bfe-7d6a-401b-9cb4-5b0f943264a2\")>,\n",
       " <selenium.webdriver.remote.webelement.WebElement (session=\"cf81141dcb7feefb71418f93f55cb988\", element=\"542b015f-fa72-4aee-9b1e-f0057bb0fdce\")>,\n",
       " <selenium.webdriver.remote.webelement.WebElement (session=\"cf81141dcb7feefb71418f93f55cb988\", element=\"41d7830f-9718-4c07-8047-612363deb3e3\")>,\n",
       " <selenium.webdriver.remote.webelement.WebElement (session=\"cf81141dcb7feefb71418f93f55cb988\", element=\"9da15281-812d-4e5d-b0d0-6b446728e185\")>,\n",
       " <selenium.webdriver.remote.webelement.WebElement (session=\"cf81141dcb7feefb71418f93f55cb988\", element=\"5211ec44-4b9f-4102-9f7d-229d8403625c\")>,\n",
       " <selenium.webdriver.remote.webelement.WebElement (session=\"cf81141dcb7feefb71418f93f55cb988\", element=\"dacbab34-65be-455a-8c1d-505aacf503d6\")>,\n",
       " <selenium.webdriver.remote.webelement.WebElement (session=\"cf81141dcb7feefb71418f93f55cb988\", element=\"cc3809ac-13d7-44ad-99a0-35bef5e520ae\")>,\n",
       " <selenium.webdriver.remote.webelement.WebElement (session=\"cf81141dcb7feefb71418f93f55cb988\", element=\"b37170e0-b382-490d-89d3-dfc1bc167187\")>,\n",
       " <selenium.webdriver.remote.webelement.WebElement (session=\"cf81141dcb7feefb71418f93f55cb988\", element=\"0076a7de-15f4-4cbf-a3fd-9daba749a6c1\")>,\n",
       " <selenium.webdriver.remote.webelement.WebElement (session=\"cf81141dcb7feefb71418f93f55cb988\", element=\"08c07ac8-18ce-4e10-98a5-d1e848177c05\")>,\n",
       " <selenium.webdriver.remote.webelement.WebElement (session=\"cf81141dcb7feefb71418f93f55cb988\", element=\"3e22725c-3b71-4666-8cbb-283c04fab974\")>,\n",
       " <selenium.webdriver.remote.webelement.WebElement (session=\"cf81141dcb7feefb71418f93f55cb988\", element=\"9fc82f49-8532-403a-9cd4-46983dcfddcc\")>,\n",
       " <selenium.webdriver.remote.webelement.WebElement (session=\"cf81141dcb7feefb71418f93f55cb988\", element=\"7a9ea908-a232-41b2-b17d-a21ff9d88545\")>,\n",
       " <selenium.webdriver.remote.webelement.WebElement (session=\"cf81141dcb7feefb71418f93f55cb988\", element=\"4a05557d-4dd6-4f6b-b6f6-cea79ea30a83\")>,\n",
       " <selenium.webdriver.remote.webelement.WebElement (session=\"cf81141dcb7feefb71418f93f55cb988\", element=\"5a95b653-774d-473c-8c14-b08277e52282\")>,\n",
       " <selenium.webdriver.remote.webelement.WebElement (session=\"cf81141dcb7feefb71418f93f55cb988\", element=\"37a23d3f-e3ff-420e-ab4f-ae0290340a50\")>,\n",
       " <selenium.webdriver.remote.webelement.WebElement (session=\"cf81141dcb7feefb71418f93f55cb988\", element=\"11a0bfdd-d5dd-470b-85ad-5276a7352975\")>]"
      ]
     },
     "execution_count": 562,
     "metadata": {},
     "output_type": "execute_result"
    }
   ],
   "source": [
    "companies_tags=driver.find_elements_by_xpath(\"//a[@class='subTitle ellipsis fleft']\")\n",
    "companies_tags\n"
   ]
  },
  {
   "cell_type": "code",
   "execution_count": 563,
   "metadata": {},
   "outputs": [
    {
     "data": {
      "text/plain": [
       "['WEGARNER SOLUTIONS PRIVATE LIMITED',\n",
       " 'GABA Consultancy services',\n",
       " 'CBRE South Asia Pvt Ltd',\n",
       " 'Optum Global Solutions (India) Private Limited',\n",
       " 'CARS24',\n",
       " 'Entune IT Consulting Private Limited',\n",
       " 'Decimal Technologies Pvt Ltd.',\n",
       " 'inVentiv International Pharma Services Pvt. Ltd.',\n",
       " 'R Systems International Ltd.',\n",
       " 'TalPro']"
      ]
     },
     "execution_count": 563,
     "metadata": {},
     "output_type": "execute_result"
    }
   ],
   "source": [
    "company_names=[]\n",
    "for i in companies_tags[0:10]:\n",
    "    company_names.append(i.text)\n",
    "company_names"
   ]
  },
  {
   "cell_type": "markdown",
   "metadata": {},
   "source": [
    "Scrape company name"
   ]
  },
  {
   "cell_type": "code",
   "execution_count": 564,
   "metadata": {},
   "outputs": [
    {
     "data": {
      "text/plain": [
       "[<selenium.webdriver.remote.webelement.WebElement (session=\"cf81141dcb7feefb71418f93f55cb988\", element=\"2a195708-d2b9-4338-827c-41134300c993\")>,\n",
       " <selenium.webdriver.remote.webelement.WebElement (session=\"cf81141dcb7feefb71418f93f55cb988\", element=\"71ab5c5f-faf5-4d8c-887e-72b9c6bcb5c9\")>,\n",
       " <selenium.webdriver.remote.webelement.WebElement (session=\"cf81141dcb7feefb71418f93f55cb988\", element=\"c7c4adc4-0e16-43a8-ad7a-4d2d96f9205c\")>,\n",
       " <selenium.webdriver.remote.webelement.WebElement (session=\"cf81141dcb7feefb71418f93f55cb988\", element=\"5a06a9c5-6d51-4796-a8af-924a8c5c6e1b\")>,\n",
       " <selenium.webdriver.remote.webelement.WebElement (session=\"cf81141dcb7feefb71418f93f55cb988\", element=\"8e9e25e2-e55a-428b-b7d9-0d9ff8633338\")>,\n",
       " <selenium.webdriver.remote.webelement.WebElement (session=\"cf81141dcb7feefb71418f93f55cb988\", element=\"3721bfea-2469-4ebc-ae85-b671edb1f757\")>,\n",
       " <selenium.webdriver.remote.webelement.WebElement (session=\"cf81141dcb7feefb71418f93f55cb988\", element=\"c7acaf23-20d3-4a61-a60c-4cd4d4f27f7e\")>,\n",
       " <selenium.webdriver.remote.webelement.WebElement (session=\"cf81141dcb7feefb71418f93f55cb988\", element=\"2400712a-40b1-4d3c-a73b-aae34c6893f6\")>,\n",
       " <selenium.webdriver.remote.webelement.WebElement (session=\"cf81141dcb7feefb71418f93f55cb988\", element=\"873825f0-f1c5-4fdd-ba65-4d10fa4a8812\")>,\n",
       " <selenium.webdriver.remote.webelement.WebElement (session=\"cf81141dcb7feefb71418f93f55cb988\", element=\"d773dde0-8db3-4591-b026-ec028516f381\")>,\n",
       " <selenium.webdriver.remote.webelement.WebElement (session=\"cf81141dcb7feefb71418f93f55cb988\", element=\"32ba498c-5e34-445c-ae97-d3633f9a6fe1\")>,\n",
       " <selenium.webdriver.remote.webelement.WebElement (session=\"cf81141dcb7feefb71418f93f55cb988\", element=\"45f2897c-b6c0-4e56-a912-fe382494ce71\")>,\n",
       " <selenium.webdriver.remote.webelement.WebElement (session=\"cf81141dcb7feefb71418f93f55cb988\", element=\"da0c5dde-a6fe-41fb-924d-28f8641aaca9\")>,\n",
       " <selenium.webdriver.remote.webelement.WebElement (session=\"cf81141dcb7feefb71418f93f55cb988\", element=\"96452393-d75a-4b37-9225-7748d9dbd530\")>,\n",
       " <selenium.webdriver.remote.webelement.WebElement (session=\"cf81141dcb7feefb71418f93f55cb988\", element=\"cadc09b1-0955-408c-8213-3f89ca85b9aa\")>,\n",
       " <selenium.webdriver.remote.webelement.WebElement (session=\"cf81141dcb7feefb71418f93f55cb988\", element=\"44968441-2169-4970-84eb-d172d69c9853\")>,\n",
       " <selenium.webdriver.remote.webelement.WebElement (session=\"cf81141dcb7feefb71418f93f55cb988\", element=\"35f10c57-55ed-4123-848a-b5131a3a755a\")>,\n",
       " <selenium.webdriver.remote.webelement.WebElement (session=\"cf81141dcb7feefb71418f93f55cb988\", element=\"093c7286-a2aa-4a60-b81c-9362ce49bbd2\")>,\n",
       " <selenium.webdriver.remote.webelement.WebElement (session=\"cf81141dcb7feefb71418f93f55cb988\", element=\"52cee730-5a0b-47c7-8b68-504956c09a27\")>,\n",
       " <selenium.webdriver.remote.webelement.WebElement (session=\"cf81141dcb7feefb71418f93f55cb988\", element=\"74a2639f-775e-4841-a950-e3810a08ee04\")>]"
      ]
     },
     "execution_count": 564,
     "metadata": {},
     "output_type": "execute_result"
    }
   ],
   "source": [
    "experience_tags=driver.find_elements_by_xpath(\"//li[@class='fleft grey-text br2 placeHolderLi experience']//span\")\n",
    "experience_tags"
   ]
  },
  {
   "cell_type": "code",
   "execution_count": 565,
   "metadata": {},
   "outputs": [
    {
     "data": {
      "text/plain": [
       "['0-5 Yrs',\n",
       " '0-0 Yrs',\n",
       " '2-4 Yrs',\n",
       " '2-6 Yrs',\n",
       " '1-5 Yrs',\n",
       " '5-8 Yrs',\n",
       " '1-3 Yrs',\n",
       " '3-6 Yrs',\n",
       " '5-10 Yrs',\n",
       " '2-6 Yrs']"
      ]
     },
     "execution_count": 565,
     "metadata": {},
     "output_type": "execute_result"
    }
   ],
   "source": [
    "experience_required=[]\n",
    "for i in experience_tags[0:10]:\n",
    "    experience_required.append(i.text)\n",
    "experience_required"
   ]
  },
  {
   "cell_type": "markdown",
   "metadata": {},
   "source": [
    "Scrape experience information"
   ]
  },
  {
   "cell_type": "code",
   "execution_count": 566,
   "metadata": {},
   "outputs": [
    {
     "data": {
      "text/plain": [
       "[<selenium.webdriver.remote.webelement.WebElement (session=\"cf81141dcb7feefb71418f93f55cb988\", element=\"90ab7fde-1784-45fc-9269-0e32bbccdcb8\")>,\n",
       " <selenium.webdriver.remote.webelement.WebElement (session=\"cf81141dcb7feefb71418f93f55cb988\", element=\"4cfe72ff-8d7e-4edc-9750-1c6534f81d7d\")>,\n",
       " <selenium.webdriver.remote.webelement.WebElement (session=\"cf81141dcb7feefb71418f93f55cb988\", element=\"89ea7c3c-6714-4aa9-8c31-9692bd5c8ddf\")>,\n",
       " <selenium.webdriver.remote.webelement.WebElement (session=\"cf81141dcb7feefb71418f93f55cb988\", element=\"7bdee834-5ab5-49ac-998a-742a5fb9951a\")>,\n",
       " <selenium.webdriver.remote.webelement.WebElement (session=\"cf81141dcb7feefb71418f93f55cb988\", element=\"058a1620-2103-4357-852a-12089c3bd42e\")>,\n",
       " <selenium.webdriver.remote.webelement.WebElement (session=\"cf81141dcb7feefb71418f93f55cb988\", element=\"3129128b-80f4-4357-8274-832a538629ce\")>,\n",
       " <selenium.webdriver.remote.webelement.WebElement (session=\"cf81141dcb7feefb71418f93f55cb988\", element=\"4d6a1a6c-4bd0-4e4f-9717-4e65325642bf\")>,\n",
       " <selenium.webdriver.remote.webelement.WebElement (session=\"cf81141dcb7feefb71418f93f55cb988\", element=\"60633f16-e227-45b3-b97f-15fccca1466a\")>,\n",
       " <selenium.webdriver.remote.webelement.WebElement (session=\"cf81141dcb7feefb71418f93f55cb988\", element=\"3b807b47-1132-4be9-b1e3-98dd00513d17\")>,\n",
       " <selenium.webdriver.remote.webelement.WebElement (session=\"cf81141dcb7feefb71418f93f55cb988\", element=\"b224f783-6669-4d0e-91c4-7b4e70dcd836\")>,\n",
       " <selenium.webdriver.remote.webelement.WebElement (session=\"cf81141dcb7feefb71418f93f55cb988\", element=\"3bb0a6ef-ee4a-4941-9a4f-6fcc640f8c0a\")>,\n",
       " <selenium.webdriver.remote.webelement.WebElement (session=\"cf81141dcb7feefb71418f93f55cb988\", element=\"bb68088f-9670-453d-9bd4-0f2eac3b55c3\")>,\n",
       " <selenium.webdriver.remote.webelement.WebElement (session=\"cf81141dcb7feefb71418f93f55cb988\", element=\"0f0f9935-8a17-4aa5-81fe-a39ab1e2d625\")>,\n",
       " <selenium.webdriver.remote.webelement.WebElement (session=\"cf81141dcb7feefb71418f93f55cb988\", element=\"aa6858f3-f69e-4d0d-96a6-5bd06e759748\")>,\n",
       " <selenium.webdriver.remote.webelement.WebElement (session=\"cf81141dcb7feefb71418f93f55cb988\", element=\"44683245-2e27-4df1-af8f-dbff2e8561de\")>,\n",
       " <selenium.webdriver.remote.webelement.WebElement (session=\"cf81141dcb7feefb71418f93f55cb988\", element=\"6610057a-add8-4ab1-9362-f5b9463a8e8c\")>,\n",
       " <selenium.webdriver.remote.webelement.WebElement (session=\"cf81141dcb7feefb71418f93f55cb988\", element=\"c0030fe2-2b1d-4b37-98f3-e51570f86f91\")>,\n",
       " <selenium.webdriver.remote.webelement.WebElement (session=\"cf81141dcb7feefb71418f93f55cb988\", element=\"8cccdeda-ac09-4285-a5b5-d8e3c5aad3f5\")>,\n",
       " <selenium.webdriver.remote.webelement.WebElement (session=\"cf81141dcb7feefb71418f93f55cb988\", element=\"e792ecee-81f4-4517-8efc-08491c64d526\")>,\n",
       " <selenium.webdriver.remote.webelement.WebElement (session=\"cf81141dcb7feefb71418f93f55cb988\", element=\"ff8fbe53-8afa-4bbc-9830-3e37a9d37566\")>]"
      ]
     },
     "execution_count": 566,
     "metadata": {},
     "output_type": "execute_result"
    }
   ],
   "source": [
    "locations_tags=driver.find_elements_by_xpath(\"//li[@class='fleft grey-text br2 placeHolderLi location']//span[1]\")\n",
    "locations_tags"
   ]
  },
  {
   "cell_type": "code",
   "execution_count": 567,
   "metadata": {},
   "outputs": [
    {
     "data": {
      "text/plain": [
       "['Noida, Pune, Mumbai (All Areas)',\n",
       " 'Noida, Gurgaon/Gurugram, Delhi / NCR',\n",
       " 'Gurgaon/Gurugram',\n",
       " 'Noida',\n",
       " 'Gurgaon/Gurugram',\n",
       " 'Kolkata, Hyderabad/Secunderabad, Pune, Ahmedabad, Chennai, Bangalore/Bengaluru, Delhi / NCR, Mumbai (All Areas)',\n",
       " 'Gurgaon/Gurugram',\n",
       " 'Hyderabad/Secunderabad, Gurgaon/Gurugram, Bangalore/Bengaluru',\n",
       " 'Noida(Sector-59 Noida)',\n",
       " 'Gurgaon/Gurugram']"
      ]
     },
     "execution_count": 567,
     "metadata": {},
     "output_type": "execute_result"
    }
   ],
   "source": [
    "locations_list=[]\n",
    "for i in locations_tags[0:10]:\n",
    "    locations_list.append(i.text)\n",
    "locations_list"
   ]
  },
  {
   "cell_type": "markdown",
   "metadata": {},
   "source": [
    "Scrape location information"
   ]
  },
  {
   "cell_type": "code",
   "execution_count": 568,
   "metadata": {},
   "outputs": [
    {
     "name": "stdout",
     "output_type": "stream",
     "text": [
      "10 10 10 10\n"
     ]
    }
   ],
   "source": [
    "print(len(job_titles),len(company_names),len(experience_required),len(locations_list))"
   ]
  },
  {
   "cell_type": "code",
   "execution_count": 570,
   "metadata": {},
   "outputs": [],
   "source": [
    "#import pandas as pd\n",
    "jobs=pd.DataFrame({})\n",
    "jobs['title']=job_titles\n",
    "jobs['company']=company_names\n",
    "jobs['experience_required']=experience_required\n",
    "jobs['location']=locations_list"
   ]
  },
  {
   "cell_type": "code",
   "execution_count": 571,
   "metadata": {},
   "outputs": [
    {
     "data": {
      "text/html": [
       "<div>\n",
       "<style scoped>\n",
       "    .dataframe tbody tr th:only-of-type {\n",
       "        vertical-align: middle;\n",
       "    }\n",
       "\n",
       "    .dataframe tbody tr th {\n",
       "        vertical-align: top;\n",
       "    }\n",
       "\n",
       "    .dataframe thead th {\n",
       "        text-align: right;\n",
       "    }\n",
       "</style>\n",
       "<table border=\"1\" class=\"dataframe\">\n",
       "  <thead>\n",
       "    <tr style=\"text-align: right;\">\n",
       "      <th></th>\n",
       "      <th>title</th>\n",
       "      <th>company</th>\n",
       "      <th>experience_required</th>\n",
       "      <th>location</th>\n",
       "    </tr>\n",
       "  </thead>\n",
       "  <tbody>\n",
       "    <tr>\n",
       "      <th>0</th>\n",
       "      <td>Data Scientist / Sr. Data Scientist</td>\n",
       "      <td>WEGARNER SOLUTIONS PRIVATE LIMITED</td>\n",
       "      <td>0-5 Yrs</td>\n",
       "      <td>Noida, Pune, Mumbai (All Areas)</td>\n",
       "    </tr>\n",
       "    <tr>\n",
       "      <th>1</th>\n",
       "      <td>Only Fresher / Data Scientist / Data Analyst /...</td>\n",
       "      <td>GABA Consultancy services</td>\n",
       "      <td>0-0 Yrs</td>\n",
       "      <td>Noida, Gurgaon/Gurugram, Delhi / NCR</td>\n",
       "    </tr>\n",
       "    <tr>\n",
       "      <th>2</th>\n",
       "      <td>Data Scientist</td>\n",
       "      <td>CBRE South Asia Pvt Ltd</td>\n",
       "      <td>2-4 Yrs</td>\n",
       "      <td>Gurgaon/Gurugram</td>\n",
       "    </tr>\n",
       "    <tr>\n",
       "      <th>3</th>\n",
       "      <td>Senior Data Scientist - Noida</td>\n",
       "      <td>Optum Global Solutions (India) Private Limited</td>\n",
       "      <td>2-6 Yrs</td>\n",
       "      <td>Noida</td>\n",
       "    </tr>\n",
       "    <tr>\n",
       "      <th>4</th>\n",
       "      <td>Data Scientist / Data Analyst</td>\n",
       "      <td>CARS24</td>\n",
       "      <td>1-5 Yrs</td>\n",
       "      <td>Gurgaon/Gurugram</td>\n",
       "    </tr>\n",
       "    <tr>\n",
       "      <th>5</th>\n",
       "      <td>Immediate Openings For DATA Scientist with 6 T...</td>\n",
       "      <td>Entune IT Consulting Private Limited</td>\n",
       "      <td>5-8 Yrs</td>\n",
       "      <td>Kolkata, Hyderabad/Secunderabad, Pune, Ahmedab...</td>\n",
       "    </tr>\n",
       "    <tr>\n",
       "      <th>6</th>\n",
       "      <td>Data Scientist</td>\n",
       "      <td>Decimal Technologies Pvt Ltd.</td>\n",
       "      <td>1-3 Yrs</td>\n",
       "      <td>Gurgaon/Gurugram</td>\n",
       "    </tr>\n",
       "    <tr>\n",
       "      <th>7</th>\n",
       "      <td>Senior Data Scientist</td>\n",
       "      <td>inVentiv International Pharma Services Pvt. Ltd.</td>\n",
       "      <td>3-6 Yrs</td>\n",
       "      <td>Hyderabad/Secunderabad, Gurgaon/Gurugram, Bang...</td>\n",
       "    </tr>\n",
       "    <tr>\n",
       "      <th>8</th>\n",
       "      <td>Data Scientist</td>\n",
       "      <td>R Systems International Ltd.</td>\n",
       "      <td>5-10 Yrs</td>\n",
       "      <td>Noida(Sector-59 Noida)</td>\n",
       "    </tr>\n",
       "    <tr>\n",
       "      <th>9</th>\n",
       "      <td>Data Scientist - Machine Learning/NLP</td>\n",
       "      <td>TalPro</td>\n",
       "      <td>2-6 Yrs</td>\n",
       "      <td>Gurgaon/Gurugram</td>\n",
       "    </tr>\n",
       "  </tbody>\n",
       "</table>\n",
       "</div>"
      ],
      "text/plain": [
       "                                               title  \\\n",
       "0                Data Scientist / Sr. Data Scientist   \n",
       "1  Only Fresher / Data Scientist / Data Analyst /...   \n",
       "2                                     Data Scientist   \n",
       "3                      Senior Data Scientist - Noida   \n",
       "4                      Data Scientist / Data Analyst   \n",
       "5  Immediate Openings For DATA Scientist with 6 T...   \n",
       "6                                     Data Scientist   \n",
       "7                              Senior Data Scientist   \n",
       "8                                     Data Scientist   \n",
       "9              Data Scientist - Machine Learning/NLP   \n",
       "\n",
       "                                            company experience_required  \\\n",
       "0                WEGARNER SOLUTIONS PRIVATE LIMITED             0-5 Yrs   \n",
       "1                         GABA Consultancy services             0-0 Yrs   \n",
       "2                           CBRE South Asia Pvt Ltd             2-4 Yrs   \n",
       "3    Optum Global Solutions (India) Private Limited             2-6 Yrs   \n",
       "4                                            CARS24             1-5 Yrs   \n",
       "5              Entune IT Consulting Private Limited             5-8 Yrs   \n",
       "6                     Decimal Technologies Pvt Ltd.             1-3 Yrs   \n",
       "7  inVentiv International Pharma Services Pvt. Ltd.             3-6 Yrs   \n",
       "8                      R Systems International Ltd.            5-10 Yrs   \n",
       "9                                            TalPro             2-6 Yrs   \n",
       "\n",
       "                                            location  \n",
       "0                    Noida, Pune, Mumbai (All Areas)  \n",
       "1               Noida, Gurgaon/Gurugram, Delhi / NCR  \n",
       "2                                   Gurgaon/Gurugram  \n",
       "3                                              Noida  \n",
       "4                                   Gurgaon/Gurugram  \n",
       "5  Kolkata, Hyderabad/Secunderabad, Pune, Ahmedab...  \n",
       "6                                   Gurgaon/Gurugram  \n",
       "7  Hyderabad/Secunderabad, Gurgaon/Gurugram, Bang...  \n",
       "8                             Noida(Sector-59 Noida)  \n",
       "9                                   Gurgaon/Gurugram  "
      ]
     },
     "execution_count": 571,
     "metadata": {},
     "output_type": "execute_result"
    }
   ],
   "source": [
    "jobs"
   ]
  },
  {
   "cell_type": "markdown",
   "metadata": {},
   "source": [
    "Create dataframe of the all information"
   ]
  },
  {
   "cell_type": "markdown",
   "metadata": {},
   "source": [
    "Q4: Write a python program to scrape data for first 10 job results for Data scientist \n",
    "Designation in Noida location. You have to scrape company_name, No. of days \n",
    "ago when job was posted, Rating of the company.\n"
   ]
  },
  {
   "cell_type": "code",
   "execution_count": 607,
   "metadata": {},
   "outputs": [],
   "source": [
    "driver = webdriver.Chrome(r\"C:\\Users\\Ankita\\Downloads\\chromedriver_win32\\chromedriver.exe\")"
   ]
  },
  {
   "cell_type": "markdown",
   "metadata": {},
   "source": [
    "path of chrome driver"
   ]
  },
  {
   "cell_type": "code",
   "execution_count": 608,
   "metadata": {},
   "outputs": [],
   "source": [
    "url = 'https://www.glassdoor.co.in/index.htm'\n",
    "driver.get(url)"
   ]
  },
  {
   "cell_type": "markdown",
   "metadata": {},
   "source": [
    "Enter glassdoor url"
   ]
  },
  {
   "cell_type": "code",
   "execution_count": 609,
   "metadata": {},
   "outputs": [
    {
     "data": {
      "text/plain": [
       "<selenium.webdriver.remote.webelement.WebElement (session=\"39c38441d78416453b1e6e216271228e\", element=\"e7b4224c-3982-4230-8235-670c32372447\")>"
      ]
     },
     "execution_count": 609,
     "metadata": {},
     "output_type": "execute_result"
    }
   ],
   "source": [
    "search_job = driver.find_element_by_id('sc.keyword')\n",
    "search_job"
   ]
  },
  {
   "cell_type": "code",
   "execution_count": 610,
   "metadata": {
    "scrolled": true
   },
   "outputs": [],
   "source": [
    "search_job.send_keys(\"Data Scientist\")"
   ]
  },
  {
   "cell_type": "markdown",
   "metadata": {},
   "source": [
    "Enter Data Scientist in search field"
   ]
  },
  {
   "cell_type": "code",
   "execution_count": 611,
   "metadata": {},
   "outputs": [
    {
     "data": {
      "text/plain": [
       "<selenium.webdriver.remote.webelement.WebElement (session=\"39c38441d78416453b1e6e216271228e\", element=\"627d3a90-3c70-4c72-8895-1cc904ab75f0\")>"
      ]
     },
     "execution_count": 611,
     "metadata": {},
     "output_type": "execute_result"
    }
   ],
   "source": [
    "\n",
    "search_job = driver.find_element_by_id('sc.location')\n",
    "search_job"
   ]
  },
  {
   "cell_type": "code",
   "execution_count": 612,
   "metadata": {},
   "outputs": [],
   "source": [
    "search_job.send_keys(\"Noida(India)\")"
   ]
  },
  {
   "cell_type": "markdown",
   "metadata": {},
   "source": [
    "Enter Noida(India) in job search field"
   ]
  },
  {
   "cell_type": "code",
   "execution_count": 613,
   "metadata": {},
   "outputs": [
    {
     "data": {
      "text/plain": [
       "<selenium.webdriver.remote.webelement.WebElement (session=\"39c38441d78416453b1e6e216271228e\", element=\"48c82641-4324-4c46-bd95-dc94bf47ea9e\")>"
      ]
     },
     "execution_count": 613,
     "metadata": {},
     "output_type": "execute_result"
    }
   ],
   "source": [
    "\n",
    "search_btn = driver.find_element_by_xpath(\"//button[@class='gd-ui-button ml-std col-auto search__SearchStyles__newSearchButton css-1dqvyh7']\")\n",
    "search_btn"
   ]
  },
  {
   "cell_type": "code",
   "execution_count": 614,
   "metadata": {},
   "outputs": [],
   "source": [
    "search_btn.click()"
   ]
  },
  {
   "cell_type": "markdown",
   "metadata": {},
   "source": [
    "Click on search button code"
   ]
  },
  {
   "cell_type": "code",
   "execution_count": 615,
   "metadata": {},
   "outputs": [
    {
     "data": {
      "text/plain": [
       "[<selenium.webdriver.remote.webelement.WebElement (session=\"39c38441d78416453b1e6e216271228e\", element=\"ca5938d9-eda0-4400-8af2-e11976166289\")>,\n",
       " <selenium.webdriver.remote.webelement.WebElement (session=\"39c38441d78416453b1e6e216271228e\", element=\"f2ecfd41-02e9-4213-a965-0d861cd477ce\")>,\n",
       " <selenium.webdriver.remote.webelement.WebElement (session=\"39c38441d78416453b1e6e216271228e\", element=\"8aa26d61-e833-48c1-96c7-c7d10ea93b9b\")>,\n",
       " <selenium.webdriver.remote.webelement.WebElement (session=\"39c38441d78416453b1e6e216271228e\", element=\"04d5acc8-27c0-40d3-a0c8-9726b7757e6a\")>,\n",
       " <selenium.webdriver.remote.webelement.WebElement (session=\"39c38441d78416453b1e6e216271228e\", element=\"7a2a408d-ce6d-4222-9e03-9a0730db0876\")>,\n",
       " <selenium.webdriver.remote.webelement.WebElement (session=\"39c38441d78416453b1e6e216271228e\", element=\"5e44125c-eebe-4394-bdd1-877ca72a29de\")>,\n",
       " <selenium.webdriver.remote.webelement.WebElement (session=\"39c38441d78416453b1e6e216271228e\", element=\"a01435b6-0aac-4059-96a6-289138729a2d\")>,\n",
       " <selenium.webdriver.remote.webelement.WebElement (session=\"39c38441d78416453b1e6e216271228e\", element=\"67c59487-ca39-4d69-8247-68383cfff0c0\")>,\n",
       " <selenium.webdriver.remote.webelement.WebElement (session=\"39c38441d78416453b1e6e216271228e\", element=\"1687ce80-92c4-4e0d-b73c-b4a888c4001e\")>,\n",
       " <selenium.webdriver.remote.webelement.WebElement (session=\"39c38441d78416453b1e6e216271228e\", element=\"84657c8f-50e6-4bf4-af2e-56b0744b2693\")>,\n",
       " <selenium.webdriver.remote.webelement.WebElement (session=\"39c38441d78416453b1e6e216271228e\", element=\"20d1882e-1eb8-49d4-bd2f-c324c955fac5\")>,\n",
       " <selenium.webdriver.remote.webelement.WebElement (session=\"39c38441d78416453b1e6e216271228e\", element=\"26f0a916-b4f2-4385-b135-b0059c6a9c8e\")>,\n",
       " <selenium.webdriver.remote.webelement.WebElement (session=\"39c38441d78416453b1e6e216271228e\", element=\"50efa2cb-0c4d-4640-bf81-69a32fd23ee0\")>,\n",
       " <selenium.webdriver.remote.webelement.WebElement (session=\"39c38441d78416453b1e6e216271228e\", element=\"caf9329d-05b8-4edc-a682-d46818f3f2c4\")>,\n",
       " <selenium.webdriver.remote.webelement.WebElement (session=\"39c38441d78416453b1e6e216271228e\", element=\"f4eda43d-fa5f-4ea5-8777-20ef5f795828\")>,\n",
       " <selenium.webdriver.remote.webelement.WebElement (session=\"39c38441d78416453b1e6e216271228e\", element=\"057e570d-b9e5-49d2-b39b-a6dc0b3684b3\")>,\n",
       " <selenium.webdriver.remote.webelement.WebElement (session=\"39c38441d78416453b1e6e216271228e\", element=\"73a2661f-5978-4738-826a-31d8bec14b4b\")>,\n",
       " <selenium.webdriver.remote.webelement.WebElement (session=\"39c38441d78416453b1e6e216271228e\", element=\"68b0b2d2-3362-4d4e-8bb7-138158426b05\")>,\n",
       " <selenium.webdriver.remote.webelement.WebElement (session=\"39c38441d78416453b1e6e216271228e\", element=\"2f19ac6c-afa8-423c-8fe1-a06eb47d2ce9\")>,\n",
       " <selenium.webdriver.remote.webelement.WebElement (session=\"39c38441d78416453b1e6e216271228e\", element=\"919b5ab9-2179-4362-abca-7ee4409774ca\")>,\n",
       " <selenium.webdriver.remote.webelement.WebElement (session=\"39c38441d78416453b1e6e216271228e\", element=\"2e45acbb-e736-41a9-bd1f-f5ade9a95b51\")>,\n",
       " <selenium.webdriver.remote.webelement.WebElement (session=\"39c38441d78416453b1e6e216271228e\", element=\"4a6787a0-fad7-45d5-b1e0-16a42e3248fe\")>,\n",
       " <selenium.webdriver.remote.webelement.WebElement (session=\"39c38441d78416453b1e6e216271228e\", element=\"a726fc29-186e-4c39-8b61-a3056b609222\")>,\n",
       " <selenium.webdriver.remote.webelement.WebElement (session=\"39c38441d78416453b1e6e216271228e\", element=\"eccbe183-2f39-4cee-b4b0-d332eec8ab7e\")>,\n",
       " <selenium.webdriver.remote.webelement.WebElement (session=\"39c38441d78416453b1e6e216271228e\", element=\"2d0a2947-e582-4c29-9b56-652a111c1f78\")>,\n",
       " <selenium.webdriver.remote.webelement.WebElement (session=\"39c38441d78416453b1e6e216271228e\", element=\"5470dd81-652b-433a-b1b2-af5af024bcf2\")>,\n",
       " <selenium.webdriver.remote.webelement.WebElement (session=\"39c38441d78416453b1e6e216271228e\", element=\"d14563c9-bf88-41e2-a6fc-35badb558f75\")>,\n",
       " <selenium.webdriver.remote.webelement.WebElement (session=\"39c38441d78416453b1e6e216271228e\", element=\"16a1de8f-f02e-4eb6-bd70-16252230963d\")>,\n",
       " <selenium.webdriver.remote.webelement.WebElement (session=\"39c38441d78416453b1e6e216271228e\", element=\"016bd7e4-29ca-41d7-b95b-54a45383691b\")>,\n",
       " <selenium.webdriver.remote.webelement.WebElement (session=\"39c38441d78416453b1e6e216271228e\", element=\"42abbfca-cacb-41e1-aeb7-b49cff7d845a\")>]"
      ]
     },
     "execution_count": 615,
     "metadata": {},
     "output_type": "execute_result"
    }
   ],
   "source": [
    "titles_tags=driver.find_elements_by_xpath(\"//a[@class='jobLink css-1rd3saf eigr9kq2']\")\n",
    "titles_tags"
   ]
  },
  {
   "cell_type": "code",
   "execution_count": 616,
   "metadata": {},
   "outputs": [
    {
     "data": {
      "text/plain": [
       "['Associate Data Scientist',\n",
       " 'Data Scientist Intern',\n",
       " 'Data Scientist',\n",
       " 'Data Scientist Intern',\n",
       " 'Data Scientist',\n",
       " 'Data Scientist',\n",
       " 'Data Scientist',\n",
       " 'Data Scientist',\n",
       " 'Data Science Intern',\n",
       " 'Data Scientist']"
      ]
     },
     "execution_count": 616,
     "metadata": {},
     "output_type": "execute_result"
    }
   ],
   "source": [
    "job_titles=[]\n",
    "for i in titles_tags[0:10]:\n",
    "    job_titles.append(i.text)\n",
    "job_titles"
   ]
  },
  {
   "cell_type": "markdown",
   "metadata": {},
   "source": [
    "Scrape job titles "
   ]
  },
  {
   "cell_type": "code",
   "execution_count": 617,
   "metadata": {},
   "outputs": [
    {
     "data": {
      "text/plain": [
       "[<selenium.webdriver.remote.webelement.WebElement (session=\"39c38441d78416453b1e6e216271228e\", element=\"8bc581b6-4bfd-40be-9640-8758bcde8644\")>,\n",
       " <selenium.webdriver.remote.webelement.WebElement (session=\"39c38441d78416453b1e6e216271228e\", element=\"d5ca49b2-5ddd-4cf6-bd90-c2f900b6aa56\")>,\n",
       " <selenium.webdriver.remote.webelement.WebElement (session=\"39c38441d78416453b1e6e216271228e\", element=\"29a801b9-0762-4b3f-8c9f-9d0f3d67bfd9\")>,\n",
       " <selenium.webdriver.remote.webelement.WebElement (session=\"39c38441d78416453b1e6e216271228e\", element=\"d6cb9e81-fbdc-44c4-86e1-6126d22d5254\")>,\n",
       " <selenium.webdriver.remote.webelement.WebElement (session=\"39c38441d78416453b1e6e216271228e\", element=\"c7f84a53-d403-44a0-bcb8-1fb2563e516b\")>,\n",
       " <selenium.webdriver.remote.webelement.WebElement (session=\"39c38441d78416453b1e6e216271228e\", element=\"24740fe2-5ed2-4aa6-94de-7cbe6180ab75\")>,\n",
       " <selenium.webdriver.remote.webelement.WebElement (session=\"39c38441d78416453b1e6e216271228e\", element=\"75a579ac-ef79-4f2b-859f-4e7480de879a\")>,\n",
       " <selenium.webdriver.remote.webelement.WebElement (session=\"39c38441d78416453b1e6e216271228e\", element=\"e31ea79a-f8ee-44f6-9582-096cc28f09d4\")>,\n",
       " <selenium.webdriver.remote.webelement.WebElement (session=\"39c38441d78416453b1e6e216271228e\", element=\"73f25d19-50aa-4427-9a27-d3bbdccf2ece\")>,\n",
       " <selenium.webdriver.remote.webelement.WebElement (session=\"39c38441d78416453b1e6e216271228e\", element=\"a36d06fe-89d2-4da5-bd01-59e70895aa5d\")>,\n",
       " <selenium.webdriver.remote.webelement.WebElement (session=\"39c38441d78416453b1e6e216271228e\", element=\"8b66dd4d-8e68-43fe-8d34-2c189e01547b\")>,\n",
       " <selenium.webdriver.remote.webelement.WebElement (session=\"39c38441d78416453b1e6e216271228e\", element=\"7fe9beb0-10eb-4615-a4f1-00742a48f695\")>,\n",
       " <selenium.webdriver.remote.webelement.WebElement (session=\"39c38441d78416453b1e6e216271228e\", element=\"0fb4ff55-06ee-460b-adb0-f6cd0fe1dec4\")>,\n",
       " <selenium.webdriver.remote.webelement.WebElement (session=\"39c38441d78416453b1e6e216271228e\", element=\"2c3804fd-e258-495a-a6fe-71c36249ce7b\")>,\n",
       " <selenium.webdriver.remote.webelement.WebElement (session=\"39c38441d78416453b1e6e216271228e\", element=\"73fe68cf-e28a-47c8-8933-35b2f9910669\")>,\n",
       " <selenium.webdriver.remote.webelement.WebElement (session=\"39c38441d78416453b1e6e216271228e\", element=\"e8b2646c-d006-4d25-aa96-4903139a10dc\")>,\n",
       " <selenium.webdriver.remote.webelement.WebElement (session=\"39c38441d78416453b1e6e216271228e\", element=\"dc31f53d-61c8-4477-b878-c595787b1144\")>,\n",
       " <selenium.webdriver.remote.webelement.WebElement (session=\"39c38441d78416453b1e6e216271228e\", element=\"aa864559-6651-43de-a16f-d3f04dc7d47e\")>,\n",
       " <selenium.webdriver.remote.webelement.WebElement (session=\"39c38441d78416453b1e6e216271228e\", element=\"46cd1aeb-4f6a-47aa-b02b-beac8036fca9\")>,\n",
       " <selenium.webdriver.remote.webelement.WebElement (session=\"39c38441d78416453b1e6e216271228e\", element=\"202925f1-ff1c-4a78-8a40-8b4d0ce37f1e\")>,\n",
       " <selenium.webdriver.remote.webelement.WebElement (session=\"39c38441d78416453b1e6e216271228e\", element=\"2fe84b69-3aa1-4bbb-8105-3c7cd792938b\")>,\n",
       " <selenium.webdriver.remote.webelement.WebElement (session=\"39c38441d78416453b1e6e216271228e\", element=\"a0cfba32-4aaa-485e-9a62-0172bb77509a\")>,\n",
       " <selenium.webdriver.remote.webelement.WebElement (session=\"39c38441d78416453b1e6e216271228e\", element=\"0cbfa45b-93a2-4d29-b210-319f4b675c22\")>,\n",
       " <selenium.webdriver.remote.webelement.WebElement (session=\"39c38441d78416453b1e6e216271228e\", element=\"cd4dc313-7b90-4253-bcf4-393e63f14589\")>,\n",
       " <selenium.webdriver.remote.webelement.WebElement (session=\"39c38441d78416453b1e6e216271228e\", element=\"a040b709-ed09-408c-a7f5-b68644efa0dc\")>,\n",
       " <selenium.webdriver.remote.webelement.WebElement (session=\"39c38441d78416453b1e6e216271228e\", element=\"c5b70650-3782-4dc4-9a01-9f9bc9852e88\")>,\n",
       " <selenium.webdriver.remote.webelement.WebElement (session=\"39c38441d78416453b1e6e216271228e\", element=\"676002c2-cfc8-49a4-aa19-f0138a17fe7d\")>,\n",
       " <selenium.webdriver.remote.webelement.WebElement (session=\"39c38441d78416453b1e6e216271228e\", element=\"6c2c9860-e718-41ea-ab45-6a8e068f877a\")>,\n",
       " <selenium.webdriver.remote.webelement.WebElement (session=\"39c38441d78416453b1e6e216271228e\", element=\"47e2e580-1e39-4b32-9161-6912b336d079\")>,\n",
       " <selenium.webdriver.remote.webelement.WebElement (session=\"39c38441d78416453b1e6e216271228e\", element=\"4cada29b-9612-4f85-8271-4b3e52c58ac5\")>]"
      ]
     },
     "execution_count": 617,
     "metadata": {},
     "output_type": "execute_result"
    }
   ],
   "source": [
    "companies_tags=driver.find_elements_by_xpath(\"//div[@class='d-flex justify-content-between align-items-start']\")\n",
    "companies_tags\n"
   ]
  },
  {
   "cell_type": "code",
   "execution_count": 618,
   "metadata": {},
   "outputs": [
    {
     "data": {
      "text/plain": [
       "['Liberin Technologies Private Limited',\n",
       " 'Pixel Vision',\n",
       " 'Biz2Credit Inc',\n",
       " 'Salasar New Age Technologies',\n",
       " 'Newgen Software',\n",
       " 'Crowe',\n",
       " 'Salasar New Age Technologies',\n",
       " 'Techlive',\n",
       " 'Data Trained Education',\n",
       " 'NEC Opportunities']"
      ]
     },
     "execution_count": 618,
     "metadata": {},
     "output_type": "execute_result"
    }
   ],
   "source": [
    "company_names=[]\n",
    "for i in companies_tags[0:10]:\n",
    "    company_names.append(i.text)\n",
    "company_names"
   ]
  },
  {
   "cell_type": "raw",
   "metadata": {},
   "source": [
    "Scrape company name"
   ]
  },
  {
   "cell_type": "code",
   "execution_count": 619,
   "metadata": {},
   "outputs": [
    {
     "data": {
      "text/plain": [
       "[<selenium.webdriver.remote.webelement.WebElement (session=\"39c38441d78416453b1e6e216271228e\", element=\"77d83014-b619-49e8-83f4-bf476272e2cd\")>,\n",
       " <selenium.webdriver.remote.webelement.WebElement (session=\"39c38441d78416453b1e6e216271228e\", element=\"bf41e265-b0a4-4696-98e4-b624957edd9c\")>,\n",
       " <selenium.webdriver.remote.webelement.WebElement (session=\"39c38441d78416453b1e6e216271228e\", element=\"c8afc802-b2c7-478a-8bd4-172e72b896f3\")>,\n",
       " <selenium.webdriver.remote.webelement.WebElement (session=\"39c38441d78416453b1e6e216271228e\", element=\"40f30762-ee93-4507-9431-23870abd342c\")>,\n",
       " <selenium.webdriver.remote.webelement.WebElement (session=\"39c38441d78416453b1e6e216271228e\", element=\"e41582f2-a556-44af-99a7-0eea04a34933\")>,\n",
       " <selenium.webdriver.remote.webelement.WebElement (session=\"39c38441d78416453b1e6e216271228e\", element=\"27ade835-d86b-49b8-a871-409e63fecfb4\")>,\n",
       " <selenium.webdriver.remote.webelement.WebElement (session=\"39c38441d78416453b1e6e216271228e\", element=\"f46b8893-fbd0-44ce-a203-b3526d463abc\")>,\n",
       " <selenium.webdriver.remote.webelement.WebElement (session=\"39c38441d78416453b1e6e216271228e\", element=\"82aae7d1-a56d-40cc-8bde-b8adeacea1f2\")>,\n",
       " <selenium.webdriver.remote.webelement.WebElement (session=\"39c38441d78416453b1e6e216271228e\", element=\"bae12862-9d60-4832-b27e-5b22eec71784\")>,\n",
       " <selenium.webdriver.remote.webelement.WebElement (session=\"39c38441d78416453b1e6e216271228e\", element=\"66150f97-0185-424c-beaf-e8b164e2f1f7\")>,\n",
       " <selenium.webdriver.remote.webelement.WebElement (session=\"39c38441d78416453b1e6e216271228e\", element=\"b01be4f1-6218-4165-a94b-ab563f89b1ac\")>,\n",
       " <selenium.webdriver.remote.webelement.WebElement (session=\"39c38441d78416453b1e6e216271228e\", element=\"832c79c9-1f2f-40de-80f1-fa6e77407d23\")>,\n",
       " <selenium.webdriver.remote.webelement.WebElement (session=\"39c38441d78416453b1e6e216271228e\", element=\"6c8d3545-ba92-488d-bb2d-a8dcb41dc77a\")>,\n",
       " <selenium.webdriver.remote.webelement.WebElement (session=\"39c38441d78416453b1e6e216271228e\", element=\"2c554c30-a5a6-4b71-8a87-4775414f458b\")>,\n",
       " <selenium.webdriver.remote.webelement.WebElement (session=\"39c38441d78416453b1e6e216271228e\", element=\"b93da0fa-a061-468b-808f-d73f5508b770\")>,\n",
       " <selenium.webdriver.remote.webelement.WebElement (session=\"39c38441d78416453b1e6e216271228e\", element=\"4150db0c-8ca2-45ee-894e-4f639a62a867\")>,\n",
       " <selenium.webdriver.remote.webelement.WebElement (session=\"39c38441d78416453b1e6e216271228e\", element=\"ffcaa129-d11b-45d0-ab52-7e0e2e7e951a\")>,\n",
       " <selenium.webdriver.remote.webelement.WebElement (session=\"39c38441d78416453b1e6e216271228e\", element=\"b7140512-7289-4cd0-9941-ef74b5070ab8\")>,\n",
       " <selenium.webdriver.remote.webelement.WebElement (session=\"39c38441d78416453b1e6e216271228e\", element=\"1fe40c32-af71-4bd4-809c-91bb2ac71476\")>,\n",
       " <selenium.webdriver.remote.webelement.WebElement (session=\"39c38441d78416453b1e6e216271228e\", element=\"bbf4d2db-c998-44b7-940a-bca0a1fd47e4\")>,\n",
       " <selenium.webdriver.remote.webelement.WebElement (session=\"39c38441d78416453b1e6e216271228e\", element=\"521177f7-7d2a-43fc-97f5-08b2b66b29a1\")>,\n",
       " <selenium.webdriver.remote.webelement.WebElement (session=\"39c38441d78416453b1e6e216271228e\", element=\"8dac51da-ffad-42f1-8ca0-114f68d3299f\")>,\n",
       " <selenium.webdriver.remote.webelement.WebElement (session=\"39c38441d78416453b1e6e216271228e\", element=\"f974ea08-46ae-4f76-bade-ab2239dc5266\")>,\n",
       " <selenium.webdriver.remote.webelement.WebElement (session=\"39c38441d78416453b1e6e216271228e\", element=\"4f0e1e93-31b5-472d-a4cc-175e49d88073\")>,\n",
       " <selenium.webdriver.remote.webelement.WebElement (session=\"39c38441d78416453b1e6e216271228e\", element=\"b14934e1-76b0-4486-b78e-64de4294acf7\")>,\n",
       " <selenium.webdriver.remote.webelement.WebElement (session=\"39c38441d78416453b1e6e216271228e\", element=\"9952521c-8f8b-4c27-82e4-80036cb629fd\")>,\n",
       " <selenium.webdriver.remote.webelement.WebElement (session=\"39c38441d78416453b1e6e216271228e\", element=\"2ee0b1f5-2f69-4c14-be7c-53a111360c52\")>,\n",
       " <selenium.webdriver.remote.webelement.WebElement (session=\"39c38441d78416453b1e6e216271228e\", element=\"f7a73aa2-e225-4970-98ad-d515fdbc8efa\")>,\n",
       " <selenium.webdriver.remote.webelement.WebElement (session=\"39c38441d78416453b1e6e216271228e\", element=\"761b1032-a12e-43d8-8d3b-0c37d895ab86\")>,\n",
       " <selenium.webdriver.remote.webelement.WebElement (session=\"39c38441d78416453b1e6e216271228e\", element=\"03aa4cd9-b1da-48ba-b122-a0e07ff11b46\")>]"
      ]
     },
     "execution_count": 619,
     "metadata": {},
     "output_type": "execute_result"
    }
   ],
   "source": [
    "locations_tags=driver.find_elements_by_xpath(\"//div[@class='d-flex flex-wrap css-11d3uq0 e1rrn5ka2']//span[1]\")\n",
    "locations_tags"
   ]
  },
  {
   "cell_type": "code",
   "execution_count": 620,
   "metadata": {},
   "outputs": [
    {
     "data": {
      "text/plain": [
       "['Noida',\n",
       " 'Noida',\n",
       " 'Noida',\n",
       " 'Noida',\n",
       " 'Noida',\n",
       " 'Noida',\n",
       " 'Noida',\n",
       " 'Noida',\n",
       " 'Noida',\n",
       " 'New Delhi']"
      ]
     },
     "execution_count": 620,
     "metadata": {},
     "output_type": "execute_result"
    }
   ],
   "source": [
    "locations_list=[]\n",
    "for i in locations_tags[0:10]:\n",
    "    locations_list.append(i.text)\n",
    "locations_list"
   ]
  },
  {
   "cell_type": "markdown",
   "metadata": {},
   "source": [
    "Scrape laction information"
   ]
  },
  {
   "cell_type": "code",
   "execution_count": 621,
   "metadata": {},
   "outputs": [
    {
     "data": {
      "text/plain": [
       "[<selenium.webdriver.remote.webelement.WebElement (session=\"39c38441d78416453b1e6e216271228e\", element=\"d9515253-5021-4cfc-b9ac-29c77f9a0f9e\")>,\n",
       " <selenium.webdriver.remote.webelement.WebElement (session=\"39c38441d78416453b1e6e216271228e\", element=\"eccb1365-ba96-4d50-ade1-a532f411b3c0\")>,\n",
       " <selenium.webdriver.remote.webelement.WebElement (session=\"39c38441d78416453b1e6e216271228e\", element=\"2186bfb6-def3-49cd-bc6b-c9d916200c68\")>,\n",
       " <selenium.webdriver.remote.webelement.WebElement (session=\"39c38441d78416453b1e6e216271228e\", element=\"8daf48bc-f1ff-42b8-991d-c8fe83f17634\")>,\n",
       " <selenium.webdriver.remote.webelement.WebElement (session=\"39c38441d78416453b1e6e216271228e\", element=\"ddfc70ec-eca6-4fd6-a92b-778b8c7e8482\")>,\n",
       " <selenium.webdriver.remote.webelement.WebElement (session=\"39c38441d78416453b1e6e216271228e\", element=\"d142613f-b5f6-42dd-b717-76696dd1b9ab\")>,\n",
       " <selenium.webdriver.remote.webelement.WebElement (session=\"39c38441d78416453b1e6e216271228e\", element=\"c9c730fc-a0ff-44fb-9d03-d1892f5dcb7f\")>,\n",
       " <selenium.webdriver.remote.webelement.WebElement (session=\"39c38441d78416453b1e6e216271228e\", element=\"97dc4508-3cf0-4269-8cec-d8db6cec0ad7\")>,\n",
       " <selenium.webdriver.remote.webelement.WebElement (session=\"39c38441d78416453b1e6e216271228e\", element=\"36c801a6-536d-47ca-bbef-da2f86999a7f\")>,\n",
       " <selenium.webdriver.remote.webelement.WebElement (session=\"39c38441d78416453b1e6e216271228e\", element=\"4066fb3e-91b8-44cc-a173-df00618768ad\")>,\n",
       " <selenium.webdriver.remote.webelement.WebElement (session=\"39c38441d78416453b1e6e216271228e\", element=\"62663e87-2aa0-4fc6-86c7-b59bbbfc6464\")>,\n",
       " <selenium.webdriver.remote.webelement.WebElement (session=\"39c38441d78416453b1e6e216271228e\", element=\"7de0c9a6-d349-4f03-9f36-12bb5af3e6f2\")>,\n",
       " <selenium.webdriver.remote.webelement.WebElement (session=\"39c38441d78416453b1e6e216271228e\", element=\"ad67c4a0-138d-4546-bf1a-2ef1421a4c93\")>,\n",
       " <selenium.webdriver.remote.webelement.WebElement (session=\"39c38441d78416453b1e6e216271228e\", element=\"6c7110dd-d73b-4aa6-a056-bb1b728e34f7\")>,\n",
       " <selenium.webdriver.remote.webelement.WebElement (session=\"39c38441d78416453b1e6e216271228e\", element=\"c0f5d0c5-bd1b-44ac-926a-6a9825705e85\")>,\n",
       " <selenium.webdriver.remote.webelement.WebElement (session=\"39c38441d78416453b1e6e216271228e\", element=\"5532f232-3617-4b84-87fe-8bf12258ff17\")>,\n",
       " <selenium.webdriver.remote.webelement.WebElement (session=\"39c38441d78416453b1e6e216271228e\", element=\"bfd7ba38-59de-4f8e-af8e-208957d84133\")>,\n",
       " <selenium.webdriver.remote.webelement.WebElement (session=\"39c38441d78416453b1e6e216271228e\", element=\"80b04f77-1a6a-4b4c-aa45-a70b136ae894\")>,\n",
       " <selenium.webdriver.remote.webelement.WebElement (session=\"39c38441d78416453b1e6e216271228e\", element=\"c1aaa32d-41db-4eb3-b3c0-3df9a4e66818\")>,\n",
       " <selenium.webdriver.remote.webelement.WebElement (session=\"39c38441d78416453b1e6e216271228e\", element=\"00b95e8a-2497-48ab-be58-fc9e94f03b5e\")>,\n",
       " <selenium.webdriver.remote.webelement.WebElement (session=\"39c38441d78416453b1e6e216271228e\", element=\"853978b7-10f0-4cbd-847d-8ada7b342f64\")>,\n",
       " <selenium.webdriver.remote.webelement.WebElement (session=\"39c38441d78416453b1e6e216271228e\", element=\"e81b0c52-c329-44f3-8fd5-903e0333a747\")>,\n",
       " <selenium.webdriver.remote.webelement.WebElement (session=\"39c38441d78416453b1e6e216271228e\", element=\"6a8ad9e3-74f0-4555-a020-b0268c9070a0\")>,\n",
       " <selenium.webdriver.remote.webelement.WebElement (session=\"39c38441d78416453b1e6e216271228e\", element=\"473de924-229a-456c-8577-e004b3a426fc\")>,\n",
       " <selenium.webdriver.remote.webelement.WebElement (session=\"39c38441d78416453b1e6e216271228e\", element=\"a32beddc-dab2-474c-a39a-45c7839d735d\")>,\n",
       " <selenium.webdriver.remote.webelement.WebElement (session=\"39c38441d78416453b1e6e216271228e\", element=\"9ab2040e-76b0-4506-9485-2a264e3059a7\")>,\n",
       " <selenium.webdriver.remote.webelement.WebElement (session=\"39c38441d78416453b1e6e216271228e\", element=\"4d3d6f5b-44b6-4589-bd70-c82842d9fe27\")>,\n",
       " <selenium.webdriver.remote.webelement.WebElement (session=\"39c38441d78416453b1e6e216271228e\", element=\"2247477d-2120-4d0d-bce5-1714ac74ddd9\")>,\n",
       " <selenium.webdriver.remote.webelement.WebElement (session=\"39c38441d78416453b1e6e216271228e\", element=\"7b466bcb-689e-4d1b-b067-52feee63bf58\")>,\n",
       " <selenium.webdriver.remote.webelement.WebElement (session=\"39c38441d78416453b1e6e216271228e\", element=\"c41f955d-f8c2-4ce2-aac8-d67393848f69\")>]"
      ]
     },
     "execution_count": 621,
     "metadata": {},
     "output_type": "execute_result"
    }
   ],
   "source": [
    "ago_tags=driver.find_elements_by_xpath(\"//div[@class='d-flex align-items-end pl-std css-mi55ob']\")\n",
    "ago_tags"
   ]
  },
  {
   "cell_type": "code",
   "execution_count": 622,
   "metadata": {},
   "outputs": [
    {
     "data": {
      "text/plain": [
       "['10d', '21d', '30d+', '30d+', '21d', '30d+', '30d+', '30d+', '24h', '2d']"
      ]
     },
     "execution_count": 622,
     "metadata": {},
     "output_type": "execute_result"
    }
   ],
   "source": [
    "ago_list=[]\n",
    "for i in ago_tags[0:10]:\n",
    "    ago_list.append(i.text)\n",
    "ago_list"
   ]
  },
  {
   "cell_type": "markdown",
   "metadata": {},
   "source": [
    "Scrape how many days ago job was post information"
   ]
  },
  {
   "cell_type": "code",
   "execution_count": 623,
   "metadata": {},
   "outputs": [
    {
     "data": {
      "text/plain": [
       "[<selenium.webdriver.remote.webelement.WebElement (session=\"39c38441d78416453b1e6e216271228e\", element=\"7433371d-9d40-4ae5-bd8b-d4d82713fc32\")>,\n",
       " <selenium.webdriver.remote.webelement.WebElement (session=\"39c38441d78416453b1e6e216271228e\", element=\"3e1e89ad-0eba-4f3c-8534-961d91dc567b\")>,\n",
       " <selenium.webdriver.remote.webelement.WebElement (session=\"39c38441d78416453b1e6e216271228e\", element=\"70cc1d35-b90d-4d01-84e1-bc40c9dff60b\")>,\n",
       " <selenium.webdriver.remote.webelement.WebElement (session=\"39c38441d78416453b1e6e216271228e\", element=\"9b8e84c8-1d6a-4981-b20f-a1c7a9228158\")>,\n",
       " <selenium.webdriver.remote.webelement.WebElement (session=\"39c38441d78416453b1e6e216271228e\", element=\"44631a75-9b4f-475d-b2aa-b571a762b653\")>,\n",
       " <selenium.webdriver.remote.webelement.WebElement (session=\"39c38441d78416453b1e6e216271228e\", element=\"832532a8-dac1-4b14-924d-02b92541ea71\")>,\n",
       " <selenium.webdriver.remote.webelement.WebElement (session=\"39c38441d78416453b1e6e216271228e\", element=\"0c867315-5b7b-462c-985d-c0a6adeb4683\")>,\n",
       " <selenium.webdriver.remote.webelement.WebElement (session=\"39c38441d78416453b1e6e216271228e\", element=\"bb9db770-ee5f-4426-8927-021af1b71d16\")>,\n",
       " <selenium.webdriver.remote.webelement.WebElement (session=\"39c38441d78416453b1e6e216271228e\", element=\"dc015ab3-124a-4ead-a7cc-0f8f612783df\")>,\n",
       " <selenium.webdriver.remote.webelement.WebElement (session=\"39c38441d78416453b1e6e216271228e\", element=\"2fc33eb0-69a6-45d2-ab9f-97e741e2a775\")>,\n",
       " <selenium.webdriver.remote.webelement.WebElement (session=\"39c38441d78416453b1e6e216271228e\", element=\"bfacb2a3-be78-468f-91d7-5699a16e84e3\")>,\n",
       " <selenium.webdriver.remote.webelement.WebElement (session=\"39c38441d78416453b1e6e216271228e\", element=\"3bdbc499-450e-439a-845d-6517733367c4\")>,\n",
       " <selenium.webdriver.remote.webelement.WebElement (session=\"39c38441d78416453b1e6e216271228e\", element=\"b964a69b-41dd-48dd-9cf9-b3874f483979\")>,\n",
       " <selenium.webdriver.remote.webelement.WebElement (session=\"39c38441d78416453b1e6e216271228e\", element=\"dcd7cb99-6bf3-4470-961f-9bb204ec789c\")>,\n",
       " <selenium.webdriver.remote.webelement.WebElement (session=\"39c38441d78416453b1e6e216271228e\", element=\"63f93ba6-9148-41af-a3e8-a83a3fb30b7e\")>,\n",
       " <selenium.webdriver.remote.webelement.WebElement (session=\"39c38441d78416453b1e6e216271228e\", element=\"60d96b9c-3d10-45fe-b33e-cd9c043e4fa0\")>,\n",
       " <selenium.webdriver.remote.webelement.WebElement (session=\"39c38441d78416453b1e6e216271228e\", element=\"faba9872-dfe2-4bea-8c58-e13178017877\")>,\n",
       " <selenium.webdriver.remote.webelement.WebElement (session=\"39c38441d78416453b1e6e216271228e\", element=\"29d00435-e986-4a6f-a6ef-0de5ca467d3e\")>,\n",
       " <selenium.webdriver.remote.webelement.WebElement (session=\"39c38441d78416453b1e6e216271228e\", element=\"0a2ee50a-aa5f-4807-8e6a-c6ee0ec57005\")>]"
      ]
     },
     "execution_count": 623,
     "metadata": {},
     "output_type": "execute_result"
    }
   ],
   "source": [
    "rating_tags=driver.find_elements_by_xpath(\"//span[@class='css-19pjha7 e1cjmv6j1']\")\n",
    "rating_tags"
   ]
  },
  {
   "cell_type": "code",
   "execution_count": 624,
   "metadata": {},
   "outputs": [
    {
     "data": {
      "text/plain": [
       "['4.1', '', '', '', '', '', '', '', '', '']"
      ]
     },
     "execution_count": 624,
     "metadata": {},
     "output_type": "execute_result"
    }
   ],
   "source": [
    "rating_list=[]\n",
    "for i in rating_tags[0:10]:\n",
    "    rating_list.append(i.text)\n",
    "rating_list"
   ]
  },
  {
   "cell_type": "markdown",
   "metadata": {},
   "source": [
    "Rating information"
   ]
  },
  {
   "cell_type": "code",
   "execution_count": 625,
   "metadata": {},
   "outputs": [
    {
     "name": "stdout",
     "output_type": "stream",
     "text": [
      "10 10 10 10 10\n"
     ]
    }
   ],
   "source": [
    "print(len(job_titles),len(company_names),len(locations_list),len(rating_list),len(ago_list))"
   ]
  },
  {
   "cell_type": "code",
   "execution_count": 627,
   "metadata": {},
   "outputs": [],
   "source": [
    "#import pandas as pd\n",
    "jobs=pd.DataFrame({})\n",
    "jobs['title']=job_titles\n",
    "jobs['company']=company_names\n",
    "jobs['rating_list']=rating_list\n",
    "jobs['location']=locations_list\n",
    "jobs['ago_list']=ago_list"
   ]
  },
  {
   "cell_type": "code",
   "execution_count": 628,
   "metadata": {},
   "outputs": [
    {
     "data": {
      "text/html": [
       "<div>\n",
       "<style scoped>\n",
       "    .dataframe tbody tr th:only-of-type {\n",
       "        vertical-align: middle;\n",
       "    }\n",
       "\n",
       "    .dataframe tbody tr th {\n",
       "        vertical-align: top;\n",
       "    }\n",
       "\n",
       "    .dataframe thead th {\n",
       "        text-align: right;\n",
       "    }\n",
       "</style>\n",
       "<table border=\"1\" class=\"dataframe\">\n",
       "  <thead>\n",
       "    <tr style=\"text-align: right;\">\n",
       "      <th></th>\n",
       "      <th>title</th>\n",
       "      <th>company</th>\n",
       "      <th>rating_list</th>\n",
       "      <th>location</th>\n",
       "      <th>ago_list</th>\n",
       "    </tr>\n",
       "  </thead>\n",
       "  <tbody>\n",
       "    <tr>\n",
       "      <th>0</th>\n",
       "      <td>Associate Data Scientist</td>\n",
       "      <td>Liberin Technologies Private Limited</td>\n",
       "      <td>4.1</td>\n",
       "      <td>Noida</td>\n",
       "      <td>10d</td>\n",
       "    </tr>\n",
       "    <tr>\n",
       "      <th>1</th>\n",
       "      <td>Data Scientist Intern</td>\n",
       "      <td>Pixel Vision</td>\n",
       "      <td></td>\n",
       "      <td>Noida</td>\n",
       "      <td>21d</td>\n",
       "    </tr>\n",
       "    <tr>\n",
       "      <th>2</th>\n",
       "      <td>Data Scientist</td>\n",
       "      <td>Biz2Credit Inc</td>\n",
       "      <td></td>\n",
       "      <td>Noida</td>\n",
       "      <td>30d+</td>\n",
       "    </tr>\n",
       "    <tr>\n",
       "      <th>3</th>\n",
       "      <td>Data Scientist Intern</td>\n",
       "      <td>Salasar New Age Technologies</td>\n",
       "      <td></td>\n",
       "      <td>Noida</td>\n",
       "      <td>30d+</td>\n",
       "    </tr>\n",
       "    <tr>\n",
       "      <th>4</th>\n",
       "      <td>Data Scientist</td>\n",
       "      <td>Newgen Software</td>\n",
       "      <td></td>\n",
       "      <td>Noida</td>\n",
       "      <td>21d</td>\n",
       "    </tr>\n",
       "    <tr>\n",
       "      <th>5</th>\n",
       "      <td>Data Scientist</td>\n",
       "      <td>Crowe</td>\n",
       "      <td></td>\n",
       "      <td>Noida</td>\n",
       "      <td>30d+</td>\n",
       "    </tr>\n",
       "    <tr>\n",
       "      <th>6</th>\n",
       "      <td>Data Scientist</td>\n",
       "      <td>Salasar New Age Technologies</td>\n",
       "      <td></td>\n",
       "      <td>Noida</td>\n",
       "      <td>30d+</td>\n",
       "    </tr>\n",
       "    <tr>\n",
       "      <th>7</th>\n",
       "      <td>Data Scientist</td>\n",
       "      <td>Techlive</td>\n",
       "      <td></td>\n",
       "      <td>Noida</td>\n",
       "      <td>30d+</td>\n",
       "    </tr>\n",
       "    <tr>\n",
       "      <th>8</th>\n",
       "      <td>Data Science Intern</td>\n",
       "      <td>Data Trained Education</td>\n",
       "      <td></td>\n",
       "      <td>Noida</td>\n",
       "      <td>24h</td>\n",
       "    </tr>\n",
       "    <tr>\n",
       "      <th>9</th>\n",
       "      <td>Data Scientist</td>\n",
       "      <td>NEC Opportunities</td>\n",
       "      <td></td>\n",
       "      <td>New Delhi</td>\n",
       "      <td>2d</td>\n",
       "    </tr>\n",
       "  </tbody>\n",
       "</table>\n",
       "</div>"
      ],
      "text/plain": [
       "                      title                               company rating_list  \\\n",
       "0  Associate Data Scientist  Liberin Technologies Private Limited         4.1   \n",
       "1     Data Scientist Intern                          Pixel Vision               \n",
       "2            Data Scientist                        Biz2Credit Inc               \n",
       "3     Data Scientist Intern          Salasar New Age Technologies               \n",
       "4            Data Scientist                       Newgen Software               \n",
       "5            Data Scientist                                 Crowe               \n",
       "6            Data Scientist          Salasar New Age Technologies               \n",
       "7            Data Scientist                              Techlive               \n",
       "8       Data Science Intern                Data Trained Education               \n",
       "9            Data Scientist                     NEC Opportunities               \n",
       "\n",
       "    location ago_list  \n",
       "0      Noida      10d  \n",
       "1      Noida      21d  \n",
       "2      Noida     30d+  \n",
       "3      Noida     30d+  \n",
       "4      Noida      21d  \n",
       "5      Noida     30d+  \n",
       "6      Noida     30d+  \n",
       "7      Noida     30d+  \n",
       "8      Noida      24h  \n",
       "9  New Delhi       2d  "
      ]
     },
     "execution_count": 628,
     "metadata": {},
     "output_type": "execute_result"
    }
   ],
   "source": [
    "jobs"
   ]
  },
  {
   "cell_type": "markdown",
   "metadata": {},
   "source": [
    "Create Dataframe of the Data"
   ]
  },
  {
   "cell_type": "markdown",
   "metadata": {},
   "source": []
  },
  {
   "cell_type": "markdown",
   "metadata": {},
   "source": [
    "Q5: Write a python program to scrape the salary data for Data Scientist designation \n",
    "in Noida location.\n"
   ]
  },
  {
   "cell_type": "code",
   "execution_count": 629,
   "metadata": {},
   "outputs": [],
   "source": [
    "driver = webdriver.Chrome(r\"C:\\Users\\Ankita\\Downloads\\chromedriver_win32\\chromedriver.exe\")"
   ]
  },
  {
   "cell_type": "markdown",
   "metadata": {},
   "source": [
    "Load Chrome Driver path"
   ]
  },
  {
   "cell_type": "code",
   "execution_count": 630,
   "metadata": {},
   "outputs": [],
   "source": [
    "url = 'https://www.glassdoor.co.in/Salaries/index.htm'\n",
    "driver.get(url)"
   ]
  },
  {
   "cell_type": "markdown",
   "metadata": {},
   "source": [
    "Enter glassdoor URL"
   ]
  },
  {
   "cell_type": "code",
   "execution_count": 631,
   "metadata": {},
   "outputs": [
    {
     "data": {
      "text/plain": [
       "<selenium.webdriver.remote.webelement.WebElement (session=\"db1f88bae0a6daebf2abb5c218237036\", element=\"79608096-6ef6-4c00-84d5-457ae464357e\")>"
      ]
     },
     "execution_count": 631,
     "metadata": {},
     "output_type": "execute_result"
    }
   ],
   "source": [
    "search_job = driver.find_element_by_id('KeywordSearch')\n",
    "search_job"
   ]
  },
  {
   "cell_type": "code",
   "execution_count": 632,
   "metadata": {},
   "outputs": [],
   "source": [
    "search_job.send_keys(\"Data Scientist\")"
   ]
  },
  {
   "cell_type": "markdown",
   "metadata": {},
   "source": [
    "Enter Data Scientist into search field"
   ]
  },
  {
   "cell_type": "code",
   "execution_count": 633,
   "metadata": {},
   "outputs": [
    {
     "data": {
      "text/plain": [
       "<selenium.webdriver.remote.webelement.WebElement (session=\"db1f88bae0a6daebf2abb5c218237036\", element=\"db7dcb06-9ea6-4216-a479-1680316c34f5\")>"
      ]
     },
     "execution_count": 633,
     "metadata": {},
     "output_type": "execute_result"
    }
   ],
   "source": [
    "search_job = driver.find_element_by_id('LocationSearch')\n",
    "search_job"
   ]
  },
  {
   "cell_type": "code",
   "execution_count": 634,
   "metadata": {},
   "outputs": [],
   "source": [
    "search_job.send_keys(\"Noida(India)\")"
   ]
  },
  {
   "cell_type": "markdown",
   "metadata": {},
   "source": [
    "Enter Noida(India) into location field"
   ]
  },
  {
   "cell_type": "code",
   "execution_count": 635,
   "metadata": {},
   "outputs": [
    {
     "data": {
      "text/plain": [
       "<selenium.webdriver.remote.webelement.WebElement (session=\"db1f88bae0a6daebf2abb5c218237036\", element=\"e37580fa-a25d-4053-9e41-b61954f36643\")>"
      ]
     },
     "execution_count": 635,
     "metadata": {},
     "output_type": "execute_result"
    }
   ],
   "source": [
    "search_btn = driver.find_element_by_xpath(\"//button[@class='gd-btn-mkt']\")\n",
    "search_btn"
   ]
  },
  {
   "cell_type": "code",
   "execution_count": 636,
   "metadata": {},
   "outputs": [],
   "source": [
    "search_btn.click()"
   ]
  },
  {
   "cell_type": "markdown",
   "metadata": {},
   "source": [
    "Click on search button code"
   ]
  },
  {
   "cell_type": "code",
   "execution_count": 637,
   "metadata": {},
   "outputs": [
    {
     "data": {
      "text/plain": [
       "[<selenium.webdriver.remote.webelement.WebElement (session=\"db1f88bae0a6daebf2abb5c218237036\", element=\"2ab48fe0-cbb4-4c66-8fb6-225030e53db5\")>,\n",
       " <selenium.webdriver.remote.webelement.WebElement (session=\"db1f88bae0a6daebf2abb5c218237036\", element=\"5774f2cb-c20b-4ed1-810d-cd8c0f315aed\")>,\n",
       " <selenium.webdriver.remote.webelement.WebElement (session=\"db1f88bae0a6daebf2abb5c218237036\", element=\"7e848ccf-f0ab-4cd8-99f6-63db215b0bf2\")>,\n",
       " <selenium.webdriver.remote.webelement.WebElement (session=\"db1f88bae0a6daebf2abb5c218237036\", element=\"2fc808a3-d7d4-4b52-89a6-11f6cb5c7466\")>,\n",
       " <selenium.webdriver.remote.webelement.WebElement (session=\"db1f88bae0a6daebf2abb5c218237036\", element=\"8549d33d-a43c-4263-99b3-7641cbf335bb\")>,\n",
       " <selenium.webdriver.remote.webelement.WebElement (session=\"db1f88bae0a6daebf2abb5c218237036\", element=\"8c38149c-232b-4d87-a264-e9edaa52d9ef\")>,\n",
       " <selenium.webdriver.remote.webelement.WebElement (session=\"db1f88bae0a6daebf2abb5c218237036\", element=\"d6927817-e27b-4b5c-8f0a-78fbd5238036\")>,\n",
       " <selenium.webdriver.remote.webelement.WebElement (session=\"db1f88bae0a6daebf2abb5c218237036\", element=\"efe82011-8daa-4f15-a445-7bab044d6be3\")>,\n",
       " <selenium.webdriver.remote.webelement.WebElement (session=\"db1f88bae0a6daebf2abb5c218237036\", element=\"a1a78eb1-7d6f-4fe8-b5cc-ad002e2dcbb8\")>,\n",
       " <selenium.webdriver.remote.webelement.WebElement (session=\"db1f88bae0a6daebf2abb5c218237036\", element=\"42348697-b370-4b19-bd00-1b81b2da5c9e\")>,\n",
       " <selenium.webdriver.remote.webelement.WebElement (session=\"db1f88bae0a6daebf2abb5c218237036\", element=\"ac913629-e07f-453e-9941-baf9a1ff6b6a\")>,\n",
       " <selenium.webdriver.remote.webelement.WebElement (session=\"db1f88bae0a6daebf2abb5c218237036\", element=\"4a3aaebd-3e86-4013-a76d-6584de2c669a\")>,\n",
       " <selenium.webdriver.remote.webelement.WebElement (session=\"db1f88bae0a6daebf2abb5c218237036\", element=\"770fcc68-791a-4921-9e56-505b32a20c15\")>,\n",
       " <selenium.webdriver.remote.webelement.WebElement (session=\"db1f88bae0a6daebf2abb5c218237036\", element=\"b1b38162-a2a6-4f39-8dfa-fb0afb0573e9\")>,\n",
       " <selenium.webdriver.remote.webelement.WebElement (session=\"db1f88bae0a6daebf2abb5c218237036\", element=\"44ee4fb0-cea4-4100-a3f9-1815c60af861\")>,\n",
       " <selenium.webdriver.remote.webelement.WebElement (session=\"db1f88bae0a6daebf2abb5c218237036\", element=\"0d8eb10c-036d-4caf-aee9-bc21a1d144d3\")>,\n",
       " <selenium.webdriver.remote.webelement.WebElement (session=\"db1f88bae0a6daebf2abb5c218237036\", element=\"d68669ca-d112-4ece-8c21-e8128d0862ec\")>,\n",
       " <selenium.webdriver.remote.webelement.WebElement (session=\"db1f88bae0a6daebf2abb5c218237036\", element=\"83667681-44e2-4c09-8081-6de14ec172f6\")>,\n",
       " <selenium.webdriver.remote.webelement.WebElement (session=\"db1f88bae0a6daebf2abb5c218237036\", element=\"77aa16a4-e20d-440b-98af-3378d8e15ffb\")>,\n",
       " <selenium.webdriver.remote.webelement.WebElement (session=\"db1f88bae0a6daebf2abb5c218237036\", element=\"2c5a6c57-404a-48cc-be92-fd062d8bb6bd\")>]"
      ]
     },
     "execution_count": 637,
     "metadata": {},
     "output_type": "execute_result"
    }
   ],
   "source": [
    "companies_tags=driver.find_elements_by_xpath(\"//a[@class='css-f3vw95 e1aj7ssy3']\")\n",
    "companies_tags"
   ]
  },
  {
   "cell_type": "code",
   "execution_count": 638,
   "metadata": {},
   "outputs": [
    {
     "data": {
      "text/plain": [
       "['Tata Consultancy Services',\n",
       " 'IBM',\n",
       " 'Accenture',\n",
       " 'Delhivery',\n",
       " 'Ericsson-Worldwide',\n",
       " 'UnitedHealth Group',\n",
       " 'Valiance Solutions',\n",
       " 'EXL Service',\n",
       " 'Optum',\n",
       " 'Optum Global Solutions']"
      ]
     },
     "execution_count": 638,
     "metadata": {},
     "output_type": "execute_result"
    }
   ],
   "source": [
    "company_names=[]\n",
    "for i in companies_tags[0:10]:\n",
    "    company_names.append(i.text)\n",
    "company_names"
   ]
  },
  {
   "cell_type": "markdown",
   "metadata": {},
   "source": [
    "Scrape the company names"
   ]
  },
  {
   "cell_type": "code",
   "execution_count": 639,
   "metadata": {},
   "outputs": [
    {
     "data": {
      "text/plain": [
       "[<selenium.webdriver.remote.webelement.WebElement (session=\"db1f88bae0a6daebf2abb5c218237036\", element=\"f3c6d0e8-649d-4ec0-9925-37f1ab6650d2\")>,\n",
       " <selenium.webdriver.remote.webelement.WebElement (session=\"db1f88bae0a6daebf2abb5c218237036\", element=\"f52f5596-d9b9-4465-afe8-556b91b715f9\")>,\n",
       " <selenium.webdriver.remote.webelement.WebElement (session=\"db1f88bae0a6daebf2abb5c218237036\", element=\"61b66136-5aa4-4504-a2b2-b415d635c3d8\")>,\n",
       " <selenium.webdriver.remote.webelement.WebElement (session=\"db1f88bae0a6daebf2abb5c218237036\", element=\"acaed88e-0afc-4e19-938b-83601fd5499d\")>,\n",
       " <selenium.webdriver.remote.webelement.WebElement (session=\"db1f88bae0a6daebf2abb5c218237036\", element=\"0f417693-86f6-4724-96c9-4d05d92f7bb9\")>,\n",
       " <selenium.webdriver.remote.webelement.WebElement (session=\"db1f88bae0a6daebf2abb5c218237036\", element=\"d7afec91-d640-4372-af16-2eda0c2e30d5\")>,\n",
       " <selenium.webdriver.remote.webelement.WebElement (session=\"db1f88bae0a6daebf2abb5c218237036\", element=\"b56bd337-f5e4-45cd-88c7-e3115a6f2b02\")>,\n",
       " <selenium.webdriver.remote.webelement.WebElement (session=\"db1f88bae0a6daebf2abb5c218237036\", element=\"e27ff783-16bf-4c8a-8071-299f4de6edd0\")>,\n",
       " <selenium.webdriver.remote.webelement.WebElement (session=\"db1f88bae0a6daebf2abb5c218237036\", element=\"819291a3-855e-42ad-9866-da9aae25b39b\")>,\n",
       " <selenium.webdriver.remote.webelement.WebElement (session=\"db1f88bae0a6daebf2abb5c218237036\", element=\"99b40486-7ff2-47d5-9d84-060f96ebdcb1\")>,\n",
       " <selenium.webdriver.remote.webelement.WebElement (session=\"db1f88bae0a6daebf2abb5c218237036\", element=\"e997c0fc-3ecc-43e2-8826-67000c7513a0\")>,\n",
       " <selenium.webdriver.remote.webelement.WebElement (session=\"db1f88bae0a6daebf2abb5c218237036\", element=\"eb0140df-35a4-4281-819f-943aeb65b709\")>,\n",
       " <selenium.webdriver.remote.webelement.WebElement (session=\"db1f88bae0a6daebf2abb5c218237036\", element=\"80b5c450-9652-4840-9490-e0866be86997\")>,\n",
       " <selenium.webdriver.remote.webelement.WebElement (session=\"db1f88bae0a6daebf2abb5c218237036\", element=\"4f0c209c-932d-4995-8cdd-647d1215e616\")>,\n",
       " <selenium.webdriver.remote.webelement.WebElement (session=\"db1f88bae0a6daebf2abb5c218237036\", element=\"88f00b06-7dcb-4fe5-ba9f-520e9052dc7a\")>,\n",
       " <selenium.webdriver.remote.webelement.WebElement (session=\"db1f88bae0a6daebf2abb5c218237036\", element=\"25c7219d-e2c1-4daa-99fd-af125ecdbe1a\")>,\n",
       " <selenium.webdriver.remote.webelement.WebElement (session=\"db1f88bae0a6daebf2abb5c218237036\", element=\"420fbd71-2a23-47f9-9310-f3b54bee9f4b\")>,\n",
       " <selenium.webdriver.remote.webelement.WebElement (session=\"db1f88bae0a6daebf2abb5c218237036\", element=\"01490c4d-ac3f-4e09-b142-a29b4ac2da5d\")>,\n",
       " <selenium.webdriver.remote.webelement.WebElement (session=\"db1f88bae0a6daebf2abb5c218237036\", element=\"10bf135e-0b4a-4fcf-ba0d-98b6f57e8e9b\")>,\n",
       " <selenium.webdriver.remote.webelement.WebElement (session=\"db1f88bae0a6daebf2abb5c218237036\", element=\"e3e061ab-cda6-4bb8-93e4-83fe374906e1\")>]"
      ]
     },
     "execution_count": 639,
     "metadata": {},
     "output_type": "execute_result"
    }
   ],
   "source": [
    "titles_tags=driver.find_elements_by_xpath(\"//div[@class='col-12 col-lg px-xsm']\")\n",
    "titles_tags"
   ]
  },
  {
   "cell_type": "code",
   "execution_count": 640,
   "metadata": {},
   "outputs": [
    {
     "data": {
      "text/plain": [
       "['Data Scientist',\n",
       " 'Data Scientist',\n",
       " 'Data Scientist',\n",
       " 'Data Scientist',\n",
       " 'Data Scientist',\n",
       " 'Data Scientist',\n",
       " 'Data Scientist',\n",
       " 'Data Scientist',\n",
       " 'Data Scientist',\n",
       " 'Data Scientist']"
      ]
     },
     "execution_count": 640,
     "metadata": {},
     "output_type": "execute_result"
    }
   ],
   "source": [
    "job_titles=[]\n",
    "for i in titles_tags[0:10]:\n",
    "    job_titles.append(i.text)\n",
    "job_titles"
   ]
  },
  {
   "cell_type": "markdown",
   "metadata": {},
   "source": [
    "Scrape job titles"
   ]
  },
  {
   "cell_type": "code",
   "execution_count": 641,
   "metadata": {},
   "outputs": [
    {
     "data": {
      "text/plain": [
       "[<selenium.webdriver.remote.webelement.WebElement (session=\"db1f88bae0a6daebf2abb5c218237036\", element=\"ed95b4be-7edb-491c-9350-0fceacd897f7\")>,\n",
       " <selenium.webdriver.remote.webelement.WebElement (session=\"db1f88bae0a6daebf2abb5c218237036\", element=\"f4e5dc45-2f4c-41c6-bf34-46f92127ee6b\")>,\n",
       " <selenium.webdriver.remote.webelement.WebElement (session=\"db1f88bae0a6daebf2abb5c218237036\", element=\"b19ecd59-60eb-41aa-8ca6-a0a08df81d98\")>,\n",
       " <selenium.webdriver.remote.webelement.WebElement (session=\"db1f88bae0a6daebf2abb5c218237036\", element=\"0b5302ec-93e2-483f-8834-e6a1dae79be4\")>,\n",
       " <selenium.webdriver.remote.webelement.WebElement (session=\"db1f88bae0a6daebf2abb5c218237036\", element=\"8d333f11-696f-452b-a6a1-51a1104d7fa2\")>,\n",
       " <selenium.webdriver.remote.webelement.WebElement (session=\"db1f88bae0a6daebf2abb5c218237036\", element=\"8fb906ec-c759-4cf4-9c18-ca7b4383a14c\")>,\n",
       " <selenium.webdriver.remote.webelement.WebElement (session=\"db1f88bae0a6daebf2abb5c218237036\", element=\"f8779284-ee52-468f-86ac-8ab1944cae76\")>,\n",
       " <selenium.webdriver.remote.webelement.WebElement (session=\"db1f88bae0a6daebf2abb5c218237036\", element=\"6a5b5985-93cb-456b-bfb8-ddf10e9e2ee2\")>,\n",
       " <selenium.webdriver.remote.webelement.WebElement (session=\"db1f88bae0a6daebf2abb5c218237036\", element=\"9dbf8a62-a248-4a44-b614-174ccea5ad25\")>,\n",
       " <selenium.webdriver.remote.webelement.WebElement (session=\"db1f88bae0a6daebf2abb5c218237036\", element=\"d77f7836-1369-4d33-9ec5-927d4df19ffa\")>,\n",
       " <selenium.webdriver.remote.webelement.WebElement (session=\"db1f88bae0a6daebf2abb5c218237036\", element=\"6e31dace-d0ec-442b-9d65-63b355087416\")>,\n",
       " <selenium.webdriver.remote.webelement.WebElement (session=\"db1f88bae0a6daebf2abb5c218237036\", element=\"643e873f-5ad1-4b9c-b382-4de450c6bc97\")>,\n",
       " <selenium.webdriver.remote.webelement.WebElement (session=\"db1f88bae0a6daebf2abb5c218237036\", element=\"79c0eb90-fb40-4570-8ee9-caacc7a187a7\")>,\n",
       " <selenium.webdriver.remote.webelement.WebElement (session=\"db1f88bae0a6daebf2abb5c218237036\", element=\"4f859953-2eb6-4e5e-8ac1-9edc987b0953\")>,\n",
       " <selenium.webdriver.remote.webelement.WebElement (session=\"db1f88bae0a6daebf2abb5c218237036\", element=\"e640038a-2c38-45e3-b199-21b9a9438b14\")>,\n",
       " <selenium.webdriver.remote.webelement.WebElement (session=\"db1f88bae0a6daebf2abb5c218237036\", element=\"b186dc32-ba62-4ec4-b272-9f408a41a7ea\")>,\n",
       " <selenium.webdriver.remote.webelement.WebElement (session=\"db1f88bae0a6daebf2abb5c218237036\", element=\"d065251e-5c91-4e7c-9b9f-09b42c20f299\")>,\n",
       " <selenium.webdriver.remote.webelement.WebElement (session=\"db1f88bae0a6daebf2abb5c218237036\", element=\"2644e0ab-5391-4d94-ad9c-d17ab0d1fc29\")>,\n",
       " <selenium.webdriver.remote.webelement.WebElement (session=\"db1f88bae0a6daebf2abb5c218237036\", element=\"c869f6ba-aaef-4381-b413-8ba62a95c1a1\")>,\n",
       " <selenium.webdriver.remote.webelement.WebElement (session=\"db1f88bae0a6daebf2abb5c218237036\", element=\"9d25ab69-4dc8-49d8-bf22-520a508c83c7\")>]"
      ]
     },
     "execution_count": 641,
     "metadata": {},
     "output_type": "execute_result"
    }
   ],
   "source": [
    "average_tags=driver.find_elements_by_xpath(\"//div[@class='col-12 col-lg-4 px-lg-0 d-flex align-items-baseline']\")\n",
    "average_tags"
   ]
  },
  {
   "cell_type": "code",
   "execution_count": 642,
   "metadata": {},
   "outputs": [
    {
     "data": {
      "text/plain": [
       "['₹6,12,205\\n /yr',\n",
       " '₹9,00,000\\n /yr',\n",
       " '₹11,63,336\\n /yr',\n",
       " '₹12,18,244\\n /yr',\n",
       " '₹7,39,238\\n /yr',\n",
       " '₹12,80,000\\n /yr',\n",
       " '₹8,63,750\\n /yr',\n",
       " '₹11,10,000\\n /yr',\n",
       " '₹14,23,677\\n /yr',\n",
       " '₹13,28,697\\n /yr']"
      ]
     },
     "execution_count": 642,
     "metadata": {},
     "output_type": "execute_result"
    }
   ],
   "source": [
    "average_salary=[]\n",
    "for i in average_tags[0:10]:\n",
    "    average_salary.append(i.text)\n",
    "average_salary"
   ]
  },
  {
   "cell_type": "markdown",
   "metadata": {},
   "source": [
    "Scrape Average salary information"
   ]
  },
  {
   "cell_type": "code",
   "execution_count": 643,
   "metadata": {},
   "outputs": [
    {
     "data": {
      "text/plain": [
       "[<selenium.webdriver.remote.webelement.WebElement (session=\"db1f88bae0a6daebf2abb5c218237036\", element=\"4d43a8fb-6e80-49e6-b2b2-a71483498795\")>,\n",
       " <selenium.webdriver.remote.webelement.WebElement (session=\"db1f88bae0a6daebf2abb5c218237036\", element=\"02ee185a-9286-4c11-9426-f82a8d2989af\")>,\n",
       " <selenium.webdriver.remote.webelement.WebElement (session=\"db1f88bae0a6daebf2abb5c218237036\", element=\"30be40b5-d72c-409b-a89b-f3ee488ca38d\")>,\n",
       " <selenium.webdriver.remote.webelement.WebElement (session=\"db1f88bae0a6daebf2abb5c218237036\", element=\"816ad26e-65ad-4fae-8363-bf26e5ad3ae6\")>,\n",
       " <selenium.webdriver.remote.webelement.WebElement (session=\"db1f88bae0a6daebf2abb5c218237036\", element=\"d897070d-fbd4-4851-a842-de010570d140\")>,\n",
       " <selenium.webdriver.remote.webelement.WebElement (session=\"db1f88bae0a6daebf2abb5c218237036\", element=\"41dfcb28-7421-4f32-aaee-e6071a68f317\")>,\n",
       " <selenium.webdriver.remote.webelement.WebElement (session=\"db1f88bae0a6daebf2abb5c218237036\", element=\"7c2f7407-460f-4626-ac9d-d2069aaf4da8\")>,\n",
       " <selenium.webdriver.remote.webelement.WebElement (session=\"db1f88bae0a6daebf2abb5c218237036\", element=\"9dbb25d8-cdaa-4efa-9594-7f4f6ce79331\")>,\n",
       " <selenium.webdriver.remote.webelement.WebElement (session=\"db1f88bae0a6daebf2abb5c218237036\", element=\"97a04677-2b3e-4910-8c36-9ed188c94169\")>,\n",
       " <selenium.webdriver.remote.webelement.WebElement (session=\"db1f88bae0a6daebf2abb5c218237036\", element=\"d414e8b5-0451-432a-862c-3e1947ee263b\")>,\n",
       " <selenium.webdriver.remote.webelement.WebElement (session=\"db1f88bae0a6daebf2abb5c218237036\", element=\"610f8a7e-d16c-4254-b650-fccce1735112\")>,\n",
       " <selenium.webdriver.remote.webelement.WebElement (session=\"db1f88bae0a6daebf2abb5c218237036\", element=\"e5cb8628-fd16-4d78-8c70-ff89e374606d\")>,\n",
       " <selenium.webdriver.remote.webelement.WebElement (session=\"db1f88bae0a6daebf2abb5c218237036\", element=\"15a474cf-9370-4681-bde6-0fc952cf967f\")>,\n",
       " <selenium.webdriver.remote.webelement.WebElement (session=\"db1f88bae0a6daebf2abb5c218237036\", element=\"24909bee-3501-43e5-894d-964182a236fb\")>,\n",
       " <selenium.webdriver.remote.webelement.WebElement (session=\"db1f88bae0a6daebf2abb5c218237036\", element=\"d54a6175-872a-4457-9297-dabf62f93cae\")>,\n",
       " <selenium.webdriver.remote.webelement.WebElement (session=\"db1f88bae0a6daebf2abb5c218237036\", element=\"520172d4-0d90-41bd-b2ae-0a02506ad42c\")>,\n",
       " <selenium.webdriver.remote.webelement.WebElement (session=\"db1f88bae0a6daebf2abb5c218237036\", element=\"5f4059a3-1734-4379-aaad-0b0824f4b369\")>,\n",
       " <selenium.webdriver.remote.webelement.WebElement (session=\"db1f88bae0a6daebf2abb5c218237036\", element=\"540ebef6-02dc-46d1-aa54-c23487722f05\")>,\n",
       " <selenium.webdriver.remote.webelement.WebElement (session=\"db1f88bae0a6daebf2abb5c218237036\", element=\"adc3f15c-25dc-481a-964a-ec0a279d0983\")>,\n",
       " <selenium.webdriver.remote.webelement.WebElement (session=\"db1f88bae0a6daebf2abb5c218237036\", element=\"75762a2c-b58d-4ea7-af47-3c8535187f65\")>]"
      ]
     },
     "execution_count": 643,
     "metadata": {},
     "output_type": "execute_result"
    }
   ],
   "source": [
    "range_tags=driver.find_elements_by_xpath(\"//div[@class='d-flex mt-xxsm css-79elbk epuxyqn0']//p[1]\")\n",
    "range_tags"
   ]
  },
  {
   "cell_type": "code",
   "execution_count": 644,
   "metadata": {},
   "outputs": [
    {
     "data": {
      "text/plain": [
       "['₹3L', '₹6L', '₹6L', '₹5L', '₹4L', '₹8L', '₹5L', '₹6L', '₹8L', '₹4L']"
      ]
     },
     "execution_count": 644,
     "metadata": {},
     "output_type": "execute_result"
    }
   ],
   "source": [
    "min_range_salary=[]\n",
    "for i in range_tags[0:10]:\n",
    "    min_range_salary.append(i.text)\n",
    "min_range_salary"
   ]
  },
  {
   "cell_type": "markdown",
   "metadata": {},
   "source": [
    "Scrape minimum salary information"
   ]
  },
  {
   "cell_type": "code",
   "execution_count": 645,
   "metadata": {},
   "outputs": [
    {
     "data": {
      "text/plain": [
       "[<selenium.webdriver.remote.webelement.WebElement (session=\"db1f88bae0a6daebf2abb5c218237036\", element=\"d558a968-3aa7-49ad-93b5-549e3608f42c\")>,\n",
       " <selenium.webdriver.remote.webelement.WebElement (session=\"db1f88bae0a6daebf2abb5c218237036\", element=\"a4e55830-8b43-488f-bf31-578d3bcd48a5\")>,\n",
       " <selenium.webdriver.remote.webelement.WebElement (session=\"db1f88bae0a6daebf2abb5c218237036\", element=\"2ee4ab10-57e9-40dc-a5d1-99c1cef6b3cb\")>,\n",
       " <selenium.webdriver.remote.webelement.WebElement (session=\"db1f88bae0a6daebf2abb5c218237036\", element=\"ae405b5b-8fb4-4c21-b2d3-f4c7195d2da5\")>,\n",
       " <selenium.webdriver.remote.webelement.WebElement (session=\"db1f88bae0a6daebf2abb5c218237036\", element=\"ebe1c9da-92eb-49cb-9dc5-9a27f4d8b51e\")>,\n",
       " <selenium.webdriver.remote.webelement.WebElement (session=\"db1f88bae0a6daebf2abb5c218237036\", element=\"21bd4a87-ead5-4d7f-b3e7-7bb63f1da220\")>,\n",
       " <selenium.webdriver.remote.webelement.WebElement (session=\"db1f88bae0a6daebf2abb5c218237036\", element=\"4a2be645-100d-454f-a0f4-3ff105fbed57\")>,\n",
       " <selenium.webdriver.remote.webelement.WebElement (session=\"db1f88bae0a6daebf2abb5c218237036\", element=\"3d10d8a7-0c7c-4732-b470-20445b0c6563\")>,\n",
       " <selenium.webdriver.remote.webelement.WebElement (session=\"db1f88bae0a6daebf2abb5c218237036\", element=\"37efb38d-268d-4555-ad4e-2710315b4f2d\")>,\n",
       " <selenium.webdriver.remote.webelement.WebElement (session=\"db1f88bae0a6daebf2abb5c218237036\", element=\"346b422a-0f97-4ff3-9ead-2ec9a7df814b\")>,\n",
       " <selenium.webdriver.remote.webelement.WebElement (session=\"db1f88bae0a6daebf2abb5c218237036\", element=\"580f9b5b-fc13-474c-8dc2-a4736454dfc0\")>,\n",
       " <selenium.webdriver.remote.webelement.WebElement (session=\"db1f88bae0a6daebf2abb5c218237036\", element=\"3df681c6-befe-4a02-bd55-64238d01c5e5\")>,\n",
       " <selenium.webdriver.remote.webelement.WebElement (session=\"db1f88bae0a6daebf2abb5c218237036\", element=\"1827f188-62ec-420d-b2b9-e5a4a6c2662f\")>,\n",
       " <selenium.webdriver.remote.webelement.WebElement (session=\"db1f88bae0a6daebf2abb5c218237036\", element=\"b026b38f-89c9-4d7c-9d29-4c393c30aa9f\")>,\n",
       " <selenium.webdriver.remote.webelement.WebElement (session=\"db1f88bae0a6daebf2abb5c218237036\", element=\"a7fe039e-16af-415d-b449-1be924fdc884\")>,\n",
       " <selenium.webdriver.remote.webelement.WebElement (session=\"db1f88bae0a6daebf2abb5c218237036\", element=\"76b8b5a3-53a9-4f99-8cc2-8547d425cf98\")>,\n",
       " <selenium.webdriver.remote.webelement.WebElement (session=\"db1f88bae0a6daebf2abb5c218237036\", element=\"01e95e59-d49c-4212-80e6-0681a8e496c6\")>,\n",
       " <selenium.webdriver.remote.webelement.WebElement (session=\"db1f88bae0a6daebf2abb5c218237036\", element=\"2dd76256-a048-4337-afa2-766ff7ea65cc\")>,\n",
       " <selenium.webdriver.remote.webelement.WebElement (session=\"db1f88bae0a6daebf2abb5c218237036\", element=\"b32ad255-df7c-4b8c-8d5f-801636ef8d4d\")>,\n",
       " <selenium.webdriver.remote.webelement.WebElement (session=\"db1f88bae0a6daebf2abb5c218237036\", element=\"539868ab-0161-4a00-87be-40a172c97484\")>]"
      ]
     },
     "execution_count": 645,
     "metadata": {},
     "output_type": "execute_result"
    }
   ],
   "source": [
    "maxrange_tags=driver.find_elements_by_xpath(\"//div[@class='d-flex mt-xxsm css-79elbk epuxyqn0']//p[2]\")\n",
    "maxrange_tags"
   ]
  },
  {
   "cell_type": "code",
   "execution_count": 646,
   "metadata": {},
   "outputs": [
    {
     "data": {
      "text/plain": [
       "['₹13L',\n",
       " '₹27L',\n",
       " '₹22L',\n",
       " '₹1Cr',\n",
       " '₹16L',\n",
       " '₹15L',\n",
       " '₹15L',\n",
       " '₹15L',\n",
       " '₹20L',\n",
       " '₹22L']"
      ]
     },
     "execution_count": 646,
     "metadata": {},
     "output_type": "execute_result"
    }
   ],
   "source": [
    "max_range_salary=[]\n",
    "for i in maxrange_tags[0:10]:\n",
    "    max_range_salary.append(i.text)\n",
    "max_range_salary"
   ]
  },
  {
   "cell_type": "markdown",
   "metadata": {},
   "source": [
    "Scrape maximum salary information"
   ]
  },
  {
   "cell_type": "code",
   "execution_count": 647,
   "metadata": {},
   "outputs": [
    {
     "data": {
      "text/plain": [
       "[<selenium.webdriver.remote.webelement.WebElement (session=\"db1f88bae0a6daebf2abb5c218237036\", element=\"e37911b3-e1fc-4ee1-8c09-f601d32e4436\")>,\n",
       " <selenium.webdriver.remote.webelement.WebElement (session=\"db1f88bae0a6daebf2abb5c218237036\", element=\"bcac389a-a83a-47ce-bdd0-16ffa1cde76f\")>,\n",
       " <selenium.webdriver.remote.webelement.WebElement (session=\"db1f88bae0a6daebf2abb5c218237036\", element=\"db37c2fd-a2f4-4132-9dd0-d50dfee8e01b\")>,\n",
       " <selenium.webdriver.remote.webelement.WebElement (session=\"db1f88bae0a6daebf2abb5c218237036\", element=\"ae2c7ce7-9750-4650-b5fd-dea628777d78\")>,\n",
       " <selenium.webdriver.remote.webelement.WebElement (session=\"db1f88bae0a6daebf2abb5c218237036\", element=\"9f747858-f123-485a-886f-b3ce469f74c4\")>,\n",
       " <selenium.webdriver.remote.webelement.WebElement (session=\"db1f88bae0a6daebf2abb5c218237036\", element=\"b30ac98f-8ab3-408f-950e-6a0425c3bb77\")>,\n",
       " <selenium.webdriver.remote.webelement.WebElement (session=\"db1f88bae0a6daebf2abb5c218237036\", element=\"975c54fe-4381-47ac-be6d-0e2457bed3f2\")>,\n",
       " <selenium.webdriver.remote.webelement.WebElement (session=\"db1f88bae0a6daebf2abb5c218237036\", element=\"0325adc0-a624-40e3-ae5a-a064d1a0f3b8\")>,\n",
       " <selenium.webdriver.remote.webelement.WebElement (session=\"db1f88bae0a6daebf2abb5c218237036\", element=\"360888ba-47e8-4760-841a-dfac2d53c03c\")>,\n",
       " <selenium.webdriver.remote.webelement.WebElement (session=\"db1f88bae0a6daebf2abb5c218237036\", element=\"42abc091-6d18-4dd8-85de-cbdb1ac33d2a\")>,\n",
       " <selenium.webdriver.remote.webelement.WebElement (session=\"db1f88bae0a6daebf2abb5c218237036\", element=\"f360c00c-30b5-4862-bb8b-fd2d23d1a9df\")>,\n",
       " <selenium.webdriver.remote.webelement.WebElement (session=\"db1f88bae0a6daebf2abb5c218237036\", element=\"8df1cf0d-9df7-4874-ae07-c8b60942e632\")>,\n",
       " <selenium.webdriver.remote.webelement.WebElement (session=\"db1f88bae0a6daebf2abb5c218237036\", element=\"9b94e867-7352-4b14-88d0-c3aa8160dfe2\")>,\n",
       " <selenium.webdriver.remote.webelement.WebElement (session=\"db1f88bae0a6daebf2abb5c218237036\", element=\"d827d616-61ef-4e95-abee-43d6863084ae\")>,\n",
       " <selenium.webdriver.remote.webelement.WebElement (session=\"db1f88bae0a6daebf2abb5c218237036\", element=\"0a3718e3-c797-4246-89ea-d47f4573bfec\")>,\n",
       " <selenium.webdriver.remote.webelement.WebElement (session=\"db1f88bae0a6daebf2abb5c218237036\", element=\"5a5ea4dd-bca2-4714-bda2-4db40581456e\")>,\n",
       " <selenium.webdriver.remote.webelement.WebElement (session=\"db1f88bae0a6daebf2abb5c218237036\", element=\"c1b7c1b0-ecfe-4f01-8b00-5ce40f8a1064\")>,\n",
       " <selenium.webdriver.remote.webelement.WebElement (session=\"db1f88bae0a6daebf2abb5c218237036\", element=\"3eca9353-4a79-4ef7-afb9-2d4cb9884e89\")>,\n",
       " <selenium.webdriver.remote.webelement.WebElement (session=\"db1f88bae0a6daebf2abb5c218237036\", element=\"5849d375-53c1-4729-888d-2d4d3e1ecc55\")>,\n",
       " <selenium.webdriver.remote.webelement.WebElement (session=\"db1f88bae0a6daebf2abb5c218237036\", element=\"c4c6da0d-e798-4543-83fd-6ab7e532e538\")>]"
      ]
     },
     "execution_count": 647,
     "metadata": {},
     "output_type": "execute_result"
    }
   ],
   "source": [
    "rating_tags=driver.find_elements_by_xpath(\"//div[@class='d-flex align-items-center mt-xxsm']//span[1]\")\n",
    "rating_tags"
   ]
  },
  {
   "cell_type": "code",
   "execution_count": 648,
   "metadata": {},
   "outputs": [
    {
     "data": {
      "text/plain": [
       "['3.9', '3.9', '4.1', '3.9', '4', '3.6', '4.2', '3.6', '3.7', '3.9']"
      ]
     },
     "execution_count": 648,
     "metadata": {},
     "output_type": "execute_result"
    }
   ],
   "source": [
    "rating_company=[]\n",
    "for i in rating_tags[0:10]:\n",
    "    rating_company.append(i.text)\n",
    "rating_company"
   ]
  },
  {
   "cell_type": "markdown",
   "metadata": {},
   "source": [
    "Scrape the rating information"
   ]
  },
  {
   "cell_type": "code",
   "execution_count": 649,
   "metadata": {},
   "outputs": [
    {
     "name": "stdout",
     "output_type": "stream",
     "text": [
      "10 10 10 10 10\n"
     ]
    }
   ],
   "source": [
    "print(len(company_names),len(average_salary),len(min_range_salary),len(max_range_salary),len(rating_company))"
   ]
  },
  {
   "cell_type": "code",
   "execution_count": 650,
   "metadata": {},
   "outputs": [],
   "source": [
    "jobs=pd.DataFrame({})\n",
    "jobs['company']=company_names\n",
    "jobs['avg_salary']=average_salary\n",
    "jobs['min_salary_range']=min_range_salary\n",
    "jobs['max_salary_range']=max_range_salary\n",
    "jobs['company_rating']=rating_company"
   ]
  },
  {
   "cell_type": "code",
   "execution_count": 651,
   "metadata": {},
   "outputs": [
    {
     "data": {
      "text/html": [
       "<div>\n",
       "<style scoped>\n",
       "    .dataframe tbody tr th:only-of-type {\n",
       "        vertical-align: middle;\n",
       "    }\n",
       "\n",
       "    .dataframe tbody tr th {\n",
       "        vertical-align: top;\n",
       "    }\n",
       "\n",
       "    .dataframe thead th {\n",
       "        text-align: right;\n",
       "    }\n",
       "</style>\n",
       "<table border=\"1\" class=\"dataframe\">\n",
       "  <thead>\n",
       "    <tr style=\"text-align: right;\">\n",
       "      <th></th>\n",
       "      <th>company</th>\n",
       "      <th>avg_salary</th>\n",
       "      <th>min_salary_range</th>\n",
       "      <th>max_salary_range</th>\n",
       "      <th>company_rating</th>\n",
       "    </tr>\n",
       "  </thead>\n",
       "  <tbody>\n",
       "    <tr>\n",
       "      <th>0</th>\n",
       "      <td>Tata Consultancy Services</td>\n",
       "      <td>₹6,12,205\\n /yr</td>\n",
       "      <td>₹3L</td>\n",
       "      <td>₹13L</td>\n",
       "      <td>3.9</td>\n",
       "    </tr>\n",
       "    <tr>\n",
       "      <th>1</th>\n",
       "      <td>IBM</td>\n",
       "      <td>₹9,00,000\\n /yr</td>\n",
       "      <td>₹6L</td>\n",
       "      <td>₹27L</td>\n",
       "      <td>3.9</td>\n",
       "    </tr>\n",
       "    <tr>\n",
       "      <th>2</th>\n",
       "      <td>Accenture</td>\n",
       "      <td>₹11,63,336\\n /yr</td>\n",
       "      <td>₹6L</td>\n",
       "      <td>₹22L</td>\n",
       "      <td>4.1</td>\n",
       "    </tr>\n",
       "    <tr>\n",
       "      <th>3</th>\n",
       "      <td>Delhivery</td>\n",
       "      <td>₹12,18,244\\n /yr</td>\n",
       "      <td>₹5L</td>\n",
       "      <td>₹1Cr</td>\n",
       "      <td>3.9</td>\n",
       "    </tr>\n",
       "    <tr>\n",
       "      <th>4</th>\n",
       "      <td>Ericsson-Worldwide</td>\n",
       "      <td>₹7,39,238\\n /yr</td>\n",
       "      <td>₹4L</td>\n",
       "      <td>₹16L</td>\n",
       "      <td>4</td>\n",
       "    </tr>\n",
       "    <tr>\n",
       "      <th>5</th>\n",
       "      <td>UnitedHealth Group</td>\n",
       "      <td>₹12,80,000\\n /yr</td>\n",
       "      <td>₹8L</td>\n",
       "      <td>₹15L</td>\n",
       "      <td>3.6</td>\n",
       "    </tr>\n",
       "    <tr>\n",
       "      <th>6</th>\n",
       "      <td>Valiance Solutions</td>\n",
       "      <td>₹8,63,750\\n /yr</td>\n",
       "      <td>₹5L</td>\n",
       "      <td>₹15L</td>\n",
       "      <td>4.2</td>\n",
       "    </tr>\n",
       "    <tr>\n",
       "      <th>7</th>\n",
       "      <td>EXL Service</td>\n",
       "      <td>₹11,10,000\\n /yr</td>\n",
       "      <td>₹6L</td>\n",
       "      <td>₹15L</td>\n",
       "      <td>3.6</td>\n",
       "    </tr>\n",
       "    <tr>\n",
       "      <th>8</th>\n",
       "      <td>Optum</td>\n",
       "      <td>₹14,23,677\\n /yr</td>\n",
       "      <td>₹8L</td>\n",
       "      <td>₹20L</td>\n",
       "      <td>3.7</td>\n",
       "    </tr>\n",
       "    <tr>\n",
       "      <th>9</th>\n",
       "      <td>Optum Global Solutions</td>\n",
       "      <td>₹13,28,697\\n /yr</td>\n",
       "      <td>₹4L</td>\n",
       "      <td>₹22L</td>\n",
       "      <td>3.9</td>\n",
       "    </tr>\n",
       "  </tbody>\n",
       "</table>\n",
       "</div>"
      ],
      "text/plain": [
       "                     company        avg_salary min_salary_range  \\\n",
       "0  Tata Consultancy Services   ₹6,12,205\\n /yr              ₹3L   \n",
       "1                        IBM   ₹9,00,000\\n /yr              ₹6L   \n",
       "2                  Accenture  ₹11,63,336\\n /yr              ₹6L   \n",
       "3                  Delhivery  ₹12,18,244\\n /yr              ₹5L   \n",
       "4         Ericsson-Worldwide   ₹7,39,238\\n /yr              ₹4L   \n",
       "5         UnitedHealth Group  ₹12,80,000\\n /yr              ₹8L   \n",
       "6         Valiance Solutions   ₹8,63,750\\n /yr              ₹5L   \n",
       "7                EXL Service  ₹11,10,000\\n /yr              ₹6L   \n",
       "8                      Optum  ₹14,23,677\\n /yr              ₹8L   \n",
       "9     Optum Global Solutions  ₹13,28,697\\n /yr              ₹4L   \n",
       "\n",
       "  max_salary_range company_rating  \n",
       "0             ₹13L            3.9  \n",
       "1             ₹27L            3.9  \n",
       "2             ₹22L            4.1  \n",
       "3             ₹1Cr            3.9  \n",
       "4             ₹16L              4  \n",
       "5             ₹15L            3.6  \n",
       "6             ₹15L            4.2  \n",
       "7             ₹15L            3.6  \n",
       "8             ₹20L            3.7  \n",
       "9             ₹22L            3.9  "
      ]
     },
     "execution_count": 651,
     "metadata": {},
     "output_type": "execute_result"
    }
   ],
   "source": [
    "jobs"
   ]
  },
  {
   "cell_type": "markdown",
   "metadata": {},
   "source": [
    "Create Dataframe of the data"
   ]
  },
  {
   "cell_type": "markdown",
   "metadata": {},
   "source": []
  },
  {
   "cell_type": "markdown",
   "metadata": {},
   "source": [
    "Q6 : Scrape data of first 100 sunglasses listings on flipkart.com. You have to \n",
    "scrape four attributes:"
   ]
  },
  {
   "cell_type": "code",
   "execution_count": null,
   "metadata": {},
   "outputs": [],
   "source": [
    "driver = webdriver.Chrome(r\"C:\\Users\\Ankita\\Downloads\\chromedriver_win32\\chromedriver.exe\")"
   ]
  },
  {
   "cell_type": "markdown",
   "metadata": {},
   "source": [
    "Chrome driver path"
   ]
  },
  {
   "cell_type": "code",
   "execution_count": 653,
   "metadata": {},
   "outputs": [],
   "source": [
    "url = 'https://www.flipkart.com/'\n",
    "driver.get(url)"
   ]
  },
  {
   "cell_type": "markdown",
   "metadata": {},
   "source": [
    "Enter flipkart URL"
   ]
  },
  {
   "cell_type": "code",
   "execution_count": 654,
   "metadata": {},
   "outputs": [
    {
     "data": {
      "text/plain": [
       "<selenium.webdriver.remote.webelement.WebElement (session=\"eb9648c355ac8a22b7b12e89dc5c4d34\", element=\"1a49bf7b-e673-49bf-9384-5e6e535a857f\")>"
      ]
     },
     "execution_count": 654,
     "metadata": {},
     "output_type": "execute_result"
    }
   ],
   "source": [
    "search_job = driver.find_element_by_xpath(\"/html/body/div[1]/div/div[1]/div[1]/div[2]/div[2]/form/div/div/input\")\n",
    "search_job                                       "
   ]
  },
  {
   "cell_type": "code",
   "execution_count": 655,
   "metadata": {},
   "outputs": [],
   "source": [
    "search_job.send_keys(\"sunglasses\")"
   ]
  },
  {
   "cell_type": "markdown",
   "metadata": {},
   "source": [
    "Enter sunglasses in search field"
   ]
  },
  {
   "cell_type": "code",
   "execution_count": 656,
   "metadata": {},
   "outputs": [
    {
     "data": {
      "text/plain": [
       "<selenium.webdriver.remote.webelement.WebElement (session=\"eb9648c355ac8a22b7b12e89dc5c4d34\", element=\"0dbc794e-7abd-4b49-979e-5dde8eee28eb\")>"
      ]
     },
     "execution_count": 656,
     "metadata": {},
     "output_type": "execute_result"
    }
   ],
   "source": [
    "search_btn = driver.find_element_by_xpath(\"//button[@class='L0Z3Pu']\")\n",
    "search_btn\n"
   ]
  },
  {
   "cell_type": "code",
   "execution_count": 657,
   "metadata": {},
   "outputs": [],
   "source": [
    "search_btn.click()"
   ]
  },
  {
   "cell_type": "markdown",
   "metadata": {},
   "source": [
    "Click on seach button code"
   ]
  },
  {
   "cell_type": "code",
   "execution_count": 658,
   "metadata": {},
   "outputs": [
    {
     "data": {
      "text/plain": [
       "[<selenium.webdriver.remote.webelement.WebElement (session=\"eb9648c355ac8a22b7b12e89dc5c4d34\", element=\"eb6efec0-3cee-4263-9d24-ab99050376d7\")>,\n",
       " <selenium.webdriver.remote.webelement.WebElement (session=\"eb9648c355ac8a22b7b12e89dc5c4d34\", element=\"46b5a70d-21a9-4fef-b6ca-f9127141d12f\")>,\n",
       " <selenium.webdriver.remote.webelement.WebElement (session=\"eb9648c355ac8a22b7b12e89dc5c4d34\", element=\"643e574d-58b0-4031-812a-c03220c61f5c\")>,\n",
       " <selenium.webdriver.remote.webelement.WebElement (session=\"eb9648c355ac8a22b7b12e89dc5c4d34\", element=\"a89999b3-f77a-4c4b-ad2a-6d10e2bf6d11\")>,\n",
       " <selenium.webdriver.remote.webelement.WebElement (session=\"eb9648c355ac8a22b7b12e89dc5c4d34\", element=\"e720caed-a970-4bd1-ab59-7d506e78eb7e\")>,\n",
       " <selenium.webdriver.remote.webelement.WebElement (session=\"eb9648c355ac8a22b7b12e89dc5c4d34\", element=\"0fa088d6-7668-4345-89ce-6600f01b881a\")>,\n",
       " <selenium.webdriver.remote.webelement.WebElement (session=\"eb9648c355ac8a22b7b12e89dc5c4d34\", element=\"d7e0c433-344e-4ff7-927e-7df46a475b9b\")>,\n",
       " <selenium.webdriver.remote.webelement.WebElement (session=\"eb9648c355ac8a22b7b12e89dc5c4d34\", element=\"6ce103b9-f7df-4a07-82d8-9e0fd5a370db\")>,\n",
       " <selenium.webdriver.remote.webelement.WebElement (session=\"eb9648c355ac8a22b7b12e89dc5c4d34\", element=\"844481c0-589c-4f9b-9d30-11eea7b5731b\")>,\n",
       " <selenium.webdriver.remote.webelement.WebElement (session=\"eb9648c355ac8a22b7b12e89dc5c4d34\", element=\"9c83b022-d13d-4441-8549-6126ea4d4262\")>,\n",
       " <selenium.webdriver.remote.webelement.WebElement (session=\"eb9648c355ac8a22b7b12e89dc5c4d34\", element=\"e3c11210-5171-4f2c-8378-74947dc57f33\")>,\n",
       " <selenium.webdriver.remote.webelement.WebElement (session=\"eb9648c355ac8a22b7b12e89dc5c4d34\", element=\"5a01a508-6f69-41a5-819c-71d4f3d79485\")>,\n",
       " <selenium.webdriver.remote.webelement.WebElement (session=\"eb9648c355ac8a22b7b12e89dc5c4d34\", element=\"b59ca05d-f807-4f29-9cfa-ef1a9d0fd353\")>,\n",
       " <selenium.webdriver.remote.webelement.WebElement (session=\"eb9648c355ac8a22b7b12e89dc5c4d34\", element=\"912a3291-3691-46d3-9726-2eecec77be5d\")>,\n",
       " <selenium.webdriver.remote.webelement.WebElement (session=\"eb9648c355ac8a22b7b12e89dc5c4d34\", element=\"fd837f09-7c08-444f-962f-11f24fdb9bd2\")>,\n",
       " <selenium.webdriver.remote.webelement.WebElement (session=\"eb9648c355ac8a22b7b12e89dc5c4d34\", element=\"cb53c464-c9c0-4a02-8ef8-57c27b6c624c\")>,\n",
       " <selenium.webdriver.remote.webelement.WebElement (session=\"eb9648c355ac8a22b7b12e89dc5c4d34\", element=\"019d45d2-b494-41d8-be16-45e215b768f2\")>,\n",
       " <selenium.webdriver.remote.webelement.WebElement (session=\"eb9648c355ac8a22b7b12e89dc5c4d34\", element=\"81f04799-9cb5-4f14-acf4-9c255dbd5f6e\")>,\n",
       " <selenium.webdriver.remote.webelement.WebElement (session=\"eb9648c355ac8a22b7b12e89dc5c4d34\", element=\"c5bdb6e7-5d5b-46b3-a43d-e71efc7e8468\")>,\n",
       " <selenium.webdriver.remote.webelement.WebElement (session=\"eb9648c355ac8a22b7b12e89dc5c4d34\", element=\"5d44c469-203a-4a8f-89e1-42d92adf9996\")>,\n",
       " <selenium.webdriver.remote.webelement.WebElement (session=\"eb9648c355ac8a22b7b12e89dc5c4d34\", element=\"798b1ed3-dd78-4c34-9a45-04cb456d47c4\")>,\n",
       " <selenium.webdriver.remote.webelement.WebElement (session=\"eb9648c355ac8a22b7b12e89dc5c4d34\", element=\"a59e25ae-92c2-4f1b-b03e-8e7cbdbd08ff\")>,\n",
       " <selenium.webdriver.remote.webelement.WebElement (session=\"eb9648c355ac8a22b7b12e89dc5c4d34\", element=\"5c192b40-70a0-4452-8325-ae087f6769e6\")>,\n",
       " <selenium.webdriver.remote.webelement.WebElement (session=\"eb9648c355ac8a22b7b12e89dc5c4d34\", element=\"940d35bc-c98e-4db9-a2aa-09ab5d484138\")>,\n",
       " <selenium.webdriver.remote.webelement.WebElement (session=\"eb9648c355ac8a22b7b12e89dc5c4d34\", element=\"cdefbd8f-2729-4afd-b4f2-6d9dcbb7165b\")>,\n",
       " <selenium.webdriver.remote.webelement.WebElement (session=\"eb9648c355ac8a22b7b12e89dc5c4d34\", element=\"1ead76e8-302f-49aa-a1ad-475589d13e86\")>,\n",
       " <selenium.webdriver.remote.webelement.WebElement (session=\"eb9648c355ac8a22b7b12e89dc5c4d34\", element=\"628a4b96-a663-4b38-9d24-4b54c4718ab7\")>,\n",
       " <selenium.webdriver.remote.webelement.WebElement (session=\"eb9648c355ac8a22b7b12e89dc5c4d34\", element=\"a9734a67-79e3-4cee-9572-3719fab64e1d\")>,\n",
       " <selenium.webdriver.remote.webelement.WebElement (session=\"eb9648c355ac8a22b7b12e89dc5c4d34\", element=\"699ae68c-05c6-4301-b124-707d06f4a528\")>,\n",
       " <selenium.webdriver.remote.webelement.WebElement (session=\"eb9648c355ac8a22b7b12e89dc5c4d34\", element=\"c63cf2d6-8b76-40db-a4af-b766ba3985b2\")>,\n",
       " <selenium.webdriver.remote.webelement.WebElement (session=\"eb9648c355ac8a22b7b12e89dc5c4d34\", element=\"a6285ae4-bc4a-44cf-b3b8-f8cbeca9c320\")>,\n",
       " <selenium.webdriver.remote.webelement.WebElement (session=\"eb9648c355ac8a22b7b12e89dc5c4d34\", element=\"bcdf0d13-0e22-4c94-a94c-4546bc56a246\")>,\n",
       " <selenium.webdriver.remote.webelement.WebElement (session=\"eb9648c355ac8a22b7b12e89dc5c4d34\", element=\"f3f36784-11c5-46b6-b262-f2305d957781\")>,\n",
       " <selenium.webdriver.remote.webelement.WebElement (session=\"eb9648c355ac8a22b7b12e89dc5c4d34\", element=\"836c9f25-aefb-4128-899c-f1214285b27e\")>,\n",
       " <selenium.webdriver.remote.webelement.WebElement (session=\"eb9648c355ac8a22b7b12e89dc5c4d34\", element=\"a64649e4-6390-4b64-8605-d74d0eca5587\")>,\n",
       " <selenium.webdriver.remote.webelement.WebElement (session=\"eb9648c355ac8a22b7b12e89dc5c4d34\", element=\"1408155b-2ba5-468a-b144-ee62b28df057\")>,\n",
       " <selenium.webdriver.remote.webelement.WebElement (session=\"eb9648c355ac8a22b7b12e89dc5c4d34\", element=\"66b1faeb-84e2-430b-a207-e8492e038f8b\")>,\n",
       " <selenium.webdriver.remote.webelement.WebElement (session=\"eb9648c355ac8a22b7b12e89dc5c4d34\", element=\"f7c1806c-9960-4401-a398-b74cbfd2bf8d\")>,\n",
       " <selenium.webdriver.remote.webelement.WebElement (session=\"eb9648c355ac8a22b7b12e89dc5c4d34\", element=\"80ad65c2-8846-4a1a-ba2a-a9883c6f73e8\")>,\n",
       " <selenium.webdriver.remote.webelement.WebElement (session=\"eb9648c355ac8a22b7b12e89dc5c4d34\", element=\"c2a32be2-6162-466f-994d-e4e425068712\")>]"
      ]
     },
     "execution_count": 658,
     "metadata": {},
     "output_type": "execute_result"
    }
   ],
   "source": [
    "brand_tags=driver.find_elements_by_xpath(\"//div[@class='_2WkVRV']\")\n",
    "brand_tags"
   ]
  },
  {
   "cell_type": "code",
   "execution_count": 659,
   "metadata": {},
   "outputs": [
    {
     "data": {
      "text/plain": [
       "['HAMIW COLLECTION',\n",
       " 'Wrogn',\n",
       " 'Elligator',\n",
       " 'Fastrack',\n",
       " 'Fastrack',\n",
       " 'Fastrack',\n",
       " 'kingsunglasses',\n",
       " 'LIZA ANGEL',\n",
       " 'PIRASO',\n",
       " 'Fastrack',\n",
       " 'PIRASO',\n",
       " 'hipe',\n",
       " 'PHENOMENAL',\n",
       " 'Fastrack',\n",
       " 'kingsunglasses',\n",
       " 'VINCENT CHASE',\n",
       " 'Fastrack',\n",
       " 'kingsunglasses',\n",
       " 'Fastrack',\n",
       " 'Wrogn',\n",
       " 'Silver Kartz',\n",
       " 'ROZZETTA CRAFT',\n",
       " 'Fastrack',\n",
       " 'Silver Kartz',\n",
       " 'hipe',\n",
       " 'NuVew',\n",
       " 'Fastrack',\n",
       " 'ROYAL SON',\n",
       " 'Singco India',\n",
       " 'Elligator',\n",
       " 'GANSTA',\n",
       " 'VINCENT CHASE',\n",
       " 'Elligator',\n",
       " 'Fastrack',\n",
       " 'PIRASO',\n",
       " 'NuVew',\n",
       " 'HIPPON',\n",
       " 'ROZZETTA CRAFT',\n",
       " 'kingsunglasses',\n",
       " 'AISLIN']"
      ]
     },
     "execution_count": 659,
     "metadata": {},
     "output_type": "execute_result"
    }
   ],
   "source": [
    "brand_titles=[]\n",
    "for i in brand_tags:\n",
    "    brand_titles.append(i.text)\n",
    "brand_titles"
   ]
  },
  {
   "cell_type": "markdown",
   "metadata": {},
   "source": [
    "Scrape Brand information"
   ]
  },
  {
   "cell_type": "code",
   "execution_count": 660,
   "metadata": {},
   "outputs": [
    {
     "data": {
      "text/plain": [
       "[<selenium.webdriver.remote.webelement.WebElement (session=\"eb9648c355ac8a22b7b12e89dc5c4d34\", element=\"f2c431f8-ca80-428c-b4cb-ab7619867716\")>,\n",
       " <selenium.webdriver.remote.webelement.WebElement (session=\"eb9648c355ac8a22b7b12e89dc5c4d34\", element=\"149d1be3-d0c3-4e00-8f57-002f46a14406\")>,\n",
       " <selenium.webdriver.remote.webelement.WebElement (session=\"eb9648c355ac8a22b7b12e89dc5c4d34\", element=\"747728ea-19b3-47ef-bae3-619eea932cac\")>,\n",
       " <selenium.webdriver.remote.webelement.WebElement (session=\"eb9648c355ac8a22b7b12e89dc5c4d34\", element=\"d6abdf19-69c9-4ffb-8f74-0b01ccb2330f\")>,\n",
       " <selenium.webdriver.remote.webelement.WebElement (session=\"eb9648c355ac8a22b7b12e89dc5c4d34\", element=\"676d040a-f196-4bc3-b341-b30a3043a359\")>,\n",
       " <selenium.webdriver.remote.webelement.WebElement (session=\"eb9648c355ac8a22b7b12e89dc5c4d34\", element=\"5e228ee2-0662-4a4f-b0f9-8ccc016377e2\")>,\n",
       " <selenium.webdriver.remote.webelement.WebElement (session=\"eb9648c355ac8a22b7b12e89dc5c4d34\", element=\"0bfe6ed2-1d35-45d8-9fa3-cf346b1229a9\")>,\n",
       " <selenium.webdriver.remote.webelement.WebElement (session=\"eb9648c355ac8a22b7b12e89dc5c4d34\", element=\"f76cea80-3ffd-499b-9c68-ccd42d30b8e7\")>,\n",
       " <selenium.webdriver.remote.webelement.WebElement (session=\"eb9648c355ac8a22b7b12e89dc5c4d34\", element=\"ce14a7e5-caa0-4fe6-8e80-8eb6b30052b1\")>,\n",
       " <selenium.webdriver.remote.webelement.WebElement (session=\"eb9648c355ac8a22b7b12e89dc5c4d34\", element=\"d260b84d-cb1e-4d02-bf6e-439e766b2d47\")>,\n",
       " <selenium.webdriver.remote.webelement.WebElement (session=\"eb9648c355ac8a22b7b12e89dc5c4d34\", element=\"3f8d14ec-50dc-49cc-80ad-ec5887ab73cf\")>,\n",
       " <selenium.webdriver.remote.webelement.WebElement (session=\"eb9648c355ac8a22b7b12e89dc5c4d34\", element=\"d424cd84-ce7a-4f2f-bd27-cd18e8fcde95\")>,\n",
       " <selenium.webdriver.remote.webelement.WebElement (session=\"eb9648c355ac8a22b7b12e89dc5c4d34\", element=\"608ce4af-1612-44cb-bb7c-165bf58c0bf0\")>,\n",
       " <selenium.webdriver.remote.webelement.WebElement (session=\"eb9648c355ac8a22b7b12e89dc5c4d34\", element=\"8901e080-75a8-4bed-9f81-0dd6d9862b0a\")>,\n",
       " <selenium.webdriver.remote.webelement.WebElement (session=\"eb9648c355ac8a22b7b12e89dc5c4d34\", element=\"b18c4684-e13d-4d63-a989-131251eb1901\")>,\n",
       " <selenium.webdriver.remote.webelement.WebElement (session=\"eb9648c355ac8a22b7b12e89dc5c4d34\", element=\"d5d1bc82-05cb-4fb6-a9ef-8bbb7f93b9a8\")>,\n",
       " <selenium.webdriver.remote.webelement.WebElement (session=\"eb9648c355ac8a22b7b12e89dc5c4d34\", element=\"15937f3c-dd48-4d44-8c5d-cb4c75be0e20\")>,\n",
       " <selenium.webdriver.remote.webelement.WebElement (session=\"eb9648c355ac8a22b7b12e89dc5c4d34\", element=\"129c2c6d-2caa-4447-96dd-bae177ac362e\")>,\n",
       " <selenium.webdriver.remote.webelement.WebElement (session=\"eb9648c355ac8a22b7b12e89dc5c4d34\", element=\"ed21c0e6-9406-4eb6-a650-95d6843061d9\")>,\n",
       " <selenium.webdriver.remote.webelement.WebElement (session=\"eb9648c355ac8a22b7b12e89dc5c4d34\", element=\"239ab880-2e0a-4449-925c-028f750737a4\")>,\n",
       " <selenium.webdriver.remote.webelement.WebElement (session=\"eb9648c355ac8a22b7b12e89dc5c4d34\", element=\"9c3e307b-10cc-4b5b-a719-254f1f9b259a\")>,\n",
       " <selenium.webdriver.remote.webelement.WebElement (session=\"eb9648c355ac8a22b7b12e89dc5c4d34\", element=\"fb88104d-8d5d-4193-b726-9486b74958e4\")>,\n",
       " <selenium.webdriver.remote.webelement.WebElement (session=\"eb9648c355ac8a22b7b12e89dc5c4d34\", element=\"d31f38c6-2d20-489c-b79b-3625243c5e69\")>,\n",
       " <selenium.webdriver.remote.webelement.WebElement (session=\"eb9648c355ac8a22b7b12e89dc5c4d34\", element=\"caba36bc-028a-40e3-aa65-a95d871b141d\")>,\n",
       " <selenium.webdriver.remote.webelement.WebElement (session=\"eb9648c355ac8a22b7b12e89dc5c4d34\", element=\"b7940e28-fdd5-489e-8a5a-2bf1c04b9669\")>,\n",
       " <selenium.webdriver.remote.webelement.WebElement (session=\"eb9648c355ac8a22b7b12e89dc5c4d34\", element=\"8d3be182-745a-49d0-995f-830e7571cc12\")>,\n",
       " <selenium.webdriver.remote.webelement.WebElement (session=\"eb9648c355ac8a22b7b12e89dc5c4d34\", element=\"2f1fc799-ce41-4bb3-bbf0-b00d2f43e324\")>,\n",
       " <selenium.webdriver.remote.webelement.WebElement (session=\"eb9648c355ac8a22b7b12e89dc5c4d34\", element=\"864e4031-8020-47ca-8df0-39c2659b9133\")>,\n",
       " <selenium.webdriver.remote.webelement.WebElement (session=\"eb9648c355ac8a22b7b12e89dc5c4d34\", element=\"945dd5c6-9bbe-45e2-8c5f-66c3af3dc6e5\")>,\n",
       " <selenium.webdriver.remote.webelement.WebElement (session=\"eb9648c355ac8a22b7b12e89dc5c4d34\", element=\"bcefb3bd-a186-4593-a1b2-e80f9d58ca1d\")>,\n",
       " <selenium.webdriver.remote.webelement.WebElement (session=\"eb9648c355ac8a22b7b12e89dc5c4d34\", element=\"39fd9a76-bc5d-45cc-a469-d0aac4c1dbc7\")>,\n",
       " <selenium.webdriver.remote.webelement.WebElement (session=\"eb9648c355ac8a22b7b12e89dc5c4d34\", element=\"4ae98ddb-9e5c-4373-9219-b88416a3cecf\")>,\n",
       " <selenium.webdriver.remote.webelement.WebElement (session=\"eb9648c355ac8a22b7b12e89dc5c4d34\", element=\"ea93e6e3-a930-4956-8920-4d6c7ba4e37b\")>,\n",
       " <selenium.webdriver.remote.webelement.WebElement (session=\"eb9648c355ac8a22b7b12e89dc5c4d34\", element=\"61fc76c5-b848-4ac2-8426-86ab5cdf5668\")>,\n",
       " <selenium.webdriver.remote.webelement.WebElement (session=\"eb9648c355ac8a22b7b12e89dc5c4d34\", element=\"8985698b-1aba-4164-8718-0c3be252619e\")>,\n",
       " <selenium.webdriver.remote.webelement.WebElement (session=\"eb9648c355ac8a22b7b12e89dc5c4d34\", element=\"82b33599-8420-48a7-a3f3-36537dd4f79f\")>,\n",
       " <selenium.webdriver.remote.webelement.WebElement (session=\"eb9648c355ac8a22b7b12e89dc5c4d34\", element=\"a8773680-cf33-4f12-8a49-1f956d483593\")>,\n",
       " <selenium.webdriver.remote.webelement.WebElement (session=\"eb9648c355ac8a22b7b12e89dc5c4d34\", element=\"9bf45f32-4cb4-4dc3-ab31-cb05aa3ae7c5\")>,\n",
       " <selenium.webdriver.remote.webelement.WebElement (session=\"eb9648c355ac8a22b7b12e89dc5c4d34\", element=\"ed745abf-53ac-407b-a0bf-5b4c149f78e3\")>,\n",
       " <selenium.webdriver.remote.webelement.WebElement (session=\"eb9648c355ac8a22b7b12e89dc5c4d34\", element=\"60b4f114-0557-4b69-bbc0-1b8dc9c40ea2\")>]"
      ]
     },
     "execution_count": 660,
     "metadata": {},
     "output_type": "execute_result"
    }
   ],
   "source": [
    "description_tags=driver.find_elements_by_xpath(\"//div[@class='_2B099V']//a[1]\")\n",
    "description_tags  \n",
    "\n"
   ]
  },
  {
   "cell_type": "code",
   "execution_count": 661,
   "metadata": {},
   "outputs": [
    {
     "data": {
      "text/plain": [
       "['UV Protection Wayfarer, Sports, Shield, Rectangular, Re...',\n",
       " 'Mirrored Wayfarer Sunglasses (51)',\n",
       " 'UV Protection Round Sunglasses (54)',\n",
       " 'UV Protection Rectangular Sunglasses (Free Size)',\n",
       " 'UV Protection Wayfarer Sunglasses (Free Size)',\n",
       " 'Gradient, UV Protection Wayfarer Sunglasses (Free Size)',\n",
       " 'Mirrored, UV Protection Wayfarer Sunglasses (Free Size)',\n",
       " 'UV Protection, Mirrored, Riding Glasses Retro Square Su...',\n",
       " 'UV Protection Aviator Sunglasses (54)',\n",
       " 'UV Protection Wayfarer Sunglasses (Free Size)',\n",
       " 'UV Protection Aviator Sunglasses (54)',\n",
       " 'UV Protection, Gradient, Mirrored, Riding Glasses Aviat...',\n",
       " 'UV Protection Retro Square Sunglasses (Free Size)',\n",
       " 'UV Protection Wayfarer Sunglasses (56)',\n",
       " 'UV Protection Rectangular Sunglasses (Free Size)',\n",
       " 'Polarized Round Sunglasses (53)',\n",
       " 'UV Protection Aviator Sunglasses (58)',\n",
       " 'Mirrored, UV Protection Wayfarer Sunglasses (Free Size)',\n",
       " 'UV Protection Aviator Sunglasses (58)',\n",
       " 'UV Protection Aviator Sunglasses (60)',\n",
       " 'UV Protection Wayfarer Sunglasses (Free Size)',\n",
       " 'UV Protection Retro Square Sunglasses (Free Size)',\n",
       " 'UV Protection Wayfarer Sunglasses (Free Size)',\n",
       " 'UV Protection Aviator Sunglasses (88)',\n",
       " 'Mirrored, UV Protection, Gradient Round Sunglasses (55)',\n",
       " 'UV Protection Aviator Sunglasses (58)',\n",
       " 'UV Protection Aviator Sunglasses (58)',\n",
       " 'Mirrored Aviator Sunglasses (58)',\n",
       " 'UV Protection, Riding Glasses, Others Aviator, Wayfarer...',\n",
       " 'UV Protection Round Sunglasses (54)',\n",
       " 'UV Protection Aviator Sunglasses (57)',\n",
       " 'Polarized Retro Square Sunglasses (54)',\n",
       " 'Mirrored Round Sunglasses (53)',\n",
       " 'Mirrored, UV Protection Wayfarer Sunglasses (Free Size)',\n",
       " 'UV Protection Aviator Sunglasses (54)',\n",
       " 'UV Protection, Mirrored Wayfarer, Rectangular Sunglasse...',\n",
       " 'UV Protection Wayfarer Sunglasses (55)',\n",
       " 'UV Protection, Gradient Rectangular Sunglasses (Free Si...',\n",
       " 'UV Protection, Others Round, Aviator Sunglasses (54)',\n",
       " 'UV Protection, Gradient Wayfarer Sunglasses (61)']"
      ]
     },
     "execution_count": 661,
     "metadata": {},
     "output_type": "execute_result"
    }
   ],
   "source": [
    "description_names=[]\n",
    "for i in description_tags:\n",
    "    description_names.append(i.text)\n",
    "description_names"
   ]
  },
  {
   "cell_type": "markdown",
   "metadata": {},
   "source": [
    "Scrape the description"
   ]
  },
  {
   "cell_type": "code",
   "execution_count": 662,
   "metadata": {},
   "outputs": [
    {
     "data": {
      "text/plain": [
       "[<selenium.webdriver.remote.webelement.WebElement (session=\"eb9648c355ac8a22b7b12e89dc5c4d34\", element=\"ffa0f0e1-114d-4363-a999-ed3d98d75c9c\")>,\n",
       " <selenium.webdriver.remote.webelement.WebElement (session=\"eb9648c355ac8a22b7b12e89dc5c4d34\", element=\"def05f15-c1c8-4ce4-99ba-6a33a4931236\")>,\n",
       " <selenium.webdriver.remote.webelement.WebElement (session=\"eb9648c355ac8a22b7b12e89dc5c4d34\", element=\"d66e1477-a9ea-4ba4-91e0-d602acb4d404\")>,\n",
       " <selenium.webdriver.remote.webelement.WebElement (session=\"eb9648c355ac8a22b7b12e89dc5c4d34\", element=\"94008a64-aff6-4917-bff2-6f02f773b031\")>,\n",
       " <selenium.webdriver.remote.webelement.WebElement (session=\"eb9648c355ac8a22b7b12e89dc5c4d34\", element=\"ffce0c23-dd60-4b9a-bbb1-086733520398\")>,\n",
       " <selenium.webdriver.remote.webelement.WebElement (session=\"eb9648c355ac8a22b7b12e89dc5c4d34\", element=\"89981b35-6cc0-4a4a-8c22-4a40a765f2f6\")>,\n",
       " <selenium.webdriver.remote.webelement.WebElement (session=\"eb9648c355ac8a22b7b12e89dc5c4d34\", element=\"bc622d9a-b9cd-4936-a35e-fc89bf53aa62\")>,\n",
       " <selenium.webdriver.remote.webelement.WebElement (session=\"eb9648c355ac8a22b7b12e89dc5c4d34\", element=\"86c74a70-089b-4819-b922-3b6dd9a7d51d\")>,\n",
       " <selenium.webdriver.remote.webelement.WebElement (session=\"eb9648c355ac8a22b7b12e89dc5c4d34\", element=\"7a130048-c196-486b-9886-62e74e0a40cd\")>,\n",
       " <selenium.webdriver.remote.webelement.WebElement (session=\"eb9648c355ac8a22b7b12e89dc5c4d34\", element=\"f5575f08-8919-4efb-86f2-f91799788825\")>,\n",
       " <selenium.webdriver.remote.webelement.WebElement (session=\"eb9648c355ac8a22b7b12e89dc5c4d34\", element=\"793c38a8-1c41-4609-904e-17d54a0ac413\")>,\n",
       " <selenium.webdriver.remote.webelement.WebElement (session=\"eb9648c355ac8a22b7b12e89dc5c4d34\", element=\"cdf34ac7-3ec5-4157-a4c0-0dbf3fa184f0\")>,\n",
       " <selenium.webdriver.remote.webelement.WebElement (session=\"eb9648c355ac8a22b7b12e89dc5c4d34\", element=\"fdca3768-5dbe-4d08-bcf6-2f06356b0364\")>,\n",
       " <selenium.webdriver.remote.webelement.WebElement (session=\"eb9648c355ac8a22b7b12e89dc5c4d34\", element=\"41fae324-396a-40d5-a11b-73813b81a347\")>,\n",
       " <selenium.webdriver.remote.webelement.WebElement (session=\"eb9648c355ac8a22b7b12e89dc5c4d34\", element=\"3f894635-fea7-43d0-a2d2-aa18150f6fc8\")>,\n",
       " <selenium.webdriver.remote.webelement.WebElement (session=\"eb9648c355ac8a22b7b12e89dc5c4d34\", element=\"c8f08d52-0933-426e-aa52-5a3f47216289\")>,\n",
       " <selenium.webdriver.remote.webelement.WebElement (session=\"eb9648c355ac8a22b7b12e89dc5c4d34\", element=\"b72e93d7-2d3d-467a-a1b5-ecc551441929\")>,\n",
       " <selenium.webdriver.remote.webelement.WebElement (session=\"eb9648c355ac8a22b7b12e89dc5c4d34\", element=\"7eba6873-4bb8-4969-8a99-8cca4fe696d5\")>,\n",
       " <selenium.webdriver.remote.webelement.WebElement (session=\"eb9648c355ac8a22b7b12e89dc5c4d34\", element=\"de0b816f-5ca9-42e9-9195-301905bacaa7\")>,\n",
       " <selenium.webdriver.remote.webelement.WebElement (session=\"eb9648c355ac8a22b7b12e89dc5c4d34\", element=\"09c3fc45-bb30-4e4c-92c3-8f5d2e6ae035\")>,\n",
       " <selenium.webdriver.remote.webelement.WebElement (session=\"eb9648c355ac8a22b7b12e89dc5c4d34\", element=\"b3514cde-5a8e-4e6b-9830-530dab078d7e\")>,\n",
       " <selenium.webdriver.remote.webelement.WebElement (session=\"eb9648c355ac8a22b7b12e89dc5c4d34\", element=\"447ccae8-661d-4be7-99eb-47dc179faee7\")>,\n",
       " <selenium.webdriver.remote.webelement.WebElement (session=\"eb9648c355ac8a22b7b12e89dc5c4d34\", element=\"81ef971b-40ae-4382-a394-9830be7e152d\")>,\n",
       " <selenium.webdriver.remote.webelement.WebElement (session=\"eb9648c355ac8a22b7b12e89dc5c4d34\", element=\"df9b55b4-4d84-419d-a764-57cb6ae4b3fb\")>,\n",
       " <selenium.webdriver.remote.webelement.WebElement (session=\"eb9648c355ac8a22b7b12e89dc5c4d34\", element=\"0183efbe-73db-4f58-9aef-3ca3ef8c1efd\")>,\n",
       " <selenium.webdriver.remote.webelement.WebElement (session=\"eb9648c355ac8a22b7b12e89dc5c4d34\", element=\"4784d3e9-b856-43db-8019-0a9e5af10ed2\")>,\n",
       " <selenium.webdriver.remote.webelement.WebElement (session=\"eb9648c355ac8a22b7b12e89dc5c4d34\", element=\"0ebef426-55b0-4c6a-9b84-e83f483ee648\")>,\n",
       " <selenium.webdriver.remote.webelement.WebElement (session=\"eb9648c355ac8a22b7b12e89dc5c4d34\", element=\"4db9acf0-cb26-4d5f-82f0-930c679d05b4\")>,\n",
       " <selenium.webdriver.remote.webelement.WebElement (session=\"eb9648c355ac8a22b7b12e89dc5c4d34\", element=\"51568f8f-3236-4827-84e6-a6b3cc691654\")>,\n",
       " <selenium.webdriver.remote.webelement.WebElement (session=\"eb9648c355ac8a22b7b12e89dc5c4d34\", element=\"3005d541-2cc9-48a0-bbda-ce2cc26873cf\")>,\n",
       " <selenium.webdriver.remote.webelement.WebElement (session=\"eb9648c355ac8a22b7b12e89dc5c4d34\", element=\"67943d8d-cd50-4e94-b7a9-2d57d83009d2\")>,\n",
       " <selenium.webdriver.remote.webelement.WebElement (session=\"eb9648c355ac8a22b7b12e89dc5c4d34\", element=\"5303c5b5-f512-4405-9d54-d742466e207d\")>,\n",
       " <selenium.webdriver.remote.webelement.WebElement (session=\"eb9648c355ac8a22b7b12e89dc5c4d34\", element=\"1ef0cedc-8ff3-4bbf-9fdb-f6c6afa0d71d\")>,\n",
       " <selenium.webdriver.remote.webelement.WebElement (session=\"eb9648c355ac8a22b7b12e89dc5c4d34\", element=\"c921d35e-e247-438d-ad8e-b3c58a0a8814\")>,\n",
       " <selenium.webdriver.remote.webelement.WebElement (session=\"eb9648c355ac8a22b7b12e89dc5c4d34\", element=\"883b2309-bf07-4f80-9f03-374a6edd70b0\")>,\n",
       " <selenium.webdriver.remote.webelement.WebElement (session=\"eb9648c355ac8a22b7b12e89dc5c4d34\", element=\"48f12c3c-185f-449d-bb18-d75d963e9867\")>,\n",
       " <selenium.webdriver.remote.webelement.WebElement (session=\"eb9648c355ac8a22b7b12e89dc5c4d34\", element=\"3918af90-6dc8-4e86-afea-72bfc7fb7eb3\")>,\n",
       " <selenium.webdriver.remote.webelement.WebElement (session=\"eb9648c355ac8a22b7b12e89dc5c4d34\", element=\"c6c8973d-4377-4ec8-a725-9160d48a8dad\")>,\n",
       " <selenium.webdriver.remote.webelement.WebElement (session=\"eb9648c355ac8a22b7b12e89dc5c4d34\", element=\"9b1a7d1a-e969-4b96-8b9d-22cf6461dd81\")>,\n",
       " <selenium.webdriver.remote.webelement.WebElement (session=\"eb9648c355ac8a22b7b12e89dc5c4d34\", element=\"7e02471b-4215-471a-91f4-85ffe7b01c41\")>]"
      ]
     },
     "execution_count": 662,
     "metadata": {},
     "output_type": "execute_result"
    }
   ],
   "source": [
    "prise_tags=driver.find_elements_by_xpath(\"//div[@class='_30jeq3']\")\n",
    "prise_tags"
   ]
  },
  {
   "cell_type": "code",
   "execution_count": 663,
   "metadata": {},
   "outputs": [
    {
     "data": {
      "text/plain": [
       "['₹209',\n",
       " '₹739',\n",
       " '₹295',\n",
       " '₹599',\n",
       " '₹699',\n",
       " '₹499',\n",
       " '₹299',\n",
       " '₹279',\n",
       " '₹225',\n",
       " '₹599',\n",
       " '₹225',\n",
       " '₹209',\n",
       " '₹379',\n",
       " '₹599',\n",
       " '₹210',\n",
       " '₹799',\n",
       " '₹969',\n",
       " '₹299',\n",
       " '₹949',\n",
       " '₹1,009',\n",
       " '₹246',\n",
       " '₹499',\n",
       " '₹629',\n",
       " '₹255',\n",
       " '₹210',\n",
       " '₹204',\n",
       " '₹969',\n",
       " '₹399',\n",
       " '₹214',\n",
       " '₹331',\n",
       " '₹284',\n",
       " '₹799',\n",
       " '₹312',\n",
       " '₹709',\n",
       " '₹225',\n",
       " '₹316',\n",
       " '₹257',\n",
       " '₹404',\n",
       " '₹225',\n",
       " '₹588']"
      ]
     },
     "execution_count": 663,
     "metadata": {},
     "output_type": "execute_result"
    }
   ],
   "source": [
    "prise_cost=[]\n",
    "for i in prise_tags:\n",
    "    prise_cost.append(i.text)\n",
    "prise_cost"
   ]
  },
  {
   "cell_type": "markdown",
   "metadata": {},
   "source": [
    "Scrape prise information"
   ]
  },
  {
   "cell_type": "code",
   "execution_count": 664,
   "metadata": {},
   "outputs": [
    {
     "data": {
      "text/plain": [
       "[<selenium.webdriver.remote.webelement.WebElement (session=\"eb9648c355ac8a22b7b12e89dc5c4d34\", element=\"d2276173-829d-4c59-a5b6-5f99ae3d4f58\")>,\n",
       " <selenium.webdriver.remote.webelement.WebElement (session=\"eb9648c355ac8a22b7b12e89dc5c4d34\", element=\"ae09acd7-ecc7-4d43-bdf9-492f0fb60481\")>,\n",
       " <selenium.webdriver.remote.webelement.WebElement (session=\"eb9648c355ac8a22b7b12e89dc5c4d34\", element=\"cad24ceb-f30b-489d-aa94-f4e24cf45f79\")>,\n",
       " <selenium.webdriver.remote.webelement.WebElement (session=\"eb9648c355ac8a22b7b12e89dc5c4d34\", element=\"f4e3347f-16f7-4e84-b175-df40514d0277\")>,\n",
       " <selenium.webdriver.remote.webelement.WebElement (session=\"eb9648c355ac8a22b7b12e89dc5c4d34\", element=\"54055d15-8c1f-4a92-a580-3977f6531588\")>,\n",
       " <selenium.webdriver.remote.webelement.WebElement (session=\"eb9648c355ac8a22b7b12e89dc5c4d34\", element=\"16c4894c-2223-4981-85ee-a6f1ae1de12a\")>,\n",
       " <selenium.webdriver.remote.webelement.WebElement (session=\"eb9648c355ac8a22b7b12e89dc5c4d34\", element=\"bd4d6495-0c72-4afa-8f9b-7bab0805e2d1\")>,\n",
       " <selenium.webdriver.remote.webelement.WebElement (session=\"eb9648c355ac8a22b7b12e89dc5c4d34\", element=\"7830a759-852c-469a-9d6a-8c1cdfe983ab\")>,\n",
       " <selenium.webdriver.remote.webelement.WebElement (session=\"eb9648c355ac8a22b7b12e89dc5c4d34\", element=\"b9763d30-5195-47b5-8bfd-b7738b99bd73\")>,\n",
       " <selenium.webdriver.remote.webelement.WebElement (session=\"eb9648c355ac8a22b7b12e89dc5c4d34\", element=\"038743d7-f005-4a2e-940d-0c586f623450\")>,\n",
       " <selenium.webdriver.remote.webelement.WebElement (session=\"eb9648c355ac8a22b7b12e89dc5c4d34\", element=\"2b25916c-f83d-4284-b8d8-27e99b6cbcc9\")>,\n",
       " <selenium.webdriver.remote.webelement.WebElement (session=\"eb9648c355ac8a22b7b12e89dc5c4d34\", element=\"ee33b082-1287-4018-9187-9200f4ad7f29\")>,\n",
       " <selenium.webdriver.remote.webelement.WebElement (session=\"eb9648c355ac8a22b7b12e89dc5c4d34\", element=\"b2f73079-cae4-4a4b-9f58-408ecc2c577d\")>,\n",
       " <selenium.webdriver.remote.webelement.WebElement (session=\"eb9648c355ac8a22b7b12e89dc5c4d34\", element=\"ad88c490-c564-4a87-8717-f15e4b99edbb\")>,\n",
       " <selenium.webdriver.remote.webelement.WebElement (session=\"eb9648c355ac8a22b7b12e89dc5c4d34\", element=\"62e5dfc4-1766-44cf-90a5-c7398417472f\")>,\n",
       " <selenium.webdriver.remote.webelement.WebElement (session=\"eb9648c355ac8a22b7b12e89dc5c4d34\", element=\"1d15cc8e-6ce4-484d-af8f-ac80b1fbac72\")>,\n",
       " <selenium.webdriver.remote.webelement.WebElement (session=\"eb9648c355ac8a22b7b12e89dc5c4d34\", element=\"851f991e-89a4-4f98-8af8-7b08eedc17c4\")>,\n",
       " <selenium.webdriver.remote.webelement.WebElement (session=\"eb9648c355ac8a22b7b12e89dc5c4d34\", element=\"ba909e13-e3c8-49c6-93e8-e47199e74b29\")>,\n",
       " <selenium.webdriver.remote.webelement.WebElement (session=\"eb9648c355ac8a22b7b12e89dc5c4d34\", element=\"41c8cc13-0651-4669-9acc-f76d12e55ca0\")>,\n",
       " <selenium.webdriver.remote.webelement.WebElement (session=\"eb9648c355ac8a22b7b12e89dc5c4d34\", element=\"f90c1922-1895-4cb3-b8e8-e7cb74a5d410\")>,\n",
       " <selenium.webdriver.remote.webelement.WebElement (session=\"eb9648c355ac8a22b7b12e89dc5c4d34\", element=\"c7038e59-ad39-43d6-8505-7c1aae5e3ac5\")>,\n",
       " <selenium.webdriver.remote.webelement.WebElement (session=\"eb9648c355ac8a22b7b12e89dc5c4d34\", element=\"29fde392-9dbc-4206-9118-dbe9c40672d4\")>,\n",
       " <selenium.webdriver.remote.webelement.WebElement (session=\"eb9648c355ac8a22b7b12e89dc5c4d34\", element=\"c7220bd6-4310-4662-bc38-5a729db02e0a\")>,\n",
       " <selenium.webdriver.remote.webelement.WebElement (session=\"eb9648c355ac8a22b7b12e89dc5c4d34\", element=\"4ccc570d-77ae-473a-9292-64cb4fb7ebc5\")>,\n",
       " <selenium.webdriver.remote.webelement.WebElement (session=\"eb9648c355ac8a22b7b12e89dc5c4d34\", element=\"bacce697-29b4-4e53-a53c-2ea42d4f506f\")>,\n",
       " <selenium.webdriver.remote.webelement.WebElement (session=\"eb9648c355ac8a22b7b12e89dc5c4d34\", element=\"a0d06583-03fa-44ce-a89c-e64d1edd1b4a\")>,\n",
       " <selenium.webdriver.remote.webelement.WebElement (session=\"eb9648c355ac8a22b7b12e89dc5c4d34\", element=\"fbd556dc-7eea-476b-8157-937f84286fb8\")>,\n",
       " <selenium.webdriver.remote.webelement.WebElement (session=\"eb9648c355ac8a22b7b12e89dc5c4d34\", element=\"631e7461-1262-4dfc-9839-bf0f9a48bf9e\")>,\n",
       " <selenium.webdriver.remote.webelement.WebElement (session=\"eb9648c355ac8a22b7b12e89dc5c4d34\", element=\"2528c98e-f70e-4c45-bd11-4d5a5a6d9698\")>,\n",
       " <selenium.webdriver.remote.webelement.WebElement (session=\"eb9648c355ac8a22b7b12e89dc5c4d34\", element=\"4635cf77-9b19-4925-85a5-2d9874e536c2\")>,\n",
       " <selenium.webdriver.remote.webelement.WebElement (session=\"eb9648c355ac8a22b7b12e89dc5c4d34\", element=\"3a98ad27-2fe0-4763-9df5-a8dc4a65e1df\")>,\n",
       " <selenium.webdriver.remote.webelement.WebElement (session=\"eb9648c355ac8a22b7b12e89dc5c4d34\", element=\"ddcaa780-7955-48c8-a704-7e91689e00a4\")>,\n",
       " <selenium.webdriver.remote.webelement.WebElement (session=\"eb9648c355ac8a22b7b12e89dc5c4d34\", element=\"2b440f83-7696-4920-ab95-514d7c6f9a65\")>,\n",
       " <selenium.webdriver.remote.webelement.WebElement (session=\"eb9648c355ac8a22b7b12e89dc5c4d34\", element=\"3c6dcb87-0ea3-431e-a0fc-ed08d418c910\")>,\n",
       " <selenium.webdriver.remote.webelement.WebElement (session=\"eb9648c355ac8a22b7b12e89dc5c4d34\", element=\"874f96be-9976-4514-9037-445ad757b18c\")>,\n",
       " <selenium.webdriver.remote.webelement.WebElement (session=\"eb9648c355ac8a22b7b12e89dc5c4d34\", element=\"a447a8d3-3a03-4fb8-95fb-2fe324e2726a\")>,\n",
       " <selenium.webdriver.remote.webelement.WebElement (session=\"eb9648c355ac8a22b7b12e89dc5c4d34\", element=\"f2d2e82e-33ff-443f-8cec-5d38f581159e\")>,\n",
       " <selenium.webdriver.remote.webelement.WebElement (session=\"eb9648c355ac8a22b7b12e89dc5c4d34\", element=\"5514d881-4283-467b-a095-1d694c7f0504\")>,\n",
       " <selenium.webdriver.remote.webelement.WebElement (session=\"eb9648c355ac8a22b7b12e89dc5c4d34\", element=\"d0f96811-4051-431a-aba1-6fffefac5edc\")>,\n",
       " <selenium.webdriver.remote.webelement.WebElement (session=\"eb9648c355ac8a22b7b12e89dc5c4d34\", element=\"670b5443-cf08-4efc-b83f-de9306b783dc\")>]"
      ]
     },
     "execution_count": 664,
     "metadata": {},
     "output_type": "execute_result"
    }
   ],
   "source": [
    "discount_tags=driver.find_elements_by_xpath(\"//div[@class='_3Ay6Sb']//span\")\n",
    "discount_tags"
   ]
  },
  {
   "cell_type": "code",
   "execution_count": 665,
   "metadata": {},
   "outputs": [
    {
     "data": {
      "text/plain": [
       "['86% off',\n",
       " '71% off',\n",
       " '88% off',\n",
       " '25% off',\n",
       " '22% off',\n",
       " '37% off',\n",
       " '88% off',\n",
       " '65% off',\n",
       " '85% off',\n",
       " '33% off',\n",
       " '85% off',\n",
       " '79% off',\n",
       " '81% off',\n",
       " '33% off',\n",
       " '82% off',\n",
       " '60% off',\n",
       " '25% off',\n",
       " '88% off',\n",
       " '26% off',\n",
       " '68% off',\n",
       " '83% off',\n",
       " '77% off',\n",
       " '30% off',\n",
       " '78% off',\n",
       " '85% off',\n",
       " '74% off',\n",
       " '25% off',\n",
       " '73% off',\n",
       " '69% off',\n",
       " '74% off',\n",
       " '85% off',\n",
       " '60% off',\n",
       " '87% off',\n",
       " '29% off',\n",
       " '85% off',\n",
       " '69% off',\n",
       " '78% off',\n",
       " '79% off',\n",
       " '77% off',\n",
       " '78% off']"
      ]
     },
     "execution_count": 665,
     "metadata": {},
     "output_type": "execute_result"
    }
   ],
   "source": [
    "discount_cost=[]\n",
    "for i in discount_tags:\n",
    "    discount_cost.append(i.text)\n",
    "discount_cost"
   ]
  },
  {
   "cell_type": "markdown",
   "metadata": {},
   "source": [
    "Scrape the discount information"
   ]
  },
  {
   "cell_type": "code",
   "execution_count": 666,
   "metadata": {},
   "outputs": [
    {
     "data": {
      "text/plain": [
       "[<selenium.webdriver.remote.webelement.WebElement (session=\"eb9648c355ac8a22b7b12e89dc5c4d34\", element=\"ab1300e9-9d48-4d09-9deb-7b535b46066a\")>,\n",
       " <selenium.webdriver.remote.webelement.WebElement (session=\"eb9648c355ac8a22b7b12e89dc5c4d34\", element=\"bd968532-ddaa-4d96-8cc7-5abd8febb4a3\")>,\n",
       " <selenium.webdriver.remote.webelement.WebElement (session=\"eb9648c355ac8a22b7b12e89dc5c4d34\", element=\"da94fc0e-05a3-4396-ac12-2e55ca2f857c\")>,\n",
       " <selenium.webdriver.remote.webelement.WebElement (session=\"eb9648c355ac8a22b7b12e89dc5c4d34\", element=\"774ac1e0-3ffb-4216-a4a1-c0a0cf5e5778\")>,\n",
       " <selenium.webdriver.remote.webelement.WebElement (session=\"eb9648c355ac8a22b7b12e89dc5c4d34\", element=\"651903ca-6f13-4bae-b8ec-859f52044879\")>,\n",
       " <selenium.webdriver.remote.webelement.WebElement (session=\"eb9648c355ac8a22b7b12e89dc5c4d34\", element=\"3de8cce5-3aad-4716-94f2-01bd4c5078dc\")>,\n",
       " <selenium.webdriver.remote.webelement.WebElement (session=\"eb9648c355ac8a22b7b12e89dc5c4d34\", element=\"2a34700a-77fb-4ab0-bc8d-9591e4f17527\")>,\n",
       " <selenium.webdriver.remote.webelement.WebElement (session=\"eb9648c355ac8a22b7b12e89dc5c4d34\", element=\"57f07ab5-77a0-4467-befd-3278b6d969b0\")>,\n",
       " <selenium.webdriver.remote.webelement.WebElement (session=\"eb9648c355ac8a22b7b12e89dc5c4d34\", element=\"8ab4e975-13df-44b8-a8a5-011b1a8f3040\")>,\n",
       " <selenium.webdriver.remote.webelement.WebElement (session=\"eb9648c355ac8a22b7b12e89dc5c4d34\", element=\"801fc334-c141-4869-9c3d-aa2088c82c98\")>,\n",
       " <selenium.webdriver.remote.webelement.WebElement (session=\"eb9648c355ac8a22b7b12e89dc5c4d34\", element=\"f93eff80-1ba5-449e-8b12-d10a459f3bd1\")>]"
      ]
     },
     "execution_count": 666,
     "metadata": {},
     "output_type": "execute_result"
    }
   ],
   "source": [
    "#pagination-number\n",
    "url=driver.find_elements_by_xpath(\"//nav[@class='yFHi8N']//a\")\n",
    "url"
   ]
  },
  {
   "cell_type": "markdown",
   "metadata": {},
   "source": [
    "Scrape the URL of multiple pages"
   ]
  },
  {
   "cell_type": "code",
   "execution_count": 668,
   "metadata": {},
   "outputs": [
    {
     "data": {
      "text/plain": [
       "['https://www.flipkart.com/search?q=sunglasses&otracker=search&otracker1=search&marketplace=FLIPKART&as-show=on&as=off&page=1',\n",
       " 'https://www.flipkart.com/search?q=sunglasses&otracker=search&otracker1=search&marketplace=FLIPKART&as-show=on&as=off&page=2',\n",
       " 'https://www.flipkart.com/search?q=sunglasses&otracker=search&otracker1=search&marketplace=FLIPKART&as-show=on&as=off&page=3',\n",
       " 'https://www.flipkart.com/search?q=sunglasses&otracker=search&otracker1=search&marketplace=FLIPKART&as-show=on&as=off&page=4',\n",
       " 'https://www.flipkart.com/search?q=sunglasses&otracker=search&otracker1=search&marketplace=FLIPKART&as-show=on&as=off&page=5',\n",
       " 'https://www.flipkart.com/search?q=sunglasses&otracker=search&otracker1=search&marketplace=FLIPKART&as-show=on&as=off&page=6',\n",
       " 'https://www.flipkart.com/search?q=sunglasses&otracker=search&otracker1=search&marketplace=FLIPKART&as-show=on&as=off&page=7',\n",
       " 'https://www.flipkart.com/search?q=sunglasses&otracker=search&otracker1=search&marketplace=FLIPKART&as-show=on&as=off&page=8',\n",
       " 'https://www.flipkart.com/search?q=sunglasses&otracker=search&otracker1=search&marketplace=FLIPKART&as-show=on&as=off&page=9',\n",
       " 'https://www.flipkart.com/search?q=sunglasses&otracker=search&otracker1=search&marketplace=FLIPKART&as-show=on&as=off&page=10',\n",
       " 'https://www.flipkart.com/search?q=sunglasses&otracker=search&otracker1=search&marketplace=FLIPKART&as-show=on&as=off&page=2']"
      ]
     },
     "execution_count": 668,
     "metadata": {},
     "output_type": "execute_result"
    }
   ],
   "source": [
    "page_url = []\n",
    "url = driver.find_elements_by_xpath(\"//nav[@class='yFHi8N']//a\")\n",
    "for i in url:\n",
    "    page_url.append(i.get_attribute(\"href\"))\n",
    "page_url"
   ]
  },
  {
   "cell_type": "markdown",
   "metadata": {},
   "source": [
    "Scrape the URL names of multiple pages"
   ]
  },
  {
   "cell_type": "code",
   "execution_count": 672,
   "metadata": {},
   "outputs": [
    {
     "data": {
      "text/plain": [
       "['HAMIW COLLECTION',\n",
       " 'Wrogn',\n",
       " 'Elligator',\n",
       " 'Fastrack',\n",
       " 'Fastrack',\n",
       " 'Fastrack',\n",
       " 'kingsunglasses',\n",
       " 'LIZA ANGEL',\n",
       " 'PIRASO',\n",
       " 'Fastrack',\n",
       " 'PHENOMENAL',\n",
       " 'hipe',\n",
       " 'PIRASO',\n",
       " 'kingsunglasses',\n",
       " 'Fastrack',\n",
       " 'Wrogn',\n",
       " 'Fastrack',\n",
       " 'kingsunglasses',\n",
       " 'Fastrack',\n",
       " 'ROYAL SON',\n",
       " 'kingsunglasses',\n",
       " 'Silver Kartz',\n",
       " 'ROZZETTA CRAFT',\n",
       " 'Silver Kartz',\n",
       " 'Fastrack',\n",
       " 'Fastrack',\n",
       " 'NuVew',\n",
       " 'ROYAL SON',\n",
       " 'Singco India',\n",
       " 'hipe',\n",
       " 'Elligator',\n",
       " 'VINCENT CHASE',\n",
       " 'Elligator',\n",
       " 'GANSTA',\n",
       " 'ROZZETTA CRAFT',\n",
       " 'Fravy',\n",
       " 'kingsunglasses',\n",
       " 'HIPPON',\n",
       " 'NuVew',\n",
       " 'AISLIN',\n",
       " 'Fastrack',\n",
       " 'Fastrack',\n",
       " 'Fastrack',\n",
       " 'HAMIW COLLECTION',\n",
       " 'Fastrack',\n",
       " 'DEIXELS',\n",
       " 'SRPM',\n",
       " 'Wrogn',\n",
       " 'Fastrack',\n",
       " 'kingsunglasses',\n",
       " 'Fastrack',\n",
       " 'LIZA ANGEL',\n",
       " 'ROZZETTA CRAFT',\n",
       " 'Singco India',\n",
       " 'DEIXELS',\n",
       " 'hipe',\n",
       " 'Singco',\n",
       " 'Fastrack',\n",
       " 'PIRASO',\n",
       " 'Wrogn',\n",
       " 'ROYAL SON',\n",
       " 'Fastrack',\n",
       " 'GANSTA',\n",
       " 'ROYAL SON',\n",
       " 'Elligator',\n",
       " 'PIRASO',\n",
       " 'Fastrack',\n",
       " 'ROYAL SON',\n",
       " 'AISLIN',\n",
       " 'GANSTA',\n",
       " 'Fravy',\n",
       " 'Silver Kartz',\n",
       " 'hipe',\n",
       " 'Fastrack',\n",
       " 'NuVew',\n",
       " 'ROYAL SON',\n",
       " 'SUNBEE',\n",
       " 'Villain',\n",
       " 'kingsunglasses',\n",
       " 'Fravy',\n",
       " 'hipe',\n",
       " 'Fravy',\n",
       " 'ROYAL SON',\n",
       " 'HAMIW COLLECTION',\n",
       " 'Singco India',\n",
       " 'PHENOMENAL',\n",
       " 'NuVew',\n",
       " 'Wrogn',\n",
       " 'Badfella',\n",
       " 'PHENOMENAL',\n",
       " 'ROZZETTA CRAFT',\n",
       " 'LIZA ANGEL',\n",
       " 'Fastrack',\n",
       " 'Crackers',\n",
       " 'kingsunglasses',\n",
       " 'hipe',\n",
       " 'kingsunglasses',\n",
       " 'ROYAL SON',\n",
       " 'ROYAL SON',\n",
       " 'Wrogn',\n",
       " 'Flizz',\n",
       " 'PIRASO',\n",
       " 'Fastrack',\n",
       " 'ROYAL SON',\n",
       " 'GANSTA',\n",
       " 'ROZZETTA CRAFT',\n",
       " 'Fastrack',\n",
       " 'ROYAL SON',\n",
       " 'Silver Kartz',\n",
       " 'Fastrack',\n",
       " 'AISLIN',\n",
       " 'Silver Kartz',\n",
       " 'Singco India',\n",
       " 'hipe',\n",
       " 'kingsunglasses',\n",
       " 'ROYAL SON',\n",
       " 'hipe',\n",
       " 'ROYAL SON',\n",
       " 'Fastrack',\n",
       " 'AISLIN']"
      ]
     },
     "execution_count": 672,
     "metadata": {},
     "output_type": "execute_result"
    }
   ],
   "source": [
    "brand_titles=[]\n",
    "for i in page_url[0:3]:\n",
    "    driver.get(i)\n",
    "    brand_tags=driver.find_elements_by_xpath(\"//div[@class='_2WkVRV']\")\n",
    "    for i in brand_tags:\n",
    "        brand_titles.append(i.text)\n",
    "brand_titles\n",
    "\n"
   ]
  },
  {
   "cell_type": "markdown",
   "metadata": {},
   "source": [
    "Scrape Brand names "
   ]
  },
  {
   "cell_type": "code",
   "execution_count": 676,
   "metadata": {},
   "outputs": [
    {
     "data": {
      "text/plain": [
       "['UV Protection Wayfarer, Sports, Shield, Rectangular, Re...',\n",
       " 'Mirrored Wayfarer Sunglasses (51)',\n",
       " 'UV Protection Round Sunglasses (54)',\n",
       " 'UV Protection Rectangular Sunglasses (Free Size)',\n",
       " 'Gradient, UV Protection Wayfarer Sunglasses (Free Size)',\n",
       " 'UV Protection Wayfarer Sunglasses (Free Size)',\n",
       " 'Mirrored, UV Protection Wayfarer Sunglasses (Free Size)',\n",
       " 'UV Protection, Mirrored, Riding Glasses Retro Square Su...',\n",
       " 'UV Protection Aviator Sunglasses (54)',\n",
       " 'UV Protection Wayfarer Sunglasses (Free Size)',\n",
       " 'UV Protection Retro Square Sunglasses (Free Size)',\n",
       " 'UV Protection, Gradient, Mirrored, Riding Glasses Aviat...',\n",
       " 'UV Protection Aviator Sunglasses (54)',\n",
       " 'UV Protection Rectangular Sunglasses (Free Size)',\n",
       " 'UV Protection Wayfarer Sunglasses (56)',\n",
       " 'UV Protection Aviator Sunglasses (60)',\n",
       " 'UV Protection Aviator Sunglasses (58)',\n",
       " 'Mirrored, UV Protection Wayfarer Sunglasses (Free Size)',\n",
       " 'UV Protection Aviator Sunglasses (58)',\n",
       " 'Polarized, UV Protection Round Sunglasses (53)',\n",
       " 'UV Protection Round Sunglasses (54)',\n",
       " 'UV Protection Wayfarer Sunglasses (Free Size)',\n",
       " 'UV Protection Retro Square Sunglasses (Free Size)',\n",
       " 'UV Protection Aviator Sunglasses (88)',\n",
       " 'UV Protection Wayfarer Sunglasses (Free Size)',\n",
       " 'UV Protection Aviator Sunglasses (58)',\n",
       " 'UV Protection Aviator Sunglasses (58)',\n",
       " 'Mirrored Aviator Sunglasses (58)',\n",
       " 'UV Protection, Riding Glasses, Others Aviator, Wayfarer...',\n",
       " 'Mirrored, UV Protection, Gradient Round Sunglasses (55)',\n",
       " 'Mirrored Round Sunglasses (53)',\n",
       " 'Polarized Retro Square Sunglasses (54)',\n",
       " 'UV Protection Round Sunglasses (54)',\n",
       " 'UV Protection Aviator Sunglasses (57)',\n",
       " 'UV Protection, Gradient Rectangular Sunglasses (Free Si...',\n",
       " 'UV Protection, Gradient Cat-eye Sunglasses (58)',\n",
       " 'UV Protection, Others Round, Aviator Sunglasses (54)',\n",
       " 'UV Protection Wayfarer Sunglasses (55)',\n",
       " 'UV Protection, Riding Glasses Wayfarer Sunglasses (56)',\n",
       " 'UV Protection, Night Vision, Riding Glasses Aviator Sun...',\n",
       " 'UV Protection Shield Sunglasses (Free Size)',\n",
       " 'Gradient, UV Protection Wayfarer Sunglasses (Free Size)',\n",
       " 'UV Protection Wayfarer Sunglasses (Free Size)',\n",
       " 'UV Protection Wayfarer, Sports, Shield, Rectangular, Re...',\n",
       " 'Gradient, UV Protection Wayfarer Sunglasses (Free Size)',\n",
       " 'Polarized, UV Protection, Riding Glasses Wayfarer Sungl...',\n",
       " 'UV Protection Wayfarer Sunglasses (53)',\n",
       " 'Mirrored Wayfarer Sunglasses (51)',\n",
       " 'UV Protection Rectangular Sunglasses (59)',\n",
       " 'UV Protection, Riding Glasses, Mirrored Wayfarer Sungla...',\n",
       " 'UV Protection Wrap-around Sunglasses (Free Size)',\n",
       " 'UV Protection, Mirrored, Riding Glasses Retro Square Su...',\n",
       " 'UV Protection, Gradient Rectangular Sunglasses (Free Si...',\n",
       " 'Mirrored, UV Protection, Riding Glasses, Others Wrap-ar...',\n",
       " 'UV Protection Aviator, Wayfarer Sunglasses (Free Size)',\n",
       " 'UV Protection, Gradient, Mirrored, Riding Glasses Aviat...',\n",
       " 'Mirrored Aviator Sunglasses (53)',\n",
       " 'UV Protection Shield Sunglasses (Free Size)',\n",
       " 'UV Protection Wayfarer Sunglasses (32)',\n",
       " 'UV Protection Aviator Sunglasses (60)',\n",
       " 'UV Protection, Gradient Wayfarer Sunglasses (55)',\n",
       " 'Gradient, UV Protection Wayfarer Sunglasses (Free Size)',\n",
       " 'UV Protection, Night Vision, Riding Glasses Aviator Sun...',\n",
       " 'Polarized, UV Protection Round Sunglasses (53)',\n",
       " 'UV Protection, Riding Glasses Rectangular, Retro Square...',\n",
       " 'UV Protection Aviator Sunglasses (Free Size)',\n",
       " 'UV Protection Wayfarer Sunglasses (Free Size)',\n",
       " 'Mirrored Aviator Sunglasses (55)',\n",
       " 'UV Protection, Gradient Butterfly, Retro Square Sunglas...',\n",
       " 'UV Protection, Mirrored Wayfarer Sunglasses (53)',\n",
       " 'UV Protection Retro Square Sunglasses (Free Size)',\n",
       " 'UV Protection Aviator Sunglasses (88)',\n",
       " 'UV Protection Sports Sunglasses (Free Size)',\n",
       " 'UV Protection Wayfarer Sunglasses (56)',\n",
       " 'UV Protection, Mirrored, Night Vision, Riding Glasses S...',\n",
       " 'Mirrored Aviator Sunglasses (58)',\n",
       " 'UV Protection, Polarized, Mirrored Round Sunglasses (Fr...',\n",
       " 'Others Retro Square Sunglasses (Free Size)',\n",
       " 'UV Protection Round Sunglasses (Free Size)',\n",
       " 'UV Protection, Gradient, Night Vision Retro Square Sung...',\n",
       " 'UV Protection, Gradient, Mirrored, Riding Glasses Recta...',\n",
       " 'UV Protection, Gradient, Night Vision Retro Square Sung...',\n",
       " 'Gradient, UV Protection Round, Oval, Cat-eye Sunglasses...',\n",
       " 'UV Protection Wayfarer, Sports, Shield, Rectangular, Re...',\n",
       " 'Mirrored, Riding Glasses, Others Sports Sunglasses (50)',\n",
       " 'UV Protection Round Sunglasses (53)',\n",
       " 'UV Protection, Mirrored Aviator Sunglasses (58)',\n",
       " 'Mirrored Wayfarer Sunglasses (51)',\n",
       " 'Polarized, UV Protection Retro Square Sunglasses (53)',\n",
       " 'UV Protection Clubmaster Sunglasses (Free Size)',\n",
       " 'Gradient, UV Protection Round Sunglasses (Free Size)',\n",
       " 'UV Protection, Mirrored, Riding Glasses Retro Square Su...',\n",
       " 'UV Protection Aviator Sunglasses (Free Size)',\n",
       " 'UV Protection Aviator Sunglasses (55)',\n",
       " 'Mirrored, UV Protection Wayfarer, Wayfarer, Wayfarer, W...',\n",
       " 'UV Protection, Gradient, Mirrored, Riding Glasses Aviat...',\n",
       " 'UV Protection Rectangular Sunglasses (Free Size)',\n",
       " 'UV Protection Wayfarer Sunglasses (55)',\n",
       " 'UV Protection Retro Square Sunglasses (58)',\n",
       " 'UV Protection Aviator Sunglasses (60)',\n",
       " 'UV Protection Retro Square Sunglasses (Free Size)',\n",
       " 'UV Protection Aviator Sunglasses (58)',\n",
       " 'UV Protection Sports Sunglasses (Free Size)',\n",
       " 'Polarized, UV Protection Round Sunglasses (53)',\n",
       " 'UV Protection Aviator Sunglasses (57)',\n",
       " 'UV Protection, Gradient Rectangular Sunglasses (Free Si...',\n",
       " 'UV Protection Wayfarer Sunglasses (54)',\n",
       " 'Mirrored Aviator Sunglasses (55)',\n",
       " 'UV Protection Oval Sunglasses (56)',\n",
       " 'UV Protection Wayfarer Sunglasses (Free Size)',\n",
       " 'UV Protection, Gradient Butterfly, Retro Square Sunglas...',\n",
       " 'UV Protection Aviator Sunglasses (88)',\n",
       " 'Riding Glasses, UV Protection, Others Aviator Sunglasse...',\n",
       " 'UV Protection, Night Vision, Riding Glasses, Gradient, ...',\n",
       " 'Mirrored, UV Protection Aviator Sunglasses (56)',\n",
       " 'Mirrored Aviator Sunglasses (58)',\n",
       " 'UV Protection, Night Vision, Gradient, Mirrored Round, ...',\n",
       " 'UV Protection Retro Square Sunglasses (88)',\n",
       " 'UV Protection Oval Sunglasses (Free Size)',\n",
       " 'UV Protection, Gradient Cat-eye Sunglasses (58)']"
      ]
     },
     "execution_count": 676,
     "metadata": {},
     "output_type": "execute_result"
    }
   ],
   "source": [
    "description_titles=[]\n",
    "for i in page_url[0:3]:\n",
    "    driver.get(i)\n",
    "    description_tags=driver.find_elements_by_xpath(\"//div[@class='_2B099V']//a[1]\")\n",
    "    for i in description_tags:\n",
    "        description_titles.append(i.text)\n",
    "description_titles"
   ]
  },
  {
   "cell_type": "markdown",
   "metadata": {},
   "source": [
    "Scrape the description"
   ]
  },
  {
   "cell_type": "code",
   "execution_count": null,
   "metadata": {},
   "outputs": [],
   "source": []
  },
  {
   "cell_type": "code",
   "execution_count": 680,
   "metadata": {},
   "outputs": [
    {
     "data": {
      "text/plain": [
       "['₹209',\n",
       " '₹739',\n",
       " '₹295',\n",
       " '₹599',\n",
       " '₹499',\n",
       " '₹699',\n",
       " '₹299',\n",
       " '₹279',\n",
       " '₹225',\n",
       " '₹599',\n",
       " '₹379',\n",
       " '₹209',\n",
       " '₹225',\n",
       " '₹210',\n",
       " '₹599',\n",
       " '₹1,009',\n",
       " '₹969',\n",
       " '₹299',\n",
       " '₹949',\n",
       " '₹664',\n",
       " '₹225',\n",
       " '₹246',\n",
       " '₹499',\n",
       " '₹255',\n",
       " '₹629',\n",
       " '₹969',\n",
       " '₹204',\n",
       " '₹399',\n",
       " '₹214',\n",
       " '₹210',\n",
       " '₹312',\n",
       " '₹799',\n",
       " '₹331',\n",
       " '₹284',\n",
       " '₹404',\n",
       " '₹485',\n",
       " '₹225',\n",
       " '₹257',\n",
       " '₹232',\n",
       " '₹295',\n",
       " '₹334',\n",
       " '₹379',\n",
       " '₹529',\n",
       " '₹209',\n",
       " '₹599',\n",
       " '₹559',\n",
       " '₹246',\n",
       " '₹739',\n",
       " '₹224',\n",
       " '₹229',\n",
       " '₹398',\n",
       " '₹279',\n",
       " '₹969',\n",
       " '₹295',\n",
       " '₹474',\n",
       " '₹209',\n",
       " '₹331',\n",
       " '₹202',\n",
       " '₹239',\n",
       " '₹1,009',\n",
       " '₹609',\n",
       " '₹225',\n",
       " '₹669',\n",
       " '₹664',\n",
       " '₹203',\n",
       " '₹314',\n",
       " '₹579',\n",
       " '₹379',\n",
       " '₹669',\n",
       " '₹516',\n",
       " '₹211',\n",
       " '₹255',\n",
       " '₹331',\n",
       " '₹319',\n",
       " '₹269',\n",
       " '₹399',\n",
       " '₹599',\n",
       " '₹309',\n",
       " '₹349',\n",
       " '₹485',\n",
       " '₹305',\n",
       " '₹239',\n",
       " '₹579',\n",
       " '₹209',\n",
       " '₹188',\n",
       " '₹282',\n",
       " '₹255',\n",
       " '₹739',\n",
       " '₹303',\n",
       " '₹609',\n",
       " '₹426',\n",
       " '₹279',\n",
       " '₹299',\n",
       " '₹210',\n",
       " '₹225',\n",
       " '₹209',\n",
       " '₹699',\n",
       " '₹248',\n",
       " '₹170',\n",
       " '₹1,009',\n",
       " '₹399',\n",
       " '₹499',\n",
       " '₹399',\n",
       " '₹664',\n",
       " '₹599',\n",
       " '₹323',\n",
       " '₹284',\n",
       " '₹379',\n",
       " '₹599',\n",
       " '₹474',\n",
       " '₹669',\n",
       " '₹255',\n",
       " '₹399',\n",
       " '₹349',\n",
       " '₹487',\n",
       " '₹399',\n",
       " '₹210',\n",
       " '₹232',\n",
       " '₹210',\n",
       " '₹485']"
      ]
     },
     "execution_count": 680,
     "metadata": {},
     "output_type": "execute_result"
    }
   ],
   "source": [
    "prise_titles=[]\n",
    "for i in page_url[0:3]:\n",
    "    driver.get(i)\n",
    "    prise_tags=driver.find_elements_by_xpath(\"//div[@class='_30jeq3']\")\n",
    "    for i in prise_tags:\n",
    "        prise_titles.append(i.text)\n",
    "prise_titles"
   ]
  },
  {
   "cell_type": "markdown",
   "metadata": {},
   "source": [
    "Scrape the prise"
   ]
  },
  {
   "cell_type": "code",
   "execution_count": 682,
   "metadata": {},
   "outputs": [
    {
     "data": {
      "text/plain": [
       "['86% off',\n",
       " '71% off',\n",
       " '88% off',\n",
       " '25% off',\n",
       " '37% off',\n",
       " '22% off',\n",
       " '88% off',\n",
       " '65% off',\n",
       " '85% off',\n",
       " '85% off',\n",
       " '81% off',\n",
       " '79% off',\n",
       " '33% off',\n",
       " '82% off',\n",
       " '33% off',\n",
       " '66% off',\n",
       " '25% off',\n",
       " '26% off',\n",
       " '88% off',\n",
       " '78% off',\n",
       " '79% off',\n",
       " '83% off',\n",
       " '30% off',\n",
       " '68% off',\n",
       " '77% off',\n",
       " '86% off',\n",
       " '25% off',\n",
       " '73% off',\n",
       " '69% off',\n",
       " '85% off',\n",
       " '74% off',\n",
       " '84% off',\n",
       " '74% off',\n",
       " '85% off',\n",
       " '79% off',\n",
       " '68% off',\n",
       " '77% off',\n",
       " '87% off',\n",
       " '85% off',\n",
       " '60% off',\n",
       " '72% off',\n",
       " '81% off',\n",
       " '33% off',\n",
       " '86% off',\n",
       " '25% off',\n",
       " '30% off',\n",
       " '75% off',\n",
       " '71% off',\n",
       " '62% off',\n",
       " '80% off',\n",
       " '73% off',\n",
       " '65% off',\n",
       " '25% off',\n",
       " '85% off',\n",
       " '78% off',\n",
       " '79% off',\n",
       " '83% off',\n",
       " '83% off',\n",
       " '76% off',\n",
       " '68% off',\n",
       " '32% off',\n",
       " '85% off',\n",
       " '25% off',\n",
       " '66% off',\n",
       " '79% off',\n",
       " '80% off',\n",
       " '35% off',\n",
       " '74% off',\n",
       " '25% off',\n",
       " '66% off',\n",
       " '78% off',\n",
       " '78% off',\n",
       " '80% off',\n",
       " '83% off',\n",
       " '82% off',\n",
       " '73% off',\n",
       " '20% off',\n",
       " '66% off',\n",
       " '78% off',\n",
       " '68% off',\n",
       " '84% off',\n",
       " '84% off',\n",
       " '27% off',\n",
       " '86% off',\n",
       " '78% off',\n",
       " '87% off',\n",
       " '74% off',\n",
       " '71% off',\n",
       " '84% off',\n",
       " '32% off',\n",
       " '78% off',\n",
       " '65% off',\n",
       " '80% off',\n",
       " '83% off',\n",
       " '85% off',\n",
       " '79% off',\n",
       " '53% off',\n",
       " '80% off',\n",
       " '82% off',\n",
       " '68% off',\n",
       " '81% off',\n",
       " '66% off',\n",
       " '84% off',\n",
       " '66% off',\n",
       " '33% off',\n",
       " '83% off',\n",
       " '76% off',\n",
       " '74% off',\n",
       " '25% off',\n",
       " '76% off',\n",
       " '25% off',\n",
       " '78% off',\n",
       " '73% off',\n",
       " '76% off',\n",
       " '68% off',\n",
       " '73% off',\n",
       " '78% off',\n",
       " '84% off',\n",
       " '83% off',\n",
       " '68% off']"
      ]
     },
     "execution_count": 682,
     "metadata": {},
     "output_type": "execute_result"
    }
   ],
   "source": [
    "discount_cost=[]\n",
    "for i in page_url[0:3]:\n",
    "    driver.get(i)\n",
    "    discount_tags=driver.find_elements_by_xpath(\"//div[@class='_3Ay6Sb']//span\")\n",
    "    for i in discount_tags:\n",
    "        discount_cost.append(i.text)\n",
    "discount_cost"
   ]
  },
  {
   "cell_type": "markdown",
   "metadata": {},
   "source": [
    "Scrape Discount information"
   ]
  },
  {
   "cell_type": "code",
   "execution_count": 685,
   "metadata": {
    "scrolled": true
   },
   "outputs": [
    {
     "name": "stdout",
     "output_type": "stream",
     "text": [
      "120 120 120 120\n"
     ]
    }
   ],
   "source": [
    "print(len(brand_titles),len(description_titles),len(prise_titles),len(discount_cost))"
   ]
  },
  {
   "cell_type": "code",
   "execution_count": 686,
   "metadata": {},
   "outputs": [],
   "source": [
    "jobs=pd.DataFrame({})\n",
    "jobs['brand_titles']=brand_titles\n",
    "jobs['prise_titles']=prise_titles\n",
    "jobs['discount_cost']=discount_cost\n",
    "jobs['description_titles']=description_titles"
   ]
  },
  {
   "cell_type": "code",
   "execution_count": 687,
   "metadata": {},
   "outputs": [
    {
     "data": {
      "text/html": [
       "<div>\n",
       "<style scoped>\n",
       "    .dataframe tbody tr th:only-of-type {\n",
       "        vertical-align: middle;\n",
       "    }\n",
       "\n",
       "    .dataframe tbody tr th {\n",
       "        vertical-align: top;\n",
       "    }\n",
       "\n",
       "    .dataframe thead th {\n",
       "        text-align: right;\n",
       "    }\n",
       "</style>\n",
       "<table border=\"1\" class=\"dataframe\">\n",
       "  <thead>\n",
       "    <tr style=\"text-align: right;\">\n",
       "      <th></th>\n",
       "      <th>brand_titles</th>\n",
       "      <th>prise_titles</th>\n",
       "      <th>discount_cost</th>\n",
       "      <th>description_titles</th>\n",
       "    </tr>\n",
       "  </thead>\n",
       "  <tbody>\n",
       "    <tr>\n",
       "      <th>0</th>\n",
       "      <td>HAMIW COLLECTION</td>\n",
       "      <td>₹209</td>\n",
       "      <td>86% off</td>\n",
       "      <td>UV Protection Wayfarer, Sports, Shield, Rectan...</td>\n",
       "    </tr>\n",
       "    <tr>\n",
       "      <th>1</th>\n",
       "      <td>Wrogn</td>\n",
       "      <td>₹739</td>\n",
       "      <td>71% off</td>\n",
       "      <td>Mirrored Wayfarer Sunglasses (51)</td>\n",
       "    </tr>\n",
       "    <tr>\n",
       "      <th>2</th>\n",
       "      <td>Elligator</td>\n",
       "      <td>₹295</td>\n",
       "      <td>88% off</td>\n",
       "      <td>UV Protection Round Sunglasses (54)</td>\n",
       "    </tr>\n",
       "    <tr>\n",
       "      <th>3</th>\n",
       "      <td>Fastrack</td>\n",
       "      <td>₹599</td>\n",
       "      <td>25% off</td>\n",
       "      <td>UV Protection Rectangular Sunglasses (Free Size)</td>\n",
       "    </tr>\n",
       "    <tr>\n",
       "      <th>4</th>\n",
       "      <td>Fastrack</td>\n",
       "      <td>₹499</td>\n",
       "      <td>37% off</td>\n",
       "      <td>Gradient, UV Protection Wayfarer Sunglasses (F...</td>\n",
       "    </tr>\n",
       "    <tr>\n",
       "      <th>...</th>\n",
       "      <td>...</td>\n",
       "      <td>...</td>\n",
       "      <td>...</td>\n",
       "      <td>...</td>\n",
       "    </tr>\n",
       "    <tr>\n",
       "      <th>115</th>\n",
       "      <td>ROYAL SON</td>\n",
       "      <td>₹399</td>\n",
       "      <td>73% off</td>\n",
       "      <td>Mirrored Aviator Sunglasses (58)</td>\n",
       "    </tr>\n",
       "    <tr>\n",
       "      <th>116</th>\n",
       "      <td>hipe</td>\n",
       "      <td>₹210</td>\n",
       "      <td>78% off</td>\n",
       "      <td>UV Protection, Night Vision, Gradient, Mirrore...</td>\n",
       "    </tr>\n",
       "    <tr>\n",
       "      <th>117</th>\n",
       "      <td>ROYAL SON</td>\n",
       "      <td>₹232</td>\n",
       "      <td>84% off</td>\n",
       "      <td>UV Protection Retro Square Sunglasses (88)</td>\n",
       "    </tr>\n",
       "    <tr>\n",
       "      <th>118</th>\n",
       "      <td>Fastrack</td>\n",
       "      <td>₹210</td>\n",
       "      <td>83% off</td>\n",
       "      <td>UV Protection Oval Sunglasses (Free Size)</td>\n",
       "    </tr>\n",
       "    <tr>\n",
       "      <th>119</th>\n",
       "      <td>AISLIN</td>\n",
       "      <td>₹485</td>\n",
       "      <td>68% off</td>\n",
       "      <td>UV Protection, Gradient Cat-eye Sunglasses (58)</td>\n",
       "    </tr>\n",
       "  </tbody>\n",
       "</table>\n",
       "<p>120 rows × 4 columns</p>\n",
       "</div>"
      ],
      "text/plain": [
       "         brand_titles prise_titles discount_cost  \\\n",
       "0    HAMIW COLLECTION         ₹209       86% off   \n",
       "1               Wrogn         ₹739       71% off   \n",
       "2           Elligator         ₹295       88% off   \n",
       "3            Fastrack         ₹599       25% off   \n",
       "4            Fastrack         ₹499       37% off   \n",
       "..                ...          ...           ...   \n",
       "115         ROYAL SON         ₹399       73% off   \n",
       "116              hipe         ₹210       78% off   \n",
       "117         ROYAL SON         ₹232       84% off   \n",
       "118          Fastrack         ₹210       83% off   \n",
       "119            AISLIN         ₹485       68% off   \n",
       "\n",
       "                                    description_titles  \n",
       "0    UV Protection Wayfarer, Sports, Shield, Rectan...  \n",
       "1                    Mirrored Wayfarer Sunglasses (51)  \n",
       "2                  UV Protection Round Sunglasses (54)  \n",
       "3     UV Protection Rectangular Sunglasses (Free Size)  \n",
       "4    Gradient, UV Protection Wayfarer Sunglasses (F...  \n",
       "..                                                 ...  \n",
       "115                   Mirrored Aviator Sunglasses (58)  \n",
       "116  UV Protection, Night Vision, Gradient, Mirrore...  \n",
       "117         UV Protection Retro Square Sunglasses (88)  \n",
       "118          UV Protection Oval Sunglasses (Free Size)  \n",
       "119    UV Protection, Gradient Cat-eye Sunglasses (58)  \n",
       "\n",
       "[120 rows x 4 columns]"
      ]
     },
     "execution_count": 687,
     "metadata": {},
     "output_type": "execute_result"
    }
   ],
   "source": [
    "jobs"
   ]
  },
  {
   "cell_type": "markdown",
   "metadata": {},
   "source": [
    "Create Dataframe of the data"
   ]
  },
  {
   "cell_type": "markdown",
   "metadata": {},
   "source": []
  },
  {
   "cell_type": "markdown",
   "metadata": {},
   "source": [
    "Q7: Scrape 100 reviews data from flipkart.com for iphone11 phone. You have to \n",
    "go the link: https://www.flipkart.com/apple-iphone-11-black-64-gb-includes\u0002earpods-power\u0002adapter/p/itm0f37c2240b217?pid=MOBFKCTSVZAXUHGR&lid=LSTMOBFKC\n",
    "TSVZAXUHGREPBFGI&marketplace."
   ]
  },
  {
   "cell_type": "code",
   "execution_count": 688,
   "metadata": {},
   "outputs": [],
   "source": [
    "driver = webdriver.Chrome(r\"C:\\Users\\Ankita\\Downloads\\chromedriver_win32\\chromedriver.exe\")"
   ]
  },
  {
   "cell_type": "markdown",
   "metadata": {},
   "source": [
    "Chrome Driver path"
   ]
  },
  {
   "cell_type": "code",
   "execution_count": 689,
   "metadata": {},
   "outputs": [],
   "source": [
    "url = 'https://www.flipkart.com/apple-iphone-11-black-64-gb-includes\u0002earpods-power\u0002adapter/p/itm0f37c2240b217?pid=MOBFKCTSVZAXUHGR&lid=LSTMOBFKCTSVZAXUHGREPBFGI&marketplace'\n",
    "driver.get(url)"
   ]
  },
  {
   "cell_type": "markdown",
   "metadata": {},
   "source": [
    "Enter apple iphone 11 on flipkart URL"
   ]
  },
  {
   "cell_type": "code",
   "execution_count": 696,
   "metadata": {
    "scrolled": true
   },
   "outputs": [
    {
     "data": {
      "text/plain": [
       "[<selenium.webdriver.remote.webelement.WebElement (session=\"b989d762ea0ef101356c9b8d283ea435\", element=\"5967b843-c240-48a4-8bbb-9e821408d53a\")>,\n",
       " <selenium.webdriver.remote.webelement.WebElement (session=\"b989d762ea0ef101356c9b8d283ea435\", element=\"1df4e6f3-50ab-4218-afc2-58ecfe7fa6c6\")>,\n",
       " <selenium.webdriver.remote.webelement.WebElement (session=\"b989d762ea0ef101356c9b8d283ea435\", element=\"1e67be7a-c9dc-477b-88c7-f7705661ccd3\")>,\n",
       " <selenium.webdriver.remote.webelement.WebElement (session=\"b989d762ea0ef101356c9b8d283ea435\", element=\"b51d3d72-91fc-4f61-9c44-4e4537a61741\")>,\n",
       " <selenium.webdriver.remote.webelement.WebElement (session=\"b989d762ea0ef101356c9b8d283ea435\", element=\"8a9a85a5-e7f3-4002-859b-4dbd4e7f15fd\")>,\n",
       " <selenium.webdriver.remote.webelement.WebElement (session=\"b989d762ea0ef101356c9b8d283ea435\", element=\"31c3cbb6-2d9d-4668-a80f-488c4f401aba\")>,\n",
       " <selenium.webdriver.remote.webelement.WebElement (session=\"b989d762ea0ef101356c9b8d283ea435\", element=\"27db452a-584b-4fe5-a2e4-7c069a3c1548\")>,\n",
       " <selenium.webdriver.remote.webelement.WebElement (session=\"b989d762ea0ef101356c9b8d283ea435\", element=\"ef4a2087-f8d6-4f32-be32-42a1d7358143\")>,\n",
       " <selenium.webdriver.remote.webelement.WebElement (session=\"b989d762ea0ef101356c9b8d283ea435\", element=\"9630b8ac-c1d8-4640-8db8-2a43527ace5d\")>,\n",
       " <selenium.webdriver.remote.webelement.WebElement (session=\"b989d762ea0ef101356c9b8d283ea435\", element=\"8c240706-963d-4d2e-9f29-ff0ee77fd6bb\")>]"
      ]
     },
     "execution_count": 696,
     "metadata": {},
     "output_type": "execute_result"
    }
   ],
   "source": [
    "\n",
    "rating_tags=driver.find_elements_by_xpath(\"//div[@class='_3LWZlK _1BLPMq']\")\n",
    "rating_tags"
   ]
  },
  {
   "cell_type": "code",
   "execution_count": 697,
   "metadata": {},
   "outputs": [
    {
     "data": {
      "text/plain": [
       "['5', '5', '5', '', '', '', '', '', '', '']"
      ]
     },
     "execution_count": 697,
     "metadata": {},
     "output_type": "execute_result"
    }
   ],
   "source": [
    "rating_titles=[]\n",
    "for i in rating_tags:\n",
    "    rating_titles.append(i.text)\n",
    "rating_titles"
   ]
  },
  {
   "cell_type": "markdown",
   "metadata": {},
   "source": [
    "Scrape rating information"
   ]
  },
  {
   "cell_type": "code",
   "execution_count": 691,
   "metadata": {},
   "outputs": [
    {
     "data": {
      "text/plain": [
       "[<selenium.webdriver.remote.webelement.WebElement (session=\"b989d762ea0ef101356c9b8d283ea435\", element=\"38235fa6-6120-4510-959b-d6ceb7173b0a\")>,\n",
       " <selenium.webdriver.remote.webelement.WebElement (session=\"b989d762ea0ef101356c9b8d283ea435\", element=\"7c494454-7f06-4932-871a-1fcbc37583dd\")>,\n",
       " <selenium.webdriver.remote.webelement.WebElement (session=\"b989d762ea0ef101356c9b8d283ea435\", element=\"cb5eb21d-c977-4390-a768-b980374ea3d7\")>,\n",
       " <selenium.webdriver.remote.webelement.WebElement (session=\"b989d762ea0ef101356c9b8d283ea435\", element=\"ce4acd6f-7cfa-43cf-9876-1416f7957da5\")>,\n",
       " <selenium.webdriver.remote.webelement.WebElement (session=\"b989d762ea0ef101356c9b8d283ea435\", element=\"5c3619a4-2ae2-491f-849e-e6e204739288\")>,\n",
       " <selenium.webdriver.remote.webelement.WebElement (session=\"b989d762ea0ef101356c9b8d283ea435\", element=\"05513048-bb38-4aae-8f4d-d963cfd34b30\")>,\n",
       " <selenium.webdriver.remote.webelement.WebElement (session=\"b989d762ea0ef101356c9b8d283ea435\", element=\"7be15076-8d61-4f23-bd04-d8b9b056fd6f\")>,\n",
       " <selenium.webdriver.remote.webelement.WebElement (session=\"b989d762ea0ef101356c9b8d283ea435\", element=\"33f25da2-a4c8-4c60-ab94-b985c95f2621\")>,\n",
       " <selenium.webdriver.remote.webelement.WebElement (session=\"b989d762ea0ef101356c9b8d283ea435\", element=\"76e301de-d24f-45d0-a817-ff795bbb8f58\")>,\n",
       " <selenium.webdriver.remote.webelement.WebElement (session=\"b989d762ea0ef101356c9b8d283ea435\", element=\"8901ac8b-5d9f-4bbd-8202-d9dcf690ba48\")>]"
      ]
     },
     "execution_count": 691,
     "metadata": {},
     "output_type": "execute_result"
    }
   ],
   "source": [
    "rewiew_tags=driver.find_elements_by_xpath(\"//p[@class='_2-N8zT']\")\n",
    "rewiew_tags"
   ]
  },
  {
   "cell_type": "code",
   "execution_count": 692,
   "metadata": {},
   "outputs": [
    {
     "data": {
      "text/plain": [
       "['Simply awesome', 'Brilliant', 'Perfect product!', '', '', '', '', '', '', '']"
      ]
     },
     "execution_count": 692,
     "metadata": {},
     "output_type": "execute_result"
    }
   ],
   "source": [
    "review_titles=[]\n",
    "for i in rewiew_tags:\n",
    "    review_titles.append(i.text)\n",
    "review_titles"
   ]
  },
  {
   "cell_type": "markdown",
   "metadata": {},
   "source": [
    "Scrape review information"
   ]
  },
  {
   "cell_type": "code",
   "execution_count": 693,
   "metadata": {},
   "outputs": [
    {
     "data": {
      "text/plain": [
       "[<selenium.webdriver.remote.webelement.WebElement (session=\"b989d762ea0ef101356c9b8d283ea435\", element=\"abbb75a2-5650-487d-9e8b-37ba55d25466\")>,\n",
       " <selenium.webdriver.remote.webelement.WebElement (session=\"b989d762ea0ef101356c9b8d283ea435\", element=\"fb0ba16b-975f-424b-950a-90a1e59b85e7\")>,\n",
       " <selenium.webdriver.remote.webelement.WebElement (session=\"b989d762ea0ef101356c9b8d283ea435\", element=\"704e5cd5-4147-48e2-9319-80d54fea06fd\")>,\n",
       " <selenium.webdriver.remote.webelement.WebElement (session=\"b989d762ea0ef101356c9b8d283ea435\", element=\"9689d8d7-b851-4d09-a4f5-08b94c87dac0\")>,\n",
       " <selenium.webdriver.remote.webelement.WebElement (session=\"b989d762ea0ef101356c9b8d283ea435\", element=\"ca57ccf8-7d30-4692-9c45-296ad64c3207\")>,\n",
       " <selenium.webdriver.remote.webelement.WebElement (session=\"b989d762ea0ef101356c9b8d283ea435\", element=\"4e661689-ed1e-41a8-a9db-29be68a57b5b\")>,\n",
       " <selenium.webdriver.remote.webelement.WebElement (session=\"b989d762ea0ef101356c9b8d283ea435\", element=\"26fb9355-672a-4dc5-bebb-3cb39ed646c4\")>,\n",
       " <selenium.webdriver.remote.webelement.WebElement (session=\"b989d762ea0ef101356c9b8d283ea435\", element=\"5aea512b-7444-4295-8135-e03bc9d469f9\")>,\n",
       " <selenium.webdriver.remote.webelement.WebElement (session=\"b989d762ea0ef101356c9b8d283ea435\", element=\"2e1e27f8-f7ba-4276-9cda-3f20b2b019a3\")>,\n",
       " <selenium.webdriver.remote.webelement.WebElement (session=\"b989d762ea0ef101356c9b8d283ea435\", element=\"9d7e5bf0-e48a-4a66-8922-1ac1177538fb\")>]"
      ]
     },
     "execution_count": 693,
     "metadata": {},
     "output_type": "execute_result"
    }
   ],
   "source": [
    "fullrewiew_tags=driver.find_elements_by_xpath(\"//div[@class='t-ZTKy']\")\n",
    "fullrewiew_tags"
   ]
  },
  {
   "cell_type": "code",
   "execution_count": 694,
   "metadata": {},
   "outputs": [
    {
     "data": {
      "text/plain": [
       "['Really satisfied with the Product I received... It’s totally genuine and the packaging was also really good so if ur planning to buy just go for it.',\n",
       " 'The Best Phone for the Money\\n\\nThe iPhone 11 offers superb cameras, a more durable design and excellent battery life for an affordable price.\\n\\nCompelling ultra-wide camera\\nNew Night mode is excellent\\nLong battery life',\n",
       " 'Amazing phone with great cameras and better battery which gives you the best performance. I just love the camera .',\n",
       " '',\n",
       " '',\n",
       " '',\n",
       " '',\n",
       " '',\n",
       " '',\n",
       " '']"
      ]
     },
     "execution_count": 694,
     "metadata": {},
     "output_type": "execute_result"
    }
   ],
   "source": [
    "fullreview_titles=[]\n",
    "for i in fullrewiew_tags:\n",
    "    fullreview_titles.append(i.text)\n",
    "fullreview_titles"
   ]
  },
  {
   "cell_type": "markdown",
   "metadata": {},
   "source": [
    "Scrape full review information"
   ]
  },
  {
   "cell_type": "code",
   "execution_count": null,
   "metadata": {},
   "outputs": [],
   "source": []
  },
  {
   "cell_type": "code",
   "execution_count": 698,
   "metadata": {
    "scrolled": true
   },
   "outputs": [
    {
     "name": "stdout",
     "output_type": "stream",
     "text": [
      "10 10 10\n"
     ]
    }
   ],
   "source": [
    "print(len(rating_titles),len(review_titles),len(fullreview_titles))"
   ]
  },
  {
   "cell_type": "code",
   "execution_count": 699,
   "metadata": {},
   "outputs": [
    {
     "data": {
      "text/plain": [
       "[<selenium.webdriver.remote.webelement.WebElement (session=\"b989d762ea0ef101356c9b8d283ea435\", element=\"923003ae-8414-4017-913c-19b5d56680a4\")>,\n",
       " <selenium.webdriver.remote.webelement.WebElement (session=\"b989d762ea0ef101356c9b8d283ea435\", element=\"78b66b4f-0dbd-42f5-9730-e07fc9e4c594\")>,\n",
       " <selenium.webdriver.remote.webelement.WebElement (session=\"b989d762ea0ef101356c9b8d283ea435\", element=\"1591acb5-a23d-48ce-8c8f-096c5fd344ea\")>,\n",
       " <selenium.webdriver.remote.webelement.WebElement (session=\"b989d762ea0ef101356c9b8d283ea435\", element=\"2e8f8df6-9fa8-4e40-bfd4-f640785b89e7\")>,\n",
       " <selenium.webdriver.remote.webelement.WebElement (session=\"b989d762ea0ef101356c9b8d283ea435\", element=\"275b5bcf-cfa6-4d89-a04b-d2e267fcff68\")>,\n",
       " <selenium.webdriver.remote.webelement.WebElement (session=\"b989d762ea0ef101356c9b8d283ea435\", element=\"9d106626-f952-4ce1-a68b-c67279d058ec\")>,\n",
       " <selenium.webdriver.remote.webelement.WebElement (session=\"b989d762ea0ef101356c9b8d283ea435\", element=\"9efb5308-3ecb-4988-98d8-25bd6cc149ed\")>,\n",
       " <selenium.webdriver.remote.webelement.WebElement (session=\"b989d762ea0ef101356c9b8d283ea435\", element=\"71e9d4cc-39f9-4bd7-a0b7-26b457a8c227\")>,\n",
       " <selenium.webdriver.remote.webelement.WebElement (session=\"b989d762ea0ef101356c9b8d283ea435\", element=\"9f975cd1-e3a2-4600-9aaa-1d69e6836d24\")>,\n",
       " <selenium.webdriver.remote.webelement.WebElement (session=\"b989d762ea0ef101356c9b8d283ea435\", element=\"c1701b54-2927-48c4-962b-05f0107e2ad9\")>,\n",
       " <selenium.webdriver.remote.webelement.WebElement (session=\"b989d762ea0ef101356c9b8d283ea435\", element=\"86fff8d8-dce8-447d-9784-5f5123109806\")>]"
      ]
     },
     "execution_count": 699,
     "metadata": {},
     "output_type": "execute_result"
    }
   ],
   "source": [
    "url=driver.find_elements_by_xpath(\"//nav[@class='yFHi8N']//a\")\n",
    "url"
   ]
  },
  {
   "cell_type": "markdown",
   "metadata": {},
   "source": [
    "Scarpe multiple URL on multiple pages"
   ]
  },
  {
   "cell_type": "code",
   "execution_count": 717,
   "metadata": {},
   "outputs": [
    {
     "data": {
      "text/plain": [
       "['https://www.flipkart.com/search?q=sneakers&otracker=search&otracker1=search&marketplace=FLIPKART&as-show=on&as=off&page=1',\n",
       " 'https://www.flipkart.com/search?q=sneakers&otracker=search&otracker1=search&marketplace=FLIPKART&as-show=on&as=off&page=2',\n",
       " 'https://www.flipkart.com/search?q=sneakers&otracker=search&otracker1=search&marketplace=FLIPKART&as-show=on&as=off&page=3',\n",
       " 'https://www.flipkart.com/search?q=sneakers&otracker=search&otracker1=search&marketplace=FLIPKART&as-show=on&as=off&page=4',\n",
       " 'https://www.flipkart.com/search?q=sneakers&otracker=search&otracker1=search&marketplace=FLIPKART&as-show=on&as=off&page=5',\n",
       " 'https://www.flipkart.com/search?q=sneakers&otracker=search&otracker1=search&marketplace=FLIPKART&as-show=on&as=off&page=6',\n",
       " 'https://www.flipkart.com/search?q=sneakers&otracker=search&otracker1=search&marketplace=FLIPKART&as-show=on&as=off&page=7',\n",
       " 'https://www.flipkart.com/search?q=sneakers&otracker=search&otracker1=search&marketplace=FLIPKART&as-show=on&as=off&page=8',\n",
       " 'https://www.flipkart.com/search?q=sneakers&otracker=search&otracker1=search&marketplace=FLIPKART&as-show=on&as=off&page=9',\n",
       " 'https://www.flipkart.com/search?q=sneakers&otracker=search&otracker1=search&marketplace=FLIPKART&as-show=on&as=off&page=10',\n",
       " 'https://www.flipkart.com/search?q=sneakers&otracker=search&otracker1=search&marketplace=FLIPKART&as-show=on&as=off&page=2']"
      ]
     },
     "execution_count": 717,
     "metadata": {},
     "output_type": "execute_result"
    }
   ],
   "source": [
    "page_url = []\n",
    "url = driver.find_elements_by_xpath(\"//nav[@class='yFHi8N']//a\")\n",
    "for i in url:\n",
    "    page_url.append(i.get_attribute(\"href\"))\n",
    "page_url"
   ]
  },
  {
   "cell_type": "markdown",
   "metadata": {},
   "source": [
    "Scrape multiple URL from multiple pages"
   ]
  },
  {
   "cell_type": "code",
   "execution_count": 701,
   "metadata": {},
   "outputs": [
    {
     "data": {
      "text/plain": [
       "['5',\n",
       " '5',\n",
       " '5',\n",
       " '5',\n",
       " '5',\n",
       " '5',\n",
       " '5',\n",
       " '4',\n",
       " '5',\n",
       " '5',\n",
       " '5',\n",
       " '5',\n",
       " '5',\n",
       " '5',\n",
       " '5',\n",
       " '5',\n",
       " '5',\n",
       " '5',\n",
       " '5',\n",
       " '5',\n",
       " '4',\n",
       " '5',\n",
       " '5',\n",
       " '5',\n",
       " '5',\n",
       " '4',\n",
       " '5',\n",
       " '5',\n",
       " '5',\n",
       " '5',\n",
       " '5',\n",
       " '5',\n",
       " '5',\n",
       " '5',\n",
       " '4',\n",
       " '5',\n",
       " '5',\n",
       " '5',\n",
       " '5',\n",
       " '5',\n",
       " '5',\n",
       " '5',\n",
       " '5',\n",
       " '4',\n",
       " '5',\n",
       " '5',\n",
       " '5',\n",
       " '5',\n",
       " '5',\n",
       " '5',\n",
       " '5',\n",
       " '5',\n",
       " '5',\n",
       " '5',\n",
       " '5',\n",
       " '5',\n",
       " '5',\n",
       " '5',\n",
       " '5',\n",
       " '5',\n",
       " '5',\n",
       " '5',\n",
       " '4',\n",
       " '5',\n",
       " '5',\n",
       " '4',\n",
       " '5',\n",
       " '4',\n",
       " '5',\n",
       " '5',\n",
       " '5',\n",
       " '5',\n",
       " '5',\n",
       " '5',\n",
       " '5',\n",
       " '5',\n",
       " '5',\n",
       " '5',\n",
       " '4',\n",
       " '5',\n",
       " '3',\n",
       " '5',\n",
       " '5',\n",
       " '5',\n",
       " '5',\n",
       " '4',\n",
       " '5',\n",
       " '5',\n",
       " '5',\n",
       " '5',\n",
       " '5',\n",
       " '3',\n",
       " '5',\n",
       " '5',\n",
       " '5',\n",
       " '5',\n",
       " '5',\n",
       " '5']"
      ]
     },
     "execution_count": 701,
     "metadata": {},
     "output_type": "execute_result"
    }
   ],
   "source": [
    "rating_titles=[]\n",
    "for i in page_url[0:10]:\n",
    "    driver.get(i)\n",
    "    rating_tags=driver.find_elements_by_xpath(\"//div[@class='_3LWZlK _1BLPMq']\")\n",
    "    for i in rating_tags:\n",
    "        rating_titles.append(i.text)\n",
    "rating_titles\n"
   ]
  },
  {
   "cell_type": "markdown",
   "metadata": {},
   "source": [
    "Scrape Rating information"
   ]
  },
  {
   "cell_type": "code",
   "execution_count": 703,
   "metadata": {},
   "outputs": [
    {
     "data": {
      "text/plain": [
       "['Simply awesome',\n",
       " 'Brilliant',\n",
       " 'Perfect product!',\n",
       " 'Fabulous!',\n",
       " 'Worth every penny',\n",
       " 'Great product',\n",
       " 'Worth every penny',\n",
       " 'Good choice',\n",
       " 'Highly recommended',\n",
       " 'Perfect product!',\n",
       " 'Perfect product!',\n",
       " 'Perfect product!',\n",
       " 'Highly recommended',\n",
       " 'Classy product',\n",
       " 'Worth every penny',\n",
       " 'Perfect product!',\n",
       " 'Highly recommended',\n",
       " 'Simply awesome',\n",
       " 'Worth every penny',\n",
       " 'Terrific',\n",
       " 'Nice product',\n",
       " 'Wonderful',\n",
       " 'Classy product',\n",
       " 'Brilliant',\n",
       " 'Must buy!',\n",
       " 'Good choice',\n",
       " 'Perfect product!',\n",
       " 'Wonderful',\n",
       " 'Terrific purchase',\n",
       " 'Great product',\n",
       " 'Simply awesome',\n",
       " 'Mind-blowing purchase',\n",
       " 'Terrific purchase',\n",
       " 'Simply awesome',\n",
       " 'Good quality product',\n",
       " 'Very poor',\n",
       " 'Perfect product!',\n",
       " 'Must buy!',\n",
       " 'Fabulous!',\n",
       " 'Mind-blowing purchase',\n",
       " 'Mind-blowing purchase',\n",
       " 'Wonderful',\n",
       " 'Worth every penny',\n",
       " 'Great product',\n",
       " 'Very Good',\n",
       " 'Perfect product!',\n",
       " 'Classy product',\n",
       " 'Perfect product!',\n",
       " 'Just wow!',\n",
       " 'Awesome',\n",
       " 'Terrific',\n",
       " 'Terrific purchase',\n",
       " 'Awesome',\n",
       " 'Classy product',\n",
       " 'Brilliant',\n",
       " 'Terrific',\n",
       " 'Perfect product!',\n",
       " 'Awesome',\n",
       " 'Perfect product!',\n",
       " 'Excellent',\n",
       " 'Very poor',\n",
       " 'Fabulous!',\n",
       " 'Excellent',\n",
       " 'Must buy!',\n",
       " 'Value-for-money',\n",
       " 'Brilliant',\n",
       " 'Terrific purchase',\n",
       " 'Good quality product',\n",
       " 'Perfect product!',\n",
       " 'Value-for-money',\n",
       " 'Just wow!',\n",
       " 'Super!',\n",
       " 'Awesome',\n",
       " 'Best in the market!',\n",
       " 'Highly recommended',\n",
       " 'Classy product',\n",
       " 'Mind-blowing purchase',\n",
       " 'Must buy!',\n",
       " 'Excellent',\n",
       " 'Excellent',\n",
       " 'Pretty good',\n",
       " 'Mind-blowing purchase',\n",
       " 'Does the job',\n",
       " 'Wonderful',\n",
       " 'Terrific',\n",
       " 'Worth every penny',\n",
       " 'Worth every penny',\n",
       " 'Nice product',\n",
       " 'Fabulous!',\n",
       " 'Classy product',\n",
       " 'Awesome',\n",
       " 'Terrific purchase',\n",
       " 'Awesome',\n",
       " 'Decent product',\n",
       " 'Super!',\n",
       " 'Fabulous!',\n",
       " 'Just wow!',\n",
       " 'Mind-blowing purchase',\n",
       " 'Excellent',\n",
       " 'Excellent']"
      ]
     },
     "execution_count": 703,
     "metadata": {},
     "output_type": "execute_result"
    }
   ],
   "source": [
    "review_titles=[]\n",
    "for i in page_url[0:10]:\n",
    "    driver.get(i)\n",
    "    rewiew_tags=driver.find_elements_by_xpath(\"//p[@class='_2-N8zT']\")\n",
    "    for i in rewiew_tags:\n",
    "        review_titles.append(i.text)\n",
    "review_titles"
   ]
  },
  {
   "cell_type": "markdown",
   "metadata": {},
   "source": [
    "Scrape review information"
   ]
  },
  {
   "cell_type": "code",
   "execution_count": 705,
   "metadata": {},
   "outputs": [
    {
     "data": {
      "text/plain": [
       "['Really satisfied with the Product I received... It’s totally genuine and the packaging was also really good so if ur planning to buy just go for it.',\n",
       " 'The Best Phone for the Money\\n\\nThe iPhone 11 offers superb cameras, a more durable design and excellent battery life for an affordable price.\\n\\nCompelling ultra-wide camera\\nNew Night mode is excellent\\nLong battery life',\n",
       " 'Amazing phone with great cameras and better battery which gives you the best performance. I just love the camera .',\n",
       " 'This is my first iOS phone. I am very happy with this product. Very much satisfied with this. I love this phone.',\n",
       " 'Previously I was using one plus 3t it was a great phone\\nAnd then I decided to upgrade I am stuck between Samsung s10 plus or iPhone 11\\nI have seen the specs and everything were good except the display it’s somewhere between 720-1080 and it’s not even an amoled it’s an LCD display\\nBut I decided to go with iPhone because I have never used an IOS device I have Been an android user from the past 9 years I ordered IPhone 11 (128gb) product red\\nMy experience after using 3 weeks\\n1. The delivery ...\\nREAD MORE',\n",
       " 'Amazing Powerful and Durable Gadget.\\n\\nI’m am very happy with the camera picture quality, Amazing face id unlocked in dark room, Strong battery with perfect screen size as you can carry easily in pocket. This is my third iPhone.\\n\\nI shifted from android Samsung Note series to iPhone because of the strong build quality and peace of mind for next 3-4 years.\\n\\nDon’t think to much just go for it and I suggest you to go for minimum 128gb variant or more 256gb.\\n\\nI’ve attached my puppy pics and no fi...\\nREAD MORE',\n",
       " 'i11 is worthy to buy, too much happy with the product. Thank u flipkart I received the item on time..loved it..',\n",
       " 'So far it’s been an AMAZING experience coming back to iOS after nearly a decade but it’s not as versatile as android though phone is sturdy dropped it accidentally a couple of times and nothing happened fortunately camera is awesome',\n",
       " 'iphone 11 is a very good phone to buy only if you can compromise for the display. The display on this is device is pretty good but you can get other options with better displays in this price segment.\\nIf you can survive with an HD+ LCD panel with thicker bezels and a notch up top then this is a very good phone for you.\\nCameras are awesome, battery backup excellent, great performance and a decent premium look. Good job Apple !',\n",
       " 'It’s a must buy who is looking for an upgrade from previous generation of iPhones. If you are using XR then still you can hold on for sometime and upgrade to 2020 model else this phone is a must buy . Camera quality is amazing and wide angle is something to count upon. Performance wise it’s amazing and feels premium while holding in hand. So a big YES for this device. Go for 128 GB variant as the 4K videos will occupy lots of space and the storage can get over very quickly. Try to buy it with...\\nREAD MORE',\n",
       " 'It’s a must buy who is looking for an upgrade from previous generation of iPhones. If you are using XR then still you can hold on for sometime and upgrade to 2020 model else this phone is a must buy . Camera quality is amazing and wide angle is something to count upon. Performance wise it’s amazing and feels premium while holding in hand. So a big YES for this device. Go for 128 GB variant as the 4K videos will occupy lots of space and the storage can get over very quickly. Try to buy it with...\\nREAD MORE',\n",
       " 'Value for money❤️❤️\\nIts awesome mobile phone in the world ...\\nDisplay was very good and bright ..\\nTrust me freinds you r never regret after Buying..\\nJust go for it....\\nI love this phone and i switch to iphone x to 11',\n",
       " 'What a camera .....just awesome ..you can feel this iPhone just awesome . Good for gaming also ...try pubg in hd it’s just wow',\n",
       " 'Totally in love with this ❤ the camera quality is amazing just love it 😘😘😘 itsss dammnnnnnn amazing... Must buy iPhone 11 this is my best experience ever ☀👌👌🧡🧡🧡🧡🧡 thanku apple ❤',\n",
       " 'Best budget Iphone till date ❤️ go for it guys without second thought. Let me explain you guys about Camera, Display, battery, and performance.\\n\\nCamera: at this price range there is no comparison of camera, you’ll love the picture quality as well as video quality. I am a Vlogger I wanted an iPhone with 4k video by front camera and I got this phone and I am more than happy 😃\\n\\nBattery: I use this phone roughly as I am active social media person and I have a youtube channel. so the battery ba...\\nREAD MORE',\n",
       " \"Iphone is just awesome.. battery backup is very very nice.. continuously for 10 hours we can use it.camera is just awesome.. display is just fab.i love it alot..i had to wait 15 days for it as i pre ordered it..overalll it's worth the price..these all images are clicked by my iPhone..and i love it.\",\n",
       " \"It's my first time to use iOS phone and I am loving my upgradation 😍😍 I love the color, I love the assebility of the phone....I need to learn more about its functionality, but as far as I have seen, it's quite easy and it has a lot of functions to work on, specially if you are a content writer or a blogger you get a lot of content creation platforms and they are really amazing.\\n\\nThis phone not only for good quality photography but a lot of other task too.😍💯\",\n",
       " 'Excellent camera, good performance, no lag. The lcd display is also good.. but difference come when we watch movie in prime and Netflix, the colours are not vibrant.. as we see in amoled display.. and the charger in box is of 5 watts.. takes more than 3 hours to charge from 0 to 100.. so guys be prepare to buy 18 watts charger . Finally I am an android user, it was my first Iapple phone, I promise u guys the iOS is so smooth.. overall the phone is damn good.... close eyes to buy it.. thanks t...\\nREAD MORE',\n",
       " 'It’s been almost a month since I have been using this phone. I upgraded from an iPhone 8. The main issue with my 8 was battery and this phone is just awesome when it comes to battery. It lasts a day and a half for me with my regular use , internet connected always with 4g\\nCan’t move forward without saying this. Battery of this phone is a life saver when I am traveling or at work when I don’t get the option to charge\\nCamera is superb. Front cam selfies and back cam photos are just awesome.\\n...\\nREAD MORE',\n",
       " 'Really worth of money. i just love it. It is the best phone ever.',\n",
       " 'Awesome Phone. Slightly high price but worth. Better than iPhone XR.\\nCamera is superb and wide angle camera is very clear.\\n12MP selfie camera is also very good.\\nA13 Chip gives a very good and smooth performance.',\n",
       " 'This is my first ever I phone. Before this I was using my google nexus 5. But moving from android to iOS is a great experience. It’s worth at this price. I will highly recommend it if you want to move to iOS. The best part of this phone is it’s camera and it’s battery life. This two things have won my heart. I loved it. Happy to have it in my hand. Still exploring its features. And can’t forget to mention Flipkart service. Very prompt service and fast delivery.',\n",
       " 'Superb Product !!!\\nA big and worthy upgrade from mi 3S to iphone 11 .\\nTotally loved it !',\n",
       " 'I have migrated from OP 7pro... and trust me, iPhone 11 is totally worth it.. following are the reasons:-\\n1)there is ABSOLUTELY NO ISSUE WITH THE DISPLAY... its crisp, sharp and I found it to be much much better than OP7 pro. Netflix, Prime video all run crisply... you won’t miss a thing. True Tone works flawlessly...the display brightness is perfect. OP have not calibrated their screens properly.\\n2) iPhone 11 series have really good cameras... others have spoken in depth about them.\\n3) bat...\\nREAD MORE',\n",
       " 'It’s an amazing product from apple and the camera is simply superb. Phone is faster.Night shot is simply superb and detailing and colour differentiation from camera is an added advantage\\n\\nThis review I have written from iPhone 11 only and I am glad to say outside.\\n\\nCons wise if we see HD+ display only, no battery percentage indicator as in older iPhone 8.\\nNo assistive touch control button in it\\nNo oleophobic coating on back panel glass and finger prints are visible but since I bought mint gr...\\nREAD MORE',\n",
       " 'Looking so good 👍 😍 super 👌 stylish 😎 phone\\nClean box 📦 good 👍 delivery 👌 fast delivery\\nOriginal box Original iphone 📱 👌 😍😍😍',\n",
       " 'After 1 month use I found camera quality best compared to my previous Samsung note 10+.Display not good as note 10 also charging too slow.Apple should add fast charger like 11 plus and pro.Best phone for daily use',\n",
       " 'I just directly switch from iphone 6s to iphone 11 .The best premium smartphone I recommend to everyone. Excellent quality and colors the iphone have in 11 series.\\nCamera quality is just awesome and the major feel when we hold in our hands. The sound quality and volume is also higher then the previous models.\\nI will recommend to buy iphone 11 instead of pro models , there is nothing much difference as this model contains everything which fulfill our needs.\\n\\nOnly one thing that I dislike abo...\\nREAD MORE',\n",
       " 'Upgraded from iphone 6 to 11 best phone for iphone users battery is much better than other iphones camera is awesome love to use it.camera is so clear in night.',\n",
       " 'Well you all know the specifications . One of a kind. Best iPhone till date. Many enhancements to the camera app with many options. Love the glass body with matte finish in the lens area on the back. Lovely colours to choose from. Best battery in an iPhone till date, enough to last more than a day in normal usage. I tested my iPhone 11 battery and lasted for than 24 hours after full charge still with 30% battery charge left. Watched movies for some time. Normal usage on calls, browsing, musi...\\nREAD MORE',\n",
       " \"It's very high performances devise i am like the service of flipkart delevary very fast and packing very nice perfect phone\",\n",
       " 'This will help you more. See if you are planning to buy iPhone 11. I will say. Yes. But there are some plans I just want to disclose before you buy. 1) If you are an existing iPhone X/XS/XS Max/ XR user, better you guys do not think it to buy. You guys have more or less better gadget. 2) If you are an android user and planning to buy premium phone. I will suggest them to please buy iPhone instead of buying an Android. I bet you will never go back to android after using IOS. Now I want to shar...\\nREAD MORE',\n",
       " 'The built quality is not very premium.\\nThe battery back is great .\\nThe LCD panel is not so sharp but the brightness level is very High .\\nCamera is super duper awesome.\\nThe red colour which people think is bright is actually very soothing and excellent colour to choose from .\\nThe A13 Bionic chip is really a flagship processor and can beat any phone which even has 12 gb ram .\\nCamera module is very great and looks very stylish.',\n",
       " 'Really good actually this is my first apple product am using its really awesome performance wise excellent. Am really happy with this iphone11',\n",
       " 'it is very good at performance. Camera is best like before and very smooth response even in water. Don’t buy 12 mini buy iPhone 11 , it is far better than 12 mini believe me ! Have a nice day \\uf8ff ☺️',\n",
       " 'Reviewing again after 5 months. At the beginning the battery and performance was good but it degraded soon. Also I was facing heating issues. The mobile will heat up like a stove sometimes. You cannot even play Pubg even in low settings properly, performance is not a problem but heating is. Also if you play that game for 10 mins the brightness will be automatically down due to over heating even when the auto brightness is set to off. This will not be solved even if u manually increase the bri...\\nREAD MORE',\n",
       " 'It is just awesome mobile for this price from Apple,\\n\\nAfter 10 days review\\n\\nBattery enough for 1 day even 24*7 Internet will be on and mostly internet usage\\n\\nCamera is just awesome cool , android 64 MP is equal to this just 12 MP\\n\\nA13 Bionic chip will give more high performance without hanging\\n\\nAudio stereo speakers will give Dolby atoms sound with crystal clear\\n\\nVideo recording is like cinematic shots of every sec can be a 4K 60fps. Just awesome this phone\\niPhone 11 loved one',\n",
       " 'Best Apple iPhone that i have bought at a very reasonable price, camera quality is next level just awesome n of superior quality android phones not even close(RIP) to that and also battery is really good but packaging by Flipkart of iPhone was very poor of such a expensive product, firstly im bit worried about the quality of product if i purchased it through online how was the product but i think now this was mine best decision to bought it through Flipkart online because i got genuine Apple...\\nREAD MORE',\n",
       " \"I can say I'm damn impressed with iPhone 11. As they says iPhone 11 have the toughest glass ever in the smartphone which you'll find on the front and back and it's totally smooth. The fit and finish is full apple quality - there's no sense that any cheaping out has happened in the construction. Without saying it's camera features this review won't complete. The iPhone 11 has a dual camera system, consisting of a wide angle len's that's pretty much same as found on the iPhone XR last year, but...\\nREAD MORE\",\n",
       " 'Best Quality Product OF iPhone Series , Sound Quality & Camera quality is very awesome, Battery Life is very Sufficient for 24 hr Backup With Full Internet Access , I love this this Product too much , It is very fast & making me Very fast in all my daily Routine\\nHighlights;\\n1.Camera: 5 STAR\\n2.Video Recording: 5 star\\n3.Night mODE sHOOTING & Camera:4 star\\n4. Audio Quality: Awesome\\n5. Battery : 5 Star\\n6. Touch:5 Star\\n7. Processor: Very Fast\\nThe M...\\nREAD MORE',\n",
       " 'First thanks to Flipkart for this amazing deal and phone is outstanding. I upgraded from iPhone 7 and this is like very big upgrade. But the packaging was very basic I expected a good packaging as they only wrapped one layer of bubble wrap which I don’t think is enough to protect this expensive phone. And I recommend this phone and seller as well.\\n\\nAnd I’m posting this review after using it for 4 days.',\n",
       " 'Superfast delivery by Flipkart. Thanks.\\n\\n1. iPhone 11 is a pretty solid phone for the money you are paying.\\n2. All the bad reviews about the display is confusing. It’s not that bad.\\n3. I switched from a Oneplus 7t. I have no complaints about the display quality of iPhone. Yes, it’s not OLED, so, we are missing on the deep blacks. But that’s it. It is a very colour accurate display. Gets adequately bright and I could not find any pixelation.\\n4. Performance is one of the best, if not best, in ...\\nREAD MORE',\n",
       " 'Smooth like butter, camera like fantabulous, sound is crystal clear & its red color is damn attractive, i am just loving it. Must buy if you love photography.\\n\\nLucky to get it in sale, thank you Flipkart.',\n",
       " \"Again back to apple iphone after a gap of 2-3 years. It's pleasure to use iOS and the quality product by Apple. Iphone 11 still works like a beast in 2021 also. It really capable of doing day to day usage as well as hard core gaming. Battery is awesome. I'm really too much satisfied with it. Apart fto the very gorgious IPS LCD (AMOLED will be better) everything is mind boggling. Iphone💕.\",\n",
       " 'impressive super phone and best in class camera ,sound and face unlock is super fast just see and phone is unlock and fast in daily apps use',\n",
       " 'Battery backup is extraordinary, camera is decent & performance offered by A13 bionic is awsome. The display is good in practical usage like the visibility of display is very good in direct sun light compare to pro models. Iam extremely satisfied for the money I spent.',\n",
       " 'Well while switching from android to iOS the first thing you need to be careful about is that you will loose all your whatsapp chat backups as both are different operating systems. Camera clarity is awesome and though being an lcd screen clarity and resolution is good. Battery backup is also good unlike previous gen iPhone. So far the experience is good will Padre after a few months of usage.\\n\\nP.S the black is more of a dark grey shade and not jet black',\n",
       " 'In love with this iphone great performance,camera ,battery everything. Go for it have a uncompareble battery backup, no doubts in iPhone camera here You can see the picture which is shot on my iPhone In love with this iphone great performance,camera ,battery everything. Go for it have a uncompareble battery backup, no doubts in iPhone camera here You can see the picture which is shot on my iPhone In love with this iphone great performance,camera ,battery everything. Go for it have a uncompare...\\nREAD MORE',\n",
       " 'Best in class. Battery backup is good especially when you play games like Pubg COD. But it is sort of heavy when you hold in hands. Portrait mode is best to click pictures. Stage light effect is awesome. Try to click photos outside in nature because photos inside home or room will not give you the quality in any phone even in DSLR.',\n",
       " 'Very excited to have this phone. This phone has the real power unlike the android phones having SD 855 . The battery life is very good and the camera quality is excellent as comapred to redmi and other phones except google pixel. I M enjoying every single bit of it. Would recommed only if you have the budget.',\n",
       " \"I upgraded (downgraded?) from my iPhone X since the phone fell down and I didn't want to repair the screen. The box that the phone came in was super slim and I was worried that there'd be no 5W charger with it and my fears were confirmed. However, thankfully I had the 18W USB-C PD charger from Apple which I bought for my iPhone X and it worked perfectly. The charging time is as lethargic as ever though and it takes about 1:30 mins or even 2 hours depending on charge remaining. I'll list some ...\\nREAD MORE\",\n",
       " 'Its Very awesome product working and good camera quality and all about best product and also flipkart is very great deal and offer nice price',\n",
       " 'I am using this phone for 5 days and its one of the best camera out there ❤️ the screen is not oled and i am coming from iphone xs so its little bit not up to the mark i would say\\nBut overall value for money💕😍the battery back up is far better than my iphone xs and its worth in my apple ecosystem💫❤️if u are an apple User and have the eco system then go for it❤️though i will be getting the new iphone but its pretty good💫',\n",
       " 'Best and amazing product.....phone looks so premium.... battary is also good as expected .... Wide angle camera is so addictive ...if you are a IOS lover....then this phone will be the best choice for you all!!💯🔥',\n",
       " 'Excellent camera and display touching very nice and smooth very improvement against iPhone XR and new processor is very fast',\n",
       " \"I got this beast today. And I must say the picture quality of its camera is awesome. Both the cameras works fine.\\n\\nAs for as the processing is concerned, it runs without any lag. You can play and do whatever you want without a glitch.\\n\\nThe battery runs for a day with medium and high workload.\\n\\nThe display is good and the speakers are working fine.\\n\\nThe earphones doesn't have any base and you can use it for calling mostly.\\n\\nThe charging time is approximately for 90 minutes for full charging...\\nREAD MORE\",\n",
       " 'Awesome purchase. Amazing phone with good battery backup. It’s a top notch device. White colour looks amazing. Phone has a few extra feature than iPhone XR. Overall, this is value for money',\n",
       " 'Always love the apple products, upgraded from old iPhone 6S plus to this after having my first baby. I just love to click baby’s photos with it. Overall I just love this phone. Battery back up is okay, sound quality is good. Haven’t tested yet waterproof yet. Only one thing I hate is apple could have given charger & headphones in box.',\n",
       " 'Value for money\\n5 star rating\\nExcellent camera\\nBattery backup full day in single charge.\\n\\nTougher and water resistant design, glossy back.\\nThe screen has excellent brightness and contrast.\\nApple A13 Bionic is the fastest smartphone chip on the planet.\\nExcellent battery life, fast charging support.\\nStereo speakers with great quality.',\n",
       " 'Amazing camera and feel super machine I am not describe my feeling but this is amazing Phone I am so lucky I have this',\n",
       " 'Please DONT buy from here,\\n\\nI purchased Apple iPhone 11. with an exchange of IPhone 7, the exchange did not go well, iPhone 7 had a small scratch out side screen which i could never identify till date, but the FLIPKART person could, so he reduced 50% from exchange rate. I decided not to trade in, but paid money.\\n\\niPhone 11 Detail Below\\n---------------------------------------------\\nIt came with no charging, then i have put for charging, it took lot of time for charging, the phone also showe...\\nREAD MORE',\n",
       " 'awesome phone to have. it has got many smart features apart from mind blowing looks, camera, display, battery and sound. have fallen in love with this phone. must buy phone if you have got enough money. thanks to flipkart and apple of course..',\n",
       " 'Its a fabulous mobile look awesome performance unbeaten camera like dslr battery good i think this is a beast of mobile',\n",
       " 'Dear friends... I want to share my experience with you about this amazing I phone 11....this is my first iPhone and special things about this mobile is it has great camera, battery backup and awesome display.... I mean everything is perfect.loved it 👍👍👍',\n",
       " \"Just got this iphone 11\\nAnd it is most powerful mobile phone I have used ever\\n\\nSo,go for it if you want a phone with best specification like camera,battery backup,display, A13 bionic chip\\n\\nThat's my review about this phone but yours can be differ from me....\",\n",
       " 'Amazing phone and on great deal I received with super fast delivery by Flipkart...',\n",
       " 'finally an iPhone with very nice battery backup. update from iPhone 7 and happy to have it. camera is not up to the mark in low light but overall a recommended phone if your budget allows 😀',\n",
       " \"I'm switching this phone to oppo reno 10x zoom\\nIt's really impressive\\nRarely I'm missing smooth display touch response like oppo reno but\\nI really loved it.\\nCamera really impressive\",\n",
       " 'Worth the money’ starting first from its performance it beats out all phones , second the smoothness of camera is awesome, contrast ratio is much than expected. Price will not matter if u r a quality person, if not other phones are available with better discount',\n",
       " \"I'm Really happy with the product\\nDelivery was fast as well\\n..it was a gift for my sister and she loved it so much.\",\n",
       " 'Great iphone.\\nI am writing this review after 2 months of usage.\\nCamera is excellent, especially the nightmode\\nDisplay perfect\\nBattery backup awesome\\nSound quality very good\\nOverall Apple gives you a perfect iphone in this range.\\nReally in love with iPhone 11',\n",
       " 'Did an upgrade from 6s plus to iphone 11.\\nAo far the experience is well and good. Felt smoother than 6s plus. The camera quality is superb. Battery backup is descent. Not a heavy user, and gets power more than a day. Go for it if you need an alrounder iphone in a competitve price.',\n",
       " 'I dreamt about this day from a long time.... Getting an iPhone with my own money.... Super happy and worth spending every penny',\n",
       " 'Damn this phone is a blast . Upgraded from android to ios and is a duperb experience. Battery backup is top notch and display also pretty good',\n",
       " 'Thanks Flipkart For this amazing deal! I had a dream of owning a iphone since i had known about.\\nIm very happy with my purchase & it is totally worth it.\\nAmazing experience all over !!\\n\\nAnyone who’s thinking of buying it in 2021, i would simply say go for it without any second thoughts ❤️',\n",
       " 'Gifted my man on his 30th birthday 🎂 He loves it.. Him happy so i am more than happy 😍😘❤️🥰',\n",
       " 'awesome Phone Smooth Touch Too good Sexyy looks one word Awesome',\n",
       " 'I rate this product 5* as it has got amazing user experience with the best performing A13 bionic processor. The screen responds and graphics rendering is top notch. With casual gaming and internet browsing, the battery lasts for approx. 1 day. Camera is very good. You will fall in love with the portrait mode. You can call me a loyal Apple customer or whatever but I won’t stop praising the products and overall experience. That user experience matters and is worth every penny you pay.\\n\\nBelow ar...\\nREAD MORE',\n",
       " \"It was amazing experience for me. Honestly i am using iPhone first time so I don't have that much past experience about that. But after using 7 days this mobile i want to give some honest feedback.\\n1- Display 9 out of 10\\n2- Camera 9.5 out of 10\\n3- Battery 7 out of 10\\n4- Performance 9.5 out of 10\\n5- Features & Functions 10 out of 10\\n6- Outer looks and colour 10 out of 10\\nRest i think i will understand after using this for few months.\\nI will highly recommend you guys if you have budget then you...\\nREAD MORE\",\n",
       " \"Just go for it.\\nThis phone is really amazing. I ordered it for my wife and we click photos on this thing which are better than dslr. I own OnePlus 6t but it's camera sucks. iPhone is really amazing when it comes to camera. It's worth spending 50k on this. Cons- only display is lcd. While using u don't feel it but if u compare with other phone then u can see difference quite easily.\\nChanging from Android to iphone is bit difficult coz most of things u don't know but I liked it. Some of the a...\\nREAD MORE\",\n",
       " \"I've used this phone for over a month now and here are my takeaways.\\nI would like to first talk about the best things about this phone and then the cons of it.\\n\\nPros:\\nThis phone is a performance beast. It handles large games and applications effortlessly and you won't find any stutters or lags while playing graphic intensive games like pubg, cod , mortal kombat and asphalt.\\n\\nThis phone has only 4gb ram and yet the ram management is amazing, it can keep 3 heavy games in memory without reload...\\nREAD MORE\",\n",
       " 'Absolutely powerful gadget. Loved it’s look! Soo glassy and classy. I would definitely recommend this model of Apple. Only disappointed with the 5W charger, one should purchase an 18W adapter for fast charging. Though battery backup is great. Bought it in September 2020, reviewing after so long so I’m gonna put the genuine review here.✅',\n",
       " \"phone is good but in display is 720p lcd in this price range we can get full hd OLED displays with higher refresh rate processor is very good camera is nice but looks kind of oldish in front of todays phone also there's no charging in box had to buy it seperately\",\n",
       " 'Nice value for money good and best price I phone mind blowing camera processor very fast other android mobile I am happy India top selling phone 2020',\n",
       " 'I bought iPhone 11 On March 2021, And I am Writing this review after using the phone for 4 Months. I would Say Everything is fine, Top Performance, Nice Camera as Anyone would Expect from any series of iPhone but when the Question comes to Battery it is complicated. The Battery is fully optimised and it comes 3110 mAh capacity but the problem is with the charger. Honestly Apple Removed charger from in Box items in the name of Environment and they are also forcing us to buy any 20W PD 3rd part...\\nREAD MORE',\n",
       " 'Here is the thing\\n\\nThe only reason why you should buy this phone is for the camera, iOS, and if you have headaches looking at AMOLED display.\\n\\nI’m not an avid gamer but watch a lot of movies on smartphone. However, my migraine attacks increased considerably after using AMOLED Smartphone. That’s why I made a calculated decision to buy iPhone 11. It has the best LCD display and the blacks, though not as natural as an AMOLED, is better than some of the other smartphones.\\n\\nAdding to this the ste...\\nREAD MORE',\n",
       " 'Undoubtedly Iphone 11 is the most successful model till now and its performance is extraordinary and the security features are very impressive, display is more vibrant sound quality Camera Quality 5*****, but Iphone should add accessories too and act like scrooge.',\n",
       " \"If you are looking for a premium phone under 55k, this is the one for you.Got the iPhone 11 during the Republic day sale. Performance is top notch in this price range. Camera's do a perfect job in taking good quality photos and videos. Battery backup too is satisfactory. Writing this review after using for a week. Any further observations would be updated.\",\n",
       " 'I purchased the iPhone 11 a month back. I must say Apple has impressed me yet again . I have been an Apple user for past 5 years . The phone is power packed with amazing features . What impressed me the most was the battery backup the phone offers . Battery can easily run upto 1.5 days in single charge with moderate to\\nHeavy usage . If you’re looking for a value for money device , I don’t see any other phone in the price range which can match the iPhone 11 .\\nOne thing I didn’t like was that ...\\nREAD MORE',\n",
       " 'We are on apple ecosystem for almost eight years now with couple of iPads and iPhones, including Xr.\\n\\nBought iPhone 11 as a gift to my daughter who loves it. We chose for a purple coloured one. Believe me it is gorgeous and towards the lighter shade. Dazzling and brilliant!\\n\\nThe phone is great and does excellent RAM management like any other Apple device.\\n\\nThe screen, though a LCD and lesser ppi as compared to other flagship phones of competitor brands, is a delight to watch with perfect re...\\nREAD MORE',\n",
       " 'Can’t beat the software and hardware integration of apple.\\nPerforms like a beast. Great quality camera\\n6-7 hours screen on time which is good. Nothing much to complaint about the screen. Good connectivity speeds.\\nGreat buy and Flipkart’s delivery top notch as usual',\n",
       " 'I use a Note10+ and have been using both iOS and Android devices.\\n\\nCamera has really good features and portraits are super good, better than Samsung flagship. Overall camera setup can still be enhanced and hopeful for better upgrades on software in next release\\n\\nOperating system is quite a breeze and user experience of daily usage is very high as compared to Android. I moved to iOS very swiftly in 2 days for all my office work from Note10+\\n\\nBattery holds up quite well with 4 hrs of call and ...\\nREAD MORE',\n",
       " 'The phone is completely good\\nAs far as camera Apple is king of it\\nAnd its a beast in performance\\nAnd the battery is pretty good too',\n",
       " 'Everything u ll like it when u use this iPhone. Simple changes only not many to lower models but it’s nice to use. Little heavy compared to previous models like 7,8',\n",
       " 'This is my first ever iPhone.\\nAnd I truly don’t regret switching to IOS from my Android.\\n\\nIt is easily an alternative to a DSLR camera.\\nIf you’re obsessed with photos and videos, just don’t think twice or don’t compare to other androids(Samsung S10 lite or OnePlus 8/8T), as it’s far better from them in every field.\\nComparing will only make you confused.\\n\\nI am getting an average Screen on Time of around 10 hours with 30 percent left. I haven’t let my device discharged below 30 % as it aff...\\nREAD MORE',\n",
       " 'Everything is perfect pictures come out so clearly and at first I wasn’t sure when I got it then when I started to use it and get the hang of it it was amazing!! I can’t wait to see what the next future phones will be like. The screen display on this bad boy are unbelievable they are so clear and never fail me. The performance is super cool there is a lot of cool features as well I like this phone because I feel that it is easy to use and one of my favorite things about this phone is the Face...\\nREAD MORE',\n",
       " 'The ultimate performance\\nCamera is superb\\nThe battery backup also very good i never saw iphone gives this much of battery backup\\nIf any one wana buy iphone 11 definitely i will recommend this mobile\\nIt has the better battery and powerfull processer peak performance glorious camera and the display also 100% high quality lcd display if u had money for for 12 if u dont wana invest much money on that then go for iphone 11 it has maximum same specs only main difference between the 12 and 11 is...\\nREAD MORE',\n",
       " 'Excellent camera 📸 And Display touching very Nice And Smooth and very improvement against\\nI phone 11 and new processor is very fast',\n",
       " 'A perfect phone and a good battery super camera and the sound is dynamic overall the phone is perfect for upgrading from lower iPhone model to iPhone 11',\n",
       " 'Value for money product. This iphone 11 is really amazing. Again nice release by apple. Great camera, battery backup is excellent. I just love this phone']"
      ]
     },
     "execution_count": 705,
     "metadata": {},
     "output_type": "execute_result"
    }
   ],
   "source": [
    "fullreview_titles=[]\n",
    "for i in page_url[0:10]:\n",
    "    driver.get(i)\n",
    "    fullrewiew_tags=driver.find_elements_by_xpath(\"//div[@class='t-ZTKy']\")\n",
    "    for i in fullrewiew_tags:\n",
    "        fullreview_titles.append(i.text)\n",
    "fullreview_titles"
   ]
  },
  {
   "cell_type": "markdown",
   "metadata": {},
   "source": [
    "Scrape fullreview information"
   ]
  },
  {
   "cell_type": "code",
   "execution_count": 707,
   "metadata": {},
   "outputs": [
    {
     "name": "stdout",
     "output_type": "stream",
     "text": [
      "100 100\n"
     ]
    }
   ],
   "source": [
    "print(len(review_titles),len(fullreview_titles))"
   ]
  },
  {
   "cell_type": "code",
   "execution_count": 708,
   "metadata": {},
   "outputs": [],
   "source": [
    "jobs=pd.DataFrame({})\n",
    "jobs['review_titles']=review_titles\n",
    "jobs['fullreview_titles']=fullreview_titles"
   ]
  },
  {
   "cell_type": "code",
   "execution_count": 709,
   "metadata": {},
   "outputs": [
    {
     "data": {
      "text/html": [
       "<div>\n",
       "<style scoped>\n",
       "    .dataframe tbody tr th:only-of-type {\n",
       "        vertical-align: middle;\n",
       "    }\n",
       "\n",
       "    .dataframe tbody tr th {\n",
       "        vertical-align: top;\n",
       "    }\n",
       "\n",
       "    .dataframe thead th {\n",
       "        text-align: right;\n",
       "    }\n",
       "</style>\n",
       "<table border=\"1\" class=\"dataframe\">\n",
       "  <thead>\n",
       "    <tr style=\"text-align: right;\">\n",
       "      <th></th>\n",
       "      <th>review_titles</th>\n",
       "      <th>fullreview_titles</th>\n",
       "    </tr>\n",
       "  </thead>\n",
       "  <tbody>\n",
       "    <tr>\n",
       "      <th>0</th>\n",
       "      <td>Simply awesome</td>\n",
       "      <td>Really satisfied with the Product I received.....</td>\n",
       "    </tr>\n",
       "    <tr>\n",
       "      <th>1</th>\n",
       "      <td>Brilliant</td>\n",
       "      <td>The Best Phone for the Money\\n\\nThe iPhone 11 ...</td>\n",
       "    </tr>\n",
       "    <tr>\n",
       "      <th>2</th>\n",
       "      <td>Perfect product!</td>\n",
       "      <td>Amazing phone with great cameras and better ba...</td>\n",
       "    </tr>\n",
       "    <tr>\n",
       "      <th>3</th>\n",
       "      <td>Fabulous!</td>\n",
       "      <td>This is my first iOS phone. I am very happy wi...</td>\n",
       "    </tr>\n",
       "    <tr>\n",
       "      <th>4</th>\n",
       "      <td>Worth every penny</td>\n",
       "      <td>Previously I was using one plus 3t it was a gr...</td>\n",
       "    </tr>\n",
       "    <tr>\n",
       "      <th>...</th>\n",
       "      <td>...</td>\n",
       "      <td>...</td>\n",
       "    </tr>\n",
       "    <tr>\n",
       "      <th>95</th>\n",
       "      <td>Fabulous!</td>\n",
       "      <td>Everything is perfect pictures come out so cle...</td>\n",
       "    </tr>\n",
       "    <tr>\n",
       "      <th>96</th>\n",
       "      <td>Just wow!</td>\n",
       "      <td>The ultimate performance\\nCamera is superb\\nTh...</td>\n",
       "    </tr>\n",
       "    <tr>\n",
       "      <th>97</th>\n",
       "      <td>Mind-blowing purchase</td>\n",
       "      <td>Excellent camera 📸 And Display touching very N...</td>\n",
       "    </tr>\n",
       "    <tr>\n",
       "      <th>98</th>\n",
       "      <td>Excellent</td>\n",
       "      <td>A perfect phone and a good battery super camer...</td>\n",
       "    </tr>\n",
       "    <tr>\n",
       "      <th>99</th>\n",
       "      <td>Excellent</td>\n",
       "      <td>Value for money product. This iphone 11 is rea...</td>\n",
       "    </tr>\n",
       "  </tbody>\n",
       "</table>\n",
       "<p>100 rows × 2 columns</p>\n",
       "</div>"
      ],
      "text/plain": [
       "            review_titles                                  fullreview_titles\n",
       "0          Simply awesome  Really satisfied with the Product I received.....\n",
       "1               Brilliant  The Best Phone for the Money\\n\\nThe iPhone 11 ...\n",
       "2        Perfect product!  Amazing phone with great cameras and better ba...\n",
       "3               Fabulous!  This is my first iOS phone. I am very happy wi...\n",
       "4       Worth every penny  Previously I was using one plus 3t it was a gr...\n",
       "..                    ...                                                ...\n",
       "95              Fabulous!  Everything is perfect pictures come out so cle...\n",
       "96              Just wow!  The ultimate performance\\nCamera is superb\\nTh...\n",
       "97  Mind-blowing purchase  Excellent camera 📸 And Display touching very N...\n",
       "98              Excellent  A perfect phone and a good battery super camer...\n",
       "99              Excellent  Value for money product. This iphone 11 is rea...\n",
       "\n",
       "[100 rows x 2 columns]"
      ]
     },
     "execution_count": 709,
     "metadata": {},
     "output_type": "execute_result"
    }
   ],
   "source": [
    "jobs"
   ]
  },
  {
   "cell_type": "markdown",
   "metadata": {},
   "source": [
    "Create dataframe of the information"
   ]
  },
  {
   "cell_type": "markdown",
   "metadata": {},
   "source": []
  },
  {
   "cell_type": "markdown",
   "metadata": {},
   "source": [
    "Q8: Scrape data for first 100 sneakers you find when you visit flipkart.com and \n",
    "search for “sneakers” in the search field."
   ]
  },
  {
   "cell_type": "code",
   "execution_count": 719,
   "metadata": {},
   "outputs": [],
   "source": [
    "driver = webdriver.Chrome(r\"C:\\Users\\Ankita\\Downloads\\chromedriver_win32\\chromedriver.exe\")"
   ]
  },
  {
   "cell_type": "markdown",
   "metadata": {},
   "source": [
    "Chrome Driver path"
   ]
  },
  {
   "cell_type": "code",
   "execution_count": 720,
   "metadata": {},
   "outputs": [],
   "source": [
    "url = 'https://www.flipkart.com/'\n",
    "driver.get(url)"
   ]
  },
  {
   "cell_type": "markdown",
   "metadata": {},
   "source": [
    "Enter Flipkart URL"
   ]
  },
  {
   "cell_type": "code",
   "execution_count": 721,
   "metadata": {},
   "outputs": [
    {
     "data": {
      "text/plain": [
       "<selenium.webdriver.remote.webelement.WebElement (session=\"e477ee87a08c117ca3fea0be174a81e6\", element=\"6a64a86e-0906-4394-baf4-2de386bf5740\")>"
      ]
     },
     "execution_count": 721,
     "metadata": {},
     "output_type": "execute_result"
    }
   ],
   "source": [
    "search_job = driver.find_element_by_xpath(\"/html/body/div[1]/div/div[1]/div[1]/div[2]/div[2]/form/div/div/input\")\n",
    "search_job "
   ]
  },
  {
   "cell_type": "code",
   "execution_count": 722,
   "metadata": {},
   "outputs": [],
   "source": [
    "search_job.send_keys(\"sneakers\")"
   ]
  },
  {
   "cell_type": "markdown",
   "metadata": {},
   "source": [
    "Enter sneakers on search field"
   ]
  },
  {
   "cell_type": "code",
   "execution_count": 723,
   "metadata": {},
   "outputs": [
    {
     "data": {
      "text/plain": [
       "<selenium.webdriver.remote.webelement.WebElement (session=\"e477ee87a08c117ca3fea0be174a81e6\", element=\"2e41737c-888c-4c75-90f4-977b07a03e99\")>"
      ]
     },
     "execution_count": 723,
     "metadata": {},
     "output_type": "execute_result"
    }
   ],
   "source": [
    "search_btn = driver.find_element_by_xpath(\"//button[@class='L0Z3Pu']\")\n",
    "search_btn"
   ]
  },
  {
   "cell_type": "code",
   "execution_count": 724,
   "metadata": {},
   "outputs": [],
   "source": [
    "search_btn.click()"
   ]
  },
  {
   "cell_type": "markdown",
   "metadata": {},
   "source": [
    "Click on search button"
   ]
  },
  {
   "cell_type": "code",
   "execution_count": 725,
   "metadata": {},
   "outputs": [
    {
     "data": {
      "text/plain": [
       "[<selenium.webdriver.remote.webelement.WebElement (session=\"e477ee87a08c117ca3fea0be174a81e6\", element=\"fe03ff21-a9bb-4a21-945d-314facc0d535\")>,\n",
       " <selenium.webdriver.remote.webelement.WebElement (session=\"e477ee87a08c117ca3fea0be174a81e6\", element=\"fe11ba30-6c60-451f-bfae-6186a28c879b\")>,\n",
       " <selenium.webdriver.remote.webelement.WebElement (session=\"e477ee87a08c117ca3fea0be174a81e6\", element=\"fde23bdb-a83c-4cd5-b32c-c0ab4164582c\")>,\n",
       " <selenium.webdriver.remote.webelement.WebElement (session=\"e477ee87a08c117ca3fea0be174a81e6\", element=\"3c8c737e-d0de-4087-a578-6109f2141d64\")>,\n",
       " <selenium.webdriver.remote.webelement.WebElement (session=\"e477ee87a08c117ca3fea0be174a81e6\", element=\"b78ef79f-629b-4f10-80d0-2fc4c5846de8\")>,\n",
       " <selenium.webdriver.remote.webelement.WebElement (session=\"e477ee87a08c117ca3fea0be174a81e6\", element=\"e32a5ed2-4009-464d-b806-089d59df54ff\")>,\n",
       " <selenium.webdriver.remote.webelement.WebElement (session=\"e477ee87a08c117ca3fea0be174a81e6\", element=\"f1a5eea6-1612-4bff-802b-81aef4532a42\")>,\n",
       " <selenium.webdriver.remote.webelement.WebElement (session=\"e477ee87a08c117ca3fea0be174a81e6\", element=\"2b1577f1-b6fc-42e6-a179-b2b70c23c396\")>,\n",
       " <selenium.webdriver.remote.webelement.WebElement (session=\"e477ee87a08c117ca3fea0be174a81e6\", element=\"b2dbf6c5-74fc-4b3c-8e04-b61ed2857b05\")>,\n",
       " <selenium.webdriver.remote.webelement.WebElement (session=\"e477ee87a08c117ca3fea0be174a81e6\", element=\"d41fe47a-bd00-40ba-bf93-63d3c44824a0\")>,\n",
       " <selenium.webdriver.remote.webelement.WebElement (session=\"e477ee87a08c117ca3fea0be174a81e6\", element=\"0575e418-c986-4e05-9da9-393aa8aedf19\")>,\n",
       " <selenium.webdriver.remote.webelement.WebElement (session=\"e477ee87a08c117ca3fea0be174a81e6\", element=\"86f15ff1-0dea-4681-8c5e-27dc5a9c4708\")>,\n",
       " <selenium.webdriver.remote.webelement.WebElement (session=\"e477ee87a08c117ca3fea0be174a81e6\", element=\"fcdb4048-969b-4a9b-85a0-96ae79226df6\")>,\n",
       " <selenium.webdriver.remote.webelement.WebElement (session=\"e477ee87a08c117ca3fea0be174a81e6\", element=\"1f735633-f0f4-40fd-a08f-288530c59bd2\")>,\n",
       " <selenium.webdriver.remote.webelement.WebElement (session=\"e477ee87a08c117ca3fea0be174a81e6\", element=\"21e3c6d7-3fe6-4e0e-9e6a-6e4f6c7e1eb9\")>,\n",
       " <selenium.webdriver.remote.webelement.WebElement (session=\"e477ee87a08c117ca3fea0be174a81e6\", element=\"7b954e02-81ed-4da0-ac00-e106486d5945\")>,\n",
       " <selenium.webdriver.remote.webelement.WebElement (session=\"e477ee87a08c117ca3fea0be174a81e6\", element=\"ec8fcb22-7e36-4b4f-a2a5-d9674debfd4e\")>,\n",
       " <selenium.webdriver.remote.webelement.WebElement (session=\"e477ee87a08c117ca3fea0be174a81e6\", element=\"2fa74080-3cfa-441b-8f77-2236976e3a1e\")>,\n",
       " <selenium.webdriver.remote.webelement.WebElement (session=\"e477ee87a08c117ca3fea0be174a81e6\", element=\"18b33986-5d1c-4f08-9cf7-2eace6596823\")>,\n",
       " <selenium.webdriver.remote.webelement.WebElement (session=\"e477ee87a08c117ca3fea0be174a81e6\", element=\"0174f0c3-5ff2-42d4-9d63-5dbb41547f37\")>,\n",
       " <selenium.webdriver.remote.webelement.WebElement (session=\"e477ee87a08c117ca3fea0be174a81e6\", element=\"9e6c55ce-f16d-406d-9f4d-36e7edc029a4\")>,\n",
       " <selenium.webdriver.remote.webelement.WebElement (session=\"e477ee87a08c117ca3fea0be174a81e6\", element=\"871484ce-bda3-415e-a168-29ad12efeb85\")>,\n",
       " <selenium.webdriver.remote.webelement.WebElement (session=\"e477ee87a08c117ca3fea0be174a81e6\", element=\"7b76a498-92f9-44e4-9192-eaa5ec9d73ba\")>,\n",
       " <selenium.webdriver.remote.webelement.WebElement (session=\"e477ee87a08c117ca3fea0be174a81e6\", element=\"af4d1e95-9a87-49a9-880a-d1bb62f21c6a\")>,\n",
       " <selenium.webdriver.remote.webelement.WebElement (session=\"e477ee87a08c117ca3fea0be174a81e6\", element=\"05b57a60-b4ae-418b-be4d-ac97d4dead93\")>,\n",
       " <selenium.webdriver.remote.webelement.WebElement (session=\"e477ee87a08c117ca3fea0be174a81e6\", element=\"a8386cbe-84b7-4ed1-9ee5-1a0c6ef80a65\")>,\n",
       " <selenium.webdriver.remote.webelement.WebElement (session=\"e477ee87a08c117ca3fea0be174a81e6\", element=\"03627187-7ac3-4a81-bc72-ce8221457ee1\")>,\n",
       " <selenium.webdriver.remote.webelement.WebElement (session=\"e477ee87a08c117ca3fea0be174a81e6\", element=\"9081fd04-a753-4223-b356-4ea1500067ff\")>,\n",
       " <selenium.webdriver.remote.webelement.WebElement (session=\"e477ee87a08c117ca3fea0be174a81e6\", element=\"cf0965d8-16f4-4888-81e3-659d9fab8229\")>,\n",
       " <selenium.webdriver.remote.webelement.WebElement (session=\"e477ee87a08c117ca3fea0be174a81e6\", element=\"997c2213-add4-4c72-a5bc-26eb429faf7d\")>,\n",
       " <selenium.webdriver.remote.webelement.WebElement (session=\"e477ee87a08c117ca3fea0be174a81e6\", element=\"2da02113-add1-4cfb-9276-c26bf965a53b\")>,\n",
       " <selenium.webdriver.remote.webelement.WebElement (session=\"e477ee87a08c117ca3fea0be174a81e6\", element=\"5b11b0c3-3222-4637-a167-bdba1c9315a1\")>,\n",
       " <selenium.webdriver.remote.webelement.WebElement (session=\"e477ee87a08c117ca3fea0be174a81e6\", element=\"cb4a9bca-1fd0-42b8-8f99-400f3b7f661b\")>,\n",
       " <selenium.webdriver.remote.webelement.WebElement (session=\"e477ee87a08c117ca3fea0be174a81e6\", element=\"89490067-5d1d-49c5-8617-9bf64ad33556\")>,\n",
       " <selenium.webdriver.remote.webelement.WebElement (session=\"e477ee87a08c117ca3fea0be174a81e6\", element=\"58830790-46f4-42d3-82cd-a84fbce30e6f\")>,\n",
       " <selenium.webdriver.remote.webelement.WebElement (session=\"e477ee87a08c117ca3fea0be174a81e6\", element=\"c12633fe-2e17-491d-b3e7-21717fa5fffd\")>,\n",
       " <selenium.webdriver.remote.webelement.WebElement (session=\"e477ee87a08c117ca3fea0be174a81e6\", element=\"e7cbcc8d-18fe-44f0-946e-2a77779d7ce5\")>,\n",
       " <selenium.webdriver.remote.webelement.WebElement (session=\"e477ee87a08c117ca3fea0be174a81e6\", element=\"bbc3ba74-520a-4d4c-95a7-c91e885a55f9\")>,\n",
       " <selenium.webdriver.remote.webelement.WebElement (session=\"e477ee87a08c117ca3fea0be174a81e6\", element=\"f01d4e8f-a1e0-4f79-a722-2801a9a1524e\")>,\n",
       " <selenium.webdriver.remote.webelement.WebElement (session=\"e477ee87a08c117ca3fea0be174a81e6\", element=\"4df0621b-7301-444d-b99b-afc47fe4fc3b\")>]"
      ]
     },
     "execution_count": 725,
     "metadata": {},
     "output_type": "execute_result"
    }
   ],
   "source": [
    "\n",
    "brand_tags=driver.find_elements_by_xpath(\"//div[@class='_2WkVRV']\")\n",
    "brand_tags\n"
   ]
  },
  {
   "cell_type": "code",
   "execution_count": 726,
   "metadata": {},
   "outputs": [
    {
     "data": {
      "text/plain": [
       "['DUCATI',\n",
       " 'Robbie jones',\n",
       " 'World Wear Footwear',\n",
       " 'ASTEROID',\n",
       " 'Chevit',\n",
       " 'Chevit',\n",
       " 'BRUTON',\n",
       " 'Echor',\n",
       " 'Numenzo',\n",
       " 'Numenzo',\n",
       " 'PEHANOSA',\n",
       " 'Numenzo',\n",
       " 'bluemaker',\n",
       " 'Magnolia',\n",
       " 'Chevit',\n",
       " 'Xtoon',\n",
       " 'RODDICK SHOES',\n",
       " 'luxury fashion',\n",
       " 'Shoes Bank',\n",
       " 'luxury fashion',\n",
       " 'believe',\n",
       " 'Chevit',\n",
       " 'Red Rose',\n",
       " 'Absolutee shoes',\n",
       " 'Robbie jones',\n",
       " 'Chevit',\n",
       " 'SCATCHITE',\n",
       " 'STRANGER BROTHERS',\n",
       " 'BRUTON',\n",
       " 'India hub',\n",
       " 'Nilatin',\n",
       " 'DUCATI',\n",
       " 'World Wear Footwear',\n",
       " 'Kraasa',\n",
       " 'Nilatin',\n",
       " 'ROCKFIELD',\n",
       " 'SPARX',\n",
       " 'SPARX',\n",
       " 'Chevit',\n",
       " 'bluemaker']"
      ]
     },
     "execution_count": 726,
     "metadata": {},
     "output_type": "execute_result"
    }
   ],
   "source": [
    "brand_titles=[]\n",
    "for i in brand_tags:\n",
    "    brand_titles.append(i.text)\n",
    "brand_titles"
   ]
  },
  {
   "cell_type": "markdown",
   "metadata": {},
   "source": [
    "Scrape brand titles"
   ]
  },
  {
   "cell_type": "code",
   "execution_count": 178,
   "metadata": {},
   "outputs": [
    {
     "data": {
      "text/plain": [
       "[<selenium.webdriver.remote.webelement.WebElement (session=\"6aa20650a8a66cc6b15581c264a35ba4\", element=\"09dca284-3d0b-4dad-bfe7-21697be47f05\")>,\n",
       " <selenium.webdriver.remote.webelement.WebElement (session=\"6aa20650a8a66cc6b15581c264a35ba4\", element=\"0558ae16-d2ca-4f17-a129-eaafb86efb41\")>,\n",
       " <selenium.webdriver.remote.webelement.WebElement (session=\"6aa20650a8a66cc6b15581c264a35ba4\", element=\"acd7ba0e-481f-4452-b32b-56cdf3804f4d\")>,\n",
       " <selenium.webdriver.remote.webelement.WebElement (session=\"6aa20650a8a66cc6b15581c264a35ba4\", element=\"6231ad8a-500e-40fc-86f6-6acc43f966f5\")>,\n",
       " <selenium.webdriver.remote.webelement.WebElement (session=\"6aa20650a8a66cc6b15581c264a35ba4\", element=\"1e5f8a3b-2b8b-4488-bcb6-abe6cb8f2cba\")>,\n",
       " <selenium.webdriver.remote.webelement.WebElement (session=\"6aa20650a8a66cc6b15581c264a35ba4\", element=\"a63afcb2-ecac-4b6f-b2eb-842c2f243909\")>,\n",
       " <selenium.webdriver.remote.webelement.WebElement (session=\"6aa20650a8a66cc6b15581c264a35ba4\", element=\"70efe80a-2dc8-4ea2-bc30-ec934edd4e51\")>,\n",
       " <selenium.webdriver.remote.webelement.WebElement (session=\"6aa20650a8a66cc6b15581c264a35ba4\", element=\"9cff14ae-87ed-4504-b04c-e18757bd40f1\")>,\n",
       " <selenium.webdriver.remote.webelement.WebElement (session=\"6aa20650a8a66cc6b15581c264a35ba4\", element=\"b93121ce-66a1-47e9-ae01-134bdc1bd5fd\")>,\n",
       " <selenium.webdriver.remote.webelement.WebElement (session=\"6aa20650a8a66cc6b15581c264a35ba4\", element=\"d695184f-fe3a-4788-b1e8-2843053ff134\")>,\n",
       " <selenium.webdriver.remote.webelement.WebElement (session=\"6aa20650a8a66cc6b15581c264a35ba4\", element=\"5b1ace7a-4004-4181-99da-387f8bee20a3\")>,\n",
       " <selenium.webdriver.remote.webelement.WebElement (session=\"6aa20650a8a66cc6b15581c264a35ba4\", element=\"cbf81a2d-abfd-42aa-a203-d1e952e36745\")>,\n",
       " <selenium.webdriver.remote.webelement.WebElement (session=\"6aa20650a8a66cc6b15581c264a35ba4\", element=\"bd2aafe6-3065-4543-b812-bc2def732b5c\")>,\n",
       " <selenium.webdriver.remote.webelement.WebElement (session=\"6aa20650a8a66cc6b15581c264a35ba4\", element=\"bb3cc8ad-1db5-4e55-bd1c-6bd998426f2c\")>,\n",
       " <selenium.webdriver.remote.webelement.WebElement (session=\"6aa20650a8a66cc6b15581c264a35ba4\", element=\"bcf0ce5c-b106-4577-9812-9e406844a067\")>,\n",
       " <selenium.webdriver.remote.webelement.WebElement (session=\"6aa20650a8a66cc6b15581c264a35ba4\", element=\"a1165d60-f03d-47f6-9ddf-6f516792e7d1\")>,\n",
       " <selenium.webdriver.remote.webelement.WebElement (session=\"6aa20650a8a66cc6b15581c264a35ba4\", element=\"83b3ac76-6366-4371-8254-34d502470383\")>,\n",
       " <selenium.webdriver.remote.webelement.WebElement (session=\"6aa20650a8a66cc6b15581c264a35ba4\", element=\"6de486f9-c796-4167-ab6b-d380424cc646\")>,\n",
       " <selenium.webdriver.remote.webelement.WebElement (session=\"6aa20650a8a66cc6b15581c264a35ba4\", element=\"e751d062-8019-47a0-baba-0e4ff45f389e\")>,\n",
       " <selenium.webdriver.remote.webelement.WebElement (session=\"6aa20650a8a66cc6b15581c264a35ba4\", element=\"106f4be7-6423-40d0-bbdc-70a92c322d8a\")>,\n",
       " <selenium.webdriver.remote.webelement.WebElement (session=\"6aa20650a8a66cc6b15581c264a35ba4\", element=\"a135c2db-7b56-4338-a2f4-5f8f7bdc14fd\")>,\n",
       " <selenium.webdriver.remote.webelement.WebElement (session=\"6aa20650a8a66cc6b15581c264a35ba4\", element=\"4b7b26b3-1910-45ca-9858-3d622d8234b9\")>,\n",
       " <selenium.webdriver.remote.webelement.WebElement (session=\"6aa20650a8a66cc6b15581c264a35ba4\", element=\"4a68f9ef-6f62-460e-af98-04daae749f77\")>,\n",
       " <selenium.webdriver.remote.webelement.WebElement (session=\"6aa20650a8a66cc6b15581c264a35ba4\", element=\"bc61088e-945b-4f62-95d2-8e50948111e8\")>,\n",
       " <selenium.webdriver.remote.webelement.WebElement (session=\"6aa20650a8a66cc6b15581c264a35ba4\", element=\"5a16d587-4b06-4bd3-8007-80272756fb34\")>,\n",
       " <selenium.webdriver.remote.webelement.WebElement (session=\"6aa20650a8a66cc6b15581c264a35ba4\", element=\"357a34f4-bfe0-4eac-8304-c2ba8c0f8cc6\")>,\n",
       " <selenium.webdriver.remote.webelement.WebElement (session=\"6aa20650a8a66cc6b15581c264a35ba4\", element=\"c39aa2fc-b427-457c-94bb-3be4765aa631\")>,\n",
       " <selenium.webdriver.remote.webelement.WebElement (session=\"6aa20650a8a66cc6b15581c264a35ba4\", element=\"6d99c854-fc9a-42d0-a12a-919cffbd32cb\")>,\n",
       " <selenium.webdriver.remote.webelement.WebElement (session=\"6aa20650a8a66cc6b15581c264a35ba4\", element=\"e9ae8b9c-b6cc-4ffb-9ad7-9648a66c83ba\")>,\n",
       " <selenium.webdriver.remote.webelement.WebElement (session=\"6aa20650a8a66cc6b15581c264a35ba4\", element=\"84a8bf5c-0f30-4a39-b2f2-76415f3cfe7b\")>,\n",
       " <selenium.webdriver.remote.webelement.WebElement (session=\"6aa20650a8a66cc6b15581c264a35ba4\", element=\"93bc8edd-5bf0-42e2-b30e-104702a60beb\")>,\n",
       " <selenium.webdriver.remote.webelement.WebElement (session=\"6aa20650a8a66cc6b15581c264a35ba4\", element=\"bf299678-9270-4c18-8051-84841b903942\")>,\n",
       " <selenium.webdriver.remote.webelement.WebElement (session=\"6aa20650a8a66cc6b15581c264a35ba4\", element=\"5e6a6c51-3aa0-4775-858c-5bd0cd123f18\")>,\n",
       " <selenium.webdriver.remote.webelement.WebElement (session=\"6aa20650a8a66cc6b15581c264a35ba4\", element=\"e0a3d3d7-3c61-4109-b142-36696150506f\")>,\n",
       " <selenium.webdriver.remote.webelement.WebElement (session=\"6aa20650a8a66cc6b15581c264a35ba4\", element=\"7fb67ab6-e8a4-4cf3-aec4-98a510116e7c\")>,\n",
       " <selenium.webdriver.remote.webelement.WebElement (session=\"6aa20650a8a66cc6b15581c264a35ba4\", element=\"1bba2122-8b92-4b84-b563-6ff2894d93f8\")>,\n",
       " <selenium.webdriver.remote.webelement.WebElement (session=\"6aa20650a8a66cc6b15581c264a35ba4\", element=\"adc87897-06bd-4158-bdc3-377a867c1319\")>,\n",
       " <selenium.webdriver.remote.webelement.WebElement (session=\"6aa20650a8a66cc6b15581c264a35ba4\", element=\"884c3c45-f424-4fc8-9f70-e28df2e8c638\")>,\n",
       " <selenium.webdriver.remote.webelement.WebElement (session=\"6aa20650a8a66cc6b15581c264a35ba4\", element=\"ac5fa8cc-1964-46f6-b724-4f6fb9499f3d\")>,\n",
       " <selenium.webdriver.remote.webelement.WebElement (session=\"6aa20650a8a66cc6b15581c264a35ba4\", element=\"88bf2338-8992-4c36-a7fb-2bcf8c8eda14\")>]"
      ]
     },
     "execution_count": 178,
     "metadata": {},
     "output_type": "execute_result"
    }
   ],
   "source": [
    "\n",
    "description_tags=driver.find_elements_by_xpath(\"//div[@class='_2B099V']//a[1]\")\n",
    "description_tags "
   ]
  },
  {
   "cell_type": "code",
   "execution_count": 179,
   "metadata": {},
   "outputs": [
    {
     "data": {
      "text/plain": [
       "['Sneakers For Men',\n",
       " 'Sneakers For Men',\n",
       " \"Original Luxury Branded Fashionable Men's Casual Walkin...\",\n",
       " 'Unique & Perfect Collection Combo Pack of 02 Shoes for ...',\n",
       " 'Sneakers For Men',\n",
       " 'Sneakers For Men',\n",
       " 'Super Stylish & Trendy Combo Pack of 02 Pairs Sneakers ...',\n",
       " 'Cipramo Canvas Shoes for Men Sneakers For Men',\n",
       " 'Sneakers For Men',\n",
       " 'Combo Pack Of 4 Casual Shoes Loafer Shoes Sneakers For ...',\n",
       " 'casual for men (blue 06) Sneakers For Men',\n",
       " 'Sneakers For Men',\n",
       " 'Sneakers For Men',\n",
       " '5011-Latest Collection Stylish Casual Loafer Sneakers S...',\n",
       " '494 Perfect Sports Shoes for Running Training Hikking &...',\n",
       " 'Sneakers For Men',\n",
       " 'Luxury Fashionable casual sneaker shoes Sneakers For Me...',\n",
       " 'Speed Set of 5 Pairs Sneakers Outdoors Casuals for Men ...',\n",
       " 'Sneakers for men(black_6) Sneakers For Men',\n",
       " 'Sneakers For Men',\n",
       " 'Fashion Outdoor Canvas Casual Light Weight Lace-up Even...',\n",
       " \"White Sneaker For Men's/Boy's Sneakers For Men\",\n",
       " 'Sneakers For Men',\n",
       " 'Combo Pack of 4 Casual Sneakers With Sneakers For Men',\n",
       " 'Sneakers For Men',\n",
       " 'Perfect & Affordable Combo Pack of 03 Pairs Casual Snea...',\n",
       " 'Sneakers Sneakers For Men',\n",
       " 'Sneakers For Men',\n",
       " 'Modern & Trendy Collection Combo Pack of 02 Shoes for M...',\n",
       " 'White Sneaker for Men Sneakers For Men',\n",
       " 'Men 5014 Latest Collection Stylish Casual Sports Loafer...',\n",
       " 'MAPF1 X-RAY 2 Sneakers For Men',\n",
       " 'Fashionable casual sneakers shoes Sneakers For Men',\n",
       " 'Black Sneaker For Men Sneakers For Men',\n",
       " 'Series 7 Sneakers For Men',\n",
       " 'Casual Sneakers Shoes For Men Sneakers For Men Sneakers...',\n",
       " 'SM439G Sneakers For Men',\n",
       " 'Men Boxer Sneakers For Men',\n",
       " 'Perfect & Affordable Combo Pack of 02 Pairs Sneakers Ou...',\n",
       " 'Puma Smash v2 Buck Sneakers For Men']"
      ]
     },
     "execution_count": 179,
     "metadata": {},
     "output_type": "execute_result"
    }
   ],
   "source": [
    "description_names=[]\n",
    "for i in description_tags:\n",
    "    description_names.append(i.text)\n",
    "description_names"
   ]
  },
  {
   "cell_type": "markdown",
   "metadata": {},
   "source": [
    "Scrape description names"
   ]
  },
  {
   "cell_type": "code",
   "execution_count": 180,
   "metadata": {},
   "outputs": [
    {
     "data": {
      "text/plain": [
       "[<selenium.webdriver.remote.webelement.WebElement (session=\"6aa20650a8a66cc6b15581c264a35ba4\", element=\"20582d12-45cf-4c95-8987-210aec9e6bd8\")>,\n",
       " <selenium.webdriver.remote.webelement.WebElement (session=\"6aa20650a8a66cc6b15581c264a35ba4\", element=\"a503c770-087d-4632-8568-c019b1139880\")>,\n",
       " <selenium.webdriver.remote.webelement.WebElement (session=\"6aa20650a8a66cc6b15581c264a35ba4\", element=\"2d155b00-76c7-4c13-a97e-072a3f441d8e\")>,\n",
       " <selenium.webdriver.remote.webelement.WebElement (session=\"6aa20650a8a66cc6b15581c264a35ba4\", element=\"db52f8e3-50d7-41b5-af71-a85a9efc097f\")>,\n",
       " <selenium.webdriver.remote.webelement.WebElement (session=\"6aa20650a8a66cc6b15581c264a35ba4\", element=\"f1259084-1aa9-458c-8efa-4bbb0f18a21a\")>,\n",
       " <selenium.webdriver.remote.webelement.WebElement (session=\"6aa20650a8a66cc6b15581c264a35ba4\", element=\"39dde8bf-5ce6-4110-bdcd-d748a2bf54f2\")>,\n",
       " <selenium.webdriver.remote.webelement.WebElement (session=\"6aa20650a8a66cc6b15581c264a35ba4\", element=\"d9eeb14d-535f-4363-b3b7-7d41d52bec9e\")>,\n",
       " <selenium.webdriver.remote.webelement.WebElement (session=\"6aa20650a8a66cc6b15581c264a35ba4\", element=\"90f2ccaf-e9c2-4034-b06b-08f5fd29c35a\")>,\n",
       " <selenium.webdriver.remote.webelement.WebElement (session=\"6aa20650a8a66cc6b15581c264a35ba4\", element=\"671a2af5-c98e-4b1a-bb6e-65b1f15423a7\")>,\n",
       " <selenium.webdriver.remote.webelement.WebElement (session=\"6aa20650a8a66cc6b15581c264a35ba4\", element=\"14e1829c-e8b5-4da5-be1a-a423022d96eb\")>,\n",
       " <selenium.webdriver.remote.webelement.WebElement (session=\"6aa20650a8a66cc6b15581c264a35ba4\", element=\"56852be0-807a-4bcc-bd5e-8e7b5d13d877\")>,\n",
       " <selenium.webdriver.remote.webelement.WebElement (session=\"6aa20650a8a66cc6b15581c264a35ba4\", element=\"0ccefd30-16f5-49de-9110-78305a4a7fa4\")>,\n",
       " <selenium.webdriver.remote.webelement.WebElement (session=\"6aa20650a8a66cc6b15581c264a35ba4\", element=\"b7966475-e6b8-4a69-a3bb-2cdab175a35b\")>,\n",
       " <selenium.webdriver.remote.webelement.WebElement (session=\"6aa20650a8a66cc6b15581c264a35ba4\", element=\"a0ffcc48-afc1-4440-a1b4-3d0a220faaa5\")>,\n",
       " <selenium.webdriver.remote.webelement.WebElement (session=\"6aa20650a8a66cc6b15581c264a35ba4\", element=\"57084ad7-f5c2-46b6-b35c-4e24b33a0b09\")>,\n",
       " <selenium.webdriver.remote.webelement.WebElement (session=\"6aa20650a8a66cc6b15581c264a35ba4\", element=\"1c7ff55c-8ad7-4122-ba74-3eed2db6d88e\")>,\n",
       " <selenium.webdriver.remote.webelement.WebElement (session=\"6aa20650a8a66cc6b15581c264a35ba4\", element=\"6bf8bd0c-515a-42ca-a251-44376a7271a4\")>,\n",
       " <selenium.webdriver.remote.webelement.WebElement (session=\"6aa20650a8a66cc6b15581c264a35ba4\", element=\"fabe3810-50fd-4b29-bd92-ae7145aba5a5\")>,\n",
       " <selenium.webdriver.remote.webelement.WebElement (session=\"6aa20650a8a66cc6b15581c264a35ba4\", element=\"8855fb48-718a-4210-9677-88247341ceb5\")>,\n",
       " <selenium.webdriver.remote.webelement.WebElement (session=\"6aa20650a8a66cc6b15581c264a35ba4\", element=\"91c086db-ff11-4ce2-b4d6-c9ef3a81c6c3\")>,\n",
       " <selenium.webdriver.remote.webelement.WebElement (session=\"6aa20650a8a66cc6b15581c264a35ba4\", element=\"ea35e42e-956e-4e0f-ba7e-2491784cfa33\")>,\n",
       " <selenium.webdriver.remote.webelement.WebElement (session=\"6aa20650a8a66cc6b15581c264a35ba4\", element=\"3d64e75d-5704-45da-abe5-30a15ea3fb6e\")>,\n",
       " <selenium.webdriver.remote.webelement.WebElement (session=\"6aa20650a8a66cc6b15581c264a35ba4\", element=\"b32abcc7-3da2-40bc-92f5-d583e53100a2\")>,\n",
       " <selenium.webdriver.remote.webelement.WebElement (session=\"6aa20650a8a66cc6b15581c264a35ba4\", element=\"41f5f8ec-ec49-41ed-857a-e9bfcd71c537\")>,\n",
       " <selenium.webdriver.remote.webelement.WebElement (session=\"6aa20650a8a66cc6b15581c264a35ba4\", element=\"3d5b5907-874c-478c-acb5-ef7b700ce0d8\")>,\n",
       " <selenium.webdriver.remote.webelement.WebElement (session=\"6aa20650a8a66cc6b15581c264a35ba4\", element=\"2515bcfb-d76c-4e4d-8632-0913ae95d085\")>,\n",
       " <selenium.webdriver.remote.webelement.WebElement (session=\"6aa20650a8a66cc6b15581c264a35ba4\", element=\"c213f911-c82c-4e00-ab32-01cc176f7fba\")>,\n",
       " <selenium.webdriver.remote.webelement.WebElement (session=\"6aa20650a8a66cc6b15581c264a35ba4\", element=\"00d3178b-aa9b-4d37-a0af-c165e17492e0\")>,\n",
       " <selenium.webdriver.remote.webelement.WebElement (session=\"6aa20650a8a66cc6b15581c264a35ba4\", element=\"ccd59998-ba9a-4bea-a78a-51c36065303d\")>,\n",
       " <selenium.webdriver.remote.webelement.WebElement (session=\"6aa20650a8a66cc6b15581c264a35ba4\", element=\"e1ea26cb-4dcf-41de-905e-c3cc719f5b40\")>,\n",
       " <selenium.webdriver.remote.webelement.WebElement (session=\"6aa20650a8a66cc6b15581c264a35ba4\", element=\"f865a84c-068b-406a-9f8a-082e26b48f4c\")>,\n",
       " <selenium.webdriver.remote.webelement.WebElement (session=\"6aa20650a8a66cc6b15581c264a35ba4\", element=\"94c1c21f-f841-4649-86d4-93d6656ef4d5\")>,\n",
       " <selenium.webdriver.remote.webelement.WebElement (session=\"6aa20650a8a66cc6b15581c264a35ba4\", element=\"4e4122a2-582f-413f-b969-5f3f1edb2e68\")>,\n",
       " <selenium.webdriver.remote.webelement.WebElement (session=\"6aa20650a8a66cc6b15581c264a35ba4\", element=\"b6762060-7ace-4621-bd99-e1db247cfd44\")>,\n",
       " <selenium.webdriver.remote.webelement.WebElement (session=\"6aa20650a8a66cc6b15581c264a35ba4\", element=\"920ef154-737c-43d3-b3cb-5a532c88b25d\")>,\n",
       " <selenium.webdriver.remote.webelement.WebElement (session=\"6aa20650a8a66cc6b15581c264a35ba4\", element=\"48dcbd11-6751-4d1d-981b-b9aa689d86d5\")>,\n",
       " <selenium.webdriver.remote.webelement.WebElement (session=\"6aa20650a8a66cc6b15581c264a35ba4\", element=\"d86fe09f-3839-4d03-a7a9-13264af159e9\")>,\n",
       " <selenium.webdriver.remote.webelement.WebElement (session=\"6aa20650a8a66cc6b15581c264a35ba4\", element=\"d6dcc76b-36ed-4d69-8e35-a45f141cf090\")>,\n",
       " <selenium.webdriver.remote.webelement.WebElement (session=\"6aa20650a8a66cc6b15581c264a35ba4\", element=\"95a06415-bfda-41b0-aeb3-782d50caa208\")>,\n",
       " <selenium.webdriver.remote.webelement.WebElement (session=\"6aa20650a8a66cc6b15581c264a35ba4\", element=\"14bf871a-ec90-4a71-b1bf-08542f1a4ee3\")>]"
      ]
     },
     "execution_count": 180,
     "metadata": {},
     "output_type": "execute_result"
    }
   ],
   "source": [
    "prise_tags=driver.find_elements_by_xpath(\"//div[@class='_30jeq3']\")\n",
    "prise_tags"
   ]
  },
  {
   "cell_type": "code",
   "execution_count": 181,
   "metadata": {},
   "outputs": [
    {
     "data": {
      "text/plain": [
       "['₹1,289',\n",
       " '₹1,259',\n",
       " '₹499',\n",
       " '₹420',\n",
       " '₹426',\n",
       " '₹356',\n",
       " '₹536',\n",
       " '₹630',\n",
       " '₹378',\n",
       " '₹399',\n",
       " '₹399',\n",
       " '₹426',\n",
       " '₹399',\n",
       " '₹240',\n",
       " '₹254',\n",
       " '₹399',\n",
       " '₹399',\n",
       " '₹679',\n",
       " '₹399',\n",
       " '₹1,259',\n",
       " '₹474',\n",
       " '₹331',\n",
       " '₹474',\n",
       " '₹424',\n",
       " '₹299',\n",
       " '₹594',\n",
       " '₹398',\n",
       " '₹1,209',\n",
       " '₹499',\n",
       " '₹407',\n",
       " '₹240',\n",
       " '₹3,690',\n",
       " '₹449',\n",
       " '₹426',\n",
       " '₹416',\n",
       " '₹499',\n",
       " '₹629',\n",
       " '₹260',\n",
       " '₹447',\n",
       " '₹1,437']"
      ]
     },
     "execution_count": 181,
     "metadata": {},
     "output_type": "execute_result"
    }
   ],
   "source": [
    "prise_cost=[]\n",
    "for i in prise_tags:\n",
    "    prise_cost.append(i.text)\n",
    "prise_cost"
   ]
  },
  {
   "cell_type": "markdown",
   "metadata": {},
   "source": [
    "Scrape prise information"
   ]
  },
  {
   "cell_type": "code",
   "execution_count": 182,
   "metadata": {
    "scrolled": true
   },
   "outputs": [
    {
     "data": {
      "text/plain": [
       "[<selenium.webdriver.remote.webelement.WebElement (session=\"6aa20650a8a66cc6b15581c264a35ba4\", element=\"bedaed70-df44-40ac-a8bc-8f0141d5565b\")>,\n",
       " <selenium.webdriver.remote.webelement.WebElement (session=\"6aa20650a8a66cc6b15581c264a35ba4\", element=\"dc8ff59b-0ab3-477c-86f1-9ccb23759111\")>,\n",
       " <selenium.webdriver.remote.webelement.WebElement (session=\"6aa20650a8a66cc6b15581c264a35ba4\", element=\"ae0ab379-f659-4255-b072-5ad094072677\")>,\n",
       " <selenium.webdriver.remote.webelement.WebElement (session=\"6aa20650a8a66cc6b15581c264a35ba4\", element=\"e620e114-3103-4fd8-9fea-5026875d43b0\")>,\n",
       " <selenium.webdriver.remote.webelement.WebElement (session=\"6aa20650a8a66cc6b15581c264a35ba4\", element=\"c3076ed9-476a-4de7-b10a-3ab4019ab902\")>,\n",
       " <selenium.webdriver.remote.webelement.WebElement (session=\"6aa20650a8a66cc6b15581c264a35ba4\", element=\"8b769152-76f4-470f-9d8d-bb79142c8d2e\")>,\n",
       " <selenium.webdriver.remote.webelement.WebElement (session=\"6aa20650a8a66cc6b15581c264a35ba4\", element=\"b04bc195-e8d8-438e-9f7c-f5f99feb5e8a\")>,\n",
       " <selenium.webdriver.remote.webelement.WebElement (session=\"6aa20650a8a66cc6b15581c264a35ba4\", element=\"6c313e5b-b4a5-4c1e-a3d8-f3cb9e7f9930\")>,\n",
       " <selenium.webdriver.remote.webelement.WebElement (session=\"6aa20650a8a66cc6b15581c264a35ba4\", element=\"d3368578-0fca-4031-8c3a-864b28faed14\")>,\n",
       " <selenium.webdriver.remote.webelement.WebElement (session=\"6aa20650a8a66cc6b15581c264a35ba4\", element=\"77ce26c4-3b8e-4684-acf5-f02b3f79a027\")>,\n",
       " <selenium.webdriver.remote.webelement.WebElement (session=\"6aa20650a8a66cc6b15581c264a35ba4\", element=\"731c85ab-ca7a-4015-8b88-e689cd55d827\")>,\n",
       " <selenium.webdriver.remote.webelement.WebElement (session=\"6aa20650a8a66cc6b15581c264a35ba4\", element=\"8e8b7504-17fd-41c8-aed4-a358bb4e727e\")>,\n",
       " <selenium.webdriver.remote.webelement.WebElement (session=\"6aa20650a8a66cc6b15581c264a35ba4\", element=\"5a918575-7dfd-4f2e-bf5e-a42aed23c9e5\")>,\n",
       " <selenium.webdriver.remote.webelement.WebElement (session=\"6aa20650a8a66cc6b15581c264a35ba4\", element=\"38e1be59-01de-4e1a-a475-17f5a0753171\")>,\n",
       " <selenium.webdriver.remote.webelement.WebElement (session=\"6aa20650a8a66cc6b15581c264a35ba4\", element=\"31d432bb-339c-4496-add1-0fee1686335b\")>,\n",
       " <selenium.webdriver.remote.webelement.WebElement (session=\"6aa20650a8a66cc6b15581c264a35ba4\", element=\"2f2ef890-9e45-42b6-884a-433b527f7f38\")>,\n",
       " <selenium.webdriver.remote.webelement.WebElement (session=\"6aa20650a8a66cc6b15581c264a35ba4\", element=\"8294932e-bee7-4526-bba4-877e3846502b\")>,\n",
       " <selenium.webdriver.remote.webelement.WebElement (session=\"6aa20650a8a66cc6b15581c264a35ba4\", element=\"383703d2-ad6a-4543-8291-83b3094846d1\")>,\n",
       " <selenium.webdriver.remote.webelement.WebElement (session=\"6aa20650a8a66cc6b15581c264a35ba4\", element=\"7982fb1e-9cd9-470e-ab82-fba477059487\")>,\n",
       " <selenium.webdriver.remote.webelement.WebElement (session=\"6aa20650a8a66cc6b15581c264a35ba4\", element=\"5c47f44a-37ba-4569-8361-c1823477d6b2\")>,\n",
       " <selenium.webdriver.remote.webelement.WebElement (session=\"6aa20650a8a66cc6b15581c264a35ba4\", element=\"7e0397f6-9141-486c-8b6b-38e1683a8062\")>,\n",
       " <selenium.webdriver.remote.webelement.WebElement (session=\"6aa20650a8a66cc6b15581c264a35ba4\", element=\"0d0237ed-a380-4e00-b1f1-ff53cdfb6a31\")>,\n",
       " <selenium.webdriver.remote.webelement.WebElement (session=\"6aa20650a8a66cc6b15581c264a35ba4\", element=\"efd87471-156d-4a8b-ba2d-f8adb799463b\")>,\n",
       " <selenium.webdriver.remote.webelement.WebElement (session=\"6aa20650a8a66cc6b15581c264a35ba4\", element=\"ff4daaf9-b45f-4012-a10e-dfcce9d71823\")>,\n",
       " <selenium.webdriver.remote.webelement.WebElement (session=\"6aa20650a8a66cc6b15581c264a35ba4\", element=\"9d1a5488-0b23-4dad-8fa4-f59fd4a213b7\")>,\n",
       " <selenium.webdriver.remote.webelement.WebElement (session=\"6aa20650a8a66cc6b15581c264a35ba4\", element=\"0dd91540-6dec-439a-8415-4613291c17f0\")>,\n",
       " <selenium.webdriver.remote.webelement.WebElement (session=\"6aa20650a8a66cc6b15581c264a35ba4\", element=\"9a70ffef-1c34-4ab6-be57-2ab1d4cadfec\")>,\n",
       " <selenium.webdriver.remote.webelement.WebElement (session=\"6aa20650a8a66cc6b15581c264a35ba4\", element=\"4358d928-bae8-493b-b170-7fc7be5cda7e\")>,\n",
       " <selenium.webdriver.remote.webelement.WebElement (session=\"6aa20650a8a66cc6b15581c264a35ba4\", element=\"b08176c9-34b1-44f7-aa3d-a8273029a0d5\")>,\n",
       " <selenium.webdriver.remote.webelement.WebElement (session=\"6aa20650a8a66cc6b15581c264a35ba4\", element=\"6c924258-3dfc-4fa5-9ab9-6266158c503f\")>,\n",
       " <selenium.webdriver.remote.webelement.WebElement (session=\"6aa20650a8a66cc6b15581c264a35ba4\", element=\"09ec6fd5-aa91-45c5-bef4-57afa0907228\")>,\n",
       " <selenium.webdriver.remote.webelement.WebElement (session=\"6aa20650a8a66cc6b15581c264a35ba4\", element=\"2eb42fc5-14ab-4f2c-a8a9-0232bd9c01bf\")>,\n",
       " <selenium.webdriver.remote.webelement.WebElement (session=\"6aa20650a8a66cc6b15581c264a35ba4\", element=\"137f865a-ae6c-4142-ad65-bf3ab93fc6d9\")>,\n",
       " <selenium.webdriver.remote.webelement.WebElement (session=\"6aa20650a8a66cc6b15581c264a35ba4\", element=\"133fac4b-1f16-43ee-a767-f41c810ce6ac\")>,\n",
       " <selenium.webdriver.remote.webelement.WebElement (session=\"6aa20650a8a66cc6b15581c264a35ba4\", element=\"1c0f85e0-7ead-4a70-9b96-648a985a74f8\")>,\n",
       " <selenium.webdriver.remote.webelement.WebElement (session=\"6aa20650a8a66cc6b15581c264a35ba4\", element=\"197e5b68-1a0b-4716-a81c-43756ba8b17a\")>,\n",
       " <selenium.webdriver.remote.webelement.WebElement (session=\"6aa20650a8a66cc6b15581c264a35ba4\", element=\"a92f755f-947e-44fa-9c0c-e838d9a6c016\")>,\n",
       " <selenium.webdriver.remote.webelement.WebElement (session=\"6aa20650a8a66cc6b15581c264a35ba4\", element=\"4f549777-c7e0-4cd1-9311-e68995b7a285\")>,\n",
       " <selenium.webdriver.remote.webelement.WebElement (session=\"6aa20650a8a66cc6b15581c264a35ba4\", element=\"89ae097a-c4d2-453f-a893-ea74fb7aac39\")>,\n",
       " <selenium.webdriver.remote.webelement.WebElement (session=\"6aa20650a8a66cc6b15581c264a35ba4\", element=\"6c1a38ad-8773-4724-905f-03fe43a65ae5\")>]"
      ]
     },
     "execution_count": 182,
     "metadata": {},
     "output_type": "execute_result"
    }
   ],
   "source": [
    "discount_tags=driver.find_elements_by_xpath(\"//div[@class='_3Ay6Sb']//span\")\n",
    "discount_tags"
   ]
  },
  {
   "cell_type": "code",
   "execution_count": 183,
   "metadata": {},
   "outputs": [
    {
     "data": {
      "text/plain": [
       "['65% off',\n",
       " '65% off',\n",
       " '75% off',\n",
       " '71% off',\n",
       " '78% off',\n",
       " '64% off',\n",
       " '66% off',\n",
       " '36% off',\n",
       " '62% off',\n",
       " '88% off',\n",
       " '60% off',\n",
       " '78% off',\n",
       " '60% off',\n",
       " '51% off',\n",
       " '74% off',\n",
       " '60% off',\n",
       " '69% off',\n",
       " '72% off',\n",
       " '60% off',\n",
       " '65% off',\n",
       " '52% off',\n",
       " '66% off',\n",
       " '52% off',\n",
       " '78% off',\n",
       " '70% off',\n",
       " '77% off',\n",
       " '60% off',\n",
       " '68% off',\n",
       " '80% off',\n",
       " '68% off',\n",
       " '51% off',\n",
       " '53% off',\n",
       " '85% off',\n",
       " '67% off',\n",
       " '58% off',\n",
       " '50% off',\n",
       " '10% off',\n",
       " '47% off',\n",
       " '75% off',\n",
       " '58% off']"
      ]
     },
     "execution_count": 183,
     "metadata": {},
     "output_type": "execute_result"
    }
   ],
   "source": [
    "discount_cost=[]\n",
    "for i in discount_tags:\n",
    "    discount_cost.append(i.text)\n",
    "discount_cost"
   ]
  },
  {
   "cell_type": "markdown",
   "metadata": {},
   "source": [
    "Scrape discount information"
   ]
  },
  {
   "cell_type": "code",
   "execution_count": 184,
   "metadata": {},
   "outputs": [
    {
     "data": {
      "text/plain": [
       "[<selenium.webdriver.remote.webelement.WebElement (session=\"6aa20650a8a66cc6b15581c264a35ba4\", element=\"dd0c1adc-e9fe-4955-8c4b-9073d1810686\")>,\n",
       " <selenium.webdriver.remote.webelement.WebElement (session=\"6aa20650a8a66cc6b15581c264a35ba4\", element=\"6ee51195-0f02-4126-a6ad-90d47a812d2b\")>,\n",
       " <selenium.webdriver.remote.webelement.WebElement (session=\"6aa20650a8a66cc6b15581c264a35ba4\", element=\"a20aa8dc-aebb-402f-94f0-a6f0e3ed0d6e\")>,\n",
       " <selenium.webdriver.remote.webelement.WebElement (session=\"6aa20650a8a66cc6b15581c264a35ba4\", element=\"98643b57-eb70-4899-8166-bceb77ca5dc0\")>,\n",
       " <selenium.webdriver.remote.webelement.WebElement (session=\"6aa20650a8a66cc6b15581c264a35ba4\", element=\"6708c180-4f4b-4c51-bb75-202e67ff2afc\")>,\n",
       " <selenium.webdriver.remote.webelement.WebElement (session=\"6aa20650a8a66cc6b15581c264a35ba4\", element=\"d30eea85-3574-41dd-8f5b-32ca053958d2\")>,\n",
       " <selenium.webdriver.remote.webelement.WebElement (session=\"6aa20650a8a66cc6b15581c264a35ba4\", element=\"c4b3c522-1615-442e-8a30-d081f75da9ad\")>,\n",
       " <selenium.webdriver.remote.webelement.WebElement (session=\"6aa20650a8a66cc6b15581c264a35ba4\", element=\"cfaee1f1-249a-4f57-a271-883fa0b788f0\")>,\n",
       " <selenium.webdriver.remote.webelement.WebElement (session=\"6aa20650a8a66cc6b15581c264a35ba4\", element=\"5c755d81-01eb-46ca-b113-93b90c3caa12\")>,\n",
       " <selenium.webdriver.remote.webelement.WebElement (session=\"6aa20650a8a66cc6b15581c264a35ba4\", element=\"5f59fb9f-5628-45a1-ad58-63e8315efd24\")>,\n",
       " <selenium.webdriver.remote.webelement.WebElement (session=\"6aa20650a8a66cc6b15581c264a35ba4\", element=\"908f33a7-7a95-45d0-a626-16ec8a1cbc88\")>]"
      ]
     },
     "execution_count": 184,
     "metadata": {},
     "output_type": "execute_result"
    }
   ],
   "source": [
    "url=driver.find_elements_by_xpath(\"//nav[@class='yFHi8N']//a\")\n",
    "url"
   ]
  },
  {
   "cell_type": "markdown",
   "metadata": {},
   "source": [
    "Scrape multiple pages URL"
   ]
  },
  {
   "cell_type": "code",
   "execution_count": 185,
   "metadata": {},
   "outputs": [
    {
     "data": {
      "text/plain": [
       "['https://www.flipkart.com/search?q=sneakers&otracker=search&otracker1=search&marketplace=FLIPKART&as-show=on&as=off&page=1',\n",
       " 'https://www.flipkart.com/search?q=sneakers&otracker=search&otracker1=search&marketplace=FLIPKART&as-show=on&as=off&page=2',\n",
       " 'https://www.flipkart.com/search?q=sneakers&otracker=search&otracker1=search&marketplace=FLIPKART&as-show=on&as=off&page=3',\n",
       " 'https://www.flipkart.com/search?q=sneakers&otracker=search&otracker1=search&marketplace=FLIPKART&as-show=on&as=off&page=4',\n",
       " 'https://www.flipkart.com/search?q=sneakers&otracker=search&otracker1=search&marketplace=FLIPKART&as-show=on&as=off&page=5',\n",
       " 'https://www.flipkart.com/search?q=sneakers&otracker=search&otracker1=search&marketplace=FLIPKART&as-show=on&as=off&page=6',\n",
       " 'https://www.flipkart.com/search?q=sneakers&otracker=search&otracker1=search&marketplace=FLIPKART&as-show=on&as=off&page=7',\n",
       " 'https://www.flipkart.com/search?q=sneakers&otracker=search&otracker1=search&marketplace=FLIPKART&as-show=on&as=off&page=8',\n",
       " 'https://www.flipkart.com/search?q=sneakers&otracker=search&otracker1=search&marketplace=FLIPKART&as-show=on&as=off&page=9',\n",
       " 'https://www.flipkart.com/search?q=sneakers&otracker=search&otracker1=search&marketplace=FLIPKART&as-show=on&as=off&page=10',\n",
       " 'https://www.flipkart.com/search?q=sneakers&otracker=search&otracker1=search&marketplace=FLIPKART&as-show=on&as=off&page=2']"
      ]
     },
     "execution_count": 185,
     "metadata": {},
     "output_type": "execute_result"
    }
   ],
   "source": [
    "page_url = []\n",
    "url = driver.find_elements_by_xpath(\"//nav[@class='yFHi8N']//a\")\n",
    "for i in url:\n",
    "    page_url.append(i.get_attribute(\"href\"))\n",
    "page_url"
   ]
  },
  {
   "cell_type": "markdown",
   "metadata": {},
   "source": [
    "Scrape the URL names of multiple pages"
   ]
  },
  {
   "cell_type": "code",
   "execution_count": 231,
   "metadata": {},
   "outputs": [
    {
     "data": {
      "text/plain": [
       "['DUCATI',\n",
       " 'City Soles',\n",
       " 'ASTEROID',\n",
       " 'Chevit',\n",
       " 'Numenzo',\n",
       " 'Magnolia',\n",
       " 'Chevit',\n",
       " 'Numenzo',\n",
       " 'Numenzo',\n",
       " 'BRUTON',\n",
       " 'bluemaker',\n",
       " 'Strollin',\n",
       " 'World Wear Footwear',\n",
       " 'PEHANOSA',\n",
       " 'Chevit',\n",
       " 'DUCATI',\n",
       " 'luxury fashion',\n",
       " 'Chevit',\n",
       " 'believe',\n",
       " 'DUCATI',\n",
       " 'RODDICK SHOES',\n",
       " 'Shoes Bank',\n",
       " 'Robbie jones',\n",
       " 'Chevit',\n",
       " 'Red Rose',\n",
       " 'Chevit',\n",
       " 'Nilatin',\n",
       " 'STRANGER BROTHERS',\n",
       " 'BRUTON',\n",
       " 'SCATCHITE',\n",
       " 'India hub',\n",
       " 'PUMA',\n",
       " 'World Wear Footwear',\n",
       " 'Kraasa',\n",
       " 'SPARX',\n",
       " 'PUMA',\n",
       " 'Nilatin',\n",
       " 'Longwalk',\n",
       " 'Chevit',\n",
       " 'NIKE',\n",
       " 'BIRDE',\n",
       " 'CALCADOS',\n",
       " 'Zorth',\n",
       " 'DUCATI',\n",
       " 'Edoeviv',\n",
       " 'Creer',\n",
       " 'Ktiz',\n",
       " 'City Soles',\n",
       " 'Fzzirok',\n",
       " 'Zsyto',\n",
       " 'India hub',\n",
       " 'Numenzo',\n",
       " 'SPARX',\n",
       " 'World Wear Footwear',\n",
       " 'Ktiz',\n",
       " 'DUCATI',\n",
       " 'D-SNEAKERZ',\n",
       " 'PUMA',\n",
       " 'RED TAPE',\n",
       " 'Strollin',\n",
       " 'Zorth',\n",
       " 'RED TAPE',\n",
       " 'World Wear Footwear',\n",
       " 'BRUTON',\n",
       " 'PUMA',\n",
       " 'SPARX',\n",
       " 'PUMA',\n",
       " 'DUCATI',\n",
       " 'Labbin',\n",
       " 'HOCKWOOD',\n",
       " 'tigonis',\n",
       " 'STRANGER BROTHERS',\n",
       " 'Zixer',\n",
       " 'Edoeviv',\n",
       " 'Jack Diamond',\n",
       " 'Chevit',\n",
       " 'Labbin',\n",
       " 'Robbie jones',\n",
       " 'Chevit',\n",
       " 'BRUTON',\n",
       " 'ROCKFIELD',\n",
       " 'bluemaker',\n",
       " 'ROCKFIELD',\n",
       " 'DUCATI',\n",
       " 'SPARX',\n",
       " 'WRIZT',\n",
       " 'ESSENCE',\n",
       " 'City Soles',\n",
       " 'mannu',\n",
       " 'Bonexy',\n",
       " 'SPARX',\n",
       " 'Numenzo',\n",
       " 'RODDICK SHOES',\n",
       " 'SPARX',\n",
       " 'D-SNEAKERZ',\n",
       " 'DUCATI',\n",
       " 'ESSENCE',\n",
       " 'Robbie jones',\n",
       " 'Magnolia',\n",
       " 'Strollin',\n",
       " 'HOTSTYLE',\n",
       " 'PUMA',\n",
       " 'ORICUM',\n",
       " 'BRUTON',\n",
       " 'HOCKWOOD',\n",
       " 'PUMA',\n",
       " 'PUMA',\n",
       " 'DUCATI',\n",
       " 'PUMA',\n",
       " 'Robbie jones',\n",
       " 'Numenzo',\n",
       " 'Chevit',\n",
       " 'STRANGER BROTHERS',\n",
       " 'PUMA',\n",
       " 'Rising Wolf',\n",
       " 'BRUTON',\n",
       " 'kardam&sons',\n",
       " 'SPARX',\n",
       " 'D-SNEAKERZ',\n",
       " 'PUMA']"
      ]
     },
     "execution_count": 231,
     "metadata": {},
     "output_type": "execute_result"
    }
   ],
   "source": [
    "brand_titles=[]\n",
    "for i in page_url[:3]:\n",
    "    driver.get(i)\n",
    "    brand_tags=driver.find_elements_by_xpath(\"//div[@class='_2WkVRV']\")\n",
    "    for i in brand_tags:\n",
    "        brand_titles.append(i.text)\n",
    "brand_titles"
   ]
  },
  {
   "cell_type": "markdown",
   "metadata": {},
   "source": [
    "Scrape brand information"
   ]
  },
  {
   "cell_type": "code",
   "execution_count": 233,
   "metadata": {},
   "outputs": [
    {
     "data": {
      "text/plain": [
       "['Sneakers For Men',\n",
       " 'Cipramo Canvas Shoes for Men Sneakers For Men',\n",
       " \"Original Luxury Branded Fashionable Men's Casual Walkin...\",\n",
       " 'Unique & Perfect Collection Combo Pack of 02 Shoes for ...',\n",
       " 'Sneakers For Men',\n",
       " 'Sneakers For Men',\n",
       " 'Super Stylish & Trendy Combo Pack of 02 Pairs Sneakers ...',\n",
       " 'Sneakers For Men',\n",
       " 'Sneakers For Men',\n",
       " 'Combo Pack Of 4 Casual Shoes Loafer Shoes Sneakers For ...',\n",
       " 'casual for men (blue 06) Sneakers For Men',\n",
       " 'Sneakers For Men',\n",
       " '5011-Latest Collection Stylish Casual Loafer Sneakers S...',\n",
       " 'Sneakers For Men',\n",
       " '494 Perfect Sports Shoes for Running Training Hikking &...',\n",
       " 'Sneakers For Men',\n",
       " 'Luxury Fashionable casual sneaker shoes Sneakers For Me...',\n",
       " 'Speed Set of 5 Pairs Sneakers Outdoors Casuals for Men ...',\n",
       " 'Sneakers for men(black_6) Sneakers For Men',\n",
       " 'Sneakers For Men',\n",
       " 'Fashion Outdoor Canvas Casual Light Weight Lace-up Even...',\n",
       " \"White Sneaker For Men's/Boy's Sneakers For Men\",\n",
       " 'Sneakers For Men',\n",
       " 'Sneakers For Men',\n",
       " 'Sneakers For Men',\n",
       " 'Perfect & Affordable Combo Pack of 03 Pairs Casual Snea...',\n",
       " 'White Sneaker for Men Sneakers For Men',\n",
       " 'Combo Pack of 4 Casual Sneakers With Sneakers For Men',\n",
       " 'Modern & Trendy Collection Combo Pack of 02 Shoes for M...',\n",
       " 'Sneakers Sneakers For Men',\n",
       " 'Fashionable casual sneakers shoes Sneakers For Men',\n",
       " 'Urban SL Sneakers For Men',\n",
       " 'Men 5014 Latest Collection Stylish Casual Sports Loafer...',\n",
       " 'Series 7 Sneakers For Men',\n",
       " 'SM439G Sneakers For Men',\n",
       " 'MAPF1 X-RAY 2 Sneakers For Men',\n",
       " 'Black Sneaker For Men Sneakers For Men',\n",
       " 'Men Boxer Sneakers For Men',\n",
       " 'Perfect & Affordable Combo Pack of 02 Pairs Sneakers Ou...',\n",
       " 'Court Vision Low Sneakers For Men',\n",
       " 'Combo Pack of 4 Casual Shoes Sneakers For Men',\n",
       " 'Modern Trendy Shoes Combo pack of 4 Sneakers For Men',\n",
       " 'New Fashion Outdoor Trendy Lightweight Casual,Canvas St...',\n",
       " 'Sneakers For Men',\n",
       " \"Original Luxury Branded Fashionable Men's Casual Walkin...\",\n",
       " 'Sneakers For Men',\n",
       " \"White Sneaker For Men's/Boy's Sneakers For Men\",\n",
       " 'Cipramo Canvas Shoes for Men Sneakers For Men',\n",
       " 'Premium quality Sneakers For Men',\n",
       " 'Sneakers For Men',\n",
       " 'Fashionable casual sneakers shoes Sneakers For Men',\n",
       " 'Sneakers For Men',\n",
       " 'Men White Sneakers Sneakers For Men',\n",
       " 'Latest Collection-1227 Stylish Casual Sports Sneakers F...',\n",
       " 'Rockstyle Trending Multicolor Ultralight canvas Sport/ ...',\n",
       " 'Sneakers For Men',\n",
       " \"Casual , Partywear Sneakers Shoes For Men's And Boys Wh...\",\n",
       " 'X-Ray Sneakers For Men',\n",
       " 'Sneakers For Men',\n",
       " 'Sneakers For Men',\n",
       " 'Sneakers For Men',\n",
       " 'Sneakers For Men',\n",
       " 'Sneakers For Men',\n",
       " 'Combo Pack Of 4 Casual Shoes Loafer Shoes Sneakers For ...',\n",
       " 'Puma Smash v2 L Sneakers For Men',\n",
       " 'Canvas Casual Partywear Outdoor Sneakers Shoes For Mens...',\n",
       " 'Puma Rebound LayUp SL Sneakers For Men',\n",
       " 'Sneakers For Men',\n",
       " 'Casual Sneakers White Shoes For Men And Boys Sneakers F...',\n",
       " 'Street Smart Sneakers For Men',\n",
       " 'Sneakers For Men',\n",
       " 'Sneakers For Men',\n",
       " 'Shoes For Boys Dance shoes Sneakers For Men',\n",
       " \"Luxury Branded Fashionable Men's Casual Walking Partywe...\",\n",
       " 'Sneakers For Men',\n",
       " 'Combo Pack of 4 Casual Sneakers With Sneakers For Men',\n",
       " 'Sneakers For Men',\n",
       " 'Casual Sneakers Shoes For Men Sneakers For Men',\n",
       " 'Super 445 Fashion Sneakers For Men',\n",
       " 'Modern & Trendy Collection Combo Pack of 02 Shoes for M...',\n",
       " 'Sneakers For Men',\n",
       " 'casual for men (black 06) Sneakers For Men',\n",
       " 'Sneakers For Men',\n",
       " 'Sneakers For Men',\n",
       " 'SM-162 Sneakers For Men',\n",
       " 'Casual Sneakers,dancing, walking Sneakers For Men',\n",
       " 'Sneakers For Men',\n",
       " 'Cipramo Canvas Shoes for Men Sneakers For Men',\n",
       " 'High-end PU Sneakers Fashion CasualSports comfortable B...',\n",
       " 'Sneakers For Men',\n",
       " 'Casual Sneakers Sneakers For Men',\n",
       " 'Sneakers For Men',\n",
       " 'Fashion Outdoor Canvas Casual Light Weight Lace-up Even...',\n",
       " 'SM-439 Sneakers For Men',\n",
       " \"Casual , Partywear Sneakers Shoes For Men's And Boys Re...\",\n",
       " 'Sneakers For Men',\n",
       " 'Trendy Sneakers For Men',\n",
       " 'Casual Sneakers White Shoes For Men And Boys Sneakers F...',\n",
       " 'White Sneakers Sneakers For Men',\n",
       " 'Sneakers For Men',\n",
       " 'Sneakers Sneakers For Men',\n",
       " 'Simha IDP Sneakers For Men',\n",
       " 'Combo pack of 2 casual sneaker shoes for men Sneakers F...',\n",
       " 'Combo Pack Of 4 Casual Shoes Loafer Shoes Sneakers For ...',\n",
       " 'Street Smart Sneakers For Men',\n",
       " 'Rigel IDP Sneakers For Men',\n",
       " 'Max IDP Sneakers For Men',\n",
       " 'Sneakers For Men',\n",
       " 'Poise Perf V1 IDP Sneakers For Men',\n",
       " 'Casual Sneakers Shoes For Men Sneakers For Men',\n",
       " 'Sneakers For Men',\n",
       " 'Combo Pack of 4 Casual Sneakers With Sneakers For Men',\n",
       " 'Sneakers For Men',\n",
       " 'Flex Renew SlipOn Sneakers For Men',\n",
       " 'Sneakers For Men',\n",
       " 'Modern & Trendy Collection Combo Pack of 02 Shoes for M...',\n",
       " 'Fashionable casual sneaker shoes Sneakers For Men',\n",
       " 'SM-482 Sneakers For Men',\n",
       " \"Casual , Partywear Sneakers Shoes For Men's And Boys Wh...\",\n",
       " 'Urban SL Sneakers For Men']"
      ]
     },
     "execution_count": 233,
     "metadata": {},
     "output_type": "execute_result"
    }
   ],
   "source": [
    "description_names=[]\n",
    "for i in page_url[:3]:\n",
    "    driver.get(i)\n",
    "    description_tags=driver.find_elements_by_xpath(\"//div[@class='_2B099V']//a[1]\")\n",
    "    for i in description_tags:\n",
    "        description_names.append(i.text)\n",
    "description_names\n"
   ]
  },
  {
   "cell_type": "markdown",
   "metadata": {},
   "source": [
    "Scrape description names"
   ]
  },
  {
   "cell_type": "code",
   "execution_count": 236,
   "metadata": {},
   "outputs": [
    {
     "data": {
      "text/plain": [
       "['₹1,289',\n",
       " '₹630',\n",
       " '₹499',\n",
       " '₹420',\n",
       " '₹426',\n",
       " '₹356',\n",
       " '₹536',\n",
       " '₹426',\n",
       " '₹378',\n",
       " '₹399',\n",
       " '₹399',\n",
       " '₹399',\n",
       " '₹240',\n",
       " '₹399',\n",
       " '₹254',\n",
       " '₹1,259',\n",
       " '₹399',\n",
       " '₹679',\n",
       " '₹399',\n",
       " '₹1,209',\n",
       " '₹474',\n",
       " '₹331',\n",
       " '₹474',\n",
       " '₹424',\n",
       " '₹299',\n",
       " '₹594',\n",
       " '₹407',\n",
       " '₹449',\n",
       " '₹499',\n",
       " '₹398',\n",
       " '₹449',\n",
       " '₹1,614',\n",
       " '₹240',\n",
       " '₹416',\n",
       " '₹625',\n",
       " '₹3,690',\n",
       " '₹426',\n",
       " '₹260',\n",
       " '₹447',\n",
       " '₹499',\n",
       " '₹748',\n",
       " '₹450',\n",
       " '₹624',\n",
       " '₹1,289',\n",
       " '₹398',\n",
       " '₹474',\n",
       " '₹384',\n",
       " '₹630',\n",
       " '₹378',\n",
       " '₹625',\n",
       " '₹240',\n",
       " '₹426',\n",
       " '₹360',\n",
       " '₹449',\n",
       " '₹2,730',\n",
       " '₹399',\n",
       " '₹348',\n",
       " '₹429',\n",
       " '₹1,049',\n",
       " '₹1,259',\n",
       " '₹1,049',\n",
       " '₹439',\n",
       " '₹1,470',\n",
       " '₹399',\n",
       " '₹240',\n",
       " '₹629',\n",
       " '₹2,899',\n",
       " '₹399',\n",
       " '₹399',\n",
       " '₹674',\n",
       " '₹359',\n",
       " '₹1,209',\n",
       " '₹555',\n",
       " '₹449',\n",
       " '₹635',\n",
       " '₹449',\n",
       " '₹379',\n",
       " '₹449',\n",
       " '₹348',\n",
       " '₹424',\n",
       " '₹279',\n",
       " '₹379',\n",
       " '₹399',\n",
       " '₹1,289',\n",
       " '₹299',\n",
       " '₹946',\n",
       " '₹424',\n",
       " '₹630',\n",
       " '₹378',\n",
       " '₹353',\n",
       " '₹625',\n",
       " '₹426',\n",
       " '₹399',\n",
       " '₹346',\n",
       " '₹353',\n",
       " '₹1,259',\n",
       " '₹1,330',\n",
       " '₹499',\n",
       " '₹474',\n",
       " '₹399',\n",
       " '₹1,047',\n",
       " '₹311',\n",
       " '₹1,115',\n",
       " '₹399',\n",
       " '₹398',\n",
       " '₹267',\n",
       " '₹692',\n",
       " '₹1,209',\n",
       " '₹407',\n",
       " '₹1,322',\n",
       " '₹474',\n",
       " '₹424',\n",
       " '₹449',\n",
       " '₹449',\n",
       " '₹485',\n",
       " '₹499',\n",
       " '₹1,646',\n",
       " '₹384',\n",
       " '₹378',\n",
       " '₹1,614']"
      ]
     },
     "execution_count": 236,
     "metadata": {},
     "output_type": "execute_result"
    }
   ],
   "source": [
    "prise_cost=[]\n",
    "for i in page_url[:3]:\n",
    "    driver.get(i)\n",
    "    prise_tags=driver.find_elements_by_xpath(\"//div[@class='_30jeq3']\")\n",
    "    for i in prise_tags:\n",
    "        prise_cost.append(i.text)\n",
    "prise_cost"
   ]
  },
  {
   "cell_type": "markdown",
   "metadata": {},
   "source": [
    "Scrape prise information"
   ]
  },
  {
   "cell_type": "code",
   "execution_count": 238,
   "metadata": {},
   "outputs": [
    {
     "data": {
      "text/plain": [
       "['65% off',\n",
       " '36% off',\n",
       " '75% off',\n",
       " '71% off',\n",
       " '64% off',\n",
       " '78% off',\n",
       " '66% off',\n",
       " '78% off',\n",
       " '88% off',\n",
       " '62% off',\n",
       " '60% off',\n",
       " '60% off',\n",
       " '60% off',\n",
       " '51% off',\n",
       " '74% off',\n",
       " '65% off',\n",
       " '69% off',\n",
       " '60% off',\n",
       " '52% off',\n",
       " '68% off',\n",
       " '66% off',\n",
       " '72% off',\n",
       " '52% off',\n",
       " '55% off',\n",
       " '70% off',\n",
       " '77% off',\n",
       " '68% off',\n",
       " '78% off',\n",
       " '60% off',\n",
       " '80% off',\n",
       " '51% off',\n",
       " '57% off',\n",
       " '85% off',\n",
       " '10% off',\n",
       " '67% off',\n",
       " '53% off',\n",
       " '58% off',\n",
       " '47% off',\n",
       " '75% off',\n",
       " '41% off',\n",
       " '62% off',\n",
       " '54% off',\n",
       " '68% off',\n",
       " '65% off',\n",
       " '60% off',\n",
       " '40% off',\n",
       " '61% off',\n",
       " '36% off',\n",
       " '70% off',\n",
       " '16% off',\n",
       " '51% off',\n",
       " '78% off',\n",
       " '63% off',\n",
       " '85% off',\n",
       " '57% off',\n",
       " '65% off',\n",
       " '47% off',\n",
       " '66% off',\n",
       " '77% off',\n",
       " '60% off',\n",
       " '77% off',\n",
       " '56% off',\n",
       " '57% off',\n",
       " '88% off',\n",
       " '51% off',\n",
       " '16% off',\n",
       " '42% off',\n",
       " '68% off',\n",
       " '60% off',\n",
       " '32% off',\n",
       " '80% off',\n",
       " '55% off',\n",
       " '44% off',\n",
       " '55% off',\n",
       " '36% off',\n",
       " '78% off',\n",
       " '62% off',\n",
       " '55% off',\n",
       " '30% off',\n",
       " '80% off',\n",
       " '72% off',\n",
       " '62% off',\n",
       " '69% off',\n",
       " '65% off',\n",
       " '70% off',\n",
       " '23% off',\n",
       " '57% off',\n",
       " '36% off',\n",
       " '62% off',\n",
       " '64% off',\n",
       " '10% off',\n",
       " '78% off',\n",
       " '60% off',\n",
       " '65% off',\n",
       " '64% off',\n",
       " '69% off',\n",
       " '61% off',\n",
       " '50% off',\n",
       " '52% off',\n",
       " '65% off',\n",
       " '62% off',\n",
       " '68% off',\n",
       " '62% off',\n",
       " '60% off',\n",
       " '60% off',\n",
       " '46% off',\n",
       " '30% off',\n",
       " '88% off',\n",
       " '59% off',\n",
       " '66% off',\n",
       " '52% off',\n",
       " '68% off',\n",
       " '55% off',\n",
       " '77% off',\n",
       " '69% off',\n",
       " '78% off',\n",
       " '52% off',\n",
       " '61% off',\n",
       " '70% off',\n",
       " '80% off']"
      ]
     },
     "execution_count": 238,
     "metadata": {},
     "output_type": "execute_result"
    }
   ],
   "source": [
    "discount_cost=[]\n",
    "for i in page_url[:3]:\n",
    "    driver.get(i)\n",
    "    discount_tags=driver.find_elements_by_xpath(\"//div[@class='_3Ay6Sb']//span\")\n",
    "    for i in discount_tags:\n",
    "        discount_cost.append(i.text)\n",
    "discount_cost"
   ]
  },
  {
   "cell_type": "markdown",
   "metadata": {},
   "source": [
    "Scrape discount information"
   ]
  },
  {
   "cell_type": "code",
   "execution_count": 240,
   "metadata": {},
   "outputs": [],
   "source": [
    "jobs=pd.DataFrame({})\n",
    "jobs['brand_titles']=brand_titles\n",
    "jobs['description_names']=description_names\n",
    "jobs['prise_cost']=prise_cost\n",
    "jobs['discount_cost']=discount_cost"
   ]
  },
  {
   "cell_type": "code",
   "execution_count": 241,
   "metadata": {},
   "outputs": [
    {
     "data": {
      "text/html": [
       "<div>\n",
       "<style scoped>\n",
       "    .dataframe tbody tr th:only-of-type {\n",
       "        vertical-align: middle;\n",
       "    }\n",
       "\n",
       "    .dataframe tbody tr th {\n",
       "        vertical-align: top;\n",
       "    }\n",
       "\n",
       "    .dataframe thead th {\n",
       "        text-align: right;\n",
       "    }\n",
       "</style>\n",
       "<table border=\"1\" class=\"dataframe\">\n",
       "  <thead>\n",
       "    <tr style=\"text-align: right;\">\n",
       "      <th></th>\n",
       "      <th>brand_titles</th>\n",
       "      <th>description_names</th>\n",
       "      <th>prise_cost</th>\n",
       "      <th>discount_cost</th>\n",
       "    </tr>\n",
       "  </thead>\n",
       "  <tbody>\n",
       "    <tr>\n",
       "      <th>0</th>\n",
       "      <td>DUCATI</td>\n",
       "      <td>Sneakers For Men</td>\n",
       "      <td>₹1,289</td>\n",
       "      <td>65% off</td>\n",
       "    </tr>\n",
       "    <tr>\n",
       "      <th>1</th>\n",
       "      <td>City Soles</td>\n",
       "      <td>Cipramo Canvas Shoes for Men Sneakers For Men</td>\n",
       "      <td>₹630</td>\n",
       "      <td>36% off</td>\n",
       "    </tr>\n",
       "    <tr>\n",
       "      <th>2</th>\n",
       "      <td>ASTEROID</td>\n",
       "      <td>Original Luxury Branded Fashionable Men's Casu...</td>\n",
       "      <td>₹499</td>\n",
       "      <td>75% off</td>\n",
       "    </tr>\n",
       "    <tr>\n",
       "      <th>3</th>\n",
       "      <td>Chevit</td>\n",
       "      <td>Unique &amp; Perfect Collection Combo Pack of 02 S...</td>\n",
       "      <td>₹420</td>\n",
       "      <td>71% off</td>\n",
       "    </tr>\n",
       "    <tr>\n",
       "      <th>4</th>\n",
       "      <td>Numenzo</td>\n",
       "      <td>Sneakers For Men</td>\n",
       "      <td>₹426</td>\n",
       "      <td>64% off</td>\n",
       "    </tr>\n",
       "    <tr>\n",
       "      <th>...</th>\n",
       "      <td>...</td>\n",
       "      <td>...</td>\n",
       "      <td>...</td>\n",
       "      <td>...</td>\n",
       "    </tr>\n",
       "    <tr>\n",
       "      <th>115</th>\n",
       "      <td>BRUTON</td>\n",
       "      <td>Modern &amp; Trendy Collection Combo Pack of 02 Sh...</td>\n",
       "      <td>₹499</td>\n",
       "      <td>78% off</td>\n",
       "    </tr>\n",
       "    <tr>\n",
       "      <th>116</th>\n",
       "      <td>kardam&amp;sons</td>\n",
       "      <td>Fashionable casual sneaker shoes Sneakers For Men</td>\n",
       "      <td>₹1,646</td>\n",
       "      <td>52% off</td>\n",
       "    </tr>\n",
       "    <tr>\n",
       "      <th>117</th>\n",
       "      <td>SPARX</td>\n",
       "      <td>SM-482 Sneakers For Men</td>\n",
       "      <td>₹384</td>\n",
       "      <td>61% off</td>\n",
       "    </tr>\n",
       "    <tr>\n",
       "      <th>118</th>\n",
       "      <td>D-SNEAKERZ</td>\n",
       "      <td>Casual , Partywear Sneakers Shoes For Men's An...</td>\n",
       "      <td>₹378</td>\n",
       "      <td>70% off</td>\n",
       "    </tr>\n",
       "    <tr>\n",
       "      <th>119</th>\n",
       "      <td>PUMA</td>\n",
       "      <td>Urban SL Sneakers For Men</td>\n",
       "      <td>₹1,614</td>\n",
       "      <td>80% off</td>\n",
       "    </tr>\n",
       "  </tbody>\n",
       "</table>\n",
       "<p>120 rows × 4 columns</p>\n",
       "</div>"
      ],
      "text/plain": [
       "    brand_titles                                  description_names  \\\n",
       "0         DUCATI                                   Sneakers For Men   \n",
       "1     City Soles      Cipramo Canvas Shoes for Men Sneakers For Men   \n",
       "2       ASTEROID  Original Luxury Branded Fashionable Men's Casu...   \n",
       "3         Chevit  Unique & Perfect Collection Combo Pack of 02 S...   \n",
       "4        Numenzo                                   Sneakers For Men   \n",
       "..           ...                                                ...   \n",
       "115       BRUTON  Modern & Trendy Collection Combo Pack of 02 Sh...   \n",
       "116  kardam&sons  Fashionable casual sneaker shoes Sneakers For Men   \n",
       "117        SPARX                            SM-482 Sneakers For Men   \n",
       "118   D-SNEAKERZ  Casual , Partywear Sneakers Shoes For Men's An...   \n",
       "119         PUMA                          Urban SL Sneakers For Men   \n",
       "\n",
       "    prise_cost discount_cost  \n",
       "0       ₹1,289       65% off  \n",
       "1         ₹630       36% off  \n",
       "2         ₹499       75% off  \n",
       "3         ₹420       71% off  \n",
       "4         ₹426       64% off  \n",
       "..         ...           ...  \n",
       "115       ₹499       78% off  \n",
       "116     ₹1,646       52% off  \n",
       "117       ₹384       61% off  \n",
       "118       ₹378       70% off  \n",
       "119     ₹1,614       80% off  \n",
       "\n",
       "[120 rows x 4 columns]"
      ]
     },
     "execution_count": 241,
     "metadata": {},
     "output_type": "execute_result"
    }
   ],
   "source": [
    "jobs"
   ]
  },
  {
   "cell_type": "markdown",
   "metadata": {},
   "source": [
    "Create dataframe of the data"
   ]
  },
  {
   "cell_type": "markdown",
   "metadata": {},
   "source": []
  },
  {
   "cell_type": "markdown",
   "metadata": {},
   "source": [
    "Q9: Go to the link - https://www.myntra.com/shoes\n",
    "Set Price filter to “Rs. 6649 to Rs. 13099” , Color filter to “Black”, as shown in \n",
    "the below image"
   ]
  },
  {
   "cell_type": "code",
   "execution_count": 422,
   "metadata": {},
   "outputs": [],
   "source": [
    "driver = webdriver.Chrome(r\"C:\\Users\\Ankita\\Downloads\\chromedriver_win32\\chromedriver.exe\")"
   ]
  },
  {
   "cell_type": "markdown",
   "metadata": {},
   "source": [
    "Chromee driver path"
   ]
  },
  {
   "cell_type": "code",
   "execution_count": 423,
   "metadata": {},
   "outputs": [],
   "source": [
    "url = 'https://www.myntra.com/shoes'\n",
    "driver.get(url)"
   ]
  },
  {
   "cell_type": "markdown",
   "metadata": {},
   "source": [
    "Enter myntra.com URL"
   ]
  },
  {
   "cell_type": "code",
   "execution_count": 424,
   "metadata": {},
   "outputs": [],
   "source": [
    "prise_filter = driver.find_element_by_xpath('/html/body/div[2]/div/div[1]/main/div[3]/div[1]/section/div/div[5]/ul/li[2]/label/div')\n",
    "prise_filter.click()"
   ]
  },
  {
   "cell_type": "markdown",
   "metadata": {},
   "source": [
    "Select prise rage filter"
   ]
  },
  {
   "cell_type": "code",
   "execution_count": 425,
   "metadata": {},
   "outputs": [],
   "source": [
    "color_filter = driver.find_element_by_xpath('/html/body/div[2]/div/div[1]/main/div[3]/div[1]/section/div/div[6]/ul/li[1]/label/div')\n",
    "color_filter.click()"
   ]
  },
  {
   "cell_type": "markdown",
   "metadata": {},
   "source": [
    "Select color filter"
   ]
  },
  {
   "cell_type": "code",
   "execution_count": 426,
   "metadata": {},
   "outputs": [
    {
     "data": {
      "text/plain": [
       "[<selenium.webdriver.remote.webelement.WebElement (session=\"a810f16f573ed66cad33102df8d3c198\", element=\"f627505a-dac3-4451-a1fe-2a91296bad2c\")>,\n",
       " <selenium.webdriver.remote.webelement.WebElement (session=\"a810f16f573ed66cad33102df8d3c198\", element=\"27091de0-d361-4e8b-8460-1027363075ba\")>,\n",
       " <selenium.webdriver.remote.webelement.WebElement (session=\"a810f16f573ed66cad33102df8d3c198\", element=\"154849ce-e46e-4d21-8296-381e8a3308b2\")>,\n",
       " <selenium.webdriver.remote.webelement.WebElement (session=\"a810f16f573ed66cad33102df8d3c198\", element=\"829b7d73-366c-4e55-b52b-08882595f2a2\")>,\n",
       " <selenium.webdriver.remote.webelement.WebElement (session=\"a810f16f573ed66cad33102df8d3c198\", element=\"3752db5e-f51b-4317-a8a4-4eb8afc24799\")>,\n",
       " <selenium.webdriver.remote.webelement.WebElement (session=\"a810f16f573ed66cad33102df8d3c198\", element=\"3e9f2fea-3de8-4e03-b5f1-b2e5f069a2b2\")>,\n",
       " <selenium.webdriver.remote.webelement.WebElement (session=\"a810f16f573ed66cad33102df8d3c198\", element=\"29d374e6-b7f3-4a74-a5e3-071894ed6375\")>,\n",
       " <selenium.webdriver.remote.webelement.WebElement (session=\"a810f16f573ed66cad33102df8d3c198\", element=\"589642be-8bd5-48d2-a2e2-e9af1b457e3d\")>,\n",
       " <selenium.webdriver.remote.webelement.WebElement (session=\"a810f16f573ed66cad33102df8d3c198\", element=\"530392d5-c238-45b7-99b4-8c0770a7c8e2\")>,\n",
       " <selenium.webdriver.remote.webelement.WebElement (session=\"a810f16f573ed66cad33102df8d3c198\", element=\"2a1fdbf0-0e3f-40ac-ae63-ea2c65d8b8ef\")>,\n",
       " <selenium.webdriver.remote.webelement.WebElement (session=\"a810f16f573ed66cad33102df8d3c198\", element=\"73244fe2-8a25-46ec-9c1c-a30cc69d9c44\")>,\n",
       " <selenium.webdriver.remote.webelement.WebElement (session=\"a810f16f573ed66cad33102df8d3c198\", element=\"dbb9375f-defe-4e18-9e2c-b20d59ea6a78\")>,\n",
       " <selenium.webdriver.remote.webelement.WebElement (session=\"a810f16f573ed66cad33102df8d3c198\", element=\"c1dd55d5-1c44-46fa-9ada-411995ed1e0f\")>,\n",
       " <selenium.webdriver.remote.webelement.WebElement (session=\"a810f16f573ed66cad33102df8d3c198\", element=\"25b71997-520b-4143-8a23-37ea04936673\")>,\n",
       " <selenium.webdriver.remote.webelement.WebElement (session=\"a810f16f573ed66cad33102df8d3c198\", element=\"f6aaa835-cb9f-401f-9b2a-1061106743ca\")>,\n",
       " <selenium.webdriver.remote.webelement.WebElement (session=\"a810f16f573ed66cad33102df8d3c198\", element=\"66a775e0-fa7a-4560-8cce-f853f7ebc3e1\")>,\n",
       " <selenium.webdriver.remote.webelement.WebElement (session=\"a810f16f573ed66cad33102df8d3c198\", element=\"5ee38692-db00-48f4-992d-d00f3e4dd61d\")>,\n",
       " <selenium.webdriver.remote.webelement.WebElement (session=\"a810f16f573ed66cad33102df8d3c198\", element=\"fddb621f-7d21-4b22-8473-0004074891c8\")>,\n",
       " <selenium.webdriver.remote.webelement.WebElement (session=\"a810f16f573ed66cad33102df8d3c198\", element=\"18fd092b-3ebb-4ecf-bd53-4b934df6f8b1\")>,\n",
       " <selenium.webdriver.remote.webelement.WebElement (session=\"a810f16f573ed66cad33102df8d3c198\", element=\"4824da10-e518-4f62-af62-bedbbc5fe72c\")>,\n",
       " <selenium.webdriver.remote.webelement.WebElement (session=\"a810f16f573ed66cad33102df8d3c198\", element=\"c366457e-fa5f-433b-a464-529147243e0b\")>,\n",
       " <selenium.webdriver.remote.webelement.WebElement (session=\"a810f16f573ed66cad33102df8d3c198\", element=\"a1fbded7-bc05-4428-bf1f-b79ae08a8676\")>,\n",
       " <selenium.webdriver.remote.webelement.WebElement (session=\"a810f16f573ed66cad33102df8d3c198\", element=\"2caf2dbf-830d-4f8f-95ab-93992ad18678\")>,\n",
       " <selenium.webdriver.remote.webelement.WebElement (session=\"a810f16f573ed66cad33102df8d3c198\", element=\"59ec12bd-3228-4ce5-be8e-eda690ee8c48\")>,\n",
       " <selenium.webdriver.remote.webelement.WebElement (session=\"a810f16f573ed66cad33102df8d3c198\", element=\"3c9f097b-4102-4bf0-bed7-89acb9b91028\")>,\n",
       " <selenium.webdriver.remote.webelement.WebElement (session=\"a810f16f573ed66cad33102df8d3c198\", element=\"829ebd98-ba25-4333-88ce-e6e38541f2fe\")>,\n",
       " <selenium.webdriver.remote.webelement.WebElement (session=\"a810f16f573ed66cad33102df8d3c198\", element=\"56ac8697-683a-4ac2-ac9e-0c2eab52920f\")>,\n",
       " <selenium.webdriver.remote.webelement.WebElement (session=\"a810f16f573ed66cad33102df8d3c198\", element=\"285226bb-1b27-45f5-87df-f27cd4a76ad7\")>,\n",
       " <selenium.webdriver.remote.webelement.WebElement (session=\"a810f16f573ed66cad33102df8d3c198\", element=\"edfeb1e1-8f3d-4038-8b30-d08d7f17e4a4\")>,\n",
       " <selenium.webdriver.remote.webelement.WebElement (session=\"a810f16f573ed66cad33102df8d3c198\", element=\"e6cf7917-8e6c-4618-8189-fe0d1b931656\")>,\n",
       " <selenium.webdriver.remote.webelement.WebElement (session=\"a810f16f573ed66cad33102df8d3c198\", element=\"2931f590-1eeb-4e34-a3ca-003c082b3fa4\")>,\n",
       " <selenium.webdriver.remote.webelement.WebElement (session=\"a810f16f573ed66cad33102df8d3c198\", element=\"aabda3fd-49cd-4633-b107-f07dd3fd5e9a\")>,\n",
       " <selenium.webdriver.remote.webelement.WebElement (session=\"a810f16f573ed66cad33102df8d3c198\", element=\"af68a5e5-a70a-4310-8e18-fedddf8b4a20\")>,\n",
       " <selenium.webdriver.remote.webelement.WebElement (session=\"a810f16f573ed66cad33102df8d3c198\", element=\"54614419-5030-4aad-925b-b5b5f73c44bc\")>,\n",
       " <selenium.webdriver.remote.webelement.WebElement (session=\"a810f16f573ed66cad33102df8d3c198\", element=\"33d9c1ae-63dc-4776-8a37-da367ba2fcb9\")>,\n",
       " <selenium.webdriver.remote.webelement.WebElement (session=\"a810f16f573ed66cad33102df8d3c198\", element=\"0917bf93-42db-452f-9b73-dd164ee969d9\")>,\n",
       " <selenium.webdriver.remote.webelement.WebElement (session=\"a810f16f573ed66cad33102df8d3c198\", element=\"0da75a5d-fcc8-440b-97ec-7272ac71c689\")>,\n",
       " <selenium.webdriver.remote.webelement.WebElement (session=\"a810f16f573ed66cad33102df8d3c198\", element=\"c7c46da9-b147-44da-ae5c-ccdca5908dc9\")>,\n",
       " <selenium.webdriver.remote.webelement.WebElement (session=\"a810f16f573ed66cad33102df8d3c198\", element=\"ee184252-1b41-4091-8fce-95b194039bb8\")>,\n",
       " <selenium.webdriver.remote.webelement.WebElement (session=\"a810f16f573ed66cad33102df8d3c198\", element=\"72a5fdbf-ba35-41e6-a4ef-3d12e6ae6dc4\")>,\n",
       " <selenium.webdriver.remote.webelement.WebElement (session=\"a810f16f573ed66cad33102df8d3c198\", element=\"f9711a77-d651-4167-9c60-73c981c89347\")>,\n",
       " <selenium.webdriver.remote.webelement.WebElement (session=\"a810f16f573ed66cad33102df8d3c198\", element=\"a524c1d4-d941-485a-ace7-8e996b7dc11a\")>,\n",
       " <selenium.webdriver.remote.webelement.WebElement (session=\"a810f16f573ed66cad33102df8d3c198\", element=\"a023dec2-6c39-4de6-9693-6526e2ef013f\")>,\n",
       " <selenium.webdriver.remote.webelement.WebElement (session=\"a810f16f573ed66cad33102df8d3c198\", element=\"35d4809e-fc19-4e99-b078-4cfc2c208ccf\")>,\n",
       " <selenium.webdriver.remote.webelement.WebElement (session=\"a810f16f573ed66cad33102df8d3c198\", element=\"c2cd3b66-8fca-4989-a731-ecba7d5a4191\")>,\n",
       " <selenium.webdriver.remote.webelement.WebElement (session=\"a810f16f573ed66cad33102df8d3c198\", element=\"92b12188-3434-4134-b33a-13d8de73e667\")>,\n",
       " <selenium.webdriver.remote.webelement.WebElement (session=\"a810f16f573ed66cad33102df8d3c198\", element=\"e2dc5fe5-2dff-4534-bf6e-e96df2a5a6d8\")>,\n",
       " <selenium.webdriver.remote.webelement.WebElement (session=\"a810f16f573ed66cad33102df8d3c198\", element=\"519dd6c3-d576-4b91-90ee-d7a4675cefaa\")>,\n",
       " <selenium.webdriver.remote.webelement.WebElement (session=\"a810f16f573ed66cad33102df8d3c198\", element=\"37cc4135-14fa-4f08-b094-250b4e6ee200\")>,\n",
       " <selenium.webdriver.remote.webelement.WebElement (session=\"a810f16f573ed66cad33102df8d3c198\", element=\"3a7cb4fb-0cc2-4ab2-b046-f13ebbb1c288\")>]"
      ]
     },
     "execution_count": 426,
     "metadata": {},
     "output_type": "execute_result"
    }
   ],
   "source": [
    "brand_tags=driver.find_elements_by_xpath(\"//li[@class='product-base']//h3[1]\")\n",
    "brand_tags"
   ]
  },
  {
   "cell_type": "code",
   "execution_count": 427,
   "metadata": {},
   "outputs": [
    {
     "data": {
      "text/plain": [
       "['ALDO',\n",
       " 'Nike',\n",
       " 'UNDER ARMOUR',\n",
       " 'Puma',\n",
       " 'UNDER ARMOUR',\n",
       " 'UNDER ARMOUR',\n",
       " 'UNDER ARMOUR',\n",
       " 'Geox',\n",
       " 'UNDER ARMOUR',\n",
       " 'UNDER ARMOUR',\n",
       " 'ADIDAS',\n",
       " 'UNDER ARMOUR',\n",
       " 'UNDER ARMOUR',\n",
       " 'Puma',\n",
       " 'Puma',\n",
       " 'UNDER ARMOUR',\n",
       " 'UNDER ARMOUR',\n",
       " 'UNDER ARMOUR',\n",
       " 'UNDER ARMOUR',\n",
       " 'Puma',\n",
       " 'UNDER ARMOUR',\n",
       " 'UNDER ARMOUR',\n",
       " 'UNDER ARMOUR',\n",
       " 'Hush Puppies',\n",
       " 'Hush Puppies',\n",
       " 'FORCLAZ By Decathlon',\n",
       " 'Geox',\n",
       " 'PUMA Hoops',\n",
       " 'UNDER ARMOUR',\n",
       " 'RARE RABBIT',\n",
       " 'Hush Puppies',\n",
       " 'Geox',\n",
       " 'Geox',\n",
       " 'Quechua By Decathlon',\n",
       " 'Geox',\n",
       " 'Cole Haan',\n",
       " 'Geox',\n",
       " 'Geox',\n",
       " 'RARE RABBIT',\n",
       " 'Geox',\n",
       " 'UNDER ARMOUR',\n",
       " 'Puma',\n",
       " 'PUMA Hoops',\n",
       " 'Puma',\n",
       " 'UNDER ARMOUR',\n",
       " 'Geox',\n",
       " 'Geox',\n",
       " 'J.FONTINI',\n",
       " 'Geox',\n",
       " 'Cole Haan']"
      ]
     },
     "execution_count": 427,
     "metadata": {},
     "output_type": "execute_result"
    }
   ],
   "source": [
    "brand_titles=[]\n",
    "for i in brand_tags:\n",
    "    brand_titles.append(i.text)\n",
    "brand_titles"
   ]
  },
  {
   "cell_type": "markdown",
   "metadata": {},
   "source": [
    "Scrape the brand names"
   ]
  },
  {
   "cell_type": "code",
   "execution_count": 428,
   "metadata": {},
   "outputs": [
    {
     "name": "stdout",
     "output_type": "stream",
     "text": [
      "50\n"
     ]
    }
   ],
   "source": [
    "print(len(brand_titles))"
   ]
  },
  {
   "cell_type": "code",
   "execution_count": 429,
   "metadata": {},
   "outputs": [
    {
     "data": {
      "text/plain": [
       "[<selenium.webdriver.remote.webelement.WebElement (session=\"a810f16f573ed66cad33102df8d3c198\", element=\"7815d8e8-ca6f-42a4-981f-cd70d4c38e5a\")>,\n",
       " <selenium.webdriver.remote.webelement.WebElement (session=\"a810f16f573ed66cad33102df8d3c198\", element=\"44e90e28-37e1-4581-9012-1e8389a4f930\")>,\n",
       " <selenium.webdriver.remote.webelement.WebElement (session=\"a810f16f573ed66cad33102df8d3c198\", element=\"186c3e1e-9b20-4c1c-9c64-4738ab7aae04\")>,\n",
       " <selenium.webdriver.remote.webelement.WebElement (session=\"a810f16f573ed66cad33102df8d3c198\", element=\"0238caf7-308e-408a-833c-597aef5a83d2\")>,\n",
       " <selenium.webdriver.remote.webelement.WebElement (session=\"a810f16f573ed66cad33102df8d3c198\", element=\"02ba45f7-315f-4937-887c-3cd1f2634255\")>,\n",
       " <selenium.webdriver.remote.webelement.WebElement (session=\"a810f16f573ed66cad33102df8d3c198\", element=\"eb7bb5a7-540d-447b-a068-a5d2e59e716e\")>,\n",
       " <selenium.webdriver.remote.webelement.WebElement (session=\"a810f16f573ed66cad33102df8d3c198\", element=\"2dcf4fd3-73b5-4674-9fd6-e9f7d9a3607b\")>,\n",
       " <selenium.webdriver.remote.webelement.WebElement (session=\"a810f16f573ed66cad33102df8d3c198\", element=\"1138cf37-0f66-444e-9262-352a20199499\")>,\n",
       " <selenium.webdriver.remote.webelement.WebElement (session=\"a810f16f573ed66cad33102df8d3c198\", element=\"3857a068-449f-4986-b210-f8c781491101\")>,\n",
       " <selenium.webdriver.remote.webelement.WebElement (session=\"a810f16f573ed66cad33102df8d3c198\", element=\"756972cd-9bc2-4a15-b9f5-9876c77cf847\")>,\n",
       " <selenium.webdriver.remote.webelement.WebElement (session=\"a810f16f573ed66cad33102df8d3c198\", element=\"40d44ca8-b676-4b18-b43d-2bd9317e6971\")>,\n",
       " <selenium.webdriver.remote.webelement.WebElement (session=\"a810f16f573ed66cad33102df8d3c198\", element=\"13ad3887-7db9-4084-88da-5ad564c0f03f\")>,\n",
       " <selenium.webdriver.remote.webelement.WebElement (session=\"a810f16f573ed66cad33102df8d3c198\", element=\"abf2603b-5296-422b-a6a2-9d1e1b639efb\")>,\n",
       " <selenium.webdriver.remote.webelement.WebElement (session=\"a810f16f573ed66cad33102df8d3c198\", element=\"51a1c747-3020-44fa-ad5b-c162c54375a7\")>,\n",
       " <selenium.webdriver.remote.webelement.WebElement (session=\"a810f16f573ed66cad33102df8d3c198\", element=\"991ae84f-cb40-4468-af17-0761d47b5621\")>,\n",
       " <selenium.webdriver.remote.webelement.WebElement (session=\"a810f16f573ed66cad33102df8d3c198\", element=\"4bee66d4-bb01-4f30-8301-f7ae54b2ec62\")>,\n",
       " <selenium.webdriver.remote.webelement.WebElement (session=\"a810f16f573ed66cad33102df8d3c198\", element=\"82c3dce2-8fdc-4445-a82b-15b89001cd4a\")>,\n",
       " <selenium.webdriver.remote.webelement.WebElement (session=\"a810f16f573ed66cad33102df8d3c198\", element=\"37e9e6f7-4952-48c6-b034-023330aeec47\")>,\n",
       " <selenium.webdriver.remote.webelement.WebElement (session=\"a810f16f573ed66cad33102df8d3c198\", element=\"5a146411-f2cc-452c-a84b-2c2b8decc80e\")>,\n",
       " <selenium.webdriver.remote.webelement.WebElement (session=\"a810f16f573ed66cad33102df8d3c198\", element=\"efb52743-e804-48e4-981d-58e18821121c\")>,\n",
       " <selenium.webdriver.remote.webelement.WebElement (session=\"a810f16f573ed66cad33102df8d3c198\", element=\"9889d186-6db6-493b-ae72-b9bb6bbb374d\")>,\n",
       " <selenium.webdriver.remote.webelement.WebElement (session=\"a810f16f573ed66cad33102df8d3c198\", element=\"cd6ce019-639e-4c9c-88a8-cd08801ebc98\")>,\n",
       " <selenium.webdriver.remote.webelement.WebElement (session=\"a810f16f573ed66cad33102df8d3c198\", element=\"3b45fa1e-538e-4ae8-b5e6-b17a4ab0beb1\")>,\n",
       " <selenium.webdriver.remote.webelement.WebElement (session=\"a810f16f573ed66cad33102df8d3c198\", element=\"bfe70191-8e83-41af-b0f3-20cf0919759f\")>,\n",
       " <selenium.webdriver.remote.webelement.WebElement (session=\"a810f16f573ed66cad33102df8d3c198\", element=\"45dd7604-2cda-494d-94b2-95564e9b1e68\")>,\n",
       " <selenium.webdriver.remote.webelement.WebElement (session=\"a810f16f573ed66cad33102df8d3c198\", element=\"789b3b00-6ed0-4f92-84e0-402b831c86a7\")>,\n",
       " <selenium.webdriver.remote.webelement.WebElement (session=\"a810f16f573ed66cad33102df8d3c198\", element=\"c8864fcb-5b41-4ec0-a776-7b2bf4555049\")>,\n",
       " <selenium.webdriver.remote.webelement.WebElement (session=\"a810f16f573ed66cad33102df8d3c198\", element=\"ab1fb6da-5966-4af8-bc5a-0cf068f69760\")>,\n",
       " <selenium.webdriver.remote.webelement.WebElement (session=\"a810f16f573ed66cad33102df8d3c198\", element=\"4a96f387-9c2e-4f57-a2c8-d81082a956cc\")>,\n",
       " <selenium.webdriver.remote.webelement.WebElement (session=\"a810f16f573ed66cad33102df8d3c198\", element=\"9fc35c24-1ac4-496f-92e2-f4628c7abc5f\")>,\n",
       " <selenium.webdriver.remote.webelement.WebElement (session=\"a810f16f573ed66cad33102df8d3c198\", element=\"ac74a800-9130-419d-b92f-1a2e0c82739a\")>,\n",
       " <selenium.webdriver.remote.webelement.WebElement (session=\"a810f16f573ed66cad33102df8d3c198\", element=\"11c3c3a2-1607-4b37-8e89-bce44375203c\")>,\n",
       " <selenium.webdriver.remote.webelement.WebElement (session=\"a810f16f573ed66cad33102df8d3c198\", element=\"945c3790-e861-4c07-b5af-55012e9d0501\")>,\n",
       " <selenium.webdriver.remote.webelement.WebElement (session=\"a810f16f573ed66cad33102df8d3c198\", element=\"ae77b85a-840a-45b7-9b96-44786acab18a\")>,\n",
       " <selenium.webdriver.remote.webelement.WebElement (session=\"a810f16f573ed66cad33102df8d3c198\", element=\"fbb809c7-19d8-4ead-b27c-a9f07af28cbc\")>,\n",
       " <selenium.webdriver.remote.webelement.WebElement (session=\"a810f16f573ed66cad33102df8d3c198\", element=\"81f0ba62-8022-4379-9df6-8c2a2106d3e9\")>,\n",
       " <selenium.webdriver.remote.webelement.WebElement (session=\"a810f16f573ed66cad33102df8d3c198\", element=\"f414e799-f1eb-48fc-81f2-4ae583b8f186\")>,\n",
       " <selenium.webdriver.remote.webelement.WebElement (session=\"a810f16f573ed66cad33102df8d3c198\", element=\"4f4f2be4-b2ee-4424-ab46-761428050a4e\")>,\n",
       " <selenium.webdriver.remote.webelement.WebElement (session=\"a810f16f573ed66cad33102df8d3c198\", element=\"7afda09f-62c6-4811-b3a8-e33b35a006db\")>,\n",
       " <selenium.webdriver.remote.webelement.WebElement (session=\"a810f16f573ed66cad33102df8d3c198\", element=\"7521cf3a-7e58-4d57-8ebd-b6da5ff6b9eb\")>,\n",
       " <selenium.webdriver.remote.webelement.WebElement (session=\"a810f16f573ed66cad33102df8d3c198\", element=\"223b6749-57fe-4907-b133-8c650385e490\")>,\n",
       " <selenium.webdriver.remote.webelement.WebElement (session=\"a810f16f573ed66cad33102df8d3c198\", element=\"16ec9811-b5df-427b-8213-821988961090\")>,\n",
       " <selenium.webdriver.remote.webelement.WebElement (session=\"a810f16f573ed66cad33102df8d3c198\", element=\"9a4e3718-c653-47fe-83fc-65f92669caf6\")>,\n",
       " <selenium.webdriver.remote.webelement.WebElement (session=\"a810f16f573ed66cad33102df8d3c198\", element=\"6526bf71-8721-408b-9aa2-fb994d46dcf1\")>,\n",
       " <selenium.webdriver.remote.webelement.WebElement (session=\"a810f16f573ed66cad33102df8d3c198\", element=\"ccc99dc7-fd45-477b-b410-7f376abaeab9\")>,\n",
       " <selenium.webdriver.remote.webelement.WebElement (session=\"a810f16f573ed66cad33102df8d3c198\", element=\"f1f99f00-adae-4b5e-b1ee-ece65fdf648d\")>,\n",
       " <selenium.webdriver.remote.webelement.WebElement (session=\"a810f16f573ed66cad33102df8d3c198\", element=\"bb758dd9-19e8-4e72-816b-19290016c025\")>,\n",
       " <selenium.webdriver.remote.webelement.WebElement (session=\"a810f16f573ed66cad33102df8d3c198\", element=\"7c962223-825b-4eb7-8a24-ef28e7797560\")>,\n",
       " <selenium.webdriver.remote.webelement.WebElement (session=\"a810f16f573ed66cad33102df8d3c198\", element=\"dca8c0f5-993f-4868-9e33-ec996774dbc8\")>,\n",
       " <selenium.webdriver.remote.webelement.WebElement (session=\"a810f16f573ed66cad33102df8d3c198\", element=\"698c7bc9-4e56-4acb-ac4d-3148ca22a36d\")>]"
      ]
     },
     "execution_count": 429,
     "metadata": {},
     "output_type": "execute_result"
    }
   ],
   "source": [
    "description_tags=driver.find_elements_by_xpath(\"//li[@class='product-base']//h4[1]\")\n",
    "description_tags"
   ]
  },
  {
   "cell_type": "code",
   "execution_count": 430,
   "metadata": {},
   "outputs": [
    {
     "data": {
      "text/plain": [
       "['Men Driving Shoes',\n",
       " 'LEBRON XVIII Basketball Shoes',\n",
       " 'Men Charged Bandit 6 Running',\n",
       " 'Men Cell Fraction Fade Running',\n",
       " 'Women HOVR Sonic 4 Colorshift',\n",
       " 'Men HOVR Sonic 4 Colorshift',\n",
       " 'Unisex Project Rock Recruit',\n",
       " 'Men Woven Design Sneakers',\n",
       " 'Men Charged Vantage Running',\n",
       " 'Men Charged Pursuit 2 SE Shoes',\n",
       " 'Women SUPERNOVA Running Shoes',\n",
       " 'Men Charged Assert 8 Marble',\n",
       " 'Men Charged Pursuit 2 SE',\n",
       " 'Men Velocity Nitro Running',\n",
       " 'Women Deviate Nitro Running',\n",
       " 'GS SC 3Zero IV Basketball',\n",
       " 'Men HOVR Sonic 4 Running Shoes',\n",
       " 'Men Charged Rogue 2.5 RFLCT',\n",
       " 'Men Charged Commit 3 Training',\n",
       " 'Men SOFTRIDE Rift Shoes',\n",
       " 'Women Charged Vantage ClrShft',\n",
       " 'Men HOVR Infinite Running',\n",
       " 'Men HOVR Sonic STRT Tech Shoes',\n",
       " 'Men Formal Derbys',\n",
       " 'Men Leather Slip-On Sneakers',\n",
       " 'TREKKING 100 Boots',\n",
       " 'Men Leather Formal Derbys',\n",
       " 'Unisex Clyde Basketball Shoes',\n",
       " 'Women Charged Impulse Shft',\n",
       " 'Men Colourblocked Leather Derbys',\n",
       " 'Men Solid Leather Formal Slip-Ons',\n",
       " 'Men Leather Formal Brogues',\n",
       " 'Men Leather Driving Shoes',\n",
       " 'Men Trekking Shoes',\n",
       " 'Men Leather Formal Derbys',\n",
       " 'Leather Sneakers',\n",
       " 'Men Solid Leather Sneakers',\n",
       " 'Men Leather Formal Derbys',\n",
       " 'Men Perforations Leather Brogues',\n",
       " 'Men Leather Semiformal Driving',\n",
       " 'Women HOVR Sonic 4 FnRn',\n",
       " 'Women Eternity Nitro Running',\n",
       " 'Unisex Clyde Basketball Shoes',\n",
       " 'Unisex Future Rider Sneakers',\n",
       " 'Men Phade Running Shoes',\n",
       " 'Men Driving Shoes',\n",
       " 'Men Solid Sneakers',\n",
       " 'Men Textured Leather Loafers',\n",
       " 'Men Semi-Formal Slip-Ons',\n",
       " 'Men Wingtip Oxford Sneakers']"
      ]
     },
     "execution_count": 430,
     "metadata": {},
     "output_type": "execute_result"
    }
   ],
   "source": [
    "description_titles=[]\n",
    "for i in description_tags:\n",
    "    description_titles.append(i.text)\n",
    "description_titles"
   ]
  },
  {
   "cell_type": "markdown",
   "metadata": {},
   "source": [
    "Scrape description information"
   ]
  },
  {
   "cell_type": "code",
   "execution_count": 431,
   "metadata": {},
   "outputs": [
    {
     "name": "stdout",
     "output_type": "stream",
     "text": [
      "50\n"
     ]
    }
   ],
   "source": [
    "print(len(description_titles))"
   ]
  },
  {
   "cell_type": "code",
   "execution_count": 432,
   "metadata": {},
   "outputs": [
    {
     "data": {
      "text/plain": [
       "[<selenium.webdriver.remote.webelement.WebElement (session=\"a810f16f573ed66cad33102df8d3c198\", element=\"1881fb6a-f2d5-4437-9208-42e02c7b650a\")>,\n",
       " <selenium.webdriver.remote.webelement.WebElement (session=\"a810f16f573ed66cad33102df8d3c198\", element=\"999ba2c2-da19-4799-a490-49f24bbd7c07\")>,\n",
       " <selenium.webdriver.remote.webelement.WebElement (session=\"a810f16f573ed66cad33102df8d3c198\", element=\"9e2bb20c-98c3-4cd0-bb20-811ebdf2d179\")>,\n",
       " <selenium.webdriver.remote.webelement.WebElement (session=\"a810f16f573ed66cad33102df8d3c198\", element=\"fe287a0a-1365-4136-a27a-6ba4d948d083\")>,\n",
       " <selenium.webdriver.remote.webelement.WebElement (session=\"a810f16f573ed66cad33102df8d3c198\", element=\"760bb479-af5e-4c43-aabb-8694da49b3aa\")>,\n",
       " <selenium.webdriver.remote.webelement.WebElement (session=\"a810f16f573ed66cad33102df8d3c198\", element=\"a28dae2a-cf46-4656-a5a8-e019465526bf\")>,\n",
       " <selenium.webdriver.remote.webelement.WebElement (session=\"a810f16f573ed66cad33102df8d3c198\", element=\"909dd371-3432-49c6-9cb0-d2e4d05ef447\")>,\n",
       " <selenium.webdriver.remote.webelement.WebElement (session=\"a810f16f573ed66cad33102df8d3c198\", element=\"ad8cf956-458e-4da9-acb0-c7b25b322160\")>,\n",
       " <selenium.webdriver.remote.webelement.WebElement (session=\"a810f16f573ed66cad33102df8d3c198\", element=\"0744159b-0c8e-4a32-92f4-fc504666a4dd\")>,\n",
       " <selenium.webdriver.remote.webelement.WebElement (session=\"a810f16f573ed66cad33102df8d3c198\", element=\"1332a8e4-b15e-49af-bde6-05299cd62256\")>,\n",
       " <selenium.webdriver.remote.webelement.WebElement (session=\"a810f16f573ed66cad33102df8d3c198\", element=\"1d18b4f5-eae5-4729-9162-3668618bb6a8\")>,\n",
       " <selenium.webdriver.remote.webelement.WebElement (session=\"a810f16f573ed66cad33102df8d3c198\", element=\"0050f498-c90a-4ef9-b2fb-ae53a13fc46b\")>,\n",
       " <selenium.webdriver.remote.webelement.WebElement (session=\"a810f16f573ed66cad33102df8d3c198\", element=\"ce4d9ea2-d618-470e-b258-ff28cdcf1f76\")>,\n",
       " <selenium.webdriver.remote.webelement.WebElement (session=\"a810f16f573ed66cad33102df8d3c198\", element=\"46301800-3c80-4260-93f0-ae261be607bb\")>,\n",
       " <selenium.webdriver.remote.webelement.WebElement (session=\"a810f16f573ed66cad33102df8d3c198\", element=\"a2b3e5cb-887f-4743-858d-25beae70acb8\")>,\n",
       " <selenium.webdriver.remote.webelement.WebElement (session=\"a810f16f573ed66cad33102df8d3c198\", element=\"43ba020e-fadf-4eb1-860a-ae1d7fc74645\")>,\n",
       " <selenium.webdriver.remote.webelement.WebElement (session=\"a810f16f573ed66cad33102df8d3c198\", element=\"6d1dfb36-5ef7-494e-984e-a733d819a66a\")>,\n",
       " <selenium.webdriver.remote.webelement.WebElement (session=\"a810f16f573ed66cad33102df8d3c198\", element=\"1119c8da-7762-4bf8-b937-b66b8fd99c18\")>,\n",
       " <selenium.webdriver.remote.webelement.WebElement (session=\"a810f16f573ed66cad33102df8d3c198\", element=\"787be09e-8ca8-4108-bb67-4cb073621413\")>,\n",
       " <selenium.webdriver.remote.webelement.WebElement (session=\"a810f16f573ed66cad33102df8d3c198\", element=\"ac78f4ad-ccf9-4f44-8627-5a813569021c\")>,\n",
       " <selenium.webdriver.remote.webelement.WebElement (session=\"a810f16f573ed66cad33102df8d3c198\", element=\"2dd322b8-c1b5-4ea8-a959-8349b4ac85b3\")>,\n",
       " <selenium.webdriver.remote.webelement.WebElement (session=\"a810f16f573ed66cad33102df8d3c198\", element=\"13166e38-c421-4a6a-9e82-80f6b59e705b\")>,\n",
       " <selenium.webdriver.remote.webelement.WebElement (session=\"a810f16f573ed66cad33102df8d3c198\", element=\"7cdb740b-3ecd-4e39-bb5d-ebfe3e04d95e\")>,\n",
       " <selenium.webdriver.remote.webelement.WebElement (session=\"a810f16f573ed66cad33102df8d3c198\", element=\"09596f87-6faf-4bec-a7d8-59809b0ee2c0\")>,\n",
       " <selenium.webdriver.remote.webelement.WebElement (session=\"a810f16f573ed66cad33102df8d3c198\", element=\"4426433b-2f79-4215-81a1-b0ee1229873e\")>,\n",
       " <selenium.webdriver.remote.webelement.WebElement (session=\"a810f16f573ed66cad33102df8d3c198\", element=\"a8b36d17-3ec4-492f-be13-f1f6dc288f3a\")>,\n",
       " <selenium.webdriver.remote.webelement.WebElement (session=\"a810f16f573ed66cad33102df8d3c198\", element=\"9ed29120-77b8-4fb1-a7c5-84a14d0d2a60\")>,\n",
       " <selenium.webdriver.remote.webelement.WebElement (session=\"a810f16f573ed66cad33102df8d3c198\", element=\"6620b566-5016-4b09-bcf8-4258fda3e5a8\")>,\n",
       " <selenium.webdriver.remote.webelement.WebElement (session=\"a810f16f573ed66cad33102df8d3c198\", element=\"bc384b7f-414c-4388-ad1e-70dd15ac57cc\")>,\n",
       " <selenium.webdriver.remote.webelement.WebElement (session=\"a810f16f573ed66cad33102df8d3c198\", element=\"13bb2c8a-8446-4bca-b835-d1cddedb0e57\")>,\n",
       " <selenium.webdriver.remote.webelement.WebElement (session=\"a810f16f573ed66cad33102df8d3c198\", element=\"aa422937-3e19-4f41-b447-bb92f3c1159a\")>,\n",
       " <selenium.webdriver.remote.webelement.WebElement (session=\"a810f16f573ed66cad33102df8d3c198\", element=\"81b407c0-4287-4086-b0bf-70217c5c06ce\")>,\n",
       " <selenium.webdriver.remote.webelement.WebElement (session=\"a810f16f573ed66cad33102df8d3c198\", element=\"bc7272f9-e2fd-4c19-a758-9126305b32a1\")>,\n",
       " <selenium.webdriver.remote.webelement.WebElement (session=\"a810f16f573ed66cad33102df8d3c198\", element=\"119e96ab-101d-43e3-81cb-720bf3ca11b3\")>,\n",
       " <selenium.webdriver.remote.webelement.WebElement (session=\"a810f16f573ed66cad33102df8d3c198\", element=\"17a3ce4f-dec1-4b19-87b4-b83c1ac18900\")>,\n",
       " <selenium.webdriver.remote.webelement.WebElement (session=\"a810f16f573ed66cad33102df8d3c198\", element=\"f8b14e93-f4b1-41a8-b2e7-ee128cb7fa64\")>,\n",
       " <selenium.webdriver.remote.webelement.WebElement (session=\"a810f16f573ed66cad33102df8d3c198\", element=\"8713a00f-a4c5-4255-8307-9825716baf10\")>,\n",
       " <selenium.webdriver.remote.webelement.WebElement (session=\"a810f16f573ed66cad33102df8d3c198\", element=\"631c20ff-4e53-45e2-9705-c149527907c1\")>,\n",
       " <selenium.webdriver.remote.webelement.WebElement (session=\"a810f16f573ed66cad33102df8d3c198\", element=\"258fb940-f18b-4112-9651-9b2c63e4ebbd\")>,\n",
       " <selenium.webdriver.remote.webelement.WebElement (session=\"a810f16f573ed66cad33102df8d3c198\", element=\"e9e94f21-f7a9-406f-b63c-d6bc1c96aa49\")>,\n",
       " <selenium.webdriver.remote.webelement.WebElement (session=\"a810f16f573ed66cad33102df8d3c198\", element=\"e7738c9d-478a-4d00-9acc-6c0c59b046a0\")>,\n",
       " <selenium.webdriver.remote.webelement.WebElement (session=\"a810f16f573ed66cad33102df8d3c198\", element=\"2d324e25-bca3-476d-98ff-6a7da43b54b9\")>,\n",
       " <selenium.webdriver.remote.webelement.WebElement (session=\"a810f16f573ed66cad33102df8d3c198\", element=\"060c4d36-172a-4a37-b7a5-b47c795ff8dc\")>,\n",
       " <selenium.webdriver.remote.webelement.WebElement (session=\"a810f16f573ed66cad33102df8d3c198\", element=\"fde9d2c3-fca8-49bb-a285-07485c06feab\")>,\n",
       " <selenium.webdriver.remote.webelement.WebElement (session=\"a810f16f573ed66cad33102df8d3c198\", element=\"2b39c3cd-df3d-4c78-ad06-278e9aafaadd\")>,\n",
       " <selenium.webdriver.remote.webelement.WebElement (session=\"a810f16f573ed66cad33102df8d3c198\", element=\"60b4ff5a-d061-456c-b617-f9d5800c2ef1\")>,\n",
       " <selenium.webdriver.remote.webelement.WebElement (session=\"a810f16f573ed66cad33102df8d3c198\", element=\"cd5dbc1c-f747-4bf9-9f07-6c2245ef77da\")>,\n",
       " <selenium.webdriver.remote.webelement.WebElement (session=\"a810f16f573ed66cad33102df8d3c198\", element=\"c0c6fe48-4cb0-41be-8e40-63e70c75213b\")>,\n",
       " <selenium.webdriver.remote.webelement.WebElement (session=\"a810f16f573ed66cad33102df8d3c198\", element=\"909a932a-258f-4a26-aa74-fbbce37630ee\")>,\n",
       " <selenium.webdriver.remote.webelement.WebElement (session=\"a810f16f573ed66cad33102df8d3c198\", element=\"3751e165-5b74-4bac-8320-8b0f8da585c6\")>]"
      ]
     },
     "execution_count": 432,
     "metadata": {},
     "output_type": "execute_result"
    }
   ],
   "source": [
    "prise_tags=driver.find_elements_by_xpath(\"//div[@class='product-price']\")\n",
    "prise_tags"
   ]
  },
  {
   "cell_type": "code",
   "execution_count": 433,
   "metadata": {},
   "outputs": [
    {
     "data": {
      "text/plain": [
       "['Rs. 11999',\n",
       " 'Rs. 11436Rs. 17595(35% OFF)',\n",
       " 'Rs. 8999',\n",
       " 'Rs. 6999',\n",
       " 'Rs. 10999',\n",
       " 'Rs. 10999',\n",
       " 'Rs. 9999',\n",
       " 'Rs. 8799Rs. 10999(20% OFF)',\n",
       " 'Rs. 7999',\n",
       " 'Rs. 6999',\n",
       " 'Rs. 6999Rs. 9999(30% OFF)',\n",
       " 'Rs. 6999',\n",
       " 'Rs. 6999',\n",
       " 'Rs. 10999',\n",
       " 'Rs. 9749Rs. 14999(35% OFF)',\n",
       " 'Rs. 7499',\n",
       " 'Rs. 10999',\n",
       " 'Rs. 7999',\n",
       " 'Rs. 7999',\n",
       " 'Rs. 6499',\n",
       " 'Rs. 7999',\n",
       " 'Rs. 11999',\n",
       " 'Rs. 9999',\n",
       " 'Rs. 8999Rs. 9999(10% OFF)',\n",
       " 'Rs. 6999Rs. 9999(30% OFF)',\n",
       " 'Rs. 6999',\n",
       " 'Rs. 9999',\n",
       " 'Rs. 8999',\n",
       " 'Rs. 7499',\n",
       " 'Rs. 6499',\n",
       " 'Rs. 8099Rs. 8999(10% OFF)',\n",
       " 'Rs. 11999',\n",
       " 'Rs. 9999',\n",
       " 'Rs. 9999',\n",
       " 'Rs. 9999',\n",
       " 'Rs. 8799Rs. 10999(20% OFF)',\n",
       " 'Rs. 7199Rs. 8999(20% OFF)',\n",
       " 'Rs. 8399Rs. 10499(20% OFF)',\n",
       " 'Rs. 6999',\n",
       " 'Rs. 10490',\n",
       " 'Rs. 10999',\n",
       " 'Rs. 8449Rs. 12999(35% OFF)',\n",
       " 'Rs. 7149Rs. 10999(35% OFF)',\n",
       " 'Rs. 6999',\n",
       " 'Rs. 6499',\n",
       " 'Rs. 9999',\n",
       " 'Rs. 7999Rs. 9999(20% OFF)',\n",
       " 'Rs. 6990',\n",
       " 'Rs. 10999',\n",
       " 'Rs. 10399Rs. 12999(20% OFF)']"
      ]
     },
     "execution_count": 433,
     "metadata": {},
     "output_type": "execute_result"
    }
   ],
   "source": [
    "prise_titles=[]\n",
    "for i in prise_tags:\n",
    "    prise_titles.append(i.text)\n",
    "prise_titles"
   ]
  },
  {
   "cell_type": "markdown",
   "metadata": {},
   "source": [
    "Scrape the prise information"
   ]
  },
  {
   "cell_type": "code",
   "execution_count": 434,
   "metadata": {},
   "outputs": [
    {
     "name": "stdout",
     "output_type": "stream",
     "text": [
      "50\n"
     ]
    }
   ],
   "source": [
    "print(len(prise_titles))"
   ]
  },
  {
   "cell_type": "code",
   "execution_count": 286,
   "metadata": {},
   "outputs": [
    {
     "name": "stdout",
     "output_type": "stream",
     "text": [
      "50 50 50\n"
     ]
    }
   ],
   "source": [
    "print(len(brand_titles),len(description_titles),len(prise_titles))"
   ]
  },
  {
   "cell_type": "code",
   "execution_count": 288,
   "metadata": {},
   "outputs": [],
   "source": [
    "jobs=pd.DataFrame()\n",
    "jobs['brand_titles']=brand_titles\n",
    "jobs['description_titles']=description_titles\n",
    "jobs['prise_titles']=prise_titles"
   ]
  },
  {
   "cell_type": "code",
   "execution_count": null,
   "metadata": {},
   "outputs": [],
   "source": []
  },
  {
   "cell_type": "code",
   "execution_count": 289,
   "metadata": {},
   "outputs": [
    {
     "data": {
      "text/html": [
       "<div>\n",
       "<style scoped>\n",
       "    .dataframe tbody tr th:only-of-type {\n",
       "        vertical-align: middle;\n",
       "    }\n",
       "\n",
       "    .dataframe tbody tr th {\n",
       "        vertical-align: top;\n",
       "    }\n",
       "\n",
       "    .dataframe thead th {\n",
       "        text-align: right;\n",
       "    }\n",
       "</style>\n",
       "<table border=\"1\" class=\"dataframe\">\n",
       "  <thead>\n",
       "    <tr style=\"text-align: right;\">\n",
       "      <th></th>\n",
       "      <th>brand_titles</th>\n",
       "      <th>description_titles</th>\n",
       "      <th>prise_titles</th>\n",
       "    </tr>\n",
       "  </thead>\n",
       "  <tbody>\n",
       "    <tr>\n",
       "      <th>0</th>\n",
       "      <td>ALDO</td>\n",
       "      <td>Men Driving Shoes</td>\n",
       "      <td>Rs. 11999</td>\n",
       "    </tr>\n",
       "    <tr>\n",
       "      <th>1</th>\n",
       "      <td>Skechers</td>\n",
       "      <td>Men Equalizer 4.0 Trail</td>\n",
       "      <td>Rs. 6499</td>\n",
       "    </tr>\n",
       "    <tr>\n",
       "      <th>2</th>\n",
       "      <td>UNDER ARMOUR</td>\n",
       "      <td>Men Charged Bandit 6 Running</td>\n",
       "      <td>Rs. 8999</td>\n",
       "    </tr>\n",
       "    <tr>\n",
       "      <th>3</th>\n",
       "      <td>Puma</td>\n",
       "      <td>Men Cell Fraction Fade Running</td>\n",
       "      <td>Rs. 6999</td>\n",
       "    </tr>\n",
       "    <tr>\n",
       "      <th>4</th>\n",
       "      <td>Geox</td>\n",
       "      <td>Men Leather Sneakers</td>\n",
       "      <td>Rs. 10999</td>\n",
       "    </tr>\n",
       "    <tr>\n",
       "      <th>5</th>\n",
       "      <td>UNDER ARMOUR</td>\n",
       "      <td>Women HOVR Sonic 4 Colorshift</td>\n",
       "      <td>Rs. 10999</td>\n",
       "    </tr>\n",
       "    <tr>\n",
       "      <th>6</th>\n",
       "      <td>UNDER ARMOUR</td>\n",
       "      <td>Men HOVR Sonic 4 Colorshift</td>\n",
       "      <td>Rs. 10999</td>\n",
       "    </tr>\n",
       "    <tr>\n",
       "      <th>7</th>\n",
       "      <td>UNDER ARMOUR</td>\n",
       "      <td>Unisex Project Rock Recruit</td>\n",
       "      <td>Rs. 9999</td>\n",
       "    </tr>\n",
       "    <tr>\n",
       "      <th>8</th>\n",
       "      <td>UNDER ARMOUR</td>\n",
       "      <td>Men Charged Vantage Running</td>\n",
       "      <td>Rs. 7999</td>\n",
       "    </tr>\n",
       "    <tr>\n",
       "      <th>9</th>\n",
       "      <td>Kalenji By Decathlon</td>\n",
       "      <td>Men KD500 Running Shoe</td>\n",
       "      <td>Rs. 7773Rs. 8449(8% OFF)</td>\n",
       "    </tr>\n",
       "    <tr>\n",
       "      <th>10</th>\n",
       "      <td>UNDER ARMOUR</td>\n",
       "      <td>Men Charged Pursuit 2 SE Shoes</td>\n",
       "      <td>Rs. 6999</td>\n",
       "    </tr>\n",
       "    <tr>\n",
       "      <th>11</th>\n",
       "      <td>ADIDAS</td>\n",
       "      <td>Women SUPERNOVA Running Shoes</td>\n",
       "      <td>Rs. 6999Rs. 9999(30% OFF)</td>\n",
       "    </tr>\n",
       "    <tr>\n",
       "      <th>12</th>\n",
       "      <td>UNDER ARMOUR</td>\n",
       "      <td>Men Charged Assert 8 Marble</td>\n",
       "      <td>Rs. 6999</td>\n",
       "    </tr>\n",
       "    <tr>\n",
       "      <th>13</th>\n",
       "      <td>UNDER ARMOUR</td>\n",
       "      <td>Men Charged Pursuit 2 SE</td>\n",
       "      <td>Rs. 6999</td>\n",
       "    </tr>\n",
       "    <tr>\n",
       "      <th>14</th>\n",
       "      <td>Puma</td>\n",
       "      <td>Men Velocity Nitro Running</td>\n",
       "      <td>Rs. 10999</td>\n",
       "    </tr>\n",
       "    <tr>\n",
       "      <th>15</th>\n",
       "      <td>Puma</td>\n",
       "      <td>Women Deviate Nitro Running</td>\n",
       "      <td>Rs. 9749Rs. 14999(35% OFF)</td>\n",
       "    </tr>\n",
       "    <tr>\n",
       "      <th>16</th>\n",
       "      <td>UNDER ARMOUR</td>\n",
       "      <td>GS SC 3Zero IV Basketball</td>\n",
       "      <td>Rs. 7499</td>\n",
       "    </tr>\n",
       "    <tr>\n",
       "      <th>17</th>\n",
       "      <td>UNDER ARMOUR</td>\n",
       "      <td>Men HOVR Sonic 4 Running Shoes</td>\n",
       "      <td>Rs. 10999</td>\n",
       "    </tr>\n",
       "    <tr>\n",
       "      <th>18</th>\n",
       "      <td>UNDER ARMOUR</td>\n",
       "      <td>Men Charged Rogue 2.5 RFLCT</td>\n",
       "      <td>Rs. 7999</td>\n",
       "    </tr>\n",
       "    <tr>\n",
       "      <th>19</th>\n",
       "      <td>UNDER ARMOUR</td>\n",
       "      <td>Men Charged Commit 3 Training</td>\n",
       "      <td>Rs. 7999</td>\n",
       "    </tr>\n",
       "    <tr>\n",
       "      <th>20</th>\n",
       "      <td>UNDER ARMOUR</td>\n",
       "      <td>Women Charged Vantage ClrShft</td>\n",
       "      <td>Rs. 7999</td>\n",
       "    </tr>\n",
       "    <tr>\n",
       "      <th>21</th>\n",
       "      <td>Puma</td>\n",
       "      <td>Men SOFTRIDE Rift Shoes</td>\n",
       "      <td>Rs. 6499</td>\n",
       "    </tr>\n",
       "    <tr>\n",
       "      <th>22</th>\n",
       "      <td>UNDER ARMOUR</td>\n",
       "      <td>Men HOVR Infinite Running</td>\n",
       "      <td>Rs. 11999</td>\n",
       "    </tr>\n",
       "    <tr>\n",
       "      <th>23</th>\n",
       "      <td>Hush Puppies</td>\n",
       "      <td>Men Formal Derbys</td>\n",
       "      <td>Rs. 8999Rs. 9999(10% OFF)</td>\n",
       "    </tr>\n",
       "    <tr>\n",
       "      <th>24</th>\n",
       "      <td>UNDER ARMOUR</td>\n",
       "      <td>Men HOVR Sonic STRT Tech Shoes</td>\n",
       "      <td>Rs. 9999</td>\n",
       "    </tr>\n",
       "    <tr>\n",
       "      <th>25</th>\n",
       "      <td>Hush Puppies</td>\n",
       "      <td>Men Leather Slip-On Sneakers</td>\n",
       "      <td>Rs. 6999Rs. 9999(30% OFF)</td>\n",
       "    </tr>\n",
       "    <tr>\n",
       "      <th>26</th>\n",
       "      <td>FORCLAZ By Decathlon</td>\n",
       "      <td>TREKKING 100 Boots</td>\n",
       "      <td>Rs. 6999</td>\n",
       "    </tr>\n",
       "    <tr>\n",
       "      <th>27</th>\n",
       "      <td>UNDER ARMOUR</td>\n",
       "      <td>Women Charged Impulse Shft</td>\n",
       "      <td>Rs. 7499</td>\n",
       "    </tr>\n",
       "    <tr>\n",
       "      <th>28</th>\n",
       "      <td>PUMA Hoops</td>\n",
       "      <td>Unisex Clyde Basketball Shoes</td>\n",
       "      <td>Rs. 8999</td>\n",
       "    </tr>\n",
       "    <tr>\n",
       "      <th>29</th>\n",
       "      <td>Hush Puppies</td>\n",
       "      <td>Men Solid Leather Formal Slip-Ons</td>\n",
       "      <td>Rs. 8099Rs. 8999(10% OFF)</td>\n",
       "    </tr>\n",
       "    <tr>\n",
       "      <th>30</th>\n",
       "      <td>Puma</td>\n",
       "      <td>Men Running Shoes</td>\n",
       "      <td>Rs. 6499</td>\n",
       "    </tr>\n",
       "    <tr>\n",
       "      <th>31</th>\n",
       "      <td>Geox</td>\n",
       "      <td>Men Perforated Slip On Sneaker</td>\n",
       "      <td>Rs. 7199Rs. 8999(20% OFF)</td>\n",
       "    </tr>\n",
       "    <tr>\n",
       "      <th>32</th>\n",
       "      <td>Quechua By Decathlon</td>\n",
       "      <td>Men Trekking Shoes</td>\n",
       "      <td>Rs. 9999</td>\n",
       "    </tr>\n",
       "    <tr>\n",
       "      <th>33</th>\n",
       "      <td>Cole Haan</td>\n",
       "      <td>Leather Sneakers</td>\n",
       "      <td>Rs. 8799Rs. 10999(20% OFF)</td>\n",
       "    </tr>\n",
       "    <tr>\n",
       "      <th>34</th>\n",
       "      <td>UNDER ARMOUR</td>\n",
       "      <td>Women HOVR Sonic 4 FnRn</td>\n",
       "      <td>Rs. 10999</td>\n",
       "    </tr>\n",
       "    <tr>\n",
       "      <th>35</th>\n",
       "      <td>Puma</td>\n",
       "      <td>Women Eternity Nitro Running</td>\n",
       "      <td>Rs. 8449Rs. 12999(35% OFF)</td>\n",
       "    </tr>\n",
       "    <tr>\n",
       "      <th>36</th>\n",
       "      <td>Geox</td>\n",
       "      <td>Men Leather Semiformal Driving</td>\n",
       "      <td>Rs. 10490</td>\n",
       "    </tr>\n",
       "    <tr>\n",
       "      <th>37</th>\n",
       "      <td>PUMA Hoops</td>\n",
       "      <td>Unisex Clyde Basketball Shoes</td>\n",
       "      <td>Rs. 7149Rs. 10999(35% OFF)</td>\n",
       "    </tr>\n",
       "    <tr>\n",
       "      <th>38</th>\n",
       "      <td>Puma</td>\n",
       "      <td>Unisex Future Rider Sneakers</td>\n",
       "      <td>Rs. 6999</td>\n",
       "    </tr>\n",
       "    <tr>\n",
       "      <th>39</th>\n",
       "      <td>Geox</td>\n",
       "      <td>Men Woven Design Sneakers</td>\n",
       "      <td>Rs. 8799Rs. 10999(20% OFF)</td>\n",
       "    </tr>\n",
       "    <tr>\n",
       "      <th>40</th>\n",
       "      <td>Geox</td>\n",
       "      <td>Men Leather Formal Derbys</td>\n",
       "      <td>Rs. 9999</td>\n",
       "    </tr>\n",
       "    <tr>\n",
       "      <th>41</th>\n",
       "      <td>Nike</td>\n",
       "      <td>Women AIR MAX VIVA Sneakers</td>\n",
       "      <td>Rs. 8121Rs. 12495(35% OFF)</td>\n",
       "    </tr>\n",
       "    <tr>\n",
       "      <th>42</th>\n",
       "      <td>UNDER ARMOUR</td>\n",
       "      <td>Men Phade Running Shoes</td>\n",
       "      <td>Rs. 6499</td>\n",
       "    </tr>\n",
       "    <tr>\n",
       "      <th>43</th>\n",
       "      <td>Geox</td>\n",
       "      <td>Men Leather Formal Brogues</td>\n",
       "      <td>Rs. 11999</td>\n",
       "    </tr>\n",
       "    <tr>\n",
       "      <th>44</th>\n",
       "      <td>Geox</td>\n",
       "      <td>Men Driving Shoes</td>\n",
       "      <td>Rs. 9999</td>\n",
       "    </tr>\n",
       "    <tr>\n",
       "      <th>45</th>\n",
       "      <td>Geox</td>\n",
       "      <td>Men Solid Sneakers</td>\n",
       "      <td>Rs. 7999Rs. 9999(20% OFF)</td>\n",
       "    </tr>\n",
       "    <tr>\n",
       "      <th>46</th>\n",
       "      <td>RARE RABBIT</td>\n",
       "      <td>Men Colourblocked Leather Derbys</td>\n",
       "      <td>Rs. 6499</td>\n",
       "    </tr>\n",
       "    <tr>\n",
       "      <th>47</th>\n",
       "      <td>Geox</td>\n",
       "      <td>Men Leather Formal Derbys</td>\n",
       "      <td>Rs. 9999</td>\n",
       "    </tr>\n",
       "    <tr>\n",
       "      <th>48</th>\n",
       "      <td>Cole Haan</td>\n",
       "      <td>Men Wingtip Oxford Sneakers</td>\n",
       "      <td>Rs. 10399Rs. 12999(20% OFF)</td>\n",
       "    </tr>\n",
       "    <tr>\n",
       "      <th>49</th>\n",
       "      <td>Geox</td>\n",
       "      <td>Men Leather Formal Derbys</td>\n",
       "      <td>Rs. 8399Rs. 10499(20% OFF)</td>\n",
       "    </tr>\n",
       "  </tbody>\n",
       "</table>\n",
       "</div>"
      ],
      "text/plain": [
       "            brand_titles                 description_titles  \\\n",
       "0                   ALDO                  Men Driving Shoes   \n",
       "1               Skechers            Men Equalizer 4.0 Trail   \n",
       "2           UNDER ARMOUR       Men Charged Bandit 6 Running   \n",
       "3                   Puma     Men Cell Fraction Fade Running   \n",
       "4                   Geox               Men Leather Sneakers   \n",
       "5           UNDER ARMOUR      Women HOVR Sonic 4 Colorshift   \n",
       "6           UNDER ARMOUR        Men HOVR Sonic 4 Colorshift   \n",
       "7           UNDER ARMOUR        Unisex Project Rock Recruit   \n",
       "8           UNDER ARMOUR        Men Charged Vantage Running   \n",
       "9   Kalenji By Decathlon             Men KD500 Running Shoe   \n",
       "10          UNDER ARMOUR     Men Charged Pursuit 2 SE Shoes   \n",
       "11                ADIDAS      Women SUPERNOVA Running Shoes   \n",
       "12          UNDER ARMOUR        Men Charged Assert 8 Marble   \n",
       "13          UNDER ARMOUR           Men Charged Pursuit 2 SE   \n",
       "14                  Puma         Men Velocity Nitro Running   \n",
       "15                  Puma        Women Deviate Nitro Running   \n",
       "16          UNDER ARMOUR          GS SC 3Zero IV Basketball   \n",
       "17          UNDER ARMOUR     Men HOVR Sonic 4 Running Shoes   \n",
       "18          UNDER ARMOUR        Men Charged Rogue 2.5 RFLCT   \n",
       "19          UNDER ARMOUR      Men Charged Commit 3 Training   \n",
       "20          UNDER ARMOUR      Women Charged Vantage ClrShft   \n",
       "21                  Puma            Men SOFTRIDE Rift Shoes   \n",
       "22          UNDER ARMOUR          Men HOVR Infinite Running   \n",
       "23          Hush Puppies                  Men Formal Derbys   \n",
       "24          UNDER ARMOUR     Men HOVR Sonic STRT Tech Shoes   \n",
       "25          Hush Puppies       Men Leather Slip-On Sneakers   \n",
       "26  FORCLAZ By Decathlon                 TREKKING 100 Boots   \n",
       "27          UNDER ARMOUR         Women Charged Impulse Shft   \n",
       "28            PUMA Hoops      Unisex Clyde Basketball Shoes   \n",
       "29          Hush Puppies  Men Solid Leather Formal Slip-Ons   \n",
       "30                  Puma                  Men Running Shoes   \n",
       "31                  Geox     Men Perforated Slip On Sneaker   \n",
       "32  Quechua By Decathlon                 Men Trekking Shoes   \n",
       "33             Cole Haan                   Leather Sneakers   \n",
       "34          UNDER ARMOUR            Women HOVR Sonic 4 FnRn   \n",
       "35                  Puma       Women Eternity Nitro Running   \n",
       "36                  Geox     Men Leather Semiformal Driving   \n",
       "37            PUMA Hoops      Unisex Clyde Basketball Shoes   \n",
       "38                  Puma       Unisex Future Rider Sneakers   \n",
       "39                  Geox          Men Woven Design Sneakers   \n",
       "40                  Geox          Men Leather Formal Derbys   \n",
       "41                  Nike        Women AIR MAX VIVA Sneakers   \n",
       "42          UNDER ARMOUR            Men Phade Running Shoes   \n",
       "43                  Geox         Men Leather Formal Brogues   \n",
       "44                  Geox                  Men Driving Shoes   \n",
       "45                  Geox                 Men Solid Sneakers   \n",
       "46           RARE RABBIT   Men Colourblocked Leather Derbys   \n",
       "47                  Geox          Men Leather Formal Derbys   \n",
       "48             Cole Haan        Men Wingtip Oxford Sneakers   \n",
       "49                  Geox          Men Leather Formal Derbys   \n",
       "\n",
       "                   prise_titles  \n",
       "0                     Rs. 11999  \n",
       "1                      Rs. 6499  \n",
       "2                      Rs. 8999  \n",
       "3                      Rs. 6999  \n",
       "4                     Rs. 10999  \n",
       "5                     Rs. 10999  \n",
       "6                     Rs. 10999  \n",
       "7                      Rs. 9999  \n",
       "8                      Rs. 7999  \n",
       "9      Rs. 7773Rs. 8449(8% OFF)  \n",
       "10                     Rs. 6999  \n",
       "11    Rs. 6999Rs. 9999(30% OFF)  \n",
       "12                     Rs. 6999  \n",
       "13                     Rs. 6999  \n",
       "14                    Rs. 10999  \n",
       "15   Rs. 9749Rs. 14999(35% OFF)  \n",
       "16                     Rs. 7499  \n",
       "17                    Rs. 10999  \n",
       "18                     Rs. 7999  \n",
       "19                     Rs. 7999  \n",
       "20                     Rs. 7999  \n",
       "21                     Rs. 6499  \n",
       "22                    Rs. 11999  \n",
       "23    Rs. 8999Rs. 9999(10% OFF)  \n",
       "24                     Rs. 9999  \n",
       "25    Rs. 6999Rs. 9999(30% OFF)  \n",
       "26                     Rs. 6999  \n",
       "27                     Rs. 7499  \n",
       "28                     Rs. 8999  \n",
       "29    Rs. 8099Rs. 8999(10% OFF)  \n",
       "30                     Rs. 6499  \n",
       "31    Rs. 7199Rs. 8999(20% OFF)  \n",
       "32                     Rs. 9999  \n",
       "33   Rs. 8799Rs. 10999(20% OFF)  \n",
       "34                    Rs. 10999  \n",
       "35   Rs. 8449Rs. 12999(35% OFF)  \n",
       "36                    Rs. 10490  \n",
       "37   Rs. 7149Rs. 10999(35% OFF)  \n",
       "38                     Rs. 6999  \n",
       "39   Rs. 8799Rs. 10999(20% OFF)  \n",
       "40                     Rs. 9999  \n",
       "41   Rs. 8121Rs. 12495(35% OFF)  \n",
       "42                     Rs. 6499  \n",
       "43                    Rs. 11999  \n",
       "44                     Rs. 9999  \n",
       "45    Rs. 7999Rs. 9999(20% OFF)  \n",
       "46                     Rs. 6499  \n",
       "47                     Rs. 9999  \n",
       "48  Rs. 10399Rs. 12999(20% OFF)  \n",
       "49   Rs. 8399Rs. 10499(20% OFF)  "
      ]
     },
     "execution_count": 289,
     "metadata": {},
     "output_type": "execute_result"
    }
   ],
   "source": [
    "jobs"
   ]
  },
  {
   "cell_type": "markdown",
   "metadata": {},
   "source": [
    "Create dataframe"
   ]
  },
  {
   "cell_type": "code",
   "execution_count": 440,
   "metadata": {},
   "outputs": [
    {
     "data": {
      "text/plain": [
       "[<selenium.webdriver.remote.webelement.WebElement (session=\"a810f16f573ed66cad33102df8d3c198\", element=\"63fd5fc4-fade-4319-863c-d11956b3538a\")>,\n",
       " <selenium.webdriver.remote.webelement.WebElement (session=\"a810f16f573ed66cad33102df8d3c198\", element=\"ba36f3e0-4475-424b-868d-de3d60b927d8\")>,\n",
       " <selenium.webdriver.remote.webelement.WebElement (session=\"a810f16f573ed66cad33102df8d3c198\", element=\"d050eaaa-bad1-4aa3-9db7-0ab85cbab8ad\")>,\n",
       " <selenium.webdriver.remote.webelement.WebElement (session=\"a810f16f573ed66cad33102df8d3c198\", element=\"553a970a-9368-4c97-900c-5fc16259f41b\")>,\n",
       " <selenium.webdriver.remote.webelement.WebElement (session=\"a810f16f573ed66cad33102df8d3c198\", element=\"0e5d2ccb-0dea-49d8-8f73-55e23643af3a\")>,\n",
       " <selenium.webdriver.remote.webelement.WebElement (session=\"a810f16f573ed66cad33102df8d3c198\", element=\"abf1265c-91d3-4e0d-80a0-ace4b2b18c50\")>,\n",
       " <selenium.webdriver.remote.webelement.WebElement (session=\"a810f16f573ed66cad33102df8d3c198\", element=\"5e22da7a-d64c-4bbf-b098-6e740898f9e8\")>,\n",
       " <selenium.webdriver.remote.webelement.WebElement (session=\"a810f16f573ed66cad33102df8d3c198\", element=\"44890efe-ec66-483d-b737-6f75de610650\")>,\n",
       " <selenium.webdriver.remote.webelement.WebElement (session=\"a810f16f573ed66cad33102df8d3c198\", element=\"fe798bcb-53ed-4567-a1bc-5278d655f862\")>,\n",
       " <selenium.webdriver.remote.webelement.WebElement (session=\"a810f16f573ed66cad33102df8d3c198\", element=\"733e1379-3577-4e2d-a095-1cbb80bd8ae7\")>,\n",
       " <selenium.webdriver.remote.webelement.WebElement (session=\"a810f16f573ed66cad33102df8d3c198\", element=\"9488b88b-7749-4eab-adce-2429064f43b7\")>]"
      ]
     },
     "execution_count": 440,
     "metadata": {},
     "output_type": "execute_result"
    }
   ],
   "source": [
    "#/html/body/div[2]/div/div[1]/main/div[3]/div[2]/div/div[2]/section/div[2]/ul/li[3]/a\n",
    "#pagination-number\n",
    "url=driver.find_elements_by_xpath(\"//ul[@class='pagination-container']//a\")\n",
    "url"
   ]
  },
  {
   "cell_type": "markdown",
   "metadata": {},
   "source": [
    "Scrape the multiple pages URL"
   ]
  },
  {
   "cell_type": "code",
   "execution_count": 439,
   "metadata": {},
   "outputs": [
    {
     "data": {
      "text/plain": [
       "['https://www.myntra.com/shoes?f=Color%3ABlack_36454f&plaEnabled=false&rf=Price%3A6392.0_12595.0_6392.0%20TO%2012595.0',\n",
       " 'https://www.myntra.com/shoes?f=Color%3ABlack_36454f&plaEnabled=false&rf=Price%3A6392.0_12595.0_6392.0%20TO%2012595.0&p=2',\n",
       " 'https://www.myntra.com/shoes?f=Color%3ABlack_36454f&plaEnabled=false&rf=Price%3A6392.0_12595.0_6392.0%20TO%2012595.0&p=3',\n",
       " 'https://www.myntra.com/shoes?f=Color%3ABlack_36454f&plaEnabled=false&rf=Price%3A6392.0_12595.0_6392.0%20TO%2012595.0&p=4',\n",
       " 'https://www.myntra.com/shoes?f=Color%3ABlack_36454f&plaEnabled=false&rf=Price%3A6392.0_12595.0_6392.0%20TO%2012595.0&p=5',\n",
       " 'https://www.myntra.com/shoes?f=Color%3ABlack_36454f&plaEnabled=false&rf=Price%3A6392.0_12595.0_6392.0%20TO%2012595.0&p=6',\n",
       " 'https://www.myntra.com/shoes?f=Color%3ABlack_36454f&plaEnabled=false&rf=Price%3A6392.0_12595.0_6392.0%20TO%2012595.0&p=7',\n",
       " 'https://www.myntra.com/shoes?f=Color%3ABlack_36454f&plaEnabled=false&rf=Price%3A6392.0_12595.0_6392.0%20TO%2012595.0&p=8',\n",
       " 'https://www.myntra.com/shoes?f=Color%3ABlack_36454f&plaEnabled=false&rf=Price%3A6392.0_12595.0_6392.0%20TO%2012595.0&p=9',\n",
       " 'https://www.myntra.com/shoes?f=Color%3ABlack_36454f&plaEnabled=false&rf=Price%3A6392.0_12595.0_6392.0%20TO%2012595.0&p=10',\n",
       " 'https://www.myntra.com/shoes?f=Color%3ABlack_36454f&plaEnabled=false&rf=Price%3A6392.0_12595.0_6392.0%20TO%2012595.0&p=2']"
      ]
     },
     "execution_count": 439,
     "metadata": {},
     "output_type": "execute_result"
    }
   ],
   "source": [
    "page_url = []\n",
    "url = driver.find_elements_by_xpath(\"//ul[@class='pagination-container']//a\")\n",
    "for i in url:\n",
    "    page_url.append(i.get_attribute(\"href\"))\n",
    "page_url"
   ]
  },
  {
   "cell_type": "markdown",
   "metadata": {},
   "source": [
    "Scrape the URL names from multiple pages"
   ]
  },
  {
   "cell_type": "code",
   "execution_count": 451,
   "metadata": {},
   "outputs": [
    {
     "data": {
      "text/plain": [
       "['ALDO',\n",
       " 'UNDER ARMOUR',\n",
       " 'Nike',\n",
       " 'Puma',\n",
       " 'Geox',\n",
       " 'UNDER ARMOUR',\n",
       " 'UNDER ARMOUR',\n",
       " 'UNDER ARMOUR',\n",
       " 'UNDER ARMOUR',\n",
       " 'UNDER ARMOUR',\n",
       " 'ADIDAS',\n",
       " 'UNDER ARMOUR',\n",
       " 'UNDER ARMOUR',\n",
       " 'Puma',\n",
       " 'Puma',\n",
       " 'UNDER ARMOUR',\n",
       " 'UNDER ARMOUR',\n",
       " 'UNDER ARMOUR',\n",
       " 'RARE RABBIT',\n",
       " 'UNDER ARMOUR',\n",
       " 'Puma',\n",
       " 'UNDER ARMOUR',\n",
       " 'UNDER ARMOUR',\n",
       " 'Geox',\n",
       " 'UNDER ARMOUR',\n",
       " 'Hush Puppies',\n",
       " 'Hush Puppies',\n",
       " 'FORCLAZ By Decathlon',\n",
       " 'Geox',\n",
       " 'Geox',\n",
       " 'PUMA Hoops',\n",
       " 'UNDER ARMOUR',\n",
       " 'Hush Puppies',\n",
       " 'Geox',\n",
       " 'Geox',\n",
       " 'RARE RABBIT',\n",
       " 'Quechua By Decathlon',\n",
       " 'Geox',\n",
       " 'Cole Haan',\n",
       " 'UNDER ARMOUR',\n",
       " 'Puma',\n",
       " 'Geox',\n",
       " 'PUMA Hoops',\n",
       " 'Puma',\n",
       " 'J.FONTINI',\n",
       " 'UNDER ARMOUR',\n",
       " 'Geox',\n",
       " 'Geox',\n",
       " 'Geox',\n",
       " 'Geox',\n",
       " 'Cole Haan',\n",
       " 'Geox',\n",
       " 'Geox',\n",
       " 'Nike',\n",
       " 'Bugatti',\n",
       " 'Geox',\n",
       " 'Hush Puppies',\n",
       " 'UNDER ARMOUR',\n",
       " 'Hush Puppies',\n",
       " 'DAVINCHI',\n",
       " 'Ruosh',\n",
       " 'Cole Haan',\n",
       " 'Ruosh',\n",
       " 'RARE RABBIT',\n",
       " 'Puma',\n",
       " 'Ruosh',\n",
       " 'J.FONTINI',\n",
       " 'J.FONTINI',\n",
       " 'Bugatti',\n",
       " 'RARE RABBIT',\n",
       " 'KIPRUN By Decathlon',\n",
       " 'ALDO',\n",
       " 'Heel & Buckle London',\n",
       " 'Heel & Buckle London',\n",
       " 'RARE RABBIT',\n",
       " 'UNDER ARMOUR',\n",
       " 'Geox',\n",
       " 'Geox',\n",
       " 'UNDER ARMOUR',\n",
       " 'UNDER ARMOUR',\n",
       " 'Geox',\n",
       " 'UNDER ARMOUR',\n",
       " 'DAVINCHI',\n",
       " 'FILA',\n",
       " 'Kalenji By Decathlon',\n",
       " 'Geox',\n",
       " 'Geox',\n",
       " 'RARE RABBIT',\n",
       " 'Geox',\n",
       " 'Geox',\n",
       " 'Geox',\n",
       " 'Geox',\n",
       " 'Cole Haan',\n",
       " 'Nike',\n",
       " 'Geox',\n",
       " 'Geox',\n",
       " 'Geox',\n",
       " 'VIONIC',\n",
       " 'J.FONTINI',\n",
       " 'J.FONTINI']"
      ]
     },
     "execution_count": 451,
     "metadata": {},
     "output_type": "execute_result"
    }
   ],
   "source": [
    "brand_titles=[]\n",
    "for i in page_url[0:2]:\n",
    "    driver.get(i)\n",
    "    brand_tags=driver.find_elements_by_xpath(\"//li[@class='product-base']//h3[1]\")\n",
    "    for i in brand_tags:\n",
    "        brand_titles.append(i.text)\n",
    "brand_titles"
   ]
  },
  {
   "cell_type": "markdown",
   "metadata": {},
   "source": [
    "Scrape the Brand names fom 2 pages"
   ]
  },
  {
   "cell_type": "code",
   "execution_count": 452,
   "metadata": {},
   "outputs": [
    {
     "name": "stdout",
     "output_type": "stream",
     "text": [
      "100\n"
     ]
    }
   ],
   "source": [
    "print(len(brand_titles))"
   ]
  },
  {
   "cell_type": "code",
   "execution_count": 453,
   "metadata": {},
   "outputs": [
    {
     "data": {
      "text/plain": [
       "['LEBRON XVIII Basketball Shoes',\n",
       " 'Men Driving Shoes',\n",
       " 'Men Charged Bandit 6 Running',\n",
       " 'Men Cell Fraction Fade Running',\n",
       " 'Men Leather Sneakers',\n",
       " 'Women HOVR Sonic 4 Colorshift',\n",
       " 'Men HOVR Sonic 4 Colorshift',\n",
       " 'Unisex Project Rock Recruit',\n",
       " 'Men Charged Vantage Running',\n",
       " 'Men KD500 Running Shoe',\n",
       " 'Men Charged Pursuit 2 SE Shoes',\n",
       " 'Women SUPERNOVA Running Shoes',\n",
       " 'Men Charged Assert 8 Marble',\n",
       " 'Men Charged Pursuit 2 SE',\n",
       " 'Men Velocity Nitro Running',\n",
       " 'Women Deviate Nitro Running',\n",
       " 'GS SC 3Zero IV Basketball',\n",
       " 'Men HOVR Sonic 4 Running Shoes',\n",
       " 'Men Charged Rogue 2.5 RFLCT',\n",
       " 'Men Charged Commit 3 Training',\n",
       " 'Men SOFTRIDE Rift Shoes',\n",
       " 'Women Charged Vantage ClrShft',\n",
       " 'Men HOVR Infinite Running',\n",
       " 'Men Formal Derbys',\n",
       " 'Men HOVR Sonic STRT Tech Shoes',\n",
       " 'Men Leather Slip-On Sneakers',\n",
       " 'TREKKING 100 Boots',\n",
       " 'Unisex Clyde Basketball Shoes',\n",
       " 'Women Charged Impulse Shft',\n",
       " 'Men Solid Leather Formal Slip-Ons',\n",
       " 'Men Perforated Slip On Sneaker',\n",
       " 'Men Trekking Shoes',\n",
       " 'Leather Sneakers',\n",
       " 'Women HOVR Sonic 4 FnRn',\n",
       " 'Men Leather Semiformal Driving',\n",
       " 'Women Eternity Nitro Running',\n",
       " 'Unisex Clyde Basketball Shoes',\n",
       " 'Unisex Future Rider Sneakers',\n",
       " 'Men Woven Design Sneakers',\n",
       " 'Men Leather Formal Derbys',\n",
       " 'Men Phade Running Shoes',\n",
       " 'Men Leather Formal Brogues',\n",
       " 'Men Driving Shoes',\n",
       " 'Men Solid Sneakers',\n",
       " 'Men Leather Formal Derbys',\n",
       " 'Men Colourblocked Leather Derbys',\n",
       " 'Men Wingtip Oxford Sneakers',\n",
       " 'Men Leather Formal Derbys',\n",
       " 'Men Leather Formal Derbys',\n",
       " 'Men Leather Driving Shoes',\n",
       " 'Men Leather Flat Boots',\n",
       " 'Men KD500 Running Shoe',\n",
       " \"Men BlazerLow '77 Sneakers\",\n",
       " 'Men Textured Leather Loafers',\n",
       " 'Men Sneakers',\n",
       " 'Men Leather Sneakers',\n",
       " 'Men Solid Leather Formal Derbys',\n",
       " 'Men Solid Leather Formal Slip-Ons',\n",
       " 'HOVR Sonic 3 Running Shoes',\n",
       " 'Men Textured Formal Leather Loafers',\n",
       " 'Men Solid Leather Formal Oxfords',\n",
       " 'Men Leather Formal Derbys',\n",
       " 'Women Solid Leather Ballerinas',\n",
       " 'Men Leather Formal Brogues',\n",
       " 'Men Formal Leather Brogues',\n",
       " 'Men Leather Formal Derbys',\n",
       " 'Men Solid Leather Formal Derbys',\n",
       " 'Men Leather Formal Brogues',\n",
       " 'Women Velocity Nitro Running',\n",
       " 'Men Solid Formal Loafers',\n",
       " 'Men Leather Formal Derbys',\n",
       " 'Men Textured Leather Formal Loafers',\n",
       " 'Men Perforated Slip On Sneaker',\n",
       " 'Women Running Shoes',\n",
       " 'Women Solid Sneakers',\n",
       " 'Women Peep Toe Heels',\n",
       " 'Women Leather Pumps',\n",
       " 'Men Woven Design Sneakers',\n",
       " 'Men Semi-Formal Slip-Ons',\n",
       " 'Women Charged Bandit 6 Running',\n",
       " 'Men Leather Formal Slip-Ons',\n",
       " 'Women Charged Assert 8 Running',\n",
       " 'Women Charged Rogue 2.5ClrSft',\n",
       " 'Women Leather Solid Pumps',\n",
       " 'Women HOVR Sonic 4 Running',\n",
       " 'Men Colourblocked Leather Derbys',\n",
       " 'DAVINCHI',\n",
       " 'Men Leather Driving Shoes',\n",
       " 'Men Running Shoes',\n",
       " 'Men Solid Leather Sneakers',\n",
       " 'Men Perforations Leather Brogues',\n",
       " 'Men Printed Slip-On Sneakers',\n",
       " 'Men Leather Driving Shoes',\n",
       " 'Men GENERATION ZEROGRAND STITCHLITE',\n",
       " 'Women AIR ZOOM Running',\n",
       " 'Men Leather Slip-On Sneakers',\n",
       " 'Men Leather Driving Shoes',\n",
       " 'Men Textured Sneakers',\n",
       " 'Men Textured Leather Loafers',\n",
       " 'Men Textured Leather Loafers']"
      ]
     },
     "execution_count": 453,
     "metadata": {},
     "output_type": "execute_result"
    }
   ],
   "source": [
    "description_titles=[]\n",
    "for i in page_url[0:2]:\n",
    "    driver.get(i)\n",
    "    description_tags=driver.find_elements_by_xpath(\"//li[@class='product-base']//h4[1]\")\n",
    "    for i in description_tags:\n",
    "        description_titles.append(i.text)\n",
    "description_titles"
   ]
  },
  {
   "cell_type": "markdown",
   "metadata": {},
   "source": [
    "Scrape descriptions from two pages"
   ]
  },
  {
   "cell_type": "code",
   "execution_count": 454,
   "metadata": {},
   "outputs": [
    {
     "name": "stdout",
     "output_type": "stream",
     "text": [
      "100\n"
     ]
    }
   ],
   "source": [
    "print(len(description_titles))"
   ]
  },
  {
   "cell_type": "code",
   "execution_count": 455,
   "metadata": {},
   "outputs": [
    {
     "data": {
      "text/plain": [
       "['Rs. 11999',\n",
       " 'Rs. 11436Rs. 17595(35% OFF)',\n",
       " 'Rs. 8999',\n",
       " 'Rs. 6999',\n",
       " 'Rs. 8399Rs. 10499(20% OFF)',\n",
       " 'Rs. 10999',\n",
       " 'Rs. 6990',\n",
       " 'Rs. 10999',\n",
       " 'Rs. 9999',\n",
       " 'Rs. 7999',\n",
       " 'Rs. 6999',\n",
       " 'Rs. 6999Rs. 9999(30% OFF)',\n",
       " 'Rs. 6999',\n",
       " 'Rs. 6999',\n",
       " 'Rs. 10999',\n",
       " 'Rs. 9749Rs. 14999(35% OFF)',\n",
       " 'Rs. 7499',\n",
       " 'Rs. 10999',\n",
       " 'Rs. 8799Rs. 10999(20% OFF)',\n",
       " 'Rs. 7999',\n",
       " 'Rs. 7999',\n",
       " 'Rs. 6499',\n",
       " 'Rs. 11999',\n",
       " 'Rs. 7999',\n",
       " 'Rs. 9999',\n",
       " 'Rs. 8999Rs. 9999(10% OFF)',\n",
       " 'Rs. 9999',\n",
       " 'Rs. 6999Rs. 9999(30% OFF)',\n",
       " 'Rs. 6999',\n",
       " 'Rs. 10999',\n",
       " 'Rs. 8999',\n",
       " 'Rs. 7499',\n",
       " 'Rs. 8099Rs. 8999(10% OFF)',\n",
       " 'Rs. 7999Rs. 9999(20% OFF)',\n",
       " 'Rs. 9999',\n",
       " 'Rs. 8799Rs. 10999(20% OFF)',\n",
       " 'Rs. 10999',\n",
       " 'Rs. 8449Rs. 12999(35% OFF)',\n",
       " 'Rs. 10490',\n",
       " 'Rs. 7149Rs. 10999(35% OFF)',\n",
       " 'Rs. 6999',\n",
       " 'Rs. 8999',\n",
       " 'Rs. 6499',\n",
       " 'Rs. 7199Rs. 8999(20% OFF)',\n",
       " 'Rs. 10399Rs. 12999(20% OFF)',\n",
       " 'Rs. 11999',\n",
       " 'Rs. 9999',\n",
       " 'Rs. 7195',\n",
       " 'Rs. 10999',\n",
       " 'Rs. 6399Rs. 7999(20% OFF)',\n",
       " 'Rs. 6990',\n",
       " 'Rs. 6399Rs. 7999(20% OFF)',\n",
       " 'Rs. 9999',\n",
       " 'Rs. 8999Rs. 9999(10% OFF)',\n",
       " 'Rs. 10999',\n",
       " 'Rs. 7999Rs. 9999(20% OFF)',\n",
       " 'Rs. 8999Rs. 9999(10% OFF)',\n",
       " 'Rs. 8990',\n",
       " 'Rs. 7773Rs. 8449(8% OFF)',\n",
       " 'Rs. 9999',\n",
       " 'Rs. 8094Rs. 13490(40% OFF)',\n",
       " 'Rs. 11199Rs. 13999(20% OFF)',\n",
       " 'Rs. 10999',\n",
       " 'Rs. 6990',\n",
       " 'Rs. 6990',\n",
       " 'Rs. 7149Rs. 10999(35% OFF)',\n",
       " 'Rs. 6490',\n",
       " 'Rs. 6399Rs. 7999(20% OFF)',\n",
       " 'Rs. 9999',\n",
       " 'Rs. 11999',\n",
       " 'Rs. 9999',\n",
       " 'Rs. 7006Rs. 7149(2% OFF)',\n",
       " 'Rs. 8399Rs. 10499(20% OFF)',\n",
       " 'Rs. 7999',\n",
       " 'Rs. 7192Rs. 8990(20% OFF)',\n",
       " 'Rs. 7192Rs. 8990(20% OFF)',\n",
       " 'Rs. 8999',\n",
       " 'Rs. 7199Rs. 8999(20% OFF)',\n",
       " 'Rs. 9999',\n",
       " 'Rs. 7199Rs. 8999(20% OFF)',\n",
       " 'Rs. 6999',\n",
       " 'Rs. 7999',\n",
       " 'Rs. 11990',\n",
       " 'Rs. 10999',\n",
       " 'Rs. 7990',\n",
       " 'Rs. 8799Rs. 10999(20% OFF)',\n",
       " 'Rs. 8499',\n",
       " 'Rs. 6499',\n",
       " 'Rs. 9999',\n",
       " 'Rs. 7199Rs. 8999(20% OFF)',\n",
       " 'Rs. 6999',\n",
       " 'Rs. 9999',\n",
       " 'Rs. 8799Rs. 10999(20% OFF)',\n",
       " 'Rs. 9599Rs. 11999(20% OFF)',\n",
       " 'Rs. 8771Rs. 13495(35% OFF)',\n",
       " 'Rs. 9490',\n",
       " 'Rs. 9990',\n",
       " 'Rs. 7039Rs. 10999(36% OFF)',\n",
       " 'Rs. 7990',\n",
       " 'Rs. 7990']"
      ]
     },
     "execution_count": 455,
     "metadata": {},
     "output_type": "execute_result"
    }
   ],
   "source": [
    "prise_titles=[]\n",
    "for i in page_url[0:2]:\n",
    "    driver.get(i)\n",
    "    prise_tags=driver.find_elements_by_xpath(\"//div[@class='product-price']\")\n",
    "    for i in prise_tags:\n",
    "        prise_titles.append(i.text)\n",
    "prise_titles"
   ]
  },
  {
   "cell_type": "markdown",
   "metadata": {},
   "source": [
    "Scrape prise from 2 pages"
   ]
  },
  {
   "cell_type": "code",
   "execution_count": 456,
   "metadata": {},
   "outputs": [
    {
     "name": "stdout",
     "output_type": "stream",
     "text": [
      "100\n"
     ]
    }
   ],
   "source": [
    "print(len(prise_titles))"
   ]
  },
  {
   "cell_type": "code",
   "execution_count": 457,
   "metadata": {},
   "outputs": [
    {
     "name": "stdout",
     "output_type": "stream",
     "text": [
      "100 100 100\n"
     ]
    }
   ],
   "source": [
    "print(len(prise_titles),len(description_titles),len(brand_titles))"
   ]
  },
  {
   "cell_type": "code",
   "execution_count": 458,
   "metadata": {},
   "outputs": [],
   "source": [
    "jobs=pd.DataFrame()\n",
    "jobs['brand_titles']=brand_titles\n",
    "jobs['description_titles']=description_titles\n",
    "jobs['prise_titles']=prise_titles"
   ]
  },
  {
   "cell_type": "code",
   "execution_count": 459,
   "metadata": {},
   "outputs": [
    {
     "data": {
      "text/html": [
       "<div>\n",
       "<style scoped>\n",
       "    .dataframe tbody tr th:only-of-type {\n",
       "        vertical-align: middle;\n",
       "    }\n",
       "\n",
       "    .dataframe tbody tr th {\n",
       "        vertical-align: top;\n",
       "    }\n",
       "\n",
       "    .dataframe thead th {\n",
       "        text-align: right;\n",
       "    }\n",
       "</style>\n",
       "<table border=\"1\" class=\"dataframe\">\n",
       "  <thead>\n",
       "    <tr style=\"text-align: right;\">\n",
       "      <th></th>\n",
       "      <th>brand_titles</th>\n",
       "      <th>description_titles</th>\n",
       "      <th>prise_titles</th>\n",
       "    </tr>\n",
       "  </thead>\n",
       "  <tbody>\n",
       "    <tr>\n",
       "      <th>0</th>\n",
       "      <td>ALDO</td>\n",
       "      <td>LEBRON XVIII Basketball Shoes</td>\n",
       "      <td>Rs. 11999</td>\n",
       "    </tr>\n",
       "    <tr>\n",
       "      <th>1</th>\n",
       "      <td>UNDER ARMOUR</td>\n",
       "      <td>Men Driving Shoes</td>\n",
       "      <td>Rs. 11436Rs. 17595(35% OFF)</td>\n",
       "    </tr>\n",
       "    <tr>\n",
       "      <th>2</th>\n",
       "      <td>Nike</td>\n",
       "      <td>Men Charged Bandit 6 Running</td>\n",
       "      <td>Rs. 8999</td>\n",
       "    </tr>\n",
       "    <tr>\n",
       "      <th>3</th>\n",
       "      <td>Puma</td>\n",
       "      <td>Men Cell Fraction Fade Running</td>\n",
       "      <td>Rs. 6999</td>\n",
       "    </tr>\n",
       "    <tr>\n",
       "      <th>4</th>\n",
       "      <td>Geox</td>\n",
       "      <td>Men Leather Sneakers</td>\n",
       "      <td>Rs. 8399Rs. 10499(20% OFF)</td>\n",
       "    </tr>\n",
       "    <tr>\n",
       "      <th>...</th>\n",
       "      <td>...</td>\n",
       "      <td>...</td>\n",
       "      <td>...</td>\n",
       "    </tr>\n",
       "    <tr>\n",
       "      <th>95</th>\n",
       "      <td>Geox</td>\n",
       "      <td>Men Leather Slip-On Sneakers</td>\n",
       "      <td>Rs. 9490</td>\n",
       "    </tr>\n",
       "    <tr>\n",
       "      <th>96</th>\n",
       "      <td>Geox</td>\n",
       "      <td>Men Leather Driving Shoes</td>\n",
       "      <td>Rs. 9990</td>\n",
       "    </tr>\n",
       "    <tr>\n",
       "      <th>97</th>\n",
       "      <td>VIONIC</td>\n",
       "      <td>Men Textured Sneakers</td>\n",
       "      <td>Rs. 7039Rs. 10999(36% OFF)</td>\n",
       "    </tr>\n",
       "    <tr>\n",
       "      <th>98</th>\n",
       "      <td>J.FONTINI</td>\n",
       "      <td>Men Textured Leather Loafers</td>\n",
       "      <td>Rs. 7990</td>\n",
       "    </tr>\n",
       "    <tr>\n",
       "      <th>99</th>\n",
       "      <td>J.FONTINI</td>\n",
       "      <td>Men Textured Leather Loafers</td>\n",
       "      <td>Rs. 7990</td>\n",
       "    </tr>\n",
       "  </tbody>\n",
       "</table>\n",
       "<p>100 rows × 3 columns</p>\n",
       "</div>"
      ],
      "text/plain": [
       "    brand_titles              description_titles                 prise_titles\n",
       "0           ALDO   LEBRON XVIII Basketball Shoes                    Rs. 11999\n",
       "1   UNDER ARMOUR               Men Driving Shoes  Rs. 11436Rs. 17595(35% OFF)\n",
       "2           Nike    Men Charged Bandit 6 Running                     Rs. 8999\n",
       "3           Puma  Men Cell Fraction Fade Running                     Rs. 6999\n",
       "4           Geox            Men Leather Sneakers   Rs. 8399Rs. 10499(20% OFF)\n",
       "..           ...                             ...                          ...\n",
       "95          Geox    Men Leather Slip-On Sneakers                     Rs. 9490\n",
       "96          Geox       Men Leather Driving Shoes                     Rs. 9990\n",
       "97        VIONIC           Men Textured Sneakers   Rs. 7039Rs. 10999(36% OFF)\n",
       "98     J.FONTINI    Men Textured Leather Loafers                     Rs. 7990\n",
       "99     J.FONTINI    Men Textured Leather Loafers                     Rs. 7990\n",
       "\n",
       "[100 rows x 3 columns]"
      ]
     },
     "execution_count": 459,
     "metadata": {},
     "output_type": "execute_result"
    }
   ],
   "source": [
    "jobs"
   ]
  },
  {
   "cell_type": "markdown",
   "metadata": {},
   "source": [
    "Create Dataframe of 100 shoes"
   ]
  },
  {
   "cell_type": "markdown",
   "metadata": {},
   "source": []
  },
  {
   "cell_type": "markdown",
   "metadata": {},
   "source": [
    "Q10: Go to webpage https://www.amazon.in/\n",
    " Enter “Laptop” in the search field and then click the search icon"
   ]
  },
  {
   "cell_type": "code",
   "execution_count": 302,
   "metadata": {},
   "outputs": [],
   "source": [
    "driver = webdriver.Chrome(r\"C:\\Users\\Ankita\\Downloads\\chromedriver_win32\\chromedriver.exe\")"
   ]
  },
  {
   "cell_type": "markdown",
   "metadata": {},
   "source": [
    "Chrome driver path"
   ]
  },
  {
   "cell_type": "code",
   "execution_count": 303,
   "metadata": {},
   "outputs": [],
   "source": [
    "url = 'https://www.amazon.in/'\n",
    "driver.get(url)"
   ]
  },
  {
   "cell_type": "markdown",
   "metadata": {},
   "source": [
    "Enter amazon URL"
   ]
  },
  {
   "cell_type": "code",
   "execution_count": 304,
   "metadata": {},
   "outputs": [
    {
     "data": {
      "text/plain": [
       "<selenium.webdriver.remote.webelement.WebElement (session=\"1312acf8016a1895684eb37a2610fa9c\", element=\"40e22452-cf57-4d50-8c63-b133f1ed2819\")>"
      ]
     },
     "execution_count": 304,
     "metadata": {},
     "output_type": "execute_result"
    }
   ],
   "source": [
    "search_job = driver.find_element_by_xpath(\"/html/body/div[1]/header/div/div[1]/div[2]/div/form/div[2]/div[1]/input\")\n",
    "search_job"
   ]
  },
  {
   "cell_type": "code",
   "execution_count": 305,
   "metadata": {},
   "outputs": [],
   "source": [
    "search_job.send_keys(\"Laptop\")"
   ]
  },
  {
   "cell_type": "markdown",
   "metadata": {},
   "source": [
    "Enter Laptop on search field"
   ]
  },
  {
   "cell_type": "code",
   "execution_count": 306,
   "metadata": {},
   "outputs": [
    {
     "data": {
      "text/plain": [
       "<selenium.webdriver.remote.webelement.WebElement (session=\"1312acf8016a1895684eb37a2610fa9c\", element=\"e6af64b4-5e9c-4c37-a224-4104b6554aa3\")>"
      ]
     },
     "execution_count": 306,
     "metadata": {},
     "output_type": "execute_result"
    }
   ],
   "source": [
    "search_btn = driver.find_element_by_xpath(\"//div[@class='nav-search-submit nav-sprite']\")\n",
    "search_btn"
   ]
  },
  {
   "cell_type": "code",
   "execution_count": 307,
   "metadata": {},
   "outputs": [],
   "source": [
    "search_btn.click()"
   ]
  },
  {
   "cell_type": "markdown",
   "metadata": {},
   "source": [
    "Click on search button"
   ]
  },
  {
   "cell_type": "code",
   "execution_count": 308,
   "metadata": {},
   "outputs": [],
   "source": [
    "version_filter = driver.find_element_by_xpath('/html/body/div[1]/div[2]/div[1]/div[2]/div/div[3]/span/div[1]/span/div/div/div[6]/ul[17]/li[9]/span/a/div/label/i')\n",
    "version_filter.click()"
   ]
  },
  {
   "cell_type": "markdown",
   "metadata": {},
   "source": [
    "Click and select core i7 filter"
   ]
  },
  {
   "cell_type": "code",
   "execution_count": 309,
   "metadata": {},
   "outputs": [],
   "source": [
    "version9_filter = driver.find_element_by_xpath('/html/body/div[1]/div[2]/div[1]/div[2]/div/div[3]/span/div[1]/span/div/div/div[6]/ul[17]/li[28]/span/a/div/label/i')\n",
    "version9_filter.click()"
   ]
  },
  {
   "cell_type": "markdown",
   "metadata": {},
   "source": [
    "Click and select core i9 filter"
   ]
  },
  {
   "cell_type": "code",
   "execution_count": 310,
   "metadata": {},
   "outputs": [
    {
     "data": {
      "text/plain": [
       "[<selenium.webdriver.remote.webelement.WebElement (session=\"1312acf8016a1895684eb37a2610fa9c\", element=\"1c10bed5-3fe9-40cf-820f-07b6e36d5ddc\")>,\n",
       " <selenium.webdriver.remote.webelement.WebElement (session=\"1312acf8016a1895684eb37a2610fa9c\", element=\"2e74f9f8-7a8d-4211-ab34-c5b2a9e1fe04\")>,\n",
       " <selenium.webdriver.remote.webelement.WebElement (session=\"1312acf8016a1895684eb37a2610fa9c\", element=\"22047801-107e-4eee-a2fb-b323143206ba\")>,\n",
       " <selenium.webdriver.remote.webelement.WebElement (session=\"1312acf8016a1895684eb37a2610fa9c\", element=\"5413cd91-84ab-4e26-b432-e7fada25f03d\")>,\n",
       " <selenium.webdriver.remote.webelement.WebElement (session=\"1312acf8016a1895684eb37a2610fa9c\", element=\"c2780966-af28-477c-906c-bdf14813df14\")>,\n",
       " <selenium.webdriver.remote.webelement.WebElement (session=\"1312acf8016a1895684eb37a2610fa9c\", element=\"708178cb-5ea9-4c34-833d-547795881c2e\")>,\n",
       " <selenium.webdriver.remote.webelement.WebElement (session=\"1312acf8016a1895684eb37a2610fa9c\", element=\"a3b7b841-f007-4cd1-975b-d362bcd38943\")>,\n",
       " <selenium.webdriver.remote.webelement.WebElement (session=\"1312acf8016a1895684eb37a2610fa9c\", element=\"8cfac559-a368-41e6-9f9e-f8314ba4df05\")>,\n",
       " <selenium.webdriver.remote.webelement.WebElement (session=\"1312acf8016a1895684eb37a2610fa9c\", element=\"efdba08f-cd2c-4014-b3ac-ab89179aba76\")>,\n",
       " <selenium.webdriver.remote.webelement.WebElement (session=\"1312acf8016a1895684eb37a2610fa9c\", element=\"07a74225-10d8-4c42-b92b-20bbed924900\")>,\n",
       " <selenium.webdriver.remote.webelement.WebElement (session=\"1312acf8016a1895684eb37a2610fa9c\", element=\"0263308a-b4cb-4166-9e3c-b6d4ff4c1f3b\")>,\n",
       " <selenium.webdriver.remote.webelement.WebElement (session=\"1312acf8016a1895684eb37a2610fa9c\", element=\"8b444f8f-ff9c-4c48-b261-afd805515c84\")>,\n",
       " <selenium.webdriver.remote.webelement.WebElement (session=\"1312acf8016a1895684eb37a2610fa9c\", element=\"d93a07c0-c4d5-4c69-9da4-41e6e6258085\")>,\n",
       " <selenium.webdriver.remote.webelement.WebElement (session=\"1312acf8016a1895684eb37a2610fa9c\", element=\"8b8aa8cd-f7bf-48d9-b255-7a34ddea9381\")>,\n",
       " <selenium.webdriver.remote.webelement.WebElement (session=\"1312acf8016a1895684eb37a2610fa9c\", element=\"318755a2-a938-4f84-9cc1-8567e5e751fc\")>,\n",
       " <selenium.webdriver.remote.webelement.WebElement (session=\"1312acf8016a1895684eb37a2610fa9c\", element=\"68e24fa2-23ce-40b2-b327-a5b594493281\")>,\n",
       " <selenium.webdriver.remote.webelement.WebElement (session=\"1312acf8016a1895684eb37a2610fa9c\", element=\"154de979-2e81-42dc-8702-9464dd82e421\")>,\n",
       " <selenium.webdriver.remote.webelement.WebElement (session=\"1312acf8016a1895684eb37a2610fa9c\", element=\"ae1a2a77-35bf-4a24-882e-d0f7d453b8ba\")>,\n",
       " <selenium.webdriver.remote.webelement.WebElement (session=\"1312acf8016a1895684eb37a2610fa9c\", element=\"3ec5e63c-4827-4e16-b7c5-5d4d9347476a\")>,\n",
       " <selenium.webdriver.remote.webelement.WebElement (session=\"1312acf8016a1895684eb37a2610fa9c\", element=\"e620b733-f575-4da3-a82b-431674591fe3\")>,\n",
       " <selenium.webdriver.remote.webelement.WebElement (session=\"1312acf8016a1895684eb37a2610fa9c\", element=\"bb988672-221a-4841-b252-ed2ead7e0626\")>,\n",
       " <selenium.webdriver.remote.webelement.WebElement (session=\"1312acf8016a1895684eb37a2610fa9c\", element=\"a27a8448-9273-44e4-b304-ffe25628cc69\")>,\n",
       " <selenium.webdriver.remote.webelement.WebElement (session=\"1312acf8016a1895684eb37a2610fa9c\", element=\"c5176842-0f25-4168-9466-518603c2a81c\")>,\n",
       " <selenium.webdriver.remote.webelement.WebElement (session=\"1312acf8016a1895684eb37a2610fa9c\", element=\"8ec94efc-23b0-4546-b537-3fd66cb2e67f\")>,\n",
       " <selenium.webdriver.remote.webelement.WebElement (session=\"1312acf8016a1895684eb37a2610fa9c\", element=\"0371b5c8-deff-4f9b-a85c-609fbb4c2465\")>,\n",
       " <selenium.webdriver.remote.webelement.WebElement (session=\"1312acf8016a1895684eb37a2610fa9c\", element=\"89f5a76d-1a8a-448e-8a6e-3191cefc0b8c\")>,\n",
       " <selenium.webdriver.remote.webelement.WebElement (session=\"1312acf8016a1895684eb37a2610fa9c\", element=\"faf2ec55-6a04-4447-bfa8-d273b463dd0b\")>,\n",
       " <selenium.webdriver.remote.webelement.WebElement (session=\"1312acf8016a1895684eb37a2610fa9c\", element=\"ff877bf2-3291-436e-89fa-4a50a91d877f\")>]"
      ]
     },
     "execution_count": 310,
     "metadata": {},
     "output_type": "execute_result"
    }
   ],
   "source": [
    "title_tags=driver.find_elements_by_xpath(\"//span[@class='a-size-medium a-color-base a-text-normal']\")\n",
    "title_tags"
   ]
  },
  {
   "cell_type": "code",
   "execution_count": 321,
   "metadata": {},
   "outputs": [
    {
     "data": {
      "text/plain": [
       "['Mi Notebook Horizon Edition 14 Intel Core i7-10510U 10th Gen 14-inch (35.56 cms) Thin and Light Laptop(8GB/512GB SSD/Windows 10/Nvidia MX350 2GB Graphics/Grey/1.35Kg), XMA1904-AF+Webcam',\n",
       " 'HP Envy 11th Gen Core i7 Processor 13.3-inch (33.78 cms) FHD Touchscreen Laptop (16GB/1TB SSD/Win 10/NVIDIA MX450 2GB/Natural Silver/1.3 kg), 13-ba1018TX',\n",
       " 'HP Pavilion (2021) Thin & Light 11th Gen Core i7 Laptop, 16 GB RAM, 1TB SSD, Iris Xe Graphics, 14\" (35.56cms) FHD Screen, Windows 10, MS Office, Backlit Keyboard (14-dv0058TU)',\n",
       " 'Life Digital Laptop 15.6-inch (39.62 cms) (Intel Core i7, 4GB RAM, 256GB SSD, Windows 10), ZED AIR CX7',\n",
       " 'Mi Notebook Horizon Edition 14 Intel Core i7-10510U 10th Gen 14-inch (35.56 cms) Thin and Light Laptop(8GB/512GB SSD/Windows 10/Nvidia MX350 2GB Graphics/Grey/1.35Kg), XMA1904-AF+Webcam',\n",
       " 'Life Digital Laptop 15.6-inch (39.62 cms) (Intel Core i7, 8GB RAM, 512GB SSD, Windows 10), ZED AIR CX7',\n",
       " 'Dell 14 (2021) i7-1165G7 2in1 Touch Screen Laptop, 16Gb RAM, 512Gb SSD, 14” (35.56 cms) FHD Display, Win 10 + MSO, Backlit KB + FPR + Active Pen, Silver Metal Color (Inspiron 5410, D560469WIN9S)',\n",
       " 'OMEN 17 Gaming Laptop, NVIDIA GeForce RTX 2070, Intel Core i7-10750H, 16 GB DDR4 RAM, 512 GB PCIe NVMe SSD, 17.3\" 144Hz Full HD, Windows 10 Home, RGB Keyboard (17-cb1080nr, 2020 Model)',\n",
       " 'ASUS TUF Gaming F15 (2020), 15.6-inch (39.62 cms) FHD 144Hz, Intel Core i7-10870H 10th Gen, NVIDIA GeForce GTX 1650 4GB Graphics, Gaming Laptop(8GB/512GB SSDWindows 10/Gray/2.3 Kg), FX566LH-HN255T',\n",
       " 'MSI GF75 Thin, Intel i7-10750H, 17.3\" (43.9 cm) FHD IPS-Level 144Hz Panel Laptop (8GB/512GB NVMe SSD/Windows 10 Home/Nvidia GTX1650 4GB GDDR6/Black/2.2Kg), 10SCXR-654IN']"
      ]
     },
     "execution_count": 321,
     "metadata": {},
     "output_type": "execute_result"
    }
   ],
   "source": [
    "title_titles=[]\n",
    "for i in title_tags[0:10]:\n",
    "    title_titles.append(i.text)\n",
    "title_titles"
   ]
  },
  {
   "cell_type": "markdown",
   "metadata": {},
   "source": [
    "Scrape the title information"
   ]
  },
  {
   "cell_type": "code",
   "execution_count": 322,
   "metadata": {},
   "outputs": [
    {
     "name": "stdout",
     "output_type": "stream",
     "text": [
      "10\n"
     ]
    }
   ],
   "source": [
    "print(len(title_titles))"
   ]
  },
  {
   "cell_type": "code",
   "execution_count": 414,
   "metadata": {},
   "outputs": [
    {
     "data": {
      "text/plain": [
       "[<selenium.webdriver.remote.webelement.WebElement (session=\"1312acf8016a1895684eb37a2610fa9c\", element=\"d2efed96-19b4-43c5-b1c9-6b10c4a977ed\")>,\n",
       " <selenium.webdriver.remote.webelement.WebElement (session=\"1312acf8016a1895684eb37a2610fa9c\", element=\"657b044e-67d1-4f08-9ca3-d1b262a9abd1\")>]"
      ]
     },
     "execution_count": 414,
     "metadata": {},
     "output_type": "execute_result"
    }
   ],
   "source": [
    "rating_tags=driver.find_elements_by_xpath(\"//div[@class='a-icon-row a-spacing-small a-padding-none']//span\")\n",
    "rating_tags"
   ]
  },
  {
   "cell_type": "code",
   "execution_count": 415,
   "metadata": {
    "scrolled": true
   },
   "outputs": [
    {
     "data": {
      "text/plain": [
       "['', '']"
      ]
     },
     "execution_count": 415,
     "metadata": {},
     "output_type": "execute_result"
    }
   ],
   "source": [
    "rating_titles=[]\n",
    "for i in rating_tags[0:10]:\n",
    "    rating_titles.append(i.text)\n",
    "rating_titles"
   ]
  },
  {
   "cell_type": "code",
   "execution_count": 416,
   "metadata": {},
   "outputs": [
    {
     "data": {
      "text/plain": [
       "[<selenium.webdriver.remote.webelement.WebElement (session=\"1312acf8016a1895684eb37a2610fa9c\", element=\"c4436820-973d-4072-81b4-518281b0cea1\")>,\n",
       " <selenium.webdriver.remote.webelement.WebElement (session=\"1312acf8016a1895684eb37a2610fa9c\", element=\"5dc5e5ad-2646-475f-8814-148d27cf227d\")>,\n",
       " <selenium.webdriver.remote.webelement.WebElement (session=\"1312acf8016a1895684eb37a2610fa9c\", element=\"369222b3-b0d8-4ff7-8149-e666354a99d8\")>,\n",
       " <selenium.webdriver.remote.webelement.WebElement (session=\"1312acf8016a1895684eb37a2610fa9c\", element=\"a416c98a-445a-4869-8c58-cfad7ea29bba\")>,\n",
       " <selenium.webdriver.remote.webelement.WebElement (session=\"1312acf8016a1895684eb37a2610fa9c\", element=\"cb5d9e86-2ad4-41c6-92cb-654fc908ffeb\")>,\n",
       " <selenium.webdriver.remote.webelement.WebElement (session=\"1312acf8016a1895684eb37a2610fa9c\", element=\"5069393b-bc7b-43ce-b0be-88fad44ce926\")>,\n",
       " <selenium.webdriver.remote.webelement.WebElement (session=\"1312acf8016a1895684eb37a2610fa9c\", element=\"1cbdf7c0-f5d6-4085-aa80-0f24e80dd29f\")>,\n",
       " <selenium.webdriver.remote.webelement.WebElement (session=\"1312acf8016a1895684eb37a2610fa9c\", element=\"c3a3d0d9-284c-4d9e-8894-52f5a2c7d81b\")>,\n",
       " <selenium.webdriver.remote.webelement.WebElement (session=\"1312acf8016a1895684eb37a2610fa9c\", element=\"68ac4b7c-dcaf-4399-8f37-2803b8db6df5\")>,\n",
       " <selenium.webdriver.remote.webelement.WebElement (session=\"1312acf8016a1895684eb37a2610fa9c\", element=\"c8194391-138a-474f-affe-138e44c11194\")>,\n",
       " <selenium.webdriver.remote.webelement.WebElement (session=\"1312acf8016a1895684eb37a2610fa9c\", element=\"fbc67226-922d-4d03-ac4e-b28901c6bea2\")>,\n",
       " <selenium.webdriver.remote.webelement.WebElement (session=\"1312acf8016a1895684eb37a2610fa9c\", element=\"23cad262-31e1-4d38-a1e0-c74fed9bf42e\")>,\n",
       " <selenium.webdriver.remote.webelement.WebElement (session=\"1312acf8016a1895684eb37a2610fa9c\", element=\"ed5cb3ec-ecad-4659-be08-ad03ec416f9f\")>,\n",
       " <selenium.webdriver.remote.webelement.WebElement (session=\"1312acf8016a1895684eb37a2610fa9c\", element=\"2744383c-39ac-4244-a2c2-dfb026066a11\")>,\n",
       " <selenium.webdriver.remote.webelement.WebElement (session=\"1312acf8016a1895684eb37a2610fa9c\", element=\"fa6f4ef0-3e6d-4312-bb24-3aa6a9cef229\")>,\n",
       " <selenium.webdriver.remote.webelement.WebElement (session=\"1312acf8016a1895684eb37a2610fa9c\", element=\"c831d74b-5ca4-4dc8-94ce-a91c5a7e650c\")>,\n",
       " <selenium.webdriver.remote.webelement.WebElement (session=\"1312acf8016a1895684eb37a2610fa9c\", element=\"7d80914f-d4f7-4b19-bf8f-4f58dea07030\")>,\n",
       " <selenium.webdriver.remote.webelement.WebElement (session=\"1312acf8016a1895684eb37a2610fa9c\", element=\"ee81dab8-867a-4144-92ed-0d2c7e2752ac\")>,\n",
       " <selenium.webdriver.remote.webelement.WebElement (session=\"1312acf8016a1895684eb37a2610fa9c\", element=\"f1b58a69-90aa-4f38-b769-aa284fd35fad\")>,\n",
       " <selenium.webdriver.remote.webelement.WebElement (session=\"1312acf8016a1895684eb37a2610fa9c\", element=\"b20e557e-73a9-47a4-8f94-53a22e8f5e1d\")>,\n",
       " <selenium.webdriver.remote.webelement.WebElement (session=\"1312acf8016a1895684eb37a2610fa9c\", element=\"67adb8f0-827a-4934-be2e-8d8de09340c1\")>,\n",
       " <selenium.webdriver.remote.webelement.WebElement (session=\"1312acf8016a1895684eb37a2610fa9c\", element=\"a492a9d8-5dc8-4aa5-b6b7-86484c89a3ab\")>,\n",
       " <selenium.webdriver.remote.webelement.WebElement (session=\"1312acf8016a1895684eb37a2610fa9c\", element=\"6533aa5f-6d7c-4617-b250-526db8c31173\")>,\n",
       " <selenium.webdriver.remote.webelement.WebElement (session=\"1312acf8016a1895684eb37a2610fa9c\", element=\"f0c3234f-2254-43db-a987-6f43643ad88f\")>,\n",
       " <selenium.webdriver.remote.webelement.WebElement (session=\"1312acf8016a1895684eb37a2610fa9c\", element=\"c3543775-4c2e-460a-bda7-52af6ebf53de\")>]"
      ]
     },
     "execution_count": 416,
     "metadata": {},
     "output_type": "execute_result"
    }
   ],
   "source": [
    "cost_tags=driver.find_elements_by_xpath(\"//span[@class='a-price-whole']\")\n",
    "cost_tags"
   ]
  },
  {
   "cell_type": "code",
   "execution_count": 417,
   "metadata": {},
   "outputs": [
    {
     "data": {
      "text/plain": [
       "['59,999',\n",
       " '99,990',\n",
       " '84,990',\n",
       " '29,990',\n",
       " '59,999',\n",
       " '34,990',\n",
       " '94,400',\n",
       " '71,990',\n",
       " '74,990',\n",
       " '85,390']"
      ]
     },
     "execution_count": 417,
     "metadata": {},
     "output_type": "execute_result"
    }
   ],
   "source": [
    "cost_titles=[]\n",
    "for i in cost_tags[0:10]:\n",
    "    cost_titles.append(i.text)\n",
    "cost_titles"
   ]
  },
  {
   "cell_type": "markdown",
   "metadata": {},
   "source": [
    "Scrape the cost information"
   ]
  },
  {
   "cell_type": "code",
   "execution_count": 418,
   "metadata": {},
   "outputs": [
    {
     "name": "stdout",
     "output_type": "stream",
     "text": [
      "10\n"
     ]
    }
   ],
   "source": [
    "print(len(cost_titles))"
   ]
  },
  {
   "cell_type": "code",
   "execution_count": 419,
   "metadata": {},
   "outputs": [
    {
     "name": "stdout",
     "output_type": "stream",
     "text": [
      "10 10\n"
     ]
    }
   ],
   "source": [
    "print(len(title_titles),len(cost_titles))"
   ]
  },
  {
   "cell_type": "code",
   "execution_count": 420,
   "metadata": {},
   "outputs": [],
   "source": [
    "jobs=pd.DataFrame({})\n",
    "jobs['title_titles']=title_titles\n",
    "jobs['cost_titles']=cost_titles"
   ]
  },
  {
   "cell_type": "code",
   "execution_count": 421,
   "metadata": {},
   "outputs": [
    {
     "data": {
      "text/html": [
       "<div>\n",
       "<style scoped>\n",
       "    .dataframe tbody tr th:only-of-type {\n",
       "        vertical-align: middle;\n",
       "    }\n",
       "\n",
       "    .dataframe tbody tr th {\n",
       "        vertical-align: top;\n",
       "    }\n",
       "\n",
       "    .dataframe thead th {\n",
       "        text-align: right;\n",
       "    }\n",
       "</style>\n",
       "<table border=\"1\" class=\"dataframe\">\n",
       "  <thead>\n",
       "    <tr style=\"text-align: right;\">\n",
       "      <th></th>\n",
       "      <th>title_titles</th>\n",
       "      <th>cost_titles</th>\n",
       "    </tr>\n",
       "  </thead>\n",
       "  <tbody>\n",
       "    <tr>\n",
       "      <th>0</th>\n",
       "      <td>Mi Notebook Horizon Edition 14 Intel Core i7-1...</td>\n",
       "      <td>59,999</td>\n",
       "    </tr>\n",
       "    <tr>\n",
       "      <th>1</th>\n",
       "      <td>HP Envy 11th Gen Core i7 Processor 13.3-inch (...</td>\n",
       "      <td>99,990</td>\n",
       "    </tr>\n",
       "    <tr>\n",
       "      <th>2</th>\n",
       "      <td>HP Pavilion (2021) Thin &amp; Light 11th Gen Core ...</td>\n",
       "      <td>84,990</td>\n",
       "    </tr>\n",
       "    <tr>\n",
       "      <th>3</th>\n",
       "      <td>Life Digital Laptop 15.6-inch (39.62 cms) (Int...</td>\n",
       "      <td>29,990</td>\n",
       "    </tr>\n",
       "    <tr>\n",
       "      <th>4</th>\n",
       "      <td>Mi Notebook Horizon Edition 14 Intel Core i7-1...</td>\n",
       "      <td>59,999</td>\n",
       "    </tr>\n",
       "    <tr>\n",
       "      <th>5</th>\n",
       "      <td>Life Digital Laptop 15.6-inch (39.62 cms) (Int...</td>\n",
       "      <td>34,990</td>\n",
       "    </tr>\n",
       "    <tr>\n",
       "      <th>6</th>\n",
       "      <td>Dell 14 (2021) i7-1165G7 2in1 Touch Screen Lap...</td>\n",
       "      <td>94,400</td>\n",
       "    </tr>\n",
       "    <tr>\n",
       "      <th>7</th>\n",
       "      <td>OMEN 17 Gaming Laptop, NVIDIA GeForce RTX 2070...</td>\n",
       "      <td>71,990</td>\n",
       "    </tr>\n",
       "    <tr>\n",
       "      <th>8</th>\n",
       "      <td>ASUS TUF Gaming F15 (2020), 15.6-inch (39.62 c...</td>\n",
       "      <td>74,990</td>\n",
       "    </tr>\n",
       "    <tr>\n",
       "      <th>9</th>\n",
       "      <td>MSI GF75 Thin, Intel i7-10750H, 17.3\" (43.9 cm...</td>\n",
       "      <td>85,390</td>\n",
       "    </tr>\n",
       "  </tbody>\n",
       "</table>\n",
       "</div>"
      ],
      "text/plain": [
       "                                        title_titles cost_titles\n",
       "0  Mi Notebook Horizon Edition 14 Intel Core i7-1...      59,999\n",
       "1  HP Envy 11th Gen Core i7 Processor 13.3-inch (...      99,990\n",
       "2  HP Pavilion (2021) Thin & Light 11th Gen Core ...      84,990\n",
       "3  Life Digital Laptop 15.6-inch (39.62 cms) (Int...      29,990\n",
       "4  Mi Notebook Horizon Edition 14 Intel Core i7-1...      59,999\n",
       "5  Life Digital Laptop 15.6-inch (39.62 cms) (Int...      34,990\n",
       "6  Dell 14 (2021) i7-1165G7 2in1 Touch Screen Lap...      94,400\n",
       "7  OMEN 17 Gaming Laptop, NVIDIA GeForce RTX 2070...      71,990\n",
       "8  ASUS TUF Gaming F15 (2020), 15.6-inch (39.62 c...      74,990\n",
       "9  MSI GF75 Thin, Intel i7-10750H, 17.3\" (43.9 cm...      85,390"
      ]
     },
     "execution_count": 421,
     "metadata": {},
     "output_type": "execute_result"
    }
   ],
   "source": [
    "jobs"
   ]
  },
  {
   "cell_type": "markdown",
   "metadata": {},
   "source": [
    "Create the dataframe of 10 Laptops"
   ]
  }
 ],
 "metadata": {
  "kernelspec": {
   "display_name": "Python 3",
   "language": "python",
   "name": "python3"
  },
  "language_info": {
   "codemirror_mode": {
    "name": "ipython",
    "version": 3
   },
   "file_extension": ".py",
   "mimetype": "text/x-python",
   "name": "python",
   "nbconvert_exporter": "python",
   "pygments_lexer": "ipython3",
   "version": "3.8.5"
  }
 },
 "nbformat": 4,
 "nbformat_minor": 4
}
