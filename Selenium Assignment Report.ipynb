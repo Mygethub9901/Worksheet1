{
 "cells": [
  {
   "cell_type": "code",
   "execution_count": 322,
   "metadata": {},
   "outputs": [
    {
     "name": "stdout",
     "output_type": "stream",
     "text": [
      "Requirement already satisfied: selenium in c:\\users\\ankita\\anaconda3\\lib\\site-packages (3.141.0)\n",
      "Requirement already satisfied: urllib3 in c:\\users\\ankita\\anaconda3\\lib\\site-packages (from selenium) (1.25.11)\n"
     ]
    }
   ],
   "source": [
    "!pip install selenium"
   ]
  },
  {
   "cell_type": "markdown",
   "metadata": {},
   "source": [
    "install the selenium driver"
   ]
  },
  {
   "cell_type": "code",
   "execution_count": 323,
   "metadata": {},
   "outputs": [],
   "source": [
    "import selenium\n",
    "import pandas as pd\n",
    "from selenium import webdriver"
   ]
  },
  {
   "cell_type": "markdown",
   "metadata": {},
   "source": [
    "import files and driver"
   ]
  },
  {
   "cell_type": "code",
   "execution_count": 324,
   "metadata": {},
   "outputs": [],
   "source": [
    "driver = webdriver.Chrome(r\"C:\\Users\\Ankita\\Downloads\\chromedriver_win32\\chromedriver.exe\")"
   ]
  },
  {
   "cell_type": "markdown",
   "metadata": {},
   "source": [
    "call chrome driver link"
   ]
  },
  {
   "cell_type": "markdown",
   "metadata": {},
   "source": [
    "Q1: Write a python program to scrape data for “Data Analyst” Job position in \n",
    "“Bangalore” location. You have to scrape the job-title, job-location, company_name,\n",
    "experience_required. You have to scrape first 10 jobs data."
   ]
  },
  {
   "cell_type": "code",
   "execution_count": 325,
   "metadata": {},
   "outputs": [],
   "source": [
    "url = 'https://www.naukri.com/jobs-in-india'\n",
    "driver.get(url)"
   ]
  },
  {
   "cell_type": "markdown",
   "metadata": {},
   "source": [
    "scrape naukari url"
   ]
  },
  {
   "cell_type": "code",
   "execution_count": 326,
   "metadata": {},
   "outputs": [
    {
     "data": {
      "text/plain": [
       "<selenium.webdriver.remote.webelement.WebElement (session=\"9576bc0ade319cb3b0551fd222783593\", element=\"0820e33c-9c83-46b9-996d-b676e8f43396\")>"
      ]
     },
     "execution_count": 326,
     "metadata": {},
     "output_type": "execute_result"
    }
   ],
   "source": [
    "search_btn = driver.find_element_by_xpath(\"//span[@class='quick-search-bar__view__modify-link']\")\n",
    "search_btn"
   ]
  },
  {
   "cell_type": "code",
   "execution_count": 475,
   "metadata": {},
   "outputs": [],
   "source": [
    "search_btn.click()"
   ]
  },
  {
   "cell_type": "markdown",
   "metadata": {},
   "source": [
    "click on modify button code"
   ]
  },
  {
   "cell_type": "code",
   "execution_count": 476,
   "metadata": {},
   "outputs": [
    {
     "data": {
      "text/plain": [
       "<selenium.webdriver.remote.webelement.WebElement (session=\"d32e3d96e6caa2ea6e87f059cded0181\", element=\"a5abc3cc-5b48-4eb0-a120-b0df2aad1ec1\")>"
      ]
     },
     "execution_count": 476,
     "metadata": {},
     "output_type": "execute_result"
    }
   ],
   "source": [
    "search_job = driver.find_element_by_id('qsb-keyword-sugg')\n",
    "search_job"
   ]
  },
  {
   "cell_type": "code",
   "execution_count": 477,
   "metadata": {},
   "outputs": [],
   "source": [
    "search_job.send_keys(\"Data Analyst\")"
   ]
  },
  {
   "cell_type": "markdown",
   "metadata": {},
   "source": [
    "search button access code and enter Data Analyst in search field"
   ]
  },
  {
   "cell_type": "code",
   "execution_count": 478,
   "metadata": {},
   "outputs": [],
   "source": [
    "search_loc = driver.find_element_by_id('qsb-location-sugg')\n",
    "search_loc.send_keys(\"Bangalore\")"
   ]
  },
  {
   "cell_type": "markdown",
   "metadata": {},
   "source": [
    "Enter Bangalore in location field"
   ]
  },
  {
   "cell_type": "code",
   "execution_count": 479,
   "metadata": {},
   "outputs": [
    {
     "data": {
      "text/plain": [
       "<selenium.webdriver.remote.webelement.WebElement (session=\"d32e3d96e6caa2ea6e87f059cded0181\", element=\"682bb631-db6e-43b4-8317-56eec8296364\")>"
      ]
     },
     "execution_count": 479,
     "metadata": {},
     "output_type": "execute_result"
    }
   ],
   "source": [
    "search_btn = driver.find_element_by_xpath(\"//button[@class='btn-primary']\")\n",
    "search_btn"
   ]
  },
  {
   "cell_type": "code",
   "execution_count": 480,
   "metadata": {},
   "outputs": [],
   "source": [
    "search_btn.click()"
   ]
  },
  {
   "cell_type": "markdown",
   "metadata": {},
   "source": [
    "click on search button"
   ]
  },
  {
   "cell_type": "code",
   "execution_count": 481,
   "metadata": {},
   "outputs": [
    {
     "data": {
      "text/plain": [
       "[<selenium.webdriver.remote.webelement.WebElement (session=\"d32e3d96e6caa2ea6e87f059cded0181\", element=\"c3c084e6-a36f-4d1e-bbac-a676f75e7449\")>,\n",
       " <selenium.webdriver.remote.webelement.WebElement (session=\"d32e3d96e6caa2ea6e87f059cded0181\", element=\"dbf62295-c7b0-4298-9f98-ec6e0d337cea\")>,\n",
       " <selenium.webdriver.remote.webelement.WebElement (session=\"d32e3d96e6caa2ea6e87f059cded0181\", element=\"60c380f5-67d8-4547-b3d1-bc3d44c784a4\")>,\n",
       " <selenium.webdriver.remote.webelement.WebElement (session=\"d32e3d96e6caa2ea6e87f059cded0181\", element=\"bfebef98-78ea-4782-b59f-772be3fc51ce\")>,\n",
       " <selenium.webdriver.remote.webelement.WebElement (session=\"d32e3d96e6caa2ea6e87f059cded0181\", element=\"69591ac9-df3a-418e-abf6-f0d943084af3\")>,\n",
       " <selenium.webdriver.remote.webelement.WebElement (session=\"d32e3d96e6caa2ea6e87f059cded0181\", element=\"c157b3e4-1ab1-4907-8ce1-19282045a209\")>,\n",
       " <selenium.webdriver.remote.webelement.WebElement (session=\"d32e3d96e6caa2ea6e87f059cded0181\", element=\"a3551f1c-1bf6-4cd2-8a29-7c915b12d53a\")>,\n",
       " <selenium.webdriver.remote.webelement.WebElement (session=\"d32e3d96e6caa2ea6e87f059cded0181\", element=\"ebd1a93f-3017-4af1-882a-9f184f546105\")>,\n",
       " <selenium.webdriver.remote.webelement.WebElement (session=\"d32e3d96e6caa2ea6e87f059cded0181\", element=\"9876b7e6-3cca-4136-8909-58f0d4e461c8\")>,\n",
       " <selenium.webdriver.remote.webelement.WebElement (session=\"d32e3d96e6caa2ea6e87f059cded0181\", element=\"7cfb9ba1-129b-4744-84e7-a5e9c99c2d07\")>,\n",
       " <selenium.webdriver.remote.webelement.WebElement (session=\"d32e3d96e6caa2ea6e87f059cded0181\", element=\"893bdb78-ac56-4a2f-94dc-688f59c08426\")>,\n",
       " <selenium.webdriver.remote.webelement.WebElement (session=\"d32e3d96e6caa2ea6e87f059cded0181\", element=\"87dbf861-b761-4b52-9f83-68d45c3c1568\")>,\n",
       " <selenium.webdriver.remote.webelement.WebElement (session=\"d32e3d96e6caa2ea6e87f059cded0181\", element=\"c86e64c3-7f7e-4335-893f-65072b606dd1\")>,\n",
       " <selenium.webdriver.remote.webelement.WebElement (session=\"d32e3d96e6caa2ea6e87f059cded0181\", element=\"6e1e024c-8d03-4533-8845-9e13008a85e6\")>,\n",
       " <selenium.webdriver.remote.webelement.WebElement (session=\"d32e3d96e6caa2ea6e87f059cded0181\", element=\"66a206d8-20e9-41c8-bb89-de725e4b06c7\")>,\n",
       " <selenium.webdriver.remote.webelement.WebElement (session=\"d32e3d96e6caa2ea6e87f059cded0181\", element=\"3bee4e0f-1fcd-4251-8ad5-b180ebe1171f\")>,\n",
       " <selenium.webdriver.remote.webelement.WebElement (session=\"d32e3d96e6caa2ea6e87f059cded0181\", element=\"355e0a4d-19bd-4c73-af89-39faf22c0a76\")>,\n",
       " <selenium.webdriver.remote.webelement.WebElement (session=\"d32e3d96e6caa2ea6e87f059cded0181\", element=\"9396cbf6-8128-44fd-9ce1-8abc6b28a0fb\")>,\n",
       " <selenium.webdriver.remote.webelement.WebElement (session=\"d32e3d96e6caa2ea6e87f059cded0181\", element=\"caa6bb2a-99f1-41d6-9499-10ef2966fb14\")>,\n",
       " <selenium.webdriver.remote.webelement.WebElement (session=\"d32e3d96e6caa2ea6e87f059cded0181\", element=\"9759ab68-b177-421c-8e44-041b9fee98ea\")>]"
      ]
     },
     "execution_count": 481,
     "metadata": {},
     "output_type": "execute_result"
    }
   ],
   "source": [
    "titles_tags=driver.find_elements_by_xpath(\"//a[@class='title fw500 ellipsis']\")\n",
    "titles_tags"
   ]
  },
  {
   "cell_type": "code",
   "execution_count": 483,
   "metadata": {},
   "outputs": [
    {
     "data": {
      "text/plain": [
       "['Business Data Analyst',\n",
       " 'Business Data Analyst',\n",
       " 'Data Analyst/Business Analyst-Gurgaon/Bangalore/Mumbai (only Females)',\n",
       " 'Senior Specialist - Data Analyst',\n",
       " 'Business/Data Analyst - SSE/LA',\n",
       " 'Business Data Analyst II',\n",
       " 'Data Analyst',\n",
       " 'Data Analyst',\n",
       " 'Senior Data Analyst',\n",
       " 'Data Analyst']"
      ]
     },
     "execution_count": 483,
     "metadata": {},
     "output_type": "execute_result"
    }
   ],
   "source": [
    "job_titles=[]\n",
    "for i in titles_tags[0:10]:\n",
    "    job_titles.append(i.text)\n",
    "job_titles"
   ]
  },
  {
   "cell_type": "markdown",
   "metadata": {},
   "source": [
    "scrape job titles code"
   ]
  },
  {
   "cell_type": "code",
   "execution_count": 484,
   "metadata": {},
   "outputs": [
    {
     "data": {
      "text/plain": [
       "[<selenium.webdriver.remote.webelement.WebElement (session=\"d32e3d96e6caa2ea6e87f059cded0181\", element=\"e99f6ab3-e887-4e60-bcc4-41cfdee3c703\")>,\n",
       " <selenium.webdriver.remote.webelement.WebElement (session=\"d32e3d96e6caa2ea6e87f059cded0181\", element=\"be60ef11-be83-41e5-affe-4ed72c427266\")>,\n",
       " <selenium.webdriver.remote.webelement.WebElement (session=\"d32e3d96e6caa2ea6e87f059cded0181\", element=\"7adccec3-6781-488e-ac17-97bde932f2b8\")>,\n",
       " <selenium.webdriver.remote.webelement.WebElement (session=\"d32e3d96e6caa2ea6e87f059cded0181\", element=\"3ff22266-d1e8-4580-be0f-d512a6c4757b\")>,\n",
       " <selenium.webdriver.remote.webelement.WebElement (session=\"d32e3d96e6caa2ea6e87f059cded0181\", element=\"03f995b2-8511-48a2-a7d5-2c35bf6442ae\")>,\n",
       " <selenium.webdriver.remote.webelement.WebElement (session=\"d32e3d96e6caa2ea6e87f059cded0181\", element=\"fb18ab8c-bf9c-4c32-8fd5-ba2165a3fb57\")>,\n",
       " <selenium.webdriver.remote.webelement.WebElement (session=\"d32e3d96e6caa2ea6e87f059cded0181\", element=\"5b0dc994-6954-4525-b2bd-4dc03b9e130c\")>,\n",
       " <selenium.webdriver.remote.webelement.WebElement (session=\"d32e3d96e6caa2ea6e87f059cded0181\", element=\"0e57f3dd-53da-4561-a1e0-2caea656ddf5\")>,\n",
       " <selenium.webdriver.remote.webelement.WebElement (session=\"d32e3d96e6caa2ea6e87f059cded0181\", element=\"20f9998f-b296-4bda-b684-eacdd4259512\")>,\n",
       " <selenium.webdriver.remote.webelement.WebElement (session=\"d32e3d96e6caa2ea6e87f059cded0181\", element=\"48e14354-c2fd-45f6-b0c9-f6f45f34ef9c\")>,\n",
       " <selenium.webdriver.remote.webelement.WebElement (session=\"d32e3d96e6caa2ea6e87f059cded0181\", element=\"79279646-b419-4711-8429-a0b81c7fe20b\")>,\n",
       " <selenium.webdriver.remote.webelement.WebElement (session=\"d32e3d96e6caa2ea6e87f059cded0181\", element=\"c97cb0ac-8784-4f32-8f34-e5592453b169\")>,\n",
       " <selenium.webdriver.remote.webelement.WebElement (session=\"d32e3d96e6caa2ea6e87f059cded0181\", element=\"8e41b9a4-535a-4ed9-9f49-1c1e26593801\")>,\n",
       " <selenium.webdriver.remote.webelement.WebElement (session=\"d32e3d96e6caa2ea6e87f059cded0181\", element=\"7a7cb702-05dd-4069-8725-25f250c750ed\")>,\n",
       " <selenium.webdriver.remote.webelement.WebElement (session=\"d32e3d96e6caa2ea6e87f059cded0181\", element=\"6dc4bb94-a775-4c19-9c98-db644b321e87\")>,\n",
       " <selenium.webdriver.remote.webelement.WebElement (session=\"d32e3d96e6caa2ea6e87f059cded0181\", element=\"8abd1e93-9447-47ae-874e-31c961c90a51\")>,\n",
       " <selenium.webdriver.remote.webelement.WebElement (session=\"d32e3d96e6caa2ea6e87f059cded0181\", element=\"e605a780-0390-446c-b9dd-95b9d06fbca6\")>,\n",
       " <selenium.webdriver.remote.webelement.WebElement (session=\"d32e3d96e6caa2ea6e87f059cded0181\", element=\"c3e8517b-bc5c-4664-8352-959d0a7dfb5b\")>,\n",
       " <selenium.webdriver.remote.webelement.WebElement (session=\"d32e3d96e6caa2ea6e87f059cded0181\", element=\"8c6519e0-8beb-40dd-858b-cbcc0139ba2a\")>,\n",
       " <selenium.webdriver.remote.webelement.WebElement (session=\"d32e3d96e6caa2ea6e87f059cded0181\", element=\"b46b6484-2946-43e2-bab5-dc9c6bdfdb6f\")>]"
      ]
     },
     "execution_count": 484,
     "metadata": {},
     "output_type": "execute_result"
    }
   ],
   "source": [
    "companies_tags=driver.find_elements_by_xpath(\"//a[@class='subTitle ellipsis fleft']\")\n",
    "companies_tags\n"
   ]
  },
  {
   "cell_type": "code",
   "execution_count": 485,
   "metadata": {},
   "outputs": [
    {
     "data": {
      "text/plain": [
       "['Trigent Software',\n",
       " 'Trigent Software',\n",
       " 'India Medtronic Pvt. Ltd,.',\n",
       " 'Philips India Limited',\n",
       " 'CGI Information Systems and Management Consultants',\n",
       " 'Infobahn Softworld Inc.',\n",
       " 'WEIWO Communication Pvt. Ltd.',\n",
       " 'GCC SERVICES INDIA PRIVATE LIMITED',\n",
       " 'SMEDC SERVICES PRIVATE LIMITED',\n",
       " 'Allegis Services India Pvt. Ltd.']"
      ]
     },
     "execution_count": 485,
     "metadata": {},
     "output_type": "execute_result"
    }
   ],
   "source": [
    "company_names=[]\n",
    "for i in companies_tags[0:10]:\n",
    "    company_names.append(i.text)\n",
    "company_names"
   ]
  },
  {
   "cell_type": "markdown",
   "metadata": {},
   "source": [
    "scrape company names code"
   ]
  },
  {
   "cell_type": "code",
   "execution_count": 486,
   "metadata": {},
   "outputs": [
    {
     "data": {
      "text/plain": [
       "[<selenium.webdriver.remote.webelement.WebElement (session=\"d32e3d96e6caa2ea6e87f059cded0181\", element=\"fb8b0094-d7a9-4603-a582-92c641a670cd\")>,\n",
       " <selenium.webdriver.remote.webelement.WebElement (session=\"d32e3d96e6caa2ea6e87f059cded0181\", element=\"2816c41c-0fca-4c65-b649-64b140577fad\")>,\n",
       " <selenium.webdriver.remote.webelement.WebElement (session=\"d32e3d96e6caa2ea6e87f059cded0181\", element=\"e9fdaeec-0a94-47fb-94e4-0262fd8de731\")>,\n",
       " <selenium.webdriver.remote.webelement.WebElement (session=\"d32e3d96e6caa2ea6e87f059cded0181\", element=\"0058548d-ddc0-46d2-ba99-ed5c8b86932f\")>,\n",
       " <selenium.webdriver.remote.webelement.WebElement (session=\"d32e3d96e6caa2ea6e87f059cded0181\", element=\"7b64a91e-bbf0-4aed-9373-abc1e71df733\")>,\n",
       " <selenium.webdriver.remote.webelement.WebElement (session=\"d32e3d96e6caa2ea6e87f059cded0181\", element=\"b53f24cc-84d0-4745-aa95-ff5d80a31f59\")>,\n",
       " <selenium.webdriver.remote.webelement.WebElement (session=\"d32e3d96e6caa2ea6e87f059cded0181\", element=\"671e75c5-7a43-4d0c-82d5-2e46a1cce81d\")>,\n",
       " <selenium.webdriver.remote.webelement.WebElement (session=\"d32e3d96e6caa2ea6e87f059cded0181\", element=\"96a362a8-a978-4dbd-9357-4c8cd4c905ea\")>,\n",
       " <selenium.webdriver.remote.webelement.WebElement (session=\"d32e3d96e6caa2ea6e87f059cded0181\", element=\"77a6d166-89ec-4991-b958-1c10ea762457\")>,\n",
       " <selenium.webdriver.remote.webelement.WebElement (session=\"d32e3d96e6caa2ea6e87f059cded0181\", element=\"62b4a3f5-e62f-4ca0-ba44-46078072da09\")>,\n",
       " <selenium.webdriver.remote.webelement.WebElement (session=\"d32e3d96e6caa2ea6e87f059cded0181\", element=\"72f32cb1-d753-461d-a4bc-21617b9e65fb\")>,\n",
       " <selenium.webdriver.remote.webelement.WebElement (session=\"d32e3d96e6caa2ea6e87f059cded0181\", element=\"c01ba717-fcc1-4ce8-b7d0-7ed94d3c0469\")>,\n",
       " <selenium.webdriver.remote.webelement.WebElement (session=\"d32e3d96e6caa2ea6e87f059cded0181\", element=\"0dccc2f6-39e0-4aa8-a82f-c59e7240bb15\")>,\n",
       " <selenium.webdriver.remote.webelement.WebElement (session=\"d32e3d96e6caa2ea6e87f059cded0181\", element=\"5ec892f8-f208-4401-860c-c6d74014e898\")>,\n",
       " <selenium.webdriver.remote.webelement.WebElement (session=\"d32e3d96e6caa2ea6e87f059cded0181\", element=\"d06e3332-2277-46b2-80b4-32417edfb5fb\")>,\n",
       " <selenium.webdriver.remote.webelement.WebElement (session=\"d32e3d96e6caa2ea6e87f059cded0181\", element=\"fa594fb8-880f-44aa-afcf-4a8d7b320c3c\")>,\n",
       " <selenium.webdriver.remote.webelement.WebElement (session=\"d32e3d96e6caa2ea6e87f059cded0181\", element=\"364aa153-fe5f-4477-8029-8207fefedf3f\")>,\n",
       " <selenium.webdriver.remote.webelement.WebElement (session=\"d32e3d96e6caa2ea6e87f059cded0181\", element=\"cfdecf64-40fa-458b-b62f-d567e643b775\")>,\n",
       " <selenium.webdriver.remote.webelement.WebElement (session=\"d32e3d96e6caa2ea6e87f059cded0181\", element=\"83d2ca51-390b-4dfa-b68c-cf53f4b138a5\")>,\n",
       " <selenium.webdriver.remote.webelement.WebElement (session=\"d32e3d96e6caa2ea6e87f059cded0181\", element=\"e9614b0b-ac0b-4fc6-a543-d048a7fb4725\")>]"
      ]
     },
     "execution_count": 486,
     "metadata": {},
     "output_type": "execute_result"
    }
   ],
   "source": [
    "experience_tags=driver.find_elements_by_xpath(\"//li[@class='fleft grey-text br2 placeHolderLi experience']//span\")\n",
    "experience_tags"
   ]
  },
  {
   "cell_type": "code",
   "execution_count": 487,
   "metadata": {},
   "outputs": [
    {
     "data": {
      "text/plain": [
       "['3-5 Yrs',\n",
       " '3-5 Yrs',\n",
       " '1-4 Yrs',\n",
       " '4-8 Yrs',\n",
       " '2-5 Yrs',\n",
       " '5-8 Yrs',\n",
       " '4-8 Yrs',\n",
       " '5-9 Yrs',\n",
       " '5-8 Yrs',\n",
       " '2-5 Yrs']"
      ]
     },
     "execution_count": 487,
     "metadata": {},
     "output_type": "execute_result"
    }
   ],
   "source": [
    "experience_required=[]\n",
    "for i in experience_tags[0:10]:\n",
    "    experience_required.append(i.text)\n",
    "experience_required"
   ]
  },
  {
   "cell_type": "markdown",
   "metadata": {},
   "source": [
    "scrape exeperience information code"
   ]
  },
  {
   "cell_type": "code",
   "execution_count": 488,
   "metadata": {},
   "outputs": [
    {
     "data": {
      "text/plain": [
       "[<selenium.webdriver.remote.webelement.WebElement (session=\"d32e3d96e6caa2ea6e87f059cded0181\", element=\"f5bc6021-4c51-431a-9ba9-c1bd3deb1bee\")>,\n",
       " <selenium.webdriver.remote.webelement.WebElement (session=\"d32e3d96e6caa2ea6e87f059cded0181\", element=\"49b0d698-de0a-4362-aa61-88408cfdc7b6\")>,\n",
       " <selenium.webdriver.remote.webelement.WebElement (session=\"d32e3d96e6caa2ea6e87f059cded0181\", element=\"120d1f14-9144-47eb-9a3c-fe9b18747ba7\")>,\n",
       " <selenium.webdriver.remote.webelement.WebElement (session=\"d32e3d96e6caa2ea6e87f059cded0181\", element=\"82f0bfca-a476-49eb-832b-12c059556654\")>,\n",
       " <selenium.webdriver.remote.webelement.WebElement (session=\"d32e3d96e6caa2ea6e87f059cded0181\", element=\"357c4e20-4711-48ec-9146-c4edea84da3c\")>,\n",
       " <selenium.webdriver.remote.webelement.WebElement (session=\"d32e3d96e6caa2ea6e87f059cded0181\", element=\"5ef664a8-6446-43e3-a990-cecd2c54e64e\")>,\n",
       " <selenium.webdriver.remote.webelement.WebElement (session=\"d32e3d96e6caa2ea6e87f059cded0181\", element=\"c6dd3238-61e3-43df-b67f-7202cc1e3053\")>,\n",
       " <selenium.webdriver.remote.webelement.WebElement (session=\"d32e3d96e6caa2ea6e87f059cded0181\", element=\"7a8cd1d9-9448-4626-8ffd-73f9b6ee3dc8\")>,\n",
       " <selenium.webdriver.remote.webelement.WebElement (session=\"d32e3d96e6caa2ea6e87f059cded0181\", element=\"604a3f48-31a9-46eb-8949-aa54fb403cc9\")>,\n",
       " <selenium.webdriver.remote.webelement.WebElement (session=\"d32e3d96e6caa2ea6e87f059cded0181\", element=\"3af2b8a9-823e-4a70-a480-b01befa76c3f\")>,\n",
       " <selenium.webdriver.remote.webelement.WebElement (session=\"d32e3d96e6caa2ea6e87f059cded0181\", element=\"54c78464-3999-4d27-9521-3551b2409a17\")>,\n",
       " <selenium.webdriver.remote.webelement.WebElement (session=\"d32e3d96e6caa2ea6e87f059cded0181\", element=\"033628aa-7f39-4617-856c-67a619a02405\")>,\n",
       " <selenium.webdriver.remote.webelement.WebElement (session=\"d32e3d96e6caa2ea6e87f059cded0181\", element=\"49959539-690a-4a38-a6e8-0d27faa4e45b\")>,\n",
       " <selenium.webdriver.remote.webelement.WebElement (session=\"d32e3d96e6caa2ea6e87f059cded0181\", element=\"95f930ec-b376-4dfb-b14c-429a9d8a1f41\")>,\n",
       " <selenium.webdriver.remote.webelement.WebElement (session=\"d32e3d96e6caa2ea6e87f059cded0181\", element=\"b3eeb622-3334-4a07-9107-2c87019b7d14\")>,\n",
       " <selenium.webdriver.remote.webelement.WebElement (session=\"d32e3d96e6caa2ea6e87f059cded0181\", element=\"ac3f7742-4375-46bb-be39-02b8fe1ee95f\")>,\n",
       " <selenium.webdriver.remote.webelement.WebElement (session=\"d32e3d96e6caa2ea6e87f059cded0181\", element=\"39467f02-f565-4260-a26d-4b5f13b927bd\")>,\n",
       " <selenium.webdriver.remote.webelement.WebElement (session=\"d32e3d96e6caa2ea6e87f059cded0181\", element=\"708bb29c-cf9a-4add-b149-14bccbc58e89\")>,\n",
       " <selenium.webdriver.remote.webelement.WebElement (session=\"d32e3d96e6caa2ea6e87f059cded0181\", element=\"c31ac714-b541-4c81-9140-decc55d31286\")>,\n",
       " <selenium.webdriver.remote.webelement.WebElement (session=\"d32e3d96e6caa2ea6e87f059cded0181\", element=\"7de63bea-0520-4904-8486-57c40c5c7a10\")>]"
      ]
     },
     "execution_count": 488,
     "metadata": {},
     "output_type": "execute_result"
    }
   ],
   "source": [
    "locations_tags=driver.find_elements_by_xpath(\"//li[@class='fleft grey-text br2 placeHolderLi location']//span[1]\")\n",
    "locations_tags"
   ]
  },
  {
   "cell_type": "code",
   "execution_count": 489,
   "metadata": {},
   "outputs": [
    {
     "data": {
      "text/plain": [
       "['Bangalore/Bengaluru',\n",
       " 'Bangalore/Bengaluru',\n",
       " 'Gurgaon/Gurugram, Bangalore/Bengaluru, Mumbai (All Areas)',\n",
       " 'Bangalore/Bengaluru',\n",
       " 'Bangalore/Bengaluru',\n",
       " 'Bangalore/Bengaluru',\n",
       " 'Bangalore/Bengaluru(Ulsoor)',\n",
       " 'Bangalore/Bengaluru',\n",
       " 'Bangalore/Bengaluru',\n",
       " 'Bangalore/Bengaluru']"
      ]
     },
     "execution_count": 489,
     "metadata": {},
     "output_type": "execute_result"
    }
   ],
   "source": [
    "locations_list=[]\n",
    "for i in locations_tags[0:10]:\n",
    "    locations_list.append(i.text)\n",
    "locations_list"
   ]
  },
  {
   "cell_type": "markdown",
   "metadata": {},
   "source": [
    "scrape location information code"
   ]
  },
  {
   "cell_type": "code",
   "execution_count": 490,
   "metadata": {},
   "outputs": [
    {
     "name": "stdout",
     "output_type": "stream",
     "text": [
      "10 10 10 10\n"
     ]
    }
   ],
   "source": [
    "print(len(job_titles),len(company_names),len(experience_required),len(locations_list))"
   ]
  },
  {
   "cell_type": "markdown",
   "metadata": {},
   "source": [
    "count the scrap data code"
   ]
  },
  {
   "cell_type": "code",
   "execution_count": 491,
   "metadata": {},
   "outputs": [],
   "source": [
    "#import pandas as pd\n",
    "jobs=pd.DataFrame({})\n",
    "jobs['title']=job_titles\n",
    "jobs['company']=company_names\n",
    "jobs['experience_required']=experience_required\n",
    "jobs['location']=locations_list"
   ]
  },
  {
   "cell_type": "code",
   "execution_count": 492,
   "metadata": {},
   "outputs": [
    {
     "data": {
      "text/html": [
       "<div>\n",
       "<style scoped>\n",
       "    .dataframe tbody tr th:only-of-type {\n",
       "        vertical-align: middle;\n",
       "    }\n",
       "\n",
       "    .dataframe tbody tr th {\n",
       "        vertical-align: top;\n",
       "    }\n",
       "\n",
       "    .dataframe thead th {\n",
       "        text-align: right;\n",
       "    }\n",
       "</style>\n",
       "<table border=\"1\" class=\"dataframe\">\n",
       "  <thead>\n",
       "    <tr style=\"text-align: right;\">\n",
       "      <th></th>\n",
       "      <th>title</th>\n",
       "      <th>company</th>\n",
       "      <th>experience_required</th>\n",
       "      <th>location</th>\n",
       "    </tr>\n",
       "  </thead>\n",
       "  <tbody>\n",
       "    <tr>\n",
       "      <th>0</th>\n",
       "      <td>Business Data Analyst</td>\n",
       "      <td>Trigent Software</td>\n",
       "      <td>3-5 Yrs</td>\n",
       "      <td>Bangalore/Bengaluru</td>\n",
       "    </tr>\n",
       "    <tr>\n",
       "      <th>1</th>\n",
       "      <td>Business Data Analyst</td>\n",
       "      <td>Trigent Software</td>\n",
       "      <td>3-5 Yrs</td>\n",
       "      <td>Bangalore/Bengaluru</td>\n",
       "    </tr>\n",
       "    <tr>\n",
       "      <th>2</th>\n",
       "      <td>Data Analyst/Business Analyst-Gurgaon/Bangalor...</td>\n",
       "      <td>India Medtronic Pvt. Ltd,.</td>\n",
       "      <td>1-4 Yrs</td>\n",
       "      <td>Gurgaon/Gurugram, Bangalore/Bengaluru, Mumbai ...</td>\n",
       "    </tr>\n",
       "    <tr>\n",
       "      <th>3</th>\n",
       "      <td>Senior Specialist - Data Analyst</td>\n",
       "      <td>Philips India Limited</td>\n",
       "      <td>4-8 Yrs</td>\n",
       "      <td>Bangalore/Bengaluru</td>\n",
       "    </tr>\n",
       "    <tr>\n",
       "      <th>4</th>\n",
       "      <td>Business/Data Analyst - SSE/LA</td>\n",
       "      <td>CGI Information Systems and Management Consult...</td>\n",
       "      <td>2-5 Yrs</td>\n",
       "      <td>Bangalore/Bengaluru</td>\n",
       "    </tr>\n",
       "    <tr>\n",
       "      <th>5</th>\n",
       "      <td>Business Data Analyst II</td>\n",
       "      <td>Infobahn Softworld Inc.</td>\n",
       "      <td>5-8 Yrs</td>\n",
       "      <td>Bangalore/Bengaluru</td>\n",
       "    </tr>\n",
       "    <tr>\n",
       "      <th>6</th>\n",
       "      <td>Data Analyst</td>\n",
       "      <td>WEIWO Communication Pvt. Ltd.</td>\n",
       "      <td>4-8 Yrs</td>\n",
       "      <td>Bangalore/Bengaluru(Ulsoor)</td>\n",
       "    </tr>\n",
       "    <tr>\n",
       "      <th>7</th>\n",
       "      <td>Data Analyst</td>\n",
       "      <td>GCC SERVICES INDIA PRIVATE LIMITED</td>\n",
       "      <td>5-9 Yrs</td>\n",
       "      <td>Bangalore/Bengaluru</td>\n",
       "    </tr>\n",
       "    <tr>\n",
       "      <th>8</th>\n",
       "      <td>Senior Data Analyst</td>\n",
       "      <td>SMEDC SERVICES PRIVATE LIMITED</td>\n",
       "      <td>5-8 Yrs</td>\n",
       "      <td>Bangalore/Bengaluru</td>\n",
       "    </tr>\n",
       "    <tr>\n",
       "      <th>9</th>\n",
       "      <td>Data Analyst</td>\n",
       "      <td>Allegis Services India Pvt. Ltd.</td>\n",
       "      <td>2-5 Yrs</td>\n",
       "      <td>Bangalore/Bengaluru</td>\n",
       "    </tr>\n",
       "  </tbody>\n",
       "</table>\n",
       "</div>"
      ],
      "text/plain": [
       "                                               title  \\\n",
       "0                              Business Data Analyst   \n",
       "1                              Business Data Analyst   \n",
       "2  Data Analyst/Business Analyst-Gurgaon/Bangalor...   \n",
       "3                   Senior Specialist - Data Analyst   \n",
       "4                     Business/Data Analyst - SSE/LA   \n",
       "5                           Business Data Analyst II   \n",
       "6                                       Data Analyst   \n",
       "7                                       Data Analyst   \n",
       "8                                Senior Data Analyst   \n",
       "9                                       Data Analyst   \n",
       "\n",
       "                                             company experience_required  \\\n",
       "0                                   Trigent Software             3-5 Yrs   \n",
       "1                                   Trigent Software             3-5 Yrs   \n",
       "2                         India Medtronic Pvt. Ltd,.             1-4 Yrs   \n",
       "3                              Philips India Limited             4-8 Yrs   \n",
       "4  CGI Information Systems and Management Consult...             2-5 Yrs   \n",
       "5                            Infobahn Softworld Inc.             5-8 Yrs   \n",
       "6                      WEIWO Communication Pvt. Ltd.             4-8 Yrs   \n",
       "7                 GCC SERVICES INDIA PRIVATE LIMITED             5-9 Yrs   \n",
       "8                     SMEDC SERVICES PRIVATE LIMITED             5-8 Yrs   \n",
       "9                   Allegis Services India Pvt. Ltd.             2-5 Yrs   \n",
       "\n",
       "                                            location  \n",
       "0                                Bangalore/Bengaluru  \n",
       "1                                Bangalore/Bengaluru  \n",
       "2  Gurgaon/Gurugram, Bangalore/Bengaluru, Mumbai ...  \n",
       "3                                Bangalore/Bengaluru  \n",
       "4                                Bangalore/Bengaluru  \n",
       "5                                Bangalore/Bengaluru  \n",
       "6                        Bangalore/Bengaluru(Ulsoor)  \n",
       "7                                Bangalore/Bengaluru  \n",
       "8                                Bangalore/Bengaluru  \n",
       "9                                Bangalore/Bengaluru  "
      ]
     },
     "execution_count": 492,
     "metadata": {},
     "output_type": "execute_result"
    }
   ],
   "source": [
    "jobs"
   ]
  },
  {
   "cell_type": "markdown",
   "metadata": {},
   "source": [
    "Create a dataframe of scrap data"
   ]
  },
  {
   "cell_type": "markdown",
   "metadata": {},
   "source": []
  },
  {
   "cell_type": "markdown",
   "metadata": {},
   "source": [
    "Q2: Write a python program to scrape data for “Data Scientist” Job position in \n",
    "“Bangalore” location. You have to scrape the job-title, job-location,\n",
    "company_name, full job-description. You have to scrape first 10 jobs data."
   ]
  },
  {
   "cell_type": "code",
   "execution_count": 525,
   "metadata": {},
   "outputs": [],
   "source": [
    "import selenium\n",
    "import pandas as pd\n",
    "from selenium import webdriver"
   ]
  },
  {
   "cell_type": "markdown",
   "metadata": {},
   "source": [
    "import files driver"
   ]
  },
  {
   "cell_type": "code",
   "execution_count": 88,
   "metadata": {},
   "outputs": [],
   "source": [
    "driver = webdriver.Chrome(r\"C:\\Users\\Ankita\\Downloads\\chromedriver_win32\\chromedriver.exe\")"
   ]
  },
  {
   "cell_type": "markdown",
   "metadata": {},
   "source": [
    "open chrome driver code"
   ]
  },
  {
   "cell_type": "code",
   "execution_count": 89,
   "metadata": {},
   "outputs": [],
   "source": [
    "url = 'https://www.naukri.com/jobs-in-india'\n",
    "driver.get(url)"
   ]
  },
  {
   "cell_type": "markdown",
   "metadata": {},
   "source": [
    "enter naukari url code"
   ]
  },
  {
   "cell_type": "code",
   "execution_count": 90,
   "metadata": {},
   "outputs": [
    {
     "data": {
      "text/plain": [
       "<selenium.webdriver.remote.webelement.WebElement (session=\"73a2689dfb2733cc4614e13805b1b050\", element=\"e2177492-307e-43a4-948b-e60dd41caf52\")>"
      ]
     },
     "execution_count": 90,
     "metadata": {},
     "output_type": "execute_result"
    }
   ],
   "source": [
    "search_btn = driver.find_element_by_xpath(\"//span[@class='quick-search-bar__view__modify-link']\")\n",
    "search_btn"
   ]
  },
  {
   "cell_type": "code",
   "execution_count": 91,
   "metadata": {},
   "outputs": [],
   "source": [
    "search_btn.click()"
   ]
  },
  {
   "cell_type": "markdown",
   "metadata": {},
   "source": [
    "search button code"
   ]
  },
  {
   "cell_type": "code",
   "execution_count": 92,
   "metadata": {},
   "outputs": [
    {
     "data": {
      "text/plain": [
       "<selenium.webdriver.remote.webelement.WebElement (session=\"73a2689dfb2733cc4614e13805b1b050\", element=\"05c2103d-55c3-4a0e-a105-9cbc8edd3287\")>"
      ]
     },
     "execution_count": 92,
     "metadata": {},
     "output_type": "execute_result"
    }
   ],
   "source": [
    "search_job = driver.find_element_by_id('qsb-keyword-sugg')\n",
    "search_job"
   ]
  },
  {
   "cell_type": "code",
   "execution_count": 93,
   "metadata": {},
   "outputs": [],
   "source": [
    "search_job.send_keys(\"Data Scientist\")"
   ]
  },
  {
   "cell_type": "markdown",
   "metadata": {},
   "source": [
    "Enter Data Scientist into job location"
   ]
  },
  {
   "cell_type": "code",
   "execution_count": 94,
   "metadata": {},
   "outputs": [],
   "source": [
    "search_loc = driver.find_element_by_id('qsb-location-sugg')\n",
    "search_loc.send_keys(\"Bangalore\")"
   ]
  },
  {
   "cell_type": "markdown",
   "metadata": {},
   "source": [
    "Enter Bangalore in location field code"
   ]
  },
  {
   "cell_type": "code",
   "execution_count": 95,
   "metadata": {},
   "outputs": [
    {
     "data": {
      "text/plain": [
       "<selenium.webdriver.remote.webelement.WebElement (session=\"73a2689dfb2733cc4614e13805b1b050\", element=\"7f094dcf-aa5b-460c-b377-7f78c96a5239\")>"
      ]
     },
     "execution_count": 95,
     "metadata": {},
     "output_type": "execute_result"
    }
   ],
   "source": [
    "search_btn = driver.find_element_by_xpath(\"//button[@class='btn-primary']\")\n",
    "search_btn"
   ]
  },
  {
   "cell_type": "code",
   "execution_count": 96,
   "metadata": {},
   "outputs": [],
   "source": [
    "search_btn.click()"
   ]
  },
  {
   "cell_type": "markdown",
   "metadata": {},
   "source": [
    "Enter search button code"
   ]
  },
  {
   "cell_type": "code",
   "execution_count": 97,
   "metadata": {},
   "outputs": [
    {
     "data": {
      "text/plain": [
       "[<selenium.webdriver.remote.webelement.WebElement (session=\"73a2689dfb2733cc4614e13805b1b050\", element=\"42c47732-a2e5-48bb-986e-6762b14e68a2\")>,\n",
       " <selenium.webdriver.remote.webelement.WebElement (session=\"73a2689dfb2733cc4614e13805b1b050\", element=\"441aca2f-7972-4650-aca1-5b7a0aabed0b\")>,\n",
       " <selenium.webdriver.remote.webelement.WebElement (session=\"73a2689dfb2733cc4614e13805b1b050\", element=\"cac459fc-3888-4610-b4ea-0726dc3b1fe9\")>,\n",
       " <selenium.webdriver.remote.webelement.WebElement (session=\"73a2689dfb2733cc4614e13805b1b050\", element=\"50aefc37-a77c-457f-a9b8-b7654ccc1e6c\")>,\n",
       " <selenium.webdriver.remote.webelement.WebElement (session=\"73a2689dfb2733cc4614e13805b1b050\", element=\"77566127-db5a-4543-a82e-0fae1d1eb681\")>,\n",
       " <selenium.webdriver.remote.webelement.WebElement (session=\"73a2689dfb2733cc4614e13805b1b050\", element=\"f0474866-d7d4-461c-ab20-bee289a5849f\")>,\n",
       " <selenium.webdriver.remote.webelement.WebElement (session=\"73a2689dfb2733cc4614e13805b1b050\", element=\"d0da9bba-ec9c-44e0-a8b3-a3c7b3e89b73\")>,\n",
       " <selenium.webdriver.remote.webelement.WebElement (session=\"73a2689dfb2733cc4614e13805b1b050\", element=\"511bf9b4-3a05-43dd-89b7-50f342135b93\")>,\n",
       " <selenium.webdriver.remote.webelement.WebElement (session=\"73a2689dfb2733cc4614e13805b1b050\", element=\"59082c58-18a9-4622-95c2-36608edb8557\")>,\n",
       " <selenium.webdriver.remote.webelement.WebElement (session=\"73a2689dfb2733cc4614e13805b1b050\", element=\"eb81c4b0-66d5-492f-993f-f4de1bfdb012\")>,\n",
       " <selenium.webdriver.remote.webelement.WebElement (session=\"73a2689dfb2733cc4614e13805b1b050\", element=\"65dd4cc4-7d7d-45b6-89cf-55704ed4cc8a\")>,\n",
       " <selenium.webdriver.remote.webelement.WebElement (session=\"73a2689dfb2733cc4614e13805b1b050\", element=\"cdd08ccf-2dcf-4dea-946a-51db02531e07\")>,\n",
       " <selenium.webdriver.remote.webelement.WebElement (session=\"73a2689dfb2733cc4614e13805b1b050\", element=\"cb973069-0bdf-4f35-bd7e-a90ece597a24\")>,\n",
       " <selenium.webdriver.remote.webelement.WebElement (session=\"73a2689dfb2733cc4614e13805b1b050\", element=\"7c723e5b-3aa0-4839-933f-50ce8a817f84\")>,\n",
       " <selenium.webdriver.remote.webelement.WebElement (session=\"73a2689dfb2733cc4614e13805b1b050\", element=\"9ced6168-70a4-4a7e-a19b-aa8b73d26cf9\")>,\n",
       " <selenium.webdriver.remote.webelement.WebElement (session=\"73a2689dfb2733cc4614e13805b1b050\", element=\"265e9c98-27a1-4757-92c5-4702d0b3f1d6\")>,\n",
       " <selenium.webdriver.remote.webelement.WebElement (session=\"73a2689dfb2733cc4614e13805b1b050\", element=\"da06f01f-3bf1-4d05-bbc5-3bccfee4fe97\")>,\n",
       " <selenium.webdriver.remote.webelement.WebElement (session=\"73a2689dfb2733cc4614e13805b1b050\", element=\"a584bca3-f62e-4866-97e4-ea17f758ae09\")>,\n",
       " <selenium.webdriver.remote.webelement.WebElement (session=\"73a2689dfb2733cc4614e13805b1b050\", element=\"6a55b865-b224-443a-b230-68fc45eef03e\")>,\n",
       " <selenium.webdriver.remote.webelement.WebElement (session=\"73a2689dfb2733cc4614e13805b1b050\", element=\"4252a599-587a-47df-875d-c18b0943b193\")>]"
      ]
     },
     "execution_count": 97,
     "metadata": {},
     "output_type": "execute_result"
    }
   ],
   "source": [
    "titles_tags=driver.find_elements_by_xpath(\"//a[@class='title fw500 ellipsis']\")\n",
    "titles_tags"
   ]
  },
  {
   "cell_type": "code",
   "execution_count": 98,
   "metadata": {},
   "outputs": [
    {
     "data": {
      "text/plain": [
       "['Data Scientist- Senior Business Analyst/Lead Analyst',\n",
       " 'Lead Data Scientist - Retail Industry',\n",
       " 'Senior/ Lead Data Scientist',\n",
       " 'Data Scientist: Advanced Analytics',\n",
       " 'Senior Data Scientist',\n",
       " 'Senior Data Scientist',\n",
       " 'Lead Data Scientist',\n",
       " 'Lead Data Scientist',\n",
       " 'Senior Data Scientist / Tech Lead - Data Science',\n",
       " 'Senior Data Scientist - KPO']"
      ]
     },
     "execution_count": 98,
     "metadata": {},
     "output_type": "execute_result"
    }
   ],
   "source": [
    "job_titles=[]\n",
    "for i in titles_tags[0:10]:\n",
    "    job_titles.append(i.text)\n",
    "job_titles"
   ]
  },
  {
   "cell_type": "markdown",
   "metadata": {},
   "source": [
    "Scrape the job titles"
   ]
  },
  {
   "cell_type": "code",
   "execution_count": 99,
   "metadata": {},
   "outputs": [
    {
     "data": {
      "text/plain": [
       "[<selenium.webdriver.remote.webelement.WebElement (session=\"73a2689dfb2733cc4614e13805b1b050\", element=\"bf8f085d-9785-4815-b481-2aad50519713\")>,\n",
       " <selenium.webdriver.remote.webelement.WebElement (session=\"73a2689dfb2733cc4614e13805b1b050\", element=\"ae3f0955-9927-4b8a-90f5-446b24ae60f3\")>,\n",
       " <selenium.webdriver.remote.webelement.WebElement (session=\"73a2689dfb2733cc4614e13805b1b050\", element=\"68f874ea-6761-4510-8d05-d1aa1ababf99\")>,\n",
       " <selenium.webdriver.remote.webelement.WebElement (session=\"73a2689dfb2733cc4614e13805b1b050\", element=\"1c9f455c-3dff-46e8-a13e-52847aaee3e7\")>,\n",
       " <selenium.webdriver.remote.webelement.WebElement (session=\"73a2689dfb2733cc4614e13805b1b050\", element=\"d9a75b26-96f7-49c5-b946-9252f0b60fed\")>,\n",
       " <selenium.webdriver.remote.webelement.WebElement (session=\"73a2689dfb2733cc4614e13805b1b050\", element=\"60260996-392e-424a-84fc-ae0700a5dfc8\")>,\n",
       " <selenium.webdriver.remote.webelement.WebElement (session=\"73a2689dfb2733cc4614e13805b1b050\", element=\"ccc3a6d6-49de-4824-b560-20a51b3dbeea\")>,\n",
       " <selenium.webdriver.remote.webelement.WebElement (session=\"73a2689dfb2733cc4614e13805b1b050\", element=\"e90a094d-ec80-42a9-875e-3b908fd501f9\")>,\n",
       " <selenium.webdriver.remote.webelement.WebElement (session=\"73a2689dfb2733cc4614e13805b1b050\", element=\"81561301-d5c5-4071-8db9-8514c9497554\")>,\n",
       " <selenium.webdriver.remote.webelement.WebElement (session=\"73a2689dfb2733cc4614e13805b1b050\", element=\"9fab9779-e30f-4db7-b870-8fb6e893f912\")>,\n",
       " <selenium.webdriver.remote.webelement.WebElement (session=\"73a2689dfb2733cc4614e13805b1b050\", element=\"c8d6ec36-a2bd-4820-ae77-a8cf4c7382b5\")>,\n",
       " <selenium.webdriver.remote.webelement.WebElement (session=\"73a2689dfb2733cc4614e13805b1b050\", element=\"08abbd17-6a6e-434d-816d-18d422914db5\")>,\n",
       " <selenium.webdriver.remote.webelement.WebElement (session=\"73a2689dfb2733cc4614e13805b1b050\", element=\"789e3bea-3313-461f-894a-744cf8107d44\")>,\n",
       " <selenium.webdriver.remote.webelement.WebElement (session=\"73a2689dfb2733cc4614e13805b1b050\", element=\"c7fb3bd4-bf3f-431f-89c2-1de31c2e1f04\")>,\n",
       " <selenium.webdriver.remote.webelement.WebElement (session=\"73a2689dfb2733cc4614e13805b1b050\", element=\"dcb706a4-c3bb-40a9-a5cc-596ce7ce2695\")>,\n",
       " <selenium.webdriver.remote.webelement.WebElement (session=\"73a2689dfb2733cc4614e13805b1b050\", element=\"2be4c18f-c0ac-42a7-8d13-326d5c421cf4\")>,\n",
       " <selenium.webdriver.remote.webelement.WebElement (session=\"73a2689dfb2733cc4614e13805b1b050\", element=\"be106857-52dc-45fa-87a8-5ce20d4884b8\")>,\n",
       " <selenium.webdriver.remote.webelement.WebElement (session=\"73a2689dfb2733cc4614e13805b1b050\", element=\"da56731b-7764-4551-94c5-de4741ebaef3\")>,\n",
       " <selenium.webdriver.remote.webelement.WebElement (session=\"73a2689dfb2733cc4614e13805b1b050\", element=\"dcbb82ef-0c96-43af-83ab-808d5928b125\")>,\n",
       " <selenium.webdriver.remote.webelement.WebElement (session=\"73a2689dfb2733cc4614e13805b1b050\", element=\"cf5050f4-ee79-4283-8fe5-dffdfa8963a8\")>]"
      ]
     },
     "execution_count": 99,
     "metadata": {},
     "output_type": "execute_result"
    }
   ],
   "source": [
    "companies_tags=driver.find_elements_by_xpath(\"//a[@class='subTitle ellipsis fleft']\")\n",
    "companies_tags\n"
   ]
  },
  {
   "cell_type": "code",
   "execution_count": 100,
   "metadata": {},
   "outputs": [
    {
     "data": {
      "text/plain": [
       "['Evalueserve.com Pvt. Ltd',\n",
       " 'IBM India Pvt. Limited',\n",
       " 'Superior Group',\n",
       " 'IBM India Pvt. Limited',\n",
       " 'SMITHS DETECTION SYSTEMS PRIVATE LIMITED',\n",
       " 'Cognizer India Private Limited',\n",
       " 'Zycus Infotech Pvt Ltd',\n",
       " 'TransOrg Solutions Services (P) Ltd.',\n",
       " 'Confidential',\n",
       " 'TalentCo Search Pvt Ltd']"
      ]
     },
     "execution_count": 100,
     "metadata": {},
     "output_type": "execute_result"
    }
   ],
   "source": [
    "company_names=[]\n",
    "for i in companies_tags[0:10]:\n",
    "    company_names.append(i.text)\n",
    "company_names"
   ]
  },
  {
   "cell_type": "markdown",
   "metadata": {},
   "source": [
    "Scrape company name"
   ]
  },
  {
   "cell_type": "code",
   "execution_count": 101,
   "metadata": {},
   "outputs": [
    {
     "data": {
      "text/plain": [
       "[<selenium.webdriver.remote.webelement.WebElement (session=\"73a2689dfb2733cc4614e13805b1b050\", element=\"f83fcb12-1a45-444b-854f-ac008e0c52bf\")>,\n",
       " <selenium.webdriver.remote.webelement.WebElement (session=\"73a2689dfb2733cc4614e13805b1b050\", element=\"7441dce8-8bb0-4001-85dd-dc9924d238ce\")>,\n",
       " <selenium.webdriver.remote.webelement.WebElement (session=\"73a2689dfb2733cc4614e13805b1b050\", element=\"7135f4b2-890e-4037-89f5-378ac0f461a4\")>,\n",
       " <selenium.webdriver.remote.webelement.WebElement (session=\"73a2689dfb2733cc4614e13805b1b050\", element=\"c950913d-3591-4515-9db2-7daa42c15b88\")>,\n",
       " <selenium.webdriver.remote.webelement.WebElement (session=\"73a2689dfb2733cc4614e13805b1b050\", element=\"1b73b164-7eb4-40da-ac86-2f24ca6710d8\")>,\n",
       " <selenium.webdriver.remote.webelement.WebElement (session=\"73a2689dfb2733cc4614e13805b1b050\", element=\"54e7abb4-88bd-4407-bb58-1f388b0ea1d0\")>,\n",
       " <selenium.webdriver.remote.webelement.WebElement (session=\"73a2689dfb2733cc4614e13805b1b050\", element=\"5b0f4e94-2046-41a1-b262-3d600d8263e3\")>,\n",
       " <selenium.webdriver.remote.webelement.WebElement (session=\"73a2689dfb2733cc4614e13805b1b050\", element=\"f1e23caf-b2bd-4eb3-8978-061f868649fb\")>,\n",
       " <selenium.webdriver.remote.webelement.WebElement (session=\"73a2689dfb2733cc4614e13805b1b050\", element=\"ccbbe124-a9b4-4b49-a83d-f1b8d7c8fc13\")>,\n",
       " <selenium.webdriver.remote.webelement.WebElement (session=\"73a2689dfb2733cc4614e13805b1b050\", element=\"32f41bd4-b383-403d-a371-346fde122e85\")>,\n",
       " <selenium.webdriver.remote.webelement.WebElement (session=\"73a2689dfb2733cc4614e13805b1b050\", element=\"ccef00f4-cc35-4a32-91ef-5931c3fa8dfa\")>,\n",
       " <selenium.webdriver.remote.webelement.WebElement (session=\"73a2689dfb2733cc4614e13805b1b050\", element=\"dac2760a-0162-4f91-83d1-d7d320d617b2\")>,\n",
       " <selenium.webdriver.remote.webelement.WebElement (session=\"73a2689dfb2733cc4614e13805b1b050\", element=\"ea660838-063f-4178-b6de-00e60980ef4d\")>,\n",
       " <selenium.webdriver.remote.webelement.WebElement (session=\"73a2689dfb2733cc4614e13805b1b050\", element=\"6781374f-f892-4b8d-931c-851f8daa424a\")>,\n",
       " <selenium.webdriver.remote.webelement.WebElement (session=\"73a2689dfb2733cc4614e13805b1b050\", element=\"ecba002d-7993-4dfb-85c5-54744aecf028\")>,\n",
       " <selenium.webdriver.remote.webelement.WebElement (session=\"73a2689dfb2733cc4614e13805b1b050\", element=\"c8328f75-6437-4b88-b448-c88206b7157a\")>,\n",
       " <selenium.webdriver.remote.webelement.WebElement (session=\"73a2689dfb2733cc4614e13805b1b050\", element=\"acca22df-ff26-46c0-b591-113bc7ff744d\")>,\n",
       " <selenium.webdriver.remote.webelement.WebElement (session=\"73a2689dfb2733cc4614e13805b1b050\", element=\"366e6f6a-7ab2-4e23-ae90-7270aba391d4\")>,\n",
       " <selenium.webdriver.remote.webelement.WebElement (session=\"73a2689dfb2733cc4614e13805b1b050\", element=\"fa783e3b-053c-4ba8-be96-93431738f2bd\")>,\n",
       " <selenium.webdriver.remote.webelement.WebElement (session=\"73a2689dfb2733cc4614e13805b1b050\", element=\"02172f7b-be25-4afb-a517-d0003dd82e12\")>]"
      ]
     },
     "execution_count": 101,
     "metadata": {},
     "output_type": "execute_result"
    }
   ],
   "source": [
    "locations_tags=driver.find_elements_by_xpath(\"//li[@class='fleft grey-text br2 placeHolderLi location']//span[1]\")\n",
    "locations_tags"
   ]
  },
  {
   "cell_type": "code",
   "execution_count": 102,
   "metadata": {},
   "outputs": [
    {
     "data": {
      "text/plain": [
       "['Gurgaon/Gurugram, Bangalore/Bengaluru',\n",
       " 'Bangalore/Bengaluru',\n",
       " 'Bangalore/Bengaluru',\n",
       " 'Bangalore/Bengaluru',\n",
       " 'Bangalore/Bengaluru',\n",
       " 'Bangalore/Bengaluru',\n",
       " 'Bangalore/Bengaluru',\n",
       " 'Bangalore/Bengaluru, Delhi / NCR, Mumbai (All Areas)',\n",
       " 'Bangalore/Bengaluru, Delhi / NCR',\n",
       " 'Mumbai, Bangalore/Bengaluru, Delhi / NCR']"
      ]
     },
     "execution_count": 102,
     "metadata": {},
     "output_type": "execute_result"
    }
   ],
   "source": [
    "locations_list=[]\n",
    "for i in locations_tags[0:10]:\n",
    "    locations_list.append(i.text)\n",
    "locations_list"
   ]
  },
  {
   "cell_type": "markdown",
   "metadata": {},
   "source": [
    "Scrape location name information"
   ]
  },
  {
   "cell_type": "markdown",
   "metadata": {},
   "source": [
    "Scrap the data of 10 jobs"
   ]
  },
  {
   "cell_type": "markdown",
   "metadata": {},
   "source": [
    "Create dataframe"
   ]
  },
  {
   "cell_type": "code",
   "execution_count": null,
   "metadata": {},
   "outputs": [],
   "source": [
    "#scrap data from job openings"
   ]
  },
  {
   "cell_type": "code",
   "execution_count": 105,
   "metadata": {},
   "outputs": [
    {
     "data": {
      "text/plain": [
       "[<selenium.webdriver.remote.webelement.WebElement (session=\"73a2689dfb2733cc4614e13805b1b050\", element=\"42c47732-a2e5-48bb-986e-6762b14e68a2\")>,\n",
       " <selenium.webdriver.remote.webelement.WebElement (session=\"73a2689dfb2733cc4614e13805b1b050\", element=\"441aca2f-7972-4650-aca1-5b7a0aabed0b\")>,\n",
       " <selenium.webdriver.remote.webelement.WebElement (session=\"73a2689dfb2733cc4614e13805b1b050\", element=\"cac459fc-3888-4610-b4ea-0726dc3b1fe9\")>,\n",
       " <selenium.webdriver.remote.webelement.WebElement (session=\"73a2689dfb2733cc4614e13805b1b050\", element=\"50aefc37-a77c-457f-a9b8-b7654ccc1e6c\")>,\n",
       " <selenium.webdriver.remote.webelement.WebElement (session=\"73a2689dfb2733cc4614e13805b1b050\", element=\"77566127-db5a-4543-a82e-0fae1d1eb681\")>,\n",
       " <selenium.webdriver.remote.webelement.WebElement (session=\"73a2689dfb2733cc4614e13805b1b050\", element=\"f0474866-d7d4-461c-ab20-bee289a5849f\")>,\n",
       " <selenium.webdriver.remote.webelement.WebElement (session=\"73a2689dfb2733cc4614e13805b1b050\", element=\"d0da9bba-ec9c-44e0-a8b3-a3c7b3e89b73\")>,\n",
       " <selenium.webdriver.remote.webelement.WebElement (session=\"73a2689dfb2733cc4614e13805b1b050\", element=\"511bf9b4-3a05-43dd-89b7-50f342135b93\")>,\n",
       " <selenium.webdriver.remote.webelement.WebElement (session=\"73a2689dfb2733cc4614e13805b1b050\", element=\"59082c58-18a9-4622-95c2-36608edb8557\")>,\n",
       " <selenium.webdriver.remote.webelement.WebElement (session=\"73a2689dfb2733cc4614e13805b1b050\", element=\"eb81c4b0-66d5-492f-993f-f4de1bfdb012\")>,\n",
       " <selenium.webdriver.remote.webelement.WebElement (session=\"73a2689dfb2733cc4614e13805b1b050\", element=\"65dd4cc4-7d7d-45b6-89cf-55704ed4cc8a\")>,\n",
       " <selenium.webdriver.remote.webelement.WebElement (session=\"73a2689dfb2733cc4614e13805b1b050\", element=\"cdd08ccf-2dcf-4dea-946a-51db02531e07\")>,\n",
       " <selenium.webdriver.remote.webelement.WebElement (session=\"73a2689dfb2733cc4614e13805b1b050\", element=\"cb973069-0bdf-4f35-bd7e-a90ece597a24\")>,\n",
       " <selenium.webdriver.remote.webelement.WebElement (session=\"73a2689dfb2733cc4614e13805b1b050\", element=\"7c723e5b-3aa0-4839-933f-50ce8a817f84\")>,\n",
       " <selenium.webdriver.remote.webelement.WebElement (session=\"73a2689dfb2733cc4614e13805b1b050\", element=\"9ced6168-70a4-4a7e-a19b-aa8b73d26cf9\")>,\n",
       " <selenium.webdriver.remote.webelement.WebElement (session=\"73a2689dfb2733cc4614e13805b1b050\", element=\"265e9c98-27a1-4757-92c5-4702d0b3f1d6\")>,\n",
       " <selenium.webdriver.remote.webelement.WebElement (session=\"73a2689dfb2733cc4614e13805b1b050\", element=\"da06f01f-3bf1-4d05-bbc5-3bccfee4fe97\")>,\n",
       " <selenium.webdriver.remote.webelement.WebElement (session=\"73a2689dfb2733cc4614e13805b1b050\", element=\"a584bca3-f62e-4866-97e4-ea17f758ae09\")>,\n",
       " <selenium.webdriver.remote.webelement.WebElement (session=\"73a2689dfb2733cc4614e13805b1b050\", element=\"6a55b865-b224-443a-b230-68fc45eef03e\")>,\n",
       " <selenium.webdriver.remote.webelement.WebElement (session=\"73a2689dfb2733cc4614e13805b1b050\", element=\"4252a599-587a-47df-875d-c18b0943b193\")>]"
      ]
     },
     "execution_count": 105,
     "metadata": {},
     "output_type": "execute_result"
    }
   ],
   "source": [
    "url = driver.find_elements_by_xpath(\"//a[@class='title fw500 ellipsis']\")\n",
    "url"
   ]
  },
  {
   "cell_type": "code",
   "execution_count": 106,
   "metadata": {},
   "outputs": [
    {
     "data": {
      "text/plain": [
       "['https://www.naukri.com/job-listings-data-scientist-senior-business-analyst-lead-analyst-evalueserve-com-pvt-ltd-gurgaon-gurugram-bangalore-bengaluru-2-to-7-years-110821005065?src=jobsearchDesk&sid=16287703914781744&xp=1&px=1',\n",
       " 'https://www.naukri.com/job-listings-lead-data-scientist-retail-industry-ibm-india-pvt-limited-bangalore-bengaluru-7-to-10-years-100821908363?src=jobsearchDesk&sid=16287703914781744&xp=2&px=1',\n",
       " 'https://www.naukri.com/job-listings-senior-lead-data-scientist-superior-group-bangalore-bengaluru-6-to-11-years-100821500375?src=jobsearchDesk&sid=16287703914781744&xp=3&px=1',\n",
       " 'https://www.naukri.com/job-listings-data-scientist-advanced-analytics-ibm-india-pvt-limited-bangalore-bengaluru-5-to-10-years-110821906281?src=jobsearchDesk&sid=16287703914781744&xp=4&px=1',\n",
       " 'https://www.naukri.com/job-listings-senior-data-scientist-smiths-detection-systems-private-limited-bangalore-bengaluru-8-to-10-years-260721903257?src=jobsearchDesk&sid=16287703914781744&xp=5&px=1',\n",
       " 'https://www.naukri.com/job-listings-senior-data-scientist-cognizer-india-private-limited-bangalore-bengaluru-5-to-10-years-100821001616?src=jobsearchDesk&sid=16287703914781744&xp=6&px=1',\n",
       " 'https://www.naukri.com/job-listings-lead-data-scientist-zycus-infotech-pvt-ltd-bangalore-bengaluru-14-to-16-years-100821906533?src=jobsearchDesk&sid=16287703914781744&xp=7&px=1',\n",
       " 'https://www.naukri.com/job-listings-lead-data-scientist-transorg-solutions-services-p-ltd-bangalore-bengaluru-delhi-ncr-mumbai-all-areas-4-to-6-years-160721005471?src=jobsearchDesk&sid=16287703914781744&xp=8&px=1',\n",
       " 'https://www.naukri.com/job-listings-senior-data-scientist-tech-lead-data-science-confidential-bangalore-bengaluru-delhi-ncr-6-to-9-years-100821906281?src=jobsearchDesk&sid=16287703914781744&xp=9&px=1',\n",
       " 'https://www.naukri.com/job-listings-senior-data-scientist-kpo-talentco-search-pvt-ltd-mumbai-bangalore-bengaluru-delhi-ncr-6-to-10-years-110821908145?src=jobsearchDesk&sid=16287703914781744&xp=10&px=1',\n",
       " 'https://www.naukri.com/job-listings-data-scientist-cignex-datamatics-technologies-limited-bangalore-bengaluru-7-to-12-years-120821005670?src=jobsearchDesk&sid=16287703914781744&xp=11&px=1',\n",
       " 'https://www.naukri.com/job-listings-data-scientist-natural-language-processing-hyderabad-location-clifford-chance-business-services-private-limited-hyderabad-secunderabad-pune-chennai-bangalore-bengaluru-5-to-10-years-120821000435?src=jobsearchDesk&sid=16287703914781744&xp=12&px=1',\n",
       " 'https://www.naukri.com/job-listings-looking-for-data-scientist-for-chennai-location-intelizign-engineering-services-pvt-ltd-hyderabad-secunderabad-chennai-bangalore-bengaluru-3-to-7-years-110821004891?src=jobsearchDesk&sid=16287703914781744&xp=13&px=1',\n",
       " 'https://www.naukri.com/job-listings-data-scientist-elpis-it-solutions-pvt-ltd-bangalore-bengaluru-3-to-8-years-120821005878?src=jobsearchDesk&sid=16287703914781744&xp=14&px=1',\n",
       " 'https://www.naukri.com/job-listings-data-scientist-cognizant-technology-solutions-india-pvt-ltd-chennai-bangalore-bengaluru-10-to-12-years-090821904407?src=jobsearchDesk&sid=16287703914781744&xp=15&px=1',\n",
       " 'https://www.naukri.com/job-listings-data-scientist-artificial-intelligence-ibm-india-pvt-limited-bangalore-bengaluru-4-to-6-years-110821906941?src=jobsearchDesk&sid=16287703914781744&xp=16&px=1',\n",
       " 'https://www.naukri.com/job-listings-data-scientist-advanced-analytics-ibm-india-pvt-limited-bangalore-bengaluru-4-to-8-years-110821906897?src=jobsearchDesk&sid=16287703914781744&xp=17&px=1',\n",
       " 'https://www.naukri.com/job-listings-data-scientist-artificial-intelligence-ibm-india-pvt-limited-bangalore-bengaluru-4-to-8-years-110821906005?src=jobsearchDesk&sid=16287703914781744&xp=18&px=1',\n",
       " 'https://www.naukri.com/job-listings-data-scientist-oracle-india-pvt-ltd-bangalore-bengaluru-6-to-10-years-190521008276?src=jobsearchDesk&sid=16287703914781744&xp=19&px=1',\n",
       " 'https://www.naukri.com/job-listings-data-scientist-artificial-intelligence-ibm-india-pvt-limited-bangalore-bengaluru-4-to-8-years-110821906380?src=jobsearchDesk&sid=16287703914781744&xp=20&px=1']"
      ]
     },
     "execution_count": 106,
     "metadata": {},
     "output_type": "execute_result"
    }
   ],
   "source": [
    "job_opening_urls = []\n",
    "#url = driver.find_elements_by_xpath('//a[@class=\"title fw500 ellipsis\"]')\n",
    "for i in url:\n",
    "    job_opening_urls.append(i.get_attribute('href'))\n",
    "job_opening_urls"
   ]
  },
  {
   "cell_type": "code",
   "execution_count": 107,
   "metadata": {},
   "outputs": [],
   "source": [
    "job_description=[]"
   ]
  },
  {
   "cell_type": "code",
   "execution_count": 108,
   "metadata": {},
   "outputs": [
    {
     "data": {
      "text/plain": [
       "['Job description\\nJob Description\\nUnderstand and design analytical solutions to business problems leveraging data science\\nUnderstand and get requirements from Stakeholders\\nPropose and execute solutions and present deliverables to stakeholders\\nManage and optimize deliverables\\nMentor and train new team members\\nDevelop POCs to enhance the teams capability\\n\\nRequirements\\nUnderstanding of mathematical, statistical, and theoretical foundations of statistics and machine learning (ML) and parametric and non-parametric models\\nKnowledge of advanced data mining techniques, curating, processing, and transforming data to produce datasets\\nUse statistical techniques and ML methods for predictive modeling / classification of problems around clients, distribution, sales, marketing, client profiles, and segmentation\\nProvide relevant and actionable recommendations / insights for businesses\\nUnderstanding of ML lifecycle that includes feature engineering, training, validation, scaling, deployment, scoring, monitoring, and feedback loop\\nExpertise in SAS Visual Analytics, Tableau, and Python\\nExpert in Python / R / SAS\\nExperience with cloud computing infrastructure, such as AWS / Azure / GCP\\nAble to develop, test, and deploy models on cloud / web\\n\\nEducation and Experience\\nBE / B.Tech. / MBA / M.Stat. / M.SC. or equivalent degree in Quant. from a reputed institute\\n2-8 years of relevant experience\\n\\nRoleBusiness Analyst\\nIndustry TypeAnalytics / KPO / Research\\nFunctional AreaAnalytics & Business Intelligence\\nEmployment TypeFull Time, Permanent\\nRole CategoryAnalytics & BI\\nEducation\\nUG :B.Tech/B.E. in Any Specialization\\nKey Skills\\nPredictive ModelingData ScienceRMarketing Mix ModelingData MiningMarketing AnalyticsMachine LearningPythonSales Analytics',\n",
       " '--',\n",
       " 'Job description\\nProvide advanced analytical capabilities to support data science initiatives\\nSolves highly complex problems that do not yet have solutions in the research and span much of the Data Science portfolio\\nInfluences the thought process and methodology for other team members\\nJob Requirements\\nSkill seet required:\\n6+ years of experience in analytics AND 2 years of programming experience (Python, Java, Scala, Rust, etc.)\\n3 years of experience performing predictive analytics at a large scale enterprise\\n3 years of experience in data science or advanced analytics in industry\\nSQL Experience\\nExperience using multiple data systems and sources (such as Hadoop, Spark, Aster, Teradata, etc.)\\nRoleTeam Lead/Technical Lead\\nIndustry TypeRecruitment / Staffing\\nFunctional AreaIT Software - Application Programming, Maintenance\\nEmployment TypeFull Time, Permanent\\nRole CategoryProgramming & Design\\nEducation\\nUG :B.Tech/B.E. in Any Specialization\\nPG :Any Postgraduate\\nKey Skills\\nadvanced analyticsdata scienceAnalyticalSCALALeadTeradataPredictive analyticsLead managementSQLPython',\n",
       " '--',\n",
       " '--',\n",
       " 'Job description\\n\\nRoles and Responsibilities\\nStrong in problem solving, algorithms and data structures\\nProficient in Python\\nHands on experience in technologies and tools related NLP, Deep learning, Machine learning\\nExperience on Conversational AI is a plus\\nAble to train and deploy models. Hands on experience on multi gpu/ tpu training\\nBroad knowledge of machine learning algorithms and principles\\nPerformance profiling and Tuning\\nCommunicate and propose solutions to business challenges\\nFamiliarity with at least one of the cloud computing infrastructure - GCP/AWS\\nKeep abreast with the latest technological advances\\nTeam mentoring and leadership skills\\n\\nDesired Candidate Profile\\n\\nNo. of opening: 01\\nExperience Required : 05 years and above\\nEducational Qualification: B.E/ B.Tech from Top Tier institutes ( IIT, BITS and NITs)\\nExperience with Product company\\nMust be interested to work in a fast pace startup culture\\n\\nPerks and Benefits\\nMedical coverage for Self and Family\\nProvident Fund\\nStock Options\\nLearning Program\\n\\nRoleR&D Executive\\nIndustry TypeIT Services & Consulting\\nFunctional AreaEngineering Design, R&D\\nEmployment TypeFull Time, Permanent\\nRole CategoryR&D\\nEducation\\nUG :B.Tech/B.E. in Computers\\nKey Skills\\nNLPDeep LearningPython\\nAlgorithmsCloud ComputingGCPArtificial IntelligenceData StructuresNatural Language ProcessingMachine LearningAWS\\nSkills highlighted with ‘‘ are preferred keyskills',\n",
       " 'Job description\\nZycus is looking for applicants with a strong background in Analytics and Data mining (Web, Social and Big data), Machine Learning, Pattern Recognition, Natural Language Processing, Computational Linguistics, Statistical Modelling, Inferencing, Information Retrieval, Large Scale Distributed Systems, Cloud Computing, Econometrics, Quantitative Marketing, Applied Game Theory, Mechanism Design, Operations Research, Optimization, Human Computer Interaction and Information Visualization. Applicants with a background in other quantitative areas are also encouraged to apply.\\n\\nWe are looking for someone who can create and implement AI solutions. If you have built a product like IBM WATSON in the past and not just used WATSON to build applications, this could be the perfect role for you.\\n\\nAll successful candidates are expected to dive deep into problem areas of Zycus interest and invent technology solutions to not only advance the current products, but also to generate new product options that can strategically advantage the organization.\\n\\nRoles & Responsibilities:\\nAct as a technical thought leader in collaboration with the analytics leadership team, helping to set the strategy and standards for Machine Learning and advanced analytics\\nWork with senior leaders from all functions to explore opportunities for using advance analytics\\nProvide technical leadership, coaching, and mentoring to talented data scientists and analytics professionals\\nGuide data scientists in the use of advanced statistical, machine learning, and artificial intelligence methodologies\\nGuide the work of other Machine learning team members to provide support and assistance, while also ensuring quality\\n\\nRequirements\\n\\nSkills:\\nExperience in predictive modelling and predictive software development\\nSkilled at Java, C++, Perl/Python (or similar scripting languages)\\nExperience in using R, Matlab, or any other statistical software\\nExperience in mentoring junior team members, and guiding them on machine learning and data modelling applications\\nStrong communication and data presentation skills\\nClassification (svm, decision tree, random forest, neural network)\\nRegression (linear, polynomial, logistic, etc)\\nClassical Optimization(gradient descent, newton raphson, etc)\\nGraph theory (network analytics)\\nHeuristic Optimisation (genetic algorithm, swarm theory)\\nDeep learning (lstm, convolutional nn, recurrent nn)\\n\\nMust Have:\\nTotal experience: 14+ years\\nThe ideal candidate must have proven expertise in Artificial Intelligence (including deep learning algorithms), Machine Learning and/or NLP\\nThe candidate must also have expertise in programming traditional machine learning algorithms, algorithm design & usage\\nProgramming expertise on Python or R\\nPreferred experience with large data sets & distributed computing in Hadoop ecosystem\\nStrong problem-solving skills\\nFluency with databases\\n\\nBenefits\\nFive Reasons Why You Should Join Zycus\\nCloud Product Company: We are a Cloud SaaS Company and our products are created by using the latest technologies like ML and AI. Our UI is in Angular JS and we are developing our mobile apps using React.\\nA Market Leader: Zycus is recognized by Gartner (worlds leading market research analyst) as a Leader in Procurement Software Suites.\\nMove between Roles: We believe that change leads to growth and therefore we allow our employees to shift careers and move to different roles and functions within the organization\\nGet a Global Exposure: You get to work and deal with our global customers.\\nCreate an Impact: Zycus gives you the environment to create an impact on the product and transform your ideas into reality. Even our junior engineers get the opportunity to work on different product features.\\nRoleAnalytics Manager\\nIndustry TypeIT Services & Consulting\\nFunctional AreaAnalytics & Business Intelligence\\nEmployment TypeFull Time, Permanent\\nRole CategoryAnalytics & BI\\nEducation\\nUG :Any Graduate\\nPG :Any Postgraduate\\nKey Skills\\nRAlgorithmsNLPAlgorithm DesignData ScientistArtificial IntelligenceMachine LearningPythonRandom Forest',\n",
       " \"Job description\\nRoles and Responsibilities\\n\\nWell-versed in quantitative analysis, data mining, trend analysis, customer profiling, clustering and predictive modelling.\\nExecuting the data-driven planning process by building models and frameworks that connect business unit drivers to company financials and forecast to take the correct decision as per the business need.\\nShould be able to handle assigned tasks in the capacity of individual contributor.\\nDemonstrate excellent teamwork.\\nCollaborate with other data analysts to provide development coverage, support, and Knowledge sharing and mentoring of junior team members.\\n\\n\\n\\nDesired Candidate Profile\\n\\nBachelor's in Computer Science, Engineering, Statistics, Maths or related quantitative degree preferably from IIT, NIT, DTU and NSIT.\\n4-6 years of relevant experience in data science.\\nProblem solver who is passionate to deep dive into data and generate insights\\nExperience of data pre-processing and data manipulation using R, Python or SQL\\nShould have some experience in statistical techniques like linear regression, logistic regression, clustering etc.\\nFamiliarity with Machine Learning and AI techniques is a plus\\nTrack record of managing data project delivery including ability to meet deadlines, overcome challenges, manage stakeholder expectations, and produce clear deliverables\\nExcellent critical thinker with a strong verbal and written communications skills.\\nAbility and desire to work in a proactive, highly engaging, high-pressure, client service environment.\\nUnderstanding of Cloud Platforms (e.g. Azure / AWS) and ability to use them for developing, training and testing deep learning models\\n\\n\\n\\n\\n\\nRoleAnalytics Manager\\nIndustry TypeAnalytics / KPO / Research\\nFunctional AreaAnalytics & Business Intelligence\\nEmployment TypeFull Time, Permanent\\nRole CategoryAnalytics & BI\\nEducation\\nUG :B.Tech/B.E. in Any Specialization, BCA in Any Specialization, B.Sc in Any Specialization\\nPG :M.Tech in Any Specialization, MS/M.Sc(Science) in Any Specialization, MCA in Any Specialization\\nKey Skills\\nRPythonSQL\\nData ScienceData ManipulationArtificial IntelligenceLinear RegressionMachine LearningStatisticsDeep Learning\\nSkills highlighted with ‘‘ are preferred keyskills\",\n",
       " 'Job description\\nResponsibilities -\\nLead a team of data scientists, machine learning engineers and big data specialists\\nBe the main point of contact for the customers\\nLead data mining and collection procedures\\nEnsure data quality and integrity\\nInterpret and analyze data problems\\nConceive, plan and prioritize data projects\\nBuild analytic systems and predictive models\\nTest performance of data-driven products\\nVisualize data and create reports\\nExperiment with new models and techniques\\nAlign data projects with organizational goals\\nRequirements -\\nVery strong in statistics fundamentals. Not all data is Big Data. The candidate should be able to derive statistical insights from very few data points if required, using traditional statistical methods.\\nEducation no bar, but preferably from a Statistics academic background (eg MSc-Stats, MSc-Econometrics etc), given the first point\\nStrong expertise in Python (any other statistical languages/tools like R, SAS, SPSS etc are just optional, but Python is absolutely essential). If the person is very strong in Python, but has almost nil knowledge in the other statistical tools, he/she will still be considered a good candidate for this role.\\nProven experience as a Data Scientist or similar role, for about 7-8 years\\nSolid understanding of machine learning and AI concepts, especially wrt choice of apt candidate algorithms for a use case, and model evaluation.\\nGood expertise in writing SQL queries (should not be dependent upon anyone else for pulling in data, joining them, data wrangling etc)\\nKnowledge of data management and visualization techniques - more from a Data Science perspective.\\nShould be able to grasp business problems, ask the right questions to better understand the problem breadthwise /depthwise, design apt solutions, and explain that to the business stakeholders.\\nQualification\\nAny Relevant Graudate ( BE/B Tech, MCA Prefer)\\nRoleTeam Lead/Technical Lead\\nIndustry TypeIT Services & Consulting\\nFunctional AreaIT Software - DBA, Datawarehousing\\nEmployment TypeFull Time, Permanent\\nRole CategoryProgramming & Design\\nEducation\\nUG :B.Sc in Statistics, B.A in Statistics, B.Tech/B.E. in Any Specialization\\nPG :MS/M.Sc(Science) in Statistics, M.A in Economics, Statistics, MCA in Any Specialization\\nDoctorate :Doctorate Not Required\\nKey Skills\\nData ScienceData WranglingArtificial IntelligenceBig DataSQL QueriesData MiningMachine LearningStatisticsPython',\n",
       " 'Job description\\n- Ability to understand a problem statement and implement analytical solutions & techniques independently with independently/proactively/thought-leadership.\\n\\n- Work with stakeholders throughout the organization to identify opportunities for leveraging company/client data to drive business solutions.\\n\\n- Fast learner: ability to learn and pick up a new language/tool/ platform quickly.\\n\\n- Conceptualize, design, and deliver high-quality solutions and insightful analysis.\\n\\n- Conduct research and prototyping innovations; data and requirements gathering; solution scoping and architecture; consulting clients and client facing teams on advanced statistical and machine learning problems.\\n\\n- Collaborate and Coordinate with different functional teams(engineering and product development) to implement models and monitor outcomes.\\n\\n- Ability to deliver AIML based solutions around a host of domains and problems, with some of them being: Customer Segmentation & Targeting, Propensity Modeling, Churn Modeling, Lifetime Value Estimation, Forecasting, Recommender Systems, Modeling Response to Incentives, Marketing Mix Optimization, Price Optimization\\n\\nExperience Required:\\n\\n- Expert level proficiency in Python.\\n\\n- Ability to create efficient solutions to complex problems. Strong skills in data-structures and ML algorithms.\\n\\n- Experience of working on end-to-end data science pipeline: problem scoping, data gathering, EDA, modelling, insights, visualizations, monitoring and maintenance.\\n\\n- Problem-solving: Ability to break the problem into small parts and applying relevant techniques to drive required outcomes.\\n\\n- Intermediate to advanced knowledge of machine learning, probability theory, statistics, and algorithms. You will be required to discuss and use various algorithms and approaches on a daily basis.\\n\\n- We use regression, Bayesian methods, tree-based learners, SVM, RF, XGBOOST, time series modeling, dimensionality reduction, SEM, GLM, GLMM, clustering, Deep learning etc. on a regular basis. If you know few of them you are good to go.\\n\\nGood to Have:\\n\\n- Experience in one of the upcoming technologies like deep learning, NLP, image processing, recommender systems\\n\\n- Experience of working in on one or more domains:\\n\\n- CPG: pricing and promotion analytics, marketing analytics, trade promotions, supply chain management\\n\\n- BFSI: cross-sell, up-sell, campaign analytics, treasury analytics, fraud detection\\n\\n- Healthcare: medical adherence, medical risk profiling, EHR data, fraud-waste-abuse\\n\\n- Experience in working with Linux computing environment and use of command line tools like sed/awk\\n\\n- Good grasp on databases including RDBMS, NoSQL, MongoDB etc.\\nRoleData Analyst\\nIndustry TypeAnalytics / KPO / Research\\nFunctional AreaAnalytics & Business Intelligence\\nEmployment TypeFull Time, Permanent\\nRole CategoryAnalytics & BI\\nEducation\\nUG :Any Graduate\\nPG :Any Postgraduate\\nDoctorate :Doctorate Not Required\\nKey Skills\\nData ScienceNLPData ScientistArtificial IntelligenceData ManagementStatistical ModelingMarketing AnalyticsMachine LearningAnalyticsSQL']"
      ]
     },
     "execution_count": 108,
     "metadata": {},
     "output_type": "execute_result"
    }
   ],
   "source": [
    "for i in job_opening_urls[0:10]:\n",
    "    driver.get(i)\n",
    "    try:\n",
    "        job_desc = driver.find_element_by_xpath(\"//section[@class='job-desc']\")\n",
    "        job_description.append(job_desc.text)\n",
    "    except:\n",
    "        job_description.append(\"--\")\n",
    "        \n",
    "job_description"
   ]
  },
  {
   "cell_type": "markdown",
   "metadata": {},
   "source": [
    "Scrape job description"
   ]
  },
  {
   "cell_type": "code",
   "execution_count": 112,
   "metadata": {},
   "outputs": [
    {
     "name": "stdout",
     "output_type": "stream",
     "text": [
      "10 10 10 10\n"
     ]
    }
   ],
   "source": [
    "print(len(job_titles),len(company_names),len(locations_list),len(job_description))"
   ]
  },
  {
   "cell_type": "code",
   "execution_count": 110,
   "metadata": {},
   "outputs": [],
   "source": [
    "jobs=pd.DataFrame({})\n",
    "jobs['title']=job_titles\n",
    "jobs['company']=company_names\n",
    "jobs['location']=locations_list\n",
    "jobs['job_description']=job_description"
   ]
  },
  {
   "cell_type": "code",
   "execution_count": 111,
   "metadata": {},
   "outputs": [
    {
     "data": {
      "text/html": [
       "<div>\n",
       "<style scoped>\n",
       "    .dataframe tbody tr th:only-of-type {\n",
       "        vertical-align: middle;\n",
       "    }\n",
       "\n",
       "    .dataframe tbody tr th {\n",
       "        vertical-align: top;\n",
       "    }\n",
       "\n",
       "    .dataframe thead th {\n",
       "        text-align: right;\n",
       "    }\n",
       "</style>\n",
       "<table border=\"1\" class=\"dataframe\">\n",
       "  <thead>\n",
       "    <tr style=\"text-align: right;\">\n",
       "      <th></th>\n",
       "      <th>title</th>\n",
       "      <th>company</th>\n",
       "      <th>location</th>\n",
       "      <th>job_description</th>\n",
       "    </tr>\n",
       "  </thead>\n",
       "  <tbody>\n",
       "    <tr>\n",
       "      <th>0</th>\n",
       "      <td>Data Scientist- Senior Business Analyst/Lead A...</td>\n",
       "      <td>Evalueserve.com Pvt. Ltd</td>\n",
       "      <td>Gurgaon/Gurugram, Bangalore/Bengaluru</td>\n",
       "      <td>Job description\\nJob Description\\nUnderstand a...</td>\n",
       "    </tr>\n",
       "    <tr>\n",
       "      <th>1</th>\n",
       "      <td>Lead Data Scientist - Retail Industry</td>\n",
       "      <td>IBM India Pvt. Limited</td>\n",
       "      <td>Bangalore/Bengaluru</td>\n",
       "      <td>--</td>\n",
       "    </tr>\n",
       "    <tr>\n",
       "      <th>2</th>\n",
       "      <td>Senior/ Lead Data Scientist</td>\n",
       "      <td>Superior Group</td>\n",
       "      <td>Bangalore/Bengaluru</td>\n",
       "      <td>Job description\\nProvide advanced analytical c...</td>\n",
       "    </tr>\n",
       "    <tr>\n",
       "      <th>3</th>\n",
       "      <td>Data Scientist: Advanced Analytics</td>\n",
       "      <td>IBM India Pvt. Limited</td>\n",
       "      <td>Bangalore/Bengaluru</td>\n",
       "      <td>--</td>\n",
       "    </tr>\n",
       "    <tr>\n",
       "      <th>4</th>\n",
       "      <td>Senior Data Scientist</td>\n",
       "      <td>SMITHS DETECTION SYSTEMS PRIVATE LIMITED</td>\n",
       "      <td>Bangalore/Bengaluru</td>\n",
       "      <td>--</td>\n",
       "    </tr>\n",
       "    <tr>\n",
       "      <th>5</th>\n",
       "      <td>Senior Data Scientist</td>\n",
       "      <td>Cognizer India Private Limited</td>\n",
       "      <td>Bangalore/Bengaluru</td>\n",
       "      <td>Job description\\n\\nRoles and Responsibilities\\...</td>\n",
       "    </tr>\n",
       "    <tr>\n",
       "      <th>6</th>\n",
       "      <td>Lead Data Scientist</td>\n",
       "      <td>Zycus Infotech Pvt Ltd</td>\n",
       "      <td>Bangalore/Bengaluru</td>\n",
       "      <td>Job description\\nZycus is looking for applican...</td>\n",
       "    </tr>\n",
       "    <tr>\n",
       "      <th>7</th>\n",
       "      <td>Lead Data Scientist</td>\n",
       "      <td>TransOrg Solutions Services (P) Ltd.</td>\n",
       "      <td>Bangalore/Bengaluru, Delhi / NCR, Mumbai (All ...</td>\n",
       "      <td>Job description\\nRoles and Responsibilities\\n\\...</td>\n",
       "    </tr>\n",
       "    <tr>\n",
       "      <th>8</th>\n",
       "      <td>Senior Data Scientist / Tech Lead - Data Science</td>\n",
       "      <td>Confidential</td>\n",
       "      <td>Bangalore/Bengaluru, Delhi / NCR</td>\n",
       "      <td>Job description\\nResponsibilities -\\nLead a te...</td>\n",
       "    </tr>\n",
       "    <tr>\n",
       "      <th>9</th>\n",
       "      <td>Senior Data Scientist - KPO</td>\n",
       "      <td>TalentCo Search Pvt Ltd</td>\n",
       "      <td>Mumbai, Bangalore/Bengaluru, Delhi / NCR</td>\n",
       "      <td>Job description\\n- Ability to understand a pro...</td>\n",
       "    </tr>\n",
       "  </tbody>\n",
       "</table>\n",
       "</div>"
      ],
      "text/plain": [
       "                                               title  \\\n",
       "0  Data Scientist- Senior Business Analyst/Lead A...   \n",
       "1              Lead Data Scientist - Retail Industry   \n",
       "2                        Senior/ Lead Data Scientist   \n",
       "3                 Data Scientist: Advanced Analytics   \n",
       "4                              Senior Data Scientist   \n",
       "5                              Senior Data Scientist   \n",
       "6                                Lead Data Scientist   \n",
       "7                                Lead Data Scientist   \n",
       "8   Senior Data Scientist / Tech Lead - Data Science   \n",
       "9                        Senior Data Scientist - KPO   \n",
       "\n",
       "                                    company  \\\n",
       "0                  Evalueserve.com Pvt. Ltd   \n",
       "1                    IBM India Pvt. Limited   \n",
       "2                            Superior Group   \n",
       "3                    IBM India Pvt. Limited   \n",
       "4  SMITHS DETECTION SYSTEMS PRIVATE LIMITED   \n",
       "5            Cognizer India Private Limited   \n",
       "6                    Zycus Infotech Pvt Ltd   \n",
       "7      TransOrg Solutions Services (P) Ltd.   \n",
       "8                              Confidential   \n",
       "9                   TalentCo Search Pvt Ltd   \n",
       "\n",
       "                                            location  \\\n",
       "0              Gurgaon/Gurugram, Bangalore/Bengaluru   \n",
       "1                                Bangalore/Bengaluru   \n",
       "2                                Bangalore/Bengaluru   \n",
       "3                                Bangalore/Bengaluru   \n",
       "4                                Bangalore/Bengaluru   \n",
       "5                                Bangalore/Bengaluru   \n",
       "6                                Bangalore/Bengaluru   \n",
       "7  Bangalore/Bengaluru, Delhi / NCR, Mumbai (All ...   \n",
       "8                   Bangalore/Bengaluru, Delhi / NCR   \n",
       "9           Mumbai, Bangalore/Bengaluru, Delhi / NCR   \n",
       "\n",
       "                                     job_description  \n",
       "0  Job description\\nJob Description\\nUnderstand a...  \n",
       "1                                                 --  \n",
       "2  Job description\\nProvide advanced analytical c...  \n",
       "3                                                 --  \n",
       "4                                                 --  \n",
       "5  Job description\\n\\nRoles and Responsibilities\\...  \n",
       "6  Job description\\nZycus is looking for applican...  \n",
       "7  Job description\\nRoles and Responsibilities\\n\\...  \n",
       "8  Job description\\nResponsibilities -\\nLead a te...  \n",
       "9  Job description\\n- Ability to understand a pro...  "
      ]
     },
     "execution_count": 111,
     "metadata": {},
     "output_type": "execute_result"
    }
   ],
   "source": [
    "jobs"
   ]
  },
  {
   "cell_type": "markdown",
   "metadata": {},
   "source": [
    "Make dataframe for scrape data"
   ]
  },
  {
   "cell_type": "markdown",
   "metadata": {},
   "source": []
  },
  {
   "cell_type": "markdown",
   "metadata": {},
   "source": [
    "Q3: In this question you have to scrape data using the filters available on the \n",
    "webpage as shown below:\n"
   ]
  },
  {
   "cell_type": "code",
   "execution_count": 113,
   "metadata": {},
   "outputs": [],
   "source": [
    "driver = webdriver.Chrome(r\"C:\\Users\\Ankita\\Downloads\\chromedriver_win32\\chromedriver.exe\")"
   ]
  },
  {
   "cell_type": "markdown",
   "metadata": {},
   "source": [
    "Load the chrome"
   ]
  },
  {
   "cell_type": "code",
   "execution_count": 114,
   "metadata": {},
   "outputs": [],
   "source": [
    "url = 'https://www.naukri.com/jobs-in-india'\n",
    "driver.get(url)"
   ]
  },
  {
   "cell_type": "markdown",
   "metadata": {},
   "source": [
    "Enter naukari url"
   ]
  },
  {
   "cell_type": "code",
   "execution_count": 115,
   "metadata": {},
   "outputs": [
    {
     "data": {
      "text/plain": [
       "<selenium.webdriver.remote.webelement.WebElement (session=\"ea35c52a475ac0bd148b2b7e3bb44ee5\", element=\"2c60fbe8-73fc-4ff9-bb16-e9df4f11b46e\")>"
      ]
     },
     "execution_count": 115,
     "metadata": {},
     "output_type": "execute_result"
    }
   ],
   "source": [
    "search_btn = driver.find_element_by_xpath(\"//span[@class='quick-search-bar__view__modify-link']\")\n",
    "search_btn"
   ]
  },
  {
   "cell_type": "code",
   "execution_count": 116,
   "metadata": {},
   "outputs": [],
   "source": [
    "search_btn.click()"
   ]
  },
  {
   "cell_type": "markdown",
   "metadata": {},
   "source": [
    "Enter search button"
   ]
  },
  {
   "cell_type": "code",
   "execution_count": 117,
   "metadata": {},
   "outputs": [
    {
     "data": {
      "text/plain": [
       "<selenium.webdriver.remote.webelement.WebElement (session=\"ea35c52a475ac0bd148b2b7e3bb44ee5\", element=\"c4e57b71-ef9a-421e-bac3-b8fb2ec94c78\")>"
      ]
     },
     "execution_count": 117,
     "metadata": {},
     "output_type": "execute_result"
    }
   ],
   "source": [
    "search_job = driver.find_element_by_id('qsb-keyword-sugg')\n",
    "search_job"
   ]
  },
  {
   "cell_type": "code",
   "execution_count": 118,
   "metadata": {},
   "outputs": [],
   "source": [
    "search_job.send_keys(\"Data Scientist\")"
   ]
  },
  {
   "cell_type": "markdown",
   "metadata": {},
   "source": [
    "Enter Data Scientist on job search field"
   ]
  },
  {
   "cell_type": "code",
   "execution_count": 119,
   "metadata": {},
   "outputs": [
    {
     "data": {
      "text/plain": [
       "<selenium.webdriver.remote.webelement.WebElement (session=\"ea35c52a475ac0bd148b2b7e3bb44ee5\", element=\"01c2faa1-4e89-49d9-bcd3-dae21bf4891e\")>"
      ]
     },
     "execution_count": 119,
     "metadata": {},
     "output_type": "execute_result"
    }
   ],
   "source": [
    "search_btn = driver.find_element_by_xpath(\"//button[@class='btn-primary']\")\n",
    "search_btn"
   ]
  },
  {
   "cell_type": "code",
   "execution_count": 120,
   "metadata": {},
   "outputs": [],
   "source": [
    "search_btn.click()"
   ]
  },
  {
   "cell_type": "markdown",
   "metadata": {},
   "source": [
    "Click on search button"
   ]
  },
  {
   "cell_type": "code",
   "execution_count": 558,
   "metadata": {},
   "outputs": [],
   "source": [
    "location_filter = driver.find_element_by_xpath('/html/body/div[1]/div[3]/div[2]/section[1]/div[2]/div[3]/div[2]/div[3]/label/i')\n",
    "location_filter.click()"
   ]
  },
  {
   "cell_type": "markdown",
   "metadata": {},
   "source": [
    "Click and select location fielter"
   ]
  },
  {
   "cell_type": "code",
   "execution_count": 559,
   "metadata": {},
   "outputs": [],
   "source": [
    "salary_filter = driver.find_element_by_xpath('/html/body/div[1]/div[3]/div[2]/section[1]/div[2]/div[4]/div[2]/div[2]/label/i')\n",
    "salary_filter.click()"
   ]
  },
  {
   "cell_type": "markdown",
   "metadata": {},
   "source": [
    "Click and select salary filter"
   ]
  },
  {
   "cell_type": "code",
   "execution_count": 560,
   "metadata": {},
   "outputs": [
    {
     "data": {
      "text/plain": [
       "[<selenium.webdriver.remote.webelement.WebElement (session=\"cf81141dcb7feefb71418f93f55cb988\", element=\"ea6cf3e3-a93c-439d-bd1b-23f3c12d83a9\")>,\n",
       " <selenium.webdriver.remote.webelement.WebElement (session=\"cf81141dcb7feefb71418f93f55cb988\", element=\"0218af4c-3169-4379-8fe1-5d7d88b1d1c2\")>,\n",
       " <selenium.webdriver.remote.webelement.WebElement (session=\"cf81141dcb7feefb71418f93f55cb988\", element=\"48cd5dce-6a16-4b78-9ce7-f1fb202105ae\")>,\n",
       " <selenium.webdriver.remote.webelement.WebElement (session=\"cf81141dcb7feefb71418f93f55cb988\", element=\"32dbf5dd-c342-47b5-9c99-f054011ec856\")>,\n",
       " <selenium.webdriver.remote.webelement.WebElement (session=\"cf81141dcb7feefb71418f93f55cb988\", element=\"2dfe4f3f-bf54-4181-89e7-d93f5e696e39\")>,\n",
       " <selenium.webdriver.remote.webelement.WebElement (session=\"cf81141dcb7feefb71418f93f55cb988\", element=\"48d1f2bd-9115-4a9d-bc18-f7db51ec8919\")>,\n",
       " <selenium.webdriver.remote.webelement.WebElement (session=\"cf81141dcb7feefb71418f93f55cb988\", element=\"21f5f608-6c4f-43db-bb47-3c644c0d58b9\")>,\n",
       " <selenium.webdriver.remote.webelement.WebElement (session=\"cf81141dcb7feefb71418f93f55cb988\", element=\"2ad97646-1b30-4b07-a029-8f7572136f45\")>,\n",
       " <selenium.webdriver.remote.webelement.WebElement (session=\"cf81141dcb7feefb71418f93f55cb988\", element=\"786feeb0-b9ee-4f5c-9ad8-22598c706227\")>,\n",
       " <selenium.webdriver.remote.webelement.WebElement (session=\"cf81141dcb7feefb71418f93f55cb988\", element=\"9633c6f5-22d9-45ad-8d94-c29df80c1677\")>,\n",
       " <selenium.webdriver.remote.webelement.WebElement (session=\"cf81141dcb7feefb71418f93f55cb988\", element=\"36cb90ba-4d00-4deb-84d7-1766ce7540d1\")>,\n",
       " <selenium.webdriver.remote.webelement.WebElement (session=\"cf81141dcb7feefb71418f93f55cb988\", element=\"7e0590d5-bfb0-4852-9448-46949d814591\")>,\n",
       " <selenium.webdriver.remote.webelement.WebElement (session=\"cf81141dcb7feefb71418f93f55cb988\", element=\"a9346844-0ce0-401b-89fb-3952e1f69778\")>,\n",
       " <selenium.webdriver.remote.webelement.WebElement (session=\"cf81141dcb7feefb71418f93f55cb988\", element=\"d386894b-6038-4dfe-b46e-3d12d0138c8c\")>,\n",
       " <selenium.webdriver.remote.webelement.WebElement (session=\"cf81141dcb7feefb71418f93f55cb988\", element=\"2ac13be7-319b-4cfc-9557-d6ce3f404b88\")>,\n",
       " <selenium.webdriver.remote.webelement.WebElement (session=\"cf81141dcb7feefb71418f93f55cb988\", element=\"52d2f132-2145-42c9-97e2-3b516fb992a4\")>,\n",
       " <selenium.webdriver.remote.webelement.WebElement (session=\"cf81141dcb7feefb71418f93f55cb988\", element=\"6bc836b2-c95a-4284-91c8-7c9ee2254b75\")>,\n",
       " <selenium.webdriver.remote.webelement.WebElement (session=\"cf81141dcb7feefb71418f93f55cb988\", element=\"a3f3a3e4-9593-47f4-ad62-35b3c9d58a0b\")>,\n",
       " <selenium.webdriver.remote.webelement.WebElement (session=\"cf81141dcb7feefb71418f93f55cb988\", element=\"24c45572-dcd2-4917-a35b-c012bfb048fe\")>,\n",
       " <selenium.webdriver.remote.webelement.WebElement (session=\"cf81141dcb7feefb71418f93f55cb988\", element=\"e77a3dc7-7bb7-4f57-bca7-643d93e3a5a1\")>]"
      ]
     },
     "execution_count": 560,
     "metadata": {},
     "output_type": "execute_result"
    }
   ],
   "source": [
    "titles_tags=driver.find_elements_by_xpath(\"//a[@class='title fw500 ellipsis']\")\n",
    "titles_tags"
   ]
  },
  {
   "cell_type": "code",
   "execution_count": 561,
   "metadata": {},
   "outputs": [
    {
     "data": {
      "text/plain": [
       "['Data Scientist / Sr. Data Scientist',\n",
       " 'Only Fresher / Data Scientist / Data Analyst / Analytics - MNC Jobs',\n",
       " 'Data Scientist',\n",
       " 'Senior Data Scientist - Noida',\n",
       " 'Data Scientist / Data Analyst',\n",
       " 'Immediate Openings For DATA Scientist with 6 To 7 yrs of Experience',\n",
       " 'Data Scientist',\n",
       " 'Senior Data Scientist',\n",
       " 'Data Scientist',\n",
       " 'Data Scientist - Machine Learning/NLP']"
      ]
     },
     "execution_count": 561,
     "metadata": {},
     "output_type": "execute_result"
    }
   ],
   "source": [
    "job_titles=[]\n",
    "for i in titles_tags[0:10]:\n",
    "    job_titles.append(i.text)\n",
    "job_titles"
   ]
  },
  {
   "cell_type": "markdown",
   "metadata": {},
   "source": [
    "Scrape job titles"
   ]
  },
  {
   "cell_type": "code",
   "execution_count": 562,
   "metadata": {},
   "outputs": [
    {
     "data": {
      "text/plain": [
       "[<selenium.webdriver.remote.webelement.WebElement (session=\"cf81141dcb7feefb71418f93f55cb988\", element=\"f8acd4b3-3ba6-44cf-bcc5-4199e3f2330c\")>,\n",
       " <selenium.webdriver.remote.webelement.WebElement (session=\"cf81141dcb7feefb71418f93f55cb988\", element=\"4b9263d5-1ee8-47e7-9453-f98557ef5a77\")>,\n",
       " <selenium.webdriver.remote.webelement.WebElement (session=\"cf81141dcb7feefb71418f93f55cb988\", element=\"98181e7f-aa6f-4c5e-bb42-debb46e661be\")>,\n",
       " <selenium.webdriver.remote.webelement.WebElement (session=\"cf81141dcb7feefb71418f93f55cb988\", element=\"76696bfe-7d6a-401b-9cb4-5b0f943264a2\")>,\n",
       " <selenium.webdriver.remote.webelement.WebElement (session=\"cf81141dcb7feefb71418f93f55cb988\", element=\"542b015f-fa72-4aee-9b1e-f0057bb0fdce\")>,\n",
       " <selenium.webdriver.remote.webelement.WebElement (session=\"cf81141dcb7feefb71418f93f55cb988\", element=\"41d7830f-9718-4c07-8047-612363deb3e3\")>,\n",
       " <selenium.webdriver.remote.webelement.WebElement (session=\"cf81141dcb7feefb71418f93f55cb988\", element=\"9da15281-812d-4e5d-b0d0-6b446728e185\")>,\n",
       " <selenium.webdriver.remote.webelement.WebElement (session=\"cf81141dcb7feefb71418f93f55cb988\", element=\"5211ec44-4b9f-4102-9f7d-229d8403625c\")>,\n",
       " <selenium.webdriver.remote.webelement.WebElement (session=\"cf81141dcb7feefb71418f93f55cb988\", element=\"dacbab34-65be-455a-8c1d-505aacf503d6\")>,\n",
       " <selenium.webdriver.remote.webelement.WebElement (session=\"cf81141dcb7feefb71418f93f55cb988\", element=\"cc3809ac-13d7-44ad-99a0-35bef5e520ae\")>,\n",
       " <selenium.webdriver.remote.webelement.WebElement (session=\"cf81141dcb7feefb71418f93f55cb988\", element=\"b37170e0-b382-490d-89d3-dfc1bc167187\")>,\n",
       " <selenium.webdriver.remote.webelement.WebElement (session=\"cf81141dcb7feefb71418f93f55cb988\", element=\"0076a7de-15f4-4cbf-a3fd-9daba749a6c1\")>,\n",
       " <selenium.webdriver.remote.webelement.WebElement (session=\"cf81141dcb7feefb71418f93f55cb988\", element=\"08c07ac8-18ce-4e10-98a5-d1e848177c05\")>,\n",
       " <selenium.webdriver.remote.webelement.WebElement (session=\"cf81141dcb7feefb71418f93f55cb988\", element=\"3e22725c-3b71-4666-8cbb-283c04fab974\")>,\n",
       " <selenium.webdriver.remote.webelement.WebElement (session=\"cf81141dcb7feefb71418f93f55cb988\", element=\"9fc82f49-8532-403a-9cd4-46983dcfddcc\")>,\n",
       " <selenium.webdriver.remote.webelement.WebElement (session=\"cf81141dcb7feefb71418f93f55cb988\", element=\"7a9ea908-a232-41b2-b17d-a21ff9d88545\")>,\n",
       " <selenium.webdriver.remote.webelement.WebElement (session=\"cf81141dcb7feefb71418f93f55cb988\", element=\"4a05557d-4dd6-4f6b-b6f6-cea79ea30a83\")>,\n",
       " <selenium.webdriver.remote.webelement.WebElement (session=\"cf81141dcb7feefb71418f93f55cb988\", element=\"5a95b653-774d-473c-8c14-b08277e52282\")>,\n",
       " <selenium.webdriver.remote.webelement.WebElement (session=\"cf81141dcb7feefb71418f93f55cb988\", element=\"37a23d3f-e3ff-420e-ab4f-ae0290340a50\")>,\n",
       " <selenium.webdriver.remote.webelement.WebElement (session=\"cf81141dcb7feefb71418f93f55cb988\", element=\"11a0bfdd-d5dd-470b-85ad-5276a7352975\")>]"
      ]
     },
     "execution_count": 562,
     "metadata": {},
     "output_type": "execute_result"
    }
   ],
   "source": [
    "companies_tags=driver.find_elements_by_xpath(\"//a[@class='subTitle ellipsis fleft']\")\n",
    "companies_tags\n"
   ]
  },
  {
   "cell_type": "code",
   "execution_count": 563,
   "metadata": {},
   "outputs": [
    {
     "data": {
      "text/plain": [
       "['WEGARNER SOLUTIONS PRIVATE LIMITED',\n",
       " 'GABA Consultancy services',\n",
       " 'CBRE South Asia Pvt Ltd',\n",
       " 'Optum Global Solutions (India) Private Limited',\n",
       " 'CARS24',\n",
       " 'Entune IT Consulting Private Limited',\n",
       " 'Decimal Technologies Pvt Ltd.',\n",
       " 'inVentiv International Pharma Services Pvt. Ltd.',\n",
       " 'R Systems International Ltd.',\n",
       " 'TalPro']"
      ]
     },
     "execution_count": 563,
     "metadata": {},
     "output_type": "execute_result"
    }
   ],
   "source": [
    "company_names=[]\n",
    "for i in companies_tags[0:10]:\n",
    "    company_names.append(i.text)\n",
    "company_names"
   ]
  },
  {
   "cell_type": "markdown",
   "metadata": {},
   "source": [
    "Scrape company name"
   ]
  },
  {
   "cell_type": "code",
   "execution_count": 564,
   "metadata": {},
   "outputs": [
    {
     "data": {
      "text/plain": [
       "[<selenium.webdriver.remote.webelement.WebElement (session=\"cf81141dcb7feefb71418f93f55cb988\", element=\"2a195708-d2b9-4338-827c-41134300c993\")>,\n",
       " <selenium.webdriver.remote.webelement.WebElement (session=\"cf81141dcb7feefb71418f93f55cb988\", element=\"71ab5c5f-faf5-4d8c-887e-72b9c6bcb5c9\")>,\n",
       " <selenium.webdriver.remote.webelement.WebElement (session=\"cf81141dcb7feefb71418f93f55cb988\", element=\"c7c4adc4-0e16-43a8-ad7a-4d2d96f9205c\")>,\n",
       " <selenium.webdriver.remote.webelement.WebElement (session=\"cf81141dcb7feefb71418f93f55cb988\", element=\"5a06a9c5-6d51-4796-a8af-924a8c5c6e1b\")>,\n",
       " <selenium.webdriver.remote.webelement.WebElement (session=\"cf81141dcb7feefb71418f93f55cb988\", element=\"8e9e25e2-e55a-428b-b7d9-0d9ff8633338\")>,\n",
       " <selenium.webdriver.remote.webelement.WebElement (session=\"cf81141dcb7feefb71418f93f55cb988\", element=\"3721bfea-2469-4ebc-ae85-b671edb1f757\")>,\n",
       " <selenium.webdriver.remote.webelement.WebElement (session=\"cf81141dcb7feefb71418f93f55cb988\", element=\"c7acaf23-20d3-4a61-a60c-4cd4d4f27f7e\")>,\n",
       " <selenium.webdriver.remote.webelement.WebElement (session=\"cf81141dcb7feefb71418f93f55cb988\", element=\"2400712a-40b1-4d3c-a73b-aae34c6893f6\")>,\n",
       " <selenium.webdriver.remote.webelement.WebElement (session=\"cf81141dcb7feefb71418f93f55cb988\", element=\"873825f0-f1c5-4fdd-ba65-4d10fa4a8812\")>,\n",
       " <selenium.webdriver.remote.webelement.WebElement (session=\"cf81141dcb7feefb71418f93f55cb988\", element=\"d773dde0-8db3-4591-b026-ec028516f381\")>,\n",
       " <selenium.webdriver.remote.webelement.WebElement (session=\"cf81141dcb7feefb71418f93f55cb988\", element=\"32ba498c-5e34-445c-ae97-d3633f9a6fe1\")>,\n",
       " <selenium.webdriver.remote.webelement.WebElement (session=\"cf81141dcb7feefb71418f93f55cb988\", element=\"45f2897c-b6c0-4e56-a912-fe382494ce71\")>,\n",
       " <selenium.webdriver.remote.webelement.WebElement (session=\"cf81141dcb7feefb71418f93f55cb988\", element=\"da0c5dde-a6fe-41fb-924d-28f8641aaca9\")>,\n",
       " <selenium.webdriver.remote.webelement.WebElement (session=\"cf81141dcb7feefb71418f93f55cb988\", element=\"96452393-d75a-4b37-9225-7748d9dbd530\")>,\n",
       " <selenium.webdriver.remote.webelement.WebElement (session=\"cf81141dcb7feefb71418f93f55cb988\", element=\"cadc09b1-0955-408c-8213-3f89ca85b9aa\")>,\n",
       " <selenium.webdriver.remote.webelement.WebElement (session=\"cf81141dcb7feefb71418f93f55cb988\", element=\"44968441-2169-4970-84eb-d172d69c9853\")>,\n",
       " <selenium.webdriver.remote.webelement.WebElement (session=\"cf81141dcb7feefb71418f93f55cb988\", element=\"35f10c57-55ed-4123-848a-b5131a3a755a\")>,\n",
       " <selenium.webdriver.remote.webelement.WebElement (session=\"cf81141dcb7feefb71418f93f55cb988\", element=\"093c7286-a2aa-4a60-b81c-9362ce49bbd2\")>,\n",
       " <selenium.webdriver.remote.webelement.WebElement (session=\"cf81141dcb7feefb71418f93f55cb988\", element=\"52cee730-5a0b-47c7-8b68-504956c09a27\")>,\n",
       " <selenium.webdriver.remote.webelement.WebElement (session=\"cf81141dcb7feefb71418f93f55cb988\", element=\"74a2639f-775e-4841-a950-e3810a08ee04\")>]"
      ]
     },
     "execution_count": 564,
     "metadata": {},
     "output_type": "execute_result"
    }
   ],
   "source": [
    "experience_tags=driver.find_elements_by_xpath(\"//li[@class='fleft grey-text br2 placeHolderLi experience']//span\")\n",
    "experience_tags"
   ]
  },
  {
   "cell_type": "code",
   "execution_count": 565,
   "metadata": {},
   "outputs": [
    {
     "data": {
      "text/plain": [
       "['0-5 Yrs',\n",
       " '0-0 Yrs',\n",
       " '2-4 Yrs',\n",
       " '2-6 Yrs',\n",
       " '1-5 Yrs',\n",
       " '5-8 Yrs',\n",
       " '1-3 Yrs',\n",
       " '3-6 Yrs',\n",
       " '5-10 Yrs',\n",
       " '2-6 Yrs']"
      ]
     },
     "execution_count": 565,
     "metadata": {},
     "output_type": "execute_result"
    }
   ],
   "source": [
    "experience_required=[]\n",
    "for i in experience_tags[0:10]:\n",
    "    experience_required.append(i.text)\n",
    "experience_required"
   ]
  },
  {
   "cell_type": "markdown",
   "metadata": {},
   "source": [
    "Scrape experience information"
   ]
  },
  {
   "cell_type": "code",
   "execution_count": 566,
   "metadata": {},
   "outputs": [
    {
     "data": {
      "text/plain": [
       "[<selenium.webdriver.remote.webelement.WebElement (session=\"cf81141dcb7feefb71418f93f55cb988\", element=\"90ab7fde-1784-45fc-9269-0e32bbccdcb8\")>,\n",
       " <selenium.webdriver.remote.webelement.WebElement (session=\"cf81141dcb7feefb71418f93f55cb988\", element=\"4cfe72ff-8d7e-4edc-9750-1c6534f81d7d\")>,\n",
       " <selenium.webdriver.remote.webelement.WebElement (session=\"cf81141dcb7feefb71418f93f55cb988\", element=\"89ea7c3c-6714-4aa9-8c31-9692bd5c8ddf\")>,\n",
       " <selenium.webdriver.remote.webelement.WebElement (session=\"cf81141dcb7feefb71418f93f55cb988\", element=\"7bdee834-5ab5-49ac-998a-742a5fb9951a\")>,\n",
       " <selenium.webdriver.remote.webelement.WebElement (session=\"cf81141dcb7feefb71418f93f55cb988\", element=\"058a1620-2103-4357-852a-12089c3bd42e\")>,\n",
       " <selenium.webdriver.remote.webelement.WebElement (session=\"cf81141dcb7feefb71418f93f55cb988\", element=\"3129128b-80f4-4357-8274-832a538629ce\")>,\n",
       " <selenium.webdriver.remote.webelement.WebElement (session=\"cf81141dcb7feefb71418f93f55cb988\", element=\"4d6a1a6c-4bd0-4e4f-9717-4e65325642bf\")>,\n",
       " <selenium.webdriver.remote.webelement.WebElement (session=\"cf81141dcb7feefb71418f93f55cb988\", element=\"60633f16-e227-45b3-b97f-15fccca1466a\")>,\n",
       " <selenium.webdriver.remote.webelement.WebElement (session=\"cf81141dcb7feefb71418f93f55cb988\", element=\"3b807b47-1132-4be9-b1e3-98dd00513d17\")>,\n",
       " <selenium.webdriver.remote.webelement.WebElement (session=\"cf81141dcb7feefb71418f93f55cb988\", element=\"b224f783-6669-4d0e-91c4-7b4e70dcd836\")>,\n",
       " <selenium.webdriver.remote.webelement.WebElement (session=\"cf81141dcb7feefb71418f93f55cb988\", element=\"3bb0a6ef-ee4a-4941-9a4f-6fcc640f8c0a\")>,\n",
       " <selenium.webdriver.remote.webelement.WebElement (session=\"cf81141dcb7feefb71418f93f55cb988\", element=\"bb68088f-9670-453d-9bd4-0f2eac3b55c3\")>,\n",
       " <selenium.webdriver.remote.webelement.WebElement (session=\"cf81141dcb7feefb71418f93f55cb988\", element=\"0f0f9935-8a17-4aa5-81fe-a39ab1e2d625\")>,\n",
       " <selenium.webdriver.remote.webelement.WebElement (session=\"cf81141dcb7feefb71418f93f55cb988\", element=\"aa6858f3-f69e-4d0d-96a6-5bd06e759748\")>,\n",
       " <selenium.webdriver.remote.webelement.WebElement (session=\"cf81141dcb7feefb71418f93f55cb988\", element=\"44683245-2e27-4df1-af8f-dbff2e8561de\")>,\n",
       " <selenium.webdriver.remote.webelement.WebElement (session=\"cf81141dcb7feefb71418f93f55cb988\", element=\"6610057a-add8-4ab1-9362-f5b9463a8e8c\")>,\n",
       " <selenium.webdriver.remote.webelement.WebElement (session=\"cf81141dcb7feefb71418f93f55cb988\", element=\"c0030fe2-2b1d-4b37-98f3-e51570f86f91\")>,\n",
       " <selenium.webdriver.remote.webelement.WebElement (session=\"cf81141dcb7feefb71418f93f55cb988\", element=\"8cccdeda-ac09-4285-a5b5-d8e3c5aad3f5\")>,\n",
       " <selenium.webdriver.remote.webelement.WebElement (session=\"cf81141dcb7feefb71418f93f55cb988\", element=\"e792ecee-81f4-4517-8efc-08491c64d526\")>,\n",
       " <selenium.webdriver.remote.webelement.WebElement (session=\"cf81141dcb7feefb71418f93f55cb988\", element=\"ff8fbe53-8afa-4bbc-9830-3e37a9d37566\")>]"
      ]
     },
     "execution_count": 566,
     "metadata": {},
     "output_type": "execute_result"
    }
   ],
   "source": [
    "locations_tags=driver.find_elements_by_xpath(\"//li[@class='fleft grey-text br2 placeHolderLi location']//span[1]\")\n",
    "locations_tags"
   ]
  },
  {
   "cell_type": "code",
   "execution_count": 567,
   "metadata": {},
   "outputs": [
    {
     "data": {
      "text/plain": [
       "['Noida, Pune, Mumbai (All Areas)',\n",
       " 'Noida, Gurgaon/Gurugram, Delhi / NCR',\n",
       " 'Gurgaon/Gurugram',\n",
       " 'Noida',\n",
       " 'Gurgaon/Gurugram',\n",
       " 'Kolkata, Hyderabad/Secunderabad, Pune, Ahmedabad, Chennai, Bangalore/Bengaluru, Delhi / NCR, Mumbai (All Areas)',\n",
       " 'Gurgaon/Gurugram',\n",
       " 'Hyderabad/Secunderabad, Gurgaon/Gurugram, Bangalore/Bengaluru',\n",
       " 'Noida(Sector-59 Noida)',\n",
       " 'Gurgaon/Gurugram']"
      ]
     },
     "execution_count": 567,
     "metadata": {},
     "output_type": "execute_result"
    }
   ],
   "source": [
    "locations_list=[]\n",
    "for i in locations_tags[0:10]:\n",
    "    locations_list.append(i.text)\n",
    "locations_list"
   ]
  },
  {
   "cell_type": "markdown",
   "metadata": {},
   "source": [
    "Scrape location information"
   ]
  },
  {
   "cell_type": "code",
   "execution_count": 568,
   "metadata": {},
   "outputs": [
    {
     "name": "stdout",
     "output_type": "stream",
     "text": [
      "10 10 10 10\n"
     ]
    }
   ],
   "source": [
    "print(len(job_titles),len(company_names),len(experience_required),len(locations_list))"
   ]
  },
  {
   "cell_type": "code",
   "execution_count": 570,
   "metadata": {},
   "outputs": [],
   "source": [
    "#import pandas as pd\n",
    "jobs=pd.DataFrame({})\n",
    "jobs['title']=job_titles\n",
    "jobs['company']=company_names\n",
    "jobs['experience_required']=experience_required\n",
    "jobs['location']=locations_list"
   ]
  },
  {
   "cell_type": "code",
   "execution_count": 571,
   "metadata": {},
   "outputs": [
    {
     "data": {
      "text/html": [
       "<div>\n",
       "<style scoped>\n",
       "    .dataframe tbody tr th:only-of-type {\n",
       "        vertical-align: middle;\n",
       "    }\n",
       "\n",
       "    .dataframe tbody tr th {\n",
       "        vertical-align: top;\n",
       "    }\n",
       "\n",
       "    .dataframe thead th {\n",
       "        text-align: right;\n",
       "    }\n",
       "</style>\n",
       "<table border=\"1\" class=\"dataframe\">\n",
       "  <thead>\n",
       "    <tr style=\"text-align: right;\">\n",
       "      <th></th>\n",
       "      <th>title</th>\n",
       "      <th>company</th>\n",
       "      <th>experience_required</th>\n",
       "      <th>location</th>\n",
       "    </tr>\n",
       "  </thead>\n",
       "  <tbody>\n",
       "    <tr>\n",
       "      <th>0</th>\n",
       "      <td>Data Scientist / Sr. Data Scientist</td>\n",
       "      <td>WEGARNER SOLUTIONS PRIVATE LIMITED</td>\n",
       "      <td>0-5 Yrs</td>\n",
       "      <td>Noida, Pune, Mumbai (All Areas)</td>\n",
       "    </tr>\n",
       "    <tr>\n",
       "      <th>1</th>\n",
       "      <td>Only Fresher / Data Scientist / Data Analyst /...</td>\n",
       "      <td>GABA Consultancy services</td>\n",
       "      <td>0-0 Yrs</td>\n",
       "      <td>Noida, Gurgaon/Gurugram, Delhi / NCR</td>\n",
       "    </tr>\n",
       "    <tr>\n",
       "      <th>2</th>\n",
       "      <td>Data Scientist</td>\n",
       "      <td>CBRE South Asia Pvt Ltd</td>\n",
       "      <td>2-4 Yrs</td>\n",
       "      <td>Gurgaon/Gurugram</td>\n",
       "    </tr>\n",
       "    <tr>\n",
       "      <th>3</th>\n",
       "      <td>Senior Data Scientist - Noida</td>\n",
       "      <td>Optum Global Solutions (India) Private Limited</td>\n",
       "      <td>2-6 Yrs</td>\n",
       "      <td>Noida</td>\n",
       "    </tr>\n",
       "    <tr>\n",
       "      <th>4</th>\n",
       "      <td>Data Scientist / Data Analyst</td>\n",
       "      <td>CARS24</td>\n",
       "      <td>1-5 Yrs</td>\n",
       "      <td>Gurgaon/Gurugram</td>\n",
       "    </tr>\n",
       "    <tr>\n",
       "      <th>5</th>\n",
       "      <td>Immediate Openings For DATA Scientist with 6 T...</td>\n",
       "      <td>Entune IT Consulting Private Limited</td>\n",
       "      <td>5-8 Yrs</td>\n",
       "      <td>Kolkata, Hyderabad/Secunderabad, Pune, Ahmedab...</td>\n",
       "    </tr>\n",
       "    <tr>\n",
       "      <th>6</th>\n",
       "      <td>Data Scientist</td>\n",
       "      <td>Decimal Technologies Pvt Ltd.</td>\n",
       "      <td>1-3 Yrs</td>\n",
       "      <td>Gurgaon/Gurugram</td>\n",
       "    </tr>\n",
       "    <tr>\n",
       "      <th>7</th>\n",
       "      <td>Senior Data Scientist</td>\n",
       "      <td>inVentiv International Pharma Services Pvt. Ltd.</td>\n",
       "      <td>3-6 Yrs</td>\n",
       "      <td>Hyderabad/Secunderabad, Gurgaon/Gurugram, Bang...</td>\n",
       "    </tr>\n",
       "    <tr>\n",
       "      <th>8</th>\n",
       "      <td>Data Scientist</td>\n",
       "      <td>R Systems International Ltd.</td>\n",
       "      <td>5-10 Yrs</td>\n",
       "      <td>Noida(Sector-59 Noida)</td>\n",
       "    </tr>\n",
       "    <tr>\n",
       "      <th>9</th>\n",
       "      <td>Data Scientist - Machine Learning/NLP</td>\n",
       "      <td>TalPro</td>\n",
       "      <td>2-6 Yrs</td>\n",
       "      <td>Gurgaon/Gurugram</td>\n",
       "    </tr>\n",
       "  </tbody>\n",
       "</table>\n",
       "</div>"
      ],
      "text/plain": [
       "                                               title  \\\n",
       "0                Data Scientist / Sr. Data Scientist   \n",
       "1  Only Fresher / Data Scientist / Data Analyst /...   \n",
       "2                                     Data Scientist   \n",
       "3                      Senior Data Scientist - Noida   \n",
       "4                      Data Scientist / Data Analyst   \n",
       "5  Immediate Openings For DATA Scientist with 6 T...   \n",
       "6                                     Data Scientist   \n",
       "7                              Senior Data Scientist   \n",
       "8                                     Data Scientist   \n",
       "9              Data Scientist - Machine Learning/NLP   \n",
       "\n",
       "                                            company experience_required  \\\n",
       "0                WEGARNER SOLUTIONS PRIVATE LIMITED             0-5 Yrs   \n",
       "1                         GABA Consultancy services             0-0 Yrs   \n",
       "2                           CBRE South Asia Pvt Ltd             2-4 Yrs   \n",
       "3    Optum Global Solutions (India) Private Limited             2-6 Yrs   \n",
       "4                                            CARS24             1-5 Yrs   \n",
       "5              Entune IT Consulting Private Limited             5-8 Yrs   \n",
       "6                     Decimal Technologies Pvt Ltd.             1-3 Yrs   \n",
       "7  inVentiv International Pharma Services Pvt. Ltd.             3-6 Yrs   \n",
       "8                      R Systems International Ltd.            5-10 Yrs   \n",
       "9                                            TalPro             2-6 Yrs   \n",
       "\n",
       "                                            location  \n",
       "0                    Noida, Pune, Mumbai (All Areas)  \n",
       "1               Noida, Gurgaon/Gurugram, Delhi / NCR  \n",
       "2                                   Gurgaon/Gurugram  \n",
       "3                                              Noida  \n",
       "4                                   Gurgaon/Gurugram  \n",
       "5  Kolkata, Hyderabad/Secunderabad, Pune, Ahmedab...  \n",
       "6                                   Gurgaon/Gurugram  \n",
       "7  Hyderabad/Secunderabad, Gurgaon/Gurugram, Bang...  \n",
       "8                             Noida(Sector-59 Noida)  \n",
       "9                                   Gurgaon/Gurugram  "
      ]
     },
     "execution_count": 571,
     "metadata": {},
     "output_type": "execute_result"
    }
   ],
   "source": [
    "jobs"
   ]
  },
  {
   "cell_type": "markdown",
   "metadata": {},
   "source": [
    "Create dataframe of the all information"
   ]
  },
  {
   "cell_type": "markdown",
   "metadata": {},
   "source": [
    "Q4: Write a python program to scrape data for first 10 job results for Data scientist \n",
    "Designation in Noida location. You have to scrape company_name, No. of days \n",
    "ago when job was posted, Rating of the company.\n"
   ]
  },
  {
   "cell_type": "code",
   "execution_count": 607,
   "metadata": {},
   "outputs": [],
   "source": [
    "driver = webdriver.Chrome(r\"C:\\Users\\Ankita\\Downloads\\chromedriver_win32\\chromedriver.exe\")"
   ]
  },
  {
   "cell_type": "markdown",
   "metadata": {},
   "source": [
    "path of chrome driver"
   ]
  },
  {
   "cell_type": "code",
   "execution_count": 608,
   "metadata": {},
   "outputs": [],
   "source": [
    "url = 'https://www.glassdoor.co.in/index.htm'\n",
    "driver.get(url)"
   ]
  },
  {
   "cell_type": "markdown",
   "metadata": {},
   "source": [
    "Enter glassdoor url"
   ]
  },
  {
   "cell_type": "code",
   "execution_count": 609,
   "metadata": {},
   "outputs": [
    {
     "data": {
      "text/plain": [
       "<selenium.webdriver.remote.webelement.WebElement (session=\"39c38441d78416453b1e6e216271228e\", element=\"e7b4224c-3982-4230-8235-670c32372447\")>"
      ]
     },
     "execution_count": 609,
     "metadata": {},
     "output_type": "execute_result"
    }
   ],
   "source": [
    "search_job = driver.find_element_by_id('sc.keyword')\n",
    "search_job"
   ]
  },
  {
   "cell_type": "code",
   "execution_count": 610,
   "metadata": {
    "scrolled": true
   },
   "outputs": [],
   "source": [
    "search_job.send_keys(\"Data Scientist\")"
   ]
  },
  {
   "cell_type": "markdown",
   "metadata": {},
   "source": [
    "Enter Data Scientist in search field"
   ]
  },
  {
   "cell_type": "code",
   "execution_count": 611,
   "metadata": {},
   "outputs": [
    {
     "data": {
      "text/plain": [
       "<selenium.webdriver.remote.webelement.WebElement (session=\"39c38441d78416453b1e6e216271228e\", element=\"627d3a90-3c70-4c72-8895-1cc904ab75f0\")>"
      ]
     },
     "execution_count": 611,
     "metadata": {},
     "output_type": "execute_result"
    }
   ],
   "source": [
    "\n",
    "search_job = driver.find_element_by_id('sc.location')\n",
    "search_job"
   ]
  },
  {
   "cell_type": "code",
   "execution_count": 612,
   "metadata": {},
   "outputs": [],
   "source": [
    "search_job.send_keys(\"Noida(India)\")"
   ]
  },
  {
   "cell_type": "markdown",
   "metadata": {},
   "source": [
    "Enter Noida(India) in job search field"
   ]
  },
  {
   "cell_type": "code",
   "execution_count": 613,
   "metadata": {},
   "outputs": [
    {
     "data": {
      "text/plain": [
       "<selenium.webdriver.remote.webelement.WebElement (session=\"39c38441d78416453b1e6e216271228e\", element=\"48c82641-4324-4c46-bd95-dc94bf47ea9e\")>"
      ]
     },
     "execution_count": 613,
     "metadata": {},
     "output_type": "execute_result"
    }
   ],
   "source": [
    "\n",
    "search_btn = driver.find_element_by_xpath(\"//button[@class='gd-ui-button ml-std col-auto search__SearchStyles__newSearchButton css-1dqvyh7']\")\n",
    "search_btn"
   ]
  },
  {
   "cell_type": "code",
   "execution_count": 614,
   "metadata": {},
   "outputs": [],
   "source": [
    "search_btn.click()"
   ]
  },
  {
   "cell_type": "markdown",
   "metadata": {},
   "source": [
    "Click on search button code"
   ]
  },
  {
   "cell_type": "code",
   "execution_count": 615,
   "metadata": {},
   "outputs": [
    {
     "data": {
      "text/plain": [
       "[<selenium.webdriver.remote.webelement.WebElement (session=\"39c38441d78416453b1e6e216271228e\", element=\"ca5938d9-eda0-4400-8af2-e11976166289\")>,\n",
       " <selenium.webdriver.remote.webelement.WebElement (session=\"39c38441d78416453b1e6e216271228e\", element=\"f2ecfd41-02e9-4213-a965-0d861cd477ce\")>,\n",
       " <selenium.webdriver.remote.webelement.WebElement (session=\"39c38441d78416453b1e6e216271228e\", element=\"8aa26d61-e833-48c1-96c7-c7d10ea93b9b\")>,\n",
       " <selenium.webdriver.remote.webelement.WebElement (session=\"39c38441d78416453b1e6e216271228e\", element=\"04d5acc8-27c0-40d3-a0c8-9726b7757e6a\")>,\n",
       " <selenium.webdriver.remote.webelement.WebElement (session=\"39c38441d78416453b1e6e216271228e\", element=\"7a2a408d-ce6d-4222-9e03-9a0730db0876\")>,\n",
       " <selenium.webdriver.remote.webelement.WebElement (session=\"39c38441d78416453b1e6e216271228e\", element=\"5e44125c-eebe-4394-bdd1-877ca72a29de\")>,\n",
       " <selenium.webdriver.remote.webelement.WebElement (session=\"39c38441d78416453b1e6e216271228e\", element=\"a01435b6-0aac-4059-96a6-289138729a2d\")>,\n",
       " <selenium.webdriver.remote.webelement.WebElement (session=\"39c38441d78416453b1e6e216271228e\", element=\"67c59487-ca39-4d69-8247-68383cfff0c0\")>,\n",
       " <selenium.webdriver.remote.webelement.WebElement (session=\"39c38441d78416453b1e6e216271228e\", element=\"1687ce80-92c4-4e0d-b73c-b4a888c4001e\")>,\n",
       " <selenium.webdriver.remote.webelement.WebElement (session=\"39c38441d78416453b1e6e216271228e\", element=\"84657c8f-50e6-4bf4-af2e-56b0744b2693\")>,\n",
       " <selenium.webdriver.remote.webelement.WebElement (session=\"39c38441d78416453b1e6e216271228e\", element=\"20d1882e-1eb8-49d4-bd2f-c324c955fac5\")>,\n",
       " <selenium.webdriver.remote.webelement.WebElement (session=\"39c38441d78416453b1e6e216271228e\", element=\"26f0a916-b4f2-4385-b135-b0059c6a9c8e\")>,\n",
       " <selenium.webdriver.remote.webelement.WebElement (session=\"39c38441d78416453b1e6e216271228e\", element=\"50efa2cb-0c4d-4640-bf81-69a32fd23ee0\")>,\n",
       " <selenium.webdriver.remote.webelement.WebElement (session=\"39c38441d78416453b1e6e216271228e\", element=\"caf9329d-05b8-4edc-a682-d46818f3f2c4\")>,\n",
       " <selenium.webdriver.remote.webelement.WebElement (session=\"39c38441d78416453b1e6e216271228e\", element=\"f4eda43d-fa5f-4ea5-8777-20ef5f795828\")>,\n",
       " <selenium.webdriver.remote.webelement.WebElement (session=\"39c38441d78416453b1e6e216271228e\", element=\"057e570d-b9e5-49d2-b39b-a6dc0b3684b3\")>,\n",
       " <selenium.webdriver.remote.webelement.WebElement (session=\"39c38441d78416453b1e6e216271228e\", element=\"73a2661f-5978-4738-826a-31d8bec14b4b\")>,\n",
       " <selenium.webdriver.remote.webelement.WebElement (session=\"39c38441d78416453b1e6e216271228e\", element=\"68b0b2d2-3362-4d4e-8bb7-138158426b05\")>,\n",
       " <selenium.webdriver.remote.webelement.WebElement (session=\"39c38441d78416453b1e6e216271228e\", element=\"2f19ac6c-afa8-423c-8fe1-a06eb47d2ce9\")>,\n",
       " <selenium.webdriver.remote.webelement.WebElement (session=\"39c38441d78416453b1e6e216271228e\", element=\"919b5ab9-2179-4362-abca-7ee4409774ca\")>,\n",
       " <selenium.webdriver.remote.webelement.WebElement (session=\"39c38441d78416453b1e6e216271228e\", element=\"2e45acbb-e736-41a9-bd1f-f5ade9a95b51\")>,\n",
       " <selenium.webdriver.remote.webelement.WebElement (session=\"39c38441d78416453b1e6e216271228e\", element=\"4a6787a0-fad7-45d5-b1e0-16a42e3248fe\")>,\n",
       " <selenium.webdriver.remote.webelement.WebElement (session=\"39c38441d78416453b1e6e216271228e\", element=\"a726fc29-186e-4c39-8b61-a3056b609222\")>,\n",
       " <selenium.webdriver.remote.webelement.WebElement (session=\"39c38441d78416453b1e6e216271228e\", element=\"eccbe183-2f39-4cee-b4b0-d332eec8ab7e\")>,\n",
       " <selenium.webdriver.remote.webelement.WebElement (session=\"39c38441d78416453b1e6e216271228e\", element=\"2d0a2947-e582-4c29-9b56-652a111c1f78\")>,\n",
       " <selenium.webdriver.remote.webelement.WebElement (session=\"39c38441d78416453b1e6e216271228e\", element=\"5470dd81-652b-433a-b1b2-af5af024bcf2\")>,\n",
       " <selenium.webdriver.remote.webelement.WebElement (session=\"39c38441d78416453b1e6e216271228e\", element=\"d14563c9-bf88-41e2-a6fc-35badb558f75\")>,\n",
       " <selenium.webdriver.remote.webelement.WebElement (session=\"39c38441d78416453b1e6e216271228e\", element=\"16a1de8f-f02e-4eb6-bd70-16252230963d\")>,\n",
       " <selenium.webdriver.remote.webelement.WebElement (session=\"39c38441d78416453b1e6e216271228e\", element=\"016bd7e4-29ca-41d7-b95b-54a45383691b\")>,\n",
       " <selenium.webdriver.remote.webelement.WebElement (session=\"39c38441d78416453b1e6e216271228e\", element=\"42abbfca-cacb-41e1-aeb7-b49cff7d845a\")>]"
      ]
     },
     "execution_count": 615,
     "metadata": {},
     "output_type": "execute_result"
    }
   ],
   "source": [
    "titles_tags=driver.find_elements_by_xpath(\"//a[@class='jobLink css-1rd3saf eigr9kq2']\")\n",
    "titles_tags"
   ]
  },
  {
   "cell_type": "code",
   "execution_count": 616,
   "metadata": {},
   "outputs": [
    {
     "data": {
      "text/plain": [
       "['Associate Data Scientist',\n",
       " 'Data Scientist Intern',\n",
       " 'Data Scientist',\n",
       " 'Data Scientist Intern',\n",
       " 'Data Scientist',\n",
       " 'Data Scientist',\n",
       " 'Data Scientist',\n",
       " 'Data Scientist',\n",
       " 'Data Science Intern',\n",
       " 'Data Scientist']"
      ]
     },
     "execution_count": 616,
     "metadata": {},
     "output_type": "execute_result"
    }
   ],
   "source": [
    "job_titles=[]\n",
    "for i in titles_tags[0:10]:\n",
    "    job_titles.append(i.text)\n",
    "job_titles"
   ]
  },
  {
   "cell_type": "markdown",
   "metadata": {},
   "source": [
    "Scrape job titles "
   ]
  },
  {
   "cell_type": "code",
   "execution_count": 617,
   "metadata": {},
   "outputs": [
    {
     "data": {
      "text/plain": [
       "[<selenium.webdriver.remote.webelement.WebElement (session=\"39c38441d78416453b1e6e216271228e\", element=\"8bc581b6-4bfd-40be-9640-8758bcde8644\")>,\n",
       " <selenium.webdriver.remote.webelement.WebElement (session=\"39c38441d78416453b1e6e216271228e\", element=\"d5ca49b2-5ddd-4cf6-bd90-c2f900b6aa56\")>,\n",
       " <selenium.webdriver.remote.webelement.WebElement (session=\"39c38441d78416453b1e6e216271228e\", element=\"29a801b9-0762-4b3f-8c9f-9d0f3d67bfd9\")>,\n",
       " <selenium.webdriver.remote.webelement.WebElement (session=\"39c38441d78416453b1e6e216271228e\", element=\"d6cb9e81-fbdc-44c4-86e1-6126d22d5254\")>,\n",
       " <selenium.webdriver.remote.webelement.WebElement (session=\"39c38441d78416453b1e6e216271228e\", element=\"c7f84a53-d403-44a0-bcb8-1fb2563e516b\")>,\n",
       " <selenium.webdriver.remote.webelement.WebElement (session=\"39c38441d78416453b1e6e216271228e\", element=\"24740fe2-5ed2-4aa6-94de-7cbe6180ab75\")>,\n",
       " <selenium.webdriver.remote.webelement.WebElement (session=\"39c38441d78416453b1e6e216271228e\", element=\"75a579ac-ef79-4f2b-859f-4e7480de879a\")>,\n",
       " <selenium.webdriver.remote.webelement.WebElement (session=\"39c38441d78416453b1e6e216271228e\", element=\"e31ea79a-f8ee-44f6-9582-096cc28f09d4\")>,\n",
       " <selenium.webdriver.remote.webelement.WebElement (session=\"39c38441d78416453b1e6e216271228e\", element=\"73f25d19-50aa-4427-9a27-d3bbdccf2ece\")>,\n",
       " <selenium.webdriver.remote.webelement.WebElement (session=\"39c38441d78416453b1e6e216271228e\", element=\"a36d06fe-89d2-4da5-bd01-59e70895aa5d\")>,\n",
       " <selenium.webdriver.remote.webelement.WebElement (session=\"39c38441d78416453b1e6e216271228e\", element=\"8b66dd4d-8e68-43fe-8d34-2c189e01547b\")>,\n",
       " <selenium.webdriver.remote.webelement.WebElement (session=\"39c38441d78416453b1e6e216271228e\", element=\"7fe9beb0-10eb-4615-a4f1-00742a48f695\")>,\n",
       " <selenium.webdriver.remote.webelement.WebElement (session=\"39c38441d78416453b1e6e216271228e\", element=\"0fb4ff55-06ee-460b-adb0-f6cd0fe1dec4\")>,\n",
       " <selenium.webdriver.remote.webelement.WebElement (session=\"39c38441d78416453b1e6e216271228e\", element=\"2c3804fd-e258-495a-a6fe-71c36249ce7b\")>,\n",
       " <selenium.webdriver.remote.webelement.WebElement (session=\"39c38441d78416453b1e6e216271228e\", element=\"73fe68cf-e28a-47c8-8933-35b2f9910669\")>,\n",
       " <selenium.webdriver.remote.webelement.WebElement (session=\"39c38441d78416453b1e6e216271228e\", element=\"e8b2646c-d006-4d25-aa96-4903139a10dc\")>,\n",
       " <selenium.webdriver.remote.webelement.WebElement (session=\"39c38441d78416453b1e6e216271228e\", element=\"dc31f53d-61c8-4477-b878-c595787b1144\")>,\n",
       " <selenium.webdriver.remote.webelement.WebElement (session=\"39c38441d78416453b1e6e216271228e\", element=\"aa864559-6651-43de-a16f-d3f04dc7d47e\")>,\n",
       " <selenium.webdriver.remote.webelement.WebElement (session=\"39c38441d78416453b1e6e216271228e\", element=\"46cd1aeb-4f6a-47aa-b02b-beac8036fca9\")>,\n",
       " <selenium.webdriver.remote.webelement.WebElement (session=\"39c38441d78416453b1e6e216271228e\", element=\"202925f1-ff1c-4a78-8a40-8b4d0ce37f1e\")>,\n",
       " <selenium.webdriver.remote.webelement.WebElement (session=\"39c38441d78416453b1e6e216271228e\", element=\"2fe84b69-3aa1-4bbb-8105-3c7cd792938b\")>,\n",
       " <selenium.webdriver.remote.webelement.WebElement (session=\"39c38441d78416453b1e6e216271228e\", element=\"a0cfba32-4aaa-485e-9a62-0172bb77509a\")>,\n",
       " <selenium.webdriver.remote.webelement.WebElement (session=\"39c38441d78416453b1e6e216271228e\", element=\"0cbfa45b-93a2-4d29-b210-319f4b675c22\")>,\n",
       " <selenium.webdriver.remote.webelement.WebElement (session=\"39c38441d78416453b1e6e216271228e\", element=\"cd4dc313-7b90-4253-bcf4-393e63f14589\")>,\n",
       " <selenium.webdriver.remote.webelement.WebElement (session=\"39c38441d78416453b1e6e216271228e\", element=\"a040b709-ed09-408c-a7f5-b68644efa0dc\")>,\n",
       " <selenium.webdriver.remote.webelement.WebElement (session=\"39c38441d78416453b1e6e216271228e\", element=\"c5b70650-3782-4dc4-9a01-9f9bc9852e88\")>,\n",
       " <selenium.webdriver.remote.webelement.WebElement (session=\"39c38441d78416453b1e6e216271228e\", element=\"676002c2-cfc8-49a4-aa19-f0138a17fe7d\")>,\n",
       " <selenium.webdriver.remote.webelement.WebElement (session=\"39c38441d78416453b1e6e216271228e\", element=\"6c2c9860-e718-41ea-ab45-6a8e068f877a\")>,\n",
       " <selenium.webdriver.remote.webelement.WebElement (session=\"39c38441d78416453b1e6e216271228e\", element=\"47e2e580-1e39-4b32-9161-6912b336d079\")>,\n",
       " <selenium.webdriver.remote.webelement.WebElement (session=\"39c38441d78416453b1e6e216271228e\", element=\"4cada29b-9612-4f85-8271-4b3e52c58ac5\")>]"
      ]
     },
     "execution_count": 617,
     "metadata": {},
     "output_type": "execute_result"
    }
   ],
   "source": [
    "companies_tags=driver.find_elements_by_xpath(\"//div[@class='d-flex justify-content-between align-items-start']\")\n",
    "companies_tags\n"
   ]
  },
  {
   "cell_type": "code",
   "execution_count": 618,
   "metadata": {},
   "outputs": [
    {
     "data": {
      "text/plain": [
       "['Liberin Technologies Private Limited',\n",
       " 'Pixel Vision',\n",
       " 'Biz2Credit Inc',\n",
       " 'Salasar New Age Technologies',\n",
       " 'Newgen Software',\n",
       " 'Crowe',\n",
       " 'Salasar New Age Technologies',\n",
       " 'Techlive',\n",
       " 'Data Trained Education',\n",
       " 'NEC Opportunities']"
      ]
     },
     "execution_count": 618,
     "metadata": {},
     "output_type": "execute_result"
    }
   ],
   "source": [
    "company_names=[]\n",
    "for i in companies_tags[0:10]:\n",
    "    company_names.append(i.text)\n",
    "company_names"
   ]
  },
  {
   "cell_type": "raw",
   "metadata": {},
   "source": [
    "Scrape company name"
   ]
  },
  {
   "cell_type": "code",
   "execution_count": 619,
   "metadata": {},
   "outputs": [
    {
     "data": {
      "text/plain": [
       "[<selenium.webdriver.remote.webelement.WebElement (session=\"39c38441d78416453b1e6e216271228e\", element=\"77d83014-b619-49e8-83f4-bf476272e2cd\")>,\n",
       " <selenium.webdriver.remote.webelement.WebElement (session=\"39c38441d78416453b1e6e216271228e\", element=\"bf41e265-b0a4-4696-98e4-b624957edd9c\")>,\n",
       " <selenium.webdriver.remote.webelement.WebElement (session=\"39c38441d78416453b1e6e216271228e\", element=\"c8afc802-b2c7-478a-8bd4-172e72b896f3\")>,\n",
       " <selenium.webdriver.remote.webelement.WebElement (session=\"39c38441d78416453b1e6e216271228e\", element=\"40f30762-ee93-4507-9431-23870abd342c\")>,\n",
       " <selenium.webdriver.remote.webelement.WebElement (session=\"39c38441d78416453b1e6e216271228e\", element=\"e41582f2-a556-44af-99a7-0eea04a34933\")>,\n",
       " <selenium.webdriver.remote.webelement.WebElement (session=\"39c38441d78416453b1e6e216271228e\", element=\"27ade835-d86b-49b8-a871-409e63fecfb4\")>,\n",
       " <selenium.webdriver.remote.webelement.WebElement (session=\"39c38441d78416453b1e6e216271228e\", element=\"f46b8893-fbd0-44ce-a203-b3526d463abc\")>,\n",
       " <selenium.webdriver.remote.webelement.WebElement (session=\"39c38441d78416453b1e6e216271228e\", element=\"82aae7d1-a56d-40cc-8bde-b8adeacea1f2\")>,\n",
       " <selenium.webdriver.remote.webelement.WebElement (session=\"39c38441d78416453b1e6e216271228e\", element=\"bae12862-9d60-4832-b27e-5b22eec71784\")>,\n",
       " <selenium.webdriver.remote.webelement.WebElement (session=\"39c38441d78416453b1e6e216271228e\", element=\"66150f97-0185-424c-beaf-e8b164e2f1f7\")>,\n",
       " <selenium.webdriver.remote.webelement.WebElement (session=\"39c38441d78416453b1e6e216271228e\", element=\"b01be4f1-6218-4165-a94b-ab563f89b1ac\")>,\n",
       " <selenium.webdriver.remote.webelement.WebElement (session=\"39c38441d78416453b1e6e216271228e\", element=\"832c79c9-1f2f-40de-80f1-fa6e77407d23\")>,\n",
       " <selenium.webdriver.remote.webelement.WebElement (session=\"39c38441d78416453b1e6e216271228e\", element=\"6c8d3545-ba92-488d-bb2d-a8dcb41dc77a\")>,\n",
       " <selenium.webdriver.remote.webelement.WebElement (session=\"39c38441d78416453b1e6e216271228e\", element=\"2c554c30-a5a6-4b71-8a87-4775414f458b\")>,\n",
       " <selenium.webdriver.remote.webelement.WebElement (session=\"39c38441d78416453b1e6e216271228e\", element=\"b93da0fa-a061-468b-808f-d73f5508b770\")>,\n",
       " <selenium.webdriver.remote.webelement.WebElement (session=\"39c38441d78416453b1e6e216271228e\", element=\"4150db0c-8ca2-45ee-894e-4f639a62a867\")>,\n",
       " <selenium.webdriver.remote.webelement.WebElement (session=\"39c38441d78416453b1e6e216271228e\", element=\"ffcaa129-d11b-45d0-ab52-7e0e2e7e951a\")>,\n",
       " <selenium.webdriver.remote.webelement.WebElement (session=\"39c38441d78416453b1e6e216271228e\", element=\"b7140512-7289-4cd0-9941-ef74b5070ab8\")>,\n",
       " <selenium.webdriver.remote.webelement.WebElement (session=\"39c38441d78416453b1e6e216271228e\", element=\"1fe40c32-af71-4bd4-809c-91bb2ac71476\")>,\n",
       " <selenium.webdriver.remote.webelement.WebElement (session=\"39c38441d78416453b1e6e216271228e\", element=\"bbf4d2db-c998-44b7-940a-bca0a1fd47e4\")>,\n",
       " <selenium.webdriver.remote.webelement.WebElement (session=\"39c38441d78416453b1e6e216271228e\", element=\"521177f7-7d2a-43fc-97f5-08b2b66b29a1\")>,\n",
       " <selenium.webdriver.remote.webelement.WebElement (session=\"39c38441d78416453b1e6e216271228e\", element=\"8dac51da-ffad-42f1-8ca0-114f68d3299f\")>,\n",
       " <selenium.webdriver.remote.webelement.WebElement (session=\"39c38441d78416453b1e6e216271228e\", element=\"f974ea08-46ae-4f76-bade-ab2239dc5266\")>,\n",
       " <selenium.webdriver.remote.webelement.WebElement (session=\"39c38441d78416453b1e6e216271228e\", element=\"4f0e1e93-31b5-472d-a4cc-175e49d88073\")>,\n",
       " <selenium.webdriver.remote.webelement.WebElement (session=\"39c38441d78416453b1e6e216271228e\", element=\"b14934e1-76b0-4486-b78e-64de4294acf7\")>,\n",
       " <selenium.webdriver.remote.webelement.WebElement (session=\"39c38441d78416453b1e6e216271228e\", element=\"9952521c-8f8b-4c27-82e4-80036cb629fd\")>,\n",
       " <selenium.webdriver.remote.webelement.WebElement (session=\"39c38441d78416453b1e6e216271228e\", element=\"2ee0b1f5-2f69-4c14-be7c-53a111360c52\")>,\n",
       " <selenium.webdriver.remote.webelement.WebElement (session=\"39c38441d78416453b1e6e216271228e\", element=\"f7a73aa2-e225-4970-98ad-d515fdbc8efa\")>,\n",
       " <selenium.webdriver.remote.webelement.WebElement (session=\"39c38441d78416453b1e6e216271228e\", element=\"761b1032-a12e-43d8-8d3b-0c37d895ab86\")>,\n",
       " <selenium.webdriver.remote.webelement.WebElement (session=\"39c38441d78416453b1e6e216271228e\", element=\"03aa4cd9-b1da-48ba-b122-a0e07ff11b46\")>]"
      ]
     },
     "execution_count": 619,
     "metadata": {},
     "output_type": "execute_result"
    }
   ],
   "source": [
    "locations_tags=driver.find_elements_by_xpath(\"//div[@class='d-flex flex-wrap css-11d3uq0 e1rrn5ka2']//span[1]\")\n",
    "locations_tags"
   ]
  },
  {
   "cell_type": "code",
   "execution_count": 620,
   "metadata": {},
   "outputs": [
    {
     "data": {
      "text/plain": [
       "['Noida',\n",
       " 'Noida',\n",
       " 'Noida',\n",
       " 'Noida',\n",
       " 'Noida',\n",
       " 'Noida',\n",
       " 'Noida',\n",
       " 'Noida',\n",
       " 'Noida',\n",
       " 'New Delhi']"
      ]
     },
     "execution_count": 620,
     "metadata": {},
     "output_type": "execute_result"
    }
   ],
   "source": [
    "locations_list=[]\n",
    "for i in locations_tags[0:10]:\n",
    "    locations_list.append(i.text)\n",
    "locations_list"
   ]
  },
  {
   "cell_type": "markdown",
   "metadata": {},
   "source": [
    "Scrape laction information"
   ]
  },
  {
   "cell_type": "code",
   "execution_count": 621,
   "metadata": {},
   "outputs": [
    {
     "data": {
      "text/plain": [
       "[<selenium.webdriver.remote.webelement.WebElement (session=\"39c38441d78416453b1e6e216271228e\", element=\"d9515253-5021-4cfc-b9ac-29c77f9a0f9e\")>,\n",
       " <selenium.webdriver.remote.webelement.WebElement (session=\"39c38441d78416453b1e6e216271228e\", element=\"eccb1365-ba96-4d50-ade1-a532f411b3c0\")>,\n",
       " <selenium.webdriver.remote.webelement.WebElement (session=\"39c38441d78416453b1e6e216271228e\", element=\"2186bfb6-def3-49cd-bc6b-c9d916200c68\")>,\n",
       " <selenium.webdriver.remote.webelement.WebElement (session=\"39c38441d78416453b1e6e216271228e\", element=\"8daf48bc-f1ff-42b8-991d-c8fe83f17634\")>,\n",
       " <selenium.webdriver.remote.webelement.WebElement (session=\"39c38441d78416453b1e6e216271228e\", element=\"ddfc70ec-eca6-4fd6-a92b-778b8c7e8482\")>,\n",
       " <selenium.webdriver.remote.webelement.WebElement (session=\"39c38441d78416453b1e6e216271228e\", element=\"d142613f-b5f6-42dd-b717-76696dd1b9ab\")>,\n",
       " <selenium.webdriver.remote.webelement.WebElement (session=\"39c38441d78416453b1e6e216271228e\", element=\"c9c730fc-a0ff-44fb-9d03-d1892f5dcb7f\")>,\n",
       " <selenium.webdriver.remote.webelement.WebElement (session=\"39c38441d78416453b1e6e216271228e\", element=\"97dc4508-3cf0-4269-8cec-d8db6cec0ad7\")>,\n",
       " <selenium.webdriver.remote.webelement.WebElement (session=\"39c38441d78416453b1e6e216271228e\", element=\"36c801a6-536d-47ca-bbef-da2f86999a7f\")>,\n",
       " <selenium.webdriver.remote.webelement.WebElement (session=\"39c38441d78416453b1e6e216271228e\", element=\"4066fb3e-91b8-44cc-a173-df00618768ad\")>,\n",
       " <selenium.webdriver.remote.webelement.WebElement (session=\"39c38441d78416453b1e6e216271228e\", element=\"62663e87-2aa0-4fc6-86c7-b59bbbfc6464\")>,\n",
       " <selenium.webdriver.remote.webelement.WebElement (session=\"39c38441d78416453b1e6e216271228e\", element=\"7de0c9a6-d349-4f03-9f36-12bb5af3e6f2\")>,\n",
       " <selenium.webdriver.remote.webelement.WebElement (session=\"39c38441d78416453b1e6e216271228e\", element=\"ad67c4a0-138d-4546-bf1a-2ef1421a4c93\")>,\n",
       " <selenium.webdriver.remote.webelement.WebElement (session=\"39c38441d78416453b1e6e216271228e\", element=\"6c7110dd-d73b-4aa6-a056-bb1b728e34f7\")>,\n",
       " <selenium.webdriver.remote.webelement.WebElement (session=\"39c38441d78416453b1e6e216271228e\", element=\"c0f5d0c5-bd1b-44ac-926a-6a9825705e85\")>,\n",
       " <selenium.webdriver.remote.webelement.WebElement (session=\"39c38441d78416453b1e6e216271228e\", element=\"5532f232-3617-4b84-87fe-8bf12258ff17\")>,\n",
       " <selenium.webdriver.remote.webelement.WebElement (session=\"39c38441d78416453b1e6e216271228e\", element=\"bfd7ba38-59de-4f8e-af8e-208957d84133\")>,\n",
       " <selenium.webdriver.remote.webelement.WebElement (session=\"39c38441d78416453b1e6e216271228e\", element=\"80b04f77-1a6a-4b4c-aa45-a70b136ae894\")>,\n",
       " <selenium.webdriver.remote.webelement.WebElement (session=\"39c38441d78416453b1e6e216271228e\", element=\"c1aaa32d-41db-4eb3-b3c0-3df9a4e66818\")>,\n",
       " <selenium.webdriver.remote.webelement.WebElement (session=\"39c38441d78416453b1e6e216271228e\", element=\"00b95e8a-2497-48ab-be58-fc9e94f03b5e\")>,\n",
       " <selenium.webdriver.remote.webelement.WebElement (session=\"39c38441d78416453b1e6e216271228e\", element=\"853978b7-10f0-4cbd-847d-8ada7b342f64\")>,\n",
       " <selenium.webdriver.remote.webelement.WebElement (session=\"39c38441d78416453b1e6e216271228e\", element=\"e81b0c52-c329-44f3-8fd5-903e0333a747\")>,\n",
       " <selenium.webdriver.remote.webelement.WebElement (session=\"39c38441d78416453b1e6e216271228e\", element=\"6a8ad9e3-74f0-4555-a020-b0268c9070a0\")>,\n",
       " <selenium.webdriver.remote.webelement.WebElement (session=\"39c38441d78416453b1e6e216271228e\", element=\"473de924-229a-456c-8577-e004b3a426fc\")>,\n",
       " <selenium.webdriver.remote.webelement.WebElement (session=\"39c38441d78416453b1e6e216271228e\", element=\"a32beddc-dab2-474c-a39a-45c7839d735d\")>,\n",
       " <selenium.webdriver.remote.webelement.WebElement (session=\"39c38441d78416453b1e6e216271228e\", element=\"9ab2040e-76b0-4506-9485-2a264e3059a7\")>,\n",
       " <selenium.webdriver.remote.webelement.WebElement (session=\"39c38441d78416453b1e6e216271228e\", element=\"4d3d6f5b-44b6-4589-bd70-c82842d9fe27\")>,\n",
       " <selenium.webdriver.remote.webelement.WebElement (session=\"39c38441d78416453b1e6e216271228e\", element=\"2247477d-2120-4d0d-bce5-1714ac74ddd9\")>,\n",
       " <selenium.webdriver.remote.webelement.WebElement (session=\"39c38441d78416453b1e6e216271228e\", element=\"7b466bcb-689e-4d1b-b067-52feee63bf58\")>,\n",
       " <selenium.webdriver.remote.webelement.WebElement (session=\"39c38441d78416453b1e6e216271228e\", element=\"c41f955d-f8c2-4ce2-aac8-d67393848f69\")>]"
      ]
     },
     "execution_count": 621,
     "metadata": {},
     "output_type": "execute_result"
    }
   ],
   "source": [
    "ago_tags=driver.find_elements_by_xpath(\"//div[@class='d-flex align-items-end pl-std css-mi55ob']\")\n",
    "ago_tags"
   ]
  },
  {
   "cell_type": "code",
   "execution_count": 622,
   "metadata": {},
   "outputs": [
    {
     "data": {
      "text/plain": [
       "['10d', '21d', '30d+', '30d+', '21d', '30d+', '30d+', '30d+', '24h', '2d']"
      ]
     },
     "execution_count": 622,
     "metadata": {},
     "output_type": "execute_result"
    }
   ],
   "source": [
    "ago_list=[]\n",
    "for i in ago_tags[0:10]:\n",
    "    ago_list.append(i.text)\n",
    "ago_list"
   ]
  },
  {
   "cell_type": "markdown",
   "metadata": {},
   "source": [
    "Scrape how many days ago job was post information"
   ]
  },
  {
   "cell_type": "code",
   "execution_count": 623,
   "metadata": {},
   "outputs": [
    {
     "data": {
      "text/plain": [
       "[<selenium.webdriver.remote.webelement.WebElement (session=\"39c38441d78416453b1e6e216271228e\", element=\"7433371d-9d40-4ae5-bd8b-d4d82713fc32\")>,\n",
       " <selenium.webdriver.remote.webelement.WebElement (session=\"39c38441d78416453b1e6e216271228e\", element=\"3e1e89ad-0eba-4f3c-8534-961d91dc567b\")>,\n",
       " <selenium.webdriver.remote.webelement.WebElement (session=\"39c38441d78416453b1e6e216271228e\", element=\"70cc1d35-b90d-4d01-84e1-bc40c9dff60b\")>,\n",
       " <selenium.webdriver.remote.webelement.WebElement (session=\"39c38441d78416453b1e6e216271228e\", element=\"9b8e84c8-1d6a-4981-b20f-a1c7a9228158\")>,\n",
       " <selenium.webdriver.remote.webelement.WebElement (session=\"39c38441d78416453b1e6e216271228e\", element=\"44631a75-9b4f-475d-b2aa-b571a762b653\")>,\n",
       " <selenium.webdriver.remote.webelement.WebElement (session=\"39c38441d78416453b1e6e216271228e\", element=\"832532a8-dac1-4b14-924d-02b92541ea71\")>,\n",
       " <selenium.webdriver.remote.webelement.WebElement (session=\"39c38441d78416453b1e6e216271228e\", element=\"0c867315-5b7b-462c-985d-c0a6adeb4683\")>,\n",
       " <selenium.webdriver.remote.webelement.WebElement (session=\"39c38441d78416453b1e6e216271228e\", element=\"bb9db770-ee5f-4426-8927-021af1b71d16\")>,\n",
       " <selenium.webdriver.remote.webelement.WebElement (session=\"39c38441d78416453b1e6e216271228e\", element=\"dc015ab3-124a-4ead-a7cc-0f8f612783df\")>,\n",
       " <selenium.webdriver.remote.webelement.WebElement (session=\"39c38441d78416453b1e6e216271228e\", element=\"2fc33eb0-69a6-45d2-ab9f-97e741e2a775\")>,\n",
       " <selenium.webdriver.remote.webelement.WebElement (session=\"39c38441d78416453b1e6e216271228e\", element=\"bfacb2a3-be78-468f-91d7-5699a16e84e3\")>,\n",
       " <selenium.webdriver.remote.webelement.WebElement (session=\"39c38441d78416453b1e6e216271228e\", element=\"3bdbc499-450e-439a-845d-6517733367c4\")>,\n",
       " <selenium.webdriver.remote.webelement.WebElement (session=\"39c38441d78416453b1e6e216271228e\", element=\"b964a69b-41dd-48dd-9cf9-b3874f483979\")>,\n",
       " <selenium.webdriver.remote.webelement.WebElement (session=\"39c38441d78416453b1e6e216271228e\", element=\"dcd7cb99-6bf3-4470-961f-9bb204ec789c\")>,\n",
       " <selenium.webdriver.remote.webelement.WebElement (session=\"39c38441d78416453b1e6e216271228e\", element=\"63f93ba6-9148-41af-a3e8-a83a3fb30b7e\")>,\n",
       " <selenium.webdriver.remote.webelement.WebElement (session=\"39c38441d78416453b1e6e216271228e\", element=\"60d96b9c-3d10-45fe-b33e-cd9c043e4fa0\")>,\n",
       " <selenium.webdriver.remote.webelement.WebElement (session=\"39c38441d78416453b1e6e216271228e\", element=\"faba9872-dfe2-4bea-8c58-e13178017877\")>,\n",
       " <selenium.webdriver.remote.webelement.WebElement (session=\"39c38441d78416453b1e6e216271228e\", element=\"29d00435-e986-4a6f-a6ef-0de5ca467d3e\")>,\n",
       " <selenium.webdriver.remote.webelement.WebElement (session=\"39c38441d78416453b1e6e216271228e\", element=\"0a2ee50a-aa5f-4807-8e6a-c6ee0ec57005\")>]"
      ]
     },
     "execution_count": 623,
     "metadata": {},
     "output_type": "execute_result"
    }
   ],
   "source": [
    "rating_tags=driver.find_elements_by_xpath(\"//span[@class='css-19pjha7 e1cjmv6j1']\")\n",
    "rating_tags"
   ]
  },
  {
   "cell_type": "code",
   "execution_count": 624,
   "metadata": {},
   "outputs": [
    {
     "data": {
      "text/plain": [
       "['4.1', '', '', '', '', '', '', '', '', '']"
      ]
     },
     "execution_count": 624,
     "metadata": {},
     "output_type": "execute_result"
    }
   ],
   "source": [
    "rating_list=[]\n",
    "for i in rating_tags[0:10]:\n",
    "    rating_list.append(i.text)\n",
    "rating_list"
   ]
  },
  {
   "cell_type": "markdown",
   "metadata": {},
   "source": [
    "Rating information"
   ]
  },
  {
   "cell_type": "code",
   "execution_count": 625,
   "metadata": {},
   "outputs": [
    {
     "name": "stdout",
     "output_type": "stream",
     "text": [
      "10 10 10 10 10\n"
     ]
    }
   ],
   "source": [
    "print(len(job_titles),len(company_names),len(locations_list),len(rating_list),len(ago_list))"
   ]
  },
  {
   "cell_type": "code",
   "execution_count": 627,
   "metadata": {},
   "outputs": [],
   "source": [
    "#import pandas as pd\n",
    "jobs=pd.DataFrame({})\n",
    "jobs['title']=job_titles\n",
    "jobs['company']=company_names\n",
    "jobs['rating_list']=rating_list\n",
    "jobs['location']=locations_list\n",
    "jobs['ago_list']=ago_list"
   ]
  },
  {
   "cell_type": "code",
   "execution_count": 628,
   "metadata": {
    "scrolled": false
   },
   "outputs": [
    {
     "data": {
      "text/html": [
       "<div>\n",
       "<style scoped>\n",
       "    .dataframe tbody tr th:only-of-type {\n",
       "        vertical-align: middle;\n",
       "    }\n",
       "\n",
       "    .dataframe tbody tr th {\n",
       "        vertical-align: top;\n",
       "    }\n",
       "\n",
       "    .dataframe thead th {\n",
       "        text-align: right;\n",
       "    }\n",
       "</style>\n",
       "<table border=\"1\" class=\"dataframe\">\n",
       "  <thead>\n",
       "    <tr style=\"text-align: right;\">\n",
       "      <th></th>\n",
       "      <th>title</th>\n",
       "      <th>company</th>\n",
       "      <th>rating_list</th>\n",
       "      <th>location</th>\n",
       "      <th>ago_list</th>\n",
       "    </tr>\n",
       "  </thead>\n",
       "  <tbody>\n",
       "    <tr>\n",
       "      <th>0</th>\n",
       "      <td>Associate Data Scientist</td>\n",
       "      <td>Liberin Technologies Private Limited</td>\n",
       "      <td>4.1</td>\n",
       "      <td>Noida</td>\n",
       "      <td>10d</td>\n",
       "    </tr>\n",
       "    <tr>\n",
       "      <th>1</th>\n",
       "      <td>Data Scientist Intern</td>\n",
       "      <td>Pixel Vision</td>\n",
       "      <td></td>\n",
       "      <td>Noida</td>\n",
       "      <td>21d</td>\n",
       "    </tr>\n",
       "    <tr>\n",
       "      <th>2</th>\n",
       "      <td>Data Scientist</td>\n",
       "      <td>Biz2Credit Inc</td>\n",
       "      <td></td>\n",
       "      <td>Noida</td>\n",
       "      <td>30d+</td>\n",
       "    </tr>\n",
       "    <tr>\n",
       "      <th>3</th>\n",
       "      <td>Data Scientist Intern</td>\n",
       "      <td>Salasar New Age Technologies</td>\n",
       "      <td></td>\n",
       "      <td>Noida</td>\n",
       "      <td>30d+</td>\n",
       "    </tr>\n",
       "    <tr>\n",
       "      <th>4</th>\n",
       "      <td>Data Scientist</td>\n",
       "      <td>Newgen Software</td>\n",
       "      <td></td>\n",
       "      <td>Noida</td>\n",
       "      <td>21d</td>\n",
       "    </tr>\n",
       "    <tr>\n",
       "      <th>5</th>\n",
       "      <td>Data Scientist</td>\n",
       "      <td>Crowe</td>\n",
       "      <td></td>\n",
       "      <td>Noida</td>\n",
       "      <td>30d+</td>\n",
       "    </tr>\n",
       "    <tr>\n",
       "      <th>6</th>\n",
       "      <td>Data Scientist</td>\n",
       "      <td>Salasar New Age Technologies</td>\n",
       "      <td></td>\n",
       "      <td>Noida</td>\n",
       "      <td>30d+</td>\n",
       "    </tr>\n",
       "    <tr>\n",
       "      <th>7</th>\n",
       "      <td>Data Scientist</td>\n",
       "      <td>Techlive</td>\n",
       "      <td></td>\n",
       "      <td>Noida</td>\n",
       "      <td>30d+</td>\n",
       "    </tr>\n",
       "    <tr>\n",
       "      <th>8</th>\n",
       "      <td>Data Science Intern</td>\n",
       "      <td>Data Trained Education</td>\n",
       "      <td></td>\n",
       "      <td>Noida</td>\n",
       "      <td>24h</td>\n",
       "    </tr>\n",
       "    <tr>\n",
       "      <th>9</th>\n",
       "      <td>Data Scientist</td>\n",
       "      <td>NEC Opportunities</td>\n",
       "      <td></td>\n",
       "      <td>New Delhi</td>\n",
       "      <td>2d</td>\n",
       "    </tr>\n",
       "  </tbody>\n",
       "</table>\n",
       "</div>"
      ],
      "text/plain": [
       "                      title                               company rating_list  \\\n",
       "0  Associate Data Scientist  Liberin Technologies Private Limited         4.1   \n",
       "1     Data Scientist Intern                          Pixel Vision               \n",
       "2            Data Scientist                        Biz2Credit Inc               \n",
       "3     Data Scientist Intern          Salasar New Age Technologies               \n",
       "4            Data Scientist                       Newgen Software               \n",
       "5            Data Scientist                                 Crowe               \n",
       "6            Data Scientist          Salasar New Age Technologies               \n",
       "7            Data Scientist                              Techlive               \n",
       "8       Data Science Intern                Data Trained Education               \n",
       "9            Data Scientist                     NEC Opportunities               \n",
       "\n",
       "    location ago_list  \n",
       "0      Noida      10d  \n",
       "1      Noida      21d  \n",
       "2      Noida     30d+  \n",
       "3      Noida     30d+  \n",
       "4      Noida      21d  \n",
       "5      Noida     30d+  \n",
       "6      Noida     30d+  \n",
       "7      Noida     30d+  \n",
       "8      Noida      24h  \n",
       "9  New Delhi       2d  "
      ]
     },
     "execution_count": 628,
     "metadata": {},
     "output_type": "execute_result"
    }
   ],
   "source": [
    "jobs"
   ]
  },
  {
   "cell_type": "markdown",
   "metadata": {},
   "source": [
    "Create Dataframe of the Data"
   ]
  },
  {
   "cell_type": "markdown",
   "metadata": {},
   "source": []
  },
  {
   "cell_type": "markdown",
   "metadata": {},
   "source": [
    "Q5: Write a python program to scrape the salary data for Data Scientist designation \n",
    "in Noida location.\n"
   ]
  },
  {
   "cell_type": "code",
   "execution_count": 121,
   "metadata": {},
   "outputs": [],
   "source": [
    "driver = webdriver.Chrome(r\"C:\\Users\\Ankita\\Downloads\\chromedriver_win32\\chromedriver.exe\")"
   ]
  },
  {
   "cell_type": "markdown",
   "metadata": {},
   "source": [
    "Load Chrome Driver path"
   ]
  },
  {
   "cell_type": "code",
   "execution_count": 122,
   "metadata": {},
   "outputs": [],
   "source": [
    "url = 'https://www.glassdoor.co.in/Salaries/index.htm'\n",
    "driver.get(url)"
   ]
  },
  {
   "cell_type": "markdown",
   "metadata": {},
   "source": [
    "Enter glassdoor URL"
   ]
  },
  {
   "cell_type": "code",
   "execution_count": 123,
   "metadata": {},
   "outputs": [
    {
     "data": {
      "text/plain": [
       "<selenium.webdriver.remote.webelement.WebElement (session=\"ab89fa1864f4aa3b26b749f97001975b\", element=\"f32b9f91-96f7-4c31-9192-541b300937bc\")>"
      ]
     },
     "execution_count": 123,
     "metadata": {},
     "output_type": "execute_result"
    }
   ],
   "source": [
    "search_job = driver.find_element_by_id('KeywordSearch')\n",
    "search_job"
   ]
  },
  {
   "cell_type": "code",
   "execution_count": 124,
   "metadata": {},
   "outputs": [],
   "source": [
    "search_job.send_keys(\"Data Scientist\")"
   ]
  },
  {
   "cell_type": "markdown",
   "metadata": {},
   "source": [
    "Enter Data Scientist into search field"
   ]
  },
  {
   "cell_type": "code",
   "execution_count": 125,
   "metadata": {},
   "outputs": [
    {
     "data": {
      "text/plain": [
       "<selenium.webdriver.remote.webelement.WebElement (session=\"ab89fa1864f4aa3b26b749f97001975b\", element=\"86c57779-f51e-4d23-aa51-d0178e959c61\")>"
      ]
     },
     "execution_count": 125,
     "metadata": {},
     "output_type": "execute_result"
    }
   ],
   "source": [
    "search_job = driver.find_element_by_id('LocationSearch')\n",
    "search_job"
   ]
  },
  {
   "cell_type": "code",
   "execution_count": 126,
   "metadata": {},
   "outputs": [],
   "source": [
    "search_job.send_keys(\"Noida(India)\")"
   ]
  },
  {
   "cell_type": "markdown",
   "metadata": {},
   "source": [
    "Enter Noida(India) into location field"
   ]
  },
  {
   "cell_type": "code",
   "execution_count": 127,
   "metadata": {},
   "outputs": [
    {
     "data": {
      "text/plain": [
       "<selenium.webdriver.remote.webelement.WebElement (session=\"ab89fa1864f4aa3b26b749f97001975b\", element=\"c45bebdb-46e6-4a65-bf63-e9755384dd29\")>"
      ]
     },
     "execution_count": 127,
     "metadata": {},
     "output_type": "execute_result"
    }
   ],
   "source": [
    "search_btn = driver.find_element_by_xpath(\"//button[@class='gd-btn-mkt']\")\n",
    "search_btn"
   ]
  },
  {
   "cell_type": "code",
   "execution_count": 128,
   "metadata": {},
   "outputs": [],
   "source": [
    "search_btn.click()"
   ]
  },
  {
   "cell_type": "markdown",
   "metadata": {},
   "source": [
    "Click on search button code"
   ]
  },
  {
   "cell_type": "code",
   "execution_count": 129,
   "metadata": {},
   "outputs": [
    {
     "data": {
      "text/plain": [
       "[<selenium.webdriver.remote.webelement.WebElement (session=\"ab89fa1864f4aa3b26b749f97001975b\", element=\"f700bf70-9a9c-4a6c-a6ca-8ae9f8520b98\")>,\n",
       " <selenium.webdriver.remote.webelement.WebElement (session=\"ab89fa1864f4aa3b26b749f97001975b\", element=\"55511bf1-6924-44d7-8c03-7cbd185c01bb\")>,\n",
       " <selenium.webdriver.remote.webelement.WebElement (session=\"ab89fa1864f4aa3b26b749f97001975b\", element=\"9fffa68d-0274-4483-80e5-3373286c10f2\")>,\n",
       " <selenium.webdriver.remote.webelement.WebElement (session=\"ab89fa1864f4aa3b26b749f97001975b\", element=\"d5544a7f-6013-4af6-97da-a85aa0378e91\")>,\n",
       " <selenium.webdriver.remote.webelement.WebElement (session=\"ab89fa1864f4aa3b26b749f97001975b\", element=\"ce55048b-b48d-4460-b3c4-4f341681558a\")>,\n",
       " <selenium.webdriver.remote.webelement.WebElement (session=\"ab89fa1864f4aa3b26b749f97001975b\", element=\"6f0b6b9d-2eb8-476d-9ce5-ca5383e6d985\")>,\n",
       " <selenium.webdriver.remote.webelement.WebElement (session=\"ab89fa1864f4aa3b26b749f97001975b\", element=\"b4bb0ed3-c5c1-43e8-8329-a066c361c89b\")>,\n",
       " <selenium.webdriver.remote.webelement.WebElement (session=\"ab89fa1864f4aa3b26b749f97001975b\", element=\"7f691086-1d26-425e-9677-1c1a81c314f7\")>,\n",
       " <selenium.webdriver.remote.webelement.WebElement (session=\"ab89fa1864f4aa3b26b749f97001975b\", element=\"c04518bf-f825-4f2f-af61-71146328eef9\")>,\n",
       " <selenium.webdriver.remote.webelement.WebElement (session=\"ab89fa1864f4aa3b26b749f97001975b\", element=\"864a6bfd-ba81-42b0-9c86-ac7d14c1d0af\")>,\n",
       " <selenium.webdriver.remote.webelement.WebElement (session=\"ab89fa1864f4aa3b26b749f97001975b\", element=\"05abdb03-01cb-4368-bf58-358a5f3cd670\")>,\n",
       " <selenium.webdriver.remote.webelement.WebElement (session=\"ab89fa1864f4aa3b26b749f97001975b\", element=\"4eaaf192-0c38-45d9-9279-abc9f8130cd1\")>,\n",
       " <selenium.webdriver.remote.webelement.WebElement (session=\"ab89fa1864f4aa3b26b749f97001975b\", element=\"082869ab-456e-4b61-88bf-6c81e0388c35\")>,\n",
       " <selenium.webdriver.remote.webelement.WebElement (session=\"ab89fa1864f4aa3b26b749f97001975b\", element=\"6129da55-d783-49bb-988a-23cd5e949290\")>,\n",
       " <selenium.webdriver.remote.webelement.WebElement (session=\"ab89fa1864f4aa3b26b749f97001975b\", element=\"987d9023-0885-4a8f-b924-af50686620db\")>,\n",
       " <selenium.webdriver.remote.webelement.WebElement (session=\"ab89fa1864f4aa3b26b749f97001975b\", element=\"53fc1607-9fdb-43a9-a02f-d15b1aa6eba8\")>,\n",
       " <selenium.webdriver.remote.webelement.WebElement (session=\"ab89fa1864f4aa3b26b749f97001975b\", element=\"7243bd0d-b8b8-478a-b1b2-d1351f8a8b34\")>,\n",
       " <selenium.webdriver.remote.webelement.WebElement (session=\"ab89fa1864f4aa3b26b749f97001975b\", element=\"8898c633-86b6-47fb-bb7c-33f6562dd9f1\")>,\n",
       " <selenium.webdriver.remote.webelement.WebElement (session=\"ab89fa1864f4aa3b26b749f97001975b\", element=\"867a9090-356f-49f1-8c4e-d4db2ed409da\")>,\n",
       " <selenium.webdriver.remote.webelement.WebElement (session=\"ab89fa1864f4aa3b26b749f97001975b\", element=\"80f435fe-2243-4141-8964-a354c3ffcebd\")>]"
      ]
     },
     "execution_count": 129,
     "metadata": {},
     "output_type": "execute_result"
    }
   ],
   "source": [
    "companies_tags=driver.find_elements_by_xpath(\"//a[@class='css-f3vw95 e1aj7ssy3']\")\n",
    "companies_tags"
   ]
  },
  {
   "cell_type": "code",
   "execution_count": 130,
   "metadata": {},
   "outputs": [
    {
     "data": {
      "text/plain": [
       "['Tata Consultancy Services',\n",
       " 'IBM',\n",
       " 'Accenture',\n",
       " 'Delhivery',\n",
       " 'Ericsson-Worldwide',\n",
       " 'UnitedHealth Group',\n",
       " 'Optum',\n",
       " 'Valiance Solutions',\n",
       " 'EXL Service',\n",
       " 'Optum Global Solutions']"
      ]
     },
     "execution_count": 130,
     "metadata": {},
     "output_type": "execute_result"
    }
   ],
   "source": [
    "company_names=[]\n",
    "for i in companies_tags[0:10]:\n",
    "    company_names.append(i.text)\n",
    "company_names"
   ]
  },
  {
   "cell_type": "markdown",
   "metadata": {},
   "source": [
    "Scrape the company names"
   ]
  },
  {
   "cell_type": "code",
   "execution_count": 131,
   "metadata": {},
   "outputs": [
    {
     "data": {
      "text/plain": [
       "[<selenium.webdriver.remote.webelement.WebElement (session=\"ab89fa1864f4aa3b26b749f97001975b\", element=\"1ed12831-0575-4442-be68-7aa2425df227\")>,\n",
       " <selenium.webdriver.remote.webelement.WebElement (session=\"ab89fa1864f4aa3b26b749f97001975b\", element=\"02fb739b-fa10-4732-9747-d1064f3436e5\")>,\n",
       " <selenium.webdriver.remote.webelement.WebElement (session=\"ab89fa1864f4aa3b26b749f97001975b\", element=\"3fd94325-05e8-4b08-8274-0bb4c079b92e\")>,\n",
       " <selenium.webdriver.remote.webelement.WebElement (session=\"ab89fa1864f4aa3b26b749f97001975b\", element=\"ca0798b0-1c57-4899-8019-3c2a86921e9a\")>,\n",
       " <selenium.webdriver.remote.webelement.WebElement (session=\"ab89fa1864f4aa3b26b749f97001975b\", element=\"75008c3d-1616-41ef-a230-78c6386065b2\")>,\n",
       " <selenium.webdriver.remote.webelement.WebElement (session=\"ab89fa1864f4aa3b26b749f97001975b\", element=\"78b0c200-f9f8-4993-88b9-3a1673792336\")>,\n",
       " <selenium.webdriver.remote.webelement.WebElement (session=\"ab89fa1864f4aa3b26b749f97001975b\", element=\"eab61d71-125c-4ec1-9251-ebd45274ae71\")>,\n",
       " <selenium.webdriver.remote.webelement.WebElement (session=\"ab89fa1864f4aa3b26b749f97001975b\", element=\"c455ba13-45f6-423c-b3c2-996a6b8f7004\")>,\n",
       " <selenium.webdriver.remote.webelement.WebElement (session=\"ab89fa1864f4aa3b26b749f97001975b\", element=\"39b84c19-37c1-4ea4-9c9e-fa2a4d0db18d\")>,\n",
       " <selenium.webdriver.remote.webelement.WebElement (session=\"ab89fa1864f4aa3b26b749f97001975b\", element=\"f187d5d5-a221-4684-8f04-81674c37abae\")>,\n",
       " <selenium.webdriver.remote.webelement.WebElement (session=\"ab89fa1864f4aa3b26b749f97001975b\", element=\"5eab17ca-84ed-469a-9d3c-5455c5afb392\")>,\n",
       " <selenium.webdriver.remote.webelement.WebElement (session=\"ab89fa1864f4aa3b26b749f97001975b\", element=\"aaa3324a-1d6c-47b2-819a-afc3a7735902\")>,\n",
       " <selenium.webdriver.remote.webelement.WebElement (session=\"ab89fa1864f4aa3b26b749f97001975b\", element=\"544eea74-0d4f-4a2f-955c-2c4df837c3d3\")>,\n",
       " <selenium.webdriver.remote.webelement.WebElement (session=\"ab89fa1864f4aa3b26b749f97001975b\", element=\"cf022145-a6cb-4da2-a9cf-0140c11459af\")>,\n",
       " <selenium.webdriver.remote.webelement.WebElement (session=\"ab89fa1864f4aa3b26b749f97001975b\", element=\"145e7924-4f10-4444-b9ca-132c484bf8f1\")>,\n",
       " <selenium.webdriver.remote.webelement.WebElement (session=\"ab89fa1864f4aa3b26b749f97001975b\", element=\"c071b4fd-7155-459e-a1c6-d5c78de67b36\")>,\n",
       " <selenium.webdriver.remote.webelement.WebElement (session=\"ab89fa1864f4aa3b26b749f97001975b\", element=\"db92ee1b-1c93-447c-a5e0-3e60b284dd1e\")>,\n",
       " <selenium.webdriver.remote.webelement.WebElement (session=\"ab89fa1864f4aa3b26b749f97001975b\", element=\"d5ef86bb-16cd-4e63-8ea2-5beef7284f38\")>,\n",
       " <selenium.webdriver.remote.webelement.WebElement (session=\"ab89fa1864f4aa3b26b749f97001975b\", element=\"54ee566d-8295-4f39-a96a-f5ebfb10802c\")>,\n",
       " <selenium.webdriver.remote.webelement.WebElement (session=\"ab89fa1864f4aa3b26b749f97001975b\", element=\"249b5776-eac2-4293-b644-1b45c5d6b7b4\")>]"
      ]
     },
     "execution_count": 131,
     "metadata": {},
     "output_type": "execute_result"
    }
   ],
   "source": [
    "titles_tags=driver.find_elements_by_xpath(\"//div[@class='col-12 col-lg px-xsm']\")\n",
    "titles_tags"
   ]
  },
  {
   "cell_type": "code",
   "execution_count": 132,
   "metadata": {},
   "outputs": [
    {
     "data": {
      "text/plain": [
       "['Data Scientist',\n",
       " 'Data Scientist',\n",
       " 'Data Scientist',\n",
       " 'Data Scientist',\n",
       " 'Data Scientist',\n",
       " 'Data Scientist',\n",
       " 'Data Scientist',\n",
       " 'Data Scientist',\n",
       " 'Data Scientist',\n",
       " 'Data Scientist']"
      ]
     },
     "execution_count": 132,
     "metadata": {},
     "output_type": "execute_result"
    }
   ],
   "source": [
    "job_titles=[]\n",
    "for i in titles_tags[0:10]:\n",
    "    job_titles.append(i.text)\n",
    "job_titles"
   ]
  },
  {
   "cell_type": "markdown",
   "metadata": {},
   "source": [
    "Scrape job titles"
   ]
  },
  {
   "cell_type": "code",
   "execution_count": 133,
   "metadata": {},
   "outputs": [
    {
     "data": {
      "text/plain": [
       "[<selenium.webdriver.remote.webelement.WebElement (session=\"ab89fa1864f4aa3b26b749f97001975b\", element=\"227ccb0c-dd75-488e-bf2a-c82f3d5907e9\")>,\n",
       " <selenium.webdriver.remote.webelement.WebElement (session=\"ab89fa1864f4aa3b26b749f97001975b\", element=\"0d52ffbd-fe88-43c8-b09b-65c9e466f1d6\")>,\n",
       " <selenium.webdriver.remote.webelement.WebElement (session=\"ab89fa1864f4aa3b26b749f97001975b\", element=\"da25783d-c6fd-4031-8321-92877d46ae69\")>,\n",
       " <selenium.webdriver.remote.webelement.WebElement (session=\"ab89fa1864f4aa3b26b749f97001975b\", element=\"2d0d01ae-7bf3-40aa-8f20-0fdbe4c6d695\")>,\n",
       " <selenium.webdriver.remote.webelement.WebElement (session=\"ab89fa1864f4aa3b26b749f97001975b\", element=\"1dc24bcf-f927-4350-95b2-c174da67068c\")>,\n",
       " <selenium.webdriver.remote.webelement.WebElement (session=\"ab89fa1864f4aa3b26b749f97001975b\", element=\"8aa73b62-8c45-4859-a5d0-74708a39c448\")>,\n",
       " <selenium.webdriver.remote.webelement.WebElement (session=\"ab89fa1864f4aa3b26b749f97001975b\", element=\"50b796b9-2a14-482a-ba1f-5a0c7296672c\")>,\n",
       " <selenium.webdriver.remote.webelement.WebElement (session=\"ab89fa1864f4aa3b26b749f97001975b\", element=\"75a30fa4-7af3-4c05-94b2-4dde057a34af\")>,\n",
       " <selenium.webdriver.remote.webelement.WebElement (session=\"ab89fa1864f4aa3b26b749f97001975b\", element=\"4223bbfd-dda4-42f6-a50f-bdd497b40573\")>,\n",
       " <selenium.webdriver.remote.webelement.WebElement (session=\"ab89fa1864f4aa3b26b749f97001975b\", element=\"2a5db406-34c1-4867-a588-8e7bcccd0048\")>,\n",
       " <selenium.webdriver.remote.webelement.WebElement (session=\"ab89fa1864f4aa3b26b749f97001975b\", element=\"9e8d6100-4537-42be-b5d2-5c4a42280ddd\")>,\n",
       " <selenium.webdriver.remote.webelement.WebElement (session=\"ab89fa1864f4aa3b26b749f97001975b\", element=\"b5beb2d3-d4e0-4b70-bc4b-6ed29e76fe2b\")>,\n",
       " <selenium.webdriver.remote.webelement.WebElement (session=\"ab89fa1864f4aa3b26b749f97001975b\", element=\"0d130752-fa3a-4861-af48-c4ead6b961b4\")>,\n",
       " <selenium.webdriver.remote.webelement.WebElement (session=\"ab89fa1864f4aa3b26b749f97001975b\", element=\"8f72f3a4-7f5d-4187-9733-dbc7b85ad676\")>,\n",
       " <selenium.webdriver.remote.webelement.WebElement (session=\"ab89fa1864f4aa3b26b749f97001975b\", element=\"eca6a3de-89cb-483a-994d-8b7ab0028a9c\")>,\n",
       " <selenium.webdriver.remote.webelement.WebElement (session=\"ab89fa1864f4aa3b26b749f97001975b\", element=\"8e8ffe96-79d7-44ae-964b-60fe9ad05b87\")>,\n",
       " <selenium.webdriver.remote.webelement.WebElement (session=\"ab89fa1864f4aa3b26b749f97001975b\", element=\"ae140d2c-9be3-4a2a-9841-26485f3739c9\")>,\n",
       " <selenium.webdriver.remote.webelement.WebElement (session=\"ab89fa1864f4aa3b26b749f97001975b\", element=\"9da72e2a-2d5b-4816-8da7-48492a4a1153\")>,\n",
       " <selenium.webdriver.remote.webelement.WebElement (session=\"ab89fa1864f4aa3b26b749f97001975b\", element=\"e7bb4d8d-fef7-4621-b1c3-cbdf6fc0b502\")>,\n",
       " <selenium.webdriver.remote.webelement.WebElement (session=\"ab89fa1864f4aa3b26b749f97001975b\", element=\"0e7f99cd-06da-40e0-8ba8-31cc82d011c0\")>]"
      ]
     },
     "execution_count": 133,
     "metadata": {},
     "output_type": "execute_result"
    }
   ],
   "source": [
    "average_tags=driver.find_elements_by_xpath(\"//div[@class='col-12 col-lg-4 px-lg-0 d-flex align-items-baseline']\")\n",
    "average_tags"
   ]
  },
  {
   "cell_type": "code",
   "execution_count": 134,
   "metadata": {},
   "outputs": [
    {
     "data": {
      "text/plain": [
       "['₹6,12,205\\n /yr',\n",
       " '₹9,00,000\\n /yr',\n",
       " '₹11,63,336\\n /yr',\n",
       " '₹12,18,244\\n /yr',\n",
       " '₹7,39,238\\n /yr',\n",
       " '₹12,80,000\\n /yr',\n",
       " '₹13,20,960\\n /yr',\n",
       " '₹8,63,750\\n /yr',\n",
       " '₹11,10,000\\n /yr',\n",
       " '₹13,28,697\\n /yr']"
      ]
     },
     "execution_count": 134,
     "metadata": {},
     "output_type": "execute_result"
    }
   ],
   "source": [
    "average_salary=[]\n",
    "for i in average_tags[0:10]:\n",
    "    average_salary.append(i.text)\n",
    "average_salary"
   ]
  },
  {
   "cell_type": "markdown",
   "metadata": {},
   "source": [
    "Scrape Average salary information"
   ]
  },
  {
   "cell_type": "code",
   "execution_count": 135,
   "metadata": {},
   "outputs": [
    {
     "data": {
      "text/plain": [
       "[<selenium.webdriver.remote.webelement.WebElement (session=\"ab89fa1864f4aa3b26b749f97001975b\", element=\"df33fee9-f32f-4ff5-84c0-5cf371a88626\")>,\n",
       " <selenium.webdriver.remote.webelement.WebElement (session=\"ab89fa1864f4aa3b26b749f97001975b\", element=\"a25c665e-cf7c-4385-a11a-31d49bbb3b0f\")>,\n",
       " <selenium.webdriver.remote.webelement.WebElement (session=\"ab89fa1864f4aa3b26b749f97001975b\", element=\"eb267e2e-3bc3-4d40-9388-aa328c2862b5\")>,\n",
       " <selenium.webdriver.remote.webelement.WebElement (session=\"ab89fa1864f4aa3b26b749f97001975b\", element=\"ac566601-1779-4d13-a015-5bdc51b100ae\")>,\n",
       " <selenium.webdriver.remote.webelement.WebElement (session=\"ab89fa1864f4aa3b26b749f97001975b\", element=\"6eaefb84-ca40-40e4-921f-b085bc4d7c3b\")>,\n",
       " <selenium.webdriver.remote.webelement.WebElement (session=\"ab89fa1864f4aa3b26b749f97001975b\", element=\"dbe21d1a-3367-4c96-8ac5-20ef2340e7ae\")>,\n",
       " <selenium.webdriver.remote.webelement.WebElement (session=\"ab89fa1864f4aa3b26b749f97001975b\", element=\"a1a40050-526e-41a4-92ce-05d7030c67a4\")>,\n",
       " <selenium.webdriver.remote.webelement.WebElement (session=\"ab89fa1864f4aa3b26b749f97001975b\", element=\"a00f5bf9-9117-445c-a8d4-7c2c4f4e09e5\")>,\n",
       " <selenium.webdriver.remote.webelement.WebElement (session=\"ab89fa1864f4aa3b26b749f97001975b\", element=\"7d195b3b-b4df-46e0-bed7-2f2399965fe5\")>,\n",
       " <selenium.webdriver.remote.webelement.WebElement (session=\"ab89fa1864f4aa3b26b749f97001975b\", element=\"e793c900-4101-49b4-9535-d55daead47ba\")>,\n",
       " <selenium.webdriver.remote.webelement.WebElement (session=\"ab89fa1864f4aa3b26b749f97001975b\", element=\"f8de7553-8178-4a0d-afba-178b0f3b3f71\")>,\n",
       " <selenium.webdriver.remote.webelement.WebElement (session=\"ab89fa1864f4aa3b26b749f97001975b\", element=\"e2d705da-c468-471b-b183-2db80fd5fd0e\")>,\n",
       " <selenium.webdriver.remote.webelement.WebElement (session=\"ab89fa1864f4aa3b26b749f97001975b\", element=\"98a113b2-4491-4ab9-98eb-7d202cf02c70\")>,\n",
       " <selenium.webdriver.remote.webelement.WebElement (session=\"ab89fa1864f4aa3b26b749f97001975b\", element=\"81a76f65-3c70-4e7c-bf5e-0b86207ef60d\")>,\n",
       " <selenium.webdriver.remote.webelement.WebElement (session=\"ab89fa1864f4aa3b26b749f97001975b\", element=\"4590ea54-4f10-4917-85fa-cfe8aa511216\")>,\n",
       " <selenium.webdriver.remote.webelement.WebElement (session=\"ab89fa1864f4aa3b26b749f97001975b\", element=\"c66ad568-fc81-4a12-b7dc-37bb6114075c\")>,\n",
       " <selenium.webdriver.remote.webelement.WebElement (session=\"ab89fa1864f4aa3b26b749f97001975b\", element=\"97979b23-3159-4a51-a8e0-d1f1f12ac827\")>,\n",
       " <selenium.webdriver.remote.webelement.WebElement (session=\"ab89fa1864f4aa3b26b749f97001975b\", element=\"4d35b8c9-e8e0-4cc0-a434-a2ea0110c051\")>,\n",
       " <selenium.webdriver.remote.webelement.WebElement (session=\"ab89fa1864f4aa3b26b749f97001975b\", element=\"577bfbde-1e12-4930-b893-daa286b94046\")>,\n",
       " <selenium.webdriver.remote.webelement.WebElement (session=\"ab89fa1864f4aa3b26b749f97001975b\", element=\"2c52ad31-a93f-4e1b-b76f-e84a62d3a461\")>]"
      ]
     },
     "execution_count": 135,
     "metadata": {},
     "output_type": "execute_result"
    }
   ],
   "source": [
    "range_tags=driver.find_elements_by_xpath(\"//div[@class='d-flex mt-xxsm css-79elbk epuxyqn0']//p[1]\")\n",
    "range_tags"
   ]
  },
  {
   "cell_type": "code",
   "execution_count": 136,
   "metadata": {},
   "outputs": [
    {
     "data": {
      "text/plain": [
       "['₹3L', '₹6L', '₹6L', '₹5L', '₹4L', '₹8L', '₹8L', '₹5L', '₹6L', '₹4L']"
      ]
     },
     "execution_count": 136,
     "metadata": {},
     "output_type": "execute_result"
    }
   ],
   "source": [
    "min_range_salary=[]\n",
    "for i in range_tags[0:10]:\n",
    "    min_range_salary.append(i.text)\n",
    "min_range_salary"
   ]
  },
  {
   "cell_type": "markdown",
   "metadata": {},
   "source": [
    "Scrape minimum salary information"
   ]
  },
  {
   "cell_type": "code",
   "execution_count": 137,
   "metadata": {},
   "outputs": [
    {
     "data": {
      "text/plain": [
       "[<selenium.webdriver.remote.webelement.WebElement (session=\"ab89fa1864f4aa3b26b749f97001975b\", element=\"4ce00997-2a39-463a-9e48-6391e0ca62c0\")>,\n",
       " <selenium.webdriver.remote.webelement.WebElement (session=\"ab89fa1864f4aa3b26b749f97001975b\", element=\"ed3fe1b6-d7ca-46fc-9f66-47225fb0a57f\")>,\n",
       " <selenium.webdriver.remote.webelement.WebElement (session=\"ab89fa1864f4aa3b26b749f97001975b\", element=\"66e8d0d2-5708-4f24-9c7f-2a10c09c5e0c\")>,\n",
       " <selenium.webdriver.remote.webelement.WebElement (session=\"ab89fa1864f4aa3b26b749f97001975b\", element=\"53702f6c-619a-4c27-8a92-974a83b81137\")>,\n",
       " <selenium.webdriver.remote.webelement.WebElement (session=\"ab89fa1864f4aa3b26b749f97001975b\", element=\"ff7e01a7-cac9-4174-8c4c-173192e99db4\")>,\n",
       " <selenium.webdriver.remote.webelement.WebElement (session=\"ab89fa1864f4aa3b26b749f97001975b\", element=\"a20df921-dbff-4492-bec3-e36b605448e4\")>,\n",
       " <selenium.webdriver.remote.webelement.WebElement (session=\"ab89fa1864f4aa3b26b749f97001975b\", element=\"40631ae4-5f34-48b0-bfad-7d3857352b5c\")>,\n",
       " <selenium.webdriver.remote.webelement.WebElement (session=\"ab89fa1864f4aa3b26b749f97001975b\", element=\"7c7b4d1b-4708-4617-a980-8d32c9c8ea2b\")>,\n",
       " <selenium.webdriver.remote.webelement.WebElement (session=\"ab89fa1864f4aa3b26b749f97001975b\", element=\"98ae5e28-b4ef-477d-8a16-c9cbca681069\")>,\n",
       " <selenium.webdriver.remote.webelement.WebElement (session=\"ab89fa1864f4aa3b26b749f97001975b\", element=\"a65e8570-4eac-4462-b639-79a296875cf8\")>,\n",
       " <selenium.webdriver.remote.webelement.WebElement (session=\"ab89fa1864f4aa3b26b749f97001975b\", element=\"35aa400e-f250-4f30-87e4-bd0d36a56d8c\")>,\n",
       " <selenium.webdriver.remote.webelement.WebElement (session=\"ab89fa1864f4aa3b26b749f97001975b\", element=\"0e3699cb-5105-441e-8a78-a5c3cf5ae73c\")>,\n",
       " <selenium.webdriver.remote.webelement.WebElement (session=\"ab89fa1864f4aa3b26b749f97001975b\", element=\"e1757365-e26b-4737-a1b6-265a6892bfb4\")>,\n",
       " <selenium.webdriver.remote.webelement.WebElement (session=\"ab89fa1864f4aa3b26b749f97001975b\", element=\"58da7735-c4a7-4172-ab43-8c4513dabaa2\")>,\n",
       " <selenium.webdriver.remote.webelement.WebElement (session=\"ab89fa1864f4aa3b26b749f97001975b\", element=\"ff675b32-c41b-4d97-85cb-fd16b5eac2cf\")>,\n",
       " <selenium.webdriver.remote.webelement.WebElement (session=\"ab89fa1864f4aa3b26b749f97001975b\", element=\"14050259-bf25-4315-98b0-0ef8762dcd8c\")>,\n",
       " <selenium.webdriver.remote.webelement.WebElement (session=\"ab89fa1864f4aa3b26b749f97001975b\", element=\"3c6f0869-46f7-41ef-81cf-49e38962f150\")>,\n",
       " <selenium.webdriver.remote.webelement.WebElement (session=\"ab89fa1864f4aa3b26b749f97001975b\", element=\"51cc7fce-15ea-4acc-beb9-60fa88d5d63a\")>,\n",
       " <selenium.webdriver.remote.webelement.WebElement (session=\"ab89fa1864f4aa3b26b749f97001975b\", element=\"19f8a252-21d5-4af8-ac85-a490f55039a3\")>,\n",
       " <selenium.webdriver.remote.webelement.WebElement (session=\"ab89fa1864f4aa3b26b749f97001975b\", element=\"de60be36-0430-4be2-9126-e5fe53c35f1f\")>]"
      ]
     },
     "execution_count": 137,
     "metadata": {},
     "output_type": "execute_result"
    }
   ],
   "source": [
    "maxrange_tags=driver.find_elements_by_xpath(\"//div[@class='d-flex mt-xxsm css-79elbk epuxyqn0']//p[2]\")\n",
    "maxrange_tags"
   ]
  },
  {
   "cell_type": "code",
   "execution_count": 138,
   "metadata": {},
   "outputs": [
    {
     "data": {
      "text/plain": [
       "['₹13L',\n",
       " '₹27L',\n",
       " '₹22L',\n",
       " '₹1Cr',\n",
       " '₹16L',\n",
       " '₹15L',\n",
       " '₹20L',\n",
       " '₹15L',\n",
       " '₹15L',\n",
       " '₹22L']"
      ]
     },
     "execution_count": 138,
     "metadata": {},
     "output_type": "execute_result"
    }
   ],
   "source": [
    "max_range_salary=[]\n",
    "for i in maxrange_tags[0:10]:\n",
    "    max_range_salary.append(i.text)\n",
    "max_range_salary"
   ]
  },
  {
   "cell_type": "markdown",
   "metadata": {},
   "source": [
    "Scrape maximum salary information"
   ]
  },
  {
   "cell_type": "code",
   "execution_count": 139,
   "metadata": {},
   "outputs": [
    {
     "data": {
      "text/plain": [
       "[<selenium.webdriver.remote.webelement.WebElement (session=\"ab89fa1864f4aa3b26b749f97001975b\", element=\"452e584f-ac37-4c59-b2ec-15bdbbae845b\")>,\n",
       " <selenium.webdriver.remote.webelement.WebElement (session=\"ab89fa1864f4aa3b26b749f97001975b\", element=\"1b508355-ff08-4acc-a25c-c5be08baaf4a\")>,\n",
       " <selenium.webdriver.remote.webelement.WebElement (session=\"ab89fa1864f4aa3b26b749f97001975b\", element=\"07622811-34b3-4890-af88-3aa561b18971\")>,\n",
       " <selenium.webdriver.remote.webelement.WebElement (session=\"ab89fa1864f4aa3b26b749f97001975b\", element=\"139e68da-50b0-45c2-be24-02626efa5f7e\")>,\n",
       " <selenium.webdriver.remote.webelement.WebElement (session=\"ab89fa1864f4aa3b26b749f97001975b\", element=\"3c17599c-7872-4be1-b5db-e3eec15803bb\")>,\n",
       " <selenium.webdriver.remote.webelement.WebElement (session=\"ab89fa1864f4aa3b26b749f97001975b\", element=\"e104017a-e076-48f7-bc57-fff56826ecd5\")>,\n",
       " <selenium.webdriver.remote.webelement.WebElement (session=\"ab89fa1864f4aa3b26b749f97001975b\", element=\"3d1cf1b5-e040-4174-866c-fc9cfb633d5f\")>,\n",
       " <selenium.webdriver.remote.webelement.WebElement (session=\"ab89fa1864f4aa3b26b749f97001975b\", element=\"a6e0ef1e-8586-4b97-8dda-edfd8d8f65f9\")>,\n",
       " <selenium.webdriver.remote.webelement.WebElement (session=\"ab89fa1864f4aa3b26b749f97001975b\", element=\"8f0896f9-326d-47eb-950a-1adabb793f0b\")>,\n",
       " <selenium.webdriver.remote.webelement.WebElement (session=\"ab89fa1864f4aa3b26b749f97001975b\", element=\"b9456e36-f791-47b0-bf41-28780ae038f3\")>,\n",
       " <selenium.webdriver.remote.webelement.WebElement (session=\"ab89fa1864f4aa3b26b749f97001975b\", element=\"78e80adf-5d67-4a40-91ea-7ca676dc8273\")>,\n",
       " <selenium.webdriver.remote.webelement.WebElement (session=\"ab89fa1864f4aa3b26b749f97001975b\", element=\"a3eab9e5-c666-4155-9cd2-c600383b0d5d\")>,\n",
       " <selenium.webdriver.remote.webelement.WebElement (session=\"ab89fa1864f4aa3b26b749f97001975b\", element=\"a190ee15-5956-4b63-818e-2428c072fdb2\")>,\n",
       " <selenium.webdriver.remote.webelement.WebElement (session=\"ab89fa1864f4aa3b26b749f97001975b\", element=\"d54e1067-dc9a-4005-a2e0-272710c82c30\")>,\n",
       " <selenium.webdriver.remote.webelement.WebElement (session=\"ab89fa1864f4aa3b26b749f97001975b\", element=\"d6730905-c37c-4030-a20e-e8143649a463\")>,\n",
       " <selenium.webdriver.remote.webelement.WebElement (session=\"ab89fa1864f4aa3b26b749f97001975b\", element=\"743e9691-21b1-4ceb-abb3-2414f322d9c1\")>,\n",
       " <selenium.webdriver.remote.webelement.WebElement (session=\"ab89fa1864f4aa3b26b749f97001975b\", element=\"544e80c3-ec34-499d-8bcf-1e8cbe206dba\")>,\n",
       " <selenium.webdriver.remote.webelement.WebElement (session=\"ab89fa1864f4aa3b26b749f97001975b\", element=\"0a23a287-7646-4c73-a79c-dd19cd8b5164\")>,\n",
       " <selenium.webdriver.remote.webelement.WebElement (session=\"ab89fa1864f4aa3b26b749f97001975b\", element=\"e4ebffa5-3d81-43f4-b6f5-06d5342840e9\")>,\n",
       " <selenium.webdriver.remote.webelement.WebElement (session=\"ab89fa1864f4aa3b26b749f97001975b\", element=\"3b4848dc-9a5d-489b-b3e4-f1ca136cdd57\")>]"
      ]
     },
     "execution_count": 139,
     "metadata": {},
     "output_type": "execute_result"
    }
   ],
   "source": [
    "rating_tags=driver.find_elements_by_xpath(\"//div[@class='d-flex align-items-center mt-xxsm']//span[1]\")\n",
    "rating_tags"
   ]
  },
  {
   "cell_type": "code",
   "execution_count": 140,
   "metadata": {},
   "outputs": [
    {
     "data": {
      "text/plain": [
       "['3.9', '3.9', '4.1', '3.9', '4', '3.7', '3.7', '4.2', '3.6', '3.9']"
      ]
     },
     "execution_count": 140,
     "metadata": {},
     "output_type": "execute_result"
    }
   ],
   "source": [
    "rating_company=[]\n",
    "for i in rating_tags[0:10]:\n",
    "    rating_company.append(i.text)\n",
    "rating_company"
   ]
  },
  {
   "cell_type": "code",
   "execution_count": 149,
   "metadata": {},
   "outputs": [
    {
     "data": {
      "text/plain": [
       "[<selenium.webdriver.remote.webelement.WebElement (session=\"ab89fa1864f4aa3b26b749f97001975b\", element=\"e89aec21-96fb-4f99-99d1-accf066aa8ca\")>,\n",
       " <selenium.webdriver.remote.webelement.WebElement (session=\"ab89fa1864f4aa3b26b749f97001975b\", element=\"09df26e4-f416-495e-a93c-762dcfc2bc64\")>,\n",
       " <selenium.webdriver.remote.webelement.WebElement (session=\"ab89fa1864f4aa3b26b749f97001975b\", element=\"78941155-faff-4c79-88c8-1b44a0db26c0\")>,\n",
       " <selenium.webdriver.remote.webelement.WebElement (session=\"ab89fa1864f4aa3b26b749f97001975b\", element=\"6cca111d-82c9-4ca8-b056-903b4c061f3b\")>,\n",
       " <selenium.webdriver.remote.webelement.WebElement (session=\"ab89fa1864f4aa3b26b749f97001975b\", element=\"175de99d-910c-4108-908b-8c7640b859e8\")>,\n",
       " <selenium.webdriver.remote.webelement.WebElement (session=\"ab89fa1864f4aa3b26b749f97001975b\", element=\"92f99fc5-3e1d-4c23-ab3c-55693b1d8bee\")>,\n",
       " <selenium.webdriver.remote.webelement.WebElement (session=\"ab89fa1864f4aa3b26b749f97001975b\", element=\"8fd6c29a-7378-47ec-bf6c-b53f9684fa96\")>,\n",
       " <selenium.webdriver.remote.webelement.WebElement (session=\"ab89fa1864f4aa3b26b749f97001975b\", element=\"d3f373ab-e790-4168-8a65-39ef1cf7a8a6\")>,\n",
       " <selenium.webdriver.remote.webelement.WebElement (session=\"ab89fa1864f4aa3b26b749f97001975b\", element=\"81f51a79-ca15-43b6-a9cb-d098a05d203b\")>,\n",
       " <selenium.webdriver.remote.webelement.WebElement (session=\"ab89fa1864f4aa3b26b749f97001975b\", element=\"bf7c643d-efbf-4998-9b46-f98f59887a20\")>,\n",
       " <selenium.webdriver.remote.webelement.WebElement (session=\"ab89fa1864f4aa3b26b749f97001975b\", element=\"6c2d752d-ff9f-472d-8f6c-f9a4b839cedb\")>,\n",
       " <selenium.webdriver.remote.webelement.WebElement (session=\"ab89fa1864f4aa3b26b749f97001975b\", element=\"c349d8d8-10af-495a-aab5-0d25d693ebd3\")>,\n",
       " <selenium.webdriver.remote.webelement.WebElement (session=\"ab89fa1864f4aa3b26b749f97001975b\", element=\"5173fa94-4377-4d44-88f1-ac1fd93ce13e\")>,\n",
       " <selenium.webdriver.remote.webelement.WebElement (session=\"ab89fa1864f4aa3b26b749f97001975b\", element=\"39931130-11ba-428f-912d-335d6f385750\")>,\n",
       " <selenium.webdriver.remote.webelement.WebElement (session=\"ab89fa1864f4aa3b26b749f97001975b\", element=\"45b57b03-c030-4952-9cbe-a8a96e75a3c0\")>,\n",
       " <selenium.webdriver.remote.webelement.WebElement (session=\"ab89fa1864f4aa3b26b749f97001975b\", element=\"e4a73ee9-d5d9-4774-a655-46039d403670\")>,\n",
       " <selenium.webdriver.remote.webelement.WebElement (session=\"ab89fa1864f4aa3b26b749f97001975b\", element=\"1aa35d62-b8cb-4b77-bf1c-9190eed13b3a\")>,\n",
       " <selenium.webdriver.remote.webelement.WebElement (session=\"ab89fa1864f4aa3b26b749f97001975b\", element=\"dbcbd894-c5b9-4995-b9f2-082066470c48\")>,\n",
       " <selenium.webdriver.remote.webelement.WebElement (session=\"ab89fa1864f4aa3b26b749f97001975b\", element=\"dc5d09e3-b406-4544-9d05-e086843024d1\")>,\n",
       " <selenium.webdriver.remote.webelement.WebElement (session=\"ab89fa1864f4aa3b26b749f97001975b\", element=\"4df5600e-d725-4754-aeb5-ea807b5ca868\")>]"
      ]
     },
     "execution_count": 149,
     "metadata": {},
     "output_type": "execute_result"
    }
   ],
   "source": [
    "noofsalary_tags=driver.find_elements_by_xpath(\"//div[@class='col-12 col-lg-auto']\")\n",
    "noofsalary_tags"
   ]
  },
  {
   "cell_type": "code",
   "execution_count": 150,
   "metadata": {},
   "outputs": [
    {
     "data": {
      "text/plain": [
       "['18 salaries',\n",
       " '18 salaries',\n",
       " '15 salaries',\n",
       " '15 salaries',\n",
       " '14 salaries',\n",
       " '14 salaries',\n",
       " '10 salaries',\n",
       " '10 salaries',\n",
       " '9 salaries',\n",
       " '9 salaries']"
      ]
     },
     "execution_count": 150,
     "metadata": {},
     "output_type": "execute_result"
    }
   ],
   "source": [
    "noofsalary_company=[]\n",
    "for i in noofsalary_tags[0:10]:\n",
    "    noofsalary_company.append(i.text)\n",
    "noofsalary_company"
   ]
  },
  {
   "cell_type": "markdown",
   "metadata": {},
   "source": [
    "Scrape the rating information"
   ]
  },
  {
   "cell_type": "code",
   "execution_count": 152,
   "metadata": {},
   "outputs": [
    {
     "name": "stdout",
     "output_type": "stream",
     "text": [
      "10 10 10 10 10 10\n"
     ]
    }
   ],
   "source": [
    "print(len(company_names),len(average_salary),len(min_range_salary),len(max_range_salary),len(rating_company),len(noofsalary_company))"
   ]
  },
  {
   "cell_type": "code",
   "execution_count": 153,
   "metadata": {},
   "outputs": [],
   "source": [
    "jobs=pd.DataFrame({})\n",
    "jobs['company']=company_names\n",
    "jobs['avg_salary']=average_salary\n",
    "jobs['min_salary_range']=min_range_salary\n",
    "jobs['max_salary_range']=max_range_salary\n",
    "jobs['company_rating']=rating_company\n",
    "jobs['noofsalary_company']=noofsalary_company"
   ]
  },
  {
   "cell_type": "code",
   "execution_count": 154,
   "metadata": {},
   "outputs": [
    {
     "data": {
      "text/html": [
       "<div>\n",
       "<style scoped>\n",
       "    .dataframe tbody tr th:only-of-type {\n",
       "        vertical-align: middle;\n",
       "    }\n",
       "\n",
       "    .dataframe tbody tr th {\n",
       "        vertical-align: top;\n",
       "    }\n",
       "\n",
       "    .dataframe thead th {\n",
       "        text-align: right;\n",
       "    }\n",
       "</style>\n",
       "<table border=\"1\" class=\"dataframe\">\n",
       "  <thead>\n",
       "    <tr style=\"text-align: right;\">\n",
       "      <th></th>\n",
       "      <th>company</th>\n",
       "      <th>avg_salary</th>\n",
       "      <th>min_salary_range</th>\n",
       "      <th>max_salary_range</th>\n",
       "      <th>company_rating</th>\n",
       "      <th>noofsalary_company</th>\n",
       "    </tr>\n",
       "  </thead>\n",
       "  <tbody>\n",
       "    <tr>\n",
       "      <th>0</th>\n",
       "      <td>Tata Consultancy Services</td>\n",
       "      <td>₹6,12,205\\n /yr</td>\n",
       "      <td>₹3L</td>\n",
       "      <td>₹13L</td>\n",
       "      <td>3.9</td>\n",
       "      <td>18 salaries</td>\n",
       "    </tr>\n",
       "    <tr>\n",
       "      <th>1</th>\n",
       "      <td>IBM</td>\n",
       "      <td>₹9,00,000\\n /yr</td>\n",
       "      <td>₹6L</td>\n",
       "      <td>₹27L</td>\n",
       "      <td>3.9</td>\n",
       "      <td>18 salaries</td>\n",
       "    </tr>\n",
       "    <tr>\n",
       "      <th>2</th>\n",
       "      <td>Accenture</td>\n",
       "      <td>₹11,63,336\\n /yr</td>\n",
       "      <td>₹6L</td>\n",
       "      <td>₹22L</td>\n",
       "      <td>4.1</td>\n",
       "      <td>15 salaries</td>\n",
       "    </tr>\n",
       "    <tr>\n",
       "      <th>3</th>\n",
       "      <td>Delhivery</td>\n",
       "      <td>₹12,18,244\\n /yr</td>\n",
       "      <td>₹5L</td>\n",
       "      <td>₹1Cr</td>\n",
       "      <td>3.9</td>\n",
       "      <td>15 salaries</td>\n",
       "    </tr>\n",
       "    <tr>\n",
       "      <th>4</th>\n",
       "      <td>Ericsson-Worldwide</td>\n",
       "      <td>₹7,39,238\\n /yr</td>\n",
       "      <td>₹4L</td>\n",
       "      <td>₹16L</td>\n",
       "      <td>4</td>\n",
       "      <td>14 salaries</td>\n",
       "    </tr>\n",
       "    <tr>\n",
       "      <th>5</th>\n",
       "      <td>UnitedHealth Group</td>\n",
       "      <td>₹12,80,000\\n /yr</td>\n",
       "      <td>₹8L</td>\n",
       "      <td>₹15L</td>\n",
       "      <td>3.7</td>\n",
       "      <td>14 salaries</td>\n",
       "    </tr>\n",
       "    <tr>\n",
       "      <th>6</th>\n",
       "      <td>Optum</td>\n",
       "      <td>₹13,20,960\\n /yr</td>\n",
       "      <td>₹8L</td>\n",
       "      <td>₹20L</td>\n",
       "      <td>3.7</td>\n",
       "      <td>10 salaries</td>\n",
       "    </tr>\n",
       "    <tr>\n",
       "      <th>7</th>\n",
       "      <td>Valiance Solutions</td>\n",
       "      <td>₹8,63,750\\n /yr</td>\n",
       "      <td>₹5L</td>\n",
       "      <td>₹15L</td>\n",
       "      <td>4.2</td>\n",
       "      <td>10 salaries</td>\n",
       "    </tr>\n",
       "    <tr>\n",
       "      <th>8</th>\n",
       "      <td>EXL Service</td>\n",
       "      <td>₹11,10,000\\n /yr</td>\n",
       "      <td>₹6L</td>\n",
       "      <td>₹15L</td>\n",
       "      <td>3.6</td>\n",
       "      <td>9 salaries</td>\n",
       "    </tr>\n",
       "    <tr>\n",
       "      <th>9</th>\n",
       "      <td>Optum Global Solutions</td>\n",
       "      <td>₹13,28,697\\n /yr</td>\n",
       "      <td>₹4L</td>\n",
       "      <td>₹22L</td>\n",
       "      <td>3.9</td>\n",
       "      <td>9 salaries</td>\n",
       "    </tr>\n",
       "  </tbody>\n",
       "</table>\n",
       "</div>"
      ],
      "text/plain": [
       "                     company        avg_salary min_salary_range  \\\n",
       "0  Tata Consultancy Services   ₹6,12,205\\n /yr              ₹3L   \n",
       "1                        IBM   ₹9,00,000\\n /yr              ₹6L   \n",
       "2                  Accenture  ₹11,63,336\\n /yr              ₹6L   \n",
       "3                  Delhivery  ₹12,18,244\\n /yr              ₹5L   \n",
       "4         Ericsson-Worldwide   ₹7,39,238\\n /yr              ₹4L   \n",
       "5         UnitedHealth Group  ₹12,80,000\\n /yr              ₹8L   \n",
       "6                      Optum  ₹13,20,960\\n /yr              ₹8L   \n",
       "7         Valiance Solutions   ₹8,63,750\\n /yr              ₹5L   \n",
       "8                EXL Service  ₹11,10,000\\n /yr              ₹6L   \n",
       "9     Optum Global Solutions  ₹13,28,697\\n /yr              ₹4L   \n",
       "\n",
       "  max_salary_range company_rating noofsalary_company  \n",
       "0             ₹13L            3.9        18 salaries  \n",
       "1             ₹27L            3.9        18 salaries  \n",
       "2             ₹22L            4.1        15 salaries  \n",
       "3             ₹1Cr            3.9        15 salaries  \n",
       "4             ₹16L              4        14 salaries  \n",
       "5             ₹15L            3.7        14 salaries  \n",
       "6             ₹20L            3.7        10 salaries  \n",
       "7             ₹15L            4.2        10 salaries  \n",
       "8             ₹15L            3.6         9 salaries  \n",
       "9             ₹22L            3.9         9 salaries  "
      ]
     },
     "execution_count": 154,
     "metadata": {},
     "output_type": "execute_result"
    }
   ],
   "source": [
    "jobs"
   ]
  },
  {
   "cell_type": "markdown",
   "metadata": {},
   "source": [
    "Create Dataframe of the data"
   ]
  },
  {
   "cell_type": "markdown",
   "metadata": {},
   "source": []
  },
  {
   "cell_type": "markdown",
   "metadata": {},
   "source": [
    "Q6 : Scrape data of first 100 sunglasses listings on flipkart.com. You have to \n",
    "scrape four attributes:"
   ]
  },
  {
   "cell_type": "code",
   "execution_count": 155,
   "metadata": {},
   "outputs": [],
   "source": [
    "driver = webdriver.Chrome(r\"C:\\Users\\Ankita\\Downloads\\chromedriver_win32\\chromedriver.exe\")"
   ]
  },
  {
   "cell_type": "markdown",
   "metadata": {},
   "source": [
    "Chrome driver path"
   ]
  },
  {
   "cell_type": "code",
   "execution_count": 156,
   "metadata": {},
   "outputs": [],
   "source": [
    "url = 'https://www.flipkart.com/'\n",
    "driver.get(url)"
   ]
  },
  {
   "cell_type": "markdown",
   "metadata": {},
   "source": [
    "Enter flipkart URL"
   ]
  },
  {
   "cell_type": "code",
   "execution_count": 157,
   "metadata": {},
   "outputs": [
    {
     "data": {
      "text/plain": [
       "<selenium.webdriver.remote.webelement.WebElement (session=\"66c2a4dcfa054ee0a0fb417f05c5ae27\", element=\"526a1da9-d432-4711-b047-c1b237f747fe\")>"
      ]
     },
     "execution_count": 157,
     "metadata": {},
     "output_type": "execute_result"
    }
   ],
   "source": [
    "search_job = driver.find_element_by_xpath(\"/html/body/div[1]/div/div[1]/div[1]/div[2]/div[2]/form/div/div/input\")\n",
    "search_job                                       "
   ]
  },
  {
   "cell_type": "code",
   "execution_count": 158,
   "metadata": {},
   "outputs": [],
   "source": [
    "search_job.send_keys(\"sunglasses\")"
   ]
  },
  {
   "cell_type": "markdown",
   "metadata": {},
   "source": [
    "Enter sunglasses in search field"
   ]
  },
  {
   "cell_type": "code",
   "execution_count": 159,
   "metadata": {},
   "outputs": [
    {
     "data": {
      "text/plain": [
       "<selenium.webdriver.remote.webelement.WebElement (session=\"66c2a4dcfa054ee0a0fb417f05c5ae27\", element=\"ad07e925-4904-4b49-925e-a02e5595a126\")>"
      ]
     },
     "execution_count": 159,
     "metadata": {},
     "output_type": "execute_result"
    }
   ],
   "source": [
    "search_btn = driver.find_element_by_xpath(\"//button[@class='L0Z3Pu']\")\n",
    "search_btn\n"
   ]
  },
  {
   "cell_type": "code",
   "execution_count": 160,
   "metadata": {},
   "outputs": [],
   "source": [
    "search_btn.click()"
   ]
  },
  {
   "cell_type": "markdown",
   "metadata": {},
   "source": [
    "Click on seach button code"
   ]
  },
  {
   "cell_type": "code",
   "execution_count": 161,
   "metadata": {},
   "outputs": [
    {
     "data": {
      "text/plain": [
       "[<selenium.webdriver.remote.webelement.WebElement (session=\"66c2a4dcfa054ee0a0fb417f05c5ae27\", element=\"597a24b8-1f64-477d-99f6-51e823383a95\")>,\n",
       " <selenium.webdriver.remote.webelement.WebElement (session=\"66c2a4dcfa054ee0a0fb417f05c5ae27\", element=\"d3796939-70a9-4cf4-b56f-e623409c0846\")>,\n",
       " <selenium.webdriver.remote.webelement.WebElement (session=\"66c2a4dcfa054ee0a0fb417f05c5ae27\", element=\"6e458992-6a4b-457c-967a-31de003b5352\")>,\n",
       " <selenium.webdriver.remote.webelement.WebElement (session=\"66c2a4dcfa054ee0a0fb417f05c5ae27\", element=\"317c0199-ecbc-4adc-862e-02e41b943127\")>,\n",
       " <selenium.webdriver.remote.webelement.WebElement (session=\"66c2a4dcfa054ee0a0fb417f05c5ae27\", element=\"cfd7cf92-3d71-4b80-bf97-57422d714f3e\")>,\n",
       " <selenium.webdriver.remote.webelement.WebElement (session=\"66c2a4dcfa054ee0a0fb417f05c5ae27\", element=\"f2759110-174f-4407-8e87-a845734095c6\")>,\n",
       " <selenium.webdriver.remote.webelement.WebElement (session=\"66c2a4dcfa054ee0a0fb417f05c5ae27\", element=\"d85719dc-d93f-41bf-8c15-281ca99036d4\")>,\n",
       " <selenium.webdriver.remote.webelement.WebElement (session=\"66c2a4dcfa054ee0a0fb417f05c5ae27\", element=\"0e21b9c2-03f6-4d11-82c5-0b3aa6b30c4b\")>,\n",
       " <selenium.webdriver.remote.webelement.WebElement (session=\"66c2a4dcfa054ee0a0fb417f05c5ae27\", element=\"fa71f8aa-7fe2-47bd-93b0-c759119e020b\")>,\n",
       " <selenium.webdriver.remote.webelement.WebElement (session=\"66c2a4dcfa054ee0a0fb417f05c5ae27\", element=\"c6e6f065-4ad1-4f05-92c6-f1c3d34333c2\")>,\n",
       " <selenium.webdriver.remote.webelement.WebElement (session=\"66c2a4dcfa054ee0a0fb417f05c5ae27\", element=\"06334752-5307-4ea2-8784-9e2e732e7051\")>,\n",
       " <selenium.webdriver.remote.webelement.WebElement (session=\"66c2a4dcfa054ee0a0fb417f05c5ae27\", element=\"31a3eb18-67f5-487b-a7a1-908b2fa872b3\")>,\n",
       " <selenium.webdriver.remote.webelement.WebElement (session=\"66c2a4dcfa054ee0a0fb417f05c5ae27\", element=\"1fc8db40-e185-40c9-9c04-71a8426c0f6c\")>,\n",
       " <selenium.webdriver.remote.webelement.WebElement (session=\"66c2a4dcfa054ee0a0fb417f05c5ae27\", element=\"c26c1489-6664-41e6-b3ca-2bc10241cf29\")>,\n",
       " <selenium.webdriver.remote.webelement.WebElement (session=\"66c2a4dcfa054ee0a0fb417f05c5ae27\", element=\"c38fda06-7ad0-4311-8c78-90b652cf756f\")>,\n",
       " <selenium.webdriver.remote.webelement.WebElement (session=\"66c2a4dcfa054ee0a0fb417f05c5ae27\", element=\"5f654840-eb02-4f9d-96b7-cf8425f9d33a\")>,\n",
       " <selenium.webdriver.remote.webelement.WebElement (session=\"66c2a4dcfa054ee0a0fb417f05c5ae27\", element=\"ca8821ee-cda1-4098-b1b2-9439b498ed59\")>,\n",
       " <selenium.webdriver.remote.webelement.WebElement (session=\"66c2a4dcfa054ee0a0fb417f05c5ae27\", element=\"d65bafca-cf7e-4de7-b612-aa7d57f02bb3\")>,\n",
       " <selenium.webdriver.remote.webelement.WebElement (session=\"66c2a4dcfa054ee0a0fb417f05c5ae27\", element=\"7f546207-179d-46d3-afd1-9852877b1229\")>,\n",
       " <selenium.webdriver.remote.webelement.WebElement (session=\"66c2a4dcfa054ee0a0fb417f05c5ae27\", element=\"8af47943-9637-497a-9249-6963733d6aac\")>,\n",
       " <selenium.webdriver.remote.webelement.WebElement (session=\"66c2a4dcfa054ee0a0fb417f05c5ae27\", element=\"814698de-4e44-4436-8ab9-defcafebc4fd\")>,\n",
       " <selenium.webdriver.remote.webelement.WebElement (session=\"66c2a4dcfa054ee0a0fb417f05c5ae27\", element=\"8f59671a-6cb3-4ac3-9ec4-d9145fa8d137\")>,\n",
       " <selenium.webdriver.remote.webelement.WebElement (session=\"66c2a4dcfa054ee0a0fb417f05c5ae27\", element=\"47d716e9-d63c-4c8a-a7aa-74f5946668d4\")>,\n",
       " <selenium.webdriver.remote.webelement.WebElement (session=\"66c2a4dcfa054ee0a0fb417f05c5ae27\", element=\"8fdf5c66-bacc-4613-a3df-ab41f50d090f\")>,\n",
       " <selenium.webdriver.remote.webelement.WebElement (session=\"66c2a4dcfa054ee0a0fb417f05c5ae27\", element=\"61be9516-58fc-4b6c-be6c-c313512a022b\")>,\n",
       " <selenium.webdriver.remote.webelement.WebElement (session=\"66c2a4dcfa054ee0a0fb417f05c5ae27\", element=\"b4b016e2-c332-412a-bdf4-dcc13d7d0b3f\")>,\n",
       " <selenium.webdriver.remote.webelement.WebElement (session=\"66c2a4dcfa054ee0a0fb417f05c5ae27\", element=\"3e7f580c-2bb9-4e92-85ec-ab82e118554e\")>,\n",
       " <selenium.webdriver.remote.webelement.WebElement (session=\"66c2a4dcfa054ee0a0fb417f05c5ae27\", element=\"36316ba6-9e4d-49b7-b2c3-7c5dbd56ba31\")>,\n",
       " <selenium.webdriver.remote.webelement.WebElement (session=\"66c2a4dcfa054ee0a0fb417f05c5ae27\", element=\"8c925e23-3fc4-466f-b802-6be3ca5b7f96\")>,\n",
       " <selenium.webdriver.remote.webelement.WebElement (session=\"66c2a4dcfa054ee0a0fb417f05c5ae27\", element=\"17e37f8f-5910-4a01-814a-5ed851e93472\")>,\n",
       " <selenium.webdriver.remote.webelement.WebElement (session=\"66c2a4dcfa054ee0a0fb417f05c5ae27\", element=\"18ebc7a5-7b92-4461-8e9d-b132c160d1f1\")>,\n",
       " <selenium.webdriver.remote.webelement.WebElement (session=\"66c2a4dcfa054ee0a0fb417f05c5ae27\", element=\"8f0218a5-74c7-44aa-9dee-3bdc7d555637\")>,\n",
       " <selenium.webdriver.remote.webelement.WebElement (session=\"66c2a4dcfa054ee0a0fb417f05c5ae27\", element=\"a3a98da6-3296-4bce-b579-5f8e6fa71c0f\")>,\n",
       " <selenium.webdriver.remote.webelement.WebElement (session=\"66c2a4dcfa054ee0a0fb417f05c5ae27\", element=\"0f370f27-be79-4d5b-b857-8eecee53d001\")>,\n",
       " <selenium.webdriver.remote.webelement.WebElement (session=\"66c2a4dcfa054ee0a0fb417f05c5ae27\", element=\"315f7c41-2e57-4066-83e7-830665becce6\")>,\n",
       " <selenium.webdriver.remote.webelement.WebElement (session=\"66c2a4dcfa054ee0a0fb417f05c5ae27\", element=\"fdaa3893-0d0d-457a-b0af-762ad628780b\")>,\n",
       " <selenium.webdriver.remote.webelement.WebElement (session=\"66c2a4dcfa054ee0a0fb417f05c5ae27\", element=\"43ad3f5d-8d62-4ea4-90e3-7d200facef2f\")>,\n",
       " <selenium.webdriver.remote.webelement.WebElement (session=\"66c2a4dcfa054ee0a0fb417f05c5ae27\", element=\"65c63e56-fa26-4304-b631-3fef2c2d3136\")>,\n",
       " <selenium.webdriver.remote.webelement.WebElement (session=\"66c2a4dcfa054ee0a0fb417f05c5ae27\", element=\"47ad6ae6-72d6-473f-a228-3f44d40f3456\")>,\n",
       " <selenium.webdriver.remote.webelement.WebElement (session=\"66c2a4dcfa054ee0a0fb417f05c5ae27\", element=\"4e330a5c-bf4f-4831-86a1-7a91aa0b21b5\")>]"
      ]
     },
     "execution_count": 161,
     "metadata": {},
     "output_type": "execute_result"
    }
   ],
   "source": [
    "brand_tags=driver.find_elements_by_xpath(\"//div[@class='_2WkVRV']\")\n",
    "brand_tags"
   ]
  },
  {
   "cell_type": "code",
   "execution_count": 163,
   "metadata": {
    "scrolled": true
   },
   "outputs": [
    {
     "data": {
      "text/plain": [
       "['Wrogn',\n",
       " 'HAMIW COLLECTION',\n",
       " 'Elligator',\n",
       " 'Fastrack',\n",
       " 'Fastrack',\n",
       " 'kingsunglasses',\n",
       " 'PIRASO',\n",
       " 'ROYAL SON',\n",
       " 'Fastrack',\n",
       " 'SUNBEE',\n",
       " 'Fastrack',\n",
       " 'ROYAL SON',\n",
       " 'Fastrack',\n",
       " 'Fastrack',\n",
       " 'SHAAH COLLECTIONS',\n",
       " 'ROZZETTA CRAFT',\n",
       " 'kingsunglasses',\n",
       " 'Fastrack',\n",
       " 'Fastrack',\n",
       " 'PIRASO',\n",
       " 'PIRASO',\n",
       " 'ROZZETTA CRAFT',\n",
       " 'GANSTA',\n",
       " 'ROYAL SON',\n",
       " 'PHENOMENAL',\n",
       " 'kingsunglasses',\n",
       " 'Fastrack',\n",
       " 'ROZZETTA CRAFT',\n",
       " 'PIRASO',\n",
       " 'ROZZETTA CRAFT',\n",
       " 'Elligator',\n",
       " 'Badfella',\n",
       " 'hipe',\n",
       " 'Singco India',\n",
       " 'Silver Kartz',\n",
       " 'Wrogn',\n",
       " 'kingsunglasses',\n",
       " 'ROYAL SON',\n",
       " 'PHENOMENAL',\n",
       " 'AISLIN']"
      ]
     },
     "execution_count": 163,
     "metadata": {},
     "output_type": "execute_result"
    }
   ],
   "source": [
    "brand_titles=[]\n",
    "for i in brand_tags[0:100]:\n",
    "    brand_titles.append(i.text)\n",
    "brand_titles"
   ]
  },
  {
   "cell_type": "markdown",
   "metadata": {},
   "source": [
    "Scrape Brand information"
   ]
  },
  {
   "cell_type": "code",
   "execution_count": 164,
   "metadata": {},
   "outputs": [
    {
     "data": {
      "text/plain": [
       "[<selenium.webdriver.remote.webelement.WebElement (session=\"66c2a4dcfa054ee0a0fb417f05c5ae27\", element=\"bc432c3d-452d-4914-8d34-3db78c43803f\")>,\n",
       " <selenium.webdriver.remote.webelement.WebElement (session=\"66c2a4dcfa054ee0a0fb417f05c5ae27\", element=\"e2008411-553d-4fc9-859c-bef51e2da7e0\")>,\n",
       " <selenium.webdriver.remote.webelement.WebElement (session=\"66c2a4dcfa054ee0a0fb417f05c5ae27\", element=\"f85fdba0-d894-4128-8396-fe25a060b99f\")>,\n",
       " <selenium.webdriver.remote.webelement.WebElement (session=\"66c2a4dcfa054ee0a0fb417f05c5ae27\", element=\"fb3f393e-cf21-4b25-a2f9-55308c729216\")>,\n",
       " <selenium.webdriver.remote.webelement.WebElement (session=\"66c2a4dcfa054ee0a0fb417f05c5ae27\", element=\"78c8e867-1257-450a-821c-44a64fb12fd5\")>,\n",
       " <selenium.webdriver.remote.webelement.WebElement (session=\"66c2a4dcfa054ee0a0fb417f05c5ae27\", element=\"bd4f5804-7348-42c7-90d5-cba3f8f83d86\")>,\n",
       " <selenium.webdriver.remote.webelement.WebElement (session=\"66c2a4dcfa054ee0a0fb417f05c5ae27\", element=\"27bd0be2-ac5f-449c-a67e-41cc5c4ee452\")>,\n",
       " <selenium.webdriver.remote.webelement.WebElement (session=\"66c2a4dcfa054ee0a0fb417f05c5ae27\", element=\"3abd64d5-5404-4de4-8b7d-74306fd6dabe\")>,\n",
       " <selenium.webdriver.remote.webelement.WebElement (session=\"66c2a4dcfa054ee0a0fb417f05c5ae27\", element=\"bbbb2579-cd9a-4b50-bac5-9af86b2c7366\")>,\n",
       " <selenium.webdriver.remote.webelement.WebElement (session=\"66c2a4dcfa054ee0a0fb417f05c5ae27\", element=\"6f059747-d8e8-445b-94e6-32fb5e7cd97a\")>,\n",
       " <selenium.webdriver.remote.webelement.WebElement (session=\"66c2a4dcfa054ee0a0fb417f05c5ae27\", element=\"ecdcf9e3-a064-44f4-bef0-c1fc3bec60d9\")>,\n",
       " <selenium.webdriver.remote.webelement.WebElement (session=\"66c2a4dcfa054ee0a0fb417f05c5ae27\", element=\"c70f3856-6f98-44c5-9f4d-8099f3bac924\")>,\n",
       " <selenium.webdriver.remote.webelement.WebElement (session=\"66c2a4dcfa054ee0a0fb417f05c5ae27\", element=\"967a5c1f-3813-40b1-b612-479933c038ef\")>,\n",
       " <selenium.webdriver.remote.webelement.WebElement (session=\"66c2a4dcfa054ee0a0fb417f05c5ae27\", element=\"1c6422a4-83d1-4733-b9c7-523fef5bfbbc\")>,\n",
       " <selenium.webdriver.remote.webelement.WebElement (session=\"66c2a4dcfa054ee0a0fb417f05c5ae27\", element=\"10e4d0f5-5d08-449e-8749-13d21ebcebf7\")>,\n",
       " <selenium.webdriver.remote.webelement.WebElement (session=\"66c2a4dcfa054ee0a0fb417f05c5ae27\", element=\"cdce55fd-c792-4cf9-b988-1b76dd357e88\")>,\n",
       " <selenium.webdriver.remote.webelement.WebElement (session=\"66c2a4dcfa054ee0a0fb417f05c5ae27\", element=\"d072d78a-ae31-4bab-bf3d-e584f5f48348\")>,\n",
       " <selenium.webdriver.remote.webelement.WebElement (session=\"66c2a4dcfa054ee0a0fb417f05c5ae27\", element=\"a0c4c8e0-5b29-476d-b6df-1cc891c63c5b\")>,\n",
       " <selenium.webdriver.remote.webelement.WebElement (session=\"66c2a4dcfa054ee0a0fb417f05c5ae27\", element=\"65880447-097a-4b82-a7f2-a77301b3a1e5\")>,\n",
       " <selenium.webdriver.remote.webelement.WebElement (session=\"66c2a4dcfa054ee0a0fb417f05c5ae27\", element=\"1a8a0f51-fcc2-4ca6-b934-12a10a8e09f5\")>,\n",
       " <selenium.webdriver.remote.webelement.WebElement (session=\"66c2a4dcfa054ee0a0fb417f05c5ae27\", element=\"9b705d65-4b47-4578-a875-9983fa83182e\")>,\n",
       " <selenium.webdriver.remote.webelement.WebElement (session=\"66c2a4dcfa054ee0a0fb417f05c5ae27\", element=\"1d1dea9c-3195-48b0-8b90-543bcce13ace\")>,\n",
       " <selenium.webdriver.remote.webelement.WebElement (session=\"66c2a4dcfa054ee0a0fb417f05c5ae27\", element=\"dd14d415-c2a1-49c8-b312-15d7ea69d75b\")>,\n",
       " <selenium.webdriver.remote.webelement.WebElement (session=\"66c2a4dcfa054ee0a0fb417f05c5ae27\", element=\"40bcfcec-8f81-42d4-98a3-41f6355cb79f\")>,\n",
       " <selenium.webdriver.remote.webelement.WebElement (session=\"66c2a4dcfa054ee0a0fb417f05c5ae27\", element=\"1be8d359-000f-4827-9769-edfd2d48e4e3\")>,\n",
       " <selenium.webdriver.remote.webelement.WebElement (session=\"66c2a4dcfa054ee0a0fb417f05c5ae27\", element=\"4de2a848-62c1-457f-8db4-30441a6d08f3\")>,\n",
       " <selenium.webdriver.remote.webelement.WebElement (session=\"66c2a4dcfa054ee0a0fb417f05c5ae27\", element=\"3fb5b8e6-2625-48cc-8d2f-7566fb2bf7ef\")>,\n",
       " <selenium.webdriver.remote.webelement.WebElement (session=\"66c2a4dcfa054ee0a0fb417f05c5ae27\", element=\"e66b7682-2f19-4c49-8183-da26034e0c22\")>,\n",
       " <selenium.webdriver.remote.webelement.WebElement (session=\"66c2a4dcfa054ee0a0fb417f05c5ae27\", element=\"a80ef726-2a30-46f0-9d6e-66364961a82f\")>,\n",
       " <selenium.webdriver.remote.webelement.WebElement (session=\"66c2a4dcfa054ee0a0fb417f05c5ae27\", element=\"d49d129e-7abf-427a-a193-c725e7122ee6\")>,\n",
       " <selenium.webdriver.remote.webelement.WebElement (session=\"66c2a4dcfa054ee0a0fb417f05c5ae27\", element=\"bbb55c96-331f-4ace-9e5b-d342eabb5401\")>,\n",
       " <selenium.webdriver.remote.webelement.WebElement (session=\"66c2a4dcfa054ee0a0fb417f05c5ae27\", element=\"c45f65f9-5c87-4ec0-b3ac-983a9a154dcc\")>,\n",
       " <selenium.webdriver.remote.webelement.WebElement (session=\"66c2a4dcfa054ee0a0fb417f05c5ae27\", element=\"20ceccfa-d963-448d-8adb-6e89cf249204\")>,\n",
       " <selenium.webdriver.remote.webelement.WebElement (session=\"66c2a4dcfa054ee0a0fb417f05c5ae27\", element=\"968d4c5c-dd57-4a5a-b2a9-e9c5f61b62f5\")>,\n",
       " <selenium.webdriver.remote.webelement.WebElement (session=\"66c2a4dcfa054ee0a0fb417f05c5ae27\", element=\"197ebd6a-b88c-45f8-a746-9a7456d45696\")>,\n",
       " <selenium.webdriver.remote.webelement.WebElement (session=\"66c2a4dcfa054ee0a0fb417f05c5ae27\", element=\"beb0dd3f-c3f3-4f1f-b6be-cdd56a3f9661\")>,\n",
       " <selenium.webdriver.remote.webelement.WebElement (session=\"66c2a4dcfa054ee0a0fb417f05c5ae27\", element=\"3f2b1c7b-0879-4c78-99d3-70988ffb7de9\")>,\n",
       " <selenium.webdriver.remote.webelement.WebElement (session=\"66c2a4dcfa054ee0a0fb417f05c5ae27\", element=\"9963ae26-13ad-4bc6-a20c-b01328c08796\")>,\n",
       " <selenium.webdriver.remote.webelement.WebElement (session=\"66c2a4dcfa054ee0a0fb417f05c5ae27\", element=\"8a9d4b59-5757-4f6e-ab04-c5f6870644be\")>,\n",
       " <selenium.webdriver.remote.webelement.WebElement (session=\"66c2a4dcfa054ee0a0fb417f05c5ae27\", element=\"24c734a3-eafd-4d67-a315-ce684e743d27\")>]"
      ]
     },
     "execution_count": 164,
     "metadata": {},
     "output_type": "execute_result"
    }
   ],
   "source": [
    "description_tags=driver.find_elements_by_xpath(\"//div[@class='_2B099V']//a[1]\")\n",
    "description_tags  \n",
    "\n"
   ]
  },
  {
   "cell_type": "code",
   "execution_count": 165,
   "metadata": {},
   "outputs": [
    {
     "data": {
      "text/plain": [
       "['Mirrored Wayfarer Sunglasses (51)',\n",
       " 'UV Protection Wayfarer, Sports, Shield, Rectangular, Re...',\n",
       " 'UV Protection Round Sunglasses (54)',\n",
       " 'UV Protection Wayfarer Sunglasses (Free Size)',\n",
       " 'UV Protection Rectangular Sunglasses (Free Size)',\n",
       " 'Mirrored, UV Protection Wayfarer Sunglasses (Free Size)',\n",
       " 'UV Protection Aviator Sunglasses (54)',\n",
       " 'Polarized, UV Protection Round Sunglasses (49)',\n",
       " 'Gradient, UV Protection Wayfarer Sunglasses (Free Size)',\n",
       " 'UV Protection, Polarized, Mirrored Round Sunglasses (Fr...',\n",
       " 'UV Protection Aviator Sunglasses (58)',\n",
       " 'Polarized, UV Protection Rectangular Sunglasses (59)',\n",
       " 'UV Protection Aviator Sunglasses (Free Size)',\n",
       " 'UV Protection Aviator Sunglasses (58)',\n",
       " 'UV Protection, Polarized, Mirrored Rectangular Sunglass...',\n",
       " 'UV Protection, Gradient Round Sunglasses (Free Size)',\n",
       " 'UV Protection Rectangular Sunglasses (Free Size)',\n",
       " 'UV Protection Wayfarer Sunglasses (Free Size)',\n",
       " 'Mirrored, UV Protection Wayfarer Sunglasses (Free Size)',\n",
       " 'UV Protection Wayfarer Sunglasses (32)',\n",
       " 'UV Protection Aviator Sunglasses (54)',\n",
       " 'UV Protection, Gradient Rectangular Sunglasses (Free Si...',\n",
       " 'UV Protection Aviator Sunglasses (57)',\n",
       " 'UV Protection Over-sized Sunglasses (65)',\n",
       " 'UV Protection Retro Square Sunglasses (Free Size)',\n",
       " 'UV Protection Round Sunglasses (54)',\n",
       " 'UV Protection Sports Sunglasses (Free Size)',\n",
       " 'Gradient, UV Protection Round Sunglasses (Free Size)',\n",
       " 'UV Protection Aviator Sunglasses (54)',\n",
       " 'UV Protection Retro Square Sunglasses (Free Size)',\n",
       " 'Mirrored Round Sunglasses (53)',\n",
       " 'Polarized, UV Protection Retro Square Sunglasses (53)',\n",
       " 'Mirrored, UV Protection, Gradient Round Sunglasses (55)',\n",
       " 'UV Protection, Riding Glasses, Others Aviator, Wayfarer...',\n",
       " 'UV Protection Wayfarer Sunglasses (Free Size)',\n",
       " 'UV Protection Aviator Sunglasses (60)',\n",
       " 'Mirrored, UV Protection Wayfarer Sunglasses (Free Size)',\n",
       " 'UV Protection, Gradient Wayfarer Sunglasses (55)',\n",
       " 'UV Protection, Mirrored Retro Square Sunglasses (53)',\n",
       " 'UV Protection, Gradient Round, Cat-eye Sunglasses (60)']"
      ]
     },
     "execution_count": 165,
     "metadata": {},
     "output_type": "execute_result"
    }
   ],
   "source": [
    "description_names=[]\n",
    "for i in description_tags[0:100]:\n",
    "    description_names.append(i.text)\n",
    "description_names"
   ]
  },
  {
   "cell_type": "markdown",
   "metadata": {},
   "source": [
    "Scrape the description"
   ]
  },
  {
   "cell_type": "code",
   "execution_count": 166,
   "metadata": {},
   "outputs": [
    {
     "data": {
      "text/plain": [
       "[<selenium.webdriver.remote.webelement.WebElement (session=\"66c2a4dcfa054ee0a0fb417f05c5ae27\", element=\"25379b3e-7fd9-4c23-9f5b-5284f7e732de\")>,\n",
       " <selenium.webdriver.remote.webelement.WebElement (session=\"66c2a4dcfa054ee0a0fb417f05c5ae27\", element=\"06514bc7-a8df-4bc4-a789-c8c1ab6f4a89\")>,\n",
       " <selenium.webdriver.remote.webelement.WebElement (session=\"66c2a4dcfa054ee0a0fb417f05c5ae27\", element=\"9130f47f-d6e3-407a-ae3c-08c887ac1f95\")>,\n",
       " <selenium.webdriver.remote.webelement.WebElement (session=\"66c2a4dcfa054ee0a0fb417f05c5ae27\", element=\"9b02f1c7-51a0-436d-ad6c-1390bbea4013\")>,\n",
       " <selenium.webdriver.remote.webelement.WebElement (session=\"66c2a4dcfa054ee0a0fb417f05c5ae27\", element=\"1551f9f7-2bfd-46fa-8788-75111f6d0f29\")>,\n",
       " <selenium.webdriver.remote.webelement.WebElement (session=\"66c2a4dcfa054ee0a0fb417f05c5ae27\", element=\"64f57bc6-d07f-4365-9aa7-0a9b118f73b1\")>,\n",
       " <selenium.webdriver.remote.webelement.WebElement (session=\"66c2a4dcfa054ee0a0fb417f05c5ae27\", element=\"dc490902-c9c8-4e5b-81ae-51c8958f0015\")>,\n",
       " <selenium.webdriver.remote.webelement.WebElement (session=\"66c2a4dcfa054ee0a0fb417f05c5ae27\", element=\"97016507-739f-4e19-b791-f8ba3ed98827\")>,\n",
       " <selenium.webdriver.remote.webelement.WebElement (session=\"66c2a4dcfa054ee0a0fb417f05c5ae27\", element=\"e12f2aea-14e7-411a-bbda-9d33a050ced9\")>,\n",
       " <selenium.webdriver.remote.webelement.WebElement (session=\"66c2a4dcfa054ee0a0fb417f05c5ae27\", element=\"66b57601-7f3d-4ac8-9fa5-e67c0bbb440a\")>,\n",
       " <selenium.webdriver.remote.webelement.WebElement (session=\"66c2a4dcfa054ee0a0fb417f05c5ae27\", element=\"6e68114a-9a40-4551-a88d-7bf73ee27a3d\")>,\n",
       " <selenium.webdriver.remote.webelement.WebElement (session=\"66c2a4dcfa054ee0a0fb417f05c5ae27\", element=\"f97aaa00-6361-4706-b4e0-76d82f1aa087\")>,\n",
       " <selenium.webdriver.remote.webelement.WebElement (session=\"66c2a4dcfa054ee0a0fb417f05c5ae27\", element=\"32a42d70-ac3a-4894-befc-1165748b9b0f\")>,\n",
       " <selenium.webdriver.remote.webelement.WebElement (session=\"66c2a4dcfa054ee0a0fb417f05c5ae27\", element=\"7639e840-cb7d-4552-a2d4-d3ccc2a85451\")>,\n",
       " <selenium.webdriver.remote.webelement.WebElement (session=\"66c2a4dcfa054ee0a0fb417f05c5ae27\", element=\"8d4f8b32-3888-4df6-8eae-60459b428a63\")>,\n",
       " <selenium.webdriver.remote.webelement.WebElement (session=\"66c2a4dcfa054ee0a0fb417f05c5ae27\", element=\"ac945a19-c46e-4b0f-b529-2d43bf96bc67\")>,\n",
       " <selenium.webdriver.remote.webelement.WebElement (session=\"66c2a4dcfa054ee0a0fb417f05c5ae27\", element=\"64ee99d5-49f3-4bc6-848d-8d218a103541\")>,\n",
       " <selenium.webdriver.remote.webelement.WebElement (session=\"66c2a4dcfa054ee0a0fb417f05c5ae27\", element=\"f778a8fe-66b8-4214-aa47-d1e00aaac374\")>,\n",
       " <selenium.webdriver.remote.webelement.WebElement (session=\"66c2a4dcfa054ee0a0fb417f05c5ae27\", element=\"7baf3041-d887-4b0c-9fb4-618ab5d339d0\")>,\n",
       " <selenium.webdriver.remote.webelement.WebElement (session=\"66c2a4dcfa054ee0a0fb417f05c5ae27\", element=\"a40489e7-e317-47f2-b89b-e0dad64cbf17\")>,\n",
       " <selenium.webdriver.remote.webelement.WebElement (session=\"66c2a4dcfa054ee0a0fb417f05c5ae27\", element=\"eb484c7b-fe12-4bbc-b1e3-f0efaa3bffd7\")>,\n",
       " <selenium.webdriver.remote.webelement.WebElement (session=\"66c2a4dcfa054ee0a0fb417f05c5ae27\", element=\"2dd310ec-e50b-4919-a11a-e9ec7b9f314c\")>,\n",
       " <selenium.webdriver.remote.webelement.WebElement (session=\"66c2a4dcfa054ee0a0fb417f05c5ae27\", element=\"b2447b37-f05b-40d2-bc15-bcdc92397616\")>,\n",
       " <selenium.webdriver.remote.webelement.WebElement (session=\"66c2a4dcfa054ee0a0fb417f05c5ae27\", element=\"a96c5208-b556-4f1a-b1b8-51a83ae8f9b9\")>,\n",
       " <selenium.webdriver.remote.webelement.WebElement (session=\"66c2a4dcfa054ee0a0fb417f05c5ae27\", element=\"beb0a4ef-17cf-49a1-b2b5-bde4b18c9d7b\")>,\n",
       " <selenium.webdriver.remote.webelement.WebElement (session=\"66c2a4dcfa054ee0a0fb417f05c5ae27\", element=\"84d9bc15-6878-4036-8498-3785b120b62e\")>,\n",
       " <selenium.webdriver.remote.webelement.WebElement (session=\"66c2a4dcfa054ee0a0fb417f05c5ae27\", element=\"b81d64ad-9e16-4917-8f28-5e91044ebdd7\")>,\n",
       " <selenium.webdriver.remote.webelement.WebElement (session=\"66c2a4dcfa054ee0a0fb417f05c5ae27\", element=\"c04873dc-558a-4d4a-ac28-9a2f9f7a9020\")>,\n",
       " <selenium.webdriver.remote.webelement.WebElement (session=\"66c2a4dcfa054ee0a0fb417f05c5ae27\", element=\"1fc72075-c6ac-451b-a134-0ac7dfe43a44\")>,\n",
       " <selenium.webdriver.remote.webelement.WebElement (session=\"66c2a4dcfa054ee0a0fb417f05c5ae27\", element=\"2743e0d9-4ea3-47b7-bee0-1b8c60c81e54\")>,\n",
       " <selenium.webdriver.remote.webelement.WebElement (session=\"66c2a4dcfa054ee0a0fb417f05c5ae27\", element=\"5a187304-cacd-4787-bf0b-27bfb43bfd43\")>,\n",
       " <selenium.webdriver.remote.webelement.WebElement (session=\"66c2a4dcfa054ee0a0fb417f05c5ae27\", element=\"fdeb466a-8bb2-4d2f-b41d-e572e9223a98\")>,\n",
       " <selenium.webdriver.remote.webelement.WebElement (session=\"66c2a4dcfa054ee0a0fb417f05c5ae27\", element=\"6b6fc7d8-f39b-43e5-a18a-92feb8b7f037\")>,\n",
       " <selenium.webdriver.remote.webelement.WebElement (session=\"66c2a4dcfa054ee0a0fb417f05c5ae27\", element=\"d715ea74-8721-4fde-a7ea-8b8623974256\")>,\n",
       " <selenium.webdriver.remote.webelement.WebElement (session=\"66c2a4dcfa054ee0a0fb417f05c5ae27\", element=\"5f93aae5-7b19-45b7-a0b6-96f522676910\")>,\n",
       " <selenium.webdriver.remote.webelement.WebElement (session=\"66c2a4dcfa054ee0a0fb417f05c5ae27\", element=\"cced544e-1d0e-4c83-87a3-d940ae8e8571\")>,\n",
       " <selenium.webdriver.remote.webelement.WebElement (session=\"66c2a4dcfa054ee0a0fb417f05c5ae27\", element=\"1fc93bfb-d248-4ce0-b6c2-9024293ab995\")>,\n",
       " <selenium.webdriver.remote.webelement.WebElement (session=\"66c2a4dcfa054ee0a0fb417f05c5ae27\", element=\"fc41ebcc-38aa-4ade-80ac-f73648fcda79\")>,\n",
       " <selenium.webdriver.remote.webelement.WebElement (session=\"66c2a4dcfa054ee0a0fb417f05c5ae27\", element=\"ec17672d-cd4b-4b1c-86d0-182d73f79633\")>,\n",
       " <selenium.webdriver.remote.webelement.WebElement (session=\"66c2a4dcfa054ee0a0fb417f05c5ae27\", element=\"1d19ba4e-1547-4880-b4ce-8c8bab1516ad\")>]"
      ]
     },
     "execution_count": 166,
     "metadata": {},
     "output_type": "execute_result"
    }
   ],
   "source": [
    "prise_tags=driver.find_elements_by_xpath(\"//div[@class='_30jeq3']\")\n",
    "prise_tags"
   ]
  },
  {
   "cell_type": "code",
   "execution_count": 167,
   "metadata": {},
   "outputs": [
    {
     "data": {
      "text/plain": [
       "['₹663',\n",
       " '₹197',\n",
       " '₹295',\n",
       " '₹758',\n",
       " '₹513',\n",
       " '₹299',\n",
       " '₹237',\n",
       " '₹664',\n",
       " '₹509',\n",
       " '₹331',\n",
       " '₹1,085',\n",
       " '₹664',\n",
       " '₹546',\n",
       " '₹1,010',\n",
       " '₹198',\n",
       " '₹399',\n",
       " '₹210',\n",
       " '₹733',\n",
       " '₹738',\n",
       " '₹237',\n",
       " '₹237',\n",
       " '₹404',\n",
       " '₹266',\n",
       " '₹699',\n",
       " '₹379',\n",
       " '₹225',\n",
       " '₹771',\n",
       " '₹426',\n",
       " '₹237',\n",
       " '₹499',\n",
       " '₹312',\n",
       " '₹255',\n",
       " '₹199',\n",
       " '₹214',\n",
       " '₹246',\n",
       " '₹1,007',\n",
       " '₹299',\n",
       " '₹217',\n",
       " '₹379',\n",
       " '₹498']"
      ]
     },
     "execution_count": 167,
     "metadata": {},
     "output_type": "execute_result"
    }
   ],
   "source": [
    "prise_cost=[]\n",
    "for i in prise_tags[0:100]:\n",
    "    prise_cost.append(i.text)\n",
    "prise_cost"
   ]
  },
  {
   "cell_type": "markdown",
   "metadata": {},
   "source": [
    "Scrape prise information"
   ]
  },
  {
   "cell_type": "code",
   "execution_count": 168,
   "metadata": {},
   "outputs": [
    {
     "data": {
      "text/plain": [
       "[<selenium.webdriver.remote.webelement.WebElement (session=\"66c2a4dcfa054ee0a0fb417f05c5ae27\", element=\"98fdc8bc-0ae7-4a2c-8290-4c80a7f2755e\")>,\n",
       " <selenium.webdriver.remote.webelement.WebElement (session=\"66c2a4dcfa054ee0a0fb417f05c5ae27\", element=\"d69a1d44-2fc6-4680-9320-3c6f59dac6a6\")>,\n",
       " <selenium.webdriver.remote.webelement.WebElement (session=\"66c2a4dcfa054ee0a0fb417f05c5ae27\", element=\"9949bb03-e438-457c-afb8-73bab8dced23\")>,\n",
       " <selenium.webdriver.remote.webelement.WebElement (session=\"66c2a4dcfa054ee0a0fb417f05c5ae27\", element=\"f1dafff2-bf27-41fe-95af-8945d5b89000\")>,\n",
       " <selenium.webdriver.remote.webelement.WebElement (session=\"66c2a4dcfa054ee0a0fb417f05c5ae27\", element=\"03b93f67-1dc1-47bc-b255-c26a3cbd6f9a\")>,\n",
       " <selenium.webdriver.remote.webelement.WebElement (session=\"66c2a4dcfa054ee0a0fb417f05c5ae27\", element=\"b0514629-964e-4d78-b48c-46c7a59a4fbe\")>,\n",
       " <selenium.webdriver.remote.webelement.WebElement (session=\"66c2a4dcfa054ee0a0fb417f05c5ae27\", element=\"84f68b4a-a112-4f38-a489-d99d9100bcbe\")>,\n",
       " <selenium.webdriver.remote.webelement.WebElement (session=\"66c2a4dcfa054ee0a0fb417f05c5ae27\", element=\"46293c49-e4d6-4a66-abc4-249d4810fc85\")>,\n",
       " <selenium.webdriver.remote.webelement.WebElement (session=\"66c2a4dcfa054ee0a0fb417f05c5ae27\", element=\"e7678d28-7977-4541-aa60-37358886504d\")>,\n",
       " <selenium.webdriver.remote.webelement.WebElement (session=\"66c2a4dcfa054ee0a0fb417f05c5ae27\", element=\"6918e107-db40-4958-ace9-22e91bc3ba5f\")>,\n",
       " <selenium.webdriver.remote.webelement.WebElement (session=\"66c2a4dcfa054ee0a0fb417f05c5ae27\", element=\"8fa1cf7b-6ccd-4073-890b-11768917f6c2\")>,\n",
       " <selenium.webdriver.remote.webelement.WebElement (session=\"66c2a4dcfa054ee0a0fb417f05c5ae27\", element=\"b13bb4ca-ca54-4514-8f77-9dffbd5c1838\")>,\n",
       " <selenium.webdriver.remote.webelement.WebElement (session=\"66c2a4dcfa054ee0a0fb417f05c5ae27\", element=\"c5774fe3-3d21-47ee-938f-9114a9c0de7d\")>,\n",
       " <selenium.webdriver.remote.webelement.WebElement (session=\"66c2a4dcfa054ee0a0fb417f05c5ae27\", element=\"a4aa426a-11ca-4665-ae04-1ce70429a1c7\")>,\n",
       " <selenium.webdriver.remote.webelement.WebElement (session=\"66c2a4dcfa054ee0a0fb417f05c5ae27\", element=\"e14bc336-8755-4ba3-8553-6b2dfd8a3d8c\")>,\n",
       " <selenium.webdriver.remote.webelement.WebElement (session=\"66c2a4dcfa054ee0a0fb417f05c5ae27\", element=\"1a9935d9-7e69-458c-afac-0781f119a076\")>,\n",
       " <selenium.webdriver.remote.webelement.WebElement (session=\"66c2a4dcfa054ee0a0fb417f05c5ae27\", element=\"549794ce-e236-4406-9708-6ce35f7e7715\")>,\n",
       " <selenium.webdriver.remote.webelement.WebElement (session=\"66c2a4dcfa054ee0a0fb417f05c5ae27\", element=\"9df56fbb-fa9b-4efa-9124-86eb014c7820\")>,\n",
       " <selenium.webdriver.remote.webelement.WebElement (session=\"66c2a4dcfa054ee0a0fb417f05c5ae27\", element=\"eff2828f-e4f6-47e3-9f2f-7b2b8cf9004b\")>,\n",
       " <selenium.webdriver.remote.webelement.WebElement (session=\"66c2a4dcfa054ee0a0fb417f05c5ae27\", element=\"39518927-61f2-401d-8504-4ffc3ece995f\")>,\n",
       " <selenium.webdriver.remote.webelement.WebElement (session=\"66c2a4dcfa054ee0a0fb417f05c5ae27\", element=\"2517f0ef-0644-4596-978b-d41ad913c994\")>,\n",
       " <selenium.webdriver.remote.webelement.WebElement (session=\"66c2a4dcfa054ee0a0fb417f05c5ae27\", element=\"be321ac3-7aaf-4444-8c71-744f1997ed91\")>,\n",
       " <selenium.webdriver.remote.webelement.WebElement (session=\"66c2a4dcfa054ee0a0fb417f05c5ae27\", element=\"d1e11fbb-1667-44ad-b337-eecff7ac6757\")>,\n",
       " <selenium.webdriver.remote.webelement.WebElement (session=\"66c2a4dcfa054ee0a0fb417f05c5ae27\", element=\"731db01b-c598-4f4b-8b53-9e114ac58a3a\")>,\n",
       " <selenium.webdriver.remote.webelement.WebElement (session=\"66c2a4dcfa054ee0a0fb417f05c5ae27\", element=\"1e9d1cac-8160-44bb-a227-e1580c6fb757\")>,\n",
       " <selenium.webdriver.remote.webelement.WebElement (session=\"66c2a4dcfa054ee0a0fb417f05c5ae27\", element=\"401fcade-8d3e-4063-82d6-c7d8a51510d7\")>,\n",
       " <selenium.webdriver.remote.webelement.WebElement (session=\"66c2a4dcfa054ee0a0fb417f05c5ae27\", element=\"88a58c53-6c50-41cb-af3f-b45cdae662b1\")>,\n",
       " <selenium.webdriver.remote.webelement.WebElement (session=\"66c2a4dcfa054ee0a0fb417f05c5ae27\", element=\"d426d9a8-d208-42f2-bc4f-499ea8aa8d75\")>,\n",
       " <selenium.webdriver.remote.webelement.WebElement (session=\"66c2a4dcfa054ee0a0fb417f05c5ae27\", element=\"16c394af-c9a7-427d-aef8-bcd5a0ec1a45\")>,\n",
       " <selenium.webdriver.remote.webelement.WebElement (session=\"66c2a4dcfa054ee0a0fb417f05c5ae27\", element=\"9d06193d-d947-4c94-98c7-851a41cefad2\")>,\n",
       " <selenium.webdriver.remote.webelement.WebElement (session=\"66c2a4dcfa054ee0a0fb417f05c5ae27\", element=\"af5c6fb9-f494-4355-9056-7d77c9382bb5\")>,\n",
       " <selenium.webdriver.remote.webelement.WebElement (session=\"66c2a4dcfa054ee0a0fb417f05c5ae27\", element=\"37e6add4-8a5b-497b-966f-679f525dddbc\")>,\n",
       " <selenium.webdriver.remote.webelement.WebElement (session=\"66c2a4dcfa054ee0a0fb417f05c5ae27\", element=\"5a2a2efa-278a-46d6-a0d8-77ae83c0ea8b\")>,\n",
       " <selenium.webdriver.remote.webelement.WebElement (session=\"66c2a4dcfa054ee0a0fb417f05c5ae27\", element=\"90fdcd96-95b5-466a-837f-56e034a609a9\")>,\n",
       " <selenium.webdriver.remote.webelement.WebElement (session=\"66c2a4dcfa054ee0a0fb417f05c5ae27\", element=\"5573ec9a-37ed-4b51-b1ef-2368134f9f70\")>,\n",
       " <selenium.webdriver.remote.webelement.WebElement (session=\"66c2a4dcfa054ee0a0fb417f05c5ae27\", element=\"5cd147bc-9119-408d-adbc-812523d497ad\")>,\n",
       " <selenium.webdriver.remote.webelement.WebElement (session=\"66c2a4dcfa054ee0a0fb417f05c5ae27\", element=\"4841e160-64cd-4f00-a854-0a61e5d71b3a\")>,\n",
       " <selenium.webdriver.remote.webelement.WebElement (session=\"66c2a4dcfa054ee0a0fb417f05c5ae27\", element=\"4310052e-f822-4eb3-9434-388b903c0955\")>,\n",
       " <selenium.webdriver.remote.webelement.WebElement (session=\"66c2a4dcfa054ee0a0fb417f05c5ae27\", element=\"98fa9ec7-9fce-41bf-8c6d-29ac62c95d86\")>,\n",
       " <selenium.webdriver.remote.webelement.WebElement (session=\"66c2a4dcfa054ee0a0fb417f05c5ae27\", element=\"1f041429-a2d1-4c24-b4b8-a5af697e995c\")>]"
      ]
     },
     "execution_count": 168,
     "metadata": {},
     "output_type": "execute_result"
    }
   ],
   "source": [
    "discount_tags=driver.find_elements_by_xpath(\"//div[@class='_3Ay6Sb']//span\")\n",
    "discount_tags"
   ]
  },
  {
   "cell_type": "code",
   "execution_count": 169,
   "metadata": {},
   "outputs": [
    {
     "data": {
      "text/plain": [
       "['73% off',\n",
       " '86% off',\n",
       " '88% off',\n",
       " '15% off',\n",
       " '35% off',\n",
       " '88% off',\n",
       " '85% off',\n",
       " '66% off',\n",
       " '36% off',\n",
       " '80% off',\n",
       " '16% off',\n",
       " '55% off',\n",
       " '31% off',\n",
       " '22% off',\n",
       " '88% off',\n",
       " '80% off',\n",
       " '82% off',\n",
       " '18% off',\n",
       " '26% off',\n",
       " '85% off',\n",
       " '85% off',\n",
       " '79% off',\n",
       " '86% off',\n",
       " '53% off',\n",
       " '81% off',\n",
       " '79% off',\n",
       " '14% off',\n",
       " '78% off',\n",
       " '85% off',\n",
       " '77% off',\n",
       " '87% off',\n",
       " '74% off',\n",
       " '86% off',\n",
       " '69% off',\n",
       " '83% off',\n",
       " '69% off',\n",
       " '88% off',\n",
       " '78% off',\n",
       " '81% off',\n",
       " '70% off']"
      ]
     },
     "execution_count": 169,
     "metadata": {},
     "output_type": "execute_result"
    }
   ],
   "source": [
    "discount_cost=[]\n",
    "for i in discount_tags[0:100]:\n",
    "    discount_cost.append(i.text)\n",
    "discount_cost"
   ]
  },
  {
   "cell_type": "markdown",
   "metadata": {},
   "source": [
    "Scrape the discount information"
   ]
  },
  {
   "cell_type": "code",
   "execution_count": 170,
   "metadata": {},
   "outputs": [
    {
     "data": {
      "text/plain": [
       "[<selenium.webdriver.remote.webelement.WebElement (session=\"66c2a4dcfa054ee0a0fb417f05c5ae27\", element=\"a158866c-1359-45b8-bb26-f90a05ad51fc\")>,\n",
       " <selenium.webdriver.remote.webelement.WebElement (session=\"66c2a4dcfa054ee0a0fb417f05c5ae27\", element=\"b70e6a41-b45f-4ee6-a719-19185375eb39\")>,\n",
       " <selenium.webdriver.remote.webelement.WebElement (session=\"66c2a4dcfa054ee0a0fb417f05c5ae27\", element=\"1dd47faa-fa4c-47bc-a763-95ca0c691b00\")>,\n",
       " <selenium.webdriver.remote.webelement.WebElement (session=\"66c2a4dcfa054ee0a0fb417f05c5ae27\", element=\"94c6ff70-5a49-4069-94a4-b0edb2007861\")>,\n",
       " <selenium.webdriver.remote.webelement.WebElement (session=\"66c2a4dcfa054ee0a0fb417f05c5ae27\", element=\"701d208d-4437-41af-9c76-d86c25e7f1fa\")>,\n",
       " <selenium.webdriver.remote.webelement.WebElement (session=\"66c2a4dcfa054ee0a0fb417f05c5ae27\", element=\"bd4df987-f9c9-4551-b098-a8ad3a086b2c\")>,\n",
       " <selenium.webdriver.remote.webelement.WebElement (session=\"66c2a4dcfa054ee0a0fb417f05c5ae27\", element=\"7ad83cf3-34c7-45ec-846a-715289fe92c5\")>,\n",
       " <selenium.webdriver.remote.webelement.WebElement (session=\"66c2a4dcfa054ee0a0fb417f05c5ae27\", element=\"d62ae0f3-2bd4-4605-a1d1-e55dd96a6da8\")>,\n",
       " <selenium.webdriver.remote.webelement.WebElement (session=\"66c2a4dcfa054ee0a0fb417f05c5ae27\", element=\"754f547b-8829-4054-a23f-652ad0f5268e\")>,\n",
       " <selenium.webdriver.remote.webelement.WebElement (session=\"66c2a4dcfa054ee0a0fb417f05c5ae27\", element=\"d5662ac1-064a-4663-9d8e-6749abe0f66f\")>,\n",
       " <selenium.webdriver.remote.webelement.WebElement (session=\"66c2a4dcfa054ee0a0fb417f05c5ae27\", element=\"5da0c04c-4866-4776-b519-7c7e81716c50\")>]"
      ]
     },
     "execution_count": 170,
     "metadata": {},
     "output_type": "execute_result"
    }
   ],
   "source": [
    "#pagination-number\n",
    "url=driver.find_elements_by_xpath(\"//nav[@class='yFHi8N']//a\")\n",
    "url"
   ]
  },
  {
   "cell_type": "markdown",
   "metadata": {},
   "source": [
    "Scrape the URL of multiple pages"
   ]
  },
  {
   "cell_type": "code",
   "execution_count": 171,
   "metadata": {},
   "outputs": [
    {
     "data": {
      "text/plain": [
       "['https://www.flipkart.com/search?q=sunglasses&otracker=search&otracker1=search&marketplace=FLIPKART&as-show=on&as=off&page=1',\n",
       " 'https://www.flipkart.com/search?q=sunglasses&otracker=search&otracker1=search&marketplace=FLIPKART&as-show=on&as=off&page=2',\n",
       " 'https://www.flipkart.com/search?q=sunglasses&otracker=search&otracker1=search&marketplace=FLIPKART&as-show=on&as=off&page=3',\n",
       " 'https://www.flipkart.com/search?q=sunglasses&otracker=search&otracker1=search&marketplace=FLIPKART&as-show=on&as=off&page=4',\n",
       " 'https://www.flipkart.com/search?q=sunglasses&otracker=search&otracker1=search&marketplace=FLIPKART&as-show=on&as=off&page=5',\n",
       " 'https://www.flipkart.com/search?q=sunglasses&otracker=search&otracker1=search&marketplace=FLIPKART&as-show=on&as=off&page=6',\n",
       " 'https://www.flipkart.com/search?q=sunglasses&otracker=search&otracker1=search&marketplace=FLIPKART&as-show=on&as=off&page=7',\n",
       " 'https://www.flipkart.com/search?q=sunglasses&otracker=search&otracker1=search&marketplace=FLIPKART&as-show=on&as=off&page=8',\n",
       " 'https://www.flipkart.com/search?q=sunglasses&otracker=search&otracker1=search&marketplace=FLIPKART&as-show=on&as=off&page=9',\n",
       " 'https://www.flipkart.com/search?q=sunglasses&otracker=search&otracker1=search&marketplace=FLIPKART&as-show=on&as=off&page=10',\n",
       " 'https://www.flipkart.com/search?q=sunglasses&otracker=search&otracker1=search&marketplace=FLIPKART&as-show=on&as=off&page=2']"
      ]
     },
     "execution_count": 171,
     "metadata": {},
     "output_type": "execute_result"
    }
   ],
   "source": [
    "page_url = []\n",
    "url = driver.find_elements_by_xpath(\"//nav[@class='yFHi8N']//a\")\n",
    "for i in url:\n",
    "    page_url.append(i.get_attribute(\"href\"))\n",
    "page_url"
   ]
  },
  {
   "cell_type": "markdown",
   "metadata": {},
   "source": [
    "Scrape the URL names of multiple pages"
   ]
  },
  {
   "cell_type": "code",
   "execution_count": 185,
   "metadata": {},
   "outputs": [
    {
     "data": {
      "text/plain": [
       "['Wrogn',\n",
       " 'HAMIW COLLECTION',\n",
       " 'Elligator',\n",
       " 'Fastrack',\n",
       " 'kingsunglasses',\n",
       " 'Fastrack',\n",
       " 'PIRASO',\n",
       " 'ROYAL SON',\n",
       " 'Fastrack',\n",
       " 'SUNBEE',\n",
       " 'Fastrack',\n",
       " 'ROZZETTA CRAFT',\n",
       " 'Fastrack',\n",
       " 'Fastrack',\n",
       " 'Fastrack',\n",
       " 'PIRASO',\n",
       " 'kingsunglasses',\n",
       " 'ROZZETTA CRAFT',\n",
       " 'Fastrack',\n",
       " 'ROYAL SON',\n",
       " 'SHAAH COLLECTIONS',\n",
       " 'PIRASO',\n",
       " 'kingsunglasses',\n",
       " 'ROZZETTA CRAFT',\n",
       " 'GANSTA',\n",
       " 'PHENOMENAL',\n",
       " 'PIRASO',\n",
       " 'Fravy',\n",
       " 'Fastrack',\n",
       " 'ROZZETTA CRAFT',\n",
       " 'Elligator',\n",
       " 'Badfella',\n",
       " 'hipe',\n",
       " 'Singco India',\n",
       " 'Silver Kartz',\n",
       " 'AISLIN',\n",
       " 'PHENOMENAL',\n",
       " 'ROYAL SON',\n",
       " 'kingsunglasses',\n",
       " 'Wrogn',\n",
       " 'ROYAL SON',\n",
       " 'ROZZETTA CRAFT',\n",
       " 'NuVew',\n",
       " 'Wrogn',\n",
       " 'SRPM',\n",
       " 'Elligator',\n",
       " 'kingsunglasses',\n",
       " 'HAMIW COLLECTION',\n",
       " 'Fastrack',\n",
       " 'ROZZETTA CRAFT',\n",
       " 'Badfella',\n",
       " 'ROYAL SON',\n",
       " 'kingsunglasses',\n",
       " 'AISLIN',\n",
       " 'Fravy',\n",
       " 'ROYAL SON',\n",
       " 'Fastrack',\n",
       " 'PHENOMENAL',\n",
       " 'Singco',\n",
       " 'ROZZETTA CRAFT',\n",
       " 'Fastrack',\n",
       " 'ROYAL SON',\n",
       " 'kingsunglasses',\n",
       " 'Fravy',\n",
       " 'DEIXELS',\n",
       " 'hipe',\n",
       " 'Fastrack',\n",
       " 'PIRASO',\n",
       " 'Fastrack',\n",
       " 'Flizz',\n",
       " 'hipe',\n",
       " 'PIRASO',\n",
       " 'AISLIN',\n",
       " 'HIPPON',\n",
       " 'PHENOMENAL',\n",
       " 'ROYAL SON',\n",
       " 'NuVew',\n",
       " 'Singco India',\n",
       " 'Fastrack',\n",
       " 'ROZZETTA CRAFT',\n",
       " 'DEIXELS',\n",
       " 'ROYAL SON',\n",
       " 'PIRASO',\n",
       " 'Wrogn',\n",
       " 'PIRASO',\n",
       " 'Elligator',\n",
       " 'Elligator',\n",
       " 'HAMIW COLLECTION',\n",
       " 'Wrogn',\n",
       " 'GANSTA',\n",
       " 'Fastrack',\n",
       " 'ROYAL SON',\n",
       " 'Ray-Ban',\n",
       " 'GANSTA',\n",
       " 'kingsunglasses',\n",
       " 'ROYAL SON',\n",
       " 'Fastrack',\n",
       " 'kingsunglasses',\n",
       " 'Fastrack',\n",
       " 'ROZZETTA CRAFT']"
      ]
     },
     "execution_count": 185,
     "metadata": {},
     "output_type": "execute_result"
    }
   ],
   "source": [
    "brand_titles=[]\n",
    "for i in page_url[0:3]:\n",
    "    driver.get(i)\n",
    "    brand_tags=driver.find_elements_by_xpath(\"//div[@class='_2WkVRV']\")\n",
    "    for i in brand_tags:\n",
    "        brand_titles.append(i.text)\n",
    "brand_titles[0:100]\n",
    "\n"
   ]
  },
  {
   "cell_type": "code",
   "execution_count": 186,
   "metadata": {},
   "outputs": [
    {
     "name": "stdout",
     "output_type": "stream",
     "text": [
      "120\n"
     ]
    }
   ],
   "source": [
    "print(len(brand_titles))"
   ]
  },
  {
   "cell_type": "markdown",
   "metadata": {},
   "source": [
    "Scrape Brand names "
   ]
  },
  {
   "cell_type": "code",
   "execution_count": 187,
   "metadata": {},
   "outputs": [
    {
     "data": {
      "text/plain": [
       "['Mirrored Wayfarer Sunglasses (51)',\n",
       " 'UV Protection Wayfarer, Sports, Shield, Rectangular, Re...',\n",
       " 'UV Protection Round Sunglasses (54)',\n",
       " 'UV Protection Wayfarer Sunglasses (Free Size)',\n",
       " 'Mirrored, UV Protection Wayfarer Sunglasses (Free Size)',\n",
       " 'UV Protection Rectangular Sunglasses (Free Size)',\n",
       " 'UV Protection Aviator Sunglasses (54)',\n",
       " 'Polarized, UV Protection Round Sunglasses (49)',\n",
       " 'Gradient, UV Protection Wayfarer Sunglasses (Free Size)',\n",
       " 'UV Protection, Polarized, Mirrored Round Sunglasses (Fr...',\n",
       " 'UV Protection Aviator Sunglasses (58)',\n",
       " 'Polarized, UV Protection Rectangular Sunglasses (59)',\n",
       " 'UV Protection Aviator Sunglasses (Free Size)',\n",
       " 'UV Protection Aviator Sunglasses (58)',\n",
       " 'Mirrored, UV Protection Wayfarer Sunglasses (Free Size)',\n",
       " 'UV Protection, Gradient Round Sunglasses (Free Size)',\n",
       " 'UV Protection Rectangular Sunglasses (Free Size)',\n",
       " 'UV Protection, Gradient Rectangular Sunglasses (Free Si...',\n",
       " 'UV Protection Wayfarer Sunglasses (Free Size)',\n",
       " 'UV Protection Wayfarer Sunglasses (32)',\n",
       " 'UV Protection, Polarized, Mirrored Rectangular Sunglass...',\n",
       " 'UV Protection Aviator Sunglasses (54)',\n",
       " 'UV Protection Round Sunglasses (54)',\n",
       " 'UV Protection Aviator Sunglasses (58)',\n",
       " 'UV Protection Aviator Sunglasses (57)',\n",
       " 'UV Protection Retro Square Sunglasses (Free Size)',\n",
       " 'UV Protection Aviator Sunglasses (54)',\n",
       " 'UV Protection Over-sized Sunglasses (65)',\n",
       " 'UV Protection Sports Sunglasses (Free Size)',\n",
       " 'UV Protection Retro Square Sunglasses (Free Size)',\n",
       " 'Mirrored Round Sunglasses (53)',\n",
       " 'Gradient, UV Protection Round Sunglasses (Free Size)',\n",
       " 'Mirrored, UV Protection, Gradient Round Sunglasses (55)',\n",
       " 'UV Protection, Riding Glasses, Others Aviator, Wayfarer...',\n",
       " 'UV Protection Wayfarer Sunglasses (Free Size)',\n",
       " 'UV Protection, Gradient, Night Vision Retro Square Sung...',\n",
       " 'UV Protection, Mirrored Retro Square Sunglasses (53)',\n",
       " 'UV Protection, Gradient Wayfarer Sunglasses (55)',\n",
       " 'Mirrored, UV Protection Wayfarer Sunglasses (Free Size)',\n",
       " 'Polarized, UV Protection Retro Square Sunglasses (53)',\n",
       " 'Mirrored Aviator Sunglasses (55)',\n",
       " 'UV Protection, Riding Glasses Rectangular Sunglasses (F...',\n",
       " 'UV Protection Aviator Sunglasses (58)',\n",
       " 'Mirrored Wayfarer Sunglasses (51)',\n",
       " 'UV Protection Wayfarer Sunglasses (53)',\n",
       " 'UV Protection Round Sunglasses (54)',\n",
       " 'UV Protection, Mirrored Round Sunglasses (54)',\n",
       " 'UV Protection Wayfarer, Sports, Shield, Rectangular, Re...',\n",
       " 'Gradient, UV Protection Wayfarer Sunglasses (Free Size)',\n",
       " 'UV Protection, Gradient Rectangular Sunglasses (Free Si...',\n",
       " 'Polarized, UV Protection Retro Square Sunglasses (53)',\n",
       " 'Polarized, UV Protection Round Sunglasses (49)',\n",
       " 'UV Protection, Others Round, Aviator Sunglasses (54)',\n",
       " 'UV Protection, Gradient Butterfly, Retro Square Sunglas...',\n",
       " 'UV Protection Wayfarer Sunglasses (56)',\n",
       " 'Polarized, UV Protection Rectangular Sunglasses (59)',\n",
       " 'UV Protection Wayfarer Sunglasses (Free Size)',\n",
       " 'UV Protection, Mirrored Retro Square Sunglasses (53)',\n",
       " 'Mirrored Aviator Sunglasses (53)',\n",
       " 'UV Protection, Gradient Round Sunglasses (Free Size)',\n",
       " 'UV Protection Wayfarer Sunglasses (56)',\n",
       " 'UV Protection Rectangular Sunglasses (58)',\n",
       " 'UV Protection Round Sunglasses (Free Size)',\n",
       " 'UV Protection Wayfarer Sunglasses (32)',\n",
       " 'UV Protection Aviator, Wayfarer Sunglasses (Free Size)',\n",
       " 'UV Protection Sports Sunglasses (Free Size)',\n",
       " 'UV Protection Wayfarer Sunglasses (Free Size)',\n",
       " 'UV Protection Aviator Sunglasses (58)',\n",
       " 'UV Protection Wayfarer Sunglasses (56)',\n",
       " 'UV Protection Retro Square Sunglasses (Free Size)',\n",
       " 'Mirrored Wayfarer Sunglasses (55)',\n",
       " 'UV Protection Over-sized Sunglasses (65)',\n",
       " 'UV Protection, Gradient Butterfly, Retro Square Sunglas...',\n",
       " 'UV Protection Wayfarer Sunglasses (55)',\n",
       " 'UV Protection Round Sunglasses (53)',\n",
       " 'UV Protection, Gradient, Night Vision Retro Square Sung...',\n",
       " 'UV Protection, Riding Glasses Wayfarer Sunglasses (56)',\n",
       " 'Mirrored, UV Protection, Riding Glasses, Others Wrap-ar...',\n",
       " 'UV Protection Aviator Sunglasses (Free Size)',\n",
       " 'Gradient, UV Protection Round Sunglasses (Free Size)',\n",
       " 'Polarized, UV Protection, Riding Glasses Wayfarer Sungl...',\n",
       " 'UV Protection Wayfarer Sunglasses (55)',\n",
       " 'UV Protection Aviator Sunglasses (58)',\n",
       " 'Mirrored Wayfarer Sunglasses (51)',\n",
       " 'UV Protection Wayfarer Sunglasses (32)',\n",
       " 'UV Protection, Gradient, Mirrored Aviator, Round, Wayfa...',\n",
       " 'UV Protection Round Sunglasses (55)',\n",
       " 'UV Protection Wayfarer, Sports, Shield, Rectangular, Re...',\n",
       " 'UV Protection Wayfarer Sunglasses (56)',\n",
       " 'Night Vision, Riding Glasses Wayfarer Sunglasses (53)',\n",
       " 'UV Protection Round Sunglasses (52)',\n",
       " 'Polarized, UV Protection Round Sunglasses (49)',\n",
       " 'UV Protection Retro Square Sunglasses (55)',\n",
       " 'UV Protection Wayfarer Sunglasses (54)',\n",
       " 'Mirrored, UV Protection Aviator Sunglasses (56)',\n",
       " 'UV Protection, Gradient Round Sunglasses (Free Size)',\n",
       " 'UV Protection Wayfarer Sunglasses (Free Size)',\n",
       " 'UV Protection Round Sunglasses (Free Size)',\n",
       " 'UV Protection Aviator Sunglasses (Free Size)',\n",
       " 'Gradient, UV Protection Round Sunglasses (Free Size)',\n",
       " 'UV Protection, Riding Glasses Rectangular, Retro Square...',\n",
       " 'Gradient Rectangular Sunglasses (56)',\n",
       " 'UV Protection Aviator Sunglasses (58)',\n",
       " 'UV Protection Over-sized Sunglasses (65)',\n",
       " 'Polarized Aviator Sunglasses (54)',\n",
       " 'UV Protection, Gradient, Mirrored, Riding Glasses Recta...',\n",
       " 'UV Protection Wrap-around Sunglasses (Free Size)',\n",
       " 'UV Protection, Gradient, Night Vision Retro Square Sung...',\n",
       " 'UV Protection Aviator Sunglasses (57)',\n",
       " 'Toughened Glass Lens, UV Protection Wayfarer, Rectangul...',\n",
       " 'UV Protection Aviator Sunglasses (55)',\n",
       " 'Polarized, UV Protection Retro Square Sunglasses (53)',\n",
       " 'Mirrored, UV Protection Wayfarer, Wayfarer, Wayfarer, W...',\n",
       " 'UV Protection, Gradient, Riding Glasses Aviator Sunglas...',\n",
       " 'UV Protection Retro Square Sunglasses (Free Size)',\n",
       " 'UV Protection, Gradient Round, Cat-eye Sunglasses (60)',\n",
       " 'UV Protection Retro Square Sunglasses (88)',\n",
       " 'UV Protection Round Sunglasses (50)',\n",
       " 'UV Protection Sports Sunglasses (62)',\n",
       " 'Polarized, UV Protection Rectangular Sunglasses (59)']"
      ]
     },
     "execution_count": 187,
     "metadata": {},
     "output_type": "execute_result"
    }
   ],
   "source": [
    "description_titles=[]\n",
    "for i in page_url[0:3]:\n",
    "    driver.get(i)\n",
    "    description_tags=driver.find_elements_by_xpath(\"//div[@class='_2B099V']//a[1]\")\n",
    "    for i in description_tags:\n",
    "        description_titles.append(i.text)\n",
    "description_titles"
   ]
  },
  {
   "cell_type": "markdown",
   "metadata": {},
   "source": [
    "Scrape the description"
   ]
  },
  {
   "cell_type": "code",
   "execution_count": null,
   "metadata": {},
   "outputs": [],
   "source": []
  },
  {
   "cell_type": "code",
   "execution_count": 190,
   "metadata": {},
   "outputs": [
    {
     "data": {
      "text/plain": [
       "['₹663',\n",
       " '₹197',\n",
       " '₹295',\n",
       " '₹758',\n",
       " '₹299',\n",
       " '₹513',\n",
       " '₹237',\n",
       " '₹664',\n",
       " '₹509',\n",
       " '₹331',\n",
       " '₹1,085',\n",
       " '₹399',\n",
       " '₹546',\n",
       " '₹1,010',\n",
       " '₹738',\n",
       " '₹399',\n",
       " '₹210',\n",
       " '₹404',\n",
       " '₹733',\n",
       " '₹699',\n",
       " '₹198',\n",
       " '₹237',\n",
       " '₹225',\n",
       " '₹339',\n",
       " '₹266',\n",
       " '₹379',\n",
       " '₹237',\n",
       " '₹426',\n",
       " '₹771',\n",
       " '₹499',\n",
       " '₹312',\n",
       " '₹255',\n",
       " '₹199',\n",
       " '₹214',\n",
       " '₹246',\n",
       " '₹1,007',\n",
       " '₹379',\n",
       " '₹217',\n",
       " '₹299',\n",
       " '₹498',\n",
       " '₹379',\n",
       " '₹426',\n",
       " '₹202',\n",
       " '₹663',\n",
       " '₹246',\n",
       " '₹331',\n",
       " '₹249',\n",
       " '₹197',\n",
       " '₹558',\n",
       " '₹474',\n",
       " '₹255',\n",
       " '₹664',\n",
       " '₹225',\n",
       " '₹545',\n",
       " '₹179',\n",
       " '₹399',\n",
       " '₹655',\n",
       " '₹379',\n",
       " '₹239',\n",
       " '₹399',\n",
       " '₹655',\n",
       " '₹474',\n",
       " '₹349',\n",
       " '₹699',\n",
       " '₹213',\n",
       " '₹303',\n",
       " '₹539',\n",
       " '₹426',\n",
       " '₹633',\n",
       " '₹399',\n",
       " '₹208',\n",
       " '₹498',\n",
       " '₹516',\n",
       " '₹257',\n",
       " '₹282',\n",
       " '₹664',\n",
       " '₹232',\n",
       " '₹331',\n",
       " '₹1,699',\n",
       " '₹1,007',\n",
       " '₹249',\n",
       " '₹265',\n",
       " '₹399',\n",
       " '₹663',\n",
       " '₹237',\n",
       " '₹246',\n",
       " '₹254',\n",
       " '₹197',\n",
       " '₹684',\n",
       " '₹196',\n",
       " '₹1,093',\n",
       " '₹664',\n",
       " '₹3,843',\n",
       " '₹199',\n",
       " '₹249',\n",
       " '₹664',\n",
       " '₹660',\n",
       " '₹349',\n",
       " '₹695',\n",
       " '₹399',\n",
       " '₹398',\n",
       " '₹540',\n",
       " '₹1,148',\n",
       " '₹699',\n",
       " '₹841',\n",
       " '₹299',\n",
       " '₹522',\n",
       " '₹426',\n",
       " '₹323',\n",
       " '₹821',\n",
       " '₹170',\n",
       " '₹255',\n",
       " '₹299',\n",
       " '₹410',\n",
       " '₹379',\n",
       " '₹1,007',\n",
       " '₹569',\n",
       " '₹399',\n",
       " '₹327',\n",
       " '₹498']"
      ]
     },
     "execution_count": 190,
     "metadata": {},
     "output_type": "execute_result"
    }
   ],
   "source": [
    "prise_titles=[]\n",
    "for i in page_url[0:3]:\n",
    "    driver.get(i)\n",
    "    prise_tags=driver.find_elements_by_xpath(\"//div[@class='_30jeq3']\")\n",
    "    for i in prise_tags:\n",
    "        prise_titles.append(i.text)\n",
    "prise_titles"
   ]
  },
  {
   "cell_type": "markdown",
   "metadata": {},
   "source": [
    "Scrape the prise"
   ]
  },
  {
   "cell_type": "code",
   "execution_count": 191,
   "metadata": {},
   "outputs": [
    {
     "data": {
      "text/plain": [
       "['73% off',\n",
       " '86% off',\n",
       " '88% off',\n",
       " '15% off',\n",
       " '88% off',\n",
       " '35% off',\n",
       " '85% off',\n",
       " '66% off',\n",
       " '36% off',\n",
       " '80% off',\n",
       " '16% off',\n",
       " '80% off',\n",
       " '31% off',\n",
       " '22% off',\n",
       " '26% off',\n",
       " '85% off',\n",
       " '82% off',\n",
       " '79% off',\n",
       " '18% off',\n",
       " '84% off',\n",
       " '88% off',\n",
       " '85% off',\n",
       " '79% off',\n",
       " '78% off',\n",
       " '86% off',\n",
       " '81% off',\n",
       " '85% off',\n",
       " '53% off',\n",
       " '14% off',\n",
       " '77% off',\n",
       " '87% off',\n",
       " '83% off',\n",
       " '86% off',\n",
       " '69% off',\n",
       " '83% off',\n",
       " '74% off',\n",
       " '81% off',\n",
       " '78% off',\n",
       " '88% off',\n",
       " '70% off',\n",
       " '74% off',\n",
       " '80% off',\n",
       " '74% off',\n",
       " '73% off',\n",
       " '75% off',\n",
       " '74% off',\n",
       " '79% off',\n",
       " '86% off',\n",
       " '30% off',\n",
       " '78% off',\n",
       " '74% off',\n",
       " '66% off',\n",
       " '77% off',\n",
       " '64% off',\n",
       " '80% off',\n",
       " '80% off',\n",
       " '18% off',\n",
       " '81% off',\n",
       " '76% off',\n",
       " '53% off',\n",
       " '27% off',\n",
       " '68% off',\n",
       " '78% off',\n",
       " '78% off',\n",
       " '82% off',\n",
       " '84% off',\n",
       " '32% off',\n",
       " '83% off',\n",
       " '29% off',\n",
       " '81% off',\n",
       " '79% off',\n",
       " '85% off',\n",
       " '66% off',\n",
       " '78% off',\n",
       " '87% off',\n",
       " '70% off',\n",
       " '76% off',\n",
       " '83% off',\n",
       " '15% off',\n",
       " '55% off',\n",
       " '58% off',\n",
       " '79% off',\n",
       " '84% off',\n",
       " '73% off',\n",
       " '85% off',\n",
       " '87% off',\n",
       " '87% off',\n",
       " '86% off',\n",
       " '73% off',\n",
       " '89% off',\n",
       " '15% off',\n",
       " '66% off',\n",
       " '30% off',\n",
       " '75% off',\n",
       " '80% off',\n",
       " '80% off',\n",
       " '17% off',\n",
       " '78% off',\n",
       " '13% off',\n",
       " '83% off',\n",
       " '73% off',\n",
       " '52% off',\n",
       " '11% off',\n",
       " '53% off',\n",
       " '57% off',\n",
       " '76% off',\n",
       " '41% off',\n",
       " '78% off',\n",
       " '83% off',\n",
       " '77% off',\n",
       " '82% off',\n",
       " '85% off',\n",
       " '80% off',\n",
       " '74% off',\n",
       " '81% off',\n",
       " '74% off',\n",
       " '71% off',\n",
       " '73% off',\n",
       " '73% off',\n",
       " '69% off']"
      ]
     },
     "execution_count": 191,
     "metadata": {},
     "output_type": "execute_result"
    }
   ],
   "source": [
    "discount_cost=[]\n",
    "for i in page_url[0:3]:\n",
    "    driver.get(i)\n",
    "    discount_tags=driver.find_elements_by_xpath(\"//div[@class='_3Ay6Sb']//span\")\n",
    "    for i in discount_tags:\n",
    "        discount_cost.append(i.text)\n",
    "discount_cost"
   ]
  },
  {
   "cell_type": "markdown",
   "metadata": {},
   "source": [
    "Scrape Discount information"
   ]
  },
  {
   "cell_type": "code",
   "execution_count": 192,
   "metadata": {
    "scrolled": true
   },
   "outputs": [
    {
     "name": "stdout",
     "output_type": "stream",
     "text": [
      "120 120 120 120\n"
     ]
    }
   ],
   "source": [
    "print(len(brand_titles),len(description_titles),len(prise_titles),len(discount_cost))"
   ]
  },
  {
   "cell_type": "code",
   "execution_count": 193,
   "metadata": {},
   "outputs": [],
   "source": [
    "jobs=pd.DataFrame({})\n",
    "jobs['brand_titles']=brand_titles\n",
    "jobs['prise_titles']=prise_titles\n",
    "jobs['discount_cost']=discount_cost\n",
    "jobs['description_titles']=description_titles"
   ]
  },
  {
   "cell_type": "code",
   "execution_count": 194,
   "metadata": {},
   "outputs": [
    {
     "data": {
      "text/html": [
       "<div>\n",
       "<style scoped>\n",
       "    .dataframe tbody tr th:only-of-type {\n",
       "        vertical-align: middle;\n",
       "    }\n",
       "\n",
       "    .dataframe tbody tr th {\n",
       "        vertical-align: top;\n",
       "    }\n",
       "\n",
       "    .dataframe thead th {\n",
       "        text-align: right;\n",
       "    }\n",
       "</style>\n",
       "<table border=\"1\" class=\"dataframe\">\n",
       "  <thead>\n",
       "    <tr style=\"text-align: right;\">\n",
       "      <th></th>\n",
       "      <th>brand_titles</th>\n",
       "      <th>prise_titles</th>\n",
       "      <th>discount_cost</th>\n",
       "      <th>description_titles</th>\n",
       "    </tr>\n",
       "  </thead>\n",
       "  <tbody>\n",
       "    <tr>\n",
       "      <th>0</th>\n",
       "      <td>Wrogn</td>\n",
       "      <td>₹663</td>\n",
       "      <td>73% off</td>\n",
       "      <td>Mirrored Wayfarer Sunglasses (51)</td>\n",
       "    </tr>\n",
       "    <tr>\n",
       "      <th>1</th>\n",
       "      <td>HAMIW COLLECTION</td>\n",
       "      <td>₹197</td>\n",
       "      <td>86% off</td>\n",
       "      <td>UV Protection Wayfarer, Sports, Shield, Rectan...</td>\n",
       "    </tr>\n",
       "    <tr>\n",
       "      <th>2</th>\n",
       "      <td>Elligator</td>\n",
       "      <td>₹295</td>\n",
       "      <td>88% off</td>\n",
       "      <td>UV Protection Round Sunglasses (54)</td>\n",
       "    </tr>\n",
       "    <tr>\n",
       "      <th>3</th>\n",
       "      <td>Fastrack</td>\n",
       "      <td>₹758</td>\n",
       "      <td>15% off</td>\n",
       "      <td>UV Protection Wayfarer Sunglasses (Free Size)</td>\n",
       "    </tr>\n",
       "    <tr>\n",
       "      <th>4</th>\n",
       "      <td>kingsunglasses</td>\n",
       "      <td>₹299</td>\n",
       "      <td>88% off</td>\n",
       "      <td>Mirrored, UV Protection Wayfarer Sunglasses (F...</td>\n",
       "    </tr>\n",
       "    <tr>\n",
       "      <th>...</th>\n",
       "      <td>...</td>\n",
       "      <td>...</td>\n",
       "      <td>...</td>\n",
       "      <td>...</td>\n",
       "    </tr>\n",
       "    <tr>\n",
       "      <th>115</th>\n",
       "      <td>Wrogn</td>\n",
       "      <td>₹1,007</td>\n",
       "      <td>74% off</td>\n",
       "      <td>UV Protection, Gradient Round, Cat-eye Sunglas...</td>\n",
       "    </tr>\n",
       "    <tr>\n",
       "      <th>116</th>\n",
       "      <td>ROYAL SON</td>\n",
       "      <td>₹569</td>\n",
       "      <td>71% off</td>\n",
       "      <td>UV Protection Retro Square Sunglasses (88)</td>\n",
       "    </tr>\n",
       "    <tr>\n",
       "      <th>117</th>\n",
       "      <td>ROYAL SON</td>\n",
       "      <td>₹399</td>\n",
       "      <td>73% off</td>\n",
       "      <td>UV Protection Round Sunglasses (50)</td>\n",
       "    </tr>\n",
       "    <tr>\n",
       "      <th>118</th>\n",
       "      <td>NuVew</td>\n",
       "      <td>₹327</td>\n",
       "      <td>73% off</td>\n",
       "      <td>UV Protection Sports Sunglasses (62)</td>\n",
       "    </tr>\n",
       "    <tr>\n",
       "      <th>119</th>\n",
       "      <td>AISLIN</td>\n",
       "      <td>₹498</td>\n",
       "      <td>69% off</td>\n",
       "      <td>Polarized, UV Protection Rectangular Sunglasse...</td>\n",
       "    </tr>\n",
       "  </tbody>\n",
       "</table>\n",
       "<p>120 rows × 4 columns</p>\n",
       "</div>"
      ],
      "text/plain": [
       "         brand_titles prise_titles discount_cost  \\\n",
       "0               Wrogn         ₹663       73% off   \n",
       "1    HAMIW COLLECTION         ₹197       86% off   \n",
       "2           Elligator         ₹295       88% off   \n",
       "3            Fastrack         ₹758       15% off   \n",
       "4      kingsunglasses         ₹299       88% off   \n",
       "..                ...          ...           ...   \n",
       "115             Wrogn       ₹1,007       74% off   \n",
       "116         ROYAL SON         ₹569       71% off   \n",
       "117         ROYAL SON         ₹399       73% off   \n",
       "118             NuVew         ₹327       73% off   \n",
       "119            AISLIN         ₹498       69% off   \n",
       "\n",
       "                                    description_titles  \n",
       "0                    Mirrored Wayfarer Sunglasses (51)  \n",
       "1    UV Protection Wayfarer, Sports, Shield, Rectan...  \n",
       "2                  UV Protection Round Sunglasses (54)  \n",
       "3        UV Protection Wayfarer Sunglasses (Free Size)  \n",
       "4    Mirrored, UV Protection Wayfarer Sunglasses (F...  \n",
       "..                                                 ...  \n",
       "115  UV Protection, Gradient Round, Cat-eye Sunglas...  \n",
       "116         UV Protection Retro Square Sunglasses (88)  \n",
       "117                UV Protection Round Sunglasses (50)  \n",
       "118               UV Protection Sports Sunglasses (62)  \n",
       "119  Polarized, UV Protection Rectangular Sunglasse...  \n",
       "\n",
       "[120 rows x 4 columns]"
      ]
     },
     "execution_count": 194,
     "metadata": {},
     "output_type": "execute_result"
    }
   ],
   "source": [
    "jobs"
   ]
  },
  {
   "cell_type": "markdown",
   "metadata": {},
   "source": [
    "Create Dataframe of the data"
   ]
  },
  {
   "cell_type": "markdown",
   "metadata": {},
   "source": []
  },
  {
   "cell_type": "markdown",
   "metadata": {},
   "source": [
    "Q7: Scrape 100 reviews data from flipkart.com for iphone11 phone. You have to \n",
    "go the link: https://www.flipkart.com/apple-iphone-11-black-64-gb-includes\u0002earpods-power\u0002adapter/p/itm0f37c2240b217?pid=MOBFKCTSVZAXUHGR&lid=LSTMOBFKC\n",
    "TSVZAXUHGREPBFGI&marketplace."
   ]
  },
  {
   "cell_type": "code",
   "execution_count": 208,
   "metadata": {},
   "outputs": [],
   "source": [
    "driver = webdriver.Chrome(r\"C:\\Users\\Ankita\\Downloads\\chromedriver_win32\\chromedriver.exe\")"
   ]
  },
  {
   "cell_type": "markdown",
   "metadata": {},
   "source": [
    "Chrome Driver path"
   ]
  },
  {
   "cell_type": "code",
   "execution_count": 209,
   "metadata": {},
   "outputs": [],
   "source": [
    "url = 'https://www.flipkart.com/apple-iphone-11-black-64-gb-includes\u0002earpods-power\u0002adapter/p/itm0f37c2240b217?pid=MOBFKCTSVZAXUHGR&lid=LSTMOBFKCTSVZAXUHGREPBFGI&marketplace'\n",
    "driver.get(url)"
   ]
  },
  {
   "cell_type": "markdown",
   "metadata": {},
   "source": [
    "Enter apple iphone 11 on flipkart URL"
   ]
  },
  {
   "cell_type": "code",
   "execution_count": 210,
   "metadata": {
    "scrolled": true
   },
   "outputs": [
    {
     "data": {
      "text/plain": [
       "[<selenium.webdriver.remote.webelement.WebElement (session=\"e873867186635f2d30185039692162f8\", element=\"379a1ebf-af2e-4c67-af20-dabee39a9d8d\")>,\n",
       " <selenium.webdriver.remote.webelement.WebElement (session=\"e873867186635f2d30185039692162f8\", element=\"1545bd0c-3a4e-486e-b9e6-8ac462f3133d\")>,\n",
       " <selenium.webdriver.remote.webelement.WebElement (session=\"e873867186635f2d30185039692162f8\", element=\"f09d0b21-17db-4f9b-addc-ef9b180bba69\")>,\n",
       " <selenium.webdriver.remote.webelement.WebElement (session=\"e873867186635f2d30185039692162f8\", element=\"14e25c4a-ee37-4b24-b03c-128870749a1c\")>,\n",
       " <selenium.webdriver.remote.webelement.WebElement (session=\"e873867186635f2d30185039692162f8\", element=\"b2b5b9ee-f566-4dcd-b560-f2c61834a8e4\")>,\n",
       " <selenium.webdriver.remote.webelement.WebElement (session=\"e873867186635f2d30185039692162f8\", element=\"c19b2192-3653-40a1-bc39-65cf85029e2d\")>,\n",
       " <selenium.webdriver.remote.webelement.WebElement (session=\"e873867186635f2d30185039692162f8\", element=\"f18a32c3-ebaf-4da8-99d6-304b63da0e5c\")>,\n",
       " <selenium.webdriver.remote.webelement.WebElement (session=\"e873867186635f2d30185039692162f8\", element=\"ccaeb742-cc8b-44f9-af1e-5f01fecf45cd\")>,\n",
       " <selenium.webdriver.remote.webelement.WebElement (session=\"e873867186635f2d30185039692162f8\", element=\"b058f7aa-b8e2-495e-8b2c-1e8ae4ad75f7\")>,\n",
       " <selenium.webdriver.remote.webelement.WebElement (session=\"e873867186635f2d30185039692162f8\", element=\"361ef406-7707-400a-9ae8-647ee9a234ea\")>]"
      ]
     },
     "execution_count": 210,
     "metadata": {},
     "output_type": "execute_result"
    }
   ],
   "source": [
    "\n",
    "rating_tags=driver.find_elements_by_xpath(\"//div[@class='_3LWZlK _1BLPMq']\")\n",
    "rating_tags"
   ]
  },
  {
   "cell_type": "code",
   "execution_count": 211,
   "metadata": {},
   "outputs": [
    {
     "data": {
      "text/plain": [
       "['5', '5', '5', '', '', '', '', '', '', '']"
      ]
     },
     "execution_count": 211,
     "metadata": {},
     "output_type": "execute_result"
    }
   ],
   "source": [
    "rating_titles=[]\n",
    "for i in rating_tags:\n",
    "    rating_titles.append(i.text)\n",
    "rating_titles"
   ]
  },
  {
   "cell_type": "markdown",
   "metadata": {},
   "source": [
    "Scrape rating information"
   ]
  },
  {
   "cell_type": "code",
   "execution_count": 212,
   "metadata": {},
   "outputs": [
    {
     "data": {
      "text/plain": [
       "[<selenium.webdriver.remote.webelement.WebElement (session=\"e873867186635f2d30185039692162f8\", element=\"1a1294b0-7c14-4e62-b38a-7106c8e6e415\")>,\n",
       " <selenium.webdriver.remote.webelement.WebElement (session=\"e873867186635f2d30185039692162f8\", element=\"941a4df9-2c6f-4976-93bd-a295adb12860\")>,\n",
       " <selenium.webdriver.remote.webelement.WebElement (session=\"e873867186635f2d30185039692162f8\", element=\"97662307-f157-4e7e-ba3f-a908503e51ef\")>,\n",
       " <selenium.webdriver.remote.webelement.WebElement (session=\"e873867186635f2d30185039692162f8\", element=\"2e479b3e-219c-4ce5-a0f3-aef908ee6047\")>,\n",
       " <selenium.webdriver.remote.webelement.WebElement (session=\"e873867186635f2d30185039692162f8\", element=\"0cad8878-8f59-478a-8f3b-9b4d2e55130d\")>,\n",
       " <selenium.webdriver.remote.webelement.WebElement (session=\"e873867186635f2d30185039692162f8\", element=\"61d1954f-97f2-4c20-bfa8-aff5be4d33ef\")>,\n",
       " <selenium.webdriver.remote.webelement.WebElement (session=\"e873867186635f2d30185039692162f8\", element=\"9f28b639-37a4-4698-8cef-6ba861d57e3c\")>,\n",
       " <selenium.webdriver.remote.webelement.WebElement (session=\"e873867186635f2d30185039692162f8\", element=\"acd74e79-c5f7-4228-b681-ef37312260c4\")>,\n",
       " <selenium.webdriver.remote.webelement.WebElement (session=\"e873867186635f2d30185039692162f8\", element=\"54b83aae-d90d-4070-be1b-9e6da21d5abe\")>,\n",
       " <selenium.webdriver.remote.webelement.WebElement (session=\"e873867186635f2d30185039692162f8\", element=\"8449b0c1-d0af-4e77-a1a8-33c1f817d69d\")>]"
      ]
     },
     "execution_count": 212,
     "metadata": {},
     "output_type": "execute_result"
    }
   ],
   "source": [
    "rewiew_tags=driver.find_elements_by_xpath(\"//p[@class='_2-N8zT']\")\n",
    "rewiew_tags"
   ]
  },
  {
   "cell_type": "code",
   "execution_count": 213,
   "metadata": {},
   "outputs": [
    {
     "data": {
      "text/plain": [
       "['Brilliant', 'Simply awesome', 'Perfect product!', '', '', '', '', '', '', '']"
      ]
     },
     "execution_count": 213,
     "metadata": {},
     "output_type": "execute_result"
    }
   ],
   "source": [
    "review_titles=[]\n",
    "for i in rewiew_tags:\n",
    "    review_titles.append(i.text)\n",
    "review_titles"
   ]
  },
  {
   "cell_type": "markdown",
   "metadata": {},
   "source": [
    "Scrape review information"
   ]
  },
  {
   "cell_type": "code",
   "execution_count": 214,
   "metadata": {},
   "outputs": [
    {
     "data": {
      "text/plain": [
       "[<selenium.webdriver.remote.webelement.WebElement (session=\"e873867186635f2d30185039692162f8\", element=\"fdecc63d-5462-4272-b0f2-d3b1e89724a2\")>,\n",
       " <selenium.webdriver.remote.webelement.WebElement (session=\"e873867186635f2d30185039692162f8\", element=\"d8fc33d5-28b0-45b4-afb6-27241498cc9f\")>,\n",
       " <selenium.webdriver.remote.webelement.WebElement (session=\"e873867186635f2d30185039692162f8\", element=\"b06d970b-6925-4915-b789-23c396d2f138\")>,\n",
       " <selenium.webdriver.remote.webelement.WebElement (session=\"e873867186635f2d30185039692162f8\", element=\"25ce23c9-0fa8-4cef-8517-7e709e08f776\")>,\n",
       " <selenium.webdriver.remote.webelement.WebElement (session=\"e873867186635f2d30185039692162f8\", element=\"b200afbe-1bae-43b0-bf4f-bd931dfecc1b\")>,\n",
       " <selenium.webdriver.remote.webelement.WebElement (session=\"e873867186635f2d30185039692162f8\", element=\"80fcd6cf-e0b2-4d08-a095-e0fcbccc0ee5\")>,\n",
       " <selenium.webdriver.remote.webelement.WebElement (session=\"e873867186635f2d30185039692162f8\", element=\"c443bfa2-171b-45a8-b661-6df2e41f8893\")>,\n",
       " <selenium.webdriver.remote.webelement.WebElement (session=\"e873867186635f2d30185039692162f8\", element=\"cda5d32f-6825-4d80-a812-84861ea84024\")>,\n",
       " <selenium.webdriver.remote.webelement.WebElement (session=\"e873867186635f2d30185039692162f8\", element=\"1ed4facf-cd35-45b6-9515-ed5545d7b9e1\")>,\n",
       " <selenium.webdriver.remote.webelement.WebElement (session=\"e873867186635f2d30185039692162f8\", element=\"3a88040b-0c17-462e-897b-6173ef3d5f4e\")>]"
      ]
     },
     "execution_count": 214,
     "metadata": {},
     "output_type": "execute_result"
    }
   ],
   "source": [
    "fullrewiew_tags=driver.find_elements_by_xpath(\"//div[@class='t-ZTKy']\")\n",
    "fullrewiew_tags"
   ]
  },
  {
   "cell_type": "code",
   "execution_count": 215,
   "metadata": {},
   "outputs": [
    {
     "data": {
      "text/plain": [
       "['The Best Phone for the Money\\n\\nThe iPhone 11 offers superb cameras, a more durable design and excellent battery life for an affordable price.\\n\\nCompelling ultra-wide camera\\nNew Night mode is excellent\\nLong battery life',\n",
       " 'Really satisfied with the Product I received... It’s totally genuine and the packaging was also really good so if ur planning to buy just go for it.',\n",
       " 'Amazing phone with great cameras and better battery which gives you the best performance. I just love the camera .',\n",
       " '',\n",
       " '',\n",
       " '',\n",
       " '',\n",
       " '',\n",
       " '',\n",
       " '']"
      ]
     },
     "execution_count": 215,
     "metadata": {},
     "output_type": "execute_result"
    }
   ],
   "source": [
    "fullreview_titles=[]\n",
    "for i in fullrewiew_tags:\n",
    "    fullreview_titles.append(i.text)\n",
    "fullreview_titles"
   ]
  },
  {
   "cell_type": "markdown",
   "metadata": {},
   "source": [
    "Scrape full review information"
   ]
  },
  {
   "cell_type": "code",
   "execution_count": null,
   "metadata": {},
   "outputs": [],
   "source": []
  },
  {
   "cell_type": "code",
   "execution_count": 216,
   "metadata": {
    "scrolled": true
   },
   "outputs": [
    {
     "name": "stdout",
     "output_type": "stream",
     "text": [
      "10 10 10\n"
     ]
    }
   ],
   "source": [
    "print(len(rating_titles),len(review_titles),len(fullreview_titles))"
   ]
  },
  {
   "cell_type": "code",
   "execution_count": 219,
   "metadata": {},
   "outputs": [
    {
     "data": {
      "text/plain": [
       "[<selenium.webdriver.remote.webelement.WebElement (session=\"e873867186635f2d30185039692162f8\", element=\"2f3cdbd3-8c95-4b91-a961-a2d2953c6942\")>,\n",
       " <selenium.webdriver.remote.webelement.WebElement (session=\"e873867186635f2d30185039692162f8\", element=\"01801677-8ef0-4a23-9b85-f1bb8ec3afaa\")>,\n",
       " <selenium.webdriver.remote.webelement.WebElement (session=\"e873867186635f2d30185039692162f8\", element=\"2e9449c1-2aa5-4acf-9b10-f2fee52a933c\")>,\n",
       " <selenium.webdriver.remote.webelement.WebElement (session=\"e873867186635f2d30185039692162f8\", element=\"8a08a693-4f33-4233-a2e6-ef7ed2f7d7ba\")>,\n",
       " <selenium.webdriver.remote.webelement.WebElement (session=\"e873867186635f2d30185039692162f8\", element=\"27659deb-aba5-4554-b60f-bd1420482b9b\")>,\n",
       " <selenium.webdriver.remote.webelement.WebElement (session=\"e873867186635f2d30185039692162f8\", element=\"f16be8c6-6541-42c1-be13-7180635ee959\")>,\n",
       " <selenium.webdriver.remote.webelement.WebElement (session=\"e873867186635f2d30185039692162f8\", element=\"52d56c9f-a9c9-4eaa-b78c-75562c583950\")>,\n",
       " <selenium.webdriver.remote.webelement.WebElement (session=\"e873867186635f2d30185039692162f8\", element=\"d0981985-2d6f-4167-b5cd-8f148a95bbce\")>,\n",
       " <selenium.webdriver.remote.webelement.WebElement (session=\"e873867186635f2d30185039692162f8\", element=\"118618a8-7aab-45df-8976-7d7a236b33c6\")>,\n",
       " <selenium.webdriver.remote.webelement.WebElement (session=\"e873867186635f2d30185039692162f8\", element=\"fa241912-1f6e-43e6-b5e0-ae4e5463f10c\")>,\n",
       " <selenium.webdriver.remote.webelement.WebElement (session=\"e873867186635f2d30185039692162f8\", element=\"fe354b89-8f6f-44a1-8580-715d8cba70c9\")>]"
      ]
     },
     "execution_count": 219,
     "metadata": {},
     "output_type": "execute_result"
    }
   ],
   "source": [
    "url=driver.find_elements_by_xpath(\"//nav[@class='yFHi8N']//a\")\n",
    "url"
   ]
  },
  {
   "cell_type": "markdown",
   "metadata": {},
   "source": [
    "Scarpe multiple URL on multiple pages"
   ]
  },
  {
   "cell_type": "code",
   "execution_count": 225,
   "metadata": {},
   "outputs": [
    {
     "data": {
      "text/plain": [
       "['https://www.flipkart.com/apple-iphone-11-black-64-gb-includes-earpods-power-adapter/product-reviews/itm0f37c2240b217?pid=MOBFKCTSVZAXUHGR&lid=LSTMOBFKCTSVZAXUHGREPBFGI&marketplace=FLIPKART&page=1',\n",
       " 'https://www.flipkart.com/apple-iphone-11-black-64-gb-includes-earpods-power-adapter/product-reviews/itm0f37c2240b217?pid=MOBFKCTSVZAXUHGR&lid=LSTMOBFKCTSVZAXUHGREPBFGI&marketplace=FLIPKART&page=1',\n",
       " 'https://www.flipkart.com/apple-iphone-11-black-64-gb-includes-earpods-power-adapter/product-reviews/itm0f37c2240b217?pid=MOBFKCTSVZAXUHGR&lid=LSTMOBFKCTSVZAXUHGREPBFGI&marketplace=FLIPKART&page=2',\n",
       " 'https://www.flipkart.com/apple-iphone-11-black-64-gb-includes-earpods-power-adapter/product-reviews/itm0f37c2240b217?pid=MOBFKCTSVZAXUHGR&lid=LSTMOBFKCTSVZAXUHGREPBFGI&marketplace=FLIPKART&page=3',\n",
       " 'https://www.flipkart.com/apple-iphone-11-black-64-gb-includes-earpods-power-adapter/product-reviews/itm0f37c2240b217?pid=MOBFKCTSVZAXUHGR&lid=LSTMOBFKCTSVZAXUHGREPBFGI&marketplace=FLIPKART&page=4',\n",
       " 'https://www.flipkart.com/apple-iphone-11-black-64-gb-includes-earpods-power-adapter/product-reviews/itm0f37c2240b217?pid=MOBFKCTSVZAXUHGR&lid=LSTMOBFKCTSVZAXUHGREPBFGI&marketplace=FLIPKART&page=5',\n",
       " 'https://www.flipkart.com/apple-iphone-11-black-64-gb-includes-earpods-power-adapter/product-reviews/itm0f37c2240b217?pid=MOBFKCTSVZAXUHGR&lid=LSTMOBFKCTSVZAXUHGREPBFGI&marketplace=FLIPKART&page=6',\n",
       " 'https://www.flipkart.com/apple-iphone-11-black-64-gb-includes-earpods-power-adapter/product-reviews/itm0f37c2240b217?pid=MOBFKCTSVZAXUHGR&lid=LSTMOBFKCTSVZAXUHGREPBFGI&marketplace=FLIPKART&page=7',\n",
       " 'https://www.flipkart.com/apple-iphone-11-black-64-gb-includes-earpods-power-adapter/product-reviews/itm0f37c2240b217?pid=MOBFKCTSVZAXUHGR&lid=LSTMOBFKCTSVZAXUHGREPBFGI&marketplace=FLIPKART&page=8',\n",
       " 'https://www.flipkart.com/apple-iphone-11-black-64-gb-includes-earpods-power-adapter/product-reviews/itm0f37c2240b217?pid=MOBFKCTSVZAXUHGR&lid=LSTMOBFKCTSVZAXUHGREPBFGI&marketplace=FLIPKART&page=9',\n",
       " 'https://www.flipkart.com/apple-iphone-11-black-64-gb-includes-earpods-power-adapter/product-reviews/itm0f37c2240b217?pid=MOBFKCTSVZAXUHGR&lid=LSTMOBFKCTSVZAXUHGREPBFGI&marketplace=FLIPKART&page=10',\n",
       " 'https://www.flipkart.com/apple-iphone-11-black-64-gb-includes-earpods-power-adapter/product-reviews/itm0f37c2240b217?pid=MOBFKCTSVZAXUHGR&lid=LSTMOBFKCTSVZAXUHGREPBFGI&marketplace=FLIPKART&page=3']"
      ]
     },
     "execution_count": 225,
     "metadata": {},
     "output_type": "execute_result"
    }
   ],
   "source": [
    "page_url = []\n",
    "url = driver.find_elements_by_xpath(\"//nav[@class='yFHi8N']//a\")\n",
    "for i in url:\n",
    "    page_url.append(i.get_attribute(\"href\"))\n",
    "page_url"
   ]
  },
  {
   "cell_type": "markdown",
   "metadata": {},
   "source": [
    "Scrape multiple URL from multiple pages"
   ]
  },
  {
   "cell_type": "code",
   "execution_count": 244,
   "metadata": {},
   "outputs": [
    {
     "data": {
      "text/plain": [
       "['5',\n",
       " '5',\n",
       " '5',\n",
       " '5',\n",
       " '5',\n",
       " '5',\n",
       " '4',\n",
       " '5',\n",
       " '5',\n",
       " '5',\n",
       " '5',\n",
       " '5',\n",
       " '5',\n",
       " '5',\n",
       " '5',\n",
       " '5',\n",
       " '4',\n",
       " '5',\n",
       " '5',\n",
       " '5',\n",
       " '5',\n",
       " '5',\n",
       " '5',\n",
       " '5',\n",
       " '5',\n",
       " '5',\n",
       " '5',\n",
       " '5',\n",
       " '5',\n",
       " '5',\n",
       " '4',\n",
       " '5',\n",
       " '5',\n",
       " '5',\n",
       " '5',\n",
       " '4',\n",
       " '5',\n",
       " '5',\n",
       " '5',\n",
       " '5',\n",
       " '5',\n",
       " '5',\n",
       " '5',\n",
       " '5',\n",
       " '5',\n",
       " '4',\n",
       " '5',\n",
       " '5',\n",
       " '5',\n",
       " '5',\n",
       " '5',\n",
       " '5',\n",
       " '5',\n",
       " '5',\n",
       " '4',\n",
       " '5',\n",
       " '5',\n",
       " '5',\n",
       " '5',\n",
       " '5',\n",
       " '5',\n",
       " '5',\n",
       " '5',\n",
       " '5',\n",
       " '5',\n",
       " '5',\n",
       " '5',\n",
       " '5',\n",
       " '5',\n",
       " '5',\n",
       " '5',\n",
       " '5',\n",
       " '4',\n",
       " '5',\n",
       " '5',\n",
       " '4',\n",
       " '5',\n",
       " '5',\n",
       " '4',\n",
       " '5',\n",
       " '5',\n",
       " '5',\n",
       " '5',\n",
       " '5',\n",
       " '5',\n",
       " '5',\n",
       " '5',\n",
       " '5',\n",
       " '5',\n",
       " '4',\n",
       " '4',\n",
       " '5',\n",
       " '3',\n",
       " '5',\n",
       " '5',\n",
       " '5',\n",
       " '5',\n",
       " '5']"
      ]
     },
     "execution_count": 244,
     "metadata": {},
     "output_type": "execute_result"
    }
   ],
   "source": [
    "rating_titles=[]\n",
    "for i in page_url[0:10]:\n",
    "    driver.get(i)\n",
    "    rating_tags=driver.find_elements_by_xpath(\"//div[@class='_3LWZlK _1BLPMq']\")\n",
    "    for i in rating_tags:\n",
    "        rating_titles.append(i.text)\n",
    "rating_titles\n"
   ]
  },
  {
   "cell_type": "code",
   "execution_count": 245,
   "metadata": {},
   "outputs": [
    {
     "name": "stdout",
     "output_type": "stream",
     "text": [
      "98\n"
     ]
    }
   ],
   "source": [
    "print(len(rating_titles))"
   ]
  },
  {
   "cell_type": "markdown",
   "metadata": {},
   "source": [
    "Scrape Rating information"
   ]
  },
  {
   "cell_type": "code",
   "execution_count": 703,
   "metadata": {},
   "outputs": [
    {
     "data": {
      "text/plain": [
       "['Simply awesome',\n",
       " 'Brilliant',\n",
       " 'Perfect product!',\n",
       " 'Fabulous!',\n",
       " 'Worth every penny',\n",
       " 'Great product',\n",
       " 'Worth every penny',\n",
       " 'Good choice',\n",
       " 'Highly recommended',\n",
       " 'Perfect product!',\n",
       " 'Perfect product!',\n",
       " 'Perfect product!',\n",
       " 'Highly recommended',\n",
       " 'Classy product',\n",
       " 'Worth every penny',\n",
       " 'Perfect product!',\n",
       " 'Highly recommended',\n",
       " 'Simply awesome',\n",
       " 'Worth every penny',\n",
       " 'Terrific',\n",
       " 'Nice product',\n",
       " 'Wonderful',\n",
       " 'Classy product',\n",
       " 'Brilliant',\n",
       " 'Must buy!',\n",
       " 'Good choice',\n",
       " 'Perfect product!',\n",
       " 'Wonderful',\n",
       " 'Terrific purchase',\n",
       " 'Great product',\n",
       " 'Simply awesome',\n",
       " 'Mind-blowing purchase',\n",
       " 'Terrific purchase',\n",
       " 'Simply awesome',\n",
       " 'Good quality product',\n",
       " 'Very poor',\n",
       " 'Perfect product!',\n",
       " 'Must buy!',\n",
       " 'Fabulous!',\n",
       " 'Mind-blowing purchase',\n",
       " 'Mind-blowing purchase',\n",
       " 'Wonderful',\n",
       " 'Worth every penny',\n",
       " 'Great product',\n",
       " 'Very Good',\n",
       " 'Perfect product!',\n",
       " 'Classy product',\n",
       " 'Perfect product!',\n",
       " 'Just wow!',\n",
       " 'Awesome',\n",
       " 'Terrific',\n",
       " 'Terrific purchase',\n",
       " 'Awesome',\n",
       " 'Classy product',\n",
       " 'Brilliant',\n",
       " 'Terrific',\n",
       " 'Perfect product!',\n",
       " 'Awesome',\n",
       " 'Perfect product!',\n",
       " 'Excellent',\n",
       " 'Very poor',\n",
       " 'Fabulous!',\n",
       " 'Excellent',\n",
       " 'Must buy!',\n",
       " 'Value-for-money',\n",
       " 'Brilliant',\n",
       " 'Terrific purchase',\n",
       " 'Good quality product',\n",
       " 'Perfect product!',\n",
       " 'Value-for-money',\n",
       " 'Just wow!',\n",
       " 'Super!',\n",
       " 'Awesome',\n",
       " 'Best in the market!',\n",
       " 'Highly recommended',\n",
       " 'Classy product',\n",
       " 'Mind-blowing purchase',\n",
       " 'Must buy!',\n",
       " 'Excellent',\n",
       " 'Excellent',\n",
       " 'Pretty good',\n",
       " 'Mind-blowing purchase',\n",
       " 'Does the job',\n",
       " 'Wonderful',\n",
       " 'Terrific',\n",
       " 'Worth every penny',\n",
       " 'Worth every penny',\n",
       " 'Nice product',\n",
       " 'Fabulous!',\n",
       " 'Classy product',\n",
       " 'Awesome',\n",
       " 'Terrific purchase',\n",
       " 'Awesome',\n",
       " 'Decent product',\n",
       " 'Super!',\n",
       " 'Fabulous!',\n",
       " 'Just wow!',\n",
       " 'Mind-blowing purchase',\n",
       " 'Excellent',\n",
       " 'Excellent']"
      ]
     },
     "execution_count": 703,
     "metadata": {},
     "output_type": "execute_result"
    }
   ],
   "source": [
    "review_titles=[]\n",
    "for i in page_url[0:10]:\n",
    "    driver.get(i)\n",
    "    rewiew_tags=driver.find_elements_by_xpath(\"//p[@class='_2-N8zT']\")\n",
    "    for i in rewiew_tags:\n",
    "        review_titles.append(i.text)\n",
    "review_titles"
   ]
  },
  {
   "cell_type": "markdown",
   "metadata": {},
   "source": [
    "Scrape review information"
   ]
  },
  {
   "cell_type": "code",
   "execution_count": 705,
   "metadata": {},
   "outputs": [
    {
     "data": {
      "text/plain": [
       "['Really satisfied with the Product I received... It’s totally genuine and the packaging was also really good so if ur planning to buy just go for it.',\n",
       " 'The Best Phone for the Money\\n\\nThe iPhone 11 offers superb cameras, a more durable design and excellent battery life for an affordable price.\\n\\nCompelling ultra-wide camera\\nNew Night mode is excellent\\nLong battery life',\n",
       " 'Amazing phone with great cameras and better battery which gives you the best performance. I just love the camera .',\n",
       " 'This is my first iOS phone. I am very happy with this product. Very much satisfied with this. I love this phone.',\n",
       " 'Previously I was using one plus 3t it was a great phone\\nAnd then I decided to upgrade I am stuck between Samsung s10 plus or iPhone 11\\nI have seen the specs and everything were good except the display it’s somewhere between 720-1080 and it’s not even an amoled it’s an LCD display\\nBut I decided to go with iPhone because I have never used an IOS device I have Been an android user from the past 9 years I ordered IPhone 11 (128gb) product red\\nMy experience after using 3 weeks\\n1. The delivery ...\\nREAD MORE',\n",
       " 'Amazing Powerful and Durable Gadget.\\n\\nI’m am very happy with the camera picture quality, Amazing face id unlocked in dark room, Strong battery with perfect screen size as you can carry easily in pocket. This is my third iPhone.\\n\\nI shifted from android Samsung Note series to iPhone because of the strong build quality and peace of mind for next 3-4 years.\\n\\nDon’t think to much just go for it and I suggest you to go for minimum 128gb variant or more 256gb.\\n\\nI’ve attached my puppy pics and no fi...\\nREAD MORE',\n",
       " 'i11 is worthy to buy, too much happy with the product. Thank u flipkart I received the item on time..loved it..',\n",
       " 'So far it’s been an AMAZING experience coming back to iOS after nearly a decade but it’s not as versatile as android though phone is sturdy dropped it accidentally a couple of times and nothing happened fortunately camera is awesome',\n",
       " 'iphone 11 is a very good phone to buy only if you can compromise for the display. The display on this is device is pretty good but you can get other options with better displays in this price segment.\\nIf you can survive with an HD+ LCD panel with thicker bezels and a notch up top then this is a very good phone for you.\\nCameras are awesome, battery backup excellent, great performance and a decent premium look. Good job Apple !',\n",
       " 'It’s a must buy who is looking for an upgrade from previous generation of iPhones. If you are using XR then still you can hold on for sometime and upgrade to 2020 model else this phone is a must buy . Camera quality is amazing and wide angle is something to count upon. Performance wise it’s amazing and feels premium while holding in hand. So a big YES for this device. Go for 128 GB variant as the 4K videos will occupy lots of space and the storage can get over very quickly. Try to buy it with...\\nREAD MORE',\n",
       " 'It’s a must buy who is looking for an upgrade from previous generation of iPhones. If you are using XR then still you can hold on for sometime and upgrade to 2020 model else this phone is a must buy . Camera quality is amazing and wide angle is something to count upon. Performance wise it’s amazing and feels premium while holding in hand. So a big YES for this device. Go for 128 GB variant as the 4K videos will occupy lots of space and the storage can get over very quickly. Try to buy it with...\\nREAD MORE',\n",
       " 'Value for money❤️❤️\\nIts awesome mobile phone in the world ...\\nDisplay was very good and bright ..\\nTrust me freinds you r never regret after Buying..\\nJust go for it....\\nI love this phone and i switch to iphone x to 11',\n",
       " 'What a camera .....just awesome ..you can feel this iPhone just awesome . Good for gaming also ...try pubg in hd it’s just wow',\n",
       " 'Totally in love with this ❤ the camera quality is amazing just love it 😘😘😘 itsss dammnnnnnn amazing... Must buy iPhone 11 this is my best experience ever ☀👌👌🧡🧡🧡🧡🧡 thanku apple ❤',\n",
       " 'Best budget Iphone till date ❤️ go for it guys without second thought. Let me explain you guys about Camera, Display, battery, and performance.\\n\\nCamera: at this price range there is no comparison of camera, you’ll love the picture quality as well as video quality. I am a Vlogger I wanted an iPhone with 4k video by front camera and I got this phone and I am more than happy 😃\\n\\nBattery: I use this phone roughly as I am active social media person and I have a youtube channel. so the battery ba...\\nREAD MORE',\n",
       " \"Iphone is just awesome.. battery backup is very very nice.. continuously for 10 hours we can use it.camera is just awesome.. display is just fab.i love it alot..i had to wait 15 days for it as i pre ordered it..overalll it's worth the price..these all images are clicked by my iPhone..and i love it.\",\n",
       " \"It's my first time to use iOS phone and I am loving my upgradation 😍😍 I love the color, I love the assebility of the phone....I need to learn more about its functionality, but as far as I have seen, it's quite easy and it has a lot of functions to work on, specially if you are a content writer or a blogger you get a lot of content creation platforms and they are really amazing.\\n\\nThis phone not only for good quality photography but a lot of other task too.😍💯\",\n",
       " 'Excellent camera, good performance, no lag. The lcd display is also good.. but difference come when we watch movie in prime and Netflix, the colours are not vibrant.. as we see in amoled display.. and the charger in box is of 5 watts.. takes more than 3 hours to charge from 0 to 100.. so guys be prepare to buy 18 watts charger . Finally I am an android user, it was my first Iapple phone, I promise u guys the iOS is so smooth.. overall the phone is damn good.... close eyes to buy it.. thanks t...\\nREAD MORE',\n",
       " 'It’s been almost a month since I have been using this phone. I upgraded from an iPhone 8. The main issue with my 8 was battery and this phone is just awesome when it comes to battery. It lasts a day and a half for me with my regular use , internet connected always with 4g\\nCan’t move forward without saying this. Battery of this phone is a life saver when I am traveling or at work when I don’t get the option to charge\\nCamera is superb. Front cam selfies and back cam photos are just awesome.\\n...\\nREAD MORE',\n",
       " 'Really worth of money. i just love it. It is the best phone ever.',\n",
       " 'Awesome Phone. Slightly high price but worth. Better than iPhone XR.\\nCamera is superb and wide angle camera is very clear.\\n12MP selfie camera is also very good.\\nA13 Chip gives a very good and smooth performance.',\n",
       " 'This is my first ever I phone. Before this I was using my google nexus 5. But moving from android to iOS is a great experience. It’s worth at this price. I will highly recommend it if you want to move to iOS. The best part of this phone is it’s camera and it’s battery life. This two things have won my heart. I loved it. Happy to have it in my hand. Still exploring its features. And can’t forget to mention Flipkart service. Very prompt service and fast delivery.',\n",
       " 'Superb Product !!!\\nA big and worthy upgrade from mi 3S to iphone 11 .\\nTotally loved it !',\n",
       " 'I have migrated from OP 7pro... and trust me, iPhone 11 is totally worth it.. following are the reasons:-\\n1)there is ABSOLUTELY NO ISSUE WITH THE DISPLAY... its crisp, sharp and I found it to be much much better than OP7 pro. Netflix, Prime video all run crisply... you won’t miss a thing. True Tone works flawlessly...the display brightness is perfect. OP have not calibrated their screens properly.\\n2) iPhone 11 series have really good cameras... others have spoken in depth about them.\\n3) bat...\\nREAD MORE',\n",
       " 'It’s an amazing product from apple and the camera is simply superb. Phone is faster.Night shot is simply superb and detailing and colour differentiation from camera is an added advantage\\n\\nThis review I have written from iPhone 11 only and I am glad to say outside.\\n\\nCons wise if we see HD+ display only, no battery percentage indicator as in older iPhone 8.\\nNo assistive touch control button in it\\nNo oleophobic coating on back panel glass and finger prints are visible but since I bought mint gr...\\nREAD MORE',\n",
       " 'Looking so good 👍 😍 super 👌 stylish 😎 phone\\nClean box 📦 good 👍 delivery 👌 fast delivery\\nOriginal box Original iphone 📱 👌 😍😍😍',\n",
       " 'After 1 month use I found camera quality best compared to my previous Samsung note 10+.Display not good as note 10 also charging too slow.Apple should add fast charger like 11 plus and pro.Best phone for daily use',\n",
       " 'I just directly switch from iphone 6s to iphone 11 .The best premium smartphone I recommend to everyone. Excellent quality and colors the iphone have in 11 series.\\nCamera quality is just awesome and the major feel when we hold in our hands. The sound quality and volume is also higher then the previous models.\\nI will recommend to buy iphone 11 instead of pro models , there is nothing much difference as this model contains everything which fulfill our needs.\\n\\nOnly one thing that I dislike abo...\\nREAD MORE',\n",
       " 'Upgraded from iphone 6 to 11 best phone for iphone users battery is much better than other iphones camera is awesome love to use it.camera is so clear in night.',\n",
       " 'Well you all know the specifications . One of a kind. Best iPhone till date. Many enhancements to the camera app with many options. Love the glass body with matte finish in the lens area on the back. Lovely colours to choose from. Best battery in an iPhone till date, enough to last more than a day in normal usage. I tested my iPhone 11 battery and lasted for than 24 hours after full charge still with 30% battery charge left. Watched movies for some time. Normal usage on calls, browsing, musi...\\nREAD MORE',\n",
       " \"It's very high performances devise i am like the service of flipkart delevary very fast and packing very nice perfect phone\",\n",
       " 'This will help you more. See if you are planning to buy iPhone 11. I will say. Yes. But there are some plans I just want to disclose before you buy. 1) If you are an existing iPhone X/XS/XS Max/ XR user, better you guys do not think it to buy. You guys have more or less better gadget. 2) If you are an android user and planning to buy premium phone. I will suggest them to please buy iPhone instead of buying an Android. I bet you will never go back to android after using IOS. Now I want to shar...\\nREAD MORE',\n",
       " 'The built quality is not very premium.\\nThe battery back is great .\\nThe LCD panel is not so sharp but the brightness level is very High .\\nCamera is super duper awesome.\\nThe red colour which people think is bright is actually very soothing and excellent colour to choose from .\\nThe A13 Bionic chip is really a flagship processor and can beat any phone which even has 12 gb ram .\\nCamera module is very great and looks very stylish.',\n",
       " 'Really good actually this is my first apple product am using its really awesome performance wise excellent. Am really happy with this iphone11',\n",
       " 'it is very good at performance. Camera is best like before and very smooth response even in water. Don’t buy 12 mini buy iPhone 11 , it is far better than 12 mini believe me ! Have a nice day \\uf8ff ☺️',\n",
       " 'Reviewing again after 5 months. At the beginning the battery and performance was good but it degraded soon. Also I was facing heating issues. The mobile will heat up like a stove sometimes. You cannot even play Pubg even in low settings properly, performance is not a problem but heating is. Also if you play that game for 10 mins the brightness will be automatically down due to over heating even when the auto brightness is set to off. This will not be solved even if u manually increase the bri...\\nREAD MORE',\n",
       " 'It is just awesome mobile for this price from Apple,\\n\\nAfter 10 days review\\n\\nBattery enough for 1 day even 24*7 Internet will be on and mostly internet usage\\n\\nCamera is just awesome cool , android 64 MP is equal to this just 12 MP\\n\\nA13 Bionic chip will give more high performance without hanging\\n\\nAudio stereo speakers will give Dolby atoms sound with crystal clear\\n\\nVideo recording is like cinematic shots of every sec can be a 4K 60fps. Just awesome this phone\\niPhone 11 loved one',\n",
       " 'Best Apple iPhone that i have bought at a very reasonable price, camera quality is next level just awesome n of superior quality android phones not even close(RIP) to that and also battery is really good but packaging by Flipkart of iPhone was very poor of such a expensive product, firstly im bit worried about the quality of product if i purchased it through online how was the product but i think now this was mine best decision to bought it through Flipkart online because i got genuine Apple...\\nREAD MORE',\n",
       " \"I can say I'm damn impressed with iPhone 11. As they says iPhone 11 have the toughest glass ever in the smartphone which you'll find on the front and back and it's totally smooth. The fit and finish is full apple quality - there's no sense that any cheaping out has happened in the construction. Without saying it's camera features this review won't complete. The iPhone 11 has a dual camera system, consisting of a wide angle len's that's pretty much same as found on the iPhone XR last year, but...\\nREAD MORE\",\n",
       " 'Best Quality Product OF iPhone Series , Sound Quality & Camera quality is very awesome, Battery Life is very Sufficient for 24 hr Backup With Full Internet Access , I love this this Product too much , It is very fast & making me Very fast in all my daily Routine\\nHighlights;\\n1.Camera: 5 STAR\\n2.Video Recording: 5 star\\n3.Night mODE sHOOTING & Camera:4 star\\n4. Audio Quality: Awesome\\n5. Battery : 5 Star\\n6. Touch:5 Star\\n7. Processor: Very Fast\\nThe M...\\nREAD MORE',\n",
       " 'First thanks to Flipkart for this amazing deal and phone is outstanding. I upgraded from iPhone 7 and this is like very big upgrade. But the packaging was very basic I expected a good packaging as they only wrapped one layer of bubble wrap which I don’t think is enough to protect this expensive phone. And I recommend this phone and seller as well.\\n\\nAnd I’m posting this review after using it for 4 days.',\n",
       " 'Superfast delivery by Flipkart. Thanks.\\n\\n1. iPhone 11 is a pretty solid phone for the money you are paying.\\n2. All the bad reviews about the display is confusing. It’s not that bad.\\n3. I switched from a Oneplus 7t. I have no complaints about the display quality of iPhone. Yes, it’s not OLED, so, we are missing on the deep blacks. But that’s it. It is a very colour accurate display. Gets adequately bright and I could not find any pixelation.\\n4. Performance is one of the best, if not best, in ...\\nREAD MORE',\n",
       " 'Smooth like butter, camera like fantabulous, sound is crystal clear & its red color is damn attractive, i am just loving it. Must buy if you love photography.\\n\\nLucky to get it in sale, thank you Flipkart.',\n",
       " \"Again back to apple iphone after a gap of 2-3 years. It's pleasure to use iOS and the quality product by Apple. Iphone 11 still works like a beast in 2021 also. It really capable of doing day to day usage as well as hard core gaming. Battery is awesome. I'm really too much satisfied with it. Apart fto the very gorgious IPS LCD (AMOLED will be better) everything is mind boggling. Iphone💕.\",\n",
       " 'impressive super phone and best in class camera ,sound and face unlock is super fast just see and phone is unlock and fast in daily apps use',\n",
       " 'Battery backup is extraordinary, camera is decent & performance offered by A13 bionic is awsome. The display is good in practical usage like the visibility of display is very good in direct sun light compare to pro models. Iam extremely satisfied for the money I spent.',\n",
       " 'Well while switching from android to iOS the first thing you need to be careful about is that you will loose all your whatsapp chat backups as both are different operating systems. Camera clarity is awesome and though being an lcd screen clarity and resolution is good. Battery backup is also good unlike previous gen iPhone. So far the experience is good will Padre after a few months of usage.\\n\\nP.S the black is more of a dark grey shade and not jet black',\n",
       " 'In love with this iphone great performance,camera ,battery everything. Go for it have a uncompareble battery backup, no doubts in iPhone camera here You can see the picture which is shot on my iPhone In love with this iphone great performance,camera ,battery everything. Go for it have a uncompareble battery backup, no doubts in iPhone camera here You can see the picture which is shot on my iPhone In love with this iphone great performance,camera ,battery everything. Go for it have a uncompare...\\nREAD MORE',\n",
       " 'Best in class. Battery backup is good especially when you play games like Pubg COD. But it is sort of heavy when you hold in hands. Portrait mode is best to click pictures. Stage light effect is awesome. Try to click photos outside in nature because photos inside home or room will not give you the quality in any phone even in DSLR.',\n",
       " 'Very excited to have this phone. This phone has the real power unlike the android phones having SD 855 . The battery life is very good and the camera quality is excellent as comapred to redmi and other phones except google pixel. I M enjoying every single bit of it. Would recommed only if you have the budget.',\n",
       " \"I upgraded (downgraded?) from my iPhone X since the phone fell down and I didn't want to repair the screen. The box that the phone came in was super slim and I was worried that there'd be no 5W charger with it and my fears were confirmed. However, thankfully I had the 18W USB-C PD charger from Apple which I bought for my iPhone X and it worked perfectly. The charging time is as lethargic as ever though and it takes about 1:30 mins or even 2 hours depending on charge remaining. I'll list some ...\\nREAD MORE\",\n",
       " 'Its Very awesome product working and good camera quality and all about best product and also flipkart is very great deal and offer nice price',\n",
       " 'I am using this phone for 5 days and its one of the best camera out there ❤️ the screen is not oled and i am coming from iphone xs so its little bit not up to the mark i would say\\nBut overall value for money💕😍the battery back up is far better than my iphone xs and its worth in my apple ecosystem💫❤️if u are an apple User and have the eco system then go for it❤️though i will be getting the new iphone but its pretty good💫',\n",
       " 'Best and amazing product.....phone looks so premium.... battary is also good as expected .... Wide angle camera is so addictive ...if you are a IOS lover....then this phone will be the best choice for you all!!💯🔥',\n",
       " 'Excellent camera and display touching very nice and smooth very improvement against iPhone XR and new processor is very fast',\n",
       " \"I got this beast today. And I must say the picture quality of its camera is awesome. Both the cameras works fine.\\n\\nAs for as the processing is concerned, it runs without any lag. You can play and do whatever you want without a glitch.\\n\\nThe battery runs for a day with medium and high workload.\\n\\nThe display is good and the speakers are working fine.\\n\\nThe earphones doesn't have any base and you can use it for calling mostly.\\n\\nThe charging time is approximately for 90 minutes for full charging...\\nREAD MORE\",\n",
       " 'Awesome purchase. Amazing phone with good battery backup. It’s a top notch device. White colour looks amazing. Phone has a few extra feature than iPhone XR. Overall, this is value for money',\n",
       " 'Always love the apple products, upgraded from old iPhone 6S plus to this after having my first baby. I just love to click baby’s photos with it. Overall I just love this phone. Battery back up is okay, sound quality is good. Haven’t tested yet waterproof yet. Only one thing I hate is apple could have given charger & headphones in box.',\n",
       " 'Value for money\\n5 star rating\\nExcellent camera\\nBattery backup full day in single charge.\\n\\nTougher and water resistant design, glossy back.\\nThe screen has excellent brightness and contrast.\\nApple A13 Bionic is the fastest smartphone chip on the planet.\\nExcellent battery life, fast charging support.\\nStereo speakers with great quality.',\n",
       " 'Amazing camera and feel super machine I am not describe my feeling but this is amazing Phone I am so lucky I have this',\n",
       " 'Please DONT buy from here,\\n\\nI purchased Apple iPhone 11. with an exchange of IPhone 7, the exchange did not go well, iPhone 7 had a small scratch out side screen which i could never identify till date, but the FLIPKART person could, so he reduced 50% from exchange rate. I decided not to trade in, but paid money.\\n\\niPhone 11 Detail Below\\n---------------------------------------------\\nIt came with no charging, then i have put for charging, it took lot of time for charging, the phone also showe...\\nREAD MORE',\n",
       " 'awesome phone to have. it has got many smart features apart from mind blowing looks, camera, display, battery and sound. have fallen in love with this phone. must buy phone if you have got enough money. thanks to flipkart and apple of course..',\n",
       " 'Its a fabulous mobile look awesome performance unbeaten camera like dslr battery good i think this is a beast of mobile',\n",
       " 'Dear friends... I want to share my experience with you about this amazing I phone 11....this is my first iPhone and special things about this mobile is it has great camera, battery backup and awesome display.... I mean everything is perfect.loved it 👍👍👍',\n",
       " \"Just got this iphone 11\\nAnd it is most powerful mobile phone I have used ever\\n\\nSo,go for it if you want a phone with best specification like camera,battery backup,display, A13 bionic chip\\n\\nThat's my review about this phone but yours can be differ from me....\",\n",
       " 'Amazing phone and on great deal I received with super fast delivery by Flipkart...',\n",
       " 'finally an iPhone with very nice battery backup. update from iPhone 7 and happy to have it. camera is not up to the mark in low light but overall a recommended phone if your budget allows 😀',\n",
       " \"I'm switching this phone to oppo reno 10x zoom\\nIt's really impressive\\nRarely I'm missing smooth display touch response like oppo reno but\\nI really loved it.\\nCamera really impressive\",\n",
       " 'Worth the money’ starting first from its performance it beats out all phones , second the smoothness of camera is awesome, contrast ratio is much than expected. Price will not matter if u r a quality person, if not other phones are available with better discount',\n",
       " \"I'm Really happy with the product\\nDelivery was fast as well\\n..it was a gift for my sister and she loved it so much.\",\n",
       " 'Great iphone.\\nI am writing this review after 2 months of usage.\\nCamera is excellent, especially the nightmode\\nDisplay perfect\\nBattery backup awesome\\nSound quality very good\\nOverall Apple gives you a perfect iphone in this range.\\nReally in love with iPhone 11',\n",
       " 'Did an upgrade from 6s plus to iphone 11.\\nAo far the experience is well and good. Felt smoother than 6s plus. The camera quality is superb. Battery backup is descent. Not a heavy user, and gets power more than a day. Go for it if you need an alrounder iphone in a competitve price.',\n",
       " 'I dreamt about this day from a long time.... Getting an iPhone with my own money.... Super happy and worth spending every penny',\n",
       " 'Damn this phone is a blast . Upgraded from android to ios and is a duperb experience. Battery backup is top notch and display also pretty good',\n",
       " 'Thanks Flipkart For this amazing deal! I had a dream of owning a iphone since i had known about.\\nIm very happy with my purchase & it is totally worth it.\\nAmazing experience all over !!\\n\\nAnyone who’s thinking of buying it in 2021, i would simply say go for it without any second thoughts ❤️',\n",
       " 'Gifted my man on his 30th birthday 🎂 He loves it.. Him happy so i am more than happy 😍😘❤️🥰',\n",
       " 'awesome Phone Smooth Touch Too good Sexyy looks one word Awesome',\n",
       " 'I rate this product 5* as it has got amazing user experience with the best performing A13 bionic processor. The screen responds and graphics rendering is top notch. With casual gaming and internet browsing, the battery lasts for approx. 1 day. Camera is very good. You will fall in love with the portrait mode. You can call me a loyal Apple customer or whatever but I won’t stop praising the products and overall experience. That user experience matters and is worth every penny you pay.\\n\\nBelow ar...\\nREAD MORE',\n",
       " \"It was amazing experience for me. Honestly i am using iPhone first time so I don't have that much past experience about that. But after using 7 days this mobile i want to give some honest feedback.\\n1- Display 9 out of 10\\n2- Camera 9.5 out of 10\\n3- Battery 7 out of 10\\n4- Performance 9.5 out of 10\\n5- Features & Functions 10 out of 10\\n6- Outer looks and colour 10 out of 10\\nRest i think i will understand after using this for few months.\\nI will highly recommend you guys if you have budget then you...\\nREAD MORE\",\n",
       " \"Just go for it.\\nThis phone is really amazing. I ordered it for my wife and we click photos on this thing which are better than dslr. I own OnePlus 6t but it's camera sucks. iPhone is really amazing when it comes to camera. It's worth spending 50k on this. Cons- only display is lcd. While using u don't feel it but if u compare with other phone then u can see difference quite easily.\\nChanging from Android to iphone is bit difficult coz most of things u don't know but I liked it. Some of the a...\\nREAD MORE\",\n",
       " \"I've used this phone for over a month now and here are my takeaways.\\nI would like to first talk about the best things about this phone and then the cons of it.\\n\\nPros:\\nThis phone is a performance beast. It handles large games and applications effortlessly and you won't find any stutters or lags while playing graphic intensive games like pubg, cod , mortal kombat and asphalt.\\n\\nThis phone has only 4gb ram and yet the ram management is amazing, it can keep 3 heavy games in memory without reload...\\nREAD MORE\",\n",
       " 'Absolutely powerful gadget. Loved it’s look! Soo glassy and classy. I would definitely recommend this model of Apple. Only disappointed with the 5W charger, one should purchase an 18W adapter for fast charging. Though battery backup is great. Bought it in September 2020, reviewing after so long so I’m gonna put the genuine review here.✅',\n",
       " \"phone is good but in display is 720p lcd in this price range we can get full hd OLED displays with higher refresh rate processor is very good camera is nice but looks kind of oldish in front of todays phone also there's no charging in box had to buy it seperately\",\n",
       " 'Nice value for money good and best price I phone mind blowing camera processor very fast other android mobile I am happy India top selling phone 2020',\n",
       " 'I bought iPhone 11 On March 2021, And I am Writing this review after using the phone for 4 Months. I would Say Everything is fine, Top Performance, Nice Camera as Anyone would Expect from any series of iPhone but when the Question comes to Battery it is complicated. The Battery is fully optimised and it comes 3110 mAh capacity but the problem is with the charger. Honestly Apple Removed charger from in Box items in the name of Environment and they are also forcing us to buy any 20W PD 3rd part...\\nREAD MORE',\n",
       " 'Here is the thing\\n\\nThe only reason why you should buy this phone is for the camera, iOS, and if you have headaches looking at AMOLED display.\\n\\nI’m not an avid gamer but watch a lot of movies on smartphone. However, my migraine attacks increased considerably after using AMOLED Smartphone. That’s why I made a calculated decision to buy iPhone 11. It has the best LCD display and the blacks, though not as natural as an AMOLED, is better than some of the other smartphones.\\n\\nAdding to this the ste...\\nREAD MORE',\n",
       " 'Undoubtedly Iphone 11 is the most successful model till now and its performance is extraordinary and the security features are very impressive, display is more vibrant sound quality Camera Quality 5*****, but Iphone should add accessories too and act like scrooge.',\n",
       " \"If you are looking for a premium phone under 55k, this is the one for you.Got the iPhone 11 during the Republic day sale. Performance is top notch in this price range. Camera's do a perfect job in taking good quality photos and videos. Battery backup too is satisfactory. Writing this review after using for a week. Any further observations would be updated.\",\n",
       " 'I purchased the iPhone 11 a month back. I must say Apple has impressed me yet again . I have been an Apple user for past 5 years . The phone is power packed with amazing features . What impressed me the most was the battery backup the phone offers . Battery can easily run upto 1.5 days in single charge with moderate to\\nHeavy usage . If you’re looking for a value for money device , I don’t see any other phone in the price range which can match the iPhone 11 .\\nOne thing I didn’t like was that ...\\nREAD MORE',\n",
       " 'We are on apple ecosystem for almost eight years now with couple of iPads and iPhones, including Xr.\\n\\nBought iPhone 11 as a gift to my daughter who loves it. We chose for a purple coloured one. Believe me it is gorgeous and towards the lighter shade. Dazzling and brilliant!\\n\\nThe phone is great and does excellent RAM management like any other Apple device.\\n\\nThe screen, though a LCD and lesser ppi as compared to other flagship phones of competitor brands, is a delight to watch with perfect re...\\nREAD MORE',\n",
       " 'Can’t beat the software and hardware integration of apple.\\nPerforms like a beast. Great quality camera\\n6-7 hours screen on time which is good. Nothing much to complaint about the screen. Good connectivity speeds.\\nGreat buy and Flipkart’s delivery top notch as usual',\n",
       " 'I use a Note10+ and have been using both iOS and Android devices.\\n\\nCamera has really good features and portraits are super good, better than Samsung flagship. Overall camera setup can still be enhanced and hopeful for better upgrades on software in next release\\n\\nOperating system is quite a breeze and user experience of daily usage is very high as compared to Android. I moved to iOS very swiftly in 2 days for all my office work from Note10+\\n\\nBattery holds up quite well with 4 hrs of call and ...\\nREAD MORE',\n",
       " 'The phone is completely good\\nAs far as camera Apple is king of it\\nAnd its a beast in performance\\nAnd the battery is pretty good too',\n",
       " 'Everything u ll like it when u use this iPhone. Simple changes only not many to lower models but it’s nice to use. Little heavy compared to previous models like 7,8',\n",
       " 'This is my first ever iPhone.\\nAnd I truly don’t regret switching to IOS from my Android.\\n\\nIt is easily an alternative to a DSLR camera.\\nIf you’re obsessed with photos and videos, just don’t think twice or don’t compare to other androids(Samsung S10 lite or OnePlus 8/8T), as it’s far better from them in every field.\\nComparing will only make you confused.\\n\\nI am getting an average Screen on Time of around 10 hours with 30 percent left. I haven’t let my device discharged below 30 % as it aff...\\nREAD MORE',\n",
       " 'Everything is perfect pictures come out so clearly and at first I wasn’t sure when I got it then when I started to use it and get the hang of it it was amazing!! I can’t wait to see what the next future phones will be like. The screen display on this bad boy are unbelievable they are so clear and never fail me. The performance is super cool there is a lot of cool features as well I like this phone because I feel that it is easy to use and one of my favorite things about this phone is the Face...\\nREAD MORE',\n",
       " 'The ultimate performance\\nCamera is superb\\nThe battery backup also very good i never saw iphone gives this much of battery backup\\nIf any one wana buy iphone 11 definitely i will recommend this mobile\\nIt has the better battery and powerfull processer peak performance glorious camera and the display also 100% high quality lcd display if u had money for for 12 if u dont wana invest much money on that then go for iphone 11 it has maximum same specs only main difference between the 12 and 11 is...\\nREAD MORE',\n",
       " 'Excellent camera 📸 And Display touching very Nice And Smooth and very improvement against\\nI phone 11 and new processor is very fast',\n",
       " 'A perfect phone and a good battery super camera and the sound is dynamic overall the phone is perfect for upgrading from lower iPhone model to iPhone 11',\n",
       " 'Value for money product. This iphone 11 is really amazing. Again nice release by apple. Great camera, battery backup is excellent. I just love this phone']"
      ]
     },
     "execution_count": 705,
     "metadata": {},
     "output_type": "execute_result"
    }
   ],
   "source": [
    "fullreview_titles=[]\n",
    "for i in page_url[0:10]:\n",
    "    driver.get(i)\n",
    "    fullrewiew_tags=driver.find_elements_by_xpath(\"//div[@class='t-ZTKy']\")\n",
    "    for i in fullrewiew_tags:\n",
    "        fullreview_titles.append(i.text)\n",
    "fullreview_titles"
   ]
  },
  {
   "cell_type": "markdown",
   "metadata": {},
   "source": [
    "Scrape fullreview information"
   ]
  },
  {
   "cell_type": "code",
   "execution_count": 707,
   "metadata": {},
   "outputs": [
    {
     "name": "stdout",
     "output_type": "stream",
     "text": [
      "100 100\n"
     ]
    }
   ],
   "source": [
    "print(len(review_titles),len(fullreview_titles))"
   ]
  },
  {
   "cell_type": "code",
   "execution_count": 708,
   "metadata": {},
   "outputs": [],
   "source": [
    "jobs=pd.DataFrame({})\n",
    "jobs['review_titles']=review_titles\n",
    "jobs['fullreview_titles']=fullreview_titles"
   ]
  },
  {
   "cell_type": "code",
   "execution_count": 709,
   "metadata": {},
   "outputs": [
    {
     "data": {
      "text/html": [
       "<div>\n",
       "<style scoped>\n",
       "    .dataframe tbody tr th:only-of-type {\n",
       "        vertical-align: middle;\n",
       "    }\n",
       "\n",
       "    .dataframe tbody tr th {\n",
       "        vertical-align: top;\n",
       "    }\n",
       "\n",
       "    .dataframe thead th {\n",
       "        text-align: right;\n",
       "    }\n",
       "</style>\n",
       "<table border=\"1\" class=\"dataframe\">\n",
       "  <thead>\n",
       "    <tr style=\"text-align: right;\">\n",
       "      <th></th>\n",
       "      <th>review_titles</th>\n",
       "      <th>fullreview_titles</th>\n",
       "    </tr>\n",
       "  </thead>\n",
       "  <tbody>\n",
       "    <tr>\n",
       "      <th>0</th>\n",
       "      <td>Simply awesome</td>\n",
       "      <td>Really satisfied with the Product I received.....</td>\n",
       "    </tr>\n",
       "    <tr>\n",
       "      <th>1</th>\n",
       "      <td>Brilliant</td>\n",
       "      <td>The Best Phone for the Money\\n\\nThe iPhone 11 ...</td>\n",
       "    </tr>\n",
       "    <tr>\n",
       "      <th>2</th>\n",
       "      <td>Perfect product!</td>\n",
       "      <td>Amazing phone with great cameras and better ba...</td>\n",
       "    </tr>\n",
       "    <tr>\n",
       "      <th>3</th>\n",
       "      <td>Fabulous!</td>\n",
       "      <td>This is my first iOS phone. I am very happy wi...</td>\n",
       "    </tr>\n",
       "    <tr>\n",
       "      <th>4</th>\n",
       "      <td>Worth every penny</td>\n",
       "      <td>Previously I was using one plus 3t it was a gr...</td>\n",
       "    </tr>\n",
       "    <tr>\n",
       "      <th>...</th>\n",
       "      <td>...</td>\n",
       "      <td>...</td>\n",
       "    </tr>\n",
       "    <tr>\n",
       "      <th>95</th>\n",
       "      <td>Fabulous!</td>\n",
       "      <td>Everything is perfect pictures come out so cle...</td>\n",
       "    </tr>\n",
       "    <tr>\n",
       "      <th>96</th>\n",
       "      <td>Just wow!</td>\n",
       "      <td>The ultimate performance\\nCamera is superb\\nTh...</td>\n",
       "    </tr>\n",
       "    <tr>\n",
       "      <th>97</th>\n",
       "      <td>Mind-blowing purchase</td>\n",
       "      <td>Excellent camera 📸 And Display touching very N...</td>\n",
       "    </tr>\n",
       "    <tr>\n",
       "      <th>98</th>\n",
       "      <td>Excellent</td>\n",
       "      <td>A perfect phone and a good battery super camer...</td>\n",
       "    </tr>\n",
       "    <tr>\n",
       "      <th>99</th>\n",
       "      <td>Excellent</td>\n",
       "      <td>Value for money product. This iphone 11 is rea...</td>\n",
       "    </tr>\n",
       "  </tbody>\n",
       "</table>\n",
       "<p>100 rows × 2 columns</p>\n",
       "</div>"
      ],
      "text/plain": [
       "            review_titles                                  fullreview_titles\n",
       "0          Simply awesome  Really satisfied with the Product I received.....\n",
       "1               Brilliant  The Best Phone for the Money\\n\\nThe iPhone 11 ...\n",
       "2        Perfect product!  Amazing phone with great cameras and better ba...\n",
       "3               Fabulous!  This is my first iOS phone. I am very happy wi...\n",
       "4       Worth every penny  Previously I was using one plus 3t it was a gr...\n",
       "..                    ...                                                ...\n",
       "95              Fabulous!  Everything is perfect pictures come out so cle...\n",
       "96              Just wow!  The ultimate performance\\nCamera is superb\\nTh...\n",
       "97  Mind-blowing purchase  Excellent camera 📸 And Display touching very N...\n",
       "98              Excellent  A perfect phone and a good battery super camer...\n",
       "99              Excellent  Value for money product. This iphone 11 is rea...\n",
       "\n",
       "[100 rows x 2 columns]"
      ]
     },
     "execution_count": 709,
     "metadata": {},
     "output_type": "execute_result"
    }
   ],
   "source": [
    "jobs"
   ]
  },
  {
   "cell_type": "markdown",
   "metadata": {},
   "source": [
    "Create dataframe of the information"
   ]
  },
  {
   "cell_type": "markdown",
   "metadata": {},
   "source": []
  },
  {
   "cell_type": "markdown",
   "metadata": {},
   "source": [
    "Q8: Scrape data for first 100 sneakers you find when you visit flipkart.com and \n",
    "search for “sneakers” in the search field."
   ]
  },
  {
   "cell_type": "code",
   "execution_count": 719,
   "metadata": {},
   "outputs": [],
   "source": [
    "driver = webdriver.Chrome(r\"C:\\Users\\Ankita\\Downloads\\chromedriver_win32\\chromedriver.exe\")"
   ]
  },
  {
   "cell_type": "markdown",
   "metadata": {},
   "source": [
    "Chrome Driver path"
   ]
  },
  {
   "cell_type": "code",
   "execution_count": 720,
   "metadata": {},
   "outputs": [],
   "source": [
    "url = 'https://www.flipkart.com/'\n",
    "driver.get(url)"
   ]
  },
  {
   "cell_type": "markdown",
   "metadata": {},
   "source": [
    "Enter Flipkart URL"
   ]
  },
  {
   "cell_type": "code",
   "execution_count": 721,
   "metadata": {},
   "outputs": [
    {
     "data": {
      "text/plain": [
       "<selenium.webdriver.remote.webelement.WebElement (session=\"e477ee87a08c117ca3fea0be174a81e6\", element=\"6a64a86e-0906-4394-baf4-2de386bf5740\")>"
      ]
     },
     "execution_count": 721,
     "metadata": {},
     "output_type": "execute_result"
    }
   ],
   "source": [
    "search_job = driver.find_element_by_xpath(\"/html/body/div[1]/div/div[1]/div[1]/div[2]/div[2]/form/div/div/input\")\n",
    "search_job "
   ]
  },
  {
   "cell_type": "code",
   "execution_count": 722,
   "metadata": {},
   "outputs": [],
   "source": [
    "search_job.send_keys(\"sneakers\")"
   ]
  },
  {
   "cell_type": "markdown",
   "metadata": {},
   "source": [
    "Enter sneakers on search field"
   ]
  },
  {
   "cell_type": "code",
   "execution_count": 723,
   "metadata": {},
   "outputs": [
    {
     "data": {
      "text/plain": [
       "<selenium.webdriver.remote.webelement.WebElement (session=\"e477ee87a08c117ca3fea0be174a81e6\", element=\"2e41737c-888c-4c75-90f4-977b07a03e99\")>"
      ]
     },
     "execution_count": 723,
     "metadata": {},
     "output_type": "execute_result"
    }
   ],
   "source": [
    "search_btn = driver.find_element_by_xpath(\"//button[@class='L0Z3Pu']\")\n",
    "search_btn"
   ]
  },
  {
   "cell_type": "code",
   "execution_count": 724,
   "metadata": {},
   "outputs": [],
   "source": [
    "search_btn.click()"
   ]
  },
  {
   "cell_type": "markdown",
   "metadata": {},
   "source": [
    "Click on search button"
   ]
  },
  {
   "cell_type": "code",
   "execution_count": 725,
   "metadata": {},
   "outputs": [
    {
     "data": {
      "text/plain": [
       "[<selenium.webdriver.remote.webelement.WebElement (session=\"e477ee87a08c117ca3fea0be174a81e6\", element=\"fe03ff21-a9bb-4a21-945d-314facc0d535\")>,\n",
       " <selenium.webdriver.remote.webelement.WebElement (session=\"e477ee87a08c117ca3fea0be174a81e6\", element=\"fe11ba30-6c60-451f-bfae-6186a28c879b\")>,\n",
       " <selenium.webdriver.remote.webelement.WebElement (session=\"e477ee87a08c117ca3fea0be174a81e6\", element=\"fde23bdb-a83c-4cd5-b32c-c0ab4164582c\")>,\n",
       " <selenium.webdriver.remote.webelement.WebElement (session=\"e477ee87a08c117ca3fea0be174a81e6\", element=\"3c8c737e-d0de-4087-a578-6109f2141d64\")>,\n",
       " <selenium.webdriver.remote.webelement.WebElement (session=\"e477ee87a08c117ca3fea0be174a81e6\", element=\"b78ef79f-629b-4f10-80d0-2fc4c5846de8\")>,\n",
       " <selenium.webdriver.remote.webelement.WebElement (session=\"e477ee87a08c117ca3fea0be174a81e6\", element=\"e32a5ed2-4009-464d-b806-089d59df54ff\")>,\n",
       " <selenium.webdriver.remote.webelement.WebElement (session=\"e477ee87a08c117ca3fea0be174a81e6\", element=\"f1a5eea6-1612-4bff-802b-81aef4532a42\")>,\n",
       " <selenium.webdriver.remote.webelement.WebElement (session=\"e477ee87a08c117ca3fea0be174a81e6\", element=\"2b1577f1-b6fc-42e6-a179-b2b70c23c396\")>,\n",
       " <selenium.webdriver.remote.webelement.WebElement (session=\"e477ee87a08c117ca3fea0be174a81e6\", element=\"b2dbf6c5-74fc-4b3c-8e04-b61ed2857b05\")>,\n",
       " <selenium.webdriver.remote.webelement.WebElement (session=\"e477ee87a08c117ca3fea0be174a81e6\", element=\"d41fe47a-bd00-40ba-bf93-63d3c44824a0\")>,\n",
       " <selenium.webdriver.remote.webelement.WebElement (session=\"e477ee87a08c117ca3fea0be174a81e6\", element=\"0575e418-c986-4e05-9da9-393aa8aedf19\")>,\n",
       " <selenium.webdriver.remote.webelement.WebElement (session=\"e477ee87a08c117ca3fea0be174a81e6\", element=\"86f15ff1-0dea-4681-8c5e-27dc5a9c4708\")>,\n",
       " <selenium.webdriver.remote.webelement.WebElement (session=\"e477ee87a08c117ca3fea0be174a81e6\", element=\"fcdb4048-969b-4a9b-85a0-96ae79226df6\")>,\n",
       " <selenium.webdriver.remote.webelement.WebElement (session=\"e477ee87a08c117ca3fea0be174a81e6\", element=\"1f735633-f0f4-40fd-a08f-288530c59bd2\")>,\n",
       " <selenium.webdriver.remote.webelement.WebElement (session=\"e477ee87a08c117ca3fea0be174a81e6\", element=\"21e3c6d7-3fe6-4e0e-9e6a-6e4f6c7e1eb9\")>,\n",
       " <selenium.webdriver.remote.webelement.WebElement (session=\"e477ee87a08c117ca3fea0be174a81e6\", element=\"7b954e02-81ed-4da0-ac00-e106486d5945\")>,\n",
       " <selenium.webdriver.remote.webelement.WebElement (session=\"e477ee87a08c117ca3fea0be174a81e6\", element=\"ec8fcb22-7e36-4b4f-a2a5-d9674debfd4e\")>,\n",
       " <selenium.webdriver.remote.webelement.WebElement (session=\"e477ee87a08c117ca3fea0be174a81e6\", element=\"2fa74080-3cfa-441b-8f77-2236976e3a1e\")>,\n",
       " <selenium.webdriver.remote.webelement.WebElement (session=\"e477ee87a08c117ca3fea0be174a81e6\", element=\"18b33986-5d1c-4f08-9cf7-2eace6596823\")>,\n",
       " <selenium.webdriver.remote.webelement.WebElement (session=\"e477ee87a08c117ca3fea0be174a81e6\", element=\"0174f0c3-5ff2-42d4-9d63-5dbb41547f37\")>,\n",
       " <selenium.webdriver.remote.webelement.WebElement (session=\"e477ee87a08c117ca3fea0be174a81e6\", element=\"9e6c55ce-f16d-406d-9f4d-36e7edc029a4\")>,\n",
       " <selenium.webdriver.remote.webelement.WebElement (session=\"e477ee87a08c117ca3fea0be174a81e6\", element=\"871484ce-bda3-415e-a168-29ad12efeb85\")>,\n",
       " <selenium.webdriver.remote.webelement.WebElement (session=\"e477ee87a08c117ca3fea0be174a81e6\", element=\"7b76a498-92f9-44e4-9192-eaa5ec9d73ba\")>,\n",
       " <selenium.webdriver.remote.webelement.WebElement (session=\"e477ee87a08c117ca3fea0be174a81e6\", element=\"af4d1e95-9a87-49a9-880a-d1bb62f21c6a\")>,\n",
       " <selenium.webdriver.remote.webelement.WebElement (session=\"e477ee87a08c117ca3fea0be174a81e6\", element=\"05b57a60-b4ae-418b-be4d-ac97d4dead93\")>,\n",
       " <selenium.webdriver.remote.webelement.WebElement (session=\"e477ee87a08c117ca3fea0be174a81e6\", element=\"a8386cbe-84b7-4ed1-9ee5-1a0c6ef80a65\")>,\n",
       " <selenium.webdriver.remote.webelement.WebElement (session=\"e477ee87a08c117ca3fea0be174a81e6\", element=\"03627187-7ac3-4a81-bc72-ce8221457ee1\")>,\n",
       " <selenium.webdriver.remote.webelement.WebElement (session=\"e477ee87a08c117ca3fea0be174a81e6\", element=\"9081fd04-a753-4223-b356-4ea1500067ff\")>,\n",
       " <selenium.webdriver.remote.webelement.WebElement (session=\"e477ee87a08c117ca3fea0be174a81e6\", element=\"cf0965d8-16f4-4888-81e3-659d9fab8229\")>,\n",
       " <selenium.webdriver.remote.webelement.WebElement (session=\"e477ee87a08c117ca3fea0be174a81e6\", element=\"997c2213-add4-4c72-a5bc-26eb429faf7d\")>,\n",
       " <selenium.webdriver.remote.webelement.WebElement (session=\"e477ee87a08c117ca3fea0be174a81e6\", element=\"2da02113-add1-4cfb-9276-c26bf965a53b\")>,\n",
       " <selenium.webdriver.remote.webelement.WebElement (session=\"e477ee87a08c117ca3fea0be174a81e6\", element=\"5b11b0c3-3222-4637-a167-bdba1c9315a1\")>,\n",
       " <selenium.webdriver.remote.webelement.WebElement (session=\"e477ee87a08c117ca3fea0be174a81e6\", element=\"cb4a9bca-1fd0-42b8-8f99-400f3b7f661b\")>,\n",
       " <selenium.webdriver.remote.webelement.WebElement (session=\"e477ee87a08c117ca3fea0be174a81e6\", element=\"89490067-5d1d-49c5-8617-9bf64ad33556\")>,\n",
       " <selenium.webdriver.remote.webelement.WebElement (session=\"e477ee87a08c117ca3fea0be174a81e6\", element=\"58830790-46f4-42d3-82cd-a84fbce30e6f\")>,\n",
       " <selenium.webdriver.remote.webelement.WebElement (session=\"e477ee87a08c117ca3fea0be174a81e6\", element=\"c12633fe-2e17-491d-b3e7-21717fa5fffd\")>,\n",
       " <selenium.webdriver.remote.webelement.WebElement (session=\"e477ee87a08c117ca3fea0be174a81e6\", element=\"e7cbcc8d-18fe-44f0-946e-2a77779d7ce5\")>,\n",
       " <selenium.webdriver.remote.webelement.WebElement (session=\"e477ee87a08c117ca3fea0be174a81e6\", element=\"bbc3ba74-520a-4d4c-95a7-c91e885a55f9\")>,\n",
       " <selenium.webdriver.remote.webelement.WebElement (session=\"e477ee87a08c117ca3fea0be174a81e6\", element=\"f01d4e8f-a1e0-4f79-a722-2801a9a1524e\")>,\n",
       " <selenium.webdriver.remote.webelement.WebElement (session=\"e477ee87a08c117ca3fea0be174a81e6\", element=\"4df0621b-7301-444d-b99b-afc47fe4fc3b\")>]"
      ]
     },
     "execution_count": 725,
     "metadata": {},
     "output_type": "execute_result"
    }
   ],
   "source": [
    "\n",
    "brand_tags=driver.find_elements_by_xpath(\"//div[@class='_2WkVRV']\")\n",
    "brand_tags\n"
   ]
  },
  {
   "cell_type": "code",
   "execution_count": 726,
   "metadata": {},
   "outputs": [
    {
     "data": {
      "text/plain": [
       "['DUCATI',\n",
       " 'Robbie jones',\n",
       " 'World Wear Footwear',\n",
       " 'ASTEROID',\n",
       " 'Chevit',\n",
       " 'Chevit',\n",
       " 'BRUTON',\n",
       " 'Echor',\n",
       " 'Numenzo',\n",
       " 'Numenzo',\n",
       " 'PEHANOSA',\n",
       " 'Numenzo',\n",
       " 'bluemaker',\n",
       " 'Magnolia',\n",
       " 'Chevit',\n",
       " 'Xtoon',\n",
       " 'RODDICK SHOES',\n",
       " 'luxury fashion',\n",
       " 'Shoes Bank',\n",
       " 'luxury fashion',\n",
       " 'believe',\n",
       " 'Chevit',\n",
       " 'Red Rose',\n",
       " 'Absolutee shoes',\n",
       " 'Robbie jones',\n",
       " 'Chevit',\n",
       " 'SCATCHITE',\n",
       " 'STRANGER BROTHERS',\n",
       " 'BRUTON',\n",
       " 'India hub',\n",
       " 'Nilatin',\n",
       " 'DUCATI',\n",
       " 'World Wear Footwear',\n",
       " 'Kraasa',\n",
       " 'Nilatin',\n",
       " 'ROCKFIELD',\n",
       " 'SPARX',\n",
       " 'SPARX',\n",
       " 'Chevit',\n",
       " 'bluemaker']"
      ]
     },
     "execution_count": 726,
     "metadata": {},
     "output_type": "execute_result"
    }
   ],
   "source": [
    "brand_titles=[]\n",
    "for i in brand_tags:\n",
    "    brand_titles.append(i.text)\n",
    "brand_titles"
   ]
  },
  {
   "cell_type": "markdown",
   "metadata": {},
   "source": [
    "Scrape brand titles"
   ]
  },
  {
   "cell_type": "code",
   "execution_count": 178,
   "metadata": {},
   "outputs": [
    {
     "data": {
      "text/plain": [
       "[<selenium.webdriver.remote.webelement.WebElement (session=\"6aa20650a8a66cc6b15581c264a35ba4\", element=\"09dca284-3d0b-4dad-bfe7-21697be47f05\")>,\n",
       " <selenium.webdriver.remote.webelement.WebElement (session=\"6aa20650a8a66cc6b15581c264a35ba4\", element=\"0558ae16-d2ca-4f17-a129-eaafb86efb41\")>,\n",
       " <selenium.webdriver.remote.webelement.WebElement (session=\"6aa20650a8a66cc6b15581c264a35ba4\", element=\"acd7ba0e-481f-4452-b32b-56cdf3804f4d\")>,\n",
       " <selenium.webdriver.remote.webelement.WebElement (session=\"6aa20650a8a66cc6b15581c264a35ba4\", element=\"6231ad8a-500e-40fc-86f6-6acc43f966f5\")>,\n",
       " <selenium.webdriver.remote.webelement.WebElement (session=\"6aa20650a8a66cc6b15581c264a35ba4\", element=\"1e5f8a3b-2b8b-4488-bcb6-abe6cb8f2cba\")>,\n",
       " <selenium.webdriver.remote.webelement.WebElement (session=\"6aa20650a8a66cc6b15581c264a35ba4\", element=\"a63afcb2-ecac-4b6f-b2eb-842c2f243909\")>,\n",
       " <selenium.webdriver.remote.webelement.WebElement (session=\"6aa20650a8a66cc6b15581c264a35ba4\", element=\"70efe80a-2dc8-4ea2-bc30-ec934edd4e51\")>,\n",
       " <selenium.webdriver.remote.webelement.WebElement (session=\"6aa20650a8a66cc6b15581c264a35ba4\", element=\"9cff14ae-87ed-4504-b04c-e18757bd40f1\")>,\n",
       " <selenium.webdriver.remote.webelement.WebElement (session=\"6aa20650a8a66cc6b15581c264a35ba4\", element=\"b93121ce-66a1-47e9-ae01-134bdc1bd5fd\")>,\n",
       " <selenium.webdriver.remote.webelement.WebElement (session=\"6aa20650a8a66cc6b15581c264a35ba4\", element=\"d695184f-fe3a-4788-b1e8-2843053ff134\")>,\n",
       " <selenium.webdriver.remote.webelement.WebElement (session=\"6aa20650a8a66cc6b15581c264a35ba4\", element=\"5b1ace7a-4004-4181-99da-387f8bee20a3\")>,\n",
       " <selenium.webdriver.remote.webelement.WebElement (session=\"6aa20650a8a66cc6b15581c264a35ba4\", element=\"cbf81a2d-abfd-42aa-a203-d1e952e36745\")>,\n",
       " <selenium.webdriver.remote.webelement.WebElement (session=\"6aa20650a8a66cc6b15581c264a35ba4\", element=\"bd2aafe6-3065-4543-b812-bc2def732b5c\")>,\n",
       " <selenium.webdriver.remote.webelement.WebElement (session=\"6aa20650a8a66cc6b15581c264a35ba4\", element=\"bb3cc8ad-1db5-4e55-bd1c-6bd998426f2c\")>,\n",
       " <selenium.webdriver.remote.webelement.WebElement (session=\"6aa20650a8a66cc6b15581c264a35ba4\", element=\"bcf0ce5c-b106-4577-9812-9e406844a067\")>,\n",
       " <selenium.webdriver.remote.webelement.WebElement (session=\"6aa20650a8a66cc6b15581c264a35ba4\", element=\"a1165d60-f03d-47f6-9ddf-6f516792e7d1\")>,\n",
       " <selenium.webdriver.remote.webelement.WebElement (session=\"6aa20650a8a66cc6b15581c264a35ba4\", element=\"83b3ac76-6366-4371-8254-34d502470383\")>,\n",
       " <selenium.webdriver.remote.webelement.WebElement (session=\"6aa20650a8a66cc6b15581c264a35ba4\", element=\"6de486f9-c796-4167-ab6b-d380424cc646\")>,\n",
       " <selenium.webdriver.remote.webelement.WebElement (session=\"6aa20650a8a66cc6b15581c264a35ba4\", element=\"e751d062-8019-47a0-baba-0e4ff45f389e\")>,\n",
       " <selenium.webdriver.remote.webelement.WebElement (session=\"6aa20650a8a66cc6b15581c264a35ba4\", element=\"106f4be7-6423-40d0-bbdc-70a92c322d8a\")>,\n",
       " <selenium.webdriver.remote.webelement.WebElement (session=\"6aa20650a8a66cc6b15581c264a35ba4\", element=\"a135c2db-7b56-4338-a2f4-5f8f7bdc14fd\")>,\n",
       " <selenium.webdriver.remote.webelement.WebElement (session=\"6aa20650a8a66cc6b15581c264a35ba4\", element=\"4b7b26b3-1910-45ca-9858-3d622d8234b9\")>,\n",
       " <selenium.webdriver.remote.webelement.WebElement (session=\"6aa20650a8a66cc6b15581c264a35ba4\", element=\"4a68f9ef-6f62-460e-af98-04daae749f77\")>,\n",
       " <selenium.webdriver.remote.webelement.WebElement (session=\"6aa20650a8a66cc6b15581c264a35ba4\", element=\"bc61088e-945b-4f62-95d2-8e50948111e8\")>,\n",
       " <selenium.webdriver.remote.webelement.WebElement (session=\"6aa20650a8a66cc6b15581c264a35ba4\", element=\"5a16d587-4b06-4bd3-8007-80272756fb34\")>,\n",
       " <selenium.webdriver.remote.webelement.WebElement (session=\"6aa20650a8a66cc6b15581c264a35ba4\", element=\"357a34f4-bfe0-4eac-8304-c2ba8c0f8cc6\")>,\n",
       " <selenium.webdriver.remote.webelement.WebElement (session=\"6aa20650a8a66cc6b15581c264a35ba4\", element=\"c39aa2fc-b427-457c-94bb-3be4765aa631\")>,\n",
       " <selenium.webdriver.remote.webelement.WebElement (session=\"6aa20650a8a66cc6b15581c264a35ba4\", element=\"6d99c854-fc9a-42d0-a12a-919cffbd32cb\")>,\n",
       " <selenium.webdriver.remote.webelement.WebElement (session=\"6aa20650a8a66cc6b15581c264a35ba4\", element=\"e9ae8b9c-b6cc-4ffb-9ad7-9648a66c83ba\")>,\n",
       " <selenium.webdriver.remote.webelement.WebElement (session=\"6aa20650a8a66cc6b15581c264a35ba4\", element=\"84a8bf5c-0f30-4a39-b2f2-76415f3cfe7b\")>,\n",
       " <selenium.webdriver.remote.webelement.WebElement (session=\"6aa20650a8a66cc6b15581c264a35ba4\", element=\"93bc8edd-5bf0-42e2-b30e-104702a60beb\")>,\n",
       " <selenium.webdriver.remote.webelement.WebElement (session=\"6aa20650a8a66cc6b15581c264a35ba4\", element=\"bf299678-9270-4c18-8051-84841b903942\")>,\n",
       " <selenium.webdriver.remote.webelement.WebElement (session=\"6aa20650a8a66cc6b15581c264a35ba4\", element=\"5e6a6c51-3aa0-4775-858c-5bd0cd123f18\")>,\n",
       " <selenium.webdriver.remote.webelement.WebElement (session=\"6aa20650a8a66cc6b15581c264a35ba4\", element=\"e0a3d3d7-3c61-4109-b142-36696150506f\")>,\n",
       " <selenium.webdriver.remote.webelement.WebElement (session=\"6aa20650a8a66cc6b15581c264a35ba4\", element=\"7fb67ab6-e8a4-4cf3-aec4-98a510116e7c\")>,\n",
       " <selenium.webdriver.remote.webelement.WebElement (session=\"6aa20650a8a66cc6b15581c264a35ba4\", element=\"1bba2122-8b92-4b84-b563-6ff2894d93f8\")>,\n",
       " <selenium.webdriver.remote.webelement.WebElement (session=\"6aa20650a8a66cc6b15581c264a35ba4\", element=\"adc87897-06bd-4158-bdc3-377a867c1319\")>,\n",
       " <selenium.webdriver.remote.webelement.WebElement (session=\"6aa20650a8a66cc6b15581c264a35ba4\", element=\"884c3c45-f424-4fc8-9f70-e28df2e8c638\")>,\n",
       " <selenium.webdriver.remote.webelement.WebElement (session=\"6aa20650a8a66cc6b15581c264a35ba4\", element=\"ac5fa8cc-1964-46f6-b724-4f6fb9499f3d\")>,\n",
       " <selenium.webdriver.remote.webelement.WebElement (session=\"6aa20650a8a66cc6b15581c264a35ba4\", element=\"88bf2338-8992-4c36-a7fb-2bcf8c8eda14\")>]"
      ]
     },
     "execution_count": 178,
     "metadata": {},
     "output_type": "execute_result"
    }
   ],
   "source": [
    "\n",
    "description_tags=driver.find_elements_by_xpath(\"//div[@class='_2B099V']//a[1]\")\n",
    "description_tags "
   ]
  },
  {
   "cell_type": "code",
   "execution_count": 179,
   "metadata": {
    "scrolled": true
   },
   "outputs": [
    {
     "data": {
      "text/plain": [
       "['Sneakers For Men',\n",
       " 'Sneakers For Men',\n",
       " \"Original Luxury Branded Fashionable Men's Casual Walkin...\",\n",
       " 'Unique & Perfect Collection Combo Pack of 02 Shoes for ...',\n",
       " 'Sneakers For Men',\n",
       " 'Sneakers For Men',\n",
       " 'Super Stylish & Trendy Combo Pack of 02 Pairs Sneakers ...',\n",
       " 'Cipramo Canvas Shoes for Men Sneakers For Men',\n",
       " 'Sneakers For Men',\n",
       " 'Combo Pack Of 4 Casual Shoes Loafer Shoes Sneakers For ...',\n",
       " 'casual for men (blue 06) Sneakers For Men',\n",
       " 'Sneakers For Men',\n",
       " 'Sneakers For Men',\n",
       " '5011-Latest Collection Stylish Casual Loafer Sneakers S...',\n",
       " '494 Perfect Sports Shoes for Running Training Hikking &...',\n",
       " 'Sneakers For Men',\n",
       " 'Luxury Fashionable casual sneaker shoes Sneakers For Me...',\n",
       " 'Speed Set of 5 Pairs Sneakers Outdoors Casuals for Men ...',\n",
       " 'Sneakers for men(black_6) Sneakers For Men',\n",
       " 'Sneakers For Men',\n",
       " 'Fashion Outdoor Canvas Casual Light Weight Lace-up Even...',\n",
       " \"White Sneaker For Men's/Boy's Sneakers For Men\",\n",
       " 'Sneakers For Men',\n",
       " 'Combo Pack of 4 Casual Sneakers With Sneakers For Men',\n",
       " 'Sneakers For Men',\n",
       " 'Perfect & Affordable Combo Pack of 03 Pairs Casual Snea...',\n",
       " 'Sneakers Sneakers For Men',\n",
       " 'Sneakers For Men',\n",
       " 'Modern & Trendy Collection Combo Pack of 02 Shoes for M...',\n",
       " 'White Sneaker for Men Sneakers For Men',\n",
       " 'Men 5014 Latest Collection Stylish Casual Sports Loafer...',\n",
       " 'MAPF1 X-RAY 2 Sneakers For Men',\n",
       " 'Fashionable casual sneakers shoes Sneakers For Men',\n",
       " 'Black Sneaker For Men Sneakers For Men',\n",
       " 'Series 7 Sneakers For Men',\n",
       " 'Casual Sneakers Shoes For Men Sneakers For Men Sneakers...',\n",
       " 'SM439G Sneakers For Men',\n",
       " 'Men Boxer Sneakers For Men',\n",
       " 'Perfect & Affordable Combo Pack of 02 Pairs Sneakers Ou...',\n",
       " 'Puma Smash v2 Buck Sneakers For Men']"
      ]
     },
     "execution_count": 179,
     "metadata": {},
     "output_type": "execute_result"
    }
   ],
   "source": [
    "description_names=[]\n",
    "for i in description_tags:\n",
    "    description_names.append(i.text)\n",
    "description_names"
   ]
  },
  {
   "cell_type": "markdown",
   "metadata": {},
   "source": [
    "Scrape description names"
   ]
  },
  {
   "cell_type": "code",
   "execution_count": 180,
   "metadata": {},
   "outputs": [
    {
     "data": {
      "text/plain": [
       "[<selenium.webdriver.remote.webelement.WebElement (session=\"6aa20650a8a66cc6b15581c264a35ba4\", element=\"20582d12-45cf-4c95-8987-210aec9e6bd8\")>,\n",
       " <selenium.webdriver.remote.webelement.WebElement (session=\"6aa20650a8a66cc6b15581c264a35ba4\", element=\"a503c770-087d-4632-8568-c019b1139880\")>,\n",
       " <selenium.webdriver.remote.webelement.WebElement (session=\"6aa20650a8a66cc6b15581c264a35ba4\", element=\"2d155b00-76c7-4c13-a97e-072a3f441d8e\")>,\n",
       " <selenium.webdriver.remote.webelement.WebElement (session=\"6aa20650a8a66cc6b15581c264a35ba4\", element=\"db52f8e3-50d7-41b5-af71-a85a9efc097f\")>,\n",
       " <selenium.webdriver.remote.webelement.WebElement (session=\"6aa20650a8a66cc6b15581c264a35ba4\", element=\"f1259084-1aa9-458c-8efa-4bbb0f18a21a\")>,\n",
       " <selenium.webdriver.remote.webelement.WebElement (session=\"6aa20650a8a66cc6b15581c264a35ba4\", element=\"39dde8bf-5ce6-4110-bdcd-d748a2bf54f2\")>,\n",
       " <selenium.webdriver.remote.webelement.WebElement (session=\"6aa20650a8a66cc6b15581c264a35ba4\", element=\"d9eeb14d-535f-4363-b3b7-7d41d52bec9e\")>,\n",
       " <selenium.webdriver.remote.webelement.WebElement (session=\"6aa20650a8a66cc6b15581c264a35ba4\", element=\"90f2ccaf-e9c2-4034-b06b-08f5fd29c35a\")>,\n",
       " <selenium.webdriver.remote.webelement.WebElement (session=\"6aa20650a8a66cc6b15581c264a35ba4\", element=\"671a2af5-c98e-4b1a-bb6e-65b1f15423a7\")>,\n",
       " <selenium.webdriver.remote.webelement.WebElement (session=\"6aa20650a8a66cc6b15581c264a35ba4\", element=\"14e1829c-e8b5-4da5-be1a-a423022d96eb\")>,\n",
       " <selenium.webdriver.remote.webelement.WebElement (session=\"6aa20650a8a66cc6b15581c264a35ba4\", element=\"56852be0-807a-4bcc-bd5e-8e7b5d13d877\")>,\n",
       " <selenium.webdriver.remote.webelement.WebElement (session=\"6aa20650a8a66cc6b15581c264a35ba4\", element=\"0ccefd30-16f5-49de-9110-78305a4a7fa4\")>,\n",
       " <selenium.webdriver.remote.webelement.WebElement (session=\"6aa20650a8a66cc6b15581c264a35ba4\", element=\"b7966475-e6b8-4a69-a3bb-2cdab175a35b\")>,\n",
       " <selenium.webdriver.remote.webelement.WebElement (session=\"6aa20650a8a66cc6b15581c264a35ba4\", element=\"a0ffcc48-afc1-4440-a1b4-3d0a220faaa5\")>,\n",
       " <selenium.webdriver.remote.webelement.WebElement (session=\"6aa20650a8a66cc6b15581c264a35ba4\", element=\"57084ad7-f5c2-46b6-b35c-4e24b33a0b09\")>,\n",
       " <selenium.webdriver.remote.webelement.WebElement (session=\"6aa20650a8a66cc6b15581c264a35ba4\", element=\"1c7ff55c-8ad7-4122-ba74-3eed2db6d88e\")>,\n",
       " <selenium.webdriver.remote.webelement.WebElement (session=\"6aa20650a8a66cc6b15581c264a35ba4\", element=\"6bf8bd0c-515a-42ca-a251-44376a7271a4\")>,\n",
       " <selenium.webdriver.remote.webelement.WebElement (session=\"6aa20650a8a66cc6b15581c264a35ba4\", element=\"fabe3810-50fd-4b29-bd92-ae7145aba5a5\")>,\n",
       " <selenium.webdriver.remote.webelement.WebElement (session=\"6aa20650a8a66cc6b15581c264a35ba4\", element=\"8855fb48-718a-4210-9677-88247341ceb5\")>,\n",
       " <selenium.webdriver.remote.webelement.WebElement (session=\"6aa20650a8a66cc6b15581c264a35ba4\", element=\"91c086db-ff11-4ce2-b4d6-c9ef3a81c6c3\")>,\n",
       " <selenium.webdriver.remote.webelement.WebElement (session=\"6aa20650a8a66cc6b15581c264a35ba4\", element=\"ea35e42e-956e-4e0f-ba7e-2491784cfa33\")>,\n",
       " <selenium.webdriver.remote.webelement.WebElement (session=\"6aa20650a8a66cc6b15581c264a35ba4\", element=\"3d64e75d-5704-45da-abe5-30a15ea3fb6e\")>,\n",
       " <selenium.webdriver.remote.webelement.WebElement (session=\"6aa20650a8a66cc6b15581c264a35ba4\", element=\"b32abcc7-3da2-40bc-92f5-d583e53100a2\")>,\n",
       " <selenium.webdriver.remote.webelement.WebElement (session=\"6aa20650a8a66cc6b15581c264a35ba4\", element=\"41f5f8ec-ec49-41ed-857a-e9bfcd71c537\")>,\n",
       " <selenium.webdriver.remote.webelement.WebElement (session=\"6aa20650a8a66cc6b15581c264a35ba4\", element=\"3d5b5907-874c-478c-acb5-ef7b700ce0d8\")>,\n",
       " <selenium.webdriver.remote.webelement.WebElement (session=\"6aa20650a8a66cc6b15581c264a35ba4\", element=\"2515bcfb-d76c-4e4d-8632-0913ae95d085\")>,\n",
       " <selenium.webdriver.remote.webelement.WebElement (session=\"6aa20650a8a66cc6b15581c264a35ba4\", element=\"c213f911-c82c-4e00-ab32-01cc176f7fba\")>,\n",
       " <selenium.webdriver.remote.webelement.WebElement (session=\"6aa20650a8a66cc6b15581c264a35ba4\", element=\"00d3178b-aa9b-4d37-a0af-c165e17492e0\")>,\n",
       " <selenium.webdriver.remote.webelement.WebElement (session=\"6aa20650a8a66cc6b15581c264a35ba4\", element=\"ccd59998-ba9a-4bea-a78a-51c36065303d\")>,\n",
       " <selenium.webdriver.remote.webelement.WebElement (session=\"6aa20650a8a66cc6b15581c264a35ba4\", element=\"e1ea26cb-4dcf-41de-905e-c3cc719f5b40\")>,\n",
       " <selenium.webdriver.remote.webelement.WebElement (session=\"6aa20650a8a66cc6b15581c264a35ba4\", element=\"f865a84c-068b-406a-9f8a-082e26b48f4c\")>,\n",
       " <selenium.webdriver.remote.webelement.WebElement (session=\"6aa20650a8a66cc6b15581c264a35ba4\", element=\"94c1c21f-f841-4649-86d4-93d6656ef4d5\")>,\n",
       " <selenium.webdriver.remote.webelement.WebElement (session=\"6aa20650a8a66cc6b15581c264a35ba4\", element=\"4e4122a2-582f-413f-b969-5f3f1edb2e68\")>,\n",
       " <selenium.webdriver.remote.webelement.WebElement (session=\"6aa20650a8a66cc6b15581c264a35ba4\", element=\"b6762060-7ace-4621-bd99-e1db247cfd44\")>,\n",
       " <selenium.webdriver.remote.webelement.WebElement (session=\"6aa20650a8a66cc6b15581c264a35ba4\", element=\"920ef154-737c-43d3-b3cb-5a532c88b25d\")>,\n",
       " <selenium.webdriver.remote.webelement.WebElement (session=\"6aa20650a8a66cc6b15581c264a35ba4\", element=\"48dcbd11-6751-4d1d-981b-b9aa689d86d5\")>,\n",
       " <selenium.webdriver.remote.webelement.WebElement (session=\"6aa20650a8a66cc6b15581c264a35ba4\", element=\"d86fe09f-3839-4d03-a7a9-13264af159e9\")>,\n",
       " <selenium.webdriver.remote.webelement.WebElement (session=\"6aa20650a8a66cc6b15581c264a35ba4\", element=\"d6dcc76b-36ed-4d69-8e35-a45f141cf090\")>,\n",
       " <selenium.webdriver.remote.webelement.WebElement (session=\"6aa20650a8a66cc6b15581c264a35ba4\", element=\"95a06415-bfda-41b0-aeb3-782d50caa208\")>,\n",
       " <selenium.webdriver.remote.webelement.WebElement (session=\"6aa20650a8a66cc6b15581c264a35ba4\", element=\"14bf871a-ec90-4a71-b1bf-08542f1a4ee3\")>]"
      ]
     },
     "execution_count": 180,
     "metadata": {},
     "output_type": "execute_result"
    }
   ],
   "source": [
    "prise_tags=driver.find_elements_by_xpath(\"//div[@class='_30jeq3']\")\n",
    "prise_tags"
   ]
  },
  {
   "cell_type": "code",
   "execution_count": 181,
   "metadata": {},
   "outputs": [
    {
     "data": {
      "text/plain": [
       "['₹1,289',\n",
       " '₹1,259',\n",
       " '₹499',\n",
       " '₹420',\n",
       " '₹426',\n",
       " '₹356',\n",
       " '₹536',\n",
       " '₹630',\n",
       " '₹378',\n",
       " '₹399',\n",
       " '₹399',\n",
       " '₹426',\n",
       " '₹399',\n",
       " '₹240',\n",
       " '₹254',\n",
       " '₹399',\n",
       " '₹399',\n",
       " '₹679',\n",
       " '₹399',\n",
       " '₹1,259',\n",
       " '₹474',\n",
       " '₹331',\n",
       " '₹474',\n",
       " '₹424',\n",
       " '₹299',\n",
       " '₹594',\n",
       " '₹398',\n",
       " '₹1,209',\n",
       " '₹499',\n",
       " '₹407',\n",
       " '₹240',\n",
       " '₹3,690',\n",
       " '₹449',\n",
       " '₹426',\n",
       " '₹416',\n",
       " '₹499',\n",
       " '₹629',\n",
       " '₹260',\n",
       " '₹447',\n",
       " '₹1,437']"
      ]
     },
     "execution_count": 181,
     "metadata": {},
     "output_type": "execute_result"
    }
   ],
   "source": [
    "prise_cost=[]\n",
    "for i in prise_tags:\n",
    "    prise_cost.append(i.text)\n",
    "prise_cost"
   ]
  },
  {
   "cell_type": "markdown",
   "metadata": {},
   "source": [
    "Scrape prise information"
   ]
  },
  {
   "cell_type": "code",
   "execution_count": 182,
   "metadata": {
    "scrolled": true
   },
   "outputs": [
    {
     "data": {
      "text/plain": [
       "[<selenium.webdriver.remote.webelement.WebElement (session=\"6aa20650a8a66cc6b15581c264a35ba4\", element=\"bedaed70-df44-40ac-a8bc-8f0141d5565b\")>,\n",
       " <selenium.webdriver.remote.webelement.WebElement (session=\"6aa20650a8a66cc6b15581c264a35ba4\", element=\"dc8ff59b-0ab3-477c-86f1-9ccb23759111\")>,\n",
       " <selenium.webdriver.remote.webelement.WebElement (session=\"6aa20650a8a66cc6b15581c264a35ba4\", element=\"ae0ab379-f659-4255-b072-5ad094072677\")>,\n",
       " <selenium.webdriver.remote.webelement.WebElement (session=\"6aa20650a8a66cc6b15581c264a35ba4\", element=\"e620e114-3103-4fd8-9fea-5026875d43b0\")>,\n",
       " <selenium.webdriver.remote.webelement.WebElement (session=\"6aa20650a8a66cc6b15581c264a35ba4\", element=\"c3076ed9-476a-4de7-b10a-3ab4019ab902\")>,\n",
       " <selenium.webdriver.remote.webelement.WebElement (session=\"6aa20650a8a66cc6b15581c264a35ba4\", element=\"8b769152-76f4-470f-9d8d-bb79142c8d2e\")>,\n",
       " <selenium.webdriver.remote.webelement.WebElement (session=\"6aa20650a8a66cc6b15581c264a35ba4\", element=\"b04bc195-e8d8-438e-9f7c-f5f99feb5e8a\")>,\n",
       " <selenium.webdriver.remote.webelement.WebElement (session=\"6aa20650a8a66cc6b15581c264a35ba4\", element=\"6c313e5b-b4a5-4c1e-a3d8-f3cb9e7f9930\")>,\n",
       " <selenium.webdriver.remote.webelement.WebElement (session=\"6aa20650a8a66cc6b15581c264a35ba4\", element=\"d3368578-0fca-4031-8c3a-864b28faed14\")>,\n",
       " <selenium.webdriver.remote.webelement.WebElement (session=\"6aa20650a8a66cc6b15581c264a35ba4\", element=\"77ce26c4-3b8e-4684-acf5-f02b3f79a027\")>,\n",
       " <selenium.webdriver.remote.webelement.WebElement (session=\"6aa20650a8a66cc6b15581c264a35ba4\", element=\"731c85ab-ca7a-4015-8b88-e689cd55d827\")>,\n",
       " <selenium.webdriver.remote.webelement.WebElement (session=\"6aa20650a8a66cc6b15581c264a35ba4\", element=\"8e8b7504-17fd-41c8-aed4-a358bb4e727e\")>,\n",
       " <selenium.webdriver.remote.webelement.WebElement (session=\"6aa20650a8a66cc6b15581c264a35ba4\", element=\"5a918575-7dfd-4f2e-bf5e-a42aed23c9e5\")>,\n",
       " <selenium.webdriver.remote.webelement.WebElement (session=\"6aa20650a8a66cc6b15581c264a35ba4\", element=\"38e1be59-01de-4e1a-a475-17f5a0753171\")>,\n",
       " <selenium.webdriver.remote.webelement.WebElement (session=\"6aa20650a8a66cc6b15581c264a35ba4\", element=\"31d432bb-339c-4496-add1-0fee1686335b\")>,\n",
       " <selenium.webdriver.remote.webelement.WebElement (session=\"6aa20650a8a66cc6b15581c264a35ba4\", element=\"2f2ef890-9e45-42b6-884a-433b527f7f38\")>,\n",
       " <selenium.webdriver.remote.webelement.WebElement (session=\"6aa20650a8a66cc6b15581c264a35ba4\", element=\"8294932e-bee7-4526-bba4-877e3846502b\")>,\n",
       " <selenium.webdriver.remote.webelement.WebElement (session=\"6aa20650a8a66cc6b15581c264a35ba4\", element=\"383703d2-ad6a-4543-8291-83b3094846d1\")>,\n",
       " <selenium.webdriver.remote.webelement.WebElement (session=\"6aa20650a8a66cc6b15581c264a35ba4\", element=\"7982fb1e-9cd9-470e-ab82-fba477059487\")>,\n",
       " <selenium.webdriver.remote.webelement.WebElement (session=\"6aa20650a8a66cc6b15581c264a35ba4\", element=\"5c47f44a-37ba-4569-8361-c1823477d6b2\")>,\n",
       " <selenium.webdriver.remote.webelement.WebElement (session=\"6aa20650a8a66cc6b15581c264a35ba4\", element=\"7e0397f6-9141-486c-8b6b-38e1683a8062\")>,\n",
       " <selenium.webdriver.remote.webelement.WebElement (session=\"6aa20650a8a66cc6b15581c264a35ba4\", element=\"0d0237ed-a380-4e00-b1f1-ff53cdfb6a31\")>,\n",
       " <selenium.webdriver.remote.webelement.WebElement (session=\"6aa20650a8a66cc6b15581c264a35ba4\", element=\"efd87471-156d-4a8b-ba2d-f8adb799463b\")>,\n",
       " <selenium.webdriver.remote.webelement.WebElement (session=\"6aa20650a8a66cc6b15581c264a35ba4\", element=\"ff4daaf9-b45f-4012-a10e-dfcce9d71823\")>,\n",
       " <selenium.webdriver.remote.webelement.WebElement (session=\"6aa20650a8a66cc6b15581c264a35ba4\", element=\"9d1a5488-0b23-4dad-8fa4-f59fd4a213b7\")>,\n",
       " <selenium.webdriver.remote.webelement.WebElement (session=\"6aa20650a8a66cc6b15581c264a35ba4\", element=\"0dd91540-6dec-439a-8415-4613291c17f0\")>,\n",
       " <selenium.webdriver.remote.webelement.WebElement (session=\"6aa20650a8a66cc6b15581c264a35ba4\", element=\"9a70ffef-1c34-4ab6-be57-2ab1d4cadfec\")>,\n",
       " <selenium.webdriver.remote.webelement.WebElement (session=\"6aa20650a8a66cc6b15581c264a35ba4\", element=\"4358d928-bae8-493b-b170-7fc7be5cda7e\")>,\n",
       " <selenium.webdriver.remote.webelement.WebElement (session=\"6aa20650a8a66cc6b15581c264a35ba4\", element=\"b08176c9-34b1-44f7-aa3d-a8273029a0d5\")>,\n",
       " <selenium.webdriver.remote.webelement.WebElement (session=\"6aa20650a8a66cc6b15581c264a35ba4\", element=\"6c924258-3dfc-4fa5-9ab9-6266158c503f\")>,\n",
       " <selenium.webdriver.remote.webelement.WebElement (session=\"6aa20650a8a66cc6b15581c264a35ba4\", element=\"09ec6fd5-aa91-45c5-bef4-57afa0907228\")>,\n",
       " <selenium.webdriver.remote.webelement.WebElement (session=\"6aa20650a8a66cc6b15581c264a35ba4\", element=\"2eb42fc5-14ab-4f2c-a8a9-0232bd9c01bf\")>,\n",
       " <selenium.webdriver.remote.webelement.WebElement (session=\"6aa20650a8a66cc6b15581c264a35ba4\", element=\"137f865a-ae6c-4142-ad65-bf3ab93fc6d9\")>,\n",
       " <selenium.webdriver.remote.webelement.WebElement (session=\"6aa20650a8a66cc6b15581c264a35ba4\", element=\"133fac4b-1f16-43ee-a767-f41c810ce6ac\")>,\n",
       " <selenium.webdriver.remote.webelement.WebElement (session=\"6aa20650a8a66cc6b15581c264a35ba4\", element=\"1c0f85e0-7ead-4a70-9b96-648a985a74f8\")>,\n",
       " <selenium.webdriver.remote.webelement.WebElement (session=\"6aa20650a8a66cc6b15581c264a35ba4\", element=\"197e5b68-1a0b-4716-a81c-43756ba8b17a\")>,\n",
       " <selenium.webdriver.remote.webelement.WebElement (session=\"6aa20650a8a66cc6b15581c264a35ba4\", element=\"a92f755f-947e-44fa-9c0c-e838d9a6c016\")>,\n",
       " <selenium.webdriver.remote.webelement.WebElement (session=\"6aa20650a8a66cc6b15581c264a35ba4\", element=\"4f549777-c7e0-4cd1-9311-e68995b7a285\")>,\n",
       " <selenium.webdriver.remote.webelement.WebElement (session=\"6aa20650a8a66cc6b15581c264a35ba4\", element=\"89ae097a-c4d2-453f-a893-ea74fb7aac39\")>,\n",
       " <selenium.webdriver.remote.webelement.WebElement (session=\"6aa20650a8a66cc6b15581c264a35ba4\", element=\"6c1a38ad-8773-4724-905f-03fe43a65ae5\")>]"
      ]
     },
     "execution_count": 182,
     "metadata": {},
     "output_type": "execute_result"
    }
   ],
   "source": [
    "discount_tags=driver.find_elements_by_xpath(\"//div[@class='_3Ay6Sb']//span\")\n",
    "discount_tags"
   ]
  },
  {
   "cell_type": "code",
   "execution_count": 183,
   "metadata": {},
   "outputs": [
    {
     "data": {
      "text/plain": [
       "['65% off',\n",
       " '65% off',\n",
       " '75% off',\n",
       " '71% off',\n",
       " '78% off',\n",
       " '64% off',\n",
       " '66% off',\n",
       " '36% off',\n",
       " '62% off',\n",
       " '88% off',\n",
       " '60% off',\n",
       " '78% off',\n",
       " '60% off',\n",
       " '51% off',\n",
       " '74% off',\n",
       " '60% off',\n",
       " '69% off',\n",
       " '72% off',\n",
       " '60% off',\n",
       " '65% off',\n",
       " '52% off',\n",
       " '66% off',\n",
       " '52% off',\n",
       " '78% off',\n",
       " '70% off',\n",
       " '77% off',\n",
       " '60% off',\n",
       " '68% off',\n",
       " '80% off',\n",
       " '68% off',\n",
       " '51% off',\n",
       " '53% off',\n",
       " '85% off',\n",
       " '67% off',\n",
       " '58% off',\n",
       " '50% off',\n",
       " '10% off',\n",
       " '47% off',\n",
       " '75% off',\n",
       " '58% off']"
      ]
     },
     "execution_count": 183,
     "metadata": {},
     "output_type": "execute_result"
    }
   ],
   "source": [
    "discount_cost=[]\n",
    "for i in discount_tags:\n",
    "    discount_cost.append(i.text)\n",
    "discount_cost"
   ]
  },
  {
   "cell_type": "markdown",
   "metadata": {},
   "source": [
    "Scrape discount information"
   ]
  },
  {
   "cell_type": "code",
   "execution_count": 184,
   "metadata": {},
   "outputs": [
    {
     "data": {
      "text/plain": [
       "[<selenium.webdriver.remote.webelement.WebElement (session=\"6aa20650a8a66cc6b15581c264a35ba4\", element=\"dd0c1adc-e9fe-4955-8c4b-9073d1810686\")>,\n",
       " <selenium.webdriver.remote.webelement.WebElement (session=\"6aa20650a8a66cc6b15581c264a35ba4\", element=\"6ee51195-0f02-4126-a6ad-90d47a812d2b\")>,\n",
       " <selenium.webdriver.remote.webelement.WebElement (session=\"6aa20650a8a66cc6b15581c264a35ba4\", element=\"a20aa8dc-aebb-402f-94f0-a6f0e3ed0d6e\")>,\n",
       " <selenium.webdriver.remote.webelement.WebElement (session=\"6aa20650a8a66cc6b15581c264a35ba4\", element=\"98643b57-eb70-4899-8166-bceb77ca5dc0\")>,\n",
       " <selenium.webdriver.remote.webelement.WebElement (session=\"6aa20650a8a66cc6b15581c264a35ba4\", element=\"6708c180-4f4b-4c51-bb75-202e67ff2afc\")>,\n",
       " <selenium.webdriver.remote.webelement.WebElement (session=\"6aa20650a8a66cc6b15581c264a35ba4\", element=\"d30eea85-3574-41dd-8f5b-32ca053958d2\")>,\n",
       " <selenium.webdriver.remote.webelement.WebElement (session=\"6aa20650a8a66cc6b15581c264a35ba4\", element=\"c4b3c522-1615-442e-8a30-d081f75da9ad\")>,\n",
       " <selenium.webdriver.remote.webelement.WebElement (session=\"6aa20650a8a66cc6b15581c264a35ba4\", element=\"cfaee1f1-249a-4f57-a271-883fa0b788f0\")>,\n",
       " <selenium.webdriver.remote.webelement.WebElement (session=\"6aa20650a8a66cc6b15581c264a35ba4\", element=\"5c755d81-01eb-46ca-b113-93b90c3caa12\")>,\n",
       " <selenium.webdriver.remote.webelement.WebElement (session=\"6aa20650a8a66cc6b15581c264a35ba4\", element=\"5f59fb9f-5628-45a1-ad58-63e8315efd24\")>,\n",
       " <selenium.webdriver.remote.webelement.WebElement (session=\"6aa20650a8a66cc6b15581c264a35ba4\", element=\"908f33a7-7a95-45d0-a626-16ec8a1cbc88\")>]"
      ]
     },
     "execution_count": 184,
     "metadata": {},
     "output_type": "execute_result"
    }
   ],
   "source": [
    "url=driver.find_elements_by_xpath(\"//nav[@class='yFHi8N']//a\")\n",
    "url"
   ]
  },
  {
   "cell_type": "markdown",
   "metadata": {},
   "source": [
    "Scrape multiple pages URL"
   ]
  },
  {
   "cell_type": "code",
   "execution_count": 185,
   "metadata": {},
   "outputs": [
    {
     "data": {
      "text/plain": [
       "['https://www.flipkart.com/search?q=sneakers&otracker=search&otracker1=search&marketplace=FLIPKART&as-show=on&as=off&page=1',\n",
       " 'https://www.flipkart.com/search?q=sneakers&otracker=search&otracker1=search&marketplace=FLIPKART&as-show=on&as=off&page=2',\n",
       " 'https://www.flipkart.com/search?q=sneakers&otracker=search&otracker1=search&marketplace=FLIPKART&as-show=on&as=off&page=3',\n",
       " 'https://www.flipkart.com/search?q=sneakers&otracker=search&otracker1=search&marketplace=FLIPKART&as-show=on&as=off&page=4',\n",
       " 'https://www.flipkart.com/search?q=sneakers&otracker=search&otracker1=search&marketplace=FLIPKART&as-show=on&as=off&page=5',\n",
       " 'https://www.flipkart.com/search?q=sneakers&otracker=search&otracker1=search&marketplace=FLIPKART&as-show=on&as=off&page=6',\n",
       " 'https://www.flipkart.com/search?q=sneakers&otracker=search&otracker1=search&marketplace=FLIPKART&as-show=on&as=off&page=7',\n",
       " 'https://www.flipkart.com/search?q=sneakers&otracker=search&otracker1=search&marketplace=FLIPKART&as-show=on&as=off&page=8',\n",
       " 'https://www.flipkart.com/search?q=sneakers&otracker=search&otracker1=search&marketplace=FLIPKART&as-show=on&as=off&page=9',\n",
       " 'https://www.flipkart.com/search?q=sneakers&otracker=search&otracker1=search&marketplace=FLIPKART&as-show=on&as=off&page=10',\n",
       " 'https://www.flipkart.com/search?q=sneakers&otracker=search&otracker1=search&marketplace=FLIPKART&as-show=on&as=off&page=2']"
      ]
     },
     "execution_count": 185,
     "metadata": {},
     "output_type": "execute_result"
    }
   ],
   "source": [
    "page_url = []\n",
    "url = driver.find_elements_by_xpath(\"//nav[@class='yFHi8N']//a\")\n",
    "for i in url:\n",
    "    page_url.append(i.get_attribute(\"href\"))\n",
    "page_url"
   ]
  },
  {
   "cell_type": "markdown",
   "metadata": {},
   "source": [
    "Scrape the URL names of multiple pages"
   ]
  },
  {
   "cell_type": "code",
   "execution_count": 231,
   "metadata": {},
   "outputs": [
    {
     "data": {
      "text/plain": [
       "['DUCATI',\n",
       " 'City Soles',\n",
       " 'ASTEROID',\n",
       " 'Chevit',\n",
       " 'Numenzo',\n",
       " 'Magnolia',\n",
       " 'Chevit',\n",
       " 'Numenzo',\n",
       " 'Numenzo',\n",
       " 'BRUTON',\n",
       " 'bluemaker',\n",
       " 'Strollin',\n",
       " 'World Wear Footwear',\n",
       " 'PEHANOSA',\n",
       " 'Chevit',\n",
       " 'DUCATI',\n",
       " 'luxury fashion',\n",
       " 'Chevit',\n",
       " 'believe',\n",
       " 'DUCATI',\n",
       " 'RODDICK SHOES',\n",
       " 'Shoes Bank',\n",
       " 'Robbie jones',\n",
       " 'Chevit',\n",
       " 'Red Rose',\n",
       " 'Chevit',\n",
       " 'Nilatin',\n",
       " 'STRANGER BROTHERS',\n",
       " 'BRUTON',\n",
       " 'SCATCHITE',\n",
       " 'India hub',\n",
       " 'PUMA',\n",
       " 'World Wear Footwear',\n",
       " 'Kraasa',\n",
       " 'SPARX',\n",
       " 'PUMA',\n",
       " 'Nilatin',\n",
       " 'Longwalk',\n",
       " 'Chevit',\n",
       " 'NIKE',\n",
       " 'BIRDE',\n",
       " 'CALCADOS',\n",
       " 'Zorth',\n",
       " 'DUCATI',\n",
       " 'Edoeviv',\n",
       " 'Creer',\n",
       " 'Ktiz',\n",
       " 'City Soles',\n",
       " 'Fzzirok',\n",
       " 'Zsyto',\n",
       " 'India hub',\n",
       " 'Numenzo',\n",
       " 'SPARX',\n",
       " 'World Wear Footwear',\n",
       " 'Ktiz',\n",
       " 'DUCATI',\n",
       " 'D-SNEAKERZ',\n",
       " 'PUMA',\n",
       " 'RED TAPE',\n",
       " 'Strollin',\n",
       " 'Zorth',\n",
       " 'RED TAPE',\n",
       " 'World Wear Footwear',\n",
       " 'BRUTON',\n",
       " 'PUMA',\n",
       " 'SPARX',\n",
       " 'PUMA',\n",
       " 'DUCATI',\n",
       " 'Labbin',\n",
       " 'HOCKWOOD',\n",
       " 'tigonis',\n",
       " 'STRANGER BROTHERS',\n",
       " 'Zixer',\n",
       " 'Edoeviv',\n",
       " 'Jack Diamond',\n",
       " 'Chevit',\n",
       " 'Labbin',\n",
       " 'Robbie jones',\n",
       " 'Chevit',\n",
       " 'BRUTON',\n",
       " 'ROCKFIELD',\n",
       " 'bluemaker',\n",
       " 'ROCKFIELD',\n",
       " 'DUCATI',\n",
       " 'SPARX',\n",
       " 'WRIZT',\n",
       " 'ESSENCE',\n",
       " 'City Soles',\n",
       " 'mannu',\n",
       " 'Bonexy',\n",
       " 'SPARX',\n",
       " 'Numenzo',\n",
       " 'RODDICK SHOES',\n",
       " 'SPARX',\n",
       " 'D-SNEAKERZ',\n",
       " 'DUCATI',\n",
       " 'ESSENCE',\n",
       " 'Robbie jones',\n",
       " 'Magnolia',\n",
       " 'Strollin',\n",
       " 'HOTSTYLE',\n",
       " 'PUMA',\n",
       " 'ORICUM',\n",
       " 'BRUTON',\n",
       " 'HOCKWOOD',\n",
       " 'PUMA',\n",
       " 'PUMA',\n",
       " 'DUCATI',\n",
       " 'PUMA',\n",
       " 'Robbie jones',\n",
       " 'Numenzo',\n",
       " 'Chevit',\n",
       " 'STRANGER BROTHERS',\n",
       " 'PUMA',\n",
       " 'Rising Wolf',\n",
       " 'BRUTON',\n",
       " 'kardam&sons',\n",
       " 'SPARX',\n",
       " 'D-SNEAKERZ',\n",
       " 'PUMA']"
      ]
     },
     "execution_count": 231,
     "metadata": {},
     "output_type": "execute_result"
    }
   ],
   "source": [
    "brand_titles=[]\n",
    "for i in page_url[:3]:\n",
    "    driver.get(i)\n",
    "    brand_tags=driver.find_elements_by_xpath(\"//div[@class='_2WkVRV']\")\n",
    "    for i in brand_tags:\n",
    "        brand_titles.append(i.text)\n",
    "brand_titles"
   ]
  },
  {
   "cell_type": "markdown",
   "metadata": {},
   "source": [
    "Scrape brand information"
   ]
  },
  {
   "cell_type": "code",
   "execution_count": 233,
   "metadata": {},
   "outputs": [
    {
     "data": {
      "text/plain": [
       "['Sneakers For Men',\n",
       " 'Cipramo Canvas Shoes for Men Sneakers For Men',\n",
       " \"Original Luxury Branded Fashionable Men's Casual Walkin...\",\n",
       " 'Unique & Perfect Collection Combo Pack of 02 Shoes for ...',\n",
       " 'Sneakers For Men',\n",
       " 'Sneakers For Men',\n",
       " 'Super Stylish & Trendy Combo Pack of 02 Pairs Sneakers ...',\n",
       " 'Sneakers For Men',\n",
       " 'Sneakers For Men',\n",
       " 'Combo Pack Of 4 Casual Shoes Loafer Shoes Sneakers For ...',\n",
       " 'casual for men (blue 06) Sneakers For Men',\n",
       " 'Sneakers For Men',\n",
       " '5011-Latest Collection Stylish Casual Loafer Sneakers S...',\n",
       " 'Sneakers For Men',\n",
       " '494 Perfect Sports Shoes for Running Training Hikking &...',\n",
       " 'Sneakers For Men',\n",
       " 'Luxury Fashionable casual sneaker shoes Sneakers For Me...',\n",
       " 'Speed Set of 5 Pairs Sneakers Outdoors Casuals for Men ...',\n",
       " 'Sneakers for men(black_6) Sneakers For Men',\n",
       " 'Sneakers For Men',\n",
       " 'Fashion Outdoor Canvas Casual Light Weight Lace-up Even...',\n",
       " \"White Sneaker For Men's/Boy's Sneakers For Men\",\n",
       " 'Sneakers For Men',\n",
       " 'Sneakers For Men',\n",
       " 'Sneakers For Men',\n",
       " 'Perfect & Affordable Combo Pack of 03 Pairs Casual Snea...',\n",
       " 'White Sneaker for Men Sneakers For Men',\n",
       " 'Combo Pack of 4 Casual Sneakers With Sneakers For Men',\n",
       " 'Modern & Trendy Collection Combo Pack of 02 Shoes for M...',\n",
       " 'Sneakers Sneakers For Men',\n",
       " 'Fashionable casual sneakers shoes Sneakers For Men',\n",
       " 'Urban SL Sneakers For Men',\n",
       " 'Men 5014 Latest Collection Stylish Casual Sports Loafer...',\n",
       " 'Series 7 Sneakers For Men',\n",
       " 'SM439G Sneakers For Men',\n",
       " 'MAPF1 X-RAY 2 Sneakers For Men',\n",
       " 'Black Sneaker For Men Sneakers For Men',\n",
       " 'Men Boxer Sneakers For Men',\n",
       " 'Perfect & Affordable Combo Pack of 02 Pairs Sneakers Ou...',\n",
       " 'Court Vision Low Sneakers For Men',\n",
       " 'Combo Pack of 4 Casual Shoes Sneakers For Men',\n",
       " 'Modern Trendy Shoes Combo pack of 4 Sneakers For Men',\n",
       " 'New Fashion Outdoor Trendy Lightweight Casual,Canvas St...',\n",
       " 'Sneakers For Men',\n",
       " \"Original Luxury Branded Fashionable Men's Casual Walkin...\",\n",
       " 'Sneakers For Men',\n",
       " \"White Sneaker For Men's/Boy's Sneakers For Men\",\n",
       " 'Cipramo Canvas Shoes for Men Sneakers For Men',\n",
       " 'Premium quality Sneakers For Men',\n",
       " 'Sneakers For Men',\n",
       " 'Fashionable casual sneakers shoes Sneakers For Men',\n",
       " 'Sneakers For Men',\n",
       " 'Men White Sneakers Sneakers For Men',\n",
       " 'Latest Collection-1227 Stylish Casual Sports Sneakers F...',\n",
       " 'Rockstyle Trending Multicolor Ultralight canvas Sport/ ...',\n",
       " 'Sneakers For Men',\n",
       " \"Casual , Partywear Sneakers Shoes For Men's And Boys Wh...\",\n",
       " 'X-Ray Sneakers For Men',\n",
       " 'Sneakers For Men',\n",
       " 'Sneakers For Men',\n",
       " 'Sneakers For Men',\n",
       " 'Sneakers For Men',\n",
       " 'Sneakers For Men',\n",
       " 'Combo Pack Of 4 Casual Shoes Loafer Shoes Sneakers For ...',\n",
       " 'Puma Smash v2 L Sneakers For Men',\n",
       " 'Canvas Casual Partywear Outdoor Sneakers Shoes For Mens...',\n",
       " 'Puma Rebound LayUp SL Sneakers For Men',\n",
       " 'Sneakers For Men',\n",
       " 'Casual Sneakers White Shoes For Men And Boys Sneakers F...',\n",
       " 'Street Smart Sneakers For Men',\n",
       " 'Sneakers For Men',\n",
       " 'Sneakers For Men',\n",
       " 'Shoes For Boys Dance shoes Sneakers For Men',\n",
       " \"Luxury Branded Fashionable Men's Casual Walking Partywe...\",\n",
       " 'Sneakers For Men',\n",
       " 'Combo Pack of 4 Casual Sneakers With Sneakers For Men',\n",
       " 'Sneakers For Men',\n",
       " 'Casual Sneakers Shoes For Men Sneakers For Men',\n",
       " 'Super 445 Fashion Sneakers For Men',\n",
       " 'Modern & Trendy Collection Combo Pack of 02 Shoes for M...',\n",
       " 'Sneakers For Men',\n",
       " 'casual for men (black 06) Sneakers For Men',\n",
       " 'Sneakers For Men',\n",
       " 'Sneakers For Men',\n",
       " 'SM-162 Sneakers For Men',\n",
       " 'Casual Sneakers,dancing, walking Sneakers For Men',\n",
       " 'Sneakers For Men',\n",
       " 'Cipramo Canvas Shoes for Men Sneakers For Men',\n",
       " 'High-end PU Sneakers Fashion CasualSports comfortable B...',\n",
       " 'Sneakers For Men',\n",
       " 'Casual Sneakers Sneakers For Men',\n",
       " 'Sneakers For Men',\n",
       " 'Fashion Outdoor Canvas Casual Light Weight Lace-up Even...',\n",
       " 'SM-439 Sneakers For Men',\n",
       " \"Casual , Partywear Sneakers Shoes For Men's And Boys Re...\",\n",
       " 'Sneakers For Men',\n",
       " 'Trendy Sneakers For Men',\n",
       " 'Casual Sneakers White Shoes For Men And Boys Sneakers F...',\n",
       " 'White Sneakers Sneakers For Men',\n",
       " 'Sneakers For Men',\n",
       " 'Sneakers Sneakers For Men',\n",
       " 'Simha IDP Sneakers For Men',\n",
       " 'Combo pack of 2 casual sneaker shoes for men Sneakers F...',\n",
       " 'Combo Pack Of 4 Casual Shoes Loafer Shoes Sneakers For ...',\n",
       " 'Street Smart Sneakers For Men',\n",
       " 'Rigel IDP Sneakers For Men',\n",
       " 'Max IDP Sneakers For Men',\n",
       " 'Sneakers For Men',\n",
       " 'Poise Perf V1 IDP Sneakers For Men',\n",
       " 'Casual Sneakers Shoes For Men Sneakers For Men',\n",
       " 'Sneakers For Men',\n",
       " 'Combo Pack of 4 Casual Sneakers With Sneakers For Men',\n",
       " 'Sneakers For Men',\n",
       " 'Flex Renew SlipOn Sneakers For Men',\n",
       " 'Sneakers For Men',\n",
       " 'Modern & Trendy Collection Combo Pack of 02 Shoes for M...',\n",
       " 'Fashionable casual sneaker shoes Sneakers For Men',\n",
       " 'SM-482 Sneakers For Men',\n",
       " \"Casual , Partywear Sneakers Shoes For Men's And Boys Wh...\",\n",
       " 'Urban SL Sneakers For Men']"
      ]
     },
     "execution_count": 233,
     "metadata": {},
     "output_type": "execute_result"
    }
   ],
   "source": [
    "description_names=[]\n",
    "for i in page_url[:3]:\n",
    "    driver.get(i)\n",
    "    description_tags=driver.find_elements_by_xpath(\"//div[@class='_2B099V']//a[1]\")\n",
    "    for i in description_tags:\n",
    "        description_names.append(i.text)\n",
    "description_names\n"
   ]
  },
  {
   "cell_type": "markdown",
   "metadata": {},
   "source": [
    "Scrape description names"
   ]
  },
  {
   "cell_type": "code",
   "execution_count": 236,
   "metadata": {},
   "outputs": [
    {
     "data": {
      "text/plain": [
       "['₹1,289',\n",
       " '₹630',\n",
       " '₹499',\n",
       " '₹420',\n",
       " '₹426',\n",
       " '₹356',\n",
       " '₹536',\n",
       " '₹426',\n",
       " '₹378',\n",
       " '₹399',\n",
       " '₹399',\n",
       " '₹399',\n",
       " '₹240',\n",
       " '₹399',\n",
       " '₹254',\n",
       " '₹1,259',\n",
       " '₹399',\n",
       " '₹679',\n",
       " '₹399',\n",
       " '₹1,209',\n",
       " '₹474',\n",
       " '₹331',\n",
       " '₹474',\n",
       " '₹424',\n",
       " '₹299',\n",
       " '₹594',\n",
       " '₹407',\n",
       " '₹449',\n",
       " '₹499',\n",
       " '₹398',\n",
       " '₹449',\n",
       " '₹1,614',\n",
       " '₹240',\n",
       " '₹416',\n",
       " '₹625',\n",
       " '₹3,690',\n",
       " '₹426',\n",
       " '₹260',\n",
       " '₹447',\n",
       " '₹499',\n",
       " '₹748',\n",
       " '₹450',\n",
       " '₹624',\n",
       " '₹1,289',\n",
       " '₹398',\n",
       " '₹474',\n",
       " '₹384',\n",
       " '₹630',\n",
       " '₹378',\n",
       " '₹625',\n",
       " '₹240',\n",
       " '₹426',\n",
       " '₹360',\n",
       " '₹449',\n",
       " '₹2,730',\n",
       " '₹399',\n",
       " '₹348',\n",
       " '₹429',\n",
       " '₹1,049',\n",
       " '₹1,259',\n",
       " '₹1,049',\n",
       " '₹439',\n",
       " '₹1,470',\n",
       " '₹399',\n",
       " '₹240',\n",
       " '₹629',\n",
       " '₹2,899',\n",
       " '₹399',\n",
       " '₹399',\n",
       " '₹674',\n",
       " '₹359',\n",
       " '₹1,209',\n",
       " '₹555',\n",
       " '₹449',\n",
       " '₹635',\n",
       " '₹449',\n",
       " '₹379',\n",
       " '₹449',\n",
       " '₹348',\n",
       " '₹424',\n",
       " '₹279',\n",
       " '₹379',\n",
       " '₹399',\n",
       " '₹1,289',\n",
       " '₹299',\n",
       " '₹946',\n",
       " '₹424',\n",
       " '₹630',\n",
       " '₹378',\n",
       " '₹353',\n",
       " '₹625',\n",
       " '₹426',\n",
       " '₹399',\n",
       " '₹346',\n",
       " '₹353',\n",
       " '₹1,259',\n",
       " '₹1,330',\n",
       " '₹499',\n",
       " '₹474',\n",
       " '₹399',\n",
       " '₹1,047',\n",
       " '₹311',\n",
       " '₹1,115',\n",
       " '₹399',\n",
       " '₹398',\n",
       " '₹267',\n",
       " '₹692',\n",
       " '₹1,209',\n",
       " '₹407',\n",
       " '₹1,322',\n",
       " '₹474',\n",
       " '₹424',\n",
       " '₹449',\n",
       " '₹449',\n",
       " '₹485',\n",
       " '₹499',\n",
       " '₹1,646',\n",
       " '₹384',\n",
       " '₹378',\n",
       " '₹1,614']"
      ]
     },
     "execution_count": 236,
     "metadata": {},
     "output_type": "execute_result"
    }
   ],
   "source": [
    "prise_cost=[]\n",
    "for i in page_url[:3]:\n",
    "    driver.get(i)\n",
    "    prise_tags=driver.find_elements_by_xpath(\"//div[@class='_30jeq3']\")\n",
    "    for i in prise_tags:\n",
    "        prise_cost.append(i.text)\n",
    "prise_cost"
   ]
  },
  {
   "cell_type": "markdown",
   "metadata": {},
   "source": [
    "Scrape prise information"
   ]
  },
  {
   "cell_type": "code",
   "execution_count": 238,
   "metadata": {},
   "outputs": [
    {
     "data": {
      "text/plain": [
       "['65% off',\n",
       " '36% off',\n",
       " '75% off',\n",
       " '71% off',\n",
       " '64% off',\n",
       " '78% off',\n",
       " '66% off',\n",
       " '78% off',\n",
       " '88% off',\n",
       " '62% off',\n",
       " '60% off',\n",
       " '60% off',\n",
       " '60% off',\n",
       " '51% off',\n",
       " '74% off',\n",
       " '65% off',\n",
       " '69% off',\n",
       " '60% off',\n",
       " '52% off',\n",
       " '68% off',\n",
       " '66% off',\n",
       " '72% off',\n",
       " '52% off',\n",
       " '55% off',\n",
       " '70% off',\n",
       " '77% off',\n",
       " '68% off',\n",
       " '78% off',\n",
       " '60% off',\n",
       " '80% off',\n",
       " '51% off',\n",
       " '57% off',\n",
       " '85% off',\n",
       " '10% off',\n",
       " '67% off',\n",
       " '53% off',\n",
       " '58% off',\n",
       " '47% off',\n",
       " '75% off',\n",
       " '41% off',\n",
       " '62% off',\n",
       " '54% off',\n",
       " '68% off',\n",
       " '65% off',\n",
       " '60% off',\n",
       " '40% off',\n",
       " '61% off',\n",
       " '36% off',\n",
       " '70% off',\n",
       " '16% off',\n",
       " '51% off',\n",
       " '78% off',\n",
       " '63% off',\n",
       " '85% off',\n",
       " '57% off',\n",
       " '65% off',\n",
       " '47% off',\n",
       " '66% off',\n",
       " '77% off',\n",
       " '60% off',\n",
       " '77% off',\n",
       " '56% off',\n",
       " '57% off',\n",
       " '88% off',\n",
       " '51% off',\n",
       " '16% off',\n",
       " '42% off',\n",
       " '68% off',\n",
       " '60% off',\n",
       " '32% off',\n",
       " '80% off',\n",
       " '55% off',\n",
       " '44% off',\n",
       " '55% off',\n",
       " '36% off',\n",
       " '78% off',\n",
       " '62% off',\n",
       " '55% off',\n",
       " '30% off',\n",
       " '80% off',\n",
       " '72% off',\n",
       " '62% off',\n",
       " '69% off',\n",
       " '65% off',\n",
       " '70% off',\n",
       " '23% off',\n",
       " '57% off',\n",
       " '36% off',\n",
       " '62% off',\n",
       " '64% off',\n",
       " '10% off',\n",
       " '78% off',\n",
       " '60% off',\n",
       " '65% off',\n",
       " '64% off',\n",
       " '69% off',\n",
       " '61% off',\n",
       " '50% off',\n",
       " '52% off',\n",
       " '65% off',\n",
       " '62% off',\n",
       " '68% off',\n",
       " '62% off',\n",
       " '60% off',\n",
       " '60% off',\n",
       " '46% off',\n",
       " '30% off',\n",
       " '88% off',\n",
       " '59% off',\n",
       " '66% off',\n",
       " '52% off',\n",
       " '68% off',\n",
       " '55% off',\n",
       " '77% off',\n",
       " '69% off',\n",
       " '78% off',\n",
       " '52% off',\n",
       " '61% off',\n",
       " '70% off',\n",
       " '80% off']"
      ]
     },
     "execution_count": 238,
     "metadata": {},
     "output_type": "execute_result"
    }
   ],
   "source": [
    "discount_cost=[]\n",
    "for i in page_url[:3]:\n",
    "    driver.get(i)\n",
    "    discount_tags=driver.find_elements_by_xpath(\"//div[@class='_3Ay6Sb']//span\")\n",
    "    for i in discount_tags:\n",
    "        discount_cost.append(i.text)\n",
    "discount_cost"
   ]
  },
  {
   "cell_type": "markdown",
   "metadata": {},
   "source": [
    "Scrape discount information"
   ]
  },
  {
   "cell_type": "code",
   "execution_count": 240,
   "metadata": {},
   "outputs": [],
   "source": [
    "jobs=pd.DataFrame({})\n",
    "jobs['brand_titles']=brand_titles\n",
    "jobs['description_names']=description_names\n",
    "jobs['prise_cost']=prise_cost\n",
    "jobs['discount_cost']=discount_cost"
   ]
  },
  {
   "cell_type": "code",
   "execution_count": 241,
   "metadata": {},
   "outputs": [
    {
     "data": {
      "text/html": [
       "<div>\n",
       "<style scoped>\n",
       "    .dataframe tbody tr th:only-of-type {\n",
       "        vertical-align: middle;\n",
       "    }\n",
       "\n",
       "    .dataframe tbody tr th {\n",
       "        vertical-align: top;\n",
       "    }\n",
       "\n",
       "    .dataframe thead th {\n",
       "        text-align: right;\n",
       "    }\n",
       "</style>\n",
       "<table border=\"1\" class=\"dataframe\">\n",
       "  <thead>\n",
       "    <tr style=\"text-align: right;\">\n",
       "      <th></th>\n",
       "      <th>brand_titles</th>\n",
       "      <th>description_names</th>\n",
       "      <th>prise_cost</th>\n",
       "      <th>discount_cost</th>\n",
       "    </tr>\n",
       "  </thead>\n",
       "  <tbody>\n",
       "    <tr>\n",
       "      <th>0</th>\n",
       "      <td>DUCATI</td>\n",
       "      <td>Sneakers For Men</td>\n",
       "      <td>₹1,289</td>\n",
       "      <td>65% off</td>\n",
       "    </tr>\n",
       "    <tr>\n",
       "      <th>1</th>\n",
       "      <td>City Soles</td>\n",
       "      <td>Cipramo Canvas Shoes for Men Sneakers For Men</td>\n",
       "      <td>₹630</td>\n",
       "      <td>36% off</td>\n",
       "    </tr>\n",
       "    <tr>\n",
       "      <th>2</th>\n",
       "      <td>ASTEROID</td>\n",
       "      <td>Original Luxury Branded Fashionable Men's Casu...</td>\n",
       "      <td>₹499</td>\n",
       "      <td>75% off</td>\n",
       "    </tr>\n",
       "    <tr>\n",
       "      <th>3</th>\n",
       "      <td>Chevit</td>\n",
       "      <td>Unique &amp; Perfect Collection Combo Pack of 02 S...</td>\n",
       "      <td>₹420</td>\n",
       "      <td>71% off</td>\n",
       "    </tr>\n",
       "    <tr>\n",
       "      <th>4</th>\n",
       "      <td>Numenzo</td>\n",
       "      <td>Sneakers For Men</td>\n",
       "      <td>₹426</td>\n",
       "      <td>64% off</td>\n",
       "    </tr>\n",
       "    <tr>\n",
       "      <th>...</th>\n",
       "      <td>...</td>\n",
       "      <td>...</td>\n",
       "      <td>...</td>\n",
       "      <td>...</td>\n",
       "    </tr>\n",
       "    <tr>\n",
       "      <th>115</th>\n",
       "      <td>BRUTON</td>\n",
       "      <td>Modern &amp; Trendy Collection Combo Pack of 02 Sh...</td>\n",
       "      <td>₹499</td>\n",
       "      <td>78% off</td>\n",
       "    </tr>\n",
       "    <tr>\n",
       "      <th>116</th>\n",
       "      <td>kardam&amp;sons</td>\n",
       "      <td>Fashionable casual sneaker shoes Sneakers For Men</td>\n",
       "      <td>₹1,646</td>\n",
       "      <td>52% off</td>\n",
       "    </tr>\n",
       "    <tr>\n",
       "      <th>117</th>\n",
       "      <td>SPARX</td>\n",
       "      <td>SM-482 Sneakers For Men</td>\n",
       "      <td>₹384</td>\n",
       "      <td>61% off</td>\n",
       "    </tr>\n",
       "    <tr>\n",
       "      <th>118</th>\n",
       "      <td>D-SNEAKERZ</td>\n",
       "      <td>Casual , Partywear Sneakers Shoes For Men's An...</td>\n",
       "      <td>₹378</td>\n",
       "      <td>70% off</td>\n",
       "    </tr>\n",
       "    <tr>\n",
       "      <th>119</th>\n",
       "      <td>PUMA</td>\n",
       "      <td>Urban SL Sneakers For Men</td>\n",
       "      <td>₹1,614</td>\n",
       "      <td>80% off</td>\n",
       "    </tr>\n",
       "  </tbody>\n",
       "</table>\n",
       "<p>120 rows × 4 columns</p>\n",
       "</div>"
      ],
      "text/plain": [
       "    brand_titles                                  description_names  \\\n",
       "0         DUCATI                                   Sneakers For Men   \n",
       "1     City Soles      Cipramo Canvas Shoes for Men Sneakers For Men   \n",
       "2       ASTEROID  Original Luxury Branded Fashionable Men's Casu...   \n",
       "3         Chevit  Unique & Perfect Collection Combo Pack of 02 S...   \n",
       "4        Numenzo                                   Sneakers For Men   \n",
       "..           ...                                                ...   \n",
       "115       BRUTON  Modern & Trendy Collection Combo Pack of 02 Sh...   \n",
       "116  kardam&sons  Fashionable casual sneaker shoes Sneakers For Men   \n",
       "117        SPARX                            SM-482 Sneakers For Men   \n",
       "118   D-SNEAKERZ  Casual , Partywear Sneakers Shoes For Men's An...   \n",
       "119         PUMA                          Urban SL Sneakers For Men   \n",
       "\n",
       "    prise_cost discount_cost  \n",
       "0       ₹1,289       65% off  \n",
       "1         ₹630       36% off  \n",
       "2         ₹499       75% off  \n",
       "3         ₹420       71% off  \n",
       "4         ₹426       64% off  \n",
       "..         ...           ...  \n",
       "115       ₹499       78% off  \n",
       "116     ₹1,646       52% off  \n",
       "117       ₹384       61% off  \n",
       "118       ₹378       70% off  \n",
       "119     ₹1,614       80% off  \n",
       "\n",
       "[120 rows x 4 columns]"
      ]
     },
     "execution_count": 241,
     "metadata": {},
     "output_type": "execute_result"
    }
   ],
   "source": [
    "jobs"
   ]
  },
  {
   "cell_type": "markdown",
   "metadata": {},
   "source": [
    "Create dataframe of the data"
   ]
  },
  {
   "cell_type": "markdown",
   "metadata": {},
   "source": []
  },
  {
   "cell_type": "markdown",
   "metadata": {},
   "source": [
    "Q9: Go to the link - https://www.myntra.com/shoes\n",
    "Set Price filter to “Rs. 6649 to Rs. 13099” , Color filter to “Black”, as shown in \n",
    "the below image"
   ]
  },
  {
   "cell_type": "code",
   "execution_count": 246,
   "metadata": {},
   "outputs": [],
   "source": [
    "driver = webdriver.Chrome(r\"C:\\Users\\Ankita\\Downloads\\chromedriver_win32\\chromedriver.exe\")"
   ]
  },
  {
   "cell_type": "markdown",
   "metadata": {},
   "source": [
    "Chromee driver path"
   ]
  },
  {
   "cell_type": "code",
   "execution_count": 247,
   "metadata": {},
   "outputs": [],
   "source": [
    "url = 'https://www.myntra.com/shoes'\n",
    "driver.get(url)"
   ]
  },
  {
   "cell_type": "markdown",
   "metadata": {},
   "source": [
    "Enter myntra.com URL"
   ]
  },
  {
   "cell_type": "code",
   "execution_count": 250,
   "metadata": {},
   "outputs": [],
   "source": [
    "prise_filter = driver.find_element_by_xpath('/html/body/div[2]/div/div[1]/main/div[3]/div[1]/section/div/div[5]/ul/li[2]/label/div')\n",
    "prise_filter.click()"
   ]
  },
  {
   "cell_type": "markdown",
   "metadata": {},
   "source": [
    "Select prise rage filter"
   ]
  },
  {
   "cell_type": "code",
   "execution_count": 249,
   "metadata": {},
   "outputs": [],
   "source": [
    "color_filter = driver.find_element_by_xpath('/html/body/div[2]/div/div[1]/main/div[3]/div[1]/section/div/div[6]/ul/li[1]/label/div')\n",
    "color_filter.click()"
   ]
  },
  {
   "cell_type": "markdown",
   "metadata": {},
   "source": [
    "Select color filter"
   ]
  },
  {
   "cell_type": "code",
   "execution_count": 251,
   "metadata": {},
   "outputs": [
    {
     "data": {
      "text/plain": [
       "[<selenium.webdriver.remote.webelement.WebElement (session=\"d5116ee7e3561725796f31924ab97718\", element=\"7611330f-e05f-499c-80ee-b003eaa898d2\")>,\n",
       " <selenium.webdriver.remote.webelement.WebElement (session=\"d5116ee7e3561725796f31924ab97718\", element=\"0e1040d1-f5d3-4158-b593-8d964fb49c69\")>,\n",
       " <selenium.webdriver.remote.webelement.WebElement (session=\"d5116ee7e3561725796f31924ab97718\", element=\"ed4ea4a9-7aeb-4d2f-962f-390d83f1bdc6\")>,\n",
       " <selenium.webdriver.remote.webelement.WebElement (session=\"d5116ee7e3561725796f31924ab97718\", element=\"c046853e-42bd-4f0f-aa27-88074ab41d70\")>,\n",
       " <selenium.webdriver.remote.webelement.WebElement (session=\"d5116ee7e3561725796f31924ab97718\", element=\"3c250da6-a7c6-471c-9b08-d02970c69af4\")>,\n",
       " <selenium.webdriver.remote.webelement.WebElement (session=\"d5116ee7e3561725796f31924ab97718\", element=\"4b33c1a7-9cde-4816-b34c-fd4702799ce7\")>,\n",
       " <selenium.webdriver.remote.webelement.WebElement (session=\"d5116ee7e3561725796f31924ab97718\", element=\"cbff9d0b-2955-468e-bc68-2520cdc6b003\")>,\n",
       " <selenium.webdriver.remote.webelement.WebElement (session=\"d5116ee7e3561725796f31924ab97718\", element=\"7cbad9c9-a4f0-4f35-8b03-07664a178629\")>,\n",
       " <selenium.webdriver.remote.webelement.WebElement (session=\"d5116ee7e3561725796f31924ab97718\", element=\"ad1bb7e0-6074-4cad-8477-c328c34ad88d\")>,\n",
       " <selenium.webdriver.remote.webelement.WebElement (session=\"d5116ee7e3561725796f31924ab97718\", element=\"a4797b62-5847-4f9d-a4ae-17cc73b3e75b\")>,\n",
       " <selenium.webdriver.remote.webelement.WebElement (session=\"d5116ee7e3561725796f31924ab97718\", element=\"0b7d5f6c-e3a3-4cd0-9e39-5011fb091e9a\")>,\n",
       " <selenium.webdriver.remote.webelement.WebElement (session=\"d5116ee7e3561725796f31924ab97718\", element=\"ddec3965-1959-48a2-8d81-09a0739a984e\")>,\n",
       " <selenium.webdriver.remote.webelement.WebElement (session=\"d5116ee7e3561725796f31924ab97718\", element=\"c2c33bc9-0f15-4f84-9c6e-7c12e6845316\")>,\n",
       " <selenium.webdriver.remote.webelement.WebElement (session=\"d5116ee7e3561725796f31924ab97718\", element=\"15a8d3a5-9793-4135-8076-7dffad665ebc\")>,\n",
       " <selenium.webdriver.remote.webelement.WebElement (session=\"d5116ee7e3561725796f31924ab97718\", element=\"296cd7fc-5356-4e75-9747-8896e5b95b5a\")>,\n",
       " <selenium.webdriver.remote.webelement.WebElement (session=\"d5116ee7e3561725796f31924ab97718\", element=\"030873c2-1885-4ad6-a4d7-2ce4a850102a\")>,\n",
       " <selenium.webdriver.remote.webelement.WebElement (session=\"d5116ee7e3561725796f31924ab97718\", element=\"e0bc509a-40b1-46a3-9148-e17001705652\")>,\n",
       " <selenium.webdriver.remote.webelement.WebElement (session=\"d5116ee7e3561725796f31924ab97718\", element=\"2c0783b7-c9ca-44fb-8ea0-c78029e06922\")>,\n",
       " <selenium.webdriver.remote.webelement.WebElement (session=\"d5116ee7e3561725796f31924ab97718\", element=\"cf89d131-dcce-40c7-af64-d40036f3a55a\")>,\n",
       " <selenium.webdriver.remote.webelement.WebElement (session=\"d5116ee7e3561725796f31924ab97718\", element=\"f69ecc9f-6a83-40ef-85e2-6fcd1cdd22b0\")>,\n",
       " <selenium.webdriver.remote.webelement.WebElement (session=\"d5116ee7e3561725796f31924ab97718\", element=\"84aaea04-3dde-41e6-8fc8-4224db1c8a59\")>,\n",
       " <selenium.webdriver.remote.webelement.WebElement (session=\"d5116ee7e3561725796f31924ab97718\", element=\"63bf8d8c-ca11-4691-b1dd-35eff05ff083\")>,\n",
       " <selenium.webdriver.remote.webelement.WebElement (session=\"d5116ee7e3561725796f31924ab97718\", element=\"35c23c67-e904-41ac-9a2e-0750b55a1e83\")>,\n",
       " <selenium.webdriver.remote.webelement.WebElement (session=\"d5116ee7e3561725796f31924ab97718\", element=\"09d59281-8b55-4163-a1c5-d2e1afef85f5\")>,\n",
       " <selenium.webdriver.remote.webelement.WebElement (session=\"d5116ee7e3561725796f31924ab97718\", element=\"3f59d34b-5dad-4d24-9ecf-de7752cc26a7\")>,\n",
       " <selenium.webdriver.remote.webelement.WebElement (session=\"d5116ee7e3561725796f31924ab97718\", element=\"2c74a107-8f69-4e3b-9697-8710f58cf2c8\")>,\n",
       " <selenium.webdriver.remote.webelement.WebElement (session=\"d5116ee7e3561725796f31924ab97718\", element=\"d13feca5-1ba1-404d-9d80-1633aa7f01ae\")>,\n",
       " <selenium.webdriver.remote.webelement.WebElement (session=\"d5116ee7e3561725796f31924ab97718\", element=\"ce25b192-c231-4f6e-adcd-6e13491ddedd\")>,\n",
       " <selenium.webdriver.remote.webelement.WebElement (session=\"d5116ee7e3561725796f31924ab97718\", element=\"19644197-43df-4113-9072-53d4c19374e4\")>,\n",
       " <selenium.webdriver.remote.webelement.WebElement (session=\"d5116ee7e3561725796f31924ab97718\", element=\"634065b8-beb8-4332-9c9b-2fca4ddaac80\")>,\n",
       " <selenium.webdriver.remote.webelement.WebElement (session=\"d5116ee7e3561725796f31924ab97718\", element=\"ce4d73b4-5691-4f1d-8b59-754ff0e5ac9a\")>,\n",
       " <selenium.webdriver.remote.webelement.WebElement (session=\"d5116ee7e3561725796f31924ab97718\", element=\"82d0f467-f765-4e85-bccd-b5acfad7fd6e\")>,\n",
       " <selenium.webdriver.remote.webelement.WebElement (session=\"d5116ee7e3561725796f31924ab97718\", element=\"6e42c4c2-8f8c-4f5e-9066-ef0abbd883be\")>,\n",
       " <selenium.webdriver.remote.webelement.WebElement (session=\"d5116ee7e3561725796f31924ab97718\", element=\"d31a6f00-3008-4d42-b376-a23ea7d59d14\")>,\n",
       " <selenium.webdriver.remote.webelement.WebElement (session=\"d5116ee7e3561725796f31924ab97718\", element=\"6cf2ef5c-4a20-4054-bc13-18aee95f9c96\")>,\n",
       " <selenium.webdriver.remote.webelement.WebElement (session=\"d5116ee7e3561725796f31924ab97718\", element=\"6f6c373c-3b05-4edd-8f9f-84042756de5b\")>,\n",
       " <selenium.webdriver.remote.webelement.WebElement (session=\"d5116ee7e3561725796f31924ab97718\", element=\"77ebbc73-4ace-4506-88cf-0502c1ef5c02\")>,\n",
       " <selenium.webdriver.remote.webelement.WebElement (session=\"d5116ee7e3561725796f31924ab97718\", element=\"4b59cbd1-dd2e-4e13-bf8f-96d699ce72a5\")>,\n",
       " <selenium.webdriver.remote.webelement.WebElement (session=\"d5116ee7e3561725796f31924ab97718\", element=\"ed7e2bca-7480-49e4-b770-951ea104df4d\")>,\n",
       " <selenium.webdriver.remote.webelement.WebElement (session=\"d5116ee7e3561725796f31924ab97718\", element=\"a75be310-a199-4123-b3e9-d5ac1d5c6d91\")>,\n",
       " <selenium.webdriver.remote.webelement.WebElement (session=\"d5116ee7e3561725796f31924ab97718\", element=\"1692c39a-97cc-43ac-acc0-f9176586291a\")>,\n",
       " <selenium.webdriver.remote.webelement.WebElement (session=\"d5116ee7e3561725796f31924ab97718\", element=\"26be05ef-3e1f-4f1d-94d7-f7176be10194\")>,\n",
       " <selenium.webdriver.remote.webelement.WebElement (session=\"d5116ee7e3561725796f31924ab97718\", element=\"74e5cb44-3d86-4818-a776-f93a0fed3fb8\")>,\n",
       " <selenium.webdriver.remote.webelement.WebElement (session=\"d5116ee7e3561725796f31924ab97718\", element=\"3e2115b2-f182-47f1-99d1-e359028294d8\")>,\n",
       " <selenium.webdriver.remote.webelement.WebElement (session=\"d5116ee7e3561725796f31924ab97718\", element=\"ba8c41d1-fdd0-4dbe-be08-0326e107ac8c\")>,\n",
       " <selenium.webdriver.remote.webelement.WebElement (session=\"d5116ee7e3561725796f31924ab97718\", element=\"ac165582-9ea6-4383-bcce-fdac88bce80b\")>,\n",
       " <selenium.webdriver.remote.webelement.WebElement (session=\"d5116ee7e3561725796f31924ab97718\", element=\"2154c35c-3fe9-49af-9a29-b44782f4d395\")>,\n",
       " <selenium.webdriver.remote.webelement.WebElement (session=\"d5116ee7e3561725796f31924ab97718\", element=\"d876d98e-d5a7-491b-ad24-be71fd75f483\")>,\n",
       " <selenium.webdriver.remote.webelement.WebElement (session=\"d5116ee7e3561725796f31924ab97718\", element=\"c108ac00-fcaa-40cd-ba47-ddd0265e88f0\")>,\n",
       " <selenium.webdriver.remote.webelement.WebElement (session=\"d5116ee7e3561725796f31924ab97718\", element=\"844b1dbb-ae9c-4a01-9c55-81be56d57615\")>]"
      ]
     },
     "execution_count": 251,
     "metadata": {},
     "output_type": "execute_result"
    }
   ],
   "source": [
    "brand_tags=driver.find_elements_by_xpath(\"//li[@class='product-base']//h3[1]\")\n",
    "brand_tags"
   ]
  },
  {
   "cell_type": "code",
   "execution_count": 259,
   "metadata": {},
   "outputs": [
    {
     "data": {
      "text/plain": [
       "['ADIDAS',\n",
       " 'Nike',\n",
       " 'Nike',\n",
       " 'Geox',\n",
       " 'UNDER ARMOUR',\n",
       " 'UNDER ARMOUR',\n",
       " 'UNDER ARMOUR',\n",
       " 'Puma',\n",
       " 'UNDER ARMOUR',\n",
       " 'Geox',\n",
       " 'UNDER ARMOUR',\n",
       " 'UNDER ARMOUR',\n",
       " 'Puma',\n",
       " 'TARMAK By Decathlon',\n",
       " 'RARE RABBIT',\n",
       " 'PUMA Hoops',\n",
       " 'UNDER ARMOUR',\n",
       " 'Hush Puppies',\n",
       " 'FORCLAZ By Decathlon',\n",
       " 'Hush Puppies',\n",
       " 'Hush Puppies',\n",
       " 'UNDER ARMOUR',\n",
       " 'UNDER ARMOUR',\n",
       " 'FILA',\n",
       " 'ADIDAS',\n",
       " 'Geox',\n",
       " 'Metro',\n",
       " 'Geox',\n",
       " 'Hush Puppies',\n",
       " 'Puma',\n",
       " 'UNDER ARMOUR',\n",
       " 'RARE RABBIT',\n",
       " 'Puma',\n",
       " 'Lacoste',\n",
       " 'Quechua By Decathlon',\n",
       " 'Puma',\n",
       " 'Puma',\n",
       " 'RARE RABBIT',\n",
       " 'UNDER ARMOUR',\n",
       " 'RARE RABBIT',\n",
       " 'H&M',\n",
       " 'Puma',\n",
       " 'Quechua By Decathlon',\n",
       " 'Quechua By Decathlon',\n",
       " 'Geox',\n",
       " 'Hush Puppies',\n",
       " 'Hush Puppies',\n",
       " 'Reebok',\n",
       " 'FORCLAZ By Decathlon',\n",
       " 'Hush Puppies']"
      ]
     },
     "execution_count": 259,
     "metadata": {},
     "output_type": "execute_result"
    }
   ],
   "source": [
    "brand_titles=[]\n",
    "for i in brand_tags[0:10]:\n",
    "    brand_titles.append(i.text)\n",
    "brand_titles"
   ]
  },
  {
   "cell_type": "code",
   "execution_count": 260,
   "metadata": {},
   "outputs": [
    {
     "name": "stdout",
     "output_type": "stream",
     "text": [
      "50\n"
     ]
    }
   ],
   "source": [
    "print(len(brand_titles))"
   ]
  },
  {
   "cell_type": "markdown",
   "metadata": {},
   "source": [
    "Scrape the brand names"
   ]
  },
  {
   "cell_type": "code",
   "execution_count": 428,
   "metadata": {},
   "outputs": [
    {
     "name": "stdout",
     "output_type": "stream",
     "text": [
      "50\n"
     ]
    }
   ],
   "source": [
    "print(len(brand_titles))"
   ]
  },
  {
   "cell_type": "code",
   "execution_count": 429,
   "metadata": {},
   "outputs": [
    {
     "data": {
      "text/plain": [
       "[<selenium.webdriver.remote.webelement.WebElement (session=\"a810f16f573ed66cad33102df8d3c198\", element=\"7815d8e8-ca6f-42a4-981f-cd70d4c38e5a\")>,\n",
       " <selenium.webdriver.remote.webelement.WebElement (session=\"a810f16f573ed66cad33102df8d3c198\", element=\"44e90e28-37e1-4581-9012-1e8389a4f930\")>,\n",
       " <selenium.webdriver.remote.webelement.WebElement (session=\"a810f16f573ed66cad33102df8d3c198\", element=\"186c3e1e-9b20-4c1c-9c64-4738ab7aae04\")>,\n",
       " <selenium.webdriver.remote.webelement.WebElement (session=\"a810f16f573ed66cad33102df8d3c198\", element=\"0238caf7-308e-408a-833c-597aef5a83d2\")>,\n",
       " <selenium.webdriver.remote.webelement.WebElement (session=\"a810f16f573ed66cad33102df8d3c198\", element=\"02ba45f7-315f-4937-887c-3cd1f2634255\")>,\n",
       " <selenium.webdriver.remote.webelement.WebElement (session=\"a810f16f573ed66cad33102df8d3c198\", element=\"eb7bb5a7-540d-447b-a068-a5d2e59e716e\")>,\n",
       " <selenium.webdriver.remote.webelement.WebElement (session=\"a810f16f573ed66cad33102df8d3c198\", element=\"2dcf4fd3-73b5-4674-9fd6-e9f7d9a3607b\")>,\n",
       " <selenium.webdriver.remote.webelement.WebElement (session=\"a810f16f573ed66cad33102df8d3c198\", element=\"1138cf37-0f66-444e-9262-352a20199499\")>,\n",
       " <selenium.webdriver.remote.webelement.WebElement (session=\"a810f16f573ed66cad33102df8d3c198\", element=\"3857a068-449f-4986-b210-f8c781491101\")>,\n",
       " <selenium.webdriver.remote.webelement.WebElement (session=\"a810f16f573ed66cad33102df8d3c198\", element=\"756972cd-9bc2-4a15-b9f5-9876c77cf847\")>,\n",
       " <selenium.webdriver.remote.webelement.WebElement (session=\"a810f16f573ed66cad33102df8d3c198\", element=\"40d44ca8-b676-4b18-b43d-2bd9317e6971\")>,\n",
       " <selenium.webdriver.remote.webelement.WebElement (session=\"a810f16f573ed66cad33102df8d3c198\", element=\"13ad3887-7db9-4084-88da-5ad564c0f03f\")>,\n",
       " <selenium.webdriver.remote.webelement.WebElement (session=\"a810f16f573ed66cad33102df8d3c198\", element=\"abf2603b-5296-422b-a6a2-9d1e1b639efb\")>,\n",
       " <selenium.webdriver.remote.webelement.WebElement (session=\"a810f16f573ed66cad33102df8d3c198\", element=\"51a1c747-3020-44fa-ad5b-c162c54375a7\")>,\n",
       " <selenium.webdriver.remote.webelement.WebElement (session=\"a810f16f573ed66cad33102df8d3c198\", element=\"991ae84f-cb40-4468-af17-0761d47b5621\")>,\n",
       " <selenium.webdriver.remote.webelement.WebElement (session=\"a810f16f573ed66cad33102df8d3c198\", element=\"4bee66d4-bb01-4f30-8301-f7ae54b2ec62\")>,\n",
       " <selenium.webdriver.remote.webelement.WebElement (session=\"a810f16f573ed66cad33102df8d3c198\", element=\"82c3dce2-8fdc-4445-a82b-15b89001cd4a\")>,\n",
       " <selenium.webdriver.remote.webelement.WebElement (session=\"a810f16f573ed66cad33102df8d3c198\", element=\"37e9e6f7-4952-48c6-b034-023330aeec47\")>,\n",
       " <selenium.webdriver.remote.webelement.WebElement (session=\"a810f16f573ed66cad33102df8d3c198\", element=\"5a146411-f2cc-452c-a84b-2c2b8decc80e\")>,\n",
       " <selenium.webdriver.remote.webelement.WebElement (session=\"a810f16f573ed66cad33102df8d3c198\", element=\"efb52743-e804-48e4-981d-58e18821121c\")>,\n",
       " <selenium.webdriver.remote.webelement.WebElement (session=\"a810f16f573ed66cad33102df8d3c198\", element=\"9889d186-6db6-493b-ae72-b9bb6bbb374d\")>,\n",
       " <selenium.webdriver.remote.webelement.WebElement (session=\"a810f16f573ed66cad33102df8d3c198\", element=\"cd6ce019-639e-4c9c-88a8-cd08801ebc98\")>,\n",
       " <selenium.webdriver.remote.webelement.WebElement (session=\"a810f16f573ed66cad33102df8d3c198\", element=\"3b45fa1e-538e-4ae8-b5e6-b17a4ab0beb1\")>,\n",
       " <selenium.webdriver.remote.webelement.WebElement (session=\"a810f16f573ed66cad33102df8d3c198\", element=\"bfe70191-8e83-41af-b0f3-20cf0919759f\")>,\n",
       " <selenium.webdriver.remote.webelement.WebElement (session=\"a810f16f573ed66cad33102df8d3c198\", element=\"45dd7604-2cda-494d-94b2-95564e9b1e68\")>,\n",
       " <selenium.webdriver.remote.webelement.WebElement (session=\"a810f16f573ed66cad33102df8d3c198\", element=\"789b3b00-6ed0-4f92-84e0-402b831c86a7\")>,\n",
       " <selenium.webdriver.remote.webelement.WebElement (session=\"a810f16f573ed66cad33102df8d3c198\", element=\"c8864fcb-5b41-4ec0-a776-7b2bf4555049\")>,\n",
       " <selenium.webdriver.remote.webelement.WebElement (session=\"a810f16f573ed66cad33102df8d3c198\", element=\"ab1fb6da-5966-4af8-bc5a-0cf068f69760\")>,\n",
       " <selenium.webdriver.remote.webelement.WebElement (session=\"a810f16f573ed66cad33102df8d3c198\", element=\"4a96f387-9c2e-4f57-a2c8-d81082a956cc\")>,\n",
       " <selenium.webdriver.remote.webelement.WebElement (session=\"a810f16f573ed66cad33102df8d3c198\", element=\"9fc35c24-1ac4-496f-92e2-f4628c7abc5f\")>,\n",
       " <selenium.webdriver.remote.webelement.WebElement (session=\"a810f16f573ed66cad33102df8d3c198\", element=\"ac74a800-9130-419d-b92f-1a2e0c82739a\")>,\n",
       " <selenium.webdriver.remote.webelement.WebElement (session=\"a810f16f573ed66cad33102df8d3c198\", element=\"11c3c3a2-1607-4b37-8e89-bce44375203c\")>,\n",
       " <selenium.webdriver.remote.webelement.WebElement (session=\"a810f16f573ed66cad33102df8d3c198\", element=\"945c3790-e861-4c07-b5af-55012e9d0501\")>,\n",
       " <selenium.webdriver.remote.webelement.WebElement (session=\"a810f16f573ed66cad33102df8d3c198\", element=\"ae77b85a-840a-45b7-9b96-44786acab18a\")>,\n",
       " <selenium.webdriver.remote.webelement.WebElement (session=\"a810f16f573ed66cad33102df8d3c198\", element=\"fbb809c7-19d8-4ead-b27c-a9f07af28cbc\")>,\n",
       " <selenium.webdriver.remote.webelement.WebElement (session=\"a810f16f573ed66cad33102df8d3c198\", element=\"81f0ba62-8022-4379-9df6-8c2a2106d3e9\")>,\n",
       " <selenium.webdriver.remote.webelement.WebElement (session=\"a810f16f573ed66cad33102df8d3c198\", element=\"f414e799-f1eb-48fc-81f2-4ae583b8f186\")>,\n",
       " <selenium.webdriver.remote.webelement.WebElement (session=\"a810f16f573ed66cad33102df8d3c198\", element=\"4f4f2be4-b2ee-4424-ab46-761428050a4e\")>,\n",
       " <selenium.webdriver.remote.webelement.WebElement (session=\"a810f16f573ed66cad33102df8d3c198\", element=\"7afda09f-62c6-4811-b3a8-e33b35a006db\")>,\n",
       " <selenium.webdriver.remote.webelement.WebElement (session=\"a810f16f573ed66cad33102df8d3c198\", element=\"7521cf3a-7e58-4d57-8ebd-b6da5ff6b9eb\")>,\n",
       " <selenium.webdriver.remote.webelement.WebElement (session=\"a810f16f573ed66cad33102df8d3c198\", element=\"223b6749-57fe-4907-b133-8c650385e490\")>,\n",
       " <selenium.webdriver.remote.webelement.WebElement (session=\"a810f16f573ed66cad33102df8d3c198\", element=\"16ec9811-b5df-427b-8213-821988961090\")>,\n",
       " <selenium.webdriver.remote.webelement.WebElement (session=\"a810f16f573ed66cad33102df8d3c198\", element=\"9a4e3718-c653-47fe-83fc-65f92669caf6\")>,\n",
       " <selenium.webdriver.remote.webelement.WebElement (session=\"a810f16f573ed66cad33102df8d3c198\", element=\"6526bf71-8721-408b-9aa2-fb994d46dcf1\")>,\n",
       " <selenium.webdriver.remote.webelement.WebElement (session=\"a810f16f573ed66cad33102df8d3c198\", element=\"ccc99dc7-fd45-477b-b410-7f376abaeab9\")>,\n",
       " <selenium.webdriver.remote.webelement.WebElement (session=\"a810f16f573ed66cad33102df8d3c198\", element=\"f1f99f00-adae-4b5e-b1ee-ece65fdf648d\")>,\n",
       " <selenium.webdriver.remote.webelement.WebElement (session=\"a810f16f573ed66cad33102df8d3c198\", element=\"bb758dd9-19e8-4e72-816b-19290016c025\")>,\n",
       " <selenium.webdriver.remote.webelement.WebElement (session=\"a810f16f573ed66cad33102df8d3c198\", element=\"7c962223-825b-4eb7-8a24-ef28e7797560\")>,\n",
       " <selenium.webdriver.remote.webelement.WebElement (session=\"a810f16f573ed66cad33102df8d3c198\", element=\"dca8c0f5-993f-4868-9e33-ec996774dbc8\")>,\n",
       " <selenium.webdriver.remote.webelement.WebElement (session=\"a810f16f573ed66cad33102df8d3c198\", element=\"698c7bc9-4e56-4acb-ac4d-3148ca22a36d\")>]"
      ]
     },
     "execution_count": 429,
     "metadata": {},
     "output_type": "execute_result"
    }
   ],
   "source": [
    "description_tags=driver.find_elements_by_xpath(\"//li[@class='product-base']//h4[1]\")\n",
    "description_tags"
   ]
  },
  {
   "cell_type": "code",
   "execution_count": 430,
   "metadata": {},
   "outputs": [
    {
     "data": {
      "text/plain": [
       "['Men Driving Shoes',\n",
       " 'LEBRON XVIII Basketball Shoes',\n",
       " 'Men Charged Bandit 6 Running',\n",
       " 'Men Cell Fraction Fade Running',\n",
       " 'Women HOVR Sonic 4 Colorshift',\n",
       " 'Men HOVR Sonic 4 Colorshift',\n",
       " 'Unisex Project Rock Recruit',\n",
       " 'Men Woven Design Sneakers',\n",
       " 'Men Charged Vantage Running',\n",
       " 'Men Charged Pursuit 2 SE Shoes',\n",
       " 'Women SUPERNOVA Running Shoes',\n",
       " 'Men Charged Assert 8 Marble',\n",
       " 'Men Charged Pursuit 2 SE',\n",
       " 'Men Velocity Nitro Running',\n",
       " 'Women Deviate Nitro Running',\n",
       " 'GS SC 3Zero IV Basketball',\n",
       " 'Men HOVR Sonic 4 Running Shoes',\n",
       " 'Men Charged Rogue 2.5 RFLCT',\n",
       " 'Men Charged Commit 3 Training',\n",
       " 'Men SOFTRIDE Rift Shoes',\n",
       " 'Women Charged Vantage ClrShft',\n",
       " 'Men HOVR Infinite Running',\n",
       " 'Men HOVR Sonic STRT Tech Shoes',\n",
       " 'Men Formal Derbys',\n",
       " 'Men Leather Slip-On Sneakers',\n",
       " 'TREKKING 100 Boots',\n",
       " 'Men Leather Formal Derbys',\n",
       " 'Unisex Clyde Basketball Shoes',\n",
       " 'Women Charged Impulse Shft',\n",
       " 'Men Colourblocked Leather Derbys',\n",
       " 'Men Solid Leather Formal Slip-Ons',\n",
       " 'Men Leather Formal Brogues',\n",
       " 'Men Leather Driving Shoes',\n",
       " 'Men Trekking Shoes',\n",
       " 'Men Leather Formal Derbys',\n",
       " 'Leather Sneakers',\n",
       " 'Men Solid Leather Sneakers',\n",
       " 'Men Leather Formal Derbys',\n",
       " 'Men Perforations Leather Brogues',\n",
       " 'Men Leather Semiformal Driving',\n",
       " 'Women HOVR Sonic 4 FnRn',\n",
       " 'Women Eternity Nitro Running',\n",
       " 'Unisex Clyde Basketball Shoes',\n",
       " 'Unisex Future Rider Sneakers',\n",
       " 'Men Phade Running Shoes',\n",
       " 'Men Driving Shoes',\n",
       " 'Men Solid Sneakers',\n",
       " 'Men Textured Leather Loafers',\n",
       " 'Men Semi-Formal Slip-Ons',\n",
       " 'Men Wingtip Oxford Sneakers']"
      ]
     },
     "execution_count": 430,
     "metadata": {},
     "output_type": "execute_result"
    }
   ],
   "source": [
    "description_titles=[]\n",
    "for i in description_tags:\n",
    "    description_titles.append(i.text)\n",
    "description_titles"
   ]
  },
  {
   "cell_type": "markdown",
   "metadata": {},
   "source": [
    "Scrape description information"
   ]
  },
  {
   "cell_type": "code",
   "execution_count": 431,
   "metadata": {},
   "outputs": [
    {
     "name": "stdout",
     "output_type": "stream",
     "text": [
      "50\n"
     ]
    }
   ],
   "source": [
    "print(len(description_titles))"
   ]
  },
  {
   "cell_type": "code",
   "execution_count": 432,
   "metadata": {},
   "outputs": [
    {
     "data": {
      "text/plain": [
       "[<selenium.webdriver.remote.webelement.WebElement (session=\"a810f16f573ed66cad33102df8d3c198\", element=\"1881fb6a-f2d5-4437-9208-42e02c7b650a\")>,\n",
       " <selenium.webdriver.remote.webelement.WebElement (session=\"a810f16f573ed66cad33102df8d3c198\", element=\"999ba2c2-da19-4799-a490-49f24bbd7c07\")>,\n",
       " <selenium.webdriver.remote.webelement.WebElement (session=\"a810f16f573ed66cad33102df8d3c198\", element=\"9e2bb20c-98c3-4cd0-bb20-811ebdf2d179\")>,\n",
       " <selenium.webdriver.remote.webelement.WebElement (session=\"a810f16f573ed66cad33102df8d3c198\", element=\"fe287a0a-1365-4136-a27a-6ba4d948d083\")>,\n",
       " <selenium.webdriver.remote.webelement.WebElement (session=\"a810f16f573ed66cad33102df8d3c198\", element=\"760bb479-af5e-4c43-aabb-8694da49b3aa\")>,\n",
       " <selenium.webdriver.remote.webelement.WebElement (session=\"a810f16f573ed66cad33102df8d3c198\", element=\"a28dae2a-cf46-4656-a5a8-e019465526bf\")>,\n",
       " <selenium.webdriver.remote.webelement.WebElement (session=\"a810f16f573ed66cad33102df8d3c198\", element=\"909dd371-3432-49c6-9cb0-d2e4d05ef447\")>,\n",
       " <selenium.webdriver.remote.webelement.WebElement (session=\"a810f16f573ed66cad33102df8d3c198\", element=\"ad8cf956-458e-4da9-acb0-c7b25b322160\")>,\n",
       " <selenium.webdriver.remote.webelement.WebElement (session=\"a810f16f573ed66cad33102df8d3c198\", element=\"0744159b-0c8e-4a32-92f4-fc504666a4dd\")>,\n",
       " <selenium.webdriver.remote.webelement.WebElement (session=\"a810f16f573ed66cad33102df8d3c198\", element=\"1332a8e4-b15e-49af-bde6-05299cd62256\")>,\n",
       " <selenium.webdriver.remote.webelement.WebElement (session=\"a810f16f573ed66cad33102df8d3c198\", element=\"1d18b4f5-eae5-4729-9162-3668618bb6a8\")>,\n",
       " <selenium.webdriver.remote.webelement.WebElement (session=\"a810f16f573ed66cad33102df8d3c198\", element=\"0050f498-c90a-4ef9-b2fb-ae53a13fc46b\")>,\n",
       " <selenium.webdriver.remote.webelement.WebElement (session=\"a810f16f573ed66cad33102df8d3c198\", element=\"ce4d9ea2-d618-470e-b258-ff28cdcf1f76\")>,\n",
       " <selenium.webdriver.remote.webelement.WebElement (session=\"a810f16f573ed66cad33102df8d3c198\", element=\"46301800-3c80-4260-93f0-ae261be607bb\")>,\n",
       " <selenium.webdriver.remote.webelement.WebElement (session=\"a810f16f573ed66cad33102df8d3c198\", element=\"a2b3e5cb-887f-4743-858d-25beae70acb8\")>,\n",
       " <selenium.webdriver.remote.webelement.WebElement (session=\"a810f16f573ed66cad33102df8d3c198\", element=\"43ba020e-fadf-4eb1-860a-ae1d7fc74645\")>,\n",
       " <selenium.webdriver.remote.webelement.WebElement (session=\"a810f16f573ed66cad33102df8d3c198\", element=\"6d1dfb36-5ef7-494e-984e-a733d819a66a\")>,\n",
       " <selenium.webdriver.remote.webelement.WebElement (session=\"a810f16f573ed66cad33102df8d3c198\", element=\"1119c8da-7762-4bf8-b937-b66b8fd99c18\")>,\n",
       " <selenium.webdriver.remote.webelement.WebElement (session=\"a810f16f573ed66cad33102df8d3c198\", element=\"787be09e-8ca8-4108-bb67-4cb073621413\")>,\n",
       " <selenium.webdriver.remote.webelement.WebElement (session=\"a810f16f573ed66cad33102df8d3c198\", element=\"ac78f4ad-ccf9-4f44-8627-5a813569021c\")>,\n",
       " <selenium.webdriver.remote.webelement.WebElement (session=\"a810f16f573ed66cad33102df8d3c198\", element=\"2dd322b8-c1b5-4ea8-a959-8349b4ac85b3\")>,\n",
       " <selenium.webdriver.remote.webelement.WebElement (session=\"a810f16f573ed66cad33102df8d3c198\", element=\"13166e38-c421-4a6a-9e82-80f6b59e705b\")>,\n",
       " <selenium.webdriver.remote.webelement.WebElement (session=\"a810f16f573ed66cad33102df8d3c198\", element=\"7cdb740b-3ecd-4e39-bb5d-ebfe3e04d95e\")>,\n",
       " <selenium.webdriver.remote.webelement.WebElement (session=\"a810f16f573ed66cad33102df8d3c198\", element=\"09596f87-6faf-4bec-a7d8-59809b0ee2c0\")>,\n",
       " <selenium.webdriver.remote.webelement.WebElement (session=\"a810f16f573ed66cad33102df8d3c198\", element=\"4426433b-2f79-4215-81a1-b0ee1229873e\")>,\n",
       " <selenium.webdriver.remote.webelement.WebElement (session=\"a810f16f573ed66cad33102df8d3c198\", element=\"a8b36d17-3ec4-492f-be13-f1f6dc288f3a\")>,\n",
       " <selenium.webdriver.remote.webelement.WebElement (session=\"a810f16f573ed66cad33102df8d3c198\", element=\"9ed29120-77b8-4fb1-a7c5-84a14d0d2a60\")>,\n",
       " <selenium.webdriver.remote.webelement.WebElement (session=\"a810f16f573ed66cad33102df8d3c198\", element=\"6620b566-5016-4b09-bcf8-4258fda3e5a8\")>,\n",
       " <selenium.webdriver.remote.webelement.WebElement (session=\"a810f16f573ed66cad33102df8d3c198\", element=\"bc384b7f-414c-4388-ad1e-70dd15ac57cc\")>,\n",
       " <selenium.webdriver.remote.webelement.WebElement (session=\"a810f16f573ed66cad33102df8d3c198\", element=\"13bb2c8a-8446-4bca-b835-d1cddedb0e57\")>,\n",
       " <selenium.webdriver.remote.webelement.WebElement (session=\"a810f16f573ed66cad33102df8d3c198\", element=\"aa422937-3e19-4f41-b447-bb92f3c1159a\")>,\n",
       " <selenium.webdriver.remote.webelement.WebElement (session=\"a810f16f573ed66cad33102df8d3c198\", element=\"81b407c0-4287-4086-b0bf-70217c5c06ce\")>,\n",
       " <selenium.webdriver.remote.webelement.WebElement (session=\"a810f16f573ed66cad33102df8d3c198\", element=\"bc7272f9-e2fd-4c19-a758-9126305b32a1\")>,\n",
       " <selenium.webdriver.remote.webelement.WebElement (session=\"a810f16f573ed66cad33102df8d3c198\", element=\"119e96ab-101d-43e3-81cb-720bf3ca11b3\")>,\n",
       " <selenium.webdriver.remote.webelement.WebElement (session=\"a810f16f573ed66cad33102df8d3c198\", element=\"17a3ce4f-dec1-4b19-87b4-b83c1ac18900\")>,\n",
       " <selenium.webdriver.remote.webelement.WebElement (session=\"a810f16f573ed66cad33102df8d3c198\", element=\"f8b14e93-f4b1-41a8-b2e7-ee128cb7fa64\")>,\n",
       " <selenium.webdriver.remote.webelement.WebElement (session=\"a810f16f573ed66cad33102df8d3c198\", element=\"8713a00f-a4c5-4255-8307-9825716baf10\")>,\n",
       " <selenium.webdriver.remote.webelement.WebElement (session=\"a810f16f573ed66cad33102df8d3c198\", element=\"631c20ff-4e53-45e2-9705-c149527907c1\")>,\n",
       " <selenium.webdriver.remote.webelement.WebElement (session=\"a810f16f573ed66cad33102df8d3c198\", element=\"258fb940-f18b-4112-9651-9b2c63e4ebbd\")>,\n",
       " <selenium.webdriver.remote.webelement.WebElement (session=\"a810f16f573ed66cad33102df8d3c198\", element=\"e9e94f21-f7a9-406f-b63c-d6bc1c96aa49\")>,\n",
       " <selenium.webdriver.remote.webelement.WebElement (session=\"a810f16f573ed66cad33102df8d3c198\", element=\"e7738c9d-478a-4d00-9acc-6c0c59b046a0\")>,\n",
       " <selenium.webdriver.remote.webelement.WebElement (session=\"a810f16f573ed66cad33102df8d3c198\", element=\"2d324e25-bca3-476d-98ff-6a7da43b54b9\")>,\n",
       " <selenium.webdriver.remote.webelement.WebElement (session=\"a810f16f573ed66cad33102df8d3c198\", element=\"060c4d36-172a-4a37-b7a5-b47c795ff8dc\")>,\n",
       " <selenium.webdriver.remote.webelement.WebElement (session=\"a810f16f573ed66cad33102df8d3c198\", element=\"fde9d2c3-fca8-49bb-a285-07485c06feab\")>,\n",
       " <selenium.webdriver.remote.webelement.WebElement (session=\"a810f16f573ed66cad33102df8d3c198\", element=\"2b39c3cd-df3d-4c78-ad06-278e9aafaadd\")>,\n",
       " <selenium.webdriver.remote.webelement.WebElement (session=\"a810f16f573ed66cad33102df8d3c198\", element=\"60b4ff5a-d061-456c-b617-f9d5800c2ef1\")>,\n",
       " <selenium.webdriver.remote.webelement.WebElement (session=\"a810f16f573ed66cad33102df8d3c198\", element=\"cd5dbc1c-f747-4bf9-9f07-6c2245ef77da\")>,\n",
       " <selenium.webdriver.remote.webelement.WebElement (session=\"a810f16f573ed66cad33102df8d3c198\", element=\"c0c6fe48-4cb0-41be-8e40-63e70c75213b\")>,\n",
       " <selenium.webdriver.remote.webelement.WebElement (session=\"a810f16f573ed66cad33102df8d3c198\", element=\"909a932a-258f-4a26-aa74-fbbce37630ee\")>,\n",
       " <selenium.webdriver.remote.webelement.WebElement (session=\"a810f16f573ed66cad33102df8d3c198\", element=\"3751e165-5b74-4bac-8320-8b0f8da585c6\")>]"
      ]
     },
     "execution_count": 432,
     "metadata": {},
     "output_type": "execute_result"
    }
   ],
   "source": [
    "prise_tags=driver.find_elements_by_xpath(\"//div[@class='product-price']\")\n",
    "prise_tags"
   ]
  },
  {
   "cell_type": "code",
   "execution_count": 433,
   "metadata": {},
   "outputs": [
    {
     "data": {
      "text/plain": [
       "['Rs. 11999',\n",
       " 'Rs. 11436Rs. 17595(35% OFF)',\n",
       " 'Rs. 8999',\n",
       " 'Rs. 6999',\n",
       " 'Rs. 10999',\n",
       " 'Rs. 10999',\n",
       " 'Rs. 9999',\n",
       " 'Rs. 8799Rs. 10999(20% OFF)',\n",
       " 'Rs. 7999',\n",
       " 'Rs. 6999',\n",
       " 'Rs. 6999Rs. 9999(30% OFF)',\n",
       " 'Rs. 6999',\n",
       " 'Rs. 6999',\n",
       " 'Rs. 10999',\n",
       " 'Rs. 9749Rs. 14999(35% OFF)',\n",
       " 'Rs. 7499',\n",
       " 'Rs. 10999',\n",
       " 'Rs. 7999',\n",
       " 'Rs. 7999',\n",
       " 'Rs. 6499',\n",
       " 'Rs. 7999',\n",
       " 'Rs. 11999',\n",
       " 'Rs. 9999',\n",
       " 'Rs. 8999Rs. 9999(10% OFF)',\n",
       " 'Rs. 6999Rs. 9999(30% OFF)',\n",
       " 'Rs. 6999',\n",
       " 'Rs. 9999',\n",
       " 'Rs. 8999',\n",
       " 'Rs. 7499',\n",
       " 'Rs. 6499',\n",
       " 'Rs. 8099Rs. 8999(10% OFF)',\n",
       " 'Rs. 11999',\n",
       " 'Rs. 9999',\n",
       " 'Rs. 9999',\n",
       " 'Rs. 9999',\n",
       " 'Rs. 8799Rs. 10999(20% OFF)',\n",
       " 'Rs. 7199Rs. 8999(20% OFF)',\n",
       " 'Rs. 8399Rs. 10499(20% OFF)',\n",
       " 'Rs. 6999',\n",
       " 'Rs. 10490',\n",
       " 'Rs. 10999',\n",
       " 'Rs. 8449Rs. 12999(35% OFF)',\n",
       " 'Rs. 7149Rs. 10999(35% OFF)',\n",
       " 'Rs. 6999',\n",
       " 'Rs. 6499',\n",
       " 'Rs. 9999',\n",
       " 'Rs. 7999Rs. 9999(20% OFF)',\n",
       " 'Rs. 6990',\n",
       " 'Rs. 10999',\n",
       " 'Rs. 10399Rs. 12999(20% OFF)']"
      ]
     },
     "execution_count": 433,
     "metadata": {},
     "output_type": "execute_result"
    }
   ],
   "source": [
    "prise_titles=[]\n",
    "for i in prise_tags:\n",
    "    prise_titles.append(i.text)\n",
    "prise_titles"
   ]
  },
  {
   "cell_type": "code",
   "execution_count": 279,
   "metadata": {},
   "outputs": [
    {
     "data": {
      "text/plain": [
       "[<selenium.webdriver.remote.webelement.WebElement (session=\"d5116ee7e3561725796f31924ab97718\", element=\"8a819779-d9a3-405c-b017-63f62d6b7b2f\")>,\n",
       " <selenium.webdriver.remote.webelement.WebElement (session=\"d5116ee7e3561725796f31924ab97718\", element=\"03db193b-447e-4fea-b88e-0fda9dfb5959\")>,\n",
       " <selenium.webdriver.remote.webelement.WebElement (session=\"d5116ee7e3561725796f31924ab97718\", element=\"08bf414f-7cee-44fe-8a57-55ca504dce31\")>,\n",
       " <selenium.webdriver.remote.webelement.WebElement (session=\"d5116ee7e3561725796f31924ab97718\", element=\"02f2208c-ae79-4d7a-9022-6ca9180ff88d\")>,\n",
       " <selenium.webdriver.remote.webelement.WebElement (session=\"d5116ee7e3561725796f31924ab97718\", element=\"56b61447-5096-4553-ad1e-ccf106e63b61\")>,\n",
       " <selenium.webdriver.remote.webelement.WebElement (session=\"d5116ee7e3561725796f31924ab97718\", element=\"4d74d0bb-94b8-4dc8-bede-9f2f70ce72ee\")>,\n",
       " <selenium.webdriver.remote.webelement.WebElement (session=\"d5116ee7e3561725796f31924ab97718\", element=\"d84325df-d4fe-424b-9881-58e2ed508365\")>,\n",
       " <selenium.webdriver.remote.webelement.WebElement (session=\"d5116ee7e3561725796f31924ab97718\", element=\"90b0d3f1-7d4f-44b3-845f-31efecd96e00\")>,\n",
       " <selenium.webdriver.remote.webelement.WebElement (session=\"d5116ee7e3561725796f31924ab97718\", element=\"4dc5e6a7-44de-4f43-bc6f-cf12e62ff646\")>,\n",
       " <selenium.webdriver.remote.webelement.WebElement (session=\"d5116ee7e3561725796f31924ab97718\", element=\"22a55028-c375-4330-978f-346dcdbe9557\")>,\n",
       " <selenium.webdriver.remote.webelement.WebElement (session=\"d5116ee7e3561725796f31924ab97718\", element=\"502d9069-b292-4629-a420-d2e1c6e2ddd1\")>]"
      ]
     },
     "execution_count": 279,
     "metadata": {},
     "output_type": "execute_result"
    }
   ],
   "source": [
    "url=driver.find_elements_by_xpath(\"//ul[@class='pagination-container']//a\")\n",
    "url"
   ]
  },
  {
   "cell_type": "code",
   "execution_count": 280,
   "metadata": {},
   "outputs": [
    {
     "data": {
      "text/plain": [
       "['https://www.myntra.com/shoes?f=Color%3ABlack_36454f&plaEnabled=false&rf=Price%3A5312.0_10475.0_5312.0%20TO%2010475.0%2C5349.0_10499.0_5349.0%20TO%2010499.0',\n",
       " 'https://www.myntra.com/shoes?f=Color%3ABlack_36454f&plaEnabled=false&rf=Price%3A5312.0_10475.0_5312.0%20TO%2010475.0%2C5349.0_10499.0_5349.0%20TO%2010499.0&p=2',\n",
       " 'https://www.myntra.com/shoes?f=Color%3ABlack_36454f&plaEnabled=false&rf=Price%3A5312.0_10475.0_5312.0%20TO%2010475.0%2C5349.0_10499.0_5349.0%20TO%2010499.0&p=3',\n",
       " 'https://www.myntra.com/shoes?f=Color%3ABlack_36454f&plaEnabled=false&rf=Price%3A5312.0_10475.0_5312.0%20TO%2010475.0%2C5349.0_10499.0_5349.0%20TO%2010499.0&p=4',\n",
       " 'https://www.myntra.com/shoes?f=Color%3ABlack_36454f&plaEnabled=false&rf=Price%3A5312.0_10475.0_5312.0%20TO%2010475.0%2C5349.0_10499.0_5349.0%20TO%2010499.0&p=5',\n",
       " 'https://www.myntra.com/shoes?f=Color%3ABlack_36454f&plaEnabled=false&rf=Price%3A5312.0_10475.0_5312.0%20TO%2010475.0%2C5349.0_10499.0_5349.0%20TO%2010499.0&p=6',\n",
       " 'https://www.myntra.com/shoes?f=Color%3ABlack_36454f&plaEnabled=false&rf=Price%3A5312.0_10475.0_5312.0%20TO%2010475.0%2C5349.0_10499.0_5349.0%20TO%2010499.0&p=7',\n",
       " 'https://www.myntra.com/shoes?f=Color%3ABlack_36454f&plaEnabled=false&rf=Price%3A5312.0_10475.0_5312.0%20TO%2010475.0%2C5349.0_10499.0_5349.0%20TO%2010499.0&p=8',\n",
       " 'https://www.myntra.com/shoes?f=Color%3ABlack_36454f&plaEnabled=false&rf=Price%3A5312.0_10475.0_5312.0%20TO%2010475.0%2C5349.0_10499.0_5349.0%20TO%2010499.0&p=9',\n",
       " 'https://www.myntra.com/shoes?f=Color%3ABlack_36454f&plaEnabled=false&rf=Price%3A5312.0_10475.0_5312.0%20TO%2010475.0%2C5349.0_10499.0_5349.0%20TO%2010499.0&p=10',\n",
       " 'https://www.myntra.com/shoes?f=Color%3ABlack_36454f&plaEnabled=false&rf=Price%3A5312.0_10475.0_5312.0%20TO%2010475.0%2C5349.0_10499.0_5349.0%20TO%2010499.0&p=2']"
      ]
     },
     "execution_count": 280,
     "metadata": {},
     "output_type": "execute_result"
    }
   ],
   "source": [
    "page_url = []\n",
    "url = driver.find_elements_by_xpath(\"//ul[@class='pagination-container']//a\")\n",
    "for i in url:\n",
    "    page_url.append(i.get_attribute(\"href\"))\n",
    "page_url"
   ]
  },
  {
   "cell_type": "code",
   "execution_count": 282,
   "metadata": {},
   "outputs": [
    {
     "data": {
      "text/plain": [
       "['ADIDAS',\n",
       " 'Puma',\n",
       " 'Nike',\n",
       " 'Nike',\n",
       " 'TARMAK By Decathlon',\n",
       " 'UNDER ARMOUR',\n",
       " 'UNDER ARMOUR',\n",
       " 'UNDER ARMOUR',\n",
       " 'UNDER ARMOUR',\n",
       " 'Metro',\n",
       " 'Puma',\n",
       " 'UNDER ARMOUR',\n",
       " 'UNDER ARMOUR',\n",
       " 'Puma',\n",
       " 'PUMA Hoops',\n",
       " 'UNDER ARMOUR',\n",
       " 'FORCLAZ By Decathlon',\n",
       " 'UNDER ARMOUR',\n",
       " 'UNDER ARMOUR',\n",
       " 'Hush Puppies',\n",
       " 'FILA',\n",
       " 'Hush Puppies',\n",
       " 'Hush Puppies',\n",
       " 'ADIDAS',\n",
       " 'UNDER ARMOUR',\n",
       " 'Puma',\n",
       " 'Puma',\n",
       " 'Hush Puppies',\n",
       " 'Quechua By Decathlon',\n",
       " 'Puma',\n",
       " 'Lacoste',\n",
       " 'Puma',\n",
       " 'UNDER ARMOUR',\n",
       " 'Puma',\n",
       " 'H&M',\n",
       " 'Quechua By Decathlon',\n",
       " 'Quechua By Decathlon',\n",
       " 'RARE RABBIT',\n",
       " 'Reebok',\n",
       " 'Hush Puppies',\n",
       " 'FORCLAZ By Decathlon',\n",
       " 'Hush Puppies',\n",
       " 'RARE RABBIT',\n",
       " 'Hush Puppies',\n",
       " 'Geox',\n",
       " 'Geox',\n",
       " 'Cole Haan',\n",
       " 'Geox',\n",
       " 'Geox',\n",
       " 'J.FONTINI',\n",
       " 'Cole Haan',\n",
       " 'Geox',\n",
       " 'J.FONTINI',\n",
       " 'Cole Haan',\n",
       " 'J.FONTINI',\n",
       " 'J.FONTINI',\n",
       " 'Bugatti',\n",
       " 'J.FONTINI',\n",
       " 'Bugatti',\n",
       " 'Bugatti',\n",
       " 'Hush Puppies',\n",
       " 'Xtep',\n",
       " 'Bugatti',\n",
       " 'Geox',\n",
       " 'Geox',\n",
       " 'Geox',\n",
       " 'UNDER ARMOUR',\n",
       " 'Hush Puppies',\n",
       " 'UNDER ARMOUR',\n",
       " 'Geox',\n",
       " 'Hush Puppies',\n",
       " 'Saint G',\n",
       " 'RARE RABBIT',\n",
       " 'Xtep',\n",
       " 'Saint G',\n",
       " 'Louis Philippe',\n",
       " 'KIPRUN By Decathlon',\n",
       " 'J.FONTINI',\n",
       " 'ASICS',\n",
       " 'Kenneth Cole',\n",
       " 'UNDER ARMOUR',\n",
       " 'Hush Puppies',\n",
       " 'UNDER ARMOUR',\n",
       " 'Bugatti',\n",
       " 'RARE RABBIT',\n",
       " 'Ruosh',\n",
       " 'Blackberrys',\n",
       " 'Geox',\n",
       " 'Hush Puppies',\n",
       " 'Hush Puppies',\n",
       " 'Saint G',\n",
       " 'Bugatti',\n",
       " 'Birkenstock',\n",
       " 'Geox',\n",
       " 'Geox',\n",
       " 'Geox',\n",
       " 'Geox',\n",
       " 'Kenneth Cole',\n",
       " 'RARE RABBIT',\n",
       " 'Xtep']"
      ]
     },
     "execution_count": 282,
     "metadata": {},
     "output_type": "execute_result"
    }
   ],
   "source": [
    "#brand_titles=[]\n",
    "#for i in brand_tags[0:2]:\n",
    "    #brand_titles.append(i.text)\n",
    "#brand_titles\n",
    "brand_titles=[]\n",
    "for i in page_url[:2]:\n",
    "    driver.get(i)\n",
    "    brand_tags=driver.find_elements_by_xpath(\"//li[@class='product-base']//h3[1]\")\n",
    "    for i in brand_tags:\n",
    "        brand_titles.append(i.text)\n",
    "brand_titles"
   ]
  },
  {
   "cell_type": "code",
   "execution_count": 283,
   "metadata": {},
   "outputs": [
    {
     "name": "stdout",
     "output_type": "stream",
     "text": [
      "100\n"
     ]
    }
   ],
   "source": [
    "print(len(brand_titles))"
   ]
  },
  {
   "cell_type": "code",
   "execution_count": 287,
   "metadata": {},
   "outputs": [
    {
     "data": {
      "text/plain": [
       "['Women Response SR Running',\n",
       " 'Men Cell Fraction Fade Running',\n",
       " 'Women Charged Bandit 6 Running',\n",
       " \"Men BlazerLow '77 Sneakers\",\n",
       " 'Men Basketball Shoes',\n",
       " 'Men Crater Remixa Sneakers',\n",
       " 'Women High-Top Heeled Boots',\n",
       " 'Men Charged Pursuit 2 SE',\n",
       " 'Men Charged Pursuit 2 SE Shoes',\n",
       " 'Unisex Project Rock Recruit',\n",
       " 'Mesh Hybrid Fuego Running',\n",
       " 'Men Charged Assert 8 Marble',\n",
       " 'Men Charged Rogue 2.5 RFLCT',\n",
       " 'Men Phade Running Shoes',\n",
       " 'Men SOFTRIDE Rift Shoes',\n",
       " 'Unisex Clyde Basketball Shoes',\n",
       " 'GS SC 3Zero IV Basketball',\n",
       " 'TREKKING 100 Boots',\n",
       " 'Men Charged Commit 3 Training',\n",
       " 'Men Printed Slip-On Sneakers',\n",
       " 'Women Charged Rogue 2.5ClrSft',\n",
       " 'Men Leather Slip-On Sneakers',\n",
       " 'Men Running Shoes',\n",
       " 'Men Leather Slip-On Sneakers',\n",
       " 'Men Solid Leather Formal Oxfords',\n",
       " 'Women SUPERNOVA Running Shoes',\n",
       " 'Men Perforated Slip On Sneaker',\n",
       " 'Women Eternity Nitro Running',\n",
       " 'Men Leader VT Running Shoes',\n",
       " 'Men HOVR Sonic STRT Tech Shoes',\n",
       " 'Men Leather Monk Shoes',\n",
       " 'Men Trekking Shoes',\n",
       " 'Men Textured Leather Formal Derbys',\n",
       " 'Women Deviate Nitro Running',\n",
       " 'Men Woven Design Slip-On Sneakers',\n",
       " 'Unisex Connect Splash Trainers',\n",
       " 'Women Velocity Nitro Running',\n",
       " 'Waterproof Walking Shoes',\n",
       " 'Black Leather boots',\n",
       " 'Women Waterproof Hiking Shoes',\n",
       " 'Men Sneakers',\n",
       " 'Forever Floatride Energy 2',\n",
       " 'Men Leather Derbys',\n",
       " 'Men Hiking Shoes',\n",
       " 'Men Solid Leather Formal Slip-Ons',\n",
       " 'Men Solid Leather Formal Slip-Ons',\n",
       " 'Men Textured Leather Driving Shoes',\n",
       " 'Men Leather Driving Shoes',\n",
       " 'Men Solid Sneakers',\n",
       " 'Men GENERATION ZEROGRAND STITCHLITE',\n",
       " 'Riveted Leather Block Heels',\n",
       " 'Men Solid Loafers',\n",
       " 'Leather Sneakers',\n",
       " 'Men Textured Leather Loafers',\n",
       " 'Men Textured Leather Formal Loafers',\n",
       " 'Men Solid Leather Loafers',\n",
       " 'Basketweave Block Heels',\n",
       " 'Men Textured Leather Loafers',\n",
       " 'Men Slip-On Sneakers',\n",
       " 'Men Sneakers',\n",
       " 'Men Colourblocked Driving Shoes',\n",
       " 'AIR MEGA Energy Ring Shoes',\n",
       " 'Women Mules',\n",
       " 'Men Leather Formal Oxfords',\n",
       " 'Men Leather Derbys',\n",
       " 'Men Perforations Leather Brogues',\n",
       " 'Women Charged Breathe OIL SLK',\n",
       " 'Men Solid Leather Formal Derbys',\n",
       " 'Men Formal Derbys',\n",
       " 'Men Victory Sneakers',\n",
       " 'Leather Block Sandals',\n",
       " 'Men Textured Leather Formal Derbys',\n",
       " 'Women Running Shoes',\n",
       " 'Women Leather Heeled Boots',\n",
       " 'Women Running Shoes',\n",
       " 'Men Leather Formal Loafers',\n",
       " 'Men Printed Slip-On Sneakers',\n",
       " 'Women Running Shoes',\n",
       " 'Men Solid Leather Formal Derbys',\n",
       " 'Men Leather Formal Derbys',\n",
       " 'Women Charged Vantage ClrShft',\n",
       " 'Women Charged Assert 8 Running',\n",
       " 'Men Solid Leather Formal Derbys',\n",
       " 'Men Perforated Slip On Sneaker',\n",
       " 'Men Leather Formal Oxfords',\n",
       " 'Men Leather Formal Brogues',\n",
       " 'Women Leather Heeled Boots',\n",
       " 'Women Mid-Top Sneakers',\n",
       " 'Women Gizeh Flats',\n",
       " 'Men Sneakers',\n",
       " 'Women Chunky Sneakers',\n",
       " 'Women Leather Horsebit Loafers',\n",
       " 'Men Solid Sneakers',\n",
       " 'Men Leather Flat Boots',\n",
       " 'Men Colourblocked Leather Derbys',\n",
       " 'Men Solid Leather Formal Derbys',\n",
       " 'Men Running Shoes',\n",
       " 'Men Leather Driving Shoes',\n",
       " 'Men Running Shoes',\n",
       " 'Women Charged Rogue 2 Running']"
      ]
     },
     "execution_count": 287,
     "metadata": {},
     "output_type": "execute_result"
    }
   ],
   "source": [
    "description_titles=[]\n",
    "for i in page_url[:2]:\n",
    "    driver.get(i)\n",
    "    description_tags=driver.find_elements_by_xpath(\"//li[@class='product-base']//h4[1]\")\n",
    "    for i in description_tags:\n",
    "        description_titles.append(i.text)\n",
    "description_titles\n",
    "\n"
   ]
  },
  {
   "cell_type": "code",
   "execution_count": 288,
   "metadata": {},
   "outputs": [
    {
     "data": {
      "text/plain": [
       "['Rs. 5319Rs. 7599(30% OFF)',\n",
       " 'Rs. 6999',\n",
       " 'Rs. 8999',\n",
       " 'Rs. 7195',\n",
       " 'Rs. 5499',\n",
       " 'Rs. 5495',\n",
       " 'Rs. 6999',\n",
       " 'Rs. 6999',\n",
       " 'Rs. 9999',\n",
       " 'Rs. 5490',\n",
       " 'Rs. 6999',\n",
       " 'Rs. 6999',\n",
       " 'Rs. 7999',\n",
       " 'Rs. 6499',\n",
       " 'Rs. 6499',\n",
       " 'Rs. 6999',\n",
       " 'Rs. 6599Rs. 10999(40% OFF)',\n",
       " 'Rs. 7499',\n",
       " 'Rs. 6999',\n",
       " 'Rs. 7999',\n",
       " 'Rs. 7999',\n",
       " 'Rs. 6299Rs. 6999(10% OFF)',\n",
       " 'Rs. 8499',\n",
       " 'Rs. 6999Rs. 9999(30% OFF)',\n",
       " 'Rs. 5399Rs. 5999(10% OFF)',\n",
       " 'Rs. 6999Rs. 9999(30% OFF)',\n",
       " 'Rs. 7799Rs. 12999(40% OFF)',\n",
       " 'Rs. 5999',\n",
       " 'Rs. 9999',\n",
       " 'Rs. 5399Rs. 5999(10% OFF)',\n",
       " 'Rs. 9999',\n",
       " 'Rs. 5525Rs. 8500(35% OFF)',\n",
       " 'Rs. 9749Rs. 14999(35% OFF)',\n",
       " 'Rs. 8999',\n",
       " 'Rs. 8799Rs. 10999(20% OFF)',\n",
       " 'Rs. 6599Rs. 10999(40% OFF)',\n",
       " 'Rs. 5669Rs. 6999(19% OFF)',\n",
       " 'Rs. 5999',\n",
       " 'Rs. 5499',\n",
       " 'Rs. 7199Rs. 8999(20% OFF)',\n",
       " 'Rs. 5999Rs. 9999(40% OFF)',\n",
       " 'Rs. 6999',\n",
       " 'Rs. 5599Rs. 7999(30% OFF)',\n",
       " 'Rs. 5579Rs. 5999(7% OFF)',\n",
       " 'Rs. 7199Rs. 8999(20% OFF)',\n",
       " 'Rs. 8999Rs. 9999(10% OFF)',\n",
       " 'Rs. 8099Rs. 8999(10% OFF)',\n",
       " 'Rs. 9999',\n",
       " 'Rs. 9990',\n",
       " 'Rs. 9599Rs. 11999(20% OFF)',\n",
       " 'Rs. 7999Rs. 9999(20% OFF)',\n",
       " 'Rs. 6399Rs. 7999(20% OFF)',\n",
       " 'Rs. 7990',\n",
       " 'Rs. 7990',\n",
       " 'Rs. 6399Rs. 7999(20% OFF)',\n",
       " 'Rs. 6999',\n",
       " 'Rs. 8799Rs. 10999(20% OFF)',\n",
       " 'Rs. 6990',\n",
       " 'Rs. 6399Rs. 7999(20% OFF)',\n",
       " 'Rs. 6399Rs. 7999(20% OFF)',\n",
       " 'Rs. 6299Rs. 8999(30% OFF)',\n",
       " 'Rs. 7199Rs. 8999(20% OFF)',\n",
       " 'Rs. 5599Rs. 6999(20% OFF)',\n",
       " 'Rs. 5999Rs. 7499(20% OFF)',\n",
       " 'Rs. 10490',\n",
       " 'Rs. 9999',\n",
       " 'Rs. 6749Rs. 8999(25% OFF)',\n",
       " 'Rs. 8999Rs. 9999(10% OFF)',\n",
       " 'Rs. 5999',\n",
       " 'Rs. 8999Rs. 9999(10% OFF)',\n",
       " 'Rs. 10355Rs. 10900(5% OFF)',\n",
       " 'Rs. 5699',\n",
       " 'Rs. 9900',\n",
       " 'Rs. 7999Rs. 9999(20% OFF)',\n",
       " 'Rs. 8399Rs. 10499(20% OFF)',\n",
       " 'Rs. 7006Rs. 7149(2% OFF)',\n",
       " 'Rs. 6990',\n",
       " 'Rs. 7999Rs. 9999(20% OFF)',\n",
       " 'Rs. 6299Rs. 8999(30% OFF)',\n",
       " 'Rs. 9999',\n",
       " 'Rs. 7999',\n",
       " 'Rs. 6999',\n",
       " 'Rs. 6293Rs. 8990(30% OFF)',\n",
       " 'Rs. 6299Rs. 6999(10% OFF)',\n",
       " 'Rs. 5999Rs. 7499(20% OFF)',\n",
       " 'Rs. 6499',\n",
       " 'Rs. 7199Rs. 8999(20% OFF)',\n",
       " 'Rs. 5495',\n",
       " 'Rs. 5399Rs. 5999(10% OFF)',\n",
       " 'Rs. 6500',\n",
       " 'Rs. 5399Rs. 5999(10% OFF)',\n",
       " 'Rs. 8799Rs. 10999(20% OFF)',\n",
       " 'Rs. 5999Rs. 7499(20% OFF)',\n",
       " 'Rs. 5990',\n",
       " 'Rs. 6399Rs. 7999(20% OFF)',\n",
       " 'Rs. 6399Rs. 7999(20% OFF)',\n",
       " 'Rs. 6293Rs. 8990(30% OFF)',\n",
       " 'Rs. 5399Rs. 5999(10% OFF)',\n",
       " 'Rs. 9999',\n",
       " 'Rs. 5399Rs. 5999(10% OFF)']"
      ]
     },
     "execution_count": 288,
     "metadata": {},
     "output_type": "execute_result"
    }
   ],
   "source": [
    "prise_titles=[]\n",
    "for i in page_url[:2]:\n",
    "    driver.get(i)\n",
    "    prise_tags=driver.find_elements_by_xpath(\"//div[@class='product-price']\")\n",
    "    for i in prise_tags:\n",
    "        prise_titles.append(i.text)\n",
    "prise_titles"
   ]
  },
  {
   "cell_type": "markdown",
   "metadata": {},
   "source": [
    "Scrape the prise information"
   ]
  },
  {
   "cell_type": "code",
   "execution_count": 289,
   "metadata": {},
   "outputs": [
    {
     "name": "stdout",
     "output_type": "stream",
     "text": [
      "100\n"
     ]
    }
   ],
   "source": [
    "print(len(prise_titles))"
   ]
  },
  {
   "cell_type": "code",
   "execution_count": 290,
   "metadata": {},
   "outputs": [
    {
     "name": "stdout",
     "output_type": "stream",
     "text": [
      "100 100 100\n"
     ]
    }
   ],
   "source": [
    "print(len(brand_titles),len(description_titles),len(prise_titles))"
   ]
  },
  {
   "cell_type": "code",
   "execution_count": 291,
   "metadata": {},
   "outputs": [],
   "source": [
    "jobs=pd.DataFrame()\n",
    "jobs['brand_titles']=brand_titles\n",
    "jobs['description_titles']=description_titles\n",
    "jobs['prise_titles']=prise_titles"
   ]
  },
  {
   "cell_type": "code",
   "execution_count": null,
   "metadata": {},
   "outputs": [],
   "source": []
  },
  {
   "cell_type": "code",
   "execution_count": 292,
   "metadata": {},
   "outputs": [
    {
     "data": {
      "text/html": [
       "<div>\n",
       "<style scoped>\n",
       "    .dataframe tbody tr th:only-of-type {\n",
       "        vertical-align: middle;\n",
       "    }\n",
       "\n",
       "    .dataframe tbody tr th {\n",
       "        vertical-align: top;\n",
       "    }\n",
       "\n",
       "    .dataframe thead th {\n",
       "        text-align: right;\n",
       "    }\n",
       "</style>\n",
       "<table border=\"1\" class=\"dataframe\">\n",
       "  <thead>\n",
       "    <tr style=\"text-align: right;\">\n",
       "      <th></th>\n",
       "      <th>brand_titles</th>\n",
       "      <th>description_titles</th>\n",
       "      <th>prise_titles</th>\n",
       "    </tr>\n",
       "  </thead>\n",
       "  <tbody>\n",
       "    <tr>\n",
       "      <th>0</th>\n",
       "      <td>ADIDAS</td>\n",
       "      <td>Women Response SR Running</td>\n",
       "      <td>Rs. 5319Rs. 7599(30% OFF)</td>\n",
       "    </tr>\n",
       "    <tr>\n",
       "      <th>1</th>\n",
       "      <td>Puma</td>\n",
       "      <td>Men Cell Fraction Fade Running</td>\n",
       "      <td>Rs. 6999</td>\n",
       "    </tr>\n",
       "    <tr>\n",
       "      <th>2</th>\n",
       "      <td>Nike</td>\n",
       "      <td>Women Charged Bandit 6 Running</td>\n",
       "      <td>Rs. 8999</td>\n",
       "    </tr>\n",
       "    <tr>\n",
       "      <th>3</th>\n",
       "      <td>Nike</td>\n",
       "      <td>Men BlazerLow '77 Sneakers</td>\n",
       "      <td>Rs. 7195</td>\n",
       "    </tr>\n",
       "    <tr>\n",
       "      <th>4</th>\n",
       "      <td>TARMAK By Decathlon</td>\n",
       "      <td>Men Basketball Shoes</td>\n",
       "      <td>Rs. 5499</td>\n",
       "    </tr>\n",
       "    <tr>\n",
       "      <th>...</th>\n",
       "      <td>...</td>\n",
       "      <td>...</td>\n",
       "      <td>...</td>\n",
       "    </tr>\n",
       "    <tr>\n",
       "      <th>95</th>\n",
       "      <td>Geox</td>\n",
       "      <td>Men Solid Leather Formal Derbys</td>\n",
       "      <td>Rs. 6399Rs. 7999(20% OFF)</td>\n",
       "    </tr>\n",
       "    <tr>\n",
       "      <th>96</th>\n",
       "      <td>Geox</td>\n",
       "      <td>Men Running Shoes</td>\n",
       "      <td>Rs. 6293Rs. 8990(30% OFF)</td>\n",
       "    </tr>\n",
       "    <tr>\n",
       "      <th>97</th>\n",
       "      <td>Kenneth Cole</td>\n",
       "      <td>Men Leather Driving Shoes</td>\n",
       "      <td>Rs. 5399Rs. 5999(10% OFF)</td>\n",
       "    </tr>\n",
       "    <tr>\n",
       "      <th>98</th>\n",
       "      <td>RARE RABBIT</td>\n",
       "      <td>Men Running Shoes</td>\n",
       "      <td>Rs. 9999</td>\n",
       "    </tr>\n",
       "    <tr>\n",
       "      <th>99</th>\n",
       "      <td>Xtep</td>\n",
       "      <td>Women Charged Rogue 2 Running</td>\n",
       "      <td>Rs. 5399Rs. 5999(10% OFF)</td>\n",
       "    </tr>\n",
       "  </tbody>\n",
       "</table>\n",
       "<p>100 rows × 3 columns</p>\n",
       "</div>"
      ],
      "text/plain": [
       "           brand_titles               description_titles  \\\n",
       "0                ADIDAS        Women Response SR Running   \n",
       "1                  Puma   Men Cell Fraction Fade Running   \n",
       "2                  Nike   Women Charged Bandit 6 Running   \n",
       "3                  Nike       Men BlazerLow '77 Sneakers   \n",
       "4   TARMAK By Decathlon             Men Basketball Shoes   \n",
       "..                  ...                              ...   \n",
       "95                 Geox  Men Solid Leather Formal Derbys   \n",
       "96                 Geox                Men Running Shoes   \n",
       "97         Kenneth Cole        Men Leather Driving Shoes   \n",
       "98          RARE RABBIT                Men Running Shoes   \n",
       "99                 Xtep    Women Charged Rogue 2 Running   \n",
       "\n",
       "                 prise_titles  \n",
       "0   Rs. 5319Rs. 7599(30% OFF)  \n",
       "1                    Rs. 6999  \n",
       "2                    Rs. 8999  \n",
       "3                    Rs. 7195  \n",
       "4                    Rs. 5499  \n",
       "..                        ...  \n",
       "95  Rs. 6399Rs. 7999(20% OFF)  \n",
       "96  Rs. 6293Rs. 8990(30% OFF)  \n",
       "97  Rs. 5399Rs. 5999(10% OFF)  \n",
       "98                   Rs. 9999  \n",
       "99  Rs. 5399Rs. 5999(10% OFF)  \n",
       "\n",
       "[100 rows x 3 columns]"
      ]
     },
     "execution_count": 292,
     "metadata": {},
     "output_type": "execute_result"
    }
   ],
   "source": [
    "jobs"
   ]
  },
  {
   "cell_type": "markdown",
   "metadata": {},
   "source": [
    "Create dataframe"
   ]
  },
  {
   "cell_type": "code",
   "execution_count": 440,
   "metadata": {},
   "outputs": [
    {
     "data": {
      "text/plain": [
       "[<selenium.webdriver.remote.webelement.WebElement (session=\"a810f16f573ed66cad33102df8d3c198\", element=\"63fd5fc4-fade-4319-863c-d11956b3538a\")>,\n",
       " <selenium.webdriver.remote.webelement.WebElement (session=\"a810f16f573ed66cad33102df8d3c198\", element=\"ba36f3e0-4475-424b-868d-de3d60b927d8\")>,\n",
       " <selenium.webdriver.remote.webelement.WebElement (session=\"a810f16f573ed66cad33102df8d3c198\", element=\"d050eaaa-bad1-4aa3-9db7-0ab85cbab8ad\")>,\n",
       " <selenium.webdriver.remote.webelement.WebElement (session=\"a810f16f573ed66cad33102df8d3c198\", element=\"553a970a-9368-4c97-900c-5fc16259f41b\")>,\n",
       " <selenium.webdriver.remote.webelement.WebElement (session=\"a810f16f573ed66cad33102df8d3c198\", element=\"0e5d2ccb-0dea-49d8-8f73-55e23643af3a\")>,\n",
       " <selenium.webdriver.remote.webelement.WebElement (session=\"a810f16f573ed66cad33102df8d3c198\", element=\"abf1265c-91d3-4e0d-80a0-ace4b2b18c50\")>,\n",
       " <selenium.webdriver.remote.webelement.WebElement (session=\"a810f16f573ed66cad33102df8d3c198\", element=\"5e22da7a-d64c-4bbf-b098-6e740898f9e8\")>,\n",
       " <selenium.webdriver.remote.webelement.WebElement (session=\"a810f16f573ed66cad33102df8d3c198\", element=\"44890efe-ec66-483d-b737-6f75de610650\")>,\n",
       " <selenium.webdriver.remote.webelement.WebElement (session=\"a810f16f573ed66cad33102df8d3c198\", element=\"fe798bcb-53ed-4567-a1bc-5278d655f862\")>,\n",
       " <selenium.webdriver.remote.webelement.WebElement (session=\"a810f16f573ed66cad33102df8d3c198\", element=\"733e1379-3577-4e2d-a095-1cbb80bd8ae7\")>,\n",
       " <selenium.webdriver.remote.webelement.WebElement (session=\"a810f16f573ed66cad33102df8d3c198\", element=\"9488b88b-7749-4eab-adce-2429064f43b7\")>]"
      ]
     },
     "execution_count": 440,
     "metadata": {},
     "output_type": "execute_result"
    }
   ],
   "source": [
    "#/html/body/div[2]/div/div[1]/main/div[3]/div[2]/div/div[2]/section/div[2]/ul/li[3]/a\n",
    "#pagination-number\n",
    "url=driver.find_elements_by_xpath(\"//ul[@class='pagination-container']//a\")\n",
    "url"
   ]
  },
  {
   "cell_type": "markdown",
   "metadata": {},
   "source": [
    "Scrape the multiple pages URL"
   ]
  },
  {
   "cell_type": "code",
   "execution_count": 439,
   "metadata": {},
   "outputs": [
    {
     "data": {
      "text/plain": [
       "['https://www.myntra.com/shoes?f=Color%3ABlack_36454f&plaEnabled=false&rf=Price%3A6392.0_12595.0_6392.0%20TO%2012595.0',\n",
       " 'https://www.myntra.com/shoes?f=Color%3ABlack_36454f&plaEnabled=false&rf=Price%3A6392.0_12595.0_6392.0%20TO%2012595.0&p=2',\n",
       " 'https://www.myntra.com/shoes?f=Color%3ABlack_36454f&plaEnabled=false&rf=Price%3A6392.0_12595.0_6392.0%20TO%2012595.0&p=3',\n",
       " 'https://www.myntra.com/shoes?f=Color%3ABlack_36454f&plaEnabled=false&rf=Price%3A6392.0_12595.0_6392.0%20TO%2012595.0&p=4',\n",
       " 'https://www.myntra.com/shoes?f=Color%3ABlack_36454f&plaEnabled=false&rf=Price%3A6392.0_12595.0_6392.0%20TO%2012595.0&p=5',\n",
       " 'https://www.myntra.com/shoes?f=Color%3ABlack_36454f&plaEnabled=false&rf=Price%3A6392.0_12595.0_6392.0%20TO%2012595.0&p=6',\n",
       " 'https://www.myntra.com/shoes?f=Color%3ABlack_36454f&plaEnabled=false&rf=Price%3A6392.0_12595.0_6392.0%20TO%2012595.0&p=7',\n",
       " 'https://www.myntra.com/shoes?f=Color%3ABlack_36454f&plaEnabled=false&rf=Price%3A6392.0_12595.0_6392.0%20TO%2012595.0&p=8',\n",
       " 'https://www.myntra.com/shoes?f=Color%3ABlack_36454f&plaEnabled=false&rf=Price%3A6392.0_12595.0_6392.0%20TO%2012595.0&p=9',\n",
       " 'https://www.myntra.com/shoes?f=Color%3ABlack_36454f&plaEnabled=false&rf=Price%3A6392.0_12595.0_6392.0%20TO%2012595.0&p=10',\n",
       " 'https://www.myntra.com/shoes?f=Color%3ABlack_36454f&plaEnabled=false&rf=Price%3A6392.0_12595.0_6392.0%20TO%2012595.0&p=2']"
      ]
     },
     "execution_count": 439,
     "metadata": {},
     "output_type": "execute_result"
    }
   ],
   "source": [
    "page_url = []\n",
    "url = driver.find_elements_by_xpath(\"//ul[@class='pagination-container']//a\")\n",
    "for i in url:\n",
    "    page_url.append(i.get_attribute(\"href\"))\n",
    "page_url"
   ]
  },
  {
   "cell_type": "markdown",
   "metadata": {},
   "source": [
    "Scrape the URL names from multiple pages"
   ]
  },
  {
   "cell_type": "code",
   "execution_count": 451,
   "metadata": {},
   "outputs": [
    {
     "data": {
      "text/plain": [
       "['ALDO',\n",
       " 'UNDER ARMOUR',\n",
       " 'Nike',\n",
       " 'Puma',\n",
       " 'Geox',\n",
       " 'UNDER ARMOUR',\n",
       " 'UNDER ARMOUR',\n",
       " 'UNDER ARMOUR',\n",
       " 'UNDER ARMOUR',\n",
       " 'UNDER ARMOUR',\n",
       " 'ADIDAS',\n",
       " 'UNDER ARMOUR',\n",
       " 'UNDER ARMOUR',\n",
       " 'Puma',\n",
       " 'Puma',\n",
       " 'UNDER ARMOUR',\n",
       " 'UNDER ARMOUR',\n",
       " 'UNDER ARMOUR',\n",
       " 'RARE RABBIT',\n",
       " 'UNDER ARMOUR',\n",
       " 'Puma',\n",
       " 'UNDER ARMOUR',\n",
       " 'UNDER ARMOUR',\n",
       " 'Geox',\n",
       " 'UNDER ARMOUR',\n",
       " 'Hush Puppies',\n",
       " 'Hush Puppies',\n",
       " 'FORCLAZ By Decathlon',\n",
       " 'Geox',\n",
       " 'Geox',\n",
       " 'PUMA Hoops',\n",
       " 'UNDER ARMOUR',\n",
       " 'Hush Puppies',\n",
       " 'Geox',\n",
       " 'Geox',\n",
       " 'RARE RABBIT',\n",
       " 'Quechua By Decathlon',\n",
       " 'Geox',\n",
       " 'Cole Haan',\n",
       " 'UNDER ARMOUR',\n",
       " 'Puma',\n",
       " 'Geox',\n",
       " 'PUMA Hoops',\n",
       " 'Puma',\n",
       " 'J.FONTINI',\n",
       " 'UNDER ARMOUR',\n",
       " 'Geox',\n",
       " 'Geox',\n",
       " 'Geox',\n",
       " 'Geox',\n",
       " 'Cole Haan',\n",
       " 'Geox',\n",
       " 'Geox',\n",
       " 'Nike',\n",
       " 'Bugatti',\n",
       " 'Geox',\n",
       " 'Hush Puppies',\n",
       " 'UNDER ARMOUR',\n",
       " 'Hush Puppies',\n",
       " 'DAVINCHI',\n",
       " 'Ruosh',\n",
       " 'Cole Haan',\n",
       " 'Ruosh',\n",
       " 'RARE RABBIT',\n",
       " 'Puma',\n",
       " 'Ruosh',\n",
       " 'J.FONTINI',\n",
       " 'J.FONTINI',\n",
       " 'Bugatti',\n",
       " 'RARE RABBIT',\n",
       " 'KIPRUN By Decathlon',\n",
       " 'ALDO',\n",
       " 'Heel & Buckle London',\n",
       " 'Heel & Buckle London',\n",
       " 'RARE RABBIT',\n",
       " 'UNDER ARMOUR',\n",
       " 'Geox',\n",
       " 'Geox',\n",
       " 'UNDER ARMOUR',\n",
       " 'UNDER ARMOUR',\n",
       " 'Geox',\n",
       " 'UNDER ARMOUR',\n",
       " 'DAVINCHI',\n",
       " 'FILA',\n",
       " 'Kalenji By Decathlon',\n",
       " 'Geox',\n",
       " 'Geox',\n",
       " 'RARE RABBIT',\n",
       " 'Geox',\n",
       " 'Geox',\n",
       " 'Geox',\n",
       " 'Geox',\n",
       " 'Cole Haan',\n",
       " 'Nike',\n",
       " 'Geox',\n",
       " 'Geox',\n",
       " 'Geox',\n",
       " 'VIONIC',\n",
       " 'J.FONTINI',\n",
       " 'J.FONTINI']"
      ]
     },
     "execution_count": 451,
     "metadata": {},
     "output_type": "execute_result"
    }
   ],
   "source": [
    "brand_titles=[]\n",
    "for i in page_url[0:2]:\n",
    "    driver.get(i)\n",
    "    brand_tags=driver.find_elements_by_xpath(\"//li[@class='product-base']//h3[1]\")\n",
    "    for i in brand_tags:\n",
    "        brand_titles.append(i.text)\n",
    "brand_titles"
   ]
  },
  {
   "cell_type": "markdown",
   "metadata": {},
   "source": [
    "Scrape the Brand names fom 2 pages"
   ]
  },
  {
   "cell_type": "code",
   "execution_count": 452,
   "metadata": {},
   "outputs": [
    {
     "name": "stdout",
     "output_type": "stream",
     "text": [
      "100\n"
     ]
    }
   ],
   "source": [
    "print(len(brand_titles))"
   ]
  },
  {
   "cell_type": "code",
   "execution_count": 453,
   "metadata": {},
   "outputs": [
    {
     "data": {
      "text/plain": [
       "['LEBRON XVIII Basketball Shoes',\n",
       " 'Men Driving Shoes',\n",
       " 'Men Charged Bandit 6 Running',\n",
       " 'Men Cell Fraction Fade Running',\n",
       " 'Men Leather Sneakers',\n",
       " 'Women HOVR Sonic 4 Colorshift',\n",
       " 'Men HOVR Sonic 4 Colorshift',\n",
       " 'Unisex Project Rock Recruit',\n",
       " 'Men Charged Vantage Running',\n",
       " 'Men KD500 Running Shoe',\n",
       " 'Men Charged Pursuit 2 SE Shoes',\n",
       " 'Women SUPERNOVA Running Shoes',\n",
       " 'Men Charged Assert 8 Marble',\n",
       " 'Men Charged Pursuit 2 SE',\n",
       " 'Men Velocity Nitro Running',\n",
       " 'Women Deviate Nitro Running',\n",
       " 'GS SC 3Zero IV Basketball',\n",
       " 'Men HOVR Sonic 4 Running Shoes',\n",
       " 'Men Charged Rogue 2.5 RFLCT',\n",
       " 'Men Charged Commit 3 Training',\n",
       " 'Men SOFTRIDE Rift Shoes',\n",
       " 'Women Charged Vantage ClrShft',\n",
       " 'Men HOVR Infinite Running',\n",
       " 'Men Formal Derbys',\n",
       " 'Men HOVR Sonic STRT Tech Shoes',\n",
       " 'Men Leather Slip-On Sneakers',\n",
       " 'TREKKING 100 Boots',\n",
       " 'Unisex Clyde Basketball Shoes',\n",
       " 'Women Charged Impulse Shft',\n",
       " 'Men Solid Leather Formal Slip-Ons',\n",
       " 'Men Perforated Slip On Sneaker',\n",
       " 'Men Trekking Shoes',\n",
       " 'Leather Sneakers',\n",
       " 'Women HOVR Sonic 4 FnRn',\n",
       " 'Men Leather Semiformal Driving',\n",
       " 'Women Eternity Nitro Running',\n",
       " 'Unisex Clyde Basketball Shoes',\n",
       " 'Unisex Future Rider Sneakers',\n",
       " 'Men Woven Design Sneakers',\n",
       " 'Men Leather Formal Derbys',\n",
       " 'Men Phade Running Shoes',\n",
       " 'Men Leather Formal Brogues',\n",
       " 'Men Driving Shoes',\n",
       " 'Men Solid Sneakers',\n",
       " 'Men Leather Formal Derbys',\n",
       " 'Men Colourblocked Leather Derbys',\n",
       " 'Men Wingtip Oxford Sneakers',\n",
       " 'Men Leather Formal Derbys',\n",
       " 'Men Leather Formal Derbys',\n",
       " 'Men Leather Driving Shoes',\n",
       " 'Men Leather Flat Boots',\n",
       " 'Men KD500 Running Shoe',\n",
       " \"Men BlazerLow '77 Sneakers\",\n",
       " 'Men Textured Leather Loafers',\n",
       " 'Men Sneakers',\n",
       " 'Men Leather Sneakers',\n",
       " 'Men Solid Leather Formal Derbys',\n",
       " 'Men Solid Leather Formal Slip-Ons',\n",
       " 'HOVR Sonic 3 Running Shoes',\n",
       " 'Men Textured Formal Leather Loafers',\n",
       " 'Men Solid Leather Formal Oxfords',\n",
       " 'Men Leather Formal Derbys',\n",
       " 'Women Solid Leather Ballerinas',\n",
       " 'Men Leather Formal Brogues',\n",
       " 'Men Formal Leather Brogues',\n",
       " 'Men Leather Formal Derbys',\n",
       " 'Men Solid Leather Formal Derbys',\n",
       " 'Men Leather Formal Brogues',\n",
       " 'Women Velocity Nitro Running',\n",
       " 'Men Solid Formal Loafers',\n",
       " 'Men Leather Formal Derbys',\n",
       " 'Men Textured Leather Formal Loafers',\n",
       " 'Men Perforated Slip On Sneaker',\n",
       " 'Women Running Shoes',\n",
       " 'Women Solid Sneakers',\n",
       " 'Women Peep Toe Heels',\n",
       " 'Women Leather Pumps',\n",
       " 'Men Woven Design Sneakers',\n",
       " 'Men Semi-Formal Slip-Ons',\n",
       " 'Women Charged Bandit 6 Running',\n",
       " 'Men Leather Formal Slip-Ons',\n",
       " 'Women Charged Assert 8 Running',\n",
       " 'Women Charged Rogue 2.5ClrSft',\n",
       " 'Women Leather Solid Pumps',\n",
       " 'Women HOVR Sonic 4 Running',\n",
       " 'Men Colourblocked Leather Derbys',\n",
       " 'DAVINCHI',\n",
       " 'Men Leather Driving Shoes',\n",
       " 'Men Running Shoes',\n",
       " 'Men Solid Leather Sneakers',\n",
       " 'Men Perforations Leather Brogues',\n",
       " 'Men Printed Slip-On Sneakers',\n",
       " 'Men Leather Driving Shoes',\n",
       " 'Men GENERATION ZEROGRAND STITCHLITE',\n",
       " 'Women AIR ZOOM Running',\n",
       " 'Men Leather Slip-On Sneakers',\n",
       " 'Men Leather Driving Shoes',\n",
       " 'Men Textured Sneakers',\n",
       " 'Men Textured Leather Loafers',\n",
       " 'Men Textured Leather Loafers']"
      ]
     },
     "execution_count": 453,
     "metadata": {},
     "output_type": "execute_result"
    }
   ],
   "source": [
    "description_titles=[]\n",
    "for i in page_url[0:2]:\n",
    "    driver.get(i)\n",
    "    description_tags=driver.find_elements_by_xpath(\"//li[@class='product-base']//h4[1]\")\n",
    "    for i in description_tags:\n",
    "        description_titles.append(i.text)\n",
    "description_titles"
   ]
  },
  {
   "cell_type": "markdown",
   "metadata": {},
   "source": [
    "Scrape descriptions from two pages"
   ]
  },
  {
   "cell_type": "code",
   "execution_count": 454,
   "metadata": {},
   "outputs": [
    {
     "name": "stdout",
     "output_type": "stream",
     "text": [
      "100\n"
     ]
    }
   ],
   "source": [
    "print(len(description_titles))"
   ]
  },
  {
   "cell_type": "code",
   "execution_count": 455,
   "metadata": {},
   "outputs": [
    {
     "data": {
      "text/plain": [
       "['Rs. 11999',\n",
       " 'Rs. 11436Rs. 17595(35% OFF)',\n",
       " 'Rs. 8999',\n",
       " 'Rs. 6999',\n",
       " 'Rs. 8399Rs. 10499(20% OFF)',\n",
       " 'Rs. 10999',\n",
       " 'Rs. 6990',\n",
       " 'Rs. 10999',\n",
       " 'Rs. 9999',\n",
       " 'Rs. 7999',\n",
       " 'Rs. 6999',\n",
       " 'Rs. 6999Rs. 9999(30% OFF)',\n",
       " 'Rs. 6999',\n",
       " 'Rs. 6999',\n",
       " 'Rs. 10999',\n",
       " 'Rs. 9749Rs. 14999(35% OFF)',\n",
       " 'Rs. 7499',\n",
       " 'Rs. 10999',\n",
       " 'Rs. 8799Rs. 10999(20% OFF)',\n",
       " 'Rs. 7999',\n",
       " 'Rs. 7999',\n",
       " 'Rs. 6499',\n",
       " 'Rs. 11999',\n",
       " 'Rs. 7999',\n",
       " 'Rs. 9999',\n",
       " 'Rs. 8999Rs. 9999(10% OFF)',\n",
       " 'Rs. 9999',\n",
       " 'Rs. 6999Rs. 9999(30% OFF)',\n",
       " 'Rs. 6999',\n",
       " 'Rs. 10999',\n",
       " 'Rs. 8999',\n",
       " 'Rs. 7499',\n",
       " 'Rs. 8099Rs. 8999(10% OFF)',\n",
       " 'Rs. 7999Rs. 9999(20% OFF)',\n",
       " 'Rs. 9999',\n",
       " 'Rs. 8799Rs. 10999(20% OFF)',\n",
       " 'Rs. 10999',\n",
       " 'Rs. 8449Rs. 12999(35% OFF)',\n",
       " 'Rs. 10490',\n",
       " 'Rs. 7149Rs. 10999(35% OFF)',\n",
       " 'Rs. 6999',\n",
       " 'Rs. 8999',\n",
       " 'Rs. 6499',\n",
       " 'Rs. 7199Rs. 8999(20% OFF)',\n",
       " 'Rs. 10399Rs. 12999(20% OFF)',\n",
       " 'Rs. 11999',\n",
       " 'Rs. 9999',\n",
       " 'Rs. 7195',\n",
       " 'Rs. 10999',\n",
       " 'Rs. 6399Rs. 7999(20% OFF)',\n",
       " 'Rs. 6990',\n",
       " 'Rs. 6399Rs. 7999(20% OFF)',\n",
       " 'Rs. 9999',\n",
       " 'Rs. 8999Rs. 9999(10% OFF)',\n",
       " 'Rs. 10999',\n",
       " 'Rs. 7999Rs. 9999(20% OFF)',\n",
       " 'Rs. 8999Rs. 9999(10% OFF)',\n",
       " 'Rs. 8990',\n",
       " 'Rs. 7773Rs. 8449(8% OFF)',\n",
       " 'Rs. 9999',\n",
       " 'Rs. 8094Rs. 13490(40% OFF)',\n",
       " 'Rs. 11199Rs. 13999(20% OFF)',\n",
       " 'Rs. 10999',\n",
       " 'Rs. 6990',\n",
       " 'Rs. 6990',\n",
       " 'Rs. 7149Rs. 10999(35% OFF)',\n",
       " 'Rs. 6490',\n",
       " 'Rs. 6399Rs. 7999(20% OFF)',\n",
       " 'Rs. 9999',\n",
       " 'Rs. 11999',\n",
       " 'Rs. 9999',\n",
       " 'Rs. 7006Rs. 7149(2% OFF)',\n",
       " 'Rs. 8399Rs. 10499(20% OFF)',\n",
       " 'Rs. 7999',\n",
       " 'Rs. 7192Rs. 8990(20% OFF)',\n",
       " 'Rs. 7192Rs. 8990(20% OFF)',\n",
       " 'Rs. 8999',\n",
       " 'Rs. 7199Rs. 8999(20% OFF)',\n",
       " 'Rs. 9999',\n",
       " 'Rs. 7199Rs. 8999(20% OFF)',\n",
       " 'Rs. 6999',\n",
       " 'Rs. 7999',\n",
       " 'Rs. 11990',\n",
       " 'Rs. 10999',\n",
       " 'Rs. 7990',\n",
       " 'Rs. 8799Rs. 10999(20% OFF)',\n",
       " 'Rs. 8499',\n",
       " 'Rs. 6499',\n",
       " 'Rs. 9999',\n",
       " 'Rs. 7199Rs. 8999(20% OFF)',\n",
       " 'Rs. 6999',\n",
       " 'Rs. 9999',\n",
       " 'Rs. 8799Rs. 10999(20% OFF)',\n",
       " 'Rs. 9599Rs. 11999(20% OFF)',\n",
       " 'Rs. 8771Rs. 13495(35% OFF)',\n",
       " 'Rs. 9490',\n",
       " 'Rs. 9990',\n",
       " 'Rs. 7039Rs. 10999(36% OFF)',\n",
       " 'Rs. 7990',\n",
       " 'Rs. 7990']"
      ]
     },
     "execution_count": 455,
     "metadata": {},
     "output_type": "execute_result"
    }
   ],
   "source": [
    "prise_titles=[]\n",
    "for i in page_url[0:2]:\n",
    "    driver.get(i)\n",
    "    prise_tags=driver.find_elements_by_xpath(\"//div[@class='product-price']\")\n",
    "    for i in prise_tags:\n",
    "        prise_titles.append(i.text)\n",
    "prise_titles"
   ]
  },
  {
   "cell_type": "markdown",
   "metadata": {},
   "source": [
    "Scrape prise from 2 pages"
   ]
  },
  {
   "cell_type": "code",
   "execution_count": 456,
   "metadata": {},
   "outputs": [
    {
     "name": "stdout",
     "output_type": "stream",
     "text": [
      "100\n"
     ]
    }
   ],
   "source": [
    "print(len(prise_titles))"
   ]
  },
  {
   "cell_type": "code",
   "execution_count": 457,
   "metadata": {},
   "outputs": [
    {
     "name": "stdout",
     "output_type": "stream",
     "text": [
      "100 100 100\n"
     ]
    }
   ],
   "source": [
    "print(len(prise_titles),len(description_titles),len(brand_titles))"
   ]
  },
  {
   "cell_type": "code",
   "execution_count": 458,
   "metadata": {},
   "outputs": [],
   "source": [
    "jobs=pd.DataFrame()\n",
    "jobs['brand_titles']=brand_titles\n",
    "jobs['description_titles']=description_titles\n",
    "jobs['prise_titles']=prise_titles"
   ]
  },
  {
   "cell_type": "code",
   "execution_count": 459,
   "metadata": {},
   "outputs": [
    {
     "data": {
      "text/html": [
       "<div>\n",
       "<style scoped>\n",
       "    .dataframe tbody tr th:only-of-type {\n",
       "        vertical-align: middle;\n",
       "    }\n",
       "\n",
       "    .dataframe tbody tr th {\n",
       "        vertical-align: top;\n",
       "    }\n",
       "\n",
       "    .dataframe thead th {\n",
       "        text-align: right;\n",
       "    }\n",
       "</style>\n",
       "<table border=\"1\" class=\"dataframe\">\n",
       "  <thead>\n",
       "    <tr style=\"text-align: right;\">\n",
       "      <th></th>\n",
       "      <th>brand_titles</th>\n",
       "      <th>description_titles</th>\n",
       "      <th>prise_titles</th>\n",
       "    </tr>\n",
       "  </thead>\n",
       "  <tbody>\n",
       "    <tr>\n",
       "      <th>0</th>\n",
       "      <td>ALDO</td>\n",
       "      <td>LEBRON XVIII Basketball Shoes</td>\n",
       "      <td>Rs. 11999</td>\n",
       "    </tr>\n",
       "    <tr>\n",
       "      <th>1</th>\n",
       "      <td>UNDER ARMOUR</td>\n",
       "      <td>Men Driving Shoes</td>\n",
       "      <td>Rs. 11436Rs. 17595(35% OFF)</td>\n",
       "    </tr>\n",
       "    <tr>\n",
       "      <th>2</th>\n",
       "      <td>Nike</td>\n",
       "      <td>Men Charged Bandit 6 Running</td>\n",
       "      <td>Rs. 8999</td>\n",
       "    </tr>\n",
       "    <tr>\n",
       "      <th>3</th>\n",
       "      <td>Puma</td>\n",
       "      <td>Men Cell Fraction Fade Running</td>\n",
       "      <td>Rs. 6999</td>\n",
       "    </tr>\n",
       "    <tr>\n",
       "      <th>4</th>\n",
       "      <td>Geox</td>\n",
       "      <td>Men Leather Sneakers</td>\n",
       "      <td>Rs. 8399Rs. 10499(20% OFF)</td>\n",
       "    </tr>\n",
       "    <tr>\n",
       "      <th>...</th>\n",
       "      <td>...</td>\n",
       "      <td>...</td>\n",
       "      <td>...</td>\n",
       "    </tr>\n",
       "    <tr>\n",
       "      <th>95</th>\n",
       "      <td>Geox</td>\n",
       "      <td>Men Leather Slip-On Sneakers</td>\n",
       "      <td>Rs. 9490</td>\n",
       "    </tr>\n",
       "    <tr>\n",
       "      <th>96</th>\n",
       "      <td>Geox</td>\n",
       "      <td>Men Leather Driving Shoes</td>\n",
       "      <td>Rs. 9990</td>\n",
       "    </tr>\n",
       "    <tr>\n",
       "      <th>97</th>\n",
       "      <td>VIONIC</td>\n",
       "      <td>Men Textured Sneakers</td>\n",
       "      <td>Rs. 7039Rs. 10999(36% OFF)</td>\n",
       "    </tr>\n",
       "    <tr>\n",
       "      <th>98</th>\n",
       "      <td>J.FONTINI</td>\n",
       "      <td>Men Textured Leather Loafers</td>\n",
       "      <td>Rs. 7990</td>\n",
       "    </tr>\n",
       "    <tr>\n",
       "      <th>99</th>\n",
       "      <td>J.FONTINI</td>\n",
       "      <td>Men Textured Leather Loafers</td>\n",
       "      <td>Rs. 7990</td>\n",
       "    </tr>\n",
       "  </tbody>\n",
       "</table>\n",
       "<p>100 rows × 3 columns</p>\n",
       "</div>"
      ],
      "text/plain": [
       "    brand_titles              description_titles                 prise_titles\n",
       "0           ALDO   LEBRON XVIII Basketball Shoes                    Rs. 11999\n",
       "1   UNDER ARMOUR               Men Driving Shoes  Rs. 11436Rs. 17595(35% OFF)\n",
       "2           Nike    Men Charged Bandit 6 Running                     Rs. 8999\n",
       "3           Puma  Men Cell Fraction Fade Running                     Rs. 6999\n",
       "4           Geox            Men Leather Sneakers   Rs. 8399Rs. 10499(20% OFF)\n",
       "..           ...                             ...                          ...\n",
       "95          Geox    Men Leather Slip-On Sneakers                     Rs. 9490\n",
       "96          Geox       Men Leather Driving Shoes                     Rs. 9990\n",
       "97        VIONIC           Men Textured Sneakers   Rs. 7039Rs. 10999(36% OFF)\n",
       "98     J.FONTINI    Men Textured Leather Loafers                     Rs. 7990\n",
       "99     J.FONTINI    Men Textured Leather Loafers                     Rs. 7990\n",
       "\n",
       "[100 rows x 3 columns]"
      ]
     },
     "execution_count": 459,
     "metadata": {},
     "output_type": "execute_result"
    }
   ],
   "source": [
    "jobs"
   ]
  },
  {
   "cell_type": "markdown",
   "metadata": {},
   "source": [
    "Create Dataframe of 100 shoes"
   ]
  },
  {
   "cell_type": "markdown",
   "metadata": {},
   "source": []
  },
  {
   "cell_type": "markdown",
   "metadata": {},
   "source": [
    "Q10: Go to webpage https://www.amazon.in/\n",
    " Enter “Laptop” in the search field and then click the search icon"
   ]
  },
  {
   "cell_type": "code",
   "execution_count": 302,
   "metadata": {},
   "outputs": [],
   "source": [
    "driver = webdriver.Chrome(r\"C:\\Users\\Ankita\\Downloads\\chromedriver_win32\\chromedriver.exe\")"
   ]
  },
  {
   "cell_type": "markdown",
   "metadata": {},
   "source": [
    "Chrome driver path"
   ]
  },
  {
   "cell_type": "code",
   "execution_count": 303,
   "metadata": {},
   "outputs": [],
   "source": [
    "url = 'https://www.amazon.in/'\n",
    "driver.get(url)"
   ]
  },
  {
   "cell_type": "markdown",
   "metadata": {},
   "source": [
    "Enter amazon URL"
   ]
  },
  {
   "cell_type": "code",
   "execution_count": 304,
   "metadata": {},
   "outputs": [
    {
     "data": {
      "text/plain": [
       "<selenium.webdriver.remote.webelement.WebElement (session=\"cb42652cbcf61e268a74ace368c0484e\", element=\"9420429f-3c9d-402c-b794-5eedea3151e1\")>"
      ]
     },
     "execution_count": 304,
     "metadata": {},
     "output_type": "execute_result"
    }
   ],
   "source": [
    "search_job = driver.find_element_by_xpath(\"/html/body/div[1]/header/div/div[1]/div[2]/div/form/div[2]/div[1]/input\")\n",
    "search_job"
   ]
  },
  {
   "cell_type": "code",
   "execution_count": 305,
   "metadata": {},
   "outputs": [],
   "source": [
    "search_job.send_keys(\"Laptop\")"
   ]
  },
  {
   "cell_type": "markdown",
   "metadata": {},
   "source": [
    "Enter Laptop on search field"
   ]
  },
  {
   "cell_type": "code",
   "execution_count": 306,
   "metadata": {},
   "outputs": [
    {
     "data": {
      "text/plain": [
       "<selenium.webdriver.remote.webelement.WebElement (session=\"cb42652cbcf61e268a74ace368c0484e\", element=\"4cee610f-74f3-4465-9957-a31f56cd6af0\")>"
      ]
     },
     "execution_count": 306,
     "metadata": {},
     "output_type": "execute_result"
    }
   ],
   "source": [
    "search_btn = driver.find_element_by_xpath(\"//div[@class='nav-search-submit nav-sprite']\")\n",
    "search_btn"
   ]
  },
  {
   "cell_type": "code",
   "execution_count": 307,
   "metadata": {},
   "outputs": [],
   "source": [
    "search_btn.click()"
   ]
  },
  {
   "cell_type": "markdown",
   "metadata": {},
   "source": [
    "Click on search button"
   ]
  },
  {
   "cell_type": "code",
   "execution_count": 309,
   "metadata": {},
   "outputs": [],
   "source": [
    "version_filter = driver.find_element_by_xpath('/html/body/div[1]/div[2]/div[1]/div[2]/div/div[3]/span/div[1]/span/div/div/div[6]/ul[5]/li[26]/span/a/div/label/i')\n",
    "version_filter.click()"
   ]
  },
  {
   "cell_type": "markdown",
   "metadata": {},
   "source": [
    "Click and select core i7 filter"
   ]
  },
  {
   "cell_type": "code",
   "execution_count": 311,
   "metadata": {},
   "outputs": [],
   "source": [
    "version9_filter = driver.find_element_by_xpath('/html/body/div[1]/div[2]/div[1]/div[2]/div/div[3]/span/div[1]/span/div/div/div[6]/ul[5]/li[28]/span/a/div/label/i')\n",
    "version9_filter.click()"
   ]
  },
  {
   "cell_type": "markdown",
   "metadata": {},
   "source": [
    "Click and select core i9 filter"
   ]
  },
  {
   "cell_type": "code",
   "execution_count": 312,
   "metadata": {},
   "outputs": [
    {
     "data": {
      "text/plain": [
       "[<selenium.webdriver.remote.webelement.WebElement (session=\"cb42652cbcf61e268a74ace368c0484e\", element=\"0b8ae827-e085-4184-8946-4aa37a481896\")>,\n",
       " <selenium.webdriver.remote.webelement.WebElement (session=\"cb42652cbcf61e268a74ace368c0484e\", element=\"d4201b07-3172-41d6-adde-23fc615bd63f\")>,\n",
       " <selenium.webdriver.remote.webelement.WebElement (session=\"cb42652cbcf61e268a74ace368c0484e\", element=\"51a894e3-6d33-4200-94b5-143c9f737b2e\")>,\n",
       " <selenium.webdriver.remote.webelement.WebElement (session=\"cb42652cbcf61e268a74ace368c0484e\", element=\"c9a5b912-8a5c-4f57-a272-7d17d2e96c83\")>,\n",
       " <selenium.webdriver.remote.webelement.WebElement (session=\"cb42652cbcf61e268a74ace368c0484e\", element=\"0a93c700-1764-4ea9-a02e-c38d13c4abd1\")>,\n",
       " <selenium.webdriver.remote.webelement.WebElement (session=\"cb42652cbcf61e268a74ace368c0484e\", element=\"0f959864-1ec1-48fd-ac34-efbcb9e97293\")>,\n",
       " <selenium.webdriver.remote.webelement.WebElement (session=\"cb42652cbcf61e268a74ace368c0484e\", element=\"d8a9eaad-6eae-4002-9f6d-52b47503feb0\")>,\n",
       " <selenium.webdriver.remote.webelement.WebElement (session=\"cb42652cbcf61e268a74ace368c0484e\", element=\"bd66fe2a-0c42-4d8c-8f03-488827cab988\")>,\n",
       " <selenium.webdriver.remote.webelement.WebElement (session=\"cb42652cbcf61e268a74ace368c0484e\", element=\"b4c9e6b4-7236-496c-b744-91d6ad711738\")>,\n",
       " <selenium.webdriver.remote.webelement.WebElement (session=\"cb42652cbcf61e268a74ace368c0484e\", element=\"ae6744e5-d263-4f40-9277-9e4071a144f5\")>,\n",
       " <selenium.webdriver.remote.webelement.WebElement (session=\"cb42652cbcf61e268a74ace368c0484e\", element=\"6da7cc74-8f37-45eb-941c-d84894b55d0f\")>,\n",
       " <selenium.webdriver.remote.webelement.WebElement (session=\"cb42652cbcf61e268a74ace368c0484e\", element=\"c0657951-83ee-4bde-9188-a3e2bc20bf60\")>,\n",
       " <selenium.webdriver.remote.webelement.WebElement (session=\"cb42652cbcf61e268a74ace368c0484e\", element=\"254ae442-a9e4-4e62-85e1-7bff6ee82fe0\")>,\n",
       " <selenium.webdriver.remote.webelement.WebElement (session=\"cb42652cbcf61e268a74ace368c0484e\", element=\"09c5748a-1247-486c-8342-2aef8409d95a\")>,\n",
       " <selenium.webdriver.remote.webelement.WebElement (session=\"cb42652cbcf61e268a74ace368c0484e\", element=\"08bec3a7-0e35-4f4e-90a8-735ab7a37d8f\")>,\n",
       " <selenium.webdriver.remote.webelement.WebElement (session=\"cb42652cbcf61e268a74ace368c0484e\", element=\"78366635-57f4-400b-afca-dc1a1ea82744\")>,\n",
       " <selenium.webdriver.remote.webelement.WebElement (session=\"cb42652cbcf61e268a74ace368c0484e\", element=\"f74f6549-8d4c-4ff9-b734-ff094b859fed\")>,\n",
       " <selenium.webdriver.remote.webelement.WebElement (session=\"cb42652cbcf61e268a74ace368c0484e\", element=\"5e68bf60-982e-4f8e-a3cf-ca5d027ecdd8\")>,\n",
       " <selenium.webdriver.remote.webelement.WebElement (session=\"cb42652cbcf61e268a74ace368c0484e\", element=\"2cbbf53a-6156-400e-a861-ecd5a66f9067\")>,\n",
       " <selenium.webdriver.remote.webelement.WebElement (session=\"cb42652cbcf61e268a74ace368c0484e\", element=\"40df9ec8-fe2d-46ff-9cf0-4362fc598aa6\")>,\n",
       " <selenium.webdriver.remote.webelement.WebElement (session=\"cb42652cbcf61e268a74ace368c0484e\", element=\"808c06ce-89d6-481d-8b30-f8b11c081d54\")>,\n",
       " <selenium.webdriver.remote.webelement.WebElement (session=\"cb42652cbcf61e268a74ace368c0484e\", element=\"85215db7-d2b0-466b-8186-740120e1f42b\")>,\n",
       " <selenium.webdriver.remote.webelement.WebElement (session=\"cb42652cbcf61e268a74ace368c0484e\", element=\"683b1877-d2d6-4a54-ad7f-1e5b17c88942\")>,\n",
       " <selenium.webdriver.remote.webelement.WebElement (session=\"cb42652cbcf61e268a74ace368c0484e\", element=\"7cf5cb4d-2a9a-4698-8181-0e5975ad6352\")>,\n",
       " <selenium.webdriver.remote.webelement.WebElement (session=\"cb42652cbcf61e268a74ace368c0484e\", element=\"5d9b7c10-7b96-4a36-bfc7-bec1d36cbc86\")>,\n",
       " <selenium.webdriver.remote.webelement.WebElement (session=\"cb42652cbcf61e268a74ace368c0484e\", element=\"664b6615-0796-46e1-aa9a-6edbcb7e8e68\")>,\n",
       " <selenium.webdriver.remote.webelement.WebElement (session=\"cb42652cbcf61e268a74ace368c0484e\", element=\"3fa1e935-4a67-4c13-b072-1acc24bdd0c2\")>,\n",
       " <selenium.webdriver.remote.webelement.WebElement (session=\"cb42652cbcf61e268a74ace368c0484e\", element=\"4444f8fb-887a-43ad-a873-7c8efa8c8f6b\")>,\n",
       " <selenium.webdriver.remote.webelement.WebElement (session=\"cb42652cbcf61e268a74ace368c0484e\", element=\"1e4a1f0a-967a-42e2-92cf-d51576256a9a\")>]"
      ]
     },
     "execution_count": 312,
     "metadata": {},
     "output_type": "execute_result"
    }
   ],
   "source": [
    "title_tags=driver.find_elements_by_xpath(\"//span[@class='a-size-medium a-color-base a-text-normal']\")\n",
    "title_tags"
   ]
  },
  {
   "cell_type": "code",
   "execution_count": 313,
   "metadata": {},
   "outputs": [
    {
     "data": {
      "text/plain": [
       "['HP Envy 11th Gen Core i7 Processor 13.3-inch (33.78 cms) FHD Touchscreen Laptop (16GB/1TB SSD/Win 10/NVIDIA MX450 2GB/Natural Silver/1.3 kg), 13-ba1018TX',\n",
       " 'Lenovo Yoga 7 11th Gen Intel Core i7-1165G7 14\" (35.56cm) FHD IPS 2-in-1 Touchscreen Laptop (16GB/512GB SSD/Windows 10/MS Office/Lenovo Digital Pen/Fingerprint Reader/Slate Grey/1.43Kg), 82BH004HIN',\n",
       " 'MSI GF65 Thin, Intel i7-10750H, 15.6\" FHD (39.6 cm) IPS-Level 144Hz Panel Laptop (16GB/512GB NVMe SSD/Windows 10 Home/Nvidia GTX1660 Ti 6GB GDDR6/Black/1.86Kg), 10SDR-1280IN',\n",
       " 'HP Pavilion (2021) Thin & Light 11th Gen Core i7 Laptop, 16 GB RAM, 1TB SSD, Iris Xe Graphics, 14\" (35.56cms) FHD Screen, Windows 10, MS Office, Backlit Keyboard (14-dv0058TU)',\n",
       " 'ASUS TUF Gaming F15 (2020), 15.6-inch (39.62 cms) FHD 144Hz, Intel Core i7-10870H 10th Gen, NVIDIA GeForce GTX 1650 4GB Graphics, Gaming Laptop(8GB/512GB SSDWindows 10/Gray/2.3 Kg), FX566LH-HN255T',\n",
       " 'Life Digital Laptop 15.6-inch (39.62 cms) (Intel Core i7, 4GB RAM, 256GB SSD, Windows 10), ZED AIR CX7',\n",
       " 'Mi Notebook Horizon Edition 14 Intel Core i7-10510U 10th Gen 14-inch (35.56 cms) Thin and Light Laptop(8GB/512GB SSD/Windows 10/Nvidia MX350 2GB Graphics/Grey/1.35Kg), XMA1904-AF+Webcam',\n",
       " 'Lenovo IdeaPad Flex 5 11th Gen Intel Core i7 14\"(35.56cm) FHD IPS 2-in-1 Touchscreen Laptop(16GB/512GB SSD/Windows 10/MS Office/Lenovo Digital Pen/Fingerprint Reader/Graphite Grey/1.5Kg), 82HS0092IN',\n",
       " 'Samsung Galaxy Book Flex 13.3” | Samsung Laptop with QLED Display and Intel Core i7 Processor | Galaxy Book Flex Laptop with Long Battery Life and Bluetooth-Enabled S Pen | (NP930QCG-K01US)',\n",
       " '(Renewed) Life Digital Laptop 15.6-inch (39.62 cms) (Intel Core i7, 8GB RAM, 512GB SSD, Windows 10), ZED AIR CX7']"
      ]
     },
     "execution_count": 313,
     "metadata": {},
     "output_type": "execute_result"
    }
   ],
   "source": [
    "title_titles=[]\n",
    "for i in title_tags[0:10]:\n",
    "    title_titles.append(i.text)\n",
    "title_titles"
   ]
  },
  {
   "cell_type": "markdown",
   "metadata": {},
   "source": [
    "Scrape the title information"
   ]
  },
  {
   "cell_type": "code",
   "execution_count": 314,
   "metadata": {},
   "outputs": [
    {
     "name": "stdout",
     "output_type": "stream",
     "text": [
      "10\n"
     ]
    }
   ],
   "source": [
    "print(len(title_titles))"
   ]
  },
  {
   "cell_type": "code",
   "execution_count": 320,
   "metadata": {},
   "outputs": [
    {
     "data": {
      "text/plain": [
       "[<selenium.webdriver.remote.webelement.WebElement (session=\"cb42652cbcf61e268a74ace368c0484e\", element=\"eb28a020-eb12-4b32-808c-1903014e6663\")>,\n",
       " <selenium.webdriver.remote.webelement.WebElement (session=\"cb42652cbcf61e268a74ace368c0484e\", element=\"06256559-97df-43f8-97db-1358bf0cfae4\")>]"
      ]
     },
     "execution_count": 320,
     "metadata": {},
     "output_type": "execute_result"
    }
   ],
   "source": [
    "rating_tags=driver.find_elements_by_xpath(\"//div[@class='a-icon-row a-spacing-small a-padding-none']//span\")\n",
    "rating_tags"
   ]
  },
  {
   "cell_type": "code",
   "execution_count": 321,
   "metadata": {
    "scrolled": true
   },
   "outputs": [
    {
     "data": {
      "text/plain": [
       "['', '']"
      ]
     },
     "execution_count": 321,
     "metadata": {},
     "output_type": "execute_result"
    }
   ],
   "source": [
    "rating_titles=[]\n",
    "for i in rating_tags[0:10]:\n",
    "    rating_titles.append(i.text)\n",
    "rating_titles"
   ]
  },
  {
   "cell_type": "code",
   "execution_count": 416,
   "metadata": {},
   "outputs": [
    {
     "data": {
      "text/plain": [
       "[<selenium.webdriver.remote.webelement.WebElement (session=\"1312acf8016a1895684eb37a2610fa9c\", element=\"c4436820-973d-4072-81b4-518281b0cea1\")>,\n",
       " <selenium.webdriver.remote.webelement.WebElement (session=\"1312acf8016a1895684eb37a2610fa9c\", element=\"5dc5e5ad-2646-475f-8814-148d27cf227d\")>,\n",
       " <selenium.webdriver.remote.webelement.WebElement (session=\"1312acf8016a1895684eb37a2610fa9c\", element=\"369222b3-b0d8-4ff7-8149-e666354a99d8\")>,\n",
       " <selenium.webdriver.remote.webelement.WebElement (session=\"1312acf8016a1895684eb37a2610fa9c\", element=\"a416c98a-445a-4869-8c58-cfad7ea29bba\")>,\n",
       " <selenium.webdriver.remote.webelement.WebElement (session=\"1312acf8016a1895684eb37a2610fa9c\", element=\"cb5d9e86-2ad4-41c6-92cb-654fc908ffeb\")>,\n",
       " <selenium.webdriver.remote.webelement.WebElement (session=\"1312acf8016a1895684eb37a2610fa9c\", element=\"5069393b-bc7b-43ce-b0be-88fad44ce926\")>,\n",
       " <selenium.webdriver.remote.webelement.WebElement (session=\"1312acf8016a1895684eb37a2610fa9c\", element=\"1cbdf7c0-f5d6-4085-aa80-0f24e80dd29f\")>,\n",
       " <selenium.webdriver.remote.webelement.WebElement (session=\"1312acf8016a1895684eb37a2610fa9c\", element=\"c3a3d0d9-284c-4d9e-8894-52f5a2c7d81b\")>,\n",
       " <selenium.webdriver.remote.webelement.WebElement (session=\"1312acf8016a1895684eb37a2610fa9c\", element=\"68ac4b7c-dcaf-4399-8f37-2803b8db6df5\")>,\n",
       " <selenium.webdriver.remote.webelement.WebElement (session=\"1312acf8016a1895684eb37a2610fa9c\", element=\"c8194391-138a-474f-affe-138e44c11194\")>,\n",
       " <selenium.webdriver.remote.webelement.WebElement (session=\"1312acf8016a1895684eb37a2610fa9c\", element=\"fbc67226-922d-4d03-ac4e-b28901c6bea2\")>,\n",
       " <selenium.webdriver.remote.webelement.WebElement (session=\"1312acf8016a1895684eb37a2610fa9c\", element=\"23cad262-31e1-4d38-a1e0-c74fed9bf42e\")>,\n",
       " <selenium.webdriver.remote.webelement.WebElement (session=\"1312acf8016a1895684eb37a2610fa9c\", element=\"ed5cb3ec-ecad-4659-be08-ad03ec416f9f\")>,\n",
       " <selenium.webdriver.remote.webelement.WebElement (session=\"1312acf8016a1895684eb37a2610fa9c\", element=\"2744383c-39ac-4244-a2c2-dfb026066a11\")>,\n",
       " <selenium.webdriver.remote.webelement.WebElement (session=\"1312acf8016a1895684eb37a2610fa9c\", element=\"fa6f4ef0-3e6d-4312-bb24-3aa6a9cef229\")>,\n",
       " <selenium.webdriver.remote.webelement.WebElement (session=\"1312acf8016a1895684eb37a2610fa9c\", element=\"c831d74b-5ca4-4dc8-94ce-a91c5a7e650c\")>,\n",
       " <selenium.webdriver.remote.webelement.WebElement (session=\"1312acf8016a1895684eb37a2610fa9c\", element=\"7d80914f-d4f7-4b19-bf8f-4f58dea07030\")>,\n",
       " <selenium.webdriver.remote.webelement.WebElement (session=\"1312acf8016a1895684eb37a2610fa9c\", element=\"ee81dab8-867a-4144-92ed-0d2c7e2752ac\")>,\n",
       " <selenium.webdriver.remote.webelement.WebElement (session=\"1312acf8016a1895684eb37a2610fa9c\", element=\"f1b58a69-90aa-4f38-b769-aa284fd35fad\")>,\n",
       " <selenium.webdriver.remote.webelement.WebElement (session=\"1312acf8016a1895684eb37a2610fa9c\", element=\"b20e557e-73a9-47a4-8f94-53a22e8f5e1d\")>,\n",
       " <selenium.webdriver.remote.webelement.WebElement (session=\"1312acf8016a1895684eb37a2610fa9c\", element=\"67adb8f0-827a-4934-be2e-8d8de09340c1\")>,\n",
       " <selenium.webdriver.remote.webelement.WebElement (session=\"1312acf8016a1895684eb37a2610fa9c\", element=\"a492a9d8-5dc8-4aa5-b6b7-86484c89a3ab\")>,\n",
       " <selenium.webdriver.remote.webelement.WebElement (session=\"1312acf8016a1895684eb37a2610fa9c\", element=\"6533aa5f-6d7c-4617-b250-526db8c31173\")>,\n",
       " <selenium.webdriver.remote.webelement.WebElement (session=\"1312acf8016a1895684eb37a2610fa9c\", element=\"f0c3234f-2254-43db-a987-6f43643ad88f\")>,\n",
       " <selenium.webdriver.remote.webelement.WebElement (session=\"1312acf8016a1895684eb37a2610fa9c\", element=\"c3543775-4c2e-460a-bda7-52af6ebf53de\")>]"
      ]
     },
     "execution_count": 416,
     "metadata": {},
     "output_type": "execute_result"
    }
   ],
   "source": [
    "cost_tags=driver.find_elements_by_xpath(\"//span[@class='a-price-whole']\")\n",
    "cost_tags"
   ]
  },
  {
   "cell_type": "code",
   "execution_count": 417,
   "metadata": {},
   "outputs": [
    {
     "data": {
      "text/plain": [
       "['59,999',\n",
       " '99,990',\n",
       " '84,990',\n",
       " '29,990',\n",
       " '59,999',\n",
       " '34,990',\n",
       " '94,400',\n",
       " '71,990',\n",
       " '74,990',\n",
       " '85,390']"
      ]
     },
     "execution_count": 417,
     "metadata": {},
     "output_type": "execute_result"
    }
   ],
   "source": [
    "cost_titles=[]\n",
    "for i in cost_tags[0:10]:\n",
    "    cost_titles.append(i.text)\n",
    "cost_titles"
   ]
  },
  {
   "cell_type": "markdown",
   "metadata": {},
   "source": [
    "Scrape the cost information"
   ]
  },
  {
   "cell_type": "code",
   "execution_count": 418,
   "metadata": {},
   "outputs": [
    {
     "name": "stdout",
     "output_type": "stream",
     "text": [
      "10\n"
     ]
    }
   ],
   "source": [
    "print(len(cost_titles))"
   ]
  },
  {
   "cell_type": "code",
   "execution_count": 419,
   "metadata": {},
   "outputs": [
    {
     "name": "stdout",
     "output_type": "stream",
     "text": [
      "10 10\n"
     ]
    }
   ],
   "source": [
    "print(len(title_titles),len(cost_titles))"
   ]
  },
  {
   "cell_type": "code",
   "execution_count": 420,
   "metadata": {},
   "outputs": [],
   "source": [
    "jobs=pd.DataFrame({})\n",
    "jobs['title_titles']=title_titles\n",
    "jobs['cost_titles']=cost_titles"
   ]
  },
  {
   "cell_type": "code",
   "execution_count": 421,
   "metadata": {},
   "outputs": [
    {
     "data": {
      "text/html": [
       "<div>\n",
       "<style scoped>\n",
       "    .dataframe tbody tr th:only-of-type {\n",
       "        vertical-align: middle;\n",
       "    }\n",
       "\n",
       "    .dataframe tbody tr th {\n",
       "        vertical-align: top;\n",
       "    }\n",
       "\n",
       "    .dataframe thead th {\n",
       "        text-align: right;\n",
       "    }\n",
       "</style>\n",
       "<table border=\"1\" class=\"dataframe\">\n",
       "  <thead>\n",
       "    <tr style=\"text-align: right;\">\n",
       "      <th></th>\n",
       "      <th>title_titles</th>\n",
       "      <th>cost_titles</th>\n",
       "    </tr>\n",
       "  </thead>\n",
       "  <tbody>\n",
       "    <tr>\n",
       "      <th>0</th>\n",
       "      <td>Mi Notebook Horizon Edition 14 Intel Core i7-1...</td>\n",
       "      <td>59,999</td>\n",
       "    </tr>\n",
       "    <tr>\n",
       "      <th>1</th>\n",
       "      <td>HP Envy 11th Gen Core i7 Processor 13.3-inch (...</td>\n",
       "      <td>99,990</td>\n",
       "    </tr>\n",
       "    <tr>\n",
       "      <th>2</th>\n",
       "      <td>HP Pavilion (2021) Thin &amp; Light 11th Gen Core ...</td>\n",
       "      <td>84,990</td>\n",
       "    </tr>\n",
       "    <tr>\n",
       "      <th>3</th>\n",
       "      <td>Life Digital Laptop 15.6-inch (39.62 cms) (Int...</td>\n",
       "      <td>29,990</td>\n",
       "    </tr>\n",
       "    <tr>\n",
       "      <th>4</th>\n",
       "      <td>Mi Notebook Horizon Edition 14 Intel Core i7-1...</td>\n",
       "      <td>59,999</td>\n",
       "    </tr>\n",
       "    <tr>\n",
       "      <th>5</th>\n",
       "      <td>Life Digital Laptop 15.6-inch (39.62 cms) (Int...</td>\n",
       "      <td>34,990</td>\n",
       "    </tr>\n",
       "    <tr>\n",
       "      <th>6</th>\n",
       "      <td>Dell 14 (2021) i7-1165G7 2in1 Touch Screen Lap...</td>\n",
       "      <td>94,400</td>\n",
       "    </tr>\n",
       "    <tr>\n",
       "      <th>7</th>\n",
       "      <td>OMEN 17 Gaming Laptop, NVIDIA GeForce RTX 2070...</td>\n",
       "      <td>71,990</td>\n",
       "    </tr>\n",
       "    <tr>\n",
       "      <th>8</th>\n",
       "      <td>ASUS TUF Gaming F15 (2020), 15.6-inch (39.62 c...</td>\n",
       "      <td>74,990</td>\n",
       "    </tr>\n",
       "    <tr>\n",
       "      <th>9</th>\n",
       "      <td>MSI GF75 Thin, Intel i7-10750H, 17.3\" (43.9 cm...</td>\n",
       "      <td>85,390</td>\n",
       "    </tr>\n",
       "  </tbody>\n",
       "</table>\n",
       "</div>"
      ],
      "text/plain": [
       "                                        title_titles cost_titles\n",
       "0  Mi Notebook Horizon Edition 14 Intel Core i7-1...      59,999\n",
       "1  HP Envy 11th Gen Core i7 Processor 13.3-inch (...      99,990\n",
       "2  HP Pavilion (2021) Thin & Light 11th Gen Core ...      84,990\n",
       "3  Life Digital Laptop 15.6-inch (39.62 cms) (Int...      29,990\n",
       "4  Mi Notebook Horizon Edition 14 Intel Core i7-1...      59,999\n",
       "5  Life Digital Laptop 15.6-inch (39.62 cms) (Int...      34,990\n",
       "6  Dell 14 (2021) i7-1165G7 2in1 Touch Screen Lap...      94,400\n",
       "7  OMEN 17 Gaming Laptop, NVIDIA GeForce RTX 2070...      71,990\n",
       "8  ASUS TUF Gaming F15 (2020), 15.6-inch (39.62 c...      74,990\n",
       "9  MSI GF75 Thin, Intel i7-10750H, 17.3\" (43.9 cm...      85,390"
      ]
     },
     "execution_count": 421,
     "metadata": {},
     "output_type": "execute_result"
    }
   ],
   "source": [
    "jobs"
   ]
  },
  {
   "cell_type": "markdown",
   "metadata": {},
   "source": [
    "Create the dataframe of 10 Laptops"
   ]
  }
 ],
 "metadata": {
  "kernelspec": {
   "display_name": "Python 3",
   "language": "python",
   "name": "python3"
  },
  "language_info": {
   "codemirror_mode": {
    "name": "ipython",
    "version": 3
   },
   "file_extension": ".py",
   "mimetype": "text/x-python",
   "name": "python",
   "nbconvert_exporter": "python",
   "pygments_lexer": "ipython3",
   "version": "3.8.5"
  }
 },
 "nbformat": 4,
 "nbformat_minor": 4
}
