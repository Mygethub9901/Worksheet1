{
 "cells": [
  {
   "cell_type": "code",
   "execution_count": 1,
   "metadata": {},
   "outputs": [
    {
     "name": "stdout",
     "output_type": "stream",
     "text": [
      "Requirement already satisfied: bs4 in c:\\users\\ankita\\anaconda3\\lib\\site-packages (0.0.1)\n",
      "Requirement already satisfied: beautifulsoup4 in c:\\users\\ankita\\anaconda3\\lib\\site-packages (from bs4) (4.9.3)\n",
      "Requirement already satisfied: soupsieve>1.2; python_version >= \"3.0\" in c:\\users\\ankita\\anaconda3\\lib\\site-packages (from beautifulsoup4->bs4) (2.0.1)\n",
      "Requirement already satisfied: requests in c:\\users\\ankita\\anaconda3\\lib\\site-packages (2.24.0)\n",
      "Requirement already satisfied: idna<3,>=2.5 in c:\\users\\ankita\\anaconda3\\lib\\site-packages (from requests) (2.10)\n",
      "Requirement already satisfied: urllib3!=1.25.0,!=1.25.1,<1.26,>=1.21.1 in c:\\users\\ankita\\anaconda3\\lib\\site-packages (from requests) (1.25.11)\n",
      "Requirement already satisfied: certifi>=2017.4.17 in c:\\users\\ankita\\anaconda3\\lib\\site-packages (from requests) (2020.6.20)\n",
      "Requirement already satisfied: chardet<4,>=3.0.2 in c:\\users\\ankita\\anaconda3\\lib\\site-packages (from requests) (3.0.4)\n"
     ]
    }
   ],
   "source": [
    "!pip install bs4\n",
    "!pip install requests"
   ]
  },
  {
   "cell_type": "code",
   "execution_count": 2,
   "metadata": {},
   "outputs": [],
   "source": [
    "import pandas as pd\n",
    "from bs4 import BeautifulSoup\n",
    "import requests"
   ]
  },
  {
   "cell_type": "markdown",
   "metadata": {},
   "source": [
    "1.Write a python program to display all the header tags from‘en.wikipedia.org/wiki/Main_Page’."
   ]
  },
  {
   "cell_type": "code",
   "execution_count": 3,
   "metadata": {},
   "outputs": [
    {
     "data": {
      "text/plain": [
       "<Response [200]>"
      ]
     },
     "execution_count": 3,
     "metadata": {},
     "output_type": "execute_result"
    }
   ],
   "source": [
    "page = requests.get(\"https://en.wikipedia.org/wiki/Main_Page\")\n",
    "page"
   ]
  },
  {
   "cell_type": "code",
   "execution_count": 4,
   "metadata": {},
   "outputs": [],
   "source": [
    "soup=BeautifulSoup(page.content)"
   ]
  },
  {
   "cell_type": "code",
   "execution_count": 5,
   "metadata": {},
   "outputs": [],
   "source": [
    "Headers_tag=[]\n",
    "header = soup.find_all([\"h1\",\"h2\",\"h3\",\"h4\",\"h5\",\"h6\"])\n",
    "for i in header:\n",
    "    Headers_tag.append(i.text.replace(\"\\n\",\"\"))\n",
    "    Headers_tag"
   ]
  },
  {
   "cell_type": "code",
   "execution_count": 6,
   "metadata": {},
   "outputs": [
    {
     "data": {
      "text/plain": [
       "['Main Page',\n",
       " \"From today's featured article\",\n",
       " 'Did you know\\xa0...',\n",
       " 'In the news',\n",
       " 'On this day',\n",
       " \"Today's featured picture\",\n",
       " 'Other areas of Wikipedia',\n",
       " \"Wikipedia's sister projects\",\n",
       " 'Wikipedia languages',\n",
       " 'Navigation menu',\n",
       " 'Personal tools',\n",
       " 'Namespaces',\n",
       " 'Variants',\n",
       " 'Views',\n",
       " 'More',\n",
       " 'Search',\n",
       " 'Navigation',\n",
       " 'Contribute',\n",
       " 'Tools',\n",
       " 'Print/export',\n",
       " 'In other projects',\n",
       " 'Languages']"
      ]
     },
     "execution_count": 6,
     "metadata": {},
     "output_type": "execute_result"
    }
   ],
   "source": [
    " Headers_tag"
   ]
  },
  {
   "cell_type": "markdown",
   "metadata": {},
   "source": [
    "2. Write a python program to display IMDB’s Top rated 100 movies’ data (i.e. Name, IMDB rating, Year of \n",
    "release)."
   ]
  },
  {
   "cell_type": "code",
   "execution_count": 7,
   "metadata": {},
   "outputs": [
    {
     "data": {
      "text/plain": [
       "<Response [200]>"
      ]
     },
     "execution_count": 7,
     "metadata": {},
     "output_type": "execute_result"
    }
   ],
   "source": [
    "url = \"https://www.imdb.com/search/title/?groups=top_100&sort=user_rating,desc\"\n",
    "page = requests.get(url)\n",
    "soup=BeautifulSoup(page.content)\n",
    "page"
   ]
  },
  {
   "cell_type": "code",
   "execution_count": 8,
   "metadata": {},
   "outputs": [
    {
     "data": {
      "text/plain": [
       "['\\n\\n1.\\nThe Shawshank Redemption\\n(1994)\\n\\n\\nR\\n|\\n142 min\\n|\\n\\nDrama            \\n\\n\\n\\n\\n9.3\\n\\n\\n\\n\\nRate this\\n\\n\\n\\n\\n\\n\\n\\xa0\\n\\xa0\\n\\n1\\n2\\n3\\n4\\n5\\n6\\n7\\n8\\n9\\n10\\n\\n9.3/10\\nX\\n\\xa0\\n\\n\\n\\n80        \\n        Metascore\\n            \\n\\n\\nTwo imprisoned men bond over a number of years, finding solace and eventual redemption through acts of common decency.\\n\\n    Director:\\nFrank Darabont\\n| \\n    Stars:\\nTim Robbins, \\nMorgan Freeman, \\nBob Gunton, \\nWilliam Sadler\\n\\n\\nVotes:\\n2,427,138\\n| Gross:\\n$28.34M\\n\\n',\n",
       " \"\\n\\n2.\\nThe Godfather\\n(1972)\\n\\n\\n175 min\\n|\\n\\nCrime, Drama            \\n\\n\\n\\n\\n9.2\\n\\n\\n\\n\\nRate this\\n\\n\\n\\n\\n\\n\\n\\xa0\\n\\xa0\\n\\n1\\n2\\n3\\n4\\n5\\n6\\n7\\n8\\n9\\n10\\n\\n9.2/10\\nX\\n\\xa0\\n\\n\\n\\n100        \\n        Metascore\\n            \\n\\n\\nAn organized crime dynasty's aging patriarch transfers control of his clandestine empire to his reluctant son.\\n\\n    Director:\\nFrancis Ford Coppola\\n| \\n    Stars:\\nMarlon Brando, \\nAl Pacino, \\nJames Caan, \\nDiane Keaton\\n\\n\\nVotes:\\n1,680,046\\n| Gross:\\n$134.97M\\n\\n\",\n",
       " '\\n\\n3.\\nThe Dark Knight\\n(2008)\\n\\n\\nPG-13\\n|\\n152 min\\n|\\n\\nAction, Crime, Drama            \\n\\n\\n\\n\\n9.0\\n\\n\\n\\n\\nRate this\\n\\n\\n\\n\\n\\n\\n\\xa0\\n\\xa0\\n\\n1\\n2\\n3\\n4\\n5\\n6\\n7\\n8\\n9\\n10\\n\\n9/10\\nX\\n\\xa0\\n\\n\\n\\n84        \\n        Metascore\\n            \\n\\n\\nWhen the menace known as the Joker wreaks havoc and chaos on the people of Gotham, Batman must accept one of the greatest psychological and physical tests of his ability to fight injustice.\\n\\n    Director:\\nChristopher Nolan\\n| \\n    Stars:\\nChristian Bale, \\nHeath Ledger, \\nAaron Eckhart, \\nMichael Caine\\n\\n\\nVotes:\\n2,383,064\\n| Gross:\\n$534.86M\\n\\n',\n",
       " '\\n\\n4.\\nThe Godfather: Part II\\n(1974)\\n\\n\\n202 min\\n|\\n\\nCrime, Drama            \\n\\n\\n\\n\\n9.0\\n\\n\\n\\n\\nRate this\\n\\n\\n\\n\\n\\n\\n\\xa0\\n\\xa0\\n\\n1\\n2\\n3\\n4\\n5\\n6\\n7\\n8\\n9\\n10\\n\\n9/10\\nX\\n\\xa0\\n\\n\\n\\n90        \\n        Metascore\\n            \\n\\n\\nThe early life and career of Vito Corleone in 1920s New York City is portrayed, while his son, Michael, expands and tightens his grip on the family crime syndicate.\\n\\n    Director:\\nFrancis Ford Coppola\\n| \\n    Stars:\\nAl Pacino, \\nRobert De Niro, \\nRobert Duvall, \\nDiane Keaton\\n\\n\\nVotes:\\n1,166,015\\n| Gross:\\n$57.30M\\n\\n',\n",
       " '\\n\\n5.\\n12 Angry Men\\n(1957)\\n\\n\\n96 min\\n|\\n\\nCrime, Drama            \\n\\n\\n\\n\\n9.0\\n\\n\\n\\n\\nRate this\\n\\n\\n\\n\\n\\n\\n\\xa0\\n\\xa0\\n\\n1\\n2\\n3\\n4\\n5\\n6\\n7\\n8\\n9\\n10\\n\\n9/10\\nX\\n\\xa0\\n\\n\\n\\n96        \\n        Metascore\\n            \\n\\n\\nA jury holdout attempts to prevent a miscarriage of justice by forcing his colleagues to reconsider the evidence.\\n\\n    Director:\\nSidney Lumet\\n| \\n    Stars:\\nHenry Fonda, \\nLee J. Cobb, \\nMartin Balsam, \\nJohn Fiedler\\n\\n\\nVotes:\\n716,091\\n| Gross:\\n$4.36M\\n\\n',\n",
       " \"\\n\\n6.\\nThe Lord of the Rings: The Return of the King\\n(2003)\\n\\n\\nPG-13\\n|\\n201 min\\n|\\n\\nAction, Adventure, Drama            \\n\\n\\n\\n\\n8.9\\n\\n\\n\\n\\nRate this\\n\\n\\n\\n\\n\\n\\n\\xa0\\n\\xa0\\n\\n1\\n2\\n3\\n4\\n5\\n6\\n7\\n8\\n9\\n10\\n\\n8.9/10\\nX\\n\\xa0\\n\\n\\n\\n94        \\n        Metascore\\n            \\n\\n\\nGandalf and Aragorn lead the World of Men against Sauron's army to draw his gaze from Frodo and Sam as they approach Mount Doom with the One Ring.\\n\\n    Director:\\nPeter Jackson\\n| \\n    Stars:\\nElijah Wood, \\nViggo Mortensen, \\nIan McKellen, \\nOrlando Bloom\\n\\n\\nVotes:\\n1,688,728\\n| Gross:\\n$377.85M\\n\\n\",\n",
       " '\\n\\n7.\\nPulp Fiction\\n(1994)\\n\\n\\nR\\n|\\n154 min\\n|\\n\\nCrime, Drama            \\n\\n\\n\\n\\n8.9\\n\\n\\n\\n\\nRate this\\n\\n\\n\\n\\n\\n\\n\\xa0\\n\\xa0\\n\\n1\\n2\\n3\\n4\\n5\\n6\\n7\\n8\\n9\\n10\\n\\n8.9/10\\nX\\n\\xa0\\n\\n\\n\\n94        \\n        Metascore\\n            \\n\\n\\nThe lives of two mob hitmen, a boxer, a gangster and his wife, and a pair of diner bandits intertwine in four tales of violence and redemption.\\n\\n    Director:\\nQuentin Tarantino\\n| \\n    Stars:\\nJohn Travolta, \\nUma Thurman, \\nSamuel L. Jackson, \\nBruce Willis\\n\\n\\nVotes:\\n1,883,146\\n| Gross:\\n$107.93M\\n\\n',\n",
       " \"\\n\\n8.\\nSchindler's List\\n(1993)\\n\\n\\nR\\n|\\n195 min\\n|\\n\\nBiography, Drama, History            \\n\\n\\n\\n\\n8.9\\n\\n\\n\\n\\nRate this\\n\\n\\n\\n\\n\\n\\n\\xa0\\n\\xa0\\n\\n1\\n2\\n3\\n4\\n5\\n6\\n7\\n8\\n9\\n10\\n\\n8.9/10\\nX\\n\\xa0\\n\\n\\n\\n94        \\n        Metascore\\n            \\n\\n\\nIn German-occupied Poland during World War II, industrialist Oskar Schindler gradually becomes concerned for his Jewish workforce after witnessing their persecution by the Nazis.\\n\\n    Director:\\nSteven Spielberg\\n| \\n    Stars:\\nLiam Neeson, \\nRalph Fiennes, \\nBen Kingsley, \\nCaroline Goodall\\n\\n\\nVotes:\\n1,249,216\\n| Gross:\\n$96.90M\\n\\n\",\n",
       " '\\n\\n9.\\nInception\\n(2010)\\n\\n\\nPG-13\\n|\\n148 min\\n|\\n\\nAction, Adventure, Sci-Fi            \\n\\n\\n\\n\\n8.8\\n\\n\\n\\n\\nRate this\\n\\n\\n\\n\\n\\n\\n\\xa0\\n\\xa0\\n\\n1\\n2\\n3\\n4\\n5\\n6\\n7\\n8\\n9\\n10\\n\\n8.8/10\\nX\\n\\xa0\\n\\n\\n\\n74        \\n        Metascore\\n            \\n\\n\\nA thief who steals corporate secrets through the use of dream-sharing technology is given the inverse task of planting an idea into the mind of a C.E.O.\\n\\n    Director:\\nChristopher Nolan\\n| \\n    Stars:\\nLeonardo DiCaprio, \\nJoseph Gordon-Levitt, \\nElliot Page, \\nKen Watanabe\\n\\n\\nVotes:\\n2,138,896\\n| Gross:\\n$292.58M\\n\\n',\n",
       " '\\n\\n10.\\nFight Club\\n(1999)\\n\\n\\nR\\n|\\n139 min\\n|\\n\\nDrama            \\n\\n\\n\\n\\n8.8\\n\\n\\n\\n\\nRate this\\n\\n\\n\\n\\n\\n\\n\\xa0\\n\\xa0\\n\\n1\\n2\\n3\\n4\\n5\\n6\\n7\\n8\\n9\\n10\\n\\n8.8/10\\nX\\n\\xa0\\n\\n\\n\\n66        \\n        Metascore\\n            \\n\\n\\nAn insomniac office worker and a devil-may-care soap maker form an underground fight club that evolves into much more.\\n\\n    Director:\\nDavid Fincher\\n| \\n    Stars:\\nBrad Pitt, \\nEdward Norton, \\nMeat Loaf, \\nZach Grenier\\n\\n\\nVotes:\\n1,914,201\\n| Gross:\\n$37.03M\\n\\n',\n",
       " '\\n\\n11.\\nThe Lord of the Rings: The Fellowship of the Ring\\n(2001)\\n\\n\\nPG-13\\n|\\n178 min\\n|\\n\\nAction, Adventure, Drama            \\n\\n\\n\\n\\n8.8\\n\\n\\n\\n\\nRate this\\n\\n\\n\\n\\n\\n\\n\\xa0\\n\\xa0\\n\\n1\\n2\\n3\\n4\\n5\\n6\\n7\\n8\\n9\\n10\\n\\n8.8/10\\nX\\n\\xa0\\n\\n\\n\\n92        \\n        Metascore\\n            \\n\\n\\nA meek Hobbit from the Shire and eight companions set out on a journey to destroy the powerful One Ring and save Middle-earth from the Dark Lord Sauron.\\n\\n    Director:\\nPeter Jackson\\n| \\n    Stars:\\nElijah Wood, \\nIan McKellen, \\nOrlando Bloom, \\nSean Bean\\n\\n\\nVotes:\\n1,709,987\\n| Gross:\\n$315.54M\\n\\n',\n",
       " '\\n\\n12.\\nForrest Gump\\n(1994)\\n\\n\\nPG-13\\n|\\n142 min\\n|\\n\\nDrama, Romance            \\n\\n\\n\\n\\n8.8\\n\\n\\n\\n\\nRate this\\n\\n\\n\\n\\n\\n\\n\\xa0\\n\\xa0\\n\\n1\\n2\\n3\\n4\\n5\\n6\\n7\\n8\\n9\\n10\\n\\n8.8/10\\nX\\n\\xa0\\n\\n\\n\\n82        \\n        Metascore\\n            \\n\\n\\nThe presidencies of Kennedy and Johnson, the Vietnam War, the Watergate scandal and other historical events unfold from the perspective of an Alabama man with an IQ of 75, whose only desire is to be reunited with his childhood sweetheart.\\n\\n    Director:\\nRobert Zemeckis\\n| \\n    Stars:\\nTom Hanks, \\nRobin Wright, \\nGary Sinise, \\nSally Field\\n\\n\\nVotes:\\n1,875,611\\n| Gross:\\n$330.25M\\n\\n',\n",
       " '\\n\\n13.\\nIl buono, il brutto, il cattivo\\n(1966)\\n\\n\\n161 min\\n|\\n\\nWestern            \\n\\n\\n\\n\\n8.8\\n\\n\\n\\n\\nRate this\\n\\n\\n\\n\\n\\n\\n\\xa0\\n\\xa0\\n\\n1\\n2\\n3\\n4\\n5\\n6\\n7\\n8\\n9\\n10\\n\\n8.8/10\\nX\\n\\xa0\\n\\n\\n\\n90        \\n        Metascore\\n            \\n\\n\\nA bounty hunting scam joins two men in an uneasy alliance against a third in a race to find a fortune in gold buried in a remote cemetery.\\n\\n    Director:\\nSergio Leone\\n| \\n    Stars:\\nClint Eastwood, \\nEli Wallach, \\nLee Van Cleef, \\nAldo Giuffrè\\n\\n\\nVotes:\\n707,828\\n| Gross:\\n$6.10M\\n\\n',\n",
       " \"\\n\\n14.\\nThe Lord of the Rings: The Two Towers\\n(2002)\\n\\n\\nPG-13\\n|\\n179 min\\n|\\n\\nAction, Adventure, Drama            \\n\\n\\n\\n\\n8.7\\n\\n\\n\\n\\nRate this\\n\\n\\n\\n\\n\\n\\n\\xa0\\n\\xa0\\n\\n1\\n2\\n3\\n4\\n5\\n6\\n7\\n8\\n9\\n10\\n\\n8.7/10\\nX\\n\\xa0\\n\\n\\n\\n87        \\n        Metascore\\n            \\n\\n\\nWhile Frodo and Sam edge closer to Mordor with the help of the shifty Gollum, the divided fellowship makes a stand against Sauron's new ally, Saruman, and his hordes of Isengard.\\n\\n    Director:\\nPeter Jackson\\n| \\n    Stars:\\nElijah Wood, \\nIan McKellen, \\nViggo Mortensen, \\nOrlando Bloom\\n\\n\\nVotes:\\n1,526,948\\n| Gross:\\n$342.55M\\n\\n\",\n",
       " '\\n\\n15.\\nThe Matrix\\n(1999)\\n\\n\\nR\\n|\\n136 min\\n|\\n\\nAction, Sci-Fi            \\n\\n\\n\\n\\n8.7\\n\\n\\n\\n\\nRate this\\n\\n\\n\\n\\n\\n\\n\\xa0\\n\\xa0\\n\\n1\\n2\\n3\\n4\\n5\\n6\\n7\\n8\\n9\\n10\\n\\n8.7/10\\nX\\n\\xa0\\n\\n\\n\\n73        \\n        Metascore\\n            \\n\\n\\nWhen a beautiful stranger leads computer hacker Neo to a forbidding underworld, he discovers the shocking truth--the life he knows is the elaborate deception of an evil cyber-intelligence.\\n\\n    Directors:\\nLana Wachowski, \\nLilly Wachowski\\n| \\n    Stars:\\nKeanu Reeves, \\nLaurence Fishburne, \\nCarrie-Anne Moss, \\nHugo Weaving\\n\\n\\nVotes:\\n1,728,778\\n| Gross:\\n$171.48M\\n\\n',\n",
       " '\\n\\n16.\\nGoodfellas\\n(1990)\\n\\n\\n146 min\\n|\\n\\nBiography, Crime, Drama            \\n\\n\\n\\n\\n8.7\\n\\n\\n\\n\\nRate this\\n\\n\\n\\n\\n\\n\\n\\xa0\\n\\xa0\\n\\n1\\n2\\n3\\n4\\n5\\n6\\n7\\n8\\n9\\n10\\n\\n8.7/10\\nX\\n\\xa0\\n\\n\\n\\n90        \\n        Metascore\\n            \\n\\n\\nThe story of Henry Hill and his life in the mob, covering his relationship with his wife Karen Hill and his mob partners Jimmy Conway and Tommy DeVito in the Italian-American crime syndicate.\\n\\n    Director:\\nMartin Scorsese\\n| \\n    Stars:\\nRobert De Niro, \\nRay Liotta, \\nJoe Pesci, \\nLorraine Bracco\\n\\n\\nVotes:\\n1,054,281\\n| Gross:\\n$46.84M\\n\\n',\n",
       " '\\n\\n17.\\nStar Wars: Episode V - The Empire Strikes Back\\n(1980)\\n\\n\\nPG\\n|\\n124 min\\n|\\n\\nAction, Adventure, Fantasy            \\n\\n\\n\\n\\n8.7\\n\\n\\n\\n\\nRate this\\n\\n\\n\\n\\n\\n\\n\\xa0\\n\\xa0\\n\\n1\\n2\\n3\\n4\\n5\\n6\\n7\\n8\\n9\\n10\\n\\n8.7/10\\nX\\n\\xa0\\n\\n\\n\\n82        \\n        Metascore\\n            \\n\\n\\nAfter the Rebels are brutally overpowered by the Empire on the ice planet Hoth, Luke Skywalker begins Jedi training with Yoda, while his friends are pursued across the galaxy by Darth Vader and bounty hunter Boba Fett.\\n\\n    Director:\\nIrvin Kershner\\n| \\n    Stars:\\nMark Hamill, \\nHarrison Ford, \\nCarrie Fisher, \\nBilly Dee Williams\\n\\n\\nVotes:\\n1,190,410\\n| Gross:\\n$290.48M\\n\\n',\n",
       " \"\\n\\n18.\\nOne Flew Over the Cuckoo's Nest\\n(1975)\\n\\n\\n133 min\\n|\\n\\nDrama            \\n\\n\\n\\n\\n8.7\\n\\n\\n\\n\\nRate this\\n\\n\\n\\n\\n\\n\\n\\xa0\\n\\xa0\\n\\n1\\n2\\n3\\n4\\n5\\n6\\n7\\n8\\n9\\n10\\n\\n8.7/10\\nX\\n\\xa0\\n\\n\\n\\n84        \\n        Metascore\\n            \\n\\n\\nA criminal pleads insanity and is admitted to a mental institution, where he rebels against the oppressive nurse and rallies up the scared patients.\\n\\n    Director:\\nMilos Forman\\n| \\n    Stars:\\nJack Nicholson, \\nLouise Fletcher, \\nMichael Berryman, \\nPeter Brocco\\n\\n\\nVotes:\\n942,651\\n| Gross:\\n$112.00M\\n\\n\",\n",
       " '\\n\\n19.\\nGisaengchung\\n(2019)\\n\\n\\nR\\n|\\n132 min\\n|\\n\\nComedy, Drama, Thriller            \\n\\n\\n\\n\\n8.6\\n\\n\\n\\n\\nRate this\\n\\n\\n\\n\\n\\n\\n\\xa0\\n\\xa0\\n\\n1\\n2\\n3\\n4\\n5\\n6\\n7\\n8\\n9\\n10\\n\\n8.6/10\\nX\\n\\xa0\\n\\n\\n\\n96        \\n        Metascore\\n            \\n\\n\\nGreed and class discrimination threaten the newly formed symbiotic relationship between the wealthy Park family and the destitute Kim clan.\\n\\n    Director:\\nBong Joon Ho\\n| \\n    Stars:\\nKang-ho Song, \\nSun-kyun Lee, \\nYeo-jeong Cho, \\nWoo-sik Choi\\n\\n\\nVotes:\\n634,150\\n| Gross:\\n$53.37M\\n\\n',\n",
       " \"\\n\\n20.\\nInterstellar\\n(2014)\\n\\n\\nPG-13\\n|\\n169 min\\n|\\n\\nAdventure, Drama, Sci-Fi            \\n\\n\\n\\n\\n8.6\\n\\n\\n\\n\\nRate this\\n\\n\\n\\n\\n\\n\\n\\xa0\\n\\xa0\\n\\n1\\n2\\n3\\n4\\n5\\n6\\n7\\n8\\n9\\n10\\n\\n8.6/10\\nX\\n\\xa0\\n\\n\\n\\n74        \\n        Metascore\\n            \\n\\n\\nA team of explorers travel through a wormhole in space in an attempt to ensure humanity's survival.\\n\\n    Director:\\nChristopher Nolan\\n| \\n    Stars:\\nMatthew McConaughey, \\nAnne Hathaway, \\nJessica Chastain, \\nMackenzie Foy\\n\\n\\nVotes:\\n1,584,502\\n| Gross:\\n$188.02M\\n\\n\",\n",
       " \"\\n\\n21.\\nCidade de Deus\\n(2002)\\n\\n\\nR\\n|\\n130 min\\n|\\n\\nCrime, Drama            \\n\\n\\n\\n\\n8.6\\n\\n\\n\\n\\nRate this\\n\\n\\n\\n\\n\\n\\n\\xa0\\n\\xa0\\n\\n1\\n2\\n3\\n4\\n5\\n6\\n7\\n8\\n9\\n10\\n\\n8.6/10\\nX\\n\\xa0\\n\\n\\n\\n79        \\n        Metascore\\n            \\n\\n\\nIn the slums of Rio, two kids' paths diverge as one struggles to become a photographer and the other a kingpin.\\n\\n    Directors:\\nFernando Meirelles, \\nKátia Lund\\n| \\n    Stars:\\nAlexandre Rodrigues, \\nLeandro Firmino, \\nMatheus Nachtergaele, \\nPhellipe Haagensen\\n\\n\\nVotes:\\n714,649\\n| Gross:\\n$7.56M\\n\\n\",\n",
       " \"\\n\\n22.\\nSen to Chihiro no kamikakushi\\n(2001)\\n\\n\\nPG\\n|\\n125 min\\n|\\n\\nAnimation, Adventure, Family            \\n\\n\\n\\n\\n8.6\\n\\n\\n\\n\\nRate this\\n\\n\\n\\n\\n\\n\\n\\xa0\\n\\xa0\\n\\n1\\n2\\n3\\n4\\n5\\n6\\n7\\n8\\n9\\n10\\n\\n8.6/10\\nX\\n\\xa0\\n\\n\\n\\n96        \\n        Metascore\\n            \\n\\n\\nDuring her family's move to the suburbs, a sullen 10-year-old girl wanders into a world ruled by gods, witches, and spirits, and where humans are changed into beasts.\\n\\n    Director:\\nHayao Miyazaki\\n| \\n    Stars:\\nDaveigh Chase, \\nSuzanne Pleshette, \\nMiyu Irino, \\nRumi Hiiragi\\n\\n\\nVotes:\\n681,070\\n| Gross:\\n$10.06M\\n\\n\",\n",
       " '\\n\\n23.\\nSaving Private Ryan\\n(1998)\\n\\n\\nR\\n|\\n169 min\\n|\\n\\nDrama, War            \\n\\n\\n\\n\\n8.6\\n\\n\\n\\n\\nRate this\\n\\n\\n\\n\\n\\n\\n\\xa0\\n\\xa0\\n\\n1\\n2\\n3\\n4\\n5\\n6\\n7\\n8\\n9\\n10\\n\\n8.6/10\\nX\\n\\xa0\\n\\n\\n\\n91        \\n        Metascore\\n            \\n\\n\\nFollowing the Normandy Landings, a group of U.S. soldiers go behind enemy lines to retrieve a paratrooper whose brothers have been killed in action.\\n\\n    Director:\\nSteven Spielberg\\n| \\n    Stars:\\nTom Hanks, \\nMatt Damon, \\nTom Sizemore, \\nEdward Burns\\n\\n\\nVotes:\\n1,275,897\\n| Gross:\\n$216.54M\\n\\n',\n",
       " '\\n\\n24.\\nThe Green Mile\\n(1999)\\n\\n\\nR\\n|\\n189 min\\n|\\n\\nCrime, Drama, Fantasy            \\n\\n\\n\\n\\n8.6\\n\\n\\n\\n\\nRate this\\n\\n\\n\\n\\n\\n\\n\\xa0\\n\\xa0\\n\\n1\\n2\\n3\\n4\\n5\\n6\\n7\\n8\\n9\\n10\\n\\n8.6/10\\nX\\n\\xa0\\n\\n\\n\\n61        \\n        Metascore\\n            \\n\\n\\nThe lives of guards on Death Row are affected by one of their charges: a black man accused of child murder and rape, yet who has a mysterious gift.\\n\\n    Director:\\nFrank Darabont\\n| \\n    Stars:\\nTom Hanks, \\nMichael Clarke Duncan, \\nDavid Morse, \\nBonnie Hunt\\n\\n\\nVotes:\\n1,187,201\\n| Gross:\\n$136.80M\\n\\n',\n",
       " '\\n\\n25.\\nLa vita è bella\\n(1997)\\n\\n\\nPG-13\\n|\\n116 min\\n|\\n\\nComedy, Drama, Romance            \\n\\n\\n\\n\\n8.6\\n\\n\\n\\n\\nRate this\\n\\n\\n\\n\\n\\n\\n\\xa0\\n\\xa0\\n\\n1\\n2\\n3\\n4\\n5\\n6\\n7\\n8\\n9\\n10\\n\\n8.6/10\\nX\\n\\xa0\\n\\n\\n\\n59        \\n        Metascore\\n            \\n\\n\\nWhen an open-minded Jewish librarian and his son become victims of the Holocaust, he uses a perfect mixture of will, humor, and imagination to protect his son from the dangers around their camp.\\n\\n    Director:\\nRoberto Benigni\\n| \\n    Stars:\\nRoberto Benigni, \\nNicoletta Braschi, \\nGiorgio Cantarini, \\nGiustino Durano\\n\\n\\nVotes:\\n643,014\\n| Gross:\\n$57.60M\\n\\n',\n",
       " '\\n\\n26.\\nSe7en\\n(1995)\\n\\n\\nR\\n|\\n127 min\\n|\\n\\nCrime, Drama, Mystery            \\n\\n\\n\\n\\n8.6\\n\\n\\n\\n\\nRate this\\n\\n\\n\\n\\n\\n\\n\\xa0\\n\\xa0\\n\\n1\\n2\\n3\\n4\\n5\\n6\\n7\\n8\\n9\\n10\\n\\n8.6/10\\nX\\n\\xa0\\n\\n\\n\\n65        \\n        Metascore\\n            \\n\\n\\nTwo detectives, a rookie and a veteran, hunt a serial killer who uses the seven deadly sins as his motives.\\n\\n    Director:\\nDavid Fincher\\n| \\n    Stars:\\nMorgan Freeman, \\nBrad Pitt, \\nKevin Spacey, \\nAndrew Kevin Walker\\n\\n\\nVotes:\\n1,494,801\\n| Gross:\\n$100.13M\\n\\n',\n",
       " '\\n\\n27.\\nThe Silence of the Lambs\\n(1991)\\n\\n\\n118 min\\n|\\n\\nCrime, Drama, Thriller            \\n\\n\\n\\n\\n8.6\\n\\n\\n\\n\\nRate this\\n\\n\\n\\n\\n\\n\\n\\xa0\\n\\xa0\\n\\n1\\n2\\n3\\n4\\n5\\n6\\n7\\n8\\n9\\n10\\n\\n8.6/10\\nX\\n\\xa0\\n\\n\\n\\n85        \\n        Metascore\\n            \\n\\n\\nA young F.B.I. cadet must receive the help of an incarcerated and manipulative cannibal killer to help catch another serial killer, a madman who skins his victims.\\n\\n    Director:\\nJonathan Demme\\n| \\n    Stars:\\nJodie Foster, \\nAnthony Hopkins, \\nLawrence A. Bonney, \\nKasi Lemmons\\n\\n\\nVotes:\\n1,313,530\\n| Gross:\\n$130.74M\\n\\n',\n",
       " \"\\n\\n28.\\nStar Wars\\n(1977)\\n\\n\\nPG\\n|\\n121 min\\n|\\n\\nAction, Adventure, Fantasy            \\n\\n\\n\\n\\n8.6\\n\\n\\n\\n\\nRate this\\n\\n\\n\\n\\n\\n\\n\\xa0\\n\\xa0\\n\\n1\\n2\\n3\\n4\\n5\\n6\\n7\\n8\\n9\\n10\\n\\n8.6/10\\nX\\n\\xa0\\n\\n\\n\\n90        \\n        Metascore\\n            \\n\\n\\nLuke Skywalker joins forces with a Jedi Knight, a cocky pilot, a Wookiee and two droids to save the galaxy from the Empire's world-destroying battle station, while also attempting to rescue Princess Leia from the mysterious Darth Vader.\\n\\n    Director:\\nGeorge Lucas\\n| \\n    Stars:\\nMark Hamill, \\nHarrison Ford, \\nCarrie Fisher, \\nAlec Guinness\\n\\n\\nVotes:\\n1,262,536\\n| Gross:\\n$322.74M\\n\\n\",\n",
       " \"\\n\\n29.\\nSeppuku\\n(1962)\\n\\n\\n133 min\\n|\\n\\nAction, Drama, Mystery            \\n\\n\\n\\n\\n8.6\\n\\n\\n\\n\\nRate this\\n\\n\\n\\n\\n\\n\\n\\xa0\\n\\xa0\\n\\n1\\n2\\n3\\n4\\n5\\n6\\n7\\n8\\n9\\n10\\n\\n8.6/10\\nX\\n\\xa0\\n\\n\\n\\n85        \\n        Metascore\\n            \\n\\n\\nWhen a ronin requesting seppuku at a feudal lord's palace is told of the brutal suicide of another ronin who previously visited, he reveals how their pasts are intertwined - and in doing so challenges the clan's integrity.\\n\\n    Director:\\nMasaki Kobayashi\\n| \\n    Stars:\\nTatsuya Nakadai, \\nAkira Ishihama, \\nShima Iwashita, \\nTetsurô Tanba\\n\\n\\nVotes:\\n46,683\\n\\n\",\n",
       " '\\n\\n30.\\nShichinin no samurai\\n(1954)\\n\\n\\n207 min\\n|\\n\\nAction, Adventure, Drama            \\n\\n\\n\\n\\n8.6\\n\\n\\n\\n\\nRate this\\n\\n\\n\\n\\n\\n\\n\\xa0\\n\\xa0\\n\\n1\\n2\\n3\\n4\\n5\\n6\\n7\\n8\\n9\\n10\\n\\n8.6/10\\nX\\n\\xa0\\n\\n\\n\\n98        \\n        Metascore\\n            \\n\\n\\nA poor village under attack by bandits recruits seven unemployed samurai to help them defend themselves.\\n\\n    Director:\\nAkira Kurosawa\\n| \\n    Stars:\\nToshirô Mifune, \\nTakashi Shimura, \\nKeiko Tsushima, \\nYukiko Shimazaki\\n\\n\\nVotes:\\n324,412\\n| Gross:\\n$0.27M\\n\\n',\n",
       " \"\\n\\n31.\\nIt's a Wonderful Life\\n(1946)\\n\\n\\nPG\\n|\\n130 min\\n|\\n\\nDrama, Family, Fantasy            \\n\\n\\n\\n\\n8.6\\n\\n\\n\\n\\nRate this\\n\\n\\n\\n\\n\\n\\n\\xa0\\n\\xa0\\n\\n1\\n2\\n3\\n4\\n5\\n6\\n7\\n8\\n9\\n10\\n\\n8.6/10\\nX\\n\\xa0\\n\\n\\n\\n89        \\n        Metascore\\n            \\n\\n\\nAn angel is sent from Heaven to help a desperately frustrated businessman by showing him what life would have been like if he had never existed.\\n\\n    Director:\\nFrank Capra\\n| \\n    Stars:\\nJames Stewart, \\nDonna Reed, \\nLionel Barrymore, \\nThomas Mitchell\\n\\n\\nVotes:\\n417,127\\n\\n\",\n",
       " \"\\n\\n32.\\nWhiplash\\n(2014)\\n\\n\\nR\\n|\\n106 min\\n|\\n\\nDrama, Music            \\n\\n\\n\\n\\n8.5\\n\\n\\n\\n\\nRate this\\n\\n\\n\\n\\n\\n\\n\\xa0\\n\\xa0\\n\\n1\\n2\\n3\\n4\\n5\\n6\\n7\\n8\\n9\\n10\\n\\n8.5/10\\nX\\n\\xa0\\n\\n\\n\\n88        \\n        Metascore\\n            \\n\\n\\nA promising young drummer enrolls at a cut-throat music conservatory where his dreams of greatness are mentored by an instructor who will stop at nothing to realize a student's potential.\\n\\n    Director:\\nDamien Chazelle\\n| \\n    Stars:\\nMiles Teller, \\nJ.K. Simmons, \\nMelissa Benoist, \\nPaul Reiser\\n\\n\\nVotes:\\n750,206\\n| Gross:\\n$13.09M\\n\\n\",\n",
       " '\\n\\n33.\\nThe Intouchables\\n(2011)\\n\\n\\nR\\n|\\n112 min\\n|\\n\\nBiography, Comedy, Drama            \\n\\n\\n\\n\\n8.5\\n\\n\\n\\n\\nRate this\\n\\n\\n\\n\\n\\n\\n\\xa0\\n\\xa0\\n\\n1\\n2\\n3\\n4\\n5\\n6\\n7\\n8\\n9\\n10\\n\\n8.5/10\\nX\\n\\xa0\\n\\n\\n\\n57        \\n        Metascore\\n            \\n\\n\\nAfter he becomes a quadriplegic from a paragliding accident, an aristocrat hires a young man from the projects to be his caregiver.\\n\\n    Directors:\\nOlivier Nakache, \\nÉric Toledano\\n| \\n    Stars:\\nFrançois Cluzet, \\nOmar Sy, \\nAnne Le Ny, \\nAudrey Fleurot\\n\\n\\nVotes:\\n786,372\\n| Gross:\\n$13.18M\\n\\n',\n",
       " '\\n\\n34.\\nThe Prestige\\n(2006)\\n\\n\\nPG-13\\n|\\n130 min\\n|\\n\\nDrama, Mystery, Sci-Fi            \\n\\n\\n\\n\\n8.5\\n\\n\\n\\n\\nRate this\\n\\n\\n\\n\\n\\n\\n\\xa0\\n\\xa0\\n\\n1\\n2\\n3\\n4\\n5\\n6\\n7\\n8\\n9\\n10\\n\\n8.5/10\\nX\\n\\xa0\\n\\n\\n\\n66        \\n        Metascore\\n            \\n\\n\\nAfter a tragic accident, two stage magicians engage in a battle to create the ultimate illusion while sacrificing everything they have to outwit each other.\\n\\n    Director:\\nChristopher Nolan\\n| \\n    Stars:\\nChristian Bale, \\nHugh Jackman, \\nScarlett Johansson, \\nMichael Caine\\n\\n\\nVotes:\\n1,228,643\\n| Gross:\\n$53.09M\\n\\n',\n",
       " '\\n\\n35.\\nThe Departed\\n(2006)\\n\\n\\nR\\n|\\n151 min\\n|\\n\\nCrime, Drama, Thriller            \\n\\n\\n\\n\\n8.5\\n\\n\\n\\n\\nRate this\\n\\n\\n\\n\\n\\n\\n\\xa0\\n\\xa0\\n\\n1\\n2\\n3\\n4\\n5\\n6\\n7\\n8\\n9\\n10\\n\\n8.5/10\\nX\\n\\xa0\\n\\n\\n\\n85        \\n        Metascore\\n            \\n\\n\\nAn undercover cop and a mole in the police attempt to identify each other while infiltrating an Irish gang in South Boston.\\n\\n    Director:\\nMartin Scorsese\\n| \\n    Stars:\\nLeonardo DiCaprio, \\nMatt Damon, \\nJack Nicholson, \\nMark Wahlberg\\n\\n\\nVotes:\\n1,225,356\\n| Gross:\\n$132.38M\\n\\n',\n",
       " '\\n\\n36.\\nThe Pianist\\n(2002)\\n\\n\\nR\\n|\\n150 min\\n|\\n\\nBiography, Drama, Music            \\n\\n\\n\\n\\n8.5\\n\\n\\n\\n\\nRate this\\n\\n\\n\\n\\n\\n\\n\\xa0\\n\\xa0\\n\\n1\\n2\\n3\\n4\\n5\\n6\\n7\\n8\\n9\\n10\\n\\n8.5/10\\nX\\n\\xa0\\n\\n\\n\\n85        \\n        Metascore\\n            \\n\\n\\nA Polish Jewish musician struggles to survive the destruction of the Warsaw ghetto of World War II.\\n\\n    Director:\\nRoman Polanski\\n| \\n    Stars:\\nAdrien Brody, \\nThomas Kretschmann, \\nFrank Finlay, \\nEmilia Fox\\n\\n\\nVotes:\\n758,960\\n| Gross:\\n$32.57M\\n\\n',\n",
       " '\\n\\n37.\\nGladiator\\n(2000)\\n\\n\\nR\\n|\\n155 min\\n|\\n\\nAction, Adventure, Drama            \\n\\n\\n\\n\\n8.5\\n\\n\\n\\n\\nRate this\\n\\n\\n\\n\\n\\n\\n\\xa0\\n\\xa0\\n\\n1\\n2\\n3\\n4\\n5\\n6\\n7\\n8\\n9\\n10\\n\\n8.5/10\\nX\\n\\xa0\\n\\n\\n\\n67        \\n        Metascore\\n            \\n\\n\\nA former Roman General sets out to exact vengeance against the corrupt emperor who murdered his family and sent him into slavery.\\n\\n    Director:\\nRidley Scott\\n| \\n    Stars:\\nRussell Crowe, \\nJoaquin Phoenix, \\nConnie Nielsen, \\nOliver Reed\\n\\n\\nVotes:\\n1,381,693\\n| Gross:\\n$187.71M\\n\\n',\n",
       " \"\\n\\n38.\\nAmerican History X\\n(1998)\\n\\n\\nR\\n|\\n119 min\\n|\\n\\nDrama            \\n\\n\\n\\n\\n8.5\\n\\n\\n\\n\\nRate this\\n\\n\\n\\n\\n\\n\\n\\xa0\\n\\xa0\\n\\n1\\n2\\n3\\n4\\n5\\n6\\n7\\n8\\n9\\n10\\n\\n8.5/10\\nX\\n\\xa0\\n\\n\\n\\n62        \\n        Metascore\\n            \\n\\n\\nA former neo-nazi skinhead tries to prevent his younger brother from going down the same wrong path that he did.\\n\\n    Director:\\nTony Kaye\\n| \\n    Stars:\\nEdward Norton, \\nEdward Furlong, \\nBeverly D'Angelo, \\nJennifer Lien\\n\\n\\nVotes:\\n1,056,945\\n| Gross:\\n$6.72M\\n\\n\",\n",
       " '\\n\\n39.\\nThe Usual Suspects\\n(1995)\\n\\n\\nR\\n|\\n106 min\\n|\\n\\nCrime, Mystery, Thriller            \\n\\n\\n\\n\\n8.5\\n\\n\\n\\n\\nRate this\\n\\n\\n\\n\\n\\n\\n\\xa0\\n\\xa0\\n\\n1\\n2\\n3\\n4\\n5\\n6\\n7\\n8\\n9\\n10\\n\\n8.5/10\\nX\\n\\xa0\\n\\n\\n\\n77        \\n        Metascore\\n            \\n\\n\\nA sole survivor tells of the twisty events leading up to a horrific gun battle on a boat, which began when five criminals met at a seemingly random police lineup.\\n\\n    Director:\\nBryan Singer\\n| \\n    Stars:\\nKevin Spacey, \\nGabriel Byrne, \\nChazz Palminteri, \\nStephen Baldwin\\n\\n\\nVotes:\\n1,017,061\\n| Gross:\\n$23.34M\\n\\n',\n",
       " \"\\n\\n40.\\nLéon\\n(1994)\\n\\n\\nR\\n|\\n110 min\\n|\\n\\nAction, Crime, Drama            \\n\\n\\n\\n\\n8.5\\n\\n\\n\\n\\nRate this\\n\\n\\n\\n\\n\\n\\n\\xa0\\n\\xa0\\n\\n1\\n2\\n3\\n4\\n5\\n6\\n7\\n8\\n9\\n10\\n\\n8.5/10\\nX\\n\\xa0\\n\\n\\n\\n64        \\n        Metascore\\n            \\n\\n\\nMathilda, a 12-year-old girl, is reluctantly taken in by Léon, a professional assassin, after her family is murdered. An unusual relationship forms as she becomes his protégée and learns the assassin's trade.\\n\\n    Director:\\nLuc Besson\\n| \\n    Stars:\\nJean Reno, \\nGary Oldman, \\nNatalie Portman, \\nDanny Aiello\\n\\n\\nVotes:\\n1,067,202\\n| Gross:\\n$19.50M\\n\\n\",\n",
       " '\\n\\n41.\\nThe Lion King\\n(1994)\\n\\n\\nG\\n|\\n88 min\\n|\\n\\nAnimation, Adventure, Drama            \\n\\n\\n\\n\\n8.5\\n\\n\\n\\n\\nRate this\\n\\n\\n\\n\\n\\n\\n\\xa0\\n\\xa0\\n\\n1\\n2\\n3\\n4\\n5\\n6\\n7\\n8\\n9\\n10\\n\\n8.5/10\\nX\\n\\xa0\\n\\n\\n\\n88        \\n        Metascore\\n            \\n\\n\\nLion prince Simba and his father are targeted by his bitter uncle, who wants to ascend the throne himself.\\n\\n    Directors:\\nRoger Allers, \\nRob Minkoff\\n| \\n    Stars:\\nMatthew Broderick, \\nJeremy Irons, \\nJames Earl Jones, \\nWhoopi Goldberg\\n\\n\\nVotes:\\n971,235\\n| Gross:\\n$422.78M\\n\\n',\n",
       " '\\n\\n42.\\nTerminator 2: Judgment Day\\n(1991)\\n\\n\\nR\\n|\\n137 min\\n|\\n\\nAction, Sci-Fi            \\n\\n\\n\\n\\n8.5\\n\\n\\n\\n\\nRate this\\n\\n\\n\\n\\n\\n\\n\\xa0\\n\\xa0\\n\\n1\\n2\\n3\\n4\\n5\\n6\\n7\\n8\\n9\\n10\\n\\n8.5/10\\nX\\n\\xa0\\n\\n\\n\\n75        \\n        Metascore\\n            \\n\\n\\nA cyborg, identical to the one who failed to kill Sarah Connor, must now protect her ten year old son, John Connor, from a more advanced and powerful cyborg.\\n\\n    Director:\\nJames Cameron\\n| \\n    Stars:\\nArnold Schwarzenegger, \\nLinda Hamilton, \\nEdward Furlong, \\nRobert Patrick\\n\\n\\nVotes:\\n1,022,015\\n| Gross:\\n$204.84M\\n\\n',\n",
       " \"\\n\\n43.\\nNuovo Cinema Paradiso\\n(1988)\\n\\n\\nR\\n|\\n155 min\\n|\\n\\nDrama, Romance            \\n\\n\\n\\n\\n8.5\\n\\n\\n\\n\\nRate this\\n\\n\\n\\n\\n\\n\\n\\xa0\\n\\xa0\\n\\n1\\n2\\n3\\n4\\n5\\n6\\n7\\n8\\n9\\n10\\n\\n8.5/10\\nX\\n\\xa0\\n\\n\\n\\n80        \\n        Metascore\\n            \\n\\n\\nA filmmaker recalls his childhood when falling in love with the pictures at the cinema of his home village and forms a deep friendship with the cinema's projectionist.\\n\\n    Director:\\nGiuseppe Tornatore\\n| \\n    Stars:\\nPhilippe Noiret, \\nEnzo Cannavale, \\nAntonella Attili, \\nIsa Danieli\\n\\n\\nVotes:\\n240,980\\n| Gross:\\n$11.99M\\n\\n\",\n",
       " '\\n\\n44.\\nHotaru no haka\\n(1988)\\n\\n\\n89 min\\n|\\n\\nAnimation, Drama, War            \\n\\n\\n\\n\\n8.5\\n\\n\\n\\n\\nRate this\\n\\n\\n\\n\\n\\n\\n\\xa0\\n\\xa0\\n\\n1\\n2\\n3\\n4\\n5\\n6\\n7\\n8\\n9\\n10\\n\\n8.5/10\\nX\\n\\xa0\\n\\n\\n\\n94        \\n        Metascore\\n            \\n\\n\\nA young boy and his little sister struggle to survive in Japan during World War II.\\n\\n    Director:\\nIsao Takahata\\n| \\n    Stars:\\nTsutomu Tatsumi, \\nAyano Shiraishi, \\nAkemi Yamaguchi, \\nYoshiko Shinohara\\n\\n\\nVotes:\\n247,192\\n\\n',\n",
       " '\\n\\n45.\\nBack to the Future\\n(1985)\\n\\n\\n116 min\\n|\\n\\nAdventure, Comedy, Sci-Fi            \\n\\n\\n\\n\\n8.5\\n\\n\\n\\n\\nRate this\\n\\n\\n\\n\\n\\n\\n\\xa0\\n\\xa0\\n\\n1\\n2\\n3\\n4\\n5\\n6\\n7\\n8\\n9\\n10\\n\\n8.5/10\\nX\\n\\xa0\\n\\n\\n\\n87        \\n        Metascore\\n            \\n\\n\\nMarty McFly, a 17-year-old high school student, is accidentally sent thirty years into the past in a time-traveling DeLorean invented by his close friend, the eccentric scientist Doc Brown.\\n\\n    Director:\\nRobert Zemeckis\\n| \\n    Stars:\\nMichael J. Fox, \\nChristopher Lloyd, \\nLea Thompson, \\nCrispin Glover\\n\\n\\nVotes:\\n1,096,384\\n| Gross:\\n$210.61M\\n\\n',\n",
       " '\\n\\n46.\\nOnce Upon a Time in the West\\n(1968)\\n\\n\\nPG-13\\n|\\n165 min\\n|\\n\\nWestern            \\n\\n\\n\\n\\n8.5\\n\\n\\n\\n\\nRate this\\n\\n\\n\\n\\n\\n\\n\\xa0\\n\\xa0\\n\\n1\\n2\\n3\\n4\\n5\\n6\\n7\\n8\\n9\\n10\\n\\n8.5/10\\nX\\n\\xa0\\n\\n\\n\\n80        \\n        Metascore\\n            \\n\\n\\nA mysterious stranger with a harmonica joins forces with a notorious desperado to protect a beautiful widow from a ruthless assassin working for the railroad.\\n\\n    Director:\\nSergio Leone\\n| \\n    Stars:\\nHenry Fonda, \\nCharles Bronson, \\nClaudia Cardinale, \\nJason Robards\\n\\n\\nVotes:\\n310,309\\n| Gross:\\n$5.32M\\n\\n',\n",
       " \"\\n\\n47.\\nPsycho\\n(1960)\\n\\n\\nR\\n|\\n109 min\\n|\\n\\nHorror, Mystery, Thriller            \\n\\n\\n\\n\\n8.5\\n\\n\\n\\n\\nRate this\\n\\n\\n\\n\\n\\n\\n\\xa0\\n\\xa0\\n\\n1\\n2\\n3\\n4\\n5\\n6\\n7\\n8\\n9\\n10\\n\\n8.5/10\\nX\\n\\xa0\\n\\n\\n\\n97        \\n        Metascore\\n            \\n\\n\\nA Phoenix secretary embezzles $40,000 from her employer's client, goes on the run, and checks into a remote motel run by a young man under the domination of his mother.\\n\\n    Director:\\nAlfred Hitchcock\\n| \\n    Stars:\\nAnthony Perkins, \\nJanet Leigh, \\nVera Miles, \\nJohn Gavin\\n\\n\\nVotes:\\n622,095\\n| Gross:\\n$32.00M\\n\\n\",\n",
       " '\\n\\n48.\\nPather Panchali\\n(1955)\\n\\n\\n125 min\\n|\\n\\nDrama            \\n\\n\\n\\n\\n8.5\\n\\n\\n\\n\\nRate this\\n\\n\\n\\n\\n\\n\\n\\xa0\\n\\xa0\\n\\n1\\n2\\n3\\n4\\n5\\n6\\n7\\n8\\n9\\n10\\n\\n8.5/10\\nX\\n\\xa0\\n\\n\\n\\n\\nImpoverished priest Harihar Ray, dreaming of a better life for himself and his family, leaves his rural Bengal village in search of work.\\n\\n    Director:\\nSatyajit Ray\\n| \\n    Stars:\\nKanu Bannerjee, \\nKaruna Bannerjee, \\nSubir Banerjee, \\nChunibala Devi\\n\\n\\nVotes:\\n26,832\\n| Gross:\\n$0.54M\\n\\n',\n",
       " '\\n\\n49.\\nRear Window\\n(1954)\\n\\n\\nPG\\n|\\n112 min\\n|\\n\\nMystery, Thriller            \\n\\n\\n\\n\\n8.5\\n\\n\\n\\n\\nRate this\\n\\n\\n\\n\\n\\n\\n\\xa0\\n\\xa0\\n\\n1\\n2\\n3\\n4\\n5\\n6\\n7\\n8\\n9\\n10\\n\\n8.5/10\\nX\\n\\xa0\\n\\n\\n\\n100        \\n        Metascore\\n            \\n\\n\\nA wheelchair-bound photographer spies on his neighbors from his apartment window and becomes convinced one of them has committed murder.\\n\\n    Director:\\nAlfred Hitchcock\\n| \\n    Stars:\\nJames Stewart, \\nGrace Kelly, \\nWendell Corey, \\nThelma Ritter\\n\\n\\nVotes:\\n458,357\\n| Gross:\\n$36.76M\\n\\n',\n",
       " '\\n\\n50.\\nCasablanca\\n(1942)\\n\\n\\nPG\\n|\\n102 min\\n|\\n\\nDrama, Romance, War            \\n\\n\\n\\n\\n8.5\\n\\n\\n\\n\\nRate this\\n\\n\\n\\n\\n\\n\\n\\xa0\\n\\xa0\\n\\n1\\n2\\n3\\n4\\n5\\n6\\n7\\n8\\n9\\n10\\n\\n8.5/10\\nX\\n\\xa0\\n\\n\\n\\n100        \\n        Metascore\\n            \\n\\n\\nA cynical expatriate American cafe owner struggles to decide whether or not to help his former lover and her fugitive husband escape the Nazis in French Morocco.\\n\\n    Director:\\nMichael Curtiz\\n| \\n    Stars:\\nHumphrey Bogart, \\nIngrid Bergman, \\nPaul Henreid, \\nClaude Rains\\n\\n\\nVotes:\\n536,009\\n| Gross:\\n$1.02M\\n\\n']"
      ]
     },
     "execution_count": 8,
     "metadata": {},
     "output_type": "execute_result"
    }
   ],
   "source": [
    "movie_info = []\n",
    "\n",
    "detail = soup.find_all('div',class_=\"lister-item-content\")\n",
    "for i in detail:\n",
    "    movie_info.append(i.text)\n",
    "movie_info"
   ]
  },
  {
   "cell_type": "code",
   "execution_count": 9,
   "metadata": {},
   "outputs": [
    {
     "data": {
      "text/plain": [
       "['1.The Shawshank Redemption(1994)R|142 min|Drama            9.3Rate this123456789109.3/10X80                Metascore            Two imprisoned men bond over a number of years, finding solace and eventual redemption through acts of common decency.    Director:Frank Darabont|     Stars:Tim Robbins, Morgan Freeman, Bob Gunton, William SadlerVotes:2,427,138| Gross:$28.34M',\n",
       " \"2.The Godfather(1972)175 min|Crime, Drama            9.2Rate this123456789109.2/10X100                Metascore            An organized crime dynasty's aging patriarch transfers control of his clandestine empire to his reluctant son.    Director:Francis Ford Coppola|     Stars:Marlon Brando, Al Pacino, James Caan, Diane KeatonVotes:1,680,046| Gross:$134.97M\",\n",
       " '3.The Dark Knight(2008)PG-13|152 min|Action, Crime, Drama            9.0Rate this123456789109/10X84                Metascore            When the menace known as the Joker wreaks havoc and chaos on the people of Gotham, Batman must accept one of the greatest psychological and physical tests of his ability to fight injustice.    Director:Christopher Nolan|     Stars:Christian Bale, Heath Ledger, Aaron Eckhart, Michael CaineVotes:2,383,064| Gross:$534.86M',\n",
       " '4.The Godfather: Part II(1974)202 min|Crime, Drama            9.0Rate this123456789109/10X90                Metascore            The early life and career of Vito Corleone in 1920s New York City is portrayed, while his son, Michael, expands and tightens his grip on the family crime syndicate.    Director:Francis Ford Coppola|     Stars:Al Pacino, Robert De Niro, Robert Duvall, Diane KeatonVotes:1,166,015| Gross:$57.30M',\n",
       " '5.12 Angry Men(1957)96 min|Crime, Drama            9.0Rate this123456789109/10X96                Metascore            A jury holdout attempts to prevent a miscarriage of justice by forcing his colleagues to reconsider the evidence.    Director:Sidney Lumet|     Stars:Henry Fonda, Lee J. Cobb, Martin Balsam, John FiedlerVotes:716,091| Gross:$4.36M',\n",
       " \"6.The Lord of the Rings: The Return of the King(2003)PG-13|201 min|Action, Adventure, Drama            8.9Rate this123456789108.9/10X94                Metascore            Gandalf and Aragorn lead the World of Men against Sauron's army to draw his gaze from Frodo and Sam as they approach Mount Doom with the One Ring.    Director:Peter Jackson|     Stars:Elijah Wood, Viggo Mortensen, Ian McKellen, Orlando BloomVotes:1,688,728| Gross:$377.85M\",\n",
       " '7.Pulp Fiction(1994)R|154 min|Crime, Drama            8.9Rate this123456789108.9/10X94                Metascore            The lives of two mob hitmen, a boxer, a gangster and his wife, and a pair of diner bandits intertwine in four tales of violence and redemption.    Director:Quentin Tarantino|     Stars:John Travolta, Uma Thurman, Samuel L. Jackson, Bruce WillisVotes:1,883,146| Gross:$107.93M',\n",
       " \"8.Schindler's List(1993)R|195 min|Biography, Drama, History            8.9Rate this123456789108.9/10X94                Metascore            In German-occupied Poland during World War II, industrialist Oskar Schindler gradually becomes concerned for his Jewish workforce after witnessing their persecution by the Nazis.    Director:Steven Spielberg|     Stars:Liam Neeson, Ralph Fiennes, Ben Kingsley, Caroline GoodallVotes:1,249,216| Gross:$96.90M\",\n",
       " '9.Inception(2010)PG-13|148 min|Action, Adventure, Sci-Fi            8.8Rate this123456789108.8/10X74                Metascore            A thief who steals corporate secrets through the use of dream-sharing technology is given the inverse task of planting an idea into the mind of a C.E.O.    Director:Christopher Nolan|     Stars:Leonardo DiCaprio, Joseph Gordon-Levitt, Elliot Page, Ken WatanabeVotes:2,138,896| Gross:$292.58M',\n",
       " '10.Fight Club(1999)R|139 min|Drama            8.8Rate this123456789108.8/10X66                Metascore            An insomniac office worker and a devil-may-care soap maker form an underground fight club that evolves into much more.    Director:David Fincher|     Stars:Brad Pitt, Edward Norton, Meat Loaf, Zach GrenierVotes:1,914,201| Gross:$37.03M',\n",
       " '11.The Lord of the Rings: The Fellowship of the Ring(2001)PG-13|178 min|Action, Adventure, Drama            8.8Rate this123456789108.8/10X92                Metascore            A meek Hobbit from the Shire and eight companions set out on a journey to destroy the powerful One Ring and save Middle-earth from the Dark Lord Sauron.    Director:Peter Jackson|     Stars:Elijah Wood, Ian McKellen, Orlando Bloom, Sean BeanVotes:1,709,987| Gross:$315.54M',\n",
       " '12.Forrest Gump(1994)PG-13|142 min|Drama, Romance            8.8Rate this123456789108.8/10X82                Metascore            The presidencies of Kennedy and Johnson, the Vietnam War, the Watergate scandal and other historical events unfold from the perspective of an Alabama man with an IQ of 75, whose only desire is to be reunited with his childhood sweetheart.    Director:Robert Zemeckis|     Stars:Tom Hanks, Robin Wright, Gary Sinise, Sally FieldVotes:1,875,611| Gross:$330.25M',\n",
       " '13.Il buono, il brutto, il cattivo(1966)161 min|Western            8.8Rate this123456789108.8/10X90                Metascore            A bounty hunting scam joins two men in an uneasy alliance against a third in a race to find a fortune in gold buried in a remote cemetery.    Director:Sergio Leone|     Stars:Clint Eastwood, Eli Wallach, Lee Van Cleef, Aldo GiuffrèVotes:707,828| Gross:$6.10M',\n",
       " \"14.The Lord of the Rings: The Two Towers(2002)PG-13|179 min|Action, Adventure, Drama            8.7Rate this123456789108.7/10X87                Metascore            While Frodo and Sam edge closer to Mordor with the help of the shifty Gollum, the divided fellowship makes a stand against Sauron's new ally, Saruman, and his hordes of Isengard.    Director:Peter Jackson|     Stars:Elijah Wood, Ian McKellen, Viggo Mortensen, Orlando BloomVotes:1,526,948| Gross:$342.55M\",\n",
       " '15.The Matrix(1999)R|136 min|Action, Sci-Fi            8.7Rate this123456789108.7/10X73                Metascore            When a beautiful stranger leads computer hacker Neo to a forbidding underworld, he discovers the shocking truth--the life he knows is the elaborate deception of an evil cyber-intelligence.    Directors:Lana Wachowski, Lilly Wachowski|     Stars:Keanu Reeves, Laurence Fishburne, Carrie-Anne Moss, Hugo WeavingVotes:1,728,778| Gross:$171.48M',\n",
       " '16.Goodfellas(1990)146 min|Biography, Crime, Drama            8.7Rate this123456789108.7/10X90                Metascore            The story of Henry Hill and his life in the mob, covering his relationship with his wife Karen Hill and his mob partners Jimmy Conway and Tommy DeVito in the Italian-American crime syndicate.    Director:Martin Scorsese|     Stars:Robert De Niro, Ray Liotta, Joe Pesci, Lorraine BraccoVotes:1,054,281| Gross:$46.84M',\n",
       " '17.Star Wars: Episode V - The Empire Strikes Back(1980)PG|124 min|Action, Adventure, Fantasy            8.7Rate this123456789108.7/10X82                Metascore            After the Rebels are brutally overpowered by the Empire on the ice planet Hoth, Luke Skywalker begins Jedi training with Yoda, while his friends are pursued across the galaxy by Darth Vader and bounty hunter Boba Fett.    Director:Irvin Kershner|     Stars:Mark Hamill, Harrison Ford, Carrie Fisher, Billy Dee WilliamsVotes:1,190,410| Gross:$290.48M',\n",
       " \"18.One Flew Over the Cuckoo's Nest(1975)133 min|Drama            8.7Rate this123456789108.7/10X84                Metascore            A criminal pleads insanity and is admitted to a mental institution, where he rebels against the oppressive nurse and rallies up the scared patients.    Director:Milos Forman|     Stars:Jack Nicholson, Louise Fletcher, Michael Berryman, Peter BroccoVotes:942,651| Gross:$112.00M\",\n",
       " '19.Gisaengchung(2019)R|132 min|Comedy, Drama, Thriller            8.6Rate this123456789108.6/10X96                Metascore            Greed and class discrimination threaten the newly formed symbiotic relationship between the wealthy Park family and the destitute Kim clan.    Director:Bong Joon Ho|     Stars:Kang-ho Song, Sun-kyun Lee, Yeo-jeong Cho, Woo-sik ChoiVotes:634,150| Gross:$53.37M',\n",
       " \"20.Interstellar(2014)PG-13|169 min|Adventure, Drama, Sci-Fi            8.6Rate this123456789108.6/10X74                Metascore            A team of explorers travel through a wormhole in space in an attempt to ensure humanity's survival.    Director:Christopher Nolan|     Stars:Matthew McConaughey, Anne Hathaway, Jessica Chastain, Mackenzie FoyVotes:1,584,502| Gross:$188.02M\",\n",
       " \"21.Cidade de Deus(2002)R|130 min|Crime, Drama            8.6Rate this123456789108.6/10X79                Metascore            In the slums of Rio, two kids' paths diverge as one struggles to become a photographer and the other a kingpin.    Directors:Fernando Meirelles, Kátia Lund|     Stars:Alexandre Rodrigues, Leandro Firmino, Matheus Nachtergaele, Phellipe HaagensenVotes:714,649| Gross:$7.56M\",\n",
       " \"22.Sen to Chihiro no kamikakushi(2001)PG|125 min|Animation, Adventure, Family            8.6Rate this123456789108.6/10X96                Metascore            During her family's move to the suburbs, a sullen 10-year-old girl wanders into a world ruled by gods, witches, and spirits, and where humans are changed into beasts.    Director:Hayao Miyazaki|     Stars:Daveigh Chase, Suzanne Pleshette, Miyu Irino, Rumi HiiragiVotes:681,070| Gross:$10.06M\",\n",
       " '23.Saving Private Ryan(1998)R|169 min|Drama, War            8.6Rate this123456789108.6/10X91                Metascore            Following the Normandy Landings, a group of U.S. soldiers go behind enemy lines to retrieve a paratrooper whose brothers have been killed in action.    Director:Steven Spielberg|     Stars:Tom Hanks, Matt Damon, Tom Sizemore, Edward BurnsVotes:1,275,897| Gross:$216.54M',\n",
       " '24.The Green Mile(1999)R|189 min|Crime, Drama, Fantasy            8.6Rate this123456789108.6/10X61                Metascore            The lives of guards on Death Row are affected by one of their charges: a black man accused of child murder and rape, yet who has a mysterious gift.    Director:Frank Darabont|     Stars:Tom Hanks, Michael Clarke Duncan, David Morse, Bonnie HuntVotes:1,187,201| Gross:$136.80M',\n",
       " '25.La vita è bella(1997)PG-13|116 min|Comedy, Drama, Romance            8.6Rate this123456789108.6/10X59                Metascore            When an open-minded Jewish librarian and his son become victims of the Holocaust, he uses a perfect mixture of will, humor, and imagination to protect his son from the dangers around their camp.    Director:Roberto Benigni|     Stars:Roberto Benigni, Nicoletta Braschi, Giorgio Cantarini, Giustino DuranoVotes:643,014| Gross:$57.60M',\n",
       " '26.Se7en(1995)R|127 min|Crime, Drama, Mystery            8.6Rate this123456789108.6/10X65                Metascore            Two detectives, a rookie and a veteran, hunt a serial killer who uses the seven deadly sins as his motives.    Director:David Fincher|     Stars:Morgan Freeman, Brad Pitt, Kevin Spacey, Andrew Kevin WalkerVotes:1,494,801| Gross:$100.13M',\n",
       " '27.The Silence of the Lambs(1991)118 min|Crime, Drama, Thriller            8.6Rate this123456789108.6/10X85                Metascore            A young F.B.I. cadet must receive the help of an incarcerated and manipulative cannibal killer to help catch another serial killer, a madman who skins his victims.    Director:Jonathan Demme|     Stars:Jodie Foster, Anthony Hopkins, Lawrence A. Bonney, Kasi LemmonsVotes:1,313,530| Gross:$130.74M',\n",
       " \"28.Star Wars(1977)PG|121 min|Action, Adventure, Fantasy            8.6Rate this123456789108.6/10X90                Metascore            Luke Skywalker joins forces with a Jedi Knight, a cocky pilot, a Wookiee and two droids to save the galaxy from the Empire's world-destroying battle station, while also attempting to rescue Princess Leia from the mysterious Darth Vader.    Director:George Lucas|     Stars:Mark Hamill, Harrison Ford, Carrie Fisher, Alec GuinnessVotes:1,262,536| Gross:$322.74M\",\n",
       " \"29.Seppuku(1962)133 min|Action, Drama, Mystery            8.6Rate this123456789108.6/10X85                Metascore            When a ronin requesting seppuku at a feudal lord's palace is told of the brutal suicide of another ronin who previously visited, he reveals how their pasts are intertwined - and in doing so challenges the clan's integrity.    Director:Masaki Kobayashi|     Stars:Tatsuya Nakadai, Akira Ishihama, Shima Iwashita, Tetsurô TanbaVotes:46,683\",\n",
       " '30.Shichinin no samurai(1954)207 min|Action, Adventure, Drama            8.6Rate this123456789108.6/10X98                Metascore            A poor village under attack by bandits recruits seven unemployed samurai to help them defend themselves.    Director:Akira Kurosawa|     Stars:Toshirô Mifune, Takashi Shimura, Keiko Tsushima, Yukiko ShimazakiVotes:324,412| Gross:$0.27M',\n",
       " \"31.It's a Wonderful Life(1946)PG|130 min|Drama, Family, Fantasy            8.6Rate this123456789108.6/10X89                Metascore            An angel is sent from Heaven to help a desperately frustrated businessman by showing him what life would have been like if he had never existed.    Director:Frank Capra|     Stars:James Stewart, Donna Reed, Lionel Barrymore, Thomas MitchellVotes:417,127\",\n",
       " \"32.Whiplash(2014)R|106 min|Drama, Music            8.5Rate this123456789108.5/10X88                Metascore            A promising young drummer enrolls at a cut-throat music conservatory where his dreams of greatness are mentored by an instructor who will stop at nothing to realize a student's potential.    Director:Damien Chazelle|     Stars:Miles Teller, J.K. Simmons, Melissa Benoist, Paul ReiserVotes:750,206| Gross:$13.09M\",\n",
       " '33.The Intouchables(2011)R|112 min|Biography, Comedy, Drama            8.5Rate this123456789108.5/10X57                Metascore            After he becomes a quadriplegic from a paragliding accident, an aristocrat hires a young man from the projects to be his caregiver.    Directors:Olivier Nakache, Éric Toledano|     Stars:François Cluzet, Omar Sy, Anne Le Ny, Audrey FleurotVotes:786,372| Gross:$13.18M',\n",
       " '34.The Prestige(2006)PG-13|130 min|Drama, Mystery, Sci-Fi            8.5Rate this123456789108.5/10X66                Metascore            After a tragic accident, two stage magicians engage in a battle to create the ultimate illusion while sacrificing everything they have to outwit each other.    Director:Christopher Nolan|     Stars:Christian Bale, Hugh Jackman, Scarlett Johansson, Michael CaineVotes:1,228,643| Gross:$53.09M',\n",
       " '35.The Departed(2006)R|151 min|Crime, Drama, Thriller            8.5Rate this123456789108.5/10X85                Metascore            An undercover cop and a mole in the police attempt to identify each other while infiltrating an Irish gang in South Boston.    Director:Martin Scorsese|     Stars:Leonardo DiCaprio, Matt Damon, Jack Nicholson, Mark WahlbergVotes:1,225,356| Gross:$132.38M',\n",
       " '36.The Pianist(2002)R|150 min|Biography, Drama, Music            8.5Rate this123456789108.5/10X85                Metascore            A Polish Jewish musician struggles to survive the destruction of the Warsaw ghetto of World War II.    Director:Roman Polanski|     Stars:Adrien Brody, Thomas Kretschmann, Frank Finlay, Emilia FoxVotes:758,960| Gross:$32.57M',\n",
       " '37.Gladiator(2000)R|155 min|Action, Adventure, Drama            8.5Rate this123456789108.5/10X67                Metascore            A former Roman General sets out to exact vengeance against the corrupt emperor who murdered his family and sent him into slavery.    Director:Ridley Scott|     Stars:Russell Crowe, Joaquin Phoenix, Connie Nielsen, Oliver ReedVotes:1,381,693| Gross:$187.71M',\n",
       " \"38.American History X(1998)R|119 min|Drama            8.5Rate this123456789108.5/10X62                Metascore            A former neo-nazi skinhead tries to prevent his younger brother from going down the same wrong path that he did.    Director:Tony Kaye|     Stars:Edward Norton, Edward Furlong, Beverly D'Angelo, Jennifer LienVotes:1,056,945| Gross:$6.72M\",\n",
       " '39.The Usual Suspects(1995)R|106 min|Crime, Mystery, Thriller            8.5Rate this123456789108.5/10X77                Metascore            A sole survivor tells of the twisty events leading up to a horrific gun battle on a boat, which began when five criminals met at a seemingly random police lineup.    Director:Bryan Singer|     Stars:Kevin Spacey, Gabriel Byrne, Chazz Palminteri, Stephen BaldwinVotes:1,017,061| Gross:$23.34M',\n",
       " \"40.Léon(1994)R|110 min|Action, Crime, Drama            8.5Rate this123456789108.5/10X64                Metascore            Mathilda, a 12-year-old girl, is reluctantly taken in by Léon, a professional assassin, after her family is murdered. An unusual relationship forms as she becomes his protégée and learns the assassin's trade.    Director:Luc Besson|     Stars:Jean Reno, Gary Oldman, Natalie Portman, Danny AielloVotes:1,067,202| Gross:$19.50M\",\n",
       " '41.The Lion King(1994)G|88 min|Animation, Adventure, Drama            8.5Rate this123456789108.5/10X88                Metascore            Lion prince Simba and his father are targeted by his bitter uncle, who wants to ascend the throne himself.    Directors:Roger Allers, Rob Minkoff|     Stars:Matthew Broderick, Jeremy Irons, James Earl Jones, Whoopi GoldbergVotes:971,235| Gross:$422.78M',\n",
       " '42.Terminator 2: Judgment Day(1991)R|137 min|Action, Sci-Fi            8.5Rate this123456789108.5/10X75                Metascore            A cyborg, identical to the one who failed to kill Sarah Connor, must now protect her ten year old son, John Connor, from a more advanced and powerful cyborg.    Director:James Cameron|     Stars:Arnold Schwarzenegger, Linda Hamilton, Edward Furlong, Robert PatrickVotes:1,022,015| Gross:$204.84M',\n",
       " \"43.Nuovo Cinema Paradiso(1988)R|155 min|Drama, Romance            8.5Rate this123456789108.5/10X80                Metascore            A filmmaker recalls his childhood when falling in love with the pictures at the cinema of his home village and forms a deep friendship with the cinema's projectionist.    Director:Giuseppe Tornatore|     Stars:Philippe Noiret, Enzo Cannavale, Antonella Attili, Isa DanieliVotes:240,980| Gross:$11.99M\",\n",
       " '44.Hotaru no haka(1988)89 min|Animation, Drama, War            8.5Rate this123456789108.5/10X94                Metascore            A young boy and his little sister struggle to survive in Japan during World War II.    Director:Isao Takahata|     Stars:Tsutomu Tatsumi, Ayano Shiraishi, Akemi Yamaguchi, Yoshiko ShinoharaVotes:247,192',\n",
       " '45.Back to the Future(1985)116 min|Adventure, Comedy, Sci-Fi            8.5Rate this123456789108.5/10X87                Metascore            Marty McFly, a 17-year-old high school student, is accidentally sent thirty years into the past in a time-traveling DeLorean invented by his close friend, the eccentric scientist Doc Brown.    Director:Robert Zemeckis|     Stars:Michael J. Fox, Christopher Lloyd, Lea Thompson, Crispin GloverVotes:1,096,384| Gross:$210.61M',\n",
       " '46.Once Upon a Time in the West(1968)PG-13|165 min|Western            8.5Rate this123456789108.5/10X80                Metascore            A mysterious stranger with a harmonica joins forces with a notorious desperado to protect a beautiful widow from a ruthless assassin working for the railroad.    Director:Sergio Leone|     Stars:Henry Fonda, Charles Bronson, Claudia Cardinale, Jason RobardsVotes:310,309| Gross:$5.32M',\n",
       " \"47.Psycho(1960)R|109 min|Horror, Mystery, Thriller            8.5Rate this123456789108.5/10X97                Metascore            A Phoenix secretary embezzles $40,000 from her employer's client, goes on the run, and checks into a remote motel run by a young man under the domination of his mother.    Director:Alfred Hitchcock|     Stars:Anthony Perkins, Janet Leigh, Vera Miles, John GavinVotes:622,095| Gross:$32.00M\",\n",
       " '48.Pather Panchali(1955)125 min|Drama            8.5Rate this123456789108.5/10XImpoverished priest Harihar Ray, dreaming of a better life for himself and his family, leaves his rural Bengal village in search of work.    Director:Satyajit Ray|     Stars:Kanu Bannerjee, Karuna Bannerjee, Subir Banerjee, Chunibala DeviVotes:26,832| Gross:$0.54M',\n",
       " '49.Rear Window(1954)PG|112 min|Mystery, Thriller            8.5Rate this123456789108.5/10X100                Metascore            A wheelchair-bound photographer spies on his neighbors from his apartment window and becomes convinced one of them has committed murder.    Director:Alfred Hitchcock|     Stars:James Stewart, Grace Kelly, Wendell Corey, Thelma RitterVotes:458,357| Gross:$36.76M',\n",
       " '50.Casablanca(1942)PG|102 min|Drama, Romance, War            8.5Rate this123456789108.5/10X100                Metascore            A cynical expatriate American cafe owner struggles to decide whether or not to help his former lover and her fugitive husband escape the Nazis in French Morocco.    Director:Michael Curtiz|     Stars:Humphrey Bogart, Ingrid Bergman, Paul Henreid, Claude RainsVotes:536,009| Gross:$1.02M']"
      ]
     },
     "execution_count": 9,
     "metadata": {},
     "output_type": "execute_result"
    }
   ],
   "source": [
    "movie_info = []\n",
    "for i in detail:\n",
    "    movie_info.append(i.text.replace(\"\\n\",\"\").replace(\"\\xa0\",\"\"))\n",
    "movie_info"
   ]
  },
  {
   "cell_type": "code",
   "execution_count": 10,
   "metadata": {},
   "outputs": [
    {
     "data": {
      "text/plain": [
       "['(1994)',\n",
       " '(1972)',\n",
       " '(2008)',\n",
       " '(1974)',\n",
       " '(1957)',\n",
       " '(2003)',\n",
       " '(1994)',\n",
       " '(1993)',\n",
       " '(2010)',\n",
       " '(1999)',\n",
       " '(2001)',\n",
       " '(1994)',\n",
       " '(1966)',\n",
       " '(2002)',\n",
       " '(1999)',\n",
       " '(1990)',\n",
       " '(1980)',\n",
       " '(1975)',\n",
       " '(2019)',\n",
       " '(2014)',\n",
       " '(2002)',\n",
       " '(2001)',\n",
       " '(1998)',\n",
       " '(1999)',\n",
       " '(1997)',\n",
       " '(1995)',\n",
       " '(1991)',\n",
       " '(1977)',\n",
       " '(1962)',\n",
       " '(1954)',\n",
       " '(1946)',\n",
       " '(2014)',\n",
       " '(2011)',\n",
       " '(2006)',\n",
       " '(2006)',\n",
       " '(2002)',\n",
       " '(2000)',\n",
       " '(1998)',\n",
       " '(1995)',\n",
       " '(1994)',\n",
       " '(1994)',\n",
       " '(1991)',\n",
       " '(1988)',\n",
       " '(1988)',\n",
       " '(1985)',\n",
       " '(1968)',\n",
       " '(1960)',\n",
       " '(1955)',\n",
       " '(1954)',\n",
       " '(1942)']"
      ]
     },
     "execution_count": 10,
     "metadata": {},
     "output_type": "execute_result"
    }
   ],
   "source": [
    "year_info = []\n",
    "detail = soup.find_all('span',class_=\"lister-item-year text-muted unbold\")\n",
    "for i in detail:\n",
    "    year_info.append(i.text)\n",
    "year_info"
   ]
  },
  {
   "cell_type": "code",
   "execution_count": 12,
   "metadata": {},
   "outputs": [
    {
     "data": {
      "text/plain": [
       "['\\n\\n9.3\\n',\n",
       " '\\n\\n9.2\\n',\n",
       " '\\n\\n9.0\\n',\n",
       " '\\n\\n9.0\\n',\n",
       " '\\n\\n9.0\\n',\n",
       " '\\n\\n8.9\\n',\n",
       " '\\n\\n8.9\\n',\n",
       " '\\n\\n8.9\\n',\n",
       " '\\n\\n8.8\\n',\n",
       " '\\n\\n8.8\\n',\n",
       " '\\n\\n8.8\\n',\n",
       " '\\n\\n8.8\\n',\n",
       " '\\n\\n8.8\\n',\n",
       " '\\n\\n8.7\\n',\n",
       " '\\n\\n8.7\\n',\n",
       " '\\n\\n8.7\\n',\n",
       " '\\n\\n8.7\\n',\n",
       " '\\n\\n8.7\\n',\n",
       " '\\n\\n8.6\\n',\n",
       " '\\n\\n8.6\\n',\n",
       " '\\n\\n8.6\\n',\n",
       " '\\n\\n8.6\\n',\n",
       " '\\n\\n8.6\\n',\n",
       " '\\n\\n8.6\\n',\n",
       " '\\n\\n8.6\\n',\n",
       " '\\n\\n8.6\\n',\n",
       " '\\n\\n8.6\\n',\n",
       " '\\n\\n8.6\\n',\n",
       " '\\n\\n8.6\\n',\n",
       " '\\n\\n8.6\\n',\n",
       " '\\n\\n8.6\\n',\n",
       " '\\n\\n8.5\\n',\n",
       " '\\n\\n8.5\\n',\n",
       " '\\n\\n8.5\\n',\n",
       " '\\n\\n8.5\\n',\n",
       " '\\n\\n8.5\\n',\n",
       " '\\n\\n8.5\\n',\n",
       " '\\n\\n8.5\\n',\n",
       " '\\n\\n8.5\\n',\n",
       " '\\n\\n8.5\\n',\n",
       " '\\n\\n8.5\\n',\n",
       " '\\n\\n8.5\\n',\n",
       " '\\n\\n8.5\\n',\n",
       " '\\n\\n8.5\\n',\n",
       " '\\n\\n8.5\\n',\n",
       " '\\n\\n8.5\\n',\n",
       " '\\n\\n8.5\\n',\n",
       " '\\n\\n8.5\\n',\n",
       " '\\n\\n8.5\\n',\n",
       " '\\n\\n8.5\\n']"
      ]
     },
     "execution_count": 12,
     "metadata": {},
     "output_type": "execute_result"
    }
   ],
   "source": [
    "rating_info = []\n",
    "\n",
    "detail = soup.find_all('div',class_=\"inline-block ratings-imdb-rating\")\n",
    "for i in detail:\n",
    "    rating_info.append(i.text)\n",
    "rating_info"
   ]
  },
  {
   "cell_type": "code",
   "execution_count": 13,
   "metadata": {},
   "outputs": [
    {
     "data": {
      "text/plain": [
       "['9.3',\n",
       " '9.2',\n",
       " '9.0',\n",
       " '9.0',\n",
       " '9.0',\n",
       " '8.9',\n",
       " '8.9',\n",
       " '8.9',\n",
       " '8.8',\n",
       " '8.8',\n",
       " '8.8',\n",
       " '8.8',\n",
       " '8.8',\n",
       " '8.7',\n",
       " '8.7',\n",
       " '8.7',\n",
       " '8.7',\n",
       " '8.7',\n",
       " '8.6',\n",
       " '8.6',\n",
       " '8.6',\n",
       " '8.6',\n",
       " '8.6',\n",
       " '8.6',\n",
       " '8.6',\n",
       " '8.6',\n",
       " '8.6',\n",
       " '8.6',\n",
       " '8.6',\n",
       " '8.6',\n",
       " '8.6',\n",
       " '8.5',\n",
       " '8.5',\n",
       " '8.5',\n",
       " '8.5',\n",
       " '8.5',\n",
       " '8.5',\n",
       " '8.5',\n",
       " '8.5',\n",
       " '8.5',\n",
       " '8.5',\n",
       " '8.5',\n",
       " '8.5',\n",
       " '8.5',\n",
       " '8.5',\n",
       " '8.5',\n",
       " '8.5',\n",
       " '8.5',\n",
       " '8.5',\n",
       " '8.5']"
      ]
     },
     "execution_count": 13,
     "metadata": {},
     "output_type": "execute_result"
    }
   ],
   "source": [
    "rating_info = []\n",
    "for i in detail:\n",
    "    rating_info.append(i.text.replace(\"\\n\",\"\").replace(\"\\xa0\",\"\"))\n",
    "rating_info"
   ]
  },
  {
   "cell_type": "markdown",
   "metadata": {},
   "source": [
    "3. Write a python program to display IMDB’s Top rated 100 Indian movies’ data (i.e. Name, IMDB rating, Year \n",
    "of release)"
   ]
  },
  {
   "cell_type": "code",
   "execution_count": 14,
   "metadata": {},
   "outputs": [
    {
     "data": {
      "text/plain": [
       "<Response [200]>"
      ]
     },
     "execution_count": 14,
     "metadata": {},
     "output_type": "execute_result"
    }
   ],
   "source": [
    "url = \"https://www.imdb.com/india/top-rated-indian-movies\"\n",
    "page = requests.get(url)\n",
    "soup=BeautifulSoup(page.content)\n",
    "page"
   ]
  },
  {
   "cell_type": "code",
   "execution_count": 19,
   "metadata": {},
   "outputs": [],
   "source": [
    "movie_info=[]\n",
    "detail=soup.find_all(\"td\",class_='titleColumn')\n",
    "for i in detail:\n",
    "    movie_info.append(i.text)\n",
    "    movie_info"
   ]
  },
  {
   "cell_type": "code",
   "execution_count": 20,
   "metadata": {},
   "outputs": [
    {
     "data": {
      "text/plain": [
       "['\\n      1.\\n      Nayakan\\n(1987)\\n',\n",
       " '\\n      2.\\n      Pariyerum Perumal\\n(2018)\\n',\n",
       " '\\n      3.\\n      Anbe Sivam\\n(2003)\\n',\n",
       " '\\n      4.\\n      C/o Kancharapalem\\n(2018)\\n',\n",
       " '\\n      5.\\n      Golmaal\\n(1979)\\n',\n",
       " '\\n      6.\\n      Pather Panchali\\n(1955)\\n',\n",
       " '\\n      7.\\n      Apur Sansar\\n(1959)\\n',\n",
       " '\\n      8.\\n      Manichitrathazhu\\n(1993)\\n',\n",
       " '\\n      9.\\n      Kireedam\\n(1989)\\n',\n",
       " '\\n      10.\\n      Natsamrat\\n(2016)\\n',\n",
       " '\\n      11.\\n      96\\n(2018)\\n',\n",
       " '\\n      12.\\n      Thevar Magan\\n(1992)\\n',\n",
       " '\\n      13.\\n      Black Friday\\n(2004)\\n',\n",
       " '\\n      14.\\n      Kumbalangi Nights\\n(2019)\\n',\n",
       " '\\n      15.\\n      Visaaranai\\n(2015)\\n',\n",
       " '\\n      16.\\n      3 Idiots\\n(2009)\\n',\n",
       " '\\n      17.\\n      Drishyam 2\\n(2021)\\n',\n",
       " '\\n      18.\\n      Soorarai Pottru\\n(2020)\\n',\n",
       " '\\n      19.\\n      Jersey\\n(2019)\\n',\n",
       " '\\n      20.\\n      Taare Zameen Par\\n(2007)\\n',\n",
       " '\\n      21.\\n      Thalapathi\\n(1991)\\n',\n",
       " '\\n      22.\\n      Asuran\\n(2019)\\n',\n",
       " '\\n      23.\\n      Dangal\\n(2016)\\n',\n",
       " '\\n      24.\\n      Kaithi\\n(2019)\\n',\n",
       " '\\n      25.\\n      Ratsasan\\n(2018)\\n',\n",
       " '\\n      26.\\n      Devasuram\\n(1993)\\n',\n",
       " '\\n      27.\\n      Sarpatta Parambarai\\n(2021)\\n',\n",
       " '\\n      28.\\n      Aparajito\\n(1956)\\n',\n",
       " '\\n      29.\\n      Jaane Bhi Do Yaaro\\n(1983)\\n',\n",
       " '\\n      30.\\n      Pyaasa\\n(1957)\\n',\n",
       " '\\n      31.\\n      Vada Chennai\\n(2018)\\n',\n",
       " '\\n      32.\\n      Peranbu\\n(2018)\\n',\n",
       " '\\n      33.\\n      Guide\\n(1965)\\n',\n",
       " '\\n      34.\\n      Thani Oruvan\\n(2015)\\n',\n",
       " '\\n      35.\\n      Kannathil Muthamittal\\n(2002)\\n',\n",
       " '\\n      36.\\n      Iruvar\\n(1997)\\n',\n",
       " '\\n      37.\\n      Chupke Chupke\\n(1975)\\n',\n",
       " '\\n      38.\\n      Spadikam\\n(1995)\\n',\n",
       " '\\n      39.\\n      Agent Sai Srinivasa Athreya\\n(2019)\\n',\n",
       " '\\n      40.\\n      Super Deluxe\\n(2019)\\n',\n",
       " '\\n      41.\\n      Drishyam\\n(2013)\\n',\n",
       " '\\n      42.\\n      Aruvi\\n(2016)\\n',\n",
       " '\\n      43.\\n      Mahanati\\n(2018)\\n',\n",
       " '\\n      44.\\n      Vikram Vedha\\n(2017)\\n',\n",
       " '\\n      45.\\n      Khosla Ka Ghosla!\\n(2006)\\n',\n",
       " '\\n      46.\\n      Tumbbad\\n(2018)\\n',\n",
       " '\\n      47.\\n      Pudhu Pettai\\n(2006)\\n',\n",
       " '\\n      48.\\n      Premam\\n(2015)\\n',\n",
       " '\\n      49.\\n      Anniyan\\n(2005)\\n',\n",
       " '\\n      50.\\n      Anand\\n(1971)\\n',\n",
       " '\\n      51.\\n      Kaakkaa Muttai\\n(2014)\\n',\n",
       " '\\n      52.\\n      Bangalore Days\\n(2014)\\n',\n",
       " '\\n      53.\\n      Mudhalvan\\n(1999)\\n',\n",
       " '\\n      54.\\n      Papanasam\\n(2015)\\n',\n",
       " '\\n      55.\\n      Dhuruvangal Pathinaaru\\n(2016)\\n',\n",
       " '\\n      56.\\n      Satya\\n(1998)\\n',\n",
       " '\\n      57.\\n      Andhadhun\\n(2018)\\n',\n",
       " '\\n      58.\\n      Soodhu Kavvum\\n(2013)\\n',\n",
       " '\\n      59.\\n      Shahid\\n(2012)\\n',\n",
       " '\\n      60.\\n      Jigarthanda\\n(2014)\\n',\n",
       " '\\n      61.\\n      Gangs of Wasseypur\\n(2012)\\n',\n",
       " '\\n      62.\\n      Pithamagan\\n(2003)\\n',\n",
       " '\\n      63.\\n      Paan Singh Tomar\\n(2012)\\n',\n",
       " '\\n      64.\\n      Bhaag Milkha Bhaag\\n(2013)\\n',\n",
       " '\\n      65.\\n      Hera Pheri\\n(2000)\\n',\n",
       " '\\n      66.\\n      Sairat\\n(2016)\\n',\n",
       " '\\n      67.\\n      Talvar\\n(2015)\\n',\n",
       " '\\n      68.\\n      Sholay\\n(1975)\\n',\n",
       " '\\n      69.\\n      Swades: We, the People\\n(2004)\\n',\n",
       " '\\n      70.\\n      Chak De! India\\n(2007)\\n',\n",
       " '\\n      71.\\n      Ustad Hotel\\n(2012)\\n',\n",
       " '\\n      72.\\n      Black\\n(2005)\\n',\n",
       " '\\n      73.\\n      Drishyam\\n(2015)\\n',\n",
       " '\\n      74.\\n      Zindagi Na Milegi Dobara\\n(2011)\\n',\n",
       " '\\n      75.\\n      Jo Jeeta Wohi Sikandar\\n(1992)\\n',\n",
       " '\\n      76.\\n      Maheshinte Prathikaaram\\n(2016)\\n',\n",
       " '\\n      77.\\n      Mughal-E-Azam\\n(1960)\\n',\n",
       " '\\n      78.\\n      Nil Battey Sannata\\n(2015)\\n',\n",
       " '\\n      79.\\n      Udaan\\n(2010)\\n',\n",
       " '\\n      80.\\n      Charulata\\n(1964)\\n',\n",
       " '\\n      81.\\n      Theeran adhigaaram ondru\\n(2017)\\n',\n",
       " '\\n      82.\\n      Article 15\\n(2019)\\n',\n",
       " '\\n      83.\\n      A Wednesday\\n(2008)\\n',\n",
       " '\\n      84.\\n      Queen\\n(2013)\\n',\n",
       " '\\n      85.\\n      Masaan\\n(2015)\\n',\n",
       " '\\n      86.\\n      Munna Bhai M.B.B.S.\\n(2003)\\n',\n",
       " '\\n      87.\\n      Alai Payuthey\\n(2000)\\n',\n",
       " '\\n      88.\\n      Sarfarosh\\n(1999)\\n',\n",
       " '\\n      89.\\n      Baasha\\n(1995)\\n',\n",
       " '\\n      90.\\n      Dil Chahta Hai\\n(2001)\\n',\n",
       " '\\n      91.\\n      OMG: Oh My God!\\n(2012)\\n',\n",
       " '\\n      92.\\n      Chhichhore\\n(2019)\\n',\n",
       " '\\n      93.\\n      Roja\\n(1992)\\n',\n",
       " '\\n      94.\\n      Rang De Basanti\\n(2006)\\n',\n",
       " '\\n      95.\\n      Virumandi\\n(2004)\\n',\n",
       " '\\n      96.\\n      Andaz Apna Apna\\n(1994)\\n',\n",
       " '\\n      97.\\n      Lagaan: Once Upon a Time in India\\n(2001)\\n',\n",
       " '\\n      98.\\n      Kahaani\\n(2012)\\n',\n",
       " '\\n      99.\\n      Uri: The Surgical Strike\\n(2018)\\n',\n",
       " '\\n      100.\\n      PK\\n(2014)\\n',\n",
       " '\\n      101.\\n      Lucia\\n(2013)\\n',\n",
       " '\\n      102.\\n      Iqbal\\n(2005)\\n',\n",
       " '\\n      103.\\n      The Legend of Bhagat Singh\\n(2002)\\n',\n",
       " '\\n      104.\\n      Barfi!\\n(2012)\\n',\n",
       " '\\n      105.\\n      Bommarillu\\n(2006)\\n',\n",
       " '\\n      106.\\n      Pink\\n(2016)\\n',\n",
       " '\\n      107.\\n      Maqbool\\n(2003)\\n',\n",
       " '\\n      108.\\n      Bombay\\n(1995)\\n',\n",
       " '\\n      109.\\n      Section 375\\n(2019)\\n',\n",
       " '\\n      110.\\n      Omkara\\n(2006)\\n',\n",
       " '\\n      111.\\n      Indian\\n(1996)\\n',\n",
       " '\\n      112.\\n      The Great Indian Kitchen\\n(2021)\\n',\n",
       " '\\n      113.\\n      Lage Raho Munna Bhai\\n(2006)\\n',\n",
       " '\\n      114.\\n      Thadam\\n(2019)\\n',\n",
       " '\\n      115.\\n      Pelli Choopulu\\n(2016)\\n',\n",
       " '\\n      116.\\n      Baahubali 2: The Conclusion\\n(2017)\\n',\n",
       " '\\n      117.\\n      Deewaar\\n(1975)\\n',\n",
       " '\\n      118.\\n      Pranchiyettan and the Saint\\n(2010)\\n',\n",
       " '\\n      119.\\n      Naduvula Konjam Pakkatha Kaanom\\n(2012)\\n',\n",
       " '\\n      120.\\n      Padosan\\n(1968)\\n',\n",
       " '\\n      121.\\n      Gulaal\\n(2009)\\n',\n",
       " '\\n      122.\\n      Haider\\n(2014)\\n',\n",
       " '\\n      123.\\n      Rangasthalam\\n(2018)\\n',\n",
       " '\\n      124.\\n      Athadu\\n(2005)\\n',\n",
       " '\\n      125.\\n      Dilwale Dulhania Le Jayenge\\n(1995)\\n',\n",
       " '\\n      126.\\n      Take Off\\n(2017)\\n',\n",
       " '\\n      127.\\n      Thondimuthalum Dhriksakshiyum\\n(2017)\\n',\n",
       " '\\n      128.\\n      Padayappa\\n(1999)\\n',\n",
       " '\\n      129.\\n      Ugly\\n(2013)\\n',\n",
       " '\\n      130.\\n      Mother India\\n(1957)\\n',\n",
       " '\\n      131.\\n      Aadukalam\\n(2011)\\n',\n",
       " '\\n      132.\\n      Special Chabbis\\n(2013)\\n',\n",
       " '\\n      133.\\n      K.G.F: Chapter 1\\n(2018)\\n',\n",
       " '\\n      134.\\n      Vaaranam Aayiram\\n(2008)\\n',\n",
       " '\\n      135.\\n      Ulidavaru Kandanthe\\n(2014)\\n',\n",
       " '\\n      136.\\n      Ship of Theseus\\n(2012)\\n',\n",
       " '\\n      137.\\n      Dev.D\\n(2009)\\n',\n",
       " '\\n      138.\\n      Badhaai ho\\n(2018)\\n',\n",
       " '\\n      139.\\n      Bajrangi Bhaijaan\\n(2015)\\n',\n",
       " '\\n      140.\\n      Gully Boy\\n(2019)\\n',\n",
       " '\\n      141.\\n      Malik\\n(2021)\\n',\n",
       " '\\n      142.\\n      Jalsaghar\\n(1958)\\n',\n",
       " '\\n      143.\\n      Vaastav: The Reality\\n(1999)\\n',\n",
       " '\\n      144.\\n      Deiva Thirumagal\\n(2011)\\n',\n",
       " '\\n      145.\\n      Ankhon Dekhi\\n(2013)\\n',\n",
       " '\\n      146.\\n      Mukkabaaz\\n(2017)\\n',\n",
       " '\\n      147.\\n      Vedam\\n(2010)\\n',\n",
       " '\\n      148.\\n      Company\\n(2002)\\n',\n",
       " '\\n      149.\\n      Manjhi: The Mountain Man\\n(2015)\\n',\n",
       " '\\n      150.\\n      Arjun Reddy\\n(2017)\\n',\n",
       " '\\n      151.\\n      Pizza\\n(2012)\\n',\n",
       " '\\n      152.\\n      Karnan\\n(2021)\\n',\n",
       " '\\n      153.\\n      Charlie\\n(2015)\\n',\n",
       " '\\n      154.\\n      My Name Is Khan\\n(2010)\\n',\n",
       " '\\n      155.\\n      Memories\\n(2013)\\n',\n",
       " '\\n      156.\\n      Dil Bechara\\n(2020)\\n',\n",
       " '\\n      157.\\n      Kal Ho Naa Ho\\n(2003)\\n',\n",
       " '\\n      158.\\n      Jab We Met\\n(2007)\\n',\n",
       " '\\n      159.\\n      Mumbai Police\\n(2013)\\n',\n",
       " '\\n      160.\\n      Vinnaithaandi Varuvaayaa\\n(2010)\\n',\n",
       " '\\n      161.\\n      Angamaly Diaries\\n(2017)\\n',\n",
       " '\\n      162.\\n      Border\\n(1997)\\n',\n",
       " '\\n      163.\\n      Super 30\\n(2019)\\n',\n",
       " '\\n      164.\\n      Poove Unakkaga\\n(1996)\\n',\n",
       " '\\n      165.\\n      Kaakha..Kaakha: The Police\\n(2003)\\n',\n",
       " '\\n      166.\\n      Unnaipol Oruvan\\n(2009)\\n',\n",
       " '\\n      167.\\n      Padman\\n(2018)\\n',\n",
       " '\\n      168.\\n      Bãhubali: The Beginning\\n(2015)\\n',\n",
       " '\\n      169.\\n      Sonchiriya\\n(2019)\\n',\n",
       " '\\n      170.\\n      Lakshya\\n(2004)\\n',\n",
       " '\\n      171.\\n      Vettaiyaadu Vilaiyaadu\\n(2006)\\n',\n",
       " '\\n      172.\\n      Dor\\n(2006)\\n',\n",
       " '\\n      173.\\n      Hey Ram\\n(2000)\\n',\n",
       " '\\n      174.\\n      Ayyappanum Koshiyum\\n(2020)\\n',\n",
       " '\\n      175.\\n      Baby\\n(2015)\\n',\n",
       " '\\n      176.\\n      Anjaam Pathiraa\\n(2020)\\n',\n",
       " '\\n      177.\\n      Airlift\\n(2016)\\n',\n",
       " '\\n      178.\\n      Thulladha Manamum Thullum\\n(1999)\\n',\n",
       " '\\n      179.\\n      Hindi Medium\\n(2017)\\n',\n",
       " '\\n      180.\\n      English Vinglish\\n(2012)\\n',\n",
       " '\\n      181.\\n      Okkadu\\n(2003)\\n',\n",
       " '\\n      182.\\n      Gangaajal\\n(2003)\\n',\n",
       " '\\n      183.\\n      The Lunchbox\\n(2013)\\n',\n",
       " '\\n      184.\\n      Manam\\n(2014)\\n',\n",
       " '\\n      185.\\n      Mimi\\n(2021)\\n',\n",
       " '\\n      186.\\n      Johnny Gaddaar\\n(2007)\\n',\n",
       " '\\n      187.\\n      Ab Tak Chhappan\\n(2004)\\n',\n",
       " '\\n      188.\\n      Joji\\n(2021)\\n',\n",
       " '\\n      189.\\n      Badla\\n(2019)\\n',\n",
       " '\\n      190.\\n      Pokiri\\n(2006)\\n',\n",
       " '\\n      191.\\n      Secret Superstar\\n(2017)\\n',\n",
       " '\\n      192.\\n      M.S. Dhoni: The Untold Story\\n(2016)\\n',\n",
       " '\\n      193.\\n      Vicky Donor\\n(2012)\\n',\n",
       " '\\n      194.\\n      Nayak: The Real Hero\\n(2001)\\n',\n",
       " '\\n      195.\\n      Mr. India\\n(1987)\\n',\n",
       " '\\n      196.\\n      Stanley Ka Dabba\\n(2011)\\n',\n",
       " '\\n      197.\\n      Raazi\\n(2018)\\n',\n",
       " '\\n      198.\\n      Goodachari\\n(2018)\\n',\n",
       " '\\n      199.\\n      Udta Punjab\\n(2016)\\n',\n",
       " '\\n      200.\\n      Don\\n(1978)\\n',\n",
       " '\\n      201.\\n      RangiTaranga\\n(2015)\\n',\n",
       " '\\n      202.\\n      Rock On!!\\n(2008)\\n',\n",
       " '\\n      203.\\n      Veer-Zaara\\n(2004)\\n',\n",
       " '\\n      204.\\n      Velaiilla Pattadhari\\n(2014)\\n',\n",
       " '\\n      205.\\n      Aligarh\\n(2015)\\n',\n",
       " '\\n      206.\\n      Ko\\n(2011)\\n',\n",
       " '\\n      207.\\n      Dasvidaniya\\n(2008)\\n',\n",
       " '\\n      208.\\n      Thuppakki\\n(2012)\\n',\n",
       " '\\n      209.\\n      Guru\\n(2007)\\n',\n",
       " '\\n      210.\\n      Arya\\n(2004)\\n',\n",
       " '\\n      211.\\n      Samsara\\n(2001)\\n',\n",
       " '\\n      212.\\n      Kaththi\\n(2014)\\n',\n",
       " '\\n      213.\\n      Kai po che!\\n(2013)\\n',\n",
       " '\\n      214.\\n      Oye Lucky! Lucky Oye!\\n(2008)\\n',\n",
       " '\\n      215.\\n      24\\n(2016)\\n',\n",
       " '\\n      216.\\n      Ghilli\\n(2004)\\n',\n",
       " '\\n      217.\\n      Mumbai Meri Jaan\\n(2008)\\n',\n",
       " '\\n      218.\\n      Rockstar\\n(2011)\\n',\n",
       " '\\n      219.\\n      Eega\\n(2012)\\n',\n",
       " '\\n      220.\\n      Avane Srimannarayana\\n(2019)\\n',\n",
       " '\\n      221.\\n      C U Soon\\n(2020)\\n',\n",
       " '\\n      222.\\n      Kabhi Haan Kabhi Naa\\n(1994)\\n',\n",
       " '\\n      223.\\n      Darr\\n(1993)\\n',\n",
       " '\\n      224.\\n      Kapoor & Sons\\n(2016)\\n',\n",
       " '\\n      225.\\n      Newton\\n(2017)\\n',\n",
       " '\\n      226.\\n      Sir\\n(2018)\\n',\n",
       " '\\n      227.\\n      Ugramm\\n(2014)\\n',\n",
       " '\\n      228.\\n      Aamir\\n(2008)\\n',\n",
       " '\\n      229.\\n      State of Siege: Temple Attack\\n(2021)\\n',\n",
       " '\\n      230.\\n      The Tashkent Files\\n(2019)\\n',\n",
       " '\\n      231.\\n      Earth\\n(1998)\\n',\n",
       " '\\n      232.\\n      Madras Cafe\\n(2013)\\n',\n",
       " '\\n      233.\\n      Agneepath\\n(1990)\\n',\n",
       " '\\n      234.\\n      Sarkar\\n(2005)\\n',\n",
       " '\\n      235.\\n      Detective Byomkesh Bakshy!\\n(2015)\\n',\n",
       " '\\n      236.\\n      Bheja Fry\\n(2007)\\n',\n",
       " '\\n      237.\\n      Neerja\\n(2016)\\n',\n",
       " '\\n      238.\\n      Pyaar Ka Punchnama\\n(2011)\\n',\n",
       " '\\n      239.\\n      Kannum Kannum Kollaiyadithaal\\n(2020)\\n',\n",
       " '\\n      240.\\n      Highway\\n(2014)\\n',\n",
       " '\\n      241.\\n      Magadheera\\n(2009)\\n',\n",
       " '\\n      242.\\n      Baazigar\\n(1993)\\n',\n",
       " '\\n      243.\\n      1 - Nenokkadine\\n(2014)\\n',\n",
       " '\\n      244.\\n      Tanu Weds Manu Returns\\n(2015)\\n',\n",
       " '\\n      245.\\n      Saala Khadoos\\n(2016)\\n',\n",
       " '\\n      246.\\n      Manorama: Six Feet Under\\n(2007)\\n',\n",
       " '\\n      247.\\n      Piku\\n(2015)\\n',\n",
       " '\\n      248.\\n      Wake Up Sid\\n(2009)\\n',\n",
       " '\\n      249.\\n      Ludo\\n(2020)\\n',\n",
       " '\\n      250.\\n      Dhruva\\n(2016)\\n']"
      ]
     },
     "execution_count": 20,
     "metadata": {},
     "output_type": "execute_result"
    }
   ],
   "source": [
    "movie_info"
   ]
  },
  {
   "cell_type": "code",
   "execution_count": 21,
   "metadata": {},
   "outputs": [
    {
     "data": {
      "text/plain": [
       "['      1.      Nayakan(1987)',\n",
       " '      2.      Pariyerum Perumal(2018)',\n",
       " '      3.      Anbe Sivam(2003)',\n",
       " '      4.      C/o Kancharapalem(2018)',\n",
       " '      5.      Golmaal(1979)',\n",
       " '      6.      Pather Panchali(1955)',\n",
       " '      7.      Apur Sansar(1959)',\n",
       " '      8.      Manichitrathazhu(1993)',\n",
       " '      9.      Kireedam(1989)',\n",
       " '      10.      Natsamrat(2016)',\n",
       " '      11.      96(2018)',\n",
       " '      12.      Thevar Magan(1992)',\n",
       " '      13.      Black Friday(2004)',\n",
       " '      14.      Kumbalangi Nights(2019)',\n",
       " '      15.      Visaaranai(2015)',\n",
       " '      16.      3 Idiots(2009)',\n",
       " '      17.      Drishyam 2(2021)',\n",
       " '      18.      Soorarai Pottru(2020)',\n",
       " '      19.      Jersey(2019)',\n",
       " '      20.      Taare Zameen Par(2007)',\n",
       " '      21.      Thalapathi(1991)',\n",
       " '      22.      Asuran(2019)',\n",
       " '      23.      Dangal(2016)',\n",
       " '      24.      Kaithi(2019)',\n",
       " '      25.      Ratsasan(2018)',\n",
       " '      26.      Devasuram(1993)',\n",
       " '      27.      Sarpatta Parambarai(2021)',\n",
       " '      28.      Aparajito(1956)',\n",
       " '      29.      Jaane Bhi Do Yaaro(1983)',\n",
       " '      30.      Pyaasa(1957)',\n",
       " '      31.      Vada Chennai(2018)',\n",
       " '      32.      Peranbu(2018)',\n",
       " '      33.      Guide(1965)',\n",
       " '      34.      Thani Oruvan(2015)',\n",
       " '      35.      Kannathil Muthamittal(2002)',\n",
       " '      36.      Iruvar(1997)',\n",
       " '      37.      Chupke Chupke(1975)',\n",
       " '      38.      Spadikam(1995)',\n",
       " '      39.      Agent Sai Srinivasa Athreya(2019)',\n",
       " '      40.      Super Deluxe(2019)',\n",
       " '      41.      Drishyam(2013)',\n",
       " '      42.      Aruvi(2016)',\n",
       " '      43.      Mahanati(2018)',\n",
       " '      44.      Vikram Vedha(2017)',\n",
       " '      45.      Khosla Ka Ghosla!(2006)',\n",
       " '      46.      Tumbbad(2018)',\n",
       " '      47.      Pudhu Pettai(2006)',\n",
       " '      48.      Premam(2015)',\n",
       " '      49.      Anniyan(2005)',\n",
       " '      50.      Anand(1971)',\n",
       " '      51.      Kaakkaa Muttai(2014)',\n",
       " '      52.      Bangalore Days(2014)',\n",
       " '      53.      Mudhalvan(1999)',\n",
       " '      54.      Papanasam(2015)',\n",
       " '      55.      Dhuruvangal Pathinaaru(2016)',\n",
       " '      56.      Satya(1998)',\n",
       " '      57.      Andhadhun(2018)',\n",
       " '      58.      Soodhu Kavvum(2013)',\n",
       " '      59.      Shahid(2012)',\n",
       " '      60.      Jigarthanda(2014)',\n",
       " '      61.      Gangs of Wasseypur(2012)',\n",
       " '      62.      Pithamagan(2003)',\n",
       " '      63.      Paan Singh Tomar(2012)',\n",
       " '      64.      Bhaag Milkha Bhaag(2013)',\n",
       " '      65.      Hera Pheri(2000)',\n",
       " '      66.      Sairat(2016)',\n",
       " '      67.      Talvar(2015)',\n",
       " '      68.      Sholay(1975)',\n",
       " '      69.      Swades: We, the People(2004)',\n",
       " '      70.      Chak De! India(2007)',\n",
       " '      71.      Ustad Hotel(2012)',\n",
       " '      72.      Black(2005)',\n",
       " '      73.      Drishyam(2015)',\n",
       " '      74.      Zindagi Na Milegi Dobara(2011)',\n",
       " '      75.      Jo Jeeta Wohi Sikandar(1992)',\n",
       " '      76.      Maheshinte Prathikaaram(2016)',\n",
       " '      77.      Mughal-E-Azam(1960)',\n",
       " '      78.      Nil Battey Sannata(2015)',\n",
       " '      79.      Udaan(2010)',\n",
       " '      80.      Charulata(1964)',\n",
       " '      81.      Theeran adhigaaram ondru(2017)',\n",
       " '      82.      Article 15(2019)',\n",
       " '      83.      A Wednesday(2008)',\n",
       " '      84.      Queen(2013)',\n",
       " '      85.      Masaan(2015)',\n",
       " '      86.      Munna Bhai M.B.B.S.(2003)',\n",
       " '      87.      Alai Payuthey(2000)',\n",
       " '      88.      Sarfarosh(1999)',\n",
       " '      89.      Baasha(1995)',\n",
       " '      90.      Dil Chahta Hai(2001)',\n",
       " '      91.      OMG: Oh My God!(2012)',\n",
       " '      92.      Chhichhore(2019)',\n",
       " '      93.      Roja(1992)',\n",
       " '      94.      Rang De Basanti(2006)',\n",
       " '      95.      Virumandi(2004)',\n",
       " '      96.      Andaz Apna Apna(1994)',\n",
       " '      97.      Lagaan: Once Upon a Time in India(2001)',\n",
       " '      98.      Kahaani(2012)',\n",
       " '      99.      Uri: The Surgical Strike(2018)',\n",
       " '      100.      PK(2014)',\n",
       " '      101.      Lucia(2013)',\n",
       " '      102.      Iqbal(2005)',\n",
       " '      103.      The Legend of Bhagat Singh(2002)',\n",
       " '      104.      Barfi!(2012)',\n",
       " '      105.      Bommarillu(2006)',\n",
       " '      106.      Pink(2016)',\n",
       " '      107.      Maqbool(2003)',\n",
       " '      108.      Bombay(1995)',\n",
       " '      109.      Section 375(2019)',\n",
       " '      110.      Omkara(2006)',\n",
       " '      111.      Indian(1996)',\n",
       " '      112.      The Great Indian Kitchen(2021)',\n",
       " '      113.      Lage Raho Munna Bhai(2006)',\n",
       " '      114.      Thadam(2019)',\n",
       " '      115.      Pelli Choopulu(2016)',\n",
       " '      116.      Baahubali 2: The Conclusion(2017)',\n",
       " '      117.      Deewaar(1975)',\n",
       " '      118.      Pranchiyettan and the Saint(2010)',\n",
       " '      119.      Naduvula Konjam Pakkatha Kaanom(2012)',\n",
       " '      120.      Padosan(1968)',\n",
       " '      121.      Gulaal(2009)',\n",
       " '      122.      Haider(2014)',\n",
       " '      123.      Rangasthalam(2018)',\n",
       " '      124.      Athadu(2005)',\n",
       " '      125.      Dilwale Dulhania Le Jayenge(1995)',\n",
       " '      126.      Take Off(2017)',\n",
       " '      127.      Thondimuthalum Dhriksakshiyum(2017)',\n",
       " '      128.      Padayappa(1999)',\n",
       " '      129.      Ugly(2013)',\n",
       " '      130.      Mother India(1957)',\n",
       " '      131.      Aadukalam(2011)',\n",
       " '      132.      Special Chabbis(2013)',\n",
       " '      133.      K.G.F: Chapter 1(2018)',\n",
       " '      134.      Vaaranam Aayiram(2008)',\n",
       " '      135.      Ulidavaru Kandanthe(2014)',\n",
       " '      136.      Ship of Theseus(2012)',\n",
       " '      137.      Dev.D(2009)',\n",
       " '      138.      Badhaai ho(2018)',\n",
       " '      139.      Bajrangi Bhaijaan(2015)',\n",
       " '      140.      Gully Boy(2019)',\n",
       " '      141.      Malik(2021)',\n",
       " '      142.      Jalsaghar(1958)',\n",
       " '      143.      Vaastav: The Reality(1999)',\n",
       " '      144.      Deiva Thirumagal(2011)',\n",
       " '      145.      Ankhon Dekhi(2013)',\n",
       " '      146.      Mukkabaaz(2017)',\n",
       " '      147.      Vedam(2010)',\n",
       " '      148.      Company(2002)',\n",
       " '      149.      Manjhi: The Mountain Man(2015)',\n",
       " '      150.      Arjun Reddy(2017)',\n",
       " '      151.      Pizza(2012)',\n",
       " '      152.      Karnan(2021)',\n",
       " '      153.      Charlie(2015)',\n",
       " '      154.      My Name Is Khan(2010)',\n",
       " '      155.      Memories(2013)',\n",
       " '      156.      Dil Bechara(2020)',\n",
       " '      157.      Kal Ho Naa Ho(2003)',\n",
       " '      158.      Jab We Met(2007)',\n",
       " '      159.      Mumbai Police(2013)',\n",
       " '      160.      Vinnaithaandi Varuvaayaa(2010)',\n",
       " '      161.      Angamaly Diaries(2017)',\n",
       " '      162.      Border(1997)',\n",
       " '      163.      Super 30(2019)',\n",
       " '      164.      Poove Unakkaga(1996)',\n",
       " '      165.      Kaakha..Kaakha: The Police(2003)',\n",
       " '      166.      Unnaipol Oruvan(2009)',\n",
       " '      167.      Padman(2018)',\n",
       " '      168.      Bãhubali: The Beginning(2015)',\n",
       " '      169.      Sonchiriya(2019)',\n",
       " '      170.      Lakshya(2004)',\n",
       " '      171.      Vettaiyaadu Vilaiyaadu(2006)',\n",
       " '      172.      Dor(2006)',\n",
       " '      173.      Hey Ram(2000)',\n",
       " '      174.      Ayyappanum Koshiyum(2020)',\n",
       " '      175.      Baby(2015)',\n",
       " '      176.      Anjaam Pathiraa(2020)',\n",
       " '      177.      Airlift(2016)',\n",
       " '      178.      Thulladha Manamum Thullum(1999)',\n",
       " '      179.      Hindi Medium(2017)',\n",
       " '      180.      English Vinglish(2012)',\n",
       " '      181.      Okkadu(2003)',\n",
       " '      182.      Gangaajal(2003)',\n",
       " '      183.      The Lunchbox(2013)',\n",
       " '      184.      Manam(2014)',\n",
       " '      185.      Mimi(2021)',\n",
       " '      186.      Johnny Gaddaar(2007)',\n",
       " '      187.      Ab Tak Chhappan(2004)',\n",
       " '      188.      Joji(2021)',\n",
       " '      189.      Badla(2019)',\n",
       " '      190.      Pokiri(2006)',\n",
       " '      191.      Secret Superstar(2017)',\n",
       " '      192.      M.S. Dhoni: The Untold Story(2016)',\n",
       " '      193.      Vicky Donor(2012)',\n",
       " '      194.      Nayak: The Real Hero(2001)',\n",
       " '      195.      Mr. India(1987)',\n",
       " '      196.      Stanley Ka Dabba(2011)',\n",
       " '      197.      Raazi(2018)',\n",
       " '      198.      Goodachari(2018)',\n",
       " '      199.      Udta Punjab(2016)',\n",
       " '      200.      Don(1978)',\n",
       " '      201.      RangiTaranga(2015)',\n",
       " '      202.      Rock On!!(2008)',\n",
       " '      203.      Veer-Zaara(2004)',\n",
       " '      204.      Velaiilla Pattadhari(2014)',\n",
       " '      205.      Aligarh(2015)',\n",
       " '      206.      Ko(2011)',\n",
       " '      207.      Dasvidaniya(2008)',\n",
       " '      208.      Thuppakki(2012)',\n",
       " '      209.      Guru(2007)',\n",
       " '      210.      Arya(2004)',\n",
       " '      211.      Samsara(2001)',\n",
       " '      212.      Kaththi(2014)',\n",
       " '      213.      Kai po che!(2013)',\n",
       " '      214.      Oye Lucky! Lucky Oye!(2008)',\n",
       " '      215.      24(2016)',\n",
       " '      216.      Ghilli(2004)',\n",
       " '      217.      Mumbai Meri Jaan(2008)',\n",
       " '      218.      Rockstar(2011)',\n",
       " '      219.      Eega(2012)',\n",
       " '      220.      Avane Srimannarayana(2019)',\n",
       " '      221.      C U Soon(2020)',\n",
       " '      222.      Kabhi Haan Kabhi Naa(1994)',\n",
       " '      223.      Darr(1993)',\n",
       " '      224.      Kapoor & Sons(2016)',\n",
       " '      225.      Newton(2017)',\n",
       " '      226.      Sir(2018)',\n",
       " '      227.      Ugramm(2014)',\n",
       " '      228.      Aamir(2008)',\n",
       " '      229.      State of Siege: Temple Attack(2021)',\n",
       " '      230.      The Tashkent Files(2019)',\n",
       " '      231.      Earth(1998)',\n",
       " '      232.      Madras Cafe(2013)',\n",
       " '      233.      Agneepath(1990)',\n",
       " '      234.      Sarkar(2005)',\n",
       " '      235.      Detective Byomkesh Bakshy!(2015)',\n",
       " '      236.      Bheja Fry(2007)',\n",
       " '      237.      Neerja(2016)',\n",
       " '      238.      Pyaar Ka Punchnama(2011)',\n",
       " '      239.      Kannum Kannum Kollaiyadithaal(2020)',\n",
       " '      240.      Highway(2014)',\n",
       " '      241.      Magadheera(2009)',\n",
       " '      242.      Baazigar(1993)',\n",
       " '      243.      1 - Nenokkadine(2014)',\n",
       " '      244.      Tanu Weds Manu Returns(2015)',\n",
       " '      245.      Saala Khadoos(2016)',\n",
       " '      246.      Manorama: Six Feet Under(2007)',\n",
       " '      247.      Piku(2015)',\n",
       " '      248.      Wake Up Sid(2009)',\n",
       " '      249.      Ludo(2020)',\n",
       " '      250.      Dhruva(2016)']"
      ]
     },
     "execution_count": 21,
     "metadata": {},
     "output_type": "execute_result"
    }
   ],
   "source": [
    "movie_info = []\n",
    "for i in detail:\n",
    "    movie_info.append(i.text.replace(\"\\n\",\"\").replace(\"\\xa0\",\"\"))\n",
    "movie_info"
   ]
  },
  {
   "cell_type": "code",
   "execution_count": 22,
   "metadata": {},
   "outputs": [
    {
     "data": {
      "text/plain": [
       "['\\n8.5\\n',\n",
       " '\\n8.5\\n',\n",
       " '\\n8.5\\n',\n",
       " '\\n8.5\\n',\n",
       " '\\n8.5\\n',\n",
       " '\\n8.5\\n',\n",
       " '\\n8.5\\n',\n",
       " '\\n8.5\\n',\n",
       " '\\n8.5\\n',\n",
       " '\\n8.4\\n',\n",
       " '\\n8.4\\n',\n",
       " '\\n8.4\\n',\n",
       " '\\n8.4\\n',\n",
       " '\\n8.4\\n',\n",
       " '\\n8.4\\n',\n",
       " '\\n8.4\\n',\n",
       " '\\n8.3\\n',\n",
       " '\\n8.3\\n',\n",
       " '\\n8.3\\n',\n",
       " '\\n8.3\\n',\n",
       " '\\n8.3\\n',\n",
       " '\\n8.3\\n',\n",
       " '\\n8.3\\n',\n",
       " '\\n8.3\\n',\n",
       " '\\n8.3\\n',\n",
       " '\\n8.3\\n',\n",
       " '\\n8.3\\n',\n",
       " '\\n8.3\\n',\n",
       " '\\n8.3\\n',\n",
       " '\\n8.3\\n',\n",
       " '\\n8.3\\n',\n",
       " '\\n8.3\\n',\n",
       " '\\n8.3\\n',\n",
       " '\\n8.3\\n',\n",
       " '\\n8.2\\n',\n",
       " '\\n8.2\\n',\n",
       " '\\n8.2\\n',\n",
       " '\\n8.2\\n',\n",
       " '\\n8.2\\n',\n",
       " '\\n8.2\\n',\n",
       " '\\n8.2\\n',\n",
       " '\\n8.2\\n',\n",
       " '\\n8.2\\n',\n",
       " '\\n8.2\\n',\n",
       " '\\n8.2\\n',\n",
       " '\\n8.2\\n',\n",
       " '\\n8.2\\n',\n",
       " '\\n8.2\\n',\n",
       " '\\n8.2\\n',\n",
       " '\\n8.2\\n',\n",
       " '\\n8.2\\n',\n",
       " '\\n8.2\\n',\n",
       " '\\n8.2\\n',\n",
       " '\\n8.2\\n',\n",
       " '\\n8.2\\n',\n",
       " '\\n8.2\\n',\n",
       " '\\n8.2\\n',\n",
       " '\\n8.2\\n',\n",
       " '\\n8.2\\n',\n",
       " '\\n8.1\\n',\n",
       " '\\n8.1\\n',\n",
       " '\\n8.1\\n',\n",
       " '\\n8.1\\n',\n",
       " '\\n8.1\\n',\n",
       " '\\n8.1\\n',\n",
       " '\\n8.1\\n',\n",
       " '\\n8.1\\n',\n",
       " '\\n8.1\\n',\n",
       " '\\n8.1\\n',\n",
       " '\\n8.1\\n',\n",
       " '\\n8.1\\n',\n",
       " '\\n8.1\\n',\n",
       " '\\n8.1\\n',\n",
       " '\\n8.1\\n',\n",
       " '\\n8.1\\n',\n",
       " '\\n8.1\\n',\n",
       " '\\n8.1\\n',\n",
       " '\\n8.1\\n',\n",
       " '\\n8.1\\n',\n",
       " '\\n8.1\\n',\n",
       " '\\n8.1\\n',\n",
       " '\\n8.1\\n',\n",
       " '\\n8.1\\n',\n",
       " '\\n8.1\\n',\n",
       " '\\n8.1\\n',\n",
       " '\\n8.1\\n',\n",
       " '\\n8.1\\n',\n",
       " '\\n8.1\\n',\n",
       " '\\n8.1\\n',\n",
       " '\\n8.1\\n',\n",
       " '\\n8.1\\n',\n",
       " '\\n8.1\\n',\n",
       " '\\n8.1\\n',\n",
       " '\\n8.1\\n',\n",
       " '\\n8.1\\n',\n",
       " '\\n8.1\\n',\n",
       " '\\n8.1\\n',\n",
       " '\\n8.1\\n',\n",
       " '\\n8.1\\n',\n",
       " '\\n8.1\\n',\n",
       " '\\n8.1\\n',\n",
       " '\\n8.1\\n',\n",
       " '\\n8.1\\n',\n",
       " '\\n8.1\\n',\n",
       " '\\n8.1\\n',\n",
       " '\\n8.0\\n',\n",
       " '\\n8.0\\n',\n",
       " '\\n8.0\\n',\n",
       " '\\n8.0\\n',\n",
       " '\\n8.0\\n',\n",
       " '\\n8.0\\n',\n",
       " '\\n8.0\\n',\n",
       " '\\n8.0\\n',\n",
       " '\\n8.0\\n',\n",
       " '\\n8.0\\n',\n",
       " '\\n8.0\\n',\n",
       " '\\n8.0\\n',\n",
       " '\\n8.0\\n',\n",
       " '\\n8.0\\n',\n",
       " '\\n8.0\\n',\n",
       " '\\n8.0\\n',\n",
       " '\\n8.0\\n',\n",
       " '\\n8.0\\n',\n",
       " '\\n8.0\\n',\n",
       " '\\n8.0\\n',\n",
       " '\\n8.0\\n',\n",
       " '\\n8.0\\n',\n",
       " '\\n8.0\\n',\n",
       " '\\n8.0\\n',\n",
       " '\\n8.0\\n',\n",
       " '\\n8.0\\n',\n",
       " '\\n8.0\\n',\n",
       " '\\n8.0\\n',\n",
       " '\\n7.9\\n',\n",
       " '\\n7.9\\n',\n",
       " '\\n7.9\\n',\n",
       " '\\n7.9\\n',\n",
       " '\\n7.9\\n',\n",
       " '\\n7.9\\n',\n",
       " '\\n7.9\\n',\n",
       " '\\n7.9\\n',\n",
       " '\\n7.9\\n',\n",
       " '\\n7.9\\n',\n",
       " '\\n7.9\\n',\n",
       " '\\n7.9\\n',\n",
       " '\\n7.9\\n',\n",
       " '\\n7.9\\n',\n",
       " '\\n7.9\\n',\n",
       " '\\n7.9\\n',\n",
       " '\\n7.9\\n',\n",
       " '\\n7.9\\n',\n",
       " '\\n7.9\\n',\n",
       " '\\n7.9\\n',\n",
       " '\\n7.9\\n',\n",
       " '\\n7.9\\n',\n",
       " '\\n7.9\\n',\n",
       " '\\n7.9\\n',\n",
       " '\\n7.9\\n',\n",
       " '\\n7.9\\n',\n",
       " '\\n7.9\\n',\n",
       " '\\n7.8\\n',\n",
       " '\\n7.8\\n',\n",
       " '\\n7.8\\n',\n",
       " '\\n7.8\\n',\n",
       " '\\n7.8\\n',\n",
       " '\\n7.8\\n',\n",
       " '\\n7.8\\n',\n",
       " '\\n7.8\\n',\n",
       " '\\n7.8\\n',\n",
       " '\\n7.8\\n',\n",
       " '\\n7.8\\n',\n",
       " '\\n7.8\\n',\n",
       " '\\n7.8\\n',\n",
       " '\\n7.8\\n',\n",
       " '\\n7.8\\n',\n",
       " '\\n7.8\\n',\n",
       " '\\n7.8\\n',\n",
       " '\\n7.8\\n',\n",
       " '\\n7.8\\n',\n",
       " '\\n7.8\\n',\n",
       " '\\n7.8\\n',\n",
       " '\\n7.8\\n',\n",
       " '\\n7.8\\n',\n",
       " '\\n7.8\\n',\n",
       " '\\n7.8\\n',\n",
       " '\\n7.8\\n',\n",
       " '\\n7.8\\n',\n",
       " '\\n7.8\\n',\n",
       " '\\n7.8\\n',\n",
       " '\\n7.8\\n',\n",
       " '\\n7.7\\n',\n",
       " '\\n7.7\\n',\n",
       " '\\n7.7\\n',\n",
       " '\\n7.7\\n',\n",
       " '\\n7.7\\n',\n",
       " '\\n7.7\\n',\n",
       " '\\n7.7\\n',\n",
       " '\\n7.7\\n',\n",
       " '\\n7.7\\n',\n",
       " '\\n7.7\\n',\n",
       " '\\n7.7\\n',\n",
       " '\\n7.7\\n',\n",
       " '\\n7.7\\n',\n",
       " '\\n7.7\\n',\n",
       " '\\n7.7\\n',\n",
       " '\\n7.7\\n',\n",
       " '\\n7.7\\n',\n",
       " '\\n7.7\\n',\n",
       " '\\n7.7\\n',\n",
       " '\\n7.7\\n',\n",
       " '\\n7.7\\n',\n",
       " '\\n7.7\\n',\n",
       " '\\n7.7\\n',\n",
       " '\\n7.7\\n',\n",
       " '\\n7.7\\n',\n",
       " '\\n7.7\\n',\n",
       " '\\n7.7\\n',\n",
       " '\\n7.6\\n',\n",
       " '\\n7.6\\n',\n",
       " '\\n7.6\\n',\n",
       " '\\n7.6\\n',\n",
       " '\\n7.6\\n',\n",
       " '\\n7.6\\n',\n",
       " '\\n7.6\\n',\n",
       " '\\n7.6\\n',\n",
       " '\\n7.6\\n',\n",
       " '\\n7.6\\n',\n",
       " '\\n7.6\\n',\n",
       " '\\n7.6\\n',\n",
       " '\\n7.6\\n',\n",
       " '\\n7.6\\n',\n",
       " '\\n7.6\\n',\n",
       " '\\n7.6\\n',\n",
       " '\\n7.6\\n',\n",
       " '\\n7.6\\n',\n",
       " '\\n7.6\\n',\n",
       " '\\n7.6\\n',\n",
       " '\\n7.6\\n',\n",
       " '\\n7.6\\n',\n",
       " '\\n7.6\\n',\n",
       " '\\n7.6\\n',\n",
       " '\\n7.6\\n',\n",
       " '\\n7.6\\n',\n",
       " '\\n7.6\\n',\n",
       " '\\n7.6\\n',\n",
       " '\\n7.6\\n',\n",
       " '\\n7.6\\n',\n",
       " '\\n7.6\\n',\n",
       " '\\n7.6\\n',\n",
       " '\\n7.6\\n']"
      ]
     },
     "execution_count": 22,
     "metadata": {},
     "output_type": "execute_result"
    }
   ],
   "source": [
    "Rating_info = []\n",
    "\n",
    "detail = soup.find_all('td',class_=\"ratingColumn imdbRating\")\n",
    "for i in detail:\n",
    "    Rating_info.append(i.text)\n",
    "Rating_info"
   ]
  },
  {
   "cell_type": "code",
   "execution_count": 23,
   "metadata": {},
   "outputs": [
    {
     "data": {
      "text/plain": [
       "['8.5',\n",
       " '8.5',\n",
       " '8.5',\n",
       " '8.5',\n",
       " '8.5',\n",
       " '8.5',\n",
       " '8.5',\n",
       " '8.5',\n",
       " '8.5',\n",
       " '8.4',\n",
       " '8.4',\n",
       " '8.4',\n",
       " '8.4',\n",
       " '8.4',\n",
       " '8.4',\n",
       " '8.4',\n",
       " '8.3',\n",
       " '8.3',\n",
       " '8.3',\n",
       " '8.3',\n",
       " '8.3',\n",
       " '8.3',\n",
       " '8.3',\n",
       " '8.3',\n",
       " '8.3',\n",
       " '8.3',\n",
       " '8.3',\n",
       " '8.3',\n",
       " '8.3',\n",
       " '8.3',\n",
       " '8.3',\n",
       " '8.3',\n",
       " '8.3',\n",
       " '8.3',\n",
       " '8.2',\n",
       " '8.2',\n",
       " '8.2',\n",
       " '8.2',\n",
       " '8.2',\n",
       " '8.2',\n",
       " '8.2',\n",
       " '8.2',\n",
       " '8.2',\n",
       " '8.2',\n",
       " '8.2',\n",
       " '8.2',\n",
       " '8.2',\n",
       " '8.2',\n",
       " '8.2',\n",
       " '8.2',\n",
       " '8.2',\n",
       " '8.2',\n",
       " '8.2',\n",
       " '8.2',\n",
       " '8.2',\n",
       " '8.2',\n",
       " '8.2',\n",
       " '8.2',\n",
       " '8.2',\n",
       " '8.1',\n",
       " '8.1',\n",
       " '8.1',\n",
       " '8.1',\n",
       " '8.1',\n",
       " '8.1',\n",
       " '8.1',\n",
       " '8.1',\n",
       " '8.1',\n",
       " '8.1',\n",
       " '8.1',\n",
       " '8.1',\n",
       " '8.1',\n",
       " '8.1',\n",
       " '8.1',\n",
       " '8.1',\n",
       " '8.1',\n",
       " '8.1',\n",
       " '8.1',\n",
       " '8.1',\n",
       " '8.1',\n",
       " '8.1',\n",
       " '8.1',\n",
       " '8.1',\n",
       " '8.1',\n",
       " '8.1',\n",
       " '8.1',\n",
       " '8.1',\n",
       " '8.1',\n",
       " '8.1',\n",
       " '8.1',\n",
       " '8.1',\n",
       " '8.1',\n",
       " '8.1',\n",
       " '8.1',\n",
       " '8.1',\n",
       " '8.1',\n",
       " '8.1',\n",
       " '8.1',\n",
       " '8.1',\n",
       " '8.1',\n",
       " '8.1',\n",
       " '8.1',\n",
       " '8.1',\n",
       " '8.1',\n",
       " '8.1',\n",
       " '8.0',\n",
       " '8.0',\n",
       " '8.0',\n",
       " '8.0',\n",
       " '8.0',\n",
       " '8.0',\n",
       " '8.0',\n",
       " '8.0',\n",
       " '8.0',\n",
       " '8.0',\n",
       " '8.0',\n",
       " '8.0',\n",
       " '8.0',\n",
       " '8.0',\n",
       " '8.0',\n",
       " '8.0',\n",
       " '8.0',\n",
       " '8.0',\n",
       " '8.0',\n",
       " '8.0',\n",
       " '8.0',\n",
       " '8.0',\n",
       " '8.0',\n",
       " '8.0',\n",
       " '8.0',\n",
       " '8.0',\n",
       " '8.0',\n",
       " '8.0',\n",
       " '7.9',\n",
       " '7.9',\n",
       " '7.9',\n",
       " '7.9',\n",
       " '7.9',\n",
       " '7.9',\n",
       " '7.9',\n",
       " '7.9',\n",
       " '7.9',\n",
       " '7.9',\n",
       " '7.9',\n",
       " '7.9',\n",
       " '7.9',\n",
       " '7.9',\n",
       " '7.9',\n",
       " '7.9',\n",
       " '7.9',\n",
       " '7.9',\n",
       " '7.9',\n",
       " '7.9',\n",
       " '7.9',\n",
       " '7.9',\n",
       " '7.9',\n",
       " '7.9',\n",
       " '7.9',\n",
       " '7.9',\n",
       " '7.9',\n",
       " '7.8',\n",
       " '7.8',\n",
       " '7.8',\n",
       " '7.8',\n",
       " '7.8',\n",
       " '7.8',\n",
       " '7.8',\n",
       " '7.8',\n",
       " '7.8',\n",
       " '7.8',\n",
       " '7.8',\n",
       " '7.8',\n",
       " '7.8',\n",
       " '7.8',\n",
       " '7.8',\n",
       " '7.8',\n",
       " '7.8',\n",
       " '7.8',\n",
       " '7.8',\n",
       " '7.8',\n",
       " '7.8',\n",
       " '7.8',\n",
       " '7.8',\n",
       " '7.8',\n",
       " '7.8',\n",
       " '7.8',\n",
       " '7.8',\n",
       " '7.8',\n",
       " '7.8',\n",
       " '7.8',\n",
       " '7.7',\n",
       " '7.7',\n",
       " '7.7',\n",
       " '7.7',\n",
       " '7.7',\n",
       " '7.7',\n",
       " '7.7',\n",
       " '7.7',\n",
       " '7.7',\n",
       " '7.7',\n",
       " '7.7',\n",
       " '7.7',\n",
       " '7.7',\n",
       " '7.7',\n",
       " '7.7',\n",
       " '7.7',\n",
       " '7.7',\n",
       " '7.7',\n",
       " '7.7',\n",
       " '7.7',\n",
       " '7.7',\n",
       " '7.7',\n",
       " '7.7',\n",
       " '7.7',\n",
       " '7.7',\n",
       " '7.7',\n",
       " '7.7',\n",
       " '7.6',\n",
       " '7.6',\n",
       " '7.6',\n",
       " '7.6',\n",
       " '7.6',\n",
       " '7.6',\n",
       " '7.6',\n",
       " '7.6',\n",
       " '7.6',\n",
       " '7.6',\n",
       " '7.6',\n",
       " '7.6',\n",
       " '7.6',\n",
       " '7.6',\n",
       " '7.6',\n",
       " '7.6',\n",
       " '7.6',\n",
       " '7.6',\n",
       " '7.6',\n",
       " '7.6',\n",
       " '7.6',\n",
       " '7.6',\n",
       " '7.6',\n",
       " '7.6',\n",
       " '7.6',\n",
       " '7.6',\n",
       " '7.6',\n",
       " '7.6',\n",
       " '7.6',\n",
       " '7.6',\n",
       " '7.6',\n",
       " '7.6',\n",
       " '7.6']"
      ]
     },
     "execution_count": 23,
     "metadata": {},
     "output_type": "execute_result"
    }
   ],
   "source": [
    "Rating_info = []\n",
    "for i in detail:\n",
    "    Rating_info.append(i.text.replace(\"\\n\",\"\").replace(\"\\xa0\",\"\"))\n",
    "Rating_info"
   ]
  },
  {
   "cell_type": "markdown",
   "metadata": {},
   "source": [
    "4. Write a python program to scrap book name, author name, genre and book review of any 5 books from\n",
    "‘www.bookpage.com"
   ]
  },
  {
   "cell_type": "code",
   "execution_count": 24,
   "metadata": {},
   "outputs": [],
   "source": [
    "page=requests.get('https://bookpage.com/reviews')\n",
    "soup=BeautifulSoup(page.content,'html.parser')"
   ]
  },
  {
   "cell_type": "code",
   "execution_count": 25,
   "metadata": {},
   "outputs": [
    {
     "data": {
      "text/plain": [
       "[<h4 class=\"italic\">\n",
       " <a href=\"/reviews/26484-lesa-cline-ransome-being-clem-childrens\">Being Clem</a>\n",
       " </h4>,\n",
       " <h4 class=\"italic\">\n",
       " <a href=\"/reviews/26469-derek-b-miller-how-to-find-your-way-dark-fiction\"> <span style=\"font-style:normal;\">★ </span>How to Find Your Way in the Dark</a>\n",
       " </h4>,\n",
       " <h4 class=\"italic\">\n",
       " <a href=\"/reviews/26544-k-b-wagers-hold-fast-through-fire-science-fiction-fantasy\">Hold Fast Through the Fire</a>\n",
       " </h4>,\n",
       " <h4 class=\"italic\">\n",
       " <a href=\"/reviews/26542-darynda-jones-good-day-chardonnay-mystery-suspense\">A Good Day for Chardonnay</a>\n",
       " </h4>,\n",
       " <h4 class=\"italic\">\n",
       " <a href=\"/reviews/26466-mona-awad-alls-well-fiction\">All’s Well</a>\n",
       " </h4>,\n",
       " <h4 class=\"italic\">\n",
       " <a href=\"/reviews/26490-rodrigo-garcia-farewell-to-gabo-mercedes-nonfiction\"> <span style=\"font-style:normal;\">★ </span>A Farewell to Gabo and Mercedes</a>\n",
       " </h4>,\n",
       " <h4 class=\"italic\">\n",
       " <a href=\"/reviews/26474-jeanne-thornton-summer-fun-fiction\"> <span style=\"font-style:normal;\">★ </span>Summer Fun</a>\n",
       " </h4>,\n",
       " <h4 class=\"italic\">\n",
       " <a href=\"/reviews/26536-malla-nunn-sugar-town-queens-ya\"> <span style=\"font-style:normal;\">★ </span>Sugar Town Queens</a>\n",
       " </h4>,\n",
       " <h4 class=\"italic\">\n",
       " <a href=\"/reviews/26462-natalie-baszile-we-are-each-others-harvest-audio\">We Are Each Other’s Harvest</a>\n",
       " </h4>,\n",
       " <h4 class=\"italic\">\n",
       " <a href=\"/reviews/26485-jerry-spinelli-dead-wednesday-childrens\"> <span style=\"font-style:normal;\">★ </span>Dead Wednesday</a>\n",
       " </h4>]"
      ]
     },
     "execution_count": 25,
     "metadata": {},
     "output_type": "execute_result"
    }
   ],
   "source": [
    "url_tags=soup.find_all(\"h4\",class_=\"italic\")\n",
    "url_tags"
   ]
  },
  {
   "cell_type": "code",
   "execution_count": 26,
   "metadata": {},
   "outputs": [],
   "source": [
    "urls=[]\n",
    "for i in url_tags:\n",
    "    for j in i.find_all(\"a\",href=True):\n",
    "        urls.append(j['href'])\n",
    "        urls"
   ]
  },
  {
   "cell_type": "code",
   "execution_count": 28,
   "metadata": {},
   "outputs": [
    {
     "data": {
      "text/plain": [
       "['/reviews/26484-lesa-cline-ransome-being-clem-childrens',\n",
       " '/reviews/26469-derek-b-miller-how-to-find-your-way-dark-fiction',\n",
       " '/reviews/26544-k-b-wagers-hold-fast-through-fire-science-fiction-fantasy',\n",
       " '/reviews/26542-darynda-jones-good-day-chardonnay-mystery-suspense',\n",
       " '/reviews/26466-mona-awad-alls-well-fiction',\n",
       " '/reviews/26490-rodrigo-garcia-farewell-to-gabo-mercedes-nonfiction',\n",
       " '/reviews/26474-jeanne-thornton-summer-fun-fiction',\n",
       " '/reviews/26536-malla-nunn-sugar-town-queens-ya',\n",
       " '/reviews/26462-natalie-baszile-we-are-each-others-harvest-audio',\n",
       " '/reviews/26485-jerry-spinelli-dead-wednesday-childrens']"
      ]
     },
     "execution_count": 28,
     "metadata": {},
     "output_type": "execute_result"
    }
   ],
   "source": [
    "urls"
   ]
  },
  {
   "cell_type": "code",
   "execution_count": 29,
   "metadata": {},
   "outputs": [],
   "source": [
    "review=[]\n",
    "for i in urls[:5]:\n",
    "    book = requests.get('https://www.bookpage.com'+i)\n",
    "    soup=BeautifulSoup(book.content,'html.parser')\n",
    "    rev=soup.find(\"div\",class_=\"article-body\")\n",
    "    review.append(rev.text)\n",
    "    review"
   ]
  },
  {
   "cell_type": "code",
   "execution_count": 30,
   "metadata": {},
   "outputs": [
    {
     "data": {
      "text/plain": [
       "[\"\\n\\nOn the very first page of Lesa Cline-Ransome’s Being Clem, a knock at the door brings terrible news: Clem’s father has been killed in the 1944 shipyard munitions accident that will become known as the Port Chicago disaster. Clem’s mother, unable to find anyone willing to hire a Black secretary, is soon behind on the rent, and his older sisters, busy with friends and boys, have little time for their little brother’s grief.\\xa0\\nWhen Clem skips a grade to attend middle school, he begins hanging out with Lymon, a new boy in town. But when Lymon begins to bully another new boy, Langston, who shares Clem's affinity for the local public library, Clem must make a difficult choice. Should he go along with Lymon, despite his misgivings, or stand up for the new boy—but risk losing a friend in the process?\\nAs if all this weren’t enough for one boy to deal with, Clem's swimming lessons aren’t going smoothly either. How can Clem grow up to be a Navy man like his father when he’s afraid of the pool? Clem may know all the answers in school, but there's still so much he doesn't understand.\\nAlthough Being Clem can be read independently, fans of Cline-Ransome’s previous books Finding Langston (which received a Coretta Scott King Honor) and Leaving Lymon will appreciate the daring narrative choice to place Clem in friendships with her two previous protagonists—who are, in turn, one another's enemies.\\xa0\\nCline-Ransome also fills Being Clem with rich details from 1940s Chicago, including the real-life, award-winning DuSable High School swim team, whose members were Black and against whom some white teams refused to compete. Cline-Ransome explores societal issues of race, class and gender alongside Clem's more internal struggles to express difficult emotions like fear and sadness. Being Clem gains poignancy from Clem’s personal journey as he mourns the father for whom he is named and whose legacy he hopes he will one day honor.\\xa0\\nALSO IN BOOKPAGE: Being Clem author Lesa Cline-Ransome reveals the real-life inspiration behind Clem and his friends. \\n\\n\",\n",
       " '\\n\\nPrepare for surprises galore in How to Find Your Way in the Dark, a rollicking novel that begins with a lonely truck ride in New England in 1938 and follows its characters through a decade of fascinating history. Just when you think the story is heading one way, it veers in another, completely unexpected direction.\\nTwelve-year-old Sheldon Horowitz and his father are driving home from Hartford, Connecticut, to Whately, Massachusetts, after honoring the one-year anniversary of Sheldon’s mother’s death. She and her sister died in a horrific movie theater fire in Hartford. And as if that isn’t enough tragedy for the novel’s first 13 pages, a truck purposely forces Sheldon and his father’s car off the road during their return trip, and Sheldon’s father dies.\\nReaders of Derek B. Miller’s award-winning thriller, Norwegian by Night, will recognize Sheldon as that novel’s 82-year-old protagonist. As a Tom Sawyer-like boy in How to Find Your Way in the Dark, Sheldon is determined to make sense of his double tragedies, and his attempts to do so take the reader on one hell of a ride. As he seeks out the leering, mustached truck driver who killed his father, his quest leads him straight into danger—think mobsters, guns and jewel thefts.\\nMiller has crafted a wide-ranging, years-spanning yet tightly structured plot, and he excels at placing memorable characters in unusual circumstances. Sheldon is joined in his adventures by his two older cousins, Abe and Mirabelle, and his best friend, Lenny, all of whom play pivotal roles. One summer, Lenny and Sheldon end up as bellhops at the famed Grossinger’s Resort in the Catskills, where Lenny practices standup comedy amid the glamorous, bustling atmosphere.\\nAn underlying seriousness lies at the heart of all of this intrigue, hilarity and fun. Sheldon, Abe, Mirabelle and Lenny, all Jewish, must confront the many faces of antisemitism during the turbulent years of World War II. Miller weaves in a multitude of historical details, including reports of the horrors in Europe and America’s reluctance to intervene.\\nThe ending of How to Find Your Way in the Dark is nothing short of brilliant, tying up a variety of loose ends while making a powerful statement about the need to fully recognize and address antisemitism. Readers are left with much to ponder, including life’s many uncertainties and cruel twists of fate. Despite these unhappy truths, we are also left with the uplifting wisdom of Lenny’s urgent prayer: “Dear God, give me the strength to be joyful.”\\n\\n',\n",
       " '\\n\\nLooking for a quick bit of adrenaline, a spot of intrigue and the drama of an international sports event? Look no further than the second entry in K.B. Wagers’ NeoG series, Hold Fast Through the Fire.\\nThis second book in the author’s military science fiction series picks up roughly a year after the events of A Pale Light in the Black. The crew of Zuma’s Ghost have achieved a repeat victory at the intermilitary Boarding Games, which was quite an achievement given that the Near-Earth Orbital Guard (NeoG) are looked down upon by other branches of the armed forces. Zuma’s Ghost is facing a change of staff, and everyone is uneasy about what that means for the future of the ship. The prelims for the next year’s Games are fast approaching, and the Ghost has been put on a new task force to investigate potential smuggling issues from off-world settlements.\\nNika, still off balance from the loss of his hand, is apprehensive about his new command on Zuma’s Ghost, despite the fact that it was the ship where he cut his teeth as a budding lieutenant. His budding romance with Maxine Carmichael is on the rocks, and to make things worse, he has accepted a secret assignment that will put both Max’s and the crew’s trust to the test. Chae, Zuma’s Ghost’s new pilot, has issues of their own. Forced into the NeoG as part of a plea bargain, they are torn between their growing loyalty to their new crew and the need to keep their fathers safe from intergalactic intrigue. Meanwhile, Max is certain something is desperately wrong with Nika, Chae and their new assignment, but no one will back her up. With Nika effectively gaslighting her to throw her off the scent of his new top-secret mission, Max will have to hew closely to her own instincts if she is going to get the team through the prelims in one piece—let alone their official assignment.\\nUnlike A Pale Light in the Black, Hold Fast Through the Fire’s central mystery begins unrolling nearly at page one, giving the book a more sinister feel than its predecessor and pulling readers into a labyrinthine plot that surprises and delights. This does take away slightly from the Games aspect of the series, but readers who enjoyed A Pale Light in the Black’s focus on the competition won’t be disappointed. When training for the Games does make its appearance, it still packs the same adrenaline-filled punch of A Pale Light in the Black. Despite the increase in intrigue, Wagers devotes ample attention to the relationships among the crew of Zuma’s Ghost. From the exploration of Jenks’ and Max’s close friendship to Chae’s struggles to fit in with the group to Nika’s battle to accept himself after his accident, Hold Fast Through the Fire is as much about found family and interpersonal relationships as it is about mysteries or the Boarding Games.\\nThis brilliant and entertaining installment in the NeoG universe is a great choice for readers looking for military drama, evocative writing and espionage.\\n\\n',\n",
       " '\\n\\nReaders who enjoy murder mysteries\\xa0with lots of intertwined plotlines, quirky characters and zany hijinks topped off with a healthy dose of horniness will be delighted by bestselling author Darynda Jones’ A Good Day for Chardonnay.\\nThe small tourist town of Del Sol, New Mexico, is populated by unruly residents who are staunchly community-minded and happen to be, per Sheriff Sunshine Vicram’s hilariously lusty inner monologues, quite desirable. To wit, her chief deputy and BFF Quincy is “sexy feet, AF inches” tall. And her lifelong crush, local-badboy-turned-wealthy-distillery-owner Levi Ravinder? Well, he and his crime-aficionado family look “as though [they were] chiseled by the gods . . . [with] lean, solid bodies and razor-sharp jawlines.”\\nBut while Sunshine is often mightily distracted by eye candy, she’s also dedicated to—and excellent at—her job. She’s been back in town for four months after being away for 15 years, and she has multiple mysteries to solve. The newest include a bar fight gone terribly wrong; resurfaced cold cases with ties to her own traumatic past; and a raft of false confessions. On top of that, the mayor is pressuring her to figure out if the Dangerous Daughters secret society (rumored to have run the town for decades) is real or just local legend.\\nAnd then there’s Sunshine’s daughter Auri, whom fans met in series kickoff A Bad Day for Sunshine. The smart, reckless teenager is determined to solve crimes just like her mom, and she pursues a sweet old lady who might be a serial killer. Auri is also Sunshine’s personal mystery: at 17, the sheriff was abducted by Levi’s uncle and held captive for five days, after which she emerged pregnant and with severe memory loss.\\nWill Levi’s family finally answer Sunshine’s questions about her abduction? Can she catch the marauding raccoon that’s terrorizing the town? How are the cold cases tied to these complex new crimes? With her trademark warmth and humor, Jones answers some of these questions and raises even more, nicely teeing up the next installment in Sunshine’s complicated, sexy and highly entertaining life story.\\n\\n',\n",
       " '\\n\\nMiranda Fitch, the protagonist of Mona Awad’s third novel, All’s Well, might best be described—to borrow the title of the 1988 Pedro Almodóvar film—as a woman on the verge of a nervous breakdown. A professor of theater studies at a small liberal arts college in Massachusetts, she’s laboring mightily to stage a student production of Shakespeare’s All’s Well That Ends Well, which she thinks of as a “problem play,” one that’s “neither a tragedy nor a comedy. Both, always both.”\\nApart from a rebellious cast, Miranda’s primary obstacle is unremitting pain from an injury she sustained when she tumbled from a stage during her promising but brief acting career. The resulting hip injury led to serious back problems unrelieved by the ministrations of a string of doctors and physical therapists, transforming Miranda, divorced and not yet 40 years old, into a pill-gobbling automaton who has abandoned all hope of her own happy ending.\\nAll’s Well quickly leaves behind this depressingly naturalistic scenario to veer into the realm of fabulism when Miranda encounters three mysterious men in a local pub. The trio, who inexplicably have intimate knowledge of her life and struggles, grace her with what seems like a miracle cure. But as she discovers, even healing can come at a price.\\nAwad efficiently portrays both Miranda’s confrontation with chronic pain and the slowly evaporating patience of the people in her orbit (her ex-husband, Paul; colleague and friend Grace; and Mark, the last in a chain of physical therapists) with her lack of improvement. Anyone who’s been similarly afflicted or knows someone who has will recognize this scenario. Awad leaves it to the reader to assess how much of Miranda’s mental turmoil is the product of an inexplicable but desperately welcome truce in her battle with pain, and how much flows from her encounter with supernatural forces. It’s a wild, at times over-the-top ride, but like Shakespeare’s eponymous work, there’s both pathos and humor in this story of how we suffer and the ways in which we’re healed.\\n\\n']"
      ]
     },
     "execution_count": 30,
     "metadata": {},
     "output_type": "execute_result"
    }
   ],
   "source": [
    "  review"
   ]
  },
  {
   "cell_type": "markdown",
   "metadata": {},
   "source": [
    "5. Write a python program to scrape cricket rankings from ‘www.icc-cricket.com’. You have toscrape:\n",
    "i) Top 10 ODI teams in men’s cricket along with the records for matches, points andrating.\n",
    "ii) Top 10 ODI Batsmen in men along with the records of their team and rating.\n",
    "iii) Top 10 ODI bowlers along with the records of their team andrating."
   ]
  },
  {
   "cell_type": "code",
   "execution_count": 34,
   "metadata": {},
   "outputs": [],
   "source": [
    "url=\"https://www.icc-cricket.com/rankings/mens/team-rankings/odi\"\n",
    "page=requests.get(url)\n",
    "soup=BeautifulSoup(page.content)"
   ]
  },
  {
   "cell_type": "code",
   "execution_count": 35,
   "metadata": {},
   "outputs": [],
   "source": [
    "match=soup.find_all(\"td\",class_='rankings-block__banner--matches')\n"
   ]
  },
  {
   "cell_type": "code",
   "execution_count": 36,
   "metadata": {},
   "outputs": [
    {
     "data": {
      "text/plain": [
       "[<td class=\"rankings-block__banner--matches\">17</td>]"
      ]
     },
     "execution_count": 36,
     "metadata": {},
     "output_type": "execute_result"
    }
   ],
   "source": [
    "match"
   ]
  },
  {
   "cell_type": "code",
   "execution_count": 37,
   "metadata": {},
   "outputs": [],
   "source": [
    "no_of_match=[]\n",
    "match=soup.find_all(\"td\",class_='rankings-block__banner--matches')\n",
    "for i in match:\n",
    "    no_of_match.append(i.text)\n",
    "  "
   ]
  },
  {
   "cell_type": "code",
   "execution_count": 38,
   "metadata": {},
   "outputs": [
    {
     "data": {
      "text/plain": [
       "['17']"
      ]
     },
     "execution_count": 38,
     "metadata": {},
     "output_type": "execute_result"
    }
   ],
   "source": [
    " no_of_match"
   ]
  },
  {
   "cell_type": "code",
   "execution_count": 39,
   "metadata": {},
   "outputs": [],
   "source": [
    "complete_info=[]\n",
    "match_1=soup.find_all(\"td\",class_='table-body__cell u-center-text')\n",
    "for i in match_1:\n",
    "    complete_info.append(i.text)\n",
    "    complete_info"
   ]
  },
  {
   "cell_type": "code",
   "execution_count": 40,
   "metadata": {},
   "outputs": [
    {
     "data": {
      "text/plain": [
       "['32',\n",
       " '3,793',\n",
       " '27',\n",
       " '3,109',\n",
       " '32',\n",
       " '3,624',\n",
       " '22',\n",
       " '2,267',\n",
       " '27',\n",
       " '2,524',\n",
       " '29',\n",
       " '2,639',\n",
       " '29',\n",
       " '2,458',\n",
       " '29',\n",
       " '2,303',\n",
       " '17',\n",
       " '1,054',\n",
       " '7',\n",
       " '336',\n",
       " '23',\n",
       " '1,067',\n",
       " '17',\n",
       " '646',\n",
       " '7',\n",
       " '258',\n",
       " '7',\n",
       " '240',\n",
       " '5',\n",
       " '119',\n",
       " '9',\n",
       " '190',\n",
       " '6',\n",
       " '97',\n",
       " '8',\n",
       " '93',\n",
       " '5',\n",
       " '0']"
      ]
     },
     "execution_count": 40,
     "metadata": {},
     "output_type": "execute_result"
    }
   ],
   "source": [
    " complete_info"
   ]
  },
  {
   "cell_type": "code",
   "execution_count": 41,
   "metadata": {},
   "outputs": [],
   "source": [
    "no_of_match = []\n",
    "for i in range(0,len(complete_info),2):\n",
    "    no_of_match.append(complete_info[i])\n",
    "    no_of_match"
   ]
  },
  {
   "cell_type": "code",
   "execution_count": 42,
   "metadata": {},
   "outputs": [
    {
     "data": {
      "text/plain": [
       "['32',\n",
       " '27',\n",
       " '32',\n",
       " '22',\n",
       " '27',\n",
       " '29',\n",
       " '29',\n",
       " '29',\n",
       " '17',\n",
       " '7',\n",
       " '23',\n",
       " '17',\n",
       " '7',\n",
       " '7',\n",
       " '5',\n",
       " '9',\n",
       " '6',\n",
       " '8',\n",
       " '5']"
      ]
     },
     "execution_count": 42,
     "metadata": {},
     "output_type": "execute_result"
    }
   ],
   "source": [
    "no_of_match"
   ]
  },
  {
   "cell_type": "code",
   "execution_count": 43,
   "metadata": {},
   "outputs": [],
   "source": [
    "no_of_points = []\n",
    "for i in range(1,len(complete_info),2):\n",
    "    no_of_points.append(complete_info[i])\n",
    "    no_of_points"
   ]
  },
  {
   "cell_type": "code",
   "execution_count": 44,
   "metadata": {},
   "outputs": [
    {
     "data": {
      "text/plain": [
       "['3,793',\n",
       " '3,109',\n",
       " '3,624',\n",
       " '2,267',\n",
       " '2,524',\n",
       " '2,639',\n",
       " '2,458',\n",
       " '2,303',\n",
       " '1,054',\n",
       " '336',\n",
       " '1,067',\n",
       " '646',\n",
       " '258',\n",
       " '240',\n",
       " '119',\n",
       " '190',\n",
       " '97',\n",
       " '93',\n",
       " '0']"
      ]
     },
     "execution_count": 44,
     "metadata": {},
     "output_type": "execute_result"
    }
   ],
   "source": [
    "  no_of_points"
   ]
  },
  {
   "cell_type": "code",
   "execution_count": 45,
   "metadata": {},
   "outputs": [],
   "source": [
    "rating_info=[]\n",
    "match_1=soup.find_all(\"td\",class_='table-body__cell u-text-right rating')\n",
    "for i in match_1:\n",
    "    rating_info.append(i.text)\n",
    "    rating_info"
   ]
  },
  {
   "cell_type": "code",
   "execution_count": 46,
   "metadata": {},
   "outputs": [
    {
     "data": {
      "text/plain": [
       "['119',\n",
       " '115',\n",
       " '113',\n",
       " '103',\n",
       " '93',\n",
       " '91',\n",
       " '85',\n",
       " '79',\n",
       " '62',\n",
       " '48',\n",
       " '46',\n",
       " '38',\n",
       " '37',\n",
       " '34',\n",
       " '24',\n",
       " '21',\n",
       " '16',\n",
       " '12',\n",
       " '0']"
      ]
     },
     "execution_count": 46,
     "metadata": {},
     "output_type": "execute_result"
    }
   ],
   "source": [
    "rating_info"
   ]
  },
  {
   "cell_type": "markdown",
   "metadata": {},
   "source": [
    "ii) Top 10 ODI Batsmen in men along with the records of their team and rating."
   ]
  },
  {
   "cell_type": "code",
   "execution_count": 47,
   "metadata": {},
   "outputs": [],
   "source": [
    "url=\"https://www.icc-cricket.com/rankings/mens/player-rankings/odi/batting\"\n",
    "page=requests.get(url)\n",
    "soup=BeautifulSoup(page.content)\n"
   ]
  },
  {
   "cell_type": "code",
   "execution_count": 48,
   "metadata": {},
   "outputs": [],
   "source": [
    "complete_info=[]\n",
    "match_1=soup.find_all(\"tr\",class_=\"table-body\")\n",
    "for i in match_1:\n",
    "    complete_info.append(i.text)\n",
    "    complete_info"
   ]
  },
  {
   "cell_type": "code",
   "execution_count": 49,
   "metadata": {},
   "outputs": [
    {
     "data": {
      "text/plain": [
       "['\\n\\n                                    2\\n        \\n\\n\\nVirat Kohli\\n\\n\\n\\nIND\\n\\n844\\n',\n",
       " '\\n\\n                                    3\\n        \\n\\n\\nRohit Sharma\\n\\n\\n\\nIND\\n\\n813\\n',\n",
       " '\\n\\n                                    4\\n        \\n\\n\\nRoss Taylor\\n\\n\\n\\nNZ\\n\\n801\\n',\n",
       " '\\n\\n                                    5\\n        \\n\\n\\nAaron Finch\\n\\n\\n\\nAUS\\n\\n779\\n',\n",
       " '\\n\\n                                    6\\n        \\n\\n\\nJonny Bairstow\\n\\n\\n\\nENG\\n\\n775\\n',\n",
       " '\\n\\n                                    7\\n        \\n\\n\\n\\nThis player has moved up in the rankings since the previous rankings update\\n\\n\\n\\nDavid Warner\\n\\n\\n\\nAUS\\n\\n762\\n',\n",
       " '\\n\\n                                    8\\n        \\n\\n\\n\\nThis player has moved up in the rankings since the previous rankings update\\n\\n\\n\\nQuinton de Kock\\n\\n\\n\\nSA\\n\\n758\\n',\n",
       " '\\n\\n                                    \\xa0\\xa0\\n        \\n\\n\\n\\nThis player has moved down in the rankings since the previous rankings update\\n\\n\\n\\nShai Hope\\n\\n\\n\\nWI\\n\\n758\\n',\n",
       " '\\n\\n                                    10\\n        \\n\\n\\nKane Williamson\\n\\n\\n\\nNZ\\n\\n754\\n',\n",
       " '\\n\\n                                    2\\n        \\n\\n\\n\\nThis player has moved up in the rankings since the previous rankings update\\n\\n\\n\\nJosh Hazlewood\\n\\n\\n\\nAUS\\n\\n709\\n',\n",
       " '\\n\\n                                    3\\n        \\n\\n\\n\\nThis player has moved down in the rankings since the previous rankings update\\n\\n\\n\\nMujeeb Ur Rahman\\n\\n\\n\\nAFG\\n\\n708\\n',\n",
       " '\\n\\n                                    4\\n        \\n\\n\\n\\nThis player has moved down in the rankings since the previous rankings update\\n\\n\\n\\nChris Woakes\\n\\n\\n\\nENG\\n\\n700\\n',\n",
       " '\\n\\n                                    5\\n        \\n\\n\\n\\nThis player has moved down in the rankings since the previous rankings update\\n\\n\\n\\nMehedi Hasan\\n\\n\\n\\nBAN\\n\\n692\\n',\n",
       " '\\n\\n                                    6\\n        \\n\\n\\n\\nThis player has moved down in the rankings since the previous rankings update\\n\\n\\n\\nMatt Henry\\n\\n\\n\\nNZ\\n\\n691\\n',\n",
       " '\\n\\n                                    7\\n        \\n\\n\\nJasprit Bumrah\\n\\n\\n\\nIND\\n\\n679\\n',\n",
       " '\\n\\n                                    8\\n        \\n\\n\\nMitchell Starc\\n\\n\\n\\nAUS\\n\\n652\\n',\n",
       " '\\n\\n                                    9\\n        \\n\\n\\nShakib Al Hasan\\n\\n\\n\\nBAN\\n\\n650\\n',\n",
       " '\\n\\n                                    10\\n        \\n\\n\\nKagiso Rabada\\n\\n\\n\\nSA\\n\\n648\\n',\n",
       " '\\n\\n                                    2\\n        \\n\\n\\nMohammad Nabi\\n\\n\\n\\nAFG\\n\\n294\\n',\n",
       " '\\n\\n                                    3\\n        \\n\\n\\nChris Woakes\\n\\n\\n\\nENG\\n\\n282\\n',\n",
       " '\\n\\n                                    4\\n        \\n\\n\\nRashid Khan\\n\\n\\n\\nAFG\\n\\n270\\n',\n",
       " '\\n\\n                                    5\\n        \\n\\n\\nMitchell Santner\\n\\n\\n\\nNZ\\n\\n268\\n',\n",
       " '\\n\\n                                    6\\n        \\n\\n\\nBen Stokes\\n\\n\\n\\nENG\\n\\n266\\n',\n",
       " '\\n\\n                                    7\\n        \\n\\n\\nColin de Grandhomme\\n\\n\\n\\nNZ\\n\\n257\\n',\n",
       " '\\n\\n                                    8\\n        \\n\\n\\nImad Wasim\\n\\n\\n\\nPAK\\n\\n256\\n',\n",
       " '\\n\\n                                    9\\n        \\n\\n\\nRavindra Jadeja\\n\\n\\n\\nIND\\n\\n238\\n',\n",
       " '\\n\\n                                    10\\n        \\n\\n\\nSikandar Raza\\n\\n\\n\\nZIM\\n\\n237\\n',\n",
       " '\\n\\n                                    2\\n        \\n\\n\\nVirat Kohli\\n\\n\\n\\nIND\\n\\n844\\n',\n",
       " '\\n\\n                                    3\\n        \\n\\n\\nRohit Sharma\\n\\n\\n\\nIND\\n\\n813\\n',\n",
       " '\\n\\n                                    4\\n        \\n\\n\\nRoss Taylor\\n\\n\\n\\nNZ\\n\\n801\\n',\n",
       " '\\n\\n                                    5\\n        \\n\\n\\nAaron Finch\\n\\n\\n\\nAUS\\n\\n779\\n',\n",
       " '\\n\\n                                    6\\n        \\n\\n\\nJonny Bairstow\\n\\n\\n\\nENG\\n\\n775\\n',\n",
       " '\\n\\n                                    7\\n        \\n\\n\\n\\nThis player has moved up in the rankings since the previous rankings update\\n\\n\\n\\nDavid Warner\\n\\n\\n\\nAUS\\n\\n762\\n',\n",
       " '\\n\\n                                    8\\n        \\n\\n\\n\\nThis player has moved up in the rankings since the previous rankings update\\n\\n\\n\\nQuinton de Kock\\n\\n\\n\\nSA\\n\\n758\\n',\n",
       " '\\n\\n                                    \\xa0\\xa0\\n        \\n\\n\\n\\nThis player has moved down in the rankings since the previous rankings update\\n\\n\\n\\nShai Hope\\n\\n\\n\\nWI\\n\\n758\\n',\n",
       " '\\n\\n                                    10\\n        \\n\\n\\nKane Williamson\\n\\n\\n\\nNZ\\n\\n754\\n',\n",
       " '\\n\\n                                    2\\n        \\n\\n\\n\\nThis player has moved up in the rankings since the previous rankings update\\n\\n\\n\\nJosh Hazlewood\\n\\n\\n\\nAUS\\n\\n709\\n',\n",
       " '\\n\\n                                    3\\n        \\n\\n\\n\\nThis player has moved down in the rankings since the previous rankings update\\n\\n\\n\\nMujeeb Ur Rahman\\n\\n\\n\\nAFG\\n\\n708\\n',\n",
       " '\\n\\n                                    4\\n        \\n\\n\\n\\nThis player has moved down in the rankings since the previous rankings update\\n\\n\\n\\nChris Woakes\\n\\n\\n\\nENG\\n\\n700\\n',\n",
       " '\\n\\n                                    5\\n        \\n\\n\\n\\nThis player has moved down in the rankings since the previous rankings update\\n\\n\\n\\nMehedi Hasan\\n\\n\\n\\nBAN\\n\\n692\\n',\n",
       " '\\n\\n                                    6\\n        \\n\\n\\n\\nThis player has moved down in the rankings since the previous rankings update\\n\\n\\n\\nMatt Henry\\n\\n\\n\\nNZ\\n\\n691\\n',\n",
       " '\\n\\n                                    7\\n        \\n\\n\\nJasprit Bumrah\\n\\n\\n\\nIND\\n\\n679\\n',\n",
       " '\\n\\n                                    8\\n        \\n\\n\\nMitchell Starc\\n\\n\\n\\nAUS\\n\\n652\\n',\n",
       " '\\n\\n                                    9\\n        \\n\\n\\nShakib Al Hasan\\n\\n\\n\\nBAN\\n\\n650\\n',\n",
       " '\\n\\n                                    10\\n        \\n\\n\\nKagiso Rabada\\n\\n\\n\\nSA\\n\\n648\\n',\n",
       " '\\n\\n                                    2\\n        \\n\\n\\nMohammad Nabi\\n\\n\\n\\nAFG\\n\\n294\\n',\n",
       " '\\n\\n                                    3\\n        \\n\\n\\nChris Woakes\\n\\n\\n\\nENG\\n\\n282\\n',\n",
       " '\\n\\n                                    4\\n        \\n\\n\\nRashid Khan\\n\\n\\n\\nAFG\\n\\n270\\n',\n",
       " '\\n\\n                                    5\\n        \\n\\n\\nMitchell Santner\\n\\n\\n\\nNZ\\n\\n268\\n',\n",
       " '\\n\\n                                    6\\n        \\n\\n\\nBen Stokes\\n\\n\\n\\nENG\\n\\n266\\n',\n",
       " '\\n\\n                                    7\\n        \\n\\n\\nColin de Grandhomme\\n\\n\\n\\nNZ\\n\\n257\\n',\n",
       " '\\n\\n                                    8\\n        \\n\\n\\nImad Wasim\\n\\n\\n\\nPAK\\n\\n256\\n',\n",
       " '\\n\\n                                    9\\n        \\n\\n\\nRavindra Jadeja\\n\\n\\n\\nIND\\n\\n238\\n',\n",
       " '\\n\\n                                    10\\n        \\n\\n\\nSikandar Raza\\n\\n\\n\\nZIM\\n\\n237\\n']"
      ]
     },
     "execution_count": 49,
     "metadata": {},
     "output_type": "execute_result"
    }
   ],
   "source": [
    "    complete_info"
   ]
  },
  {
   "cell_type": "code",
   "execution_count": 51,
   "metadata": {},
   "outputs": [
    {
     "data": {
      "text/plain": [
       "['                                    2        Virat KohliIND844',\n",
       " '                                    3        Rohit SharmaIND813',\n",
       " '                                    4        Ross TaylorNZ801',\n",
       " '                                    5        Aaron FinchAUS779',\n",
       " '                                    6        Jonny BairstowENG775',\n",
       " '                                    7        This player has moved up in the rankings since the previous rankings updateDavid WarnerAUS762',\n",
       " '                                    8        This player has moved up in the rankings since the previous rankings updateQuinton de KockSA758',\n",
       " '                                            This player has moved down in the rankings since the previous rankings updateShai HopeWI758',\n",
       " '                                    10        Kane WilliamsonNZ754',\n",
       " '                                    2        This player has moved up in the rankings since the previous rankings updateJosh HazlewoodAUS709',\n",
       " '                                    3        This player has moved down in the rankings since the previous rankings updateMujeeb Ur RahmanAFG708',\n",
       " '                                    4        This player has moved down in the rankings since the previous rankings updateChris WoakesENG700',\n",
       " '                                    5        This player has moved down in the rankings since the previous rankings updateMehedi HasanBAN692',\n",
       " '                                    6        This player has moved down in the rankings since the previous rankings updateMatt HenryNZ691',\n",
       " '                                    7        Jasprit BumrahIND679',\n",
       " '                                    8        Mitchell StarcAUS652',\n",
       " '                                    9        Shakib Al HasanBAN650',\n",
       " '                                    10        Kagiso RabadaSA648',\n",
       " '                                    2        Mohammad NabiAFG294',\n",
       " '                                    3        Chris WoakesENG282',\n",
       " '                                    4        Rashid KhanAFG270',\n",
       " '                                    5        Mitchell SantnerNZ268',\n",
       " '                                    6        Ben StokesENG266',\n",
       " '                                    7        Colin de GrandhommeNZ257',\n",
       " '                                    8        Imad WasimPAK256',\n",
       " '                                    9        Ravindra JadejaIND238',\n",
       " '                                    10        Sikandar RazaZIM237',\n",
       " '                                    2        Virat KohliIND844',\n",
       " '                                    3        Rohit SharmaIND813',\n",
       " '                                    4        Ross TaylorNZ801',\n",
       " '                                    5        Aaron FinchAUS779',\n",
       " '                                    6        Jonny BairstowENG775',\n",
       " '                                    7        This player has moved up in the rankings since the previous rankings updateDavid WarnerAUS762',\n",
       " '                                    8        This player has moved up in the rankings since the previous rankings updateQuinton de KockSA758',\n",
       " '                                            This player has moved down in the rankings since the previous rankings updateShai HopeWI758',\n",
       " '                                    10        Kane WilliamsonNZ754',\n",
       " '                                    2        This player has moved up in the rankings since the previous rankings updateJosh HazlewoodAUS709',\n",
       " '                                    3        This player has moved down in the rankings since the previous rankings updateMujeeb Ur RahmanAFG708',\n",
       " '                                    4        This player has moved down in the rankings since the previous rankings updateChris WoakesENG700',\n",
       " '                                    5        This player has moved down in the rankings since the previous rankings updateMehedi HasanBAN692',\n",
       " '                                    6        This player has moved down in the rankings since the previous rankings updateMatt HenryNZ691',\n",
       " '                                    7        Jasprit BumrahIND679',\n",
       " '                                    8        Mitchell StarcAUS652',\n",
       " '                                    9        Shakib Al HasanBAN650',\n",
       " '                                    10        Kagiso RabadaSA648',\n",
       " '                                    2        Mohammad NabiAFG294',\n",
       " '                                    3        Chris WoakesENG282',\n",
       " '                                    4        Rashid KhanAFG270',\n",
       " '                                    5        Mitchell SantnerNZ268',\n",
       " '                                    6        Ben StokesENG266',\n",
       " '                                    7        Colin de GrandhommeNZ257',\n",
       " '                                    8        Imad WasimPAK256',\n",
       " '                                    9        Ravindra JadejaIND238',\n",
       " '                                    10        Sikandar RazaZIM237']"
      ]
     },
     "execution_count": 51,
     "metadata": {},
     "output_type": "execute_result"
    }
   ],
   "source": [
    "complete_info = []\n",
    "for i in match_1:\n",
    "    complete_info.append(i.text.replace(\"\\n\",\"\").replace(\"\\xa0\",\"\"))\n",
    "complete_info"
   ]
  },
  {
   "cell_type": "code",
   "execution_count": 52,
   "metadata": {},
   "outputs": [],
   "source": [
    "rating_info=[]\n",
    "match_1=soup.find_all(\"td\",class_='table-body__cell u-text-right rating')\n",
    "for i in match_1:\n",
    "    rating_info.append(i.text)\n",
    "    rating_info"
   ]
  },
  {
   "cell_type": "code",
   "execution_count": 53,
   "metadata": {},
   "outputs": [
    {
     "data": {
      "text/plain": [
       "['844',\n",
       " '813',\n",
       " '801',\n",
       " '779',\n",
       " '775',\n",
       " '762',\n",
       " '758',\n",
       " '758',\n",
       " '754',\n",
       " '709',\n",
       " '708',\n",
       " '700',\n",
       " '692',\n",
       " '691',\n",
       " '679',\n",
       " '652',\n",
       " '650',\n",
       " '648',\n",
       " '294',\n",
       " '282',\n",
       " '270',\n",
       " '268',\n",
       " '266',\n",
       " '257',\n",
       " '256',\n",
       " '238',\n",
       " '237',\n",
       " '844',\n",
       " '813',\n",
       " '801',\n",
       " '779',\n",
       " '775',\n",
       " '762',\n",
       " '758',\n",
       " '758',\n",
       " '754',\n",
       " '709',\n",
       " '708',\n",
       " '700',\n",
       " '692',\n",
       " '691',\n",
       " '679',\n",
       " '652',\n",
       " '650',\n",
       " '648',\n",
       " '294',\n",
       " '282',\n",
       " '270',\n",
       " '268',\n",
       " '266',\n",
       " '257',\n",
       " '256',\n",
       " '238',\n",
       " '237']"
      ]
     },
     "execution_count": 53,
     "metadata": {},
     "output_type": "execute_result"
    }
   ],
   "source": [
    "rating_info"
   ]
  },
  {
   "cell_type": "markdown",
   "metadata": {},
   "source": [
    "iii) Top 10 ODI bowlers along with the records of their team andrating."
   ]
  },
  {
   "cell_type": "code",
   "execution_count": 96,
   "metadata": {},
   "outputs": [
    {
     "data": {
      "text/plain": [
       "<Response [200]>"
      ]
     },
     "execution_count": 96,
     "metadata": {},
     "output_type": "execute_result"
    }
   ],
   "source": [
    "url = \"https://www.icc-cricket.com/rankings/mens/player-rankings/odi/bowling\"\n",
    "page=requests.get(url)\n",
    "soup=BeautifulSoup(page.content)\n",
    "page"
   ]
  },
  {
   "cell_type": "code",
   "execution_count": 101,
   "metadata": {},
   "outputs": [],
   "source": [
    "complete_info=[]\n",
    "match_1=soup.find_all(\"tr\",class_=\"table-body\")\n",
    "for i in match_1:\n",
    "    complete_info.append(i.text)\n",
    "    complete_info"
   ]
  },
  {
   "cell_type": "code",
   "execution_count": 102,
   "metadata": {},
   "outputs": [
    {
     "data": {
      "text/plain": [
       "['\\n\\n                            2\\n        \\n\\n\\n\\nThis player has moved up in the rankings since the previous rankings update\\n\\n\\n\\nJosh Hazlewood\\n\\n\\n\\nAUS\\n\\n709\\n\\n                                733 v England, 26/01/2018\\n                        \\n',\n",
       " '\\n\\n                            3\\n        \\n\\n\\n\\nThis player has moved down in the rankings since the previous rankings update\\n\\n\\n\\nMujeeb Ur Rahman\\n\\n\\n\\nAFG\\n\\n708\\n\\n                                712 v Ireland, 24/01/2021\\n                        \\n',\n",
       " '\\n\\n                            4\\n        \\n\\n\\n\\nThis player has moved down in the rankings since the previous rankings update\\n\\n\\n\\nChris Woakes\\n\\n\\n\\nENG\\n\\n700\\n\\n                                711 v Sri Lanka, 04/07/2021\\n                        \\n',\n",
       " '\\n\\n                            5\\n        \\n\\n\\n\\nThis player has moved down in the rankings since the previous rankings update\\n\\n\\n\\nMehedi Hasan\\n\\n\\n\\nBAN\\n\\n692\\n\\n                                725 v Sri Lanka, 25/05/2021\\n                        \\n',\n",
       " '\\n\\n                            6\\n        \\n\\n\\n\\nThis player has moved down in the rankings since the previous rankings update\\n\\n\\n\\nMatt Henry\\n\\n\\n\\nNZ\\n\\n691\\n\\n                                691 v Bangladesh, 26/03/2021\\n                        \\n',\n",
       " '\\n\\n                            7\\n        \\n\\n\\nJasprit Bumrah\\n\\n\\n\\nIND\\n\\n679\\n\\n                                841 v West Indies, 01/11/2018\\n                        \\n',\n",
       " '\\n\\n                            8\\n        \\n\\n\\nMitchell Starc\\n\\n\\n\\nAUS\\n\\n652\\n\\n                                783 v New Zealand, 29/03/2015\\n                        \\n',\n",
       " '\\n\\n                            9\\n        \\n\\n\\nShakib Al Hasan\\n\\n\\n\\nBAN\\n\\n650\\n\\n                                717 v Zimbabwe, 05/11/2009\\n                        \\n',\n",
       " '\\n\\n                            10\\n        \\n\\n\\nKagiso Rabada\\n\\n\\n\\nSA\\n\\n648\\n\\n                                724 v England, 29/05/2017\\n                        \\n',\n",
       " '\\n\\n                            11\\n        \\n\\n\\nMustafizur Rahman\\n\\n\\n\\nBAN\\n\\n640\\n\\n                                695 v West Indies, 14/12/2018\\n                        \\n',\n",
       " '\\n\\n                            12\\n        \\n\\n\\nPat Cummins\\n\\n\\n\\nAUS\\n\\n636\\n\\n                                729 v Pakistan, 12/06/2019\\n                        \\n',\n",
       " '\\n\\n                            13\\n        \\n\\n\\nShaheen Afridi\\n\\n\\n\\nPAK\\n\\n630\\n\\n                                637 v England, 08/07/2021\\n                        \\n',\n",
       " '\\n\\n                            14\\n        \\n\\n\\nMohammad Amir\\n\\n\\n\\nPAK\\n\\n628\\n\\n                                663 v Sri Lanka, 02/10/2019\\n                        \\n',\n",
       " '\\n\\n                            15\\n        \\n\\n\\nRashid Khan\\n\\n\\n\\nAFG\\n\\n626\\n\\n                                806 v Pakistan, 21/09/2018\\n                        \\n',\n",
       " '\\n\\n                            16\\n        \\n\\n\\n\\nThis player has moved up in the rankings since the previous rankings update\\n\\n\\n\\nAdam Zampa\\n\\n\\n\\nAUS\\n\\n625\\n\\n                                625 v West Indies, 26/07/2021\\n                        \\n',\n",
       " '\\n\\n                            17\\n        \\n\\n\\n\\nThis player has moved down in the rankings since the previous rankings update\\n\\n\\n\\nBhuvneshwar Kumar\\n\\n\\n\\nIND\\n\\n621\\n\\n                                657 v West Indies, 17/10/2014\\n                        \\n',\n",
       " '\\n\\n                            18\\n        \\n\\n\\n\\nThis player has moved down in the rankings since the previous rankings update\\n\\n\\n\\nLachlan Ferguson\\n\\n\\n\\nNZ\\n\\n619\\n\\n                                668 v West Indies, 22/06/2019\\n                        \\n',\n",
       " '\\n\\n                            19\\n        \\n\\n\\n\\nThis player has moved down in the rankings since the previous rankings update\\n\\n\\n\\nJofra Archer\\n\\n\\n\\nENG\\n\\n609\\n\\n                                642 v Australia, 13/09/2020\\n                        \\n',\n",
       " '\\n\\n                            20\\n        \\n\\n\\nAkila Dananjaya\\n\\n\\n\\nSL\\n\\n604\\n\\n                                651 v England, 23/10/2018\\n                        \\n',\n",
       " '\\n\\n                            21\\n        \\n\\n\\nYuzvendra Chahal\\n\\n\\n\\nIND\\n\\n603\\n\\n                                730 v New Zealand, 23/01/2019\\n                        \\n',\n",
       " '\\n\\n                            22\\n        \\n\\n\\nLungi Ngidi\\n\\n\\n\\nSA\\n\\n599\\n\\n                                621 v Australia, 04/03/2020\\n                        \\n',\n",
       " '\\n\\n                            23\\n        \\n\\n\\nMohammad Nabi\\n\\n\\n\\nAFG\\n\\n596\\n\\n                                653 v Zimbabwe, 26/02/2017\\n                        \\n',\n",
       " '\\n\\n                            24\\n        \\n\\n\\nMark Wood\\n\\n\\n\\nENG\\n\\n594\\n\\n                                615 v Afghanistan, 18/06/2019\\n                        \\n',\n",
       " '\\n\\n                            25\\n        \\n\\n\\nAlzarri Joseph\\n\\n\\n\\nWI\\n\\n592\\n\\n                                594 v Australia, 22/07/2021\\n                        \\n',\n",
       " '\\n\\n                            26\\n        \\n\\n\\nMitchell Santner\\n\\n\\n\\nNZ\\n\\n583\\n\\n                                663 v England, 25/02/2018\\n                        \\n',\n",
       " '\\n\\n                            27\\n        \\n\\n\\nMohammad Shami\\n\\n\\n\\nIND\\n\\n566\\n\\n                                654 v Bangladesh, 19/03/2015\\n                        \\n',\n",
       " '\\n\\n                            28\\n        \\n\\n\\n\\nThis player has moved up in the rankings since the previous rankings update\\n\\n\\n\\nKuldeep Yadav\\n\\n\\n\\nIND\\n\\n562\\n\\n                                765 v New Zealand, 26/01/2019\\n                        \\n',\n",
       " '\\n\\n                            29\\n        \\n\\n\\n\\nThis player has moved up in the rankings since the previous rankings update\\n\\n\\n\\nRavindra Jadeja\\n\\n\\n\\nIND\\n\\n550\\n\\n                                738 v Zimbabwe, 01/08/2013\\n                        \\n',\n",
       " '\\n\\n                            30\\n        \\n\\n\\n\\nThis player has moved down in the rankings since the previous rankings update\\n\\n\\n\\nSheldon Cottrell\\n\\n\\n\\nWI\\n\\n541\\n\\n                                581 v Sri Lanka, 26/02/2020\\n                        \\n',\n",
       " '\\n\\n                            31\\n        \\n\\n\\nAhmed Raza\\n\\n\\n\\nUAE\\n\\n531\\n\\n                                531 v Ireland, 18/01/2021\\n                        \\n',\n",
       " '\\n\\n                            32\\n        \\n\\n\\nAndy McBrine\\n\\n\\n\\nIRE\\n\\n527\\n\\n                                570 v Zimbabwe, 01/07/2019\\n                        \\n',\n",
       " '\\n\\n                            33\\n        \\n\\n\\nShadab Khan\\n\\n\\n\\nPAK\\n\\n517\\n\\n                                607 v South Africa, 22/01/2019\\n                        \\n',\n",
       " '\\n\\n                            34\\n        \\n\\n\\nDushmantha Chameera\\n\\n\\n\\nSL\\n\\n514\\n\\n                                538 v England, 29/06/2021\\n                        \\n',\n",
       " '\\n\\n                            35\\n        \\n\\n\\nWanindu De Silva\\n\\n\\n\\nSL\\n\\n508\\n\\n                                511 v India, 20/07/2021\\n                        \\n',\n",
       " '\\n\\n\\n\\n\\nColin de Grandhomme\\n\\n\\n\\nNZ\\n\\n508\\n\\n                                522 v India, 11/02/2020\\n                        \\n',\n",
       " '\\n\\n                            37\\n        \\n\\n\\nTabraiz Shamsi\\n\\n\\n\\nSA\\n\\n501\\n\\n                                501 v Ireland, 16/07/2021\\n                        \\n',\n",
       " '\\n\\n\\n\\n\\nDavid Willey\\n\\n\\n\\nENG\\n\\n501\\n\\n                                551 v Sri Lanka, 02/07/2016\\n                        \\n',\n",
       " '\\n\\n                            39\\n        \\n\\n\\nTim Southee\\n\\n\\n\\nNZ\\n\\n500\\n\\n                                638 v England, 20/02/2015\\n                        \\n',\n",
       " '\\n\\n                            40\\n        \\n\\n\\nAndile Phehlukwayo\\n\\n\\n\\nSA\\n\\n497\\n\\n                                613 v Pakistan, 30/01/2019\\n                        \\n',\n",
       " '\\n\\n\\n\\n\\nAdil Rashid\\n\\n\\n\\nENG\\n\\n497\\n\\n                                687 v Sri Lanka, 20/10/2018\\n                        \\n',\n",
       " '\\n\\n                            42\\n        \\n\\n\\nIsh Sodhi\\n\\n\\n\\n\\n\\n496\\n\\n\\n',\n",
       " '\\n\\n                            43\\n        \\n\\n\\nMark Watt\\n\\n\\n\\nSCO\\n\\n490\\n\\n                                495 v United States, 14/12/2019\\n                        \\n',\n",
       " '\\n\\n                            44\\n        \\n\\n\\nImad Wasim\\n\\n\\n\\nPAK\\n\\n488\\n\\n                                570 v England, 19/05/2019\\n                        \\n',\n",
       " '\\n\\n                            45\\n        \\n\\n\\n\\nThis player has moved up in the rankings since the previous rankings update\\n\\n\\n\\nHasan Ali\\n\\n\\n\\nPAK\\n\\n483\\n\\n                                766 v New Zealand, 06/01/2018\\n                        \\n',\n",
       " '\\n\\n                            46\\n        \\n\\n\\n\\nThis player has moved up in the rankings since the previous rankings update\\n\\n\\n\\nUsman Khan\\n\\n\\n\\nPAK\\n\\n482\\n\\n                                504 v Sri Lanka, 02/10/2019\\n                        \\n',\n",
       " '\\n\\n                            47\\n        \\n\\n\\n\\nThis player has moved down in the rankings since the previous rankings update\\n\\n\\n\\nJhye Richardson\\n\\n\\n\\nAUS\\n\\n480\\n\\n                                548 v Pakistan, 24/03/2019\\n                        \\n',\n",
       " '\\n\\n                            48\\n        \\n\\n\\nRohan Mustafa\\n\\n\\n\\nUAE\\n\\n477\\n\\n                                477 v Ireland, 18/01/2021\\n                        \\n',\n",
       " '\\n\\n                            49\\n        \\n\\n\\nSimi Singh\\n\\n\\n\\nIRE\\n\\n473\\n\\n                                474 v Netherlands, 07/06/2021\\n                        \\n',\n",
       " '\\n\\n                            50\\n        \\n\\n\\nMashrafe Mortaza\\n\\n\\n\\nBAN\\n\\n469\\n\\n                                653 v Zimbabwe, 23/01/2009\\n                        \\n',\n",
       " '\\n\\n                            51\\n        \\n\\n\\nMohammad Mohammad Saifuddin\\n\\n\\n\\nBAN\\n\\n468\\n\\n                                496 v West Indies, 25/01/2021\\n                        \\n',\n",
       " '\\n\\n                            52\\n        \\n\\n\\nSafyaan Sharif\\n\\n\\n\\nSCO\\n\\n467\\n\\n                                542 v England, 10/06/2018\\n                        \\n',\n",
       " '\\n\\n                            53\\n        \\n\\n\\nTendai Chatara\\n\\n\\n\\nZIM\\n\\n465\\n\\n                                562 v Ireland, 07/03/2015\\n                        \\n',\n",
       " '\\n\\n                            54\\n        \\n\\n\\nNuwan Pradeep\\n\\n\\n\\nSL\\n\\n459\\n\\n                                506 v England, 13/10/2018\\n                        \\n',\n",
       " '\\n\\n                            55\\n        \\n\\n\\nJimmy Neesham\\n\\n\\n\\nNZ\\n\\n458\\n\\n                                458 v Bangladesh, 26/03/2021\\n                        \\n',\n",
       " '\\n\\n                            56\\n        \\n\\n\\nSaqib Mahmood\\n\\n\\n\\nENG\\n\\n454\\n\\n                                454 v Pakistan, 13/07/2021\\n                        \\n',\n",
       " '\\n\\n                            57\\n        \\n\\n\\n\\nThis player has moved up in the rankings since the previous rankings update\\n\\n\\n\\nJason Holder\\n\\n\\n\\nWI\\n\\n451\\n\\n                                486 v Sri Lanka, 10/03/2021\\n                        \\n',\n",
       " '\\n\\n                            58\\n        \\n\\n\\n\\nThis player has moved down in the rankings since the previous rankings update\\n\\n\\n\\nMoeen Ali\\n\\n\\n\\nENG\\n\\n449\\n\\n                                629 v Australia, 24/06/2018\\n                        \\n',\n",
       " '\\n\\n                            59\\n        \\n\\n\\nWahab Riaz\\n\\n\\n\\nPAK\\n\\n447\\n\\n                                522 v England, 13/11/2015\\n                        \\n',\n",
       " '\\n\\n                            60\\n        \\n\\n\\nFaheem Ashraf\\n\\n\\n\\nPAK\\n\\n445\\n\\n                                477 v South Africa, 02/04/2021\\n                        \\n',\n",
       " '\\n\\n                            61\\n        \\n\\n\\n\\nThis player has moved up in the rankings since the previous rankings update\\n\\n\\n\\nAkeal Hosein\\n\\n\\n\\nWI\\n\\n443\\n\\n                                443 v Australia, 26/07/2021\\n                        \\n',\n",
       " '\\n\\n\\n\\n\\n\\nThis player has moved down in the rankings since the previous rankings update\\n\\n\\n\\nSuranga Lakmal\\n\\n\\n\\nSL\\n\\n443\\n\\n                                594 v Bangladesh, 25/01/2018\\n                        \\n',\n",
       " '\\n\\n                            63\\n        \\n\\n\\n\\nThis player has moved down in the rankings since the previous rankings update\\n\\n\\n\\nSikandar Raza\\n\\n\\n\\nZIM\\n\\n440\\n\\n                                494 v UAE, 16/04/2019\\n                        \\n',\n",
       " '\\n\\n                            64\\n        \\n\\n\\n\\nThis player has moved down in the rankings since the previous rankings update\\n\\n\\n\\nBlessing Muzarabani\\n\\n\\n\\nZIM\\n\\n437\\n\\n                                440 v Bangladesh, 18/07/2021\\n                        \\n',\n",
       " '\\n\\n                            65\\n        \\n\\n\\n\\nThis player has moved down in the rankings since the previous rankings update\\n\\n\\n\\nTom Curran\\n\\n\\n\\nENG\\n\\n436\\n\\n                                443 v Sri Lanka, 04/07/2021\\n                        \\n',\n",
       " '\\n\\n\\n\\n\\n\\nThis player has moved up in the rankings since the previous rankings update\\n\\n\\n\\nAshton Agar\\n\\n\\n\\nAUS\\n\\n436\\n\\n                                436 v West Indies, 26/07/2021\\n                        \\n',\n",
       " '\\n\\n                            67\\n        \\n\\n\\n\\nThis player has moved down in the rankings since the previous rankings update\\n\\n\\n\\nTaskin Ahmed\\n\\n\\n\\nBAN\\n\\n434\\n\\n                                456 v Sri Lanka, 28/03/2017\\n                        \\n',\n",
       " '\\n\\n                            68\\n        \\n\\n\\n\\nThis player has moved down in the rankings since the previous rankings update\\n\\n\\n\\nAnrich Nortje\\n\\n\\n\\nSA\\n\\n431\\n\\n                                431 v Ireland, 16/07/2021\\n                        \\n',\n",
       " '\\n\\n                            69\\n        \\n\\n\\n\\nThis player has moved down in the rankings since the previous rankings update\\n\\n\\n\\nJosh Davey\\n\\n\\n\\nSCO\\n\\n427\\n\\n                                436 v UAE, 15/12/2019\\n                        \\n',\n",
       " '\\n\\n                            70\\n        \\n\\n\\n\\nThis player has moved down in the rankings since the previous rankings update\\n\\n\\n\\nJoshua Little\\n\\n\\n\\nIRE\\n\\n421\\n\\n                                421 v South Africa, 16/07/2021\\n                        \\n',\n",
       " '\\n\\n\\n\\n\\n\\nThis player has moved down in the rankings since the previous rankings update\\n\\n\\n\\nCraig Young\\n\\n\\n\\nIRE\\n\\n421\\n\\n                                421 v South Africa, 16/07/2021\\n                        \\n',\n",
       " '\\n\\n                            72\\n        \\n\\n\\n\\nThis player has moved down in the rankings since the previous rankings update\\n\\n\\n\\nSean Williams\\n\\n\\n\\nZIM\\n\\n420\\n\\n                                474 v Sri Lanka, 30/06/2017\\n                        \\n',\n",
       " '\\n\\n                            73\\n        \\n\\n\\n\\nThis player has moved down in the rankings since the previous rankings update\\n\\n\\n\\nKane Richardson\\n\\n\\n\\nAUS\\n\\n416\\n\\n                                448 v India, 17/01/2020\\n                        \\n',\n",
       " '\\n\\n                            74\\n        \\n\\n\\n\\nThis player has moved down in the rankings since the previous rankings update\\n\\n\\n\\nBen Stokes\\n\\n\\n\\nENG\\n\\n410\\n\\n                                474 v New Zealand, 03/07/2019\\n                        \\n',\n",
       " '\\n\\n                            75\\n        \\n\\n\\n\\nThis player has moved down in the rankings since the previous rankings update\\n\\n\\n\\nShardul Thakur\\n\\n\\n\\nIND\\n\\n405\\n\\n                                411 v England, 28/03/2021\\n                        \\n',\n",
       " '\\n\\n                            76\\n        \\n\\n\\nRubel Hossain\\n\\n\\n\\nBAN\\n\\n400\\n\\n                                514 v Pakistan, 01/12/2011\\n                        \\n',\n",
       " '\\n\\n                            77\\n        \\n\\n\\nGulbadin Naib\\n\\n\\n\\nAFG\\n\\n399\\n\\n                                472 v Ireland, 21/05/2019\\n                        \\n',\n",
       " '\\n\\n                            78\\n        \\n\\n\\nHardik Pandya\\n\\n\\n\\nIND\\n\\n394\\n\\n                                552 v South Africa, 16/02/2018\\n                        \\n',\n",
       " '\\n\\n\\n\\n\\nAlasdair Evans\\n\\n\\n\\nSCO\\n\\n394\\n\\n                                421 v England, 10/06/2018\\n                        \\n',\n",
       " '\\n\\n\\n\\n\\nKeshav Maharaj\\n\\n\\n\\nSA\\n\\n394\\n\\n                                394 v Ireland, 16/07/2021\\n                        \\n',\n",
       " '\\n\\n                            81\\n        \\n\\n\\nBarry McCarthy\\n\\n\\n\\nIRE\\n\\n391\\n\\n                                448 v West Indies, 09/01/2020\\n                        \\n',\n",
       " '\\n\\n                            82\\n        \\n\\n\\n\\nThis player has moved down in the rankings since the previous rankings update\\n\\n\\n\\nMitchell Marsh\\n\\n\\n\\nAUS\\n\\n390\\n\\n                                511 v New Zealand, 04/12/2016\\n                        \\n',\n",
       " '\\n\\n                            83\\n        \\n\\n\\n\\nThis player has moved down in the rankings since the previous rankings update\\n\\n\\n\\nDhananjaya de Silva\\n\\n\\n\\nSL\\n\\n388\\n\\n                                412 v Bangladesh, 23/05/2021\\n                        \\n',\n",
       " '\\n\\n                            84\\n        \\n\\n\\n\\nThis player has moved down in the rankings since the previous rankings update\\n\\n\\n\\nMarcus Stoinis\\n\\n\\n\\nAUS\\n\\n377\\n\\n                                426 v England, 25/06/2019\\n                        \\n',\n",
       " '\\n\\n                            85\\n        \\n\\n\\n\\nThis player has moved down in the rankings since the previous rankings update\\n\\n\\n\\nLakshan Sandakan\\n\\n\\n\\nSL\\n\\n376\\n\\n                                383 v Bangladesh, 25/05/2021\\n                        \\n',\n",
       " '\\n\\n                            86\\n        \\n\\n\\n\\nThis player has moved down in the rankings since the previous rankings update\\n\\n\\n\\nTaijul Islam\\n\\n\\n\\nBAN\\n\\n374\\n\\n                                397 v Zimbabwe, 06/03/2020\\n                        \\n',\n",
       " '\\n\\n                            87\\n        \\n\\n\\nMohammad Nawaz\\n\\n\\n\\nPAK\\n\\n370\\n\\n                                376 v South Africa, 07/04/2021\\n                        \\n',\n",
       " '\\n\\n                            88\\n        \\n\\n\\nDonald Tiripano\\n\\n\\n\\nZIM\\n\\n367\\n\\n                                373 v Pakistan, 03/11/2020\\n                        \\n',\n",
       " '\\n\\n                            89\\n        \\n\\n\\nAssad Vala\\n\\n\\n\\nPNG\\n\\n361\\n\\n                                369 v Namibia, 23/09/2019\\n                        \\n',\n",
       " '\\n\\n                            90\\n        \\n\\n\\nFred Klaassen\\n\\n\\n\\nNED\\n\\n358\\n\\n                                358 v Ireland, 07/06/2021\\n                        \\n',\n",
       " '\\n\\n                            91\\n        \\n\\n\\n\\nThis player has moved up in the rankings since the previous rankings update\\n\\n\\n\\nGeorge Dockrell\\n\\n\\n\\nIRE\\n\\n357\\n\\n                                589 v West Indies, 16/02/2015\\n                        \\n',\n",
       " '\\n\\n                            92\\n        \\n\\n\\n\\nThis player has moved down in the rankings since the previous rankings update\\n\\n\\n\\nOshane Thomas\\n\\n\\n\\nWI\\n\\n355\\n\\n                                419 v Australia, 06/06/2019\\n                        \\n',\n",
       " '\\n\\n                            93\\n        \\n\\n\\nKyle Jamieson\\n\\n\\n\\nNZ\\n\\n352\\n\\n                                352 v Bangladesh, 26/03/2021\\n                        \\n',\n",
       " '\\n\\n                            94\\n        \\n\\n\\nMichael Leask\\n\\n\\n\\nSCO\\n\\n351\\n\\n                                362 v Papua New Guinea, 17/08/2019\\n                        \\n',\n",
       " '\\n\\n                            95\\n        \\n\\n\\nZeeshan Maqsood\\n\\n\\n\\nOMA\\n\\n350\\n\\n                                350 v United States, 11/02/2020\\n                        \\n',\n",
       " '\\n\\n                            96\\n        \\n\\n\\n\\nThis player has moved up in the rankings since the previous rankings update\\n\\n\\n\\nSharafuddin Ashraf\\n\\n\\n\\nAFG\\n\\n347\\n\\n                                354 v West Indies, 25/03/2018\\n                        \\n',\n",
       " '\\n\\n\\n\\n\\n\\nThis player has moved down in the rankings since the previous rankings update\\n\\n\\n\\nRoston Chase\\n\\n\\n\\n\\n\\n347\\n\\n\\n',\n",
       " '\\n\\n                            98\\n        \\n\\n\\nBilal Khan\\n\\n\\n\\nOMA\\n\\n344\\n\\n                                344 v United States, 11/02/2020\\n                        \\n',\n",
       " '\\n\\n                            99\\n        \\n\\n\\nSaurabh Netravalkar\\n\\n\\n\\nUSA\\n\\n343\\n\\n                                352 v Oman, 11/02/2020\\n                        \\n',\n",
       " '\\n\\n                            100\\n        \\n\\n\\nNorman Vanua\\n\\n\\n\\nPNG\\n\\n342\\n\\n                                353 v Namibia, 22/09/2019\\n                        \\n']"
      ]
     },
     "execution_count": 102,
     "metadata": {},
     "output_type": "execute_result"
    }
   ],
   "source": [
    " complete_info"
   ]
  },
  {
   "cell_type": "code",
   "execution_count": 103,
   "metadata": {},
   "outputs": [
    {
     "data": {
      "text/plain": [
       "['                            2        This player has moved up in the rankings since the previous rankings updateJosh HazlewoodAUS709                                733 v England, 26/01/2018                        ',\n",
       " '                            3        This player has moved down in the rankings since the previous rankings updateMujeeb Ur RahmanAFG708                                712 v Ireland, 24/01/2021                        ',\n",
       " '                            4        This player has moved down in the rankings since the previous rankings updateChris WoakesENG700                                711 v Sri Lanka, 04/07/2021                        ',\n",
       " '                            5        This player has moved down in the rankings since the previous rankings updateMehedi HasanBAN692                                725 v Sri Lanka, 25/05/2021                        ',\n",
       " '                            6        This player has moved down in the rankings since the previous rankings updateMatt HenryNZ691                                691 v Bangladesh, 26/03/2021                        ',\n",
       " '                            7        Jasprit BumrahIND679                                841 v West Indies, 01/11/2018                        ',\n",
       " '                            8        Mitchell StarcAUS652                                783 v New Zealand, 29/03/2015                        ',\n",
       " '                            9        Shakib Al HasanBAN650                                717 v Zimbabwe, 05/11/2009                        ',\n",
       " '                            10        Kagiso RabadaSA648                                724 v England, 29/05/2017                        ',\n",
       " '                            11        Mustafizur RahmanBAN640                                695 v West Indies, 14/12/2018                        ',\n",
       " '                            12        Pat CumminsAUS636                                729 v Pakistan, 12/06/2019                        ',\n",
       " '                            13        Shaheen AfridiPAK630                                637 v England, 08/07/2021                        ',\n",
       " '                            14        Mohammad AmirPAK628                                663 v Sri Lanka, 02/10/2019                        ',\n",
       " '                            15        Rashid KhanAFG626                                806 v Pakistan, 21/09/2018                        ',\n",
       " '                            16        This player has moved up in the rankings since the previous rankings updateAdam ZampaAUS625                                625 v West Indies, 26/07/2021                        ',\n",
       " '                            17        This player has moved down in the rankings since the previous rankings updateBhuvneshwar KumarIND621                                657 v West Indies, 17/10/2014                        ',\n",
       " '                            18        This player has moved down in the rankings since the previous rankings updateLachlan FergusonNZ619                                668 v West Indies, 22/06/2019                        ',\n",
       " '                            19        This player has moved down in the rankings since the previous rankings updateJofra ArcherENG609                                642 v Australia, 13/09/2020                        ',\n",
       " '                            20        Akila DananjayaSL604                                651 v England, 23/10/2018                        ',\n",
       " '                            21        Yuzvendra ChahalIND603                                730 v New Zealand, 23/01/2019                        ',\n",
       " '                            22        Lungi NgidiSA599                                621 v Australia, 04/03/2020                        ',\n",
       " '                            23        Mohammad NabiAFG596                                653 v Zimbabwe, 26/02/2017                        ',\n",
       " '                            24        Mark WoodENG594                                615 v Afghanistan, 18/06/2019                        ',\n",
       " '                            25        Alzarri JosephWI592                                594 v Australia, 22/07/2021                        ',\n",
       " '                            26        Mitchell SantnerNZ583                                663 v England, 25/02/2018                        ',\n",
       " '                            27        Mohammad ShamiIND566                                654 v Bangladesh, 19/03/2015                        ',\n",
       " '                            28        This player has moved up in the rankings since the previous rankings updateKuldeep YadavIND562                                765 v New Zealand, 26/01/2019                        ',\n",
       " '                            29        This player has moved up in the rankings since the previous rankings updateRavindra JadejaIND550                                738 v Zimbabwe, 01/08/2013                        ',\n",
       " '                            30        This player has moved down in the rankings since the previous rankings updateSheldon CottrellWI541                                581 v Sri Lanka, 26/02/2020                        ',\n",
       " '                            31        Ahmed RazaUAE531                                531 v Ireland, 18/01/2021                        ',\n",
       " '                            32        Andy McBrineIRE527                                570 v Zimbabwe, 01/07/2019                        ',\n",
       " '                            33        Shadab KhanPAK517                                607 v South Africa, 22/01/2019                        ',\n",
       " '                            34        Dushmantha ChameeraSL514                                538 v England, 29/06/2021                        ',\n",
       " '                            35        Wanindu De SilvaSL508                                511 v India, 20/07/2021                        ',\n",
       " 'Colin de GrandhommeNZ508                                522 v India, 11/02/2020                        ',\n",
       " '                            37        Tabraiz ShamsiSA501                                501 v Ireland, 16/07/2021                        ',\n",
       " 'David WilleyENG501                                551 v Sri Lanka, 02/07/2016                        ',\n",
       " '                            39        Tim SoutheeNZ500                                638 v England, 20/02/2015                        ',\n",
       " '                            40        Andile PhehlukwayoSA497                                613 v Pakistan, 30/01/2019                        ',\n",
       " 'Adil RashidENG497                                687 v Sri Lanka, 20/10/2018                        ',\n",
       " '                            42        Ish Sodhi496',\n",
       " '                            43        Mark WattSCO490                                495 v United States, 14/12/2019                        ',\n",
       " '                            44        Imad WasimPAK488                                570 v England, 19/05/2019                        ',\n",
       " '                            45        This player has moved up in the rankings since the previous rankings updateHasan AliPAK483                                766 v New Zealand, 06/01/2018                        ',\n",
       " '                            46        This player has moved up in the rankings since the previous rankings updateUsman KhanPAK482                                504 v Sri Lanka, 02/10/2019                        ',\n",
       " '                            47        This player has moved down in the rankings since the previous rankings updateJhye RichardsonAUS480                                548 v Pakistan, 24/03/2019                        ',\n",
       " '                            48        Rohan MustafaUAE477                                477 v Ireland, 18/01/2021                        ',\n",
       " '                            49        Simi SinghIRE473                                474 v Netherlands, 07/06/2021                        ',\n",
       " '                            50        Mashrafe MortazaBAN469                                653 v Zimbabwe, 23/01/2009                        ',\n",
       " '                            51        Mohammad Mohammad SaifuddinBAN468                                496 v West Indies, 25/01/2021                        ',\n",
       " '                            52        Safyaan SharifSCO467                                542 v England, 10/06/2018                        ',\n",
       " '                            53        Tendai ChataraZIM465                                562 v Ireland, 07/03/2015                        ',\n",
       " '                            54        Nuwan PradeepSL459                                506 v England, 13/10/2018                        ',\n",
       " '                            55        Jimmy NeeshamNZ458                                458 v Bangladesh, 26/03/2021                        ',\n",
       " '                            56        Saqib MahmoodENG454                                454 v Pakistan, 13/07/2021                        ',\n",
       " '                            57        This player has moved up in the rankings since the previous rankings updateJason HolderWI451                                486 v Sri Lanka, 10/03/2021                        ',\n",
       " '                            58        This player has moved down in the rankings since the previous rankings updateMoeen AliENG449                                629 v Australia, 24/06/2018                        ',\n",
       " '                            59        Wahab RiazPAK447                                522 v England, 13/11/2015                        ',\n",
       " '                            60        Faheem AshrafPAK445                                477 v South Africa, 02/04/2021                        ',\n",
       " '                            61        This player has moved up in the rankings since the previous rankings updateAkeal HoseinWI443                                443 v Australia, 26/07/2021                        ',\n",
       " 'This player has moved down in the rankings since the previous rankings updateSuranga LakmalSL443                                594 v Bangladesh, 25/01/2018                        ',\n",
       " '                            63        This player has moved down in the rankings since the previous rankings updateSikandar RazaZIM440                                494 v UAE, 16/04/2019                        ',\n",
       " '                            64        This player has moved down in the rankings since the previous rankings updateBlessing MuzarabaniZIM437                                440 v Bangladesh, 18/07/2021                        ',\n",
       " '                            65        This player has moved down in the rankings since the previous rankings updateTom CurranENG436                                443 v Sri Lanka, 04/07/2021                        ',\n",
       " 'This player has moved up in the rankings since the previous rankings updateAshton AgarAUS436                                436 v West Indies, 26/07/2021                        ',\n",
       " '                            67        This player has moved down in the rankings since the previous rankings updateTaskin AhmedBAN434                                456 v Sri Lanka, 28/03/2017                        ',\n",
       " '                            68        This player has moved down in the rankings since the previous rankings updateAnrich NortjeSA431                                431 v Ireland, 16/07/2021                        ',\n",
       " '                            69        This player has moved down in the rankings since the previous rankings updateJosh DaveySCO427                                436 v UAE, 15/12/2019                        ',\n",
       " '                            70        This player has moved down in the rankings since the previous rankings updateJoshua LittleIRE421                                421 v South Africa, 16/07/2021                        ',\n",
       " 'This player has moved down in the rankings since the previous rankings updateCraig YoungIRE421                                421 v South Africa, 16/07/2021                        ',\n",
       " '                            72        This player has moved down in the rankings since the previous rankings updateSean WilliamsZIM420                                474 v Sri Lanka, 30/06/2017                        ',\n",
       " '                            73        This player has moved down in the rankings since the previous rankings updateKane RichardsonAUS416                                448 v India, 17/01/2020                        ',\n",
       " '                            74        This player has moved down in the rankings since the previous rankings updateBen StokesENG410                                474 v New Zealand, 03/07/2019                        ',\n",
       " '                            75        This player has moved down in the rankings since the previous rankings updateShardul ThakurIND405                                411 v England, 28/03/2021                        ',\n",
       " '                            76        Rubel HossainBAN400                                514 v Pakistan, 01/12/2011                        ',\n",
       " '                            77        Gulbadin NaibAFG399                                472 v Ireland, 21/05/2019                        ',\n",
       " '                            78        Hardik PandyaIND394                                552 v South Africa, 16/02/2018                        ',\n",
       " 'Alasdair EvansSCO394                                421 v England, 10/06/2018                        ',\n",
       " 'Keshav MaharajSA394                                394 v Ireland, 16/07/2021                        ',\n",
       " '                            81        Barry McCarthyIRE391                                448 v West Indies, 09/01/2020                        ',\n",
       " '                            82        This player has moved down in the rankings since the previous rankings updateMitchell MarshAUS390                                511 v New Zealand, 04/12/2016                        ',\n",
       " '                            83        This player has moved down in the rankings since the previous rankings updateDhananjaya de SilvaSL388                                412 v Bangladesh, 23/05/2021                        ',\n",
       " '                            84        This player has moved down in the rankings since the previous rankings updateMarcus StoinisAUS377                                426 v England, 25/06/2019                        ',\n",
       " '                            85        This player has moved down in the rankings since the previous rankings updateLakshan SandakanSL376                                383 v Bangladesh, 25/05/2021                        ',\n",
       " '                            86        This player has moved down in the rankings since the previous rankings updateTaijul IslamBAN374                                397 v Zimbabwe, 06/03/2020                        ',\n",
       " '                            87        Mohammad NawazPAK370                                376 v South Africa, 07/04/2021                        ',\n",
       " '                            88        Donald TiripanoZIM367                                373 v Pakistan, 03/11/2020                        ',\n",
       " '                            89        Assad ValaPNG361                                369 v Namibia, 23/09/2019                        ',\n",
       " '                            90        Fred KlaassenNED358                                358 v Ireland, 07/06/2021                        ',\n",
       " '                            91        This player has moved up in the rankings since the previous rankings updateGeorge DockrellIRE357                                589 v West Indies, 16/02/2015                        ',\n",
       " '                            92        This player has moved down in the rankings since the previous rankings updateOshane ThomasWI355                                419 v Australia, 06/06/2019                        ',\n",
       " '                            93        Kyle JamiesonNZ352                                352 v Bangladesh, 26/03/2021                        ',\n",
       " '                            94        Michael LeaskSCO351                                362 v Papua New Guinea, 17/08/2019                        ',\n",
       " '                            95        Zeeshan MaqsoodOMA350                                350 v United States, 11/02/2020                        ',\n",
       " '                            96        This player has moved up in the rankings since the previous rankings updateSharafuddin AshrafAFG347                                354 v West Indies, 25/03/2018                        ',\n",
       " 'This player has moved down in the rankings since the previous rankings updateRoston Chase347',\n",
       " '                            98        Bilal KhanOMA344                                344 v United States, 11/02/2020                        ',\n",
       " '                            99        Saurabh NetravalkarUSA343                                352 v Oman, 11/02/2020                        ',\n",
       " '                            100        Norman VanuaPNG342                                353 v Namibia, 22/09/2019                        ']"
      ]
     },
     "execution_count": 103,
     "metadata": {},
     "output_type": "execute_result"
    }
   ],
   "source": [
    "complete_info = []\n",
    "for i in match_1:\n",
    "    complete_info.append(i.text.replace(\"\\n\",\"\").replace(\"\\xa0\",\"\"))\n",
    "complete_info"
   ]
  },
  {
   "cell_type": "code",
   "execution_count": 108,
   "metadata": {},
   "outputs": [],
   "source": [
    "rating_info=[]\n",
    "match_1=soup.find_all(\"td\",class_='table-body__cell rating')\n",
    "for i in match_1:\n",
    "    rating_info.append(i.text)\n",
    "    rating_info"
   ]
  },
  {
   "cell_type": "code",
   "execution_count": 109,
   "metadata": {},
   "outputs": [
    {
     "data": {
      "text/plain": [
       "['709',\n",
       " '708',\n",
       " '700',\n",
       " '692',\n",
       " '691',\n",
       " '679',\n",
       " '652',\n",
       " '650',\n",
       " '648',\n",
       " '640',\n",
       " '636',\n",
       " '630',\n",
       " '628',\n",
       " '626',\n",
       " '625',\n",
       " '621',\n",
       " '619',\n",
       " '609',\n",
       " '604',\n",
       " '603',\n",
       " '599',\n",
       " '596',\n",
       " '594',\n",
       " '592',\n",
       " '583',\n",
       " '566',\n",
       " '562',\n",
       " '550',\n",
       " '541',\n",
       " '531',\n",
       " '527',\n",
       " '517',\n",
       " '514',\n",
       " '508',\n",
       " '508',\n",
       " '501',\n",
       " '501',\n",
       " '500',\n",
       " '497',\n",
       " '497',\n",
       " '496',\n",
       " '490',\n",
       " '488',\n",
       " '483',\n",
       " '482',\n",
       " '480',\n",
       " '477',\n",
       " '473',\n",
       " '469',\n",
       " '468',\n",
       " '467',\n",
       " '465',\n",
       " '459',\n",
       " '458',\n",
       " '454',\n",
       " '451',\n",
       " '449',\n",
       " '447',\n",
       " '445',\n",
       " '443',\n",
       " '443',\n",
       " '440',\n",
       " '437',\n",
       " '436',\n",
       " '436',\n",
       " '434',\n",
       " '431',\n",
       " '427',\n",
       " '421',\n",
       " '421',\n",
       " '420',\n",
       " '416',\n",
       " '410',\n",
       " '405',\n",
       " '400',\n",
       " '399',\n",
       " '394',\n",
       " '394',\n",
       " '394',\n",
       " '391',\n",
       " '390',\n",
       " '388',\n",
       " '377',\n",
       " '376',\n",
       " '374',\n",
       " '370',\n",
       " '367',\n",
       " '361',\n",
       " '358',\n",
       " '357',\n",
       " '355',\n",
       " '352',\n",
       " '351',\n",
       " '350',\n",
       " '347',\n",
       " '347',\n",
       " '344',\n",
       " '343',\n",
       " '342']"
      ]
     },
     "execution_count": 109,
     "metadata": {},
     "output_type": "execute_result"
    }
   ],
   "source": [
    " rating_info"
   ]
  },
  {
   "cell_type": "code",
   "execution_count": 113,
   "metadata": {},
   "outputs": [],
   "source": [
    "complete_info=[]\n",
    "match_1=soup.find_all(\"tr\",class_=\"table-body\")\n",
    "for i in match_1:\n",
    "    complete_info.append(i.text)\n",
    "    complete_info"
   ]
  },
  {
   "cell_type": "code",
   "execution_count": 114,
   "metadata": {},
   "outputs": [
    {
     "data": {
      "text/plain": [
       "['\\n\\n                            2\\n        \\n\\n\\n\\nThis player has moved up in the rankings since the previous rankings update\\n\\n\\n\\nJosh Hazlewood\\n\\n\\n\\nAUS\\n\\n709\\n\\n                                733 v England, 26/01/2018\\n                        \\n',\n",
       " '\\n\\n                            3\\n        \\n\\n\\n\\nThis player has moved down in the rankings since the previous rankings update\\n\\n\\n\\nMujeeb Ur Rahman\\n\\n\\n\\nAFG\\n\\n708\\n\\n                                712 v Ireland, 24/01/2021\\n                        \\n',\n",
       " '\\n\\n                            4\\n        \\n\\n\\n\\nThis player has moved down in the rankings since the previous rankings update\\n\\n\\n\\nChris Woakes\\n\\n\\n\\nENG\\n\\n700\\n\\n                                711 v Sri Lanka, 04/07/2021\\n                        \\n',\n",
       " '\\n\\n                            5\\n        \\n\\n\\n\\nThis player has moved down in the rankings since the previous rankings update\\n\\n\\n\\nMehedi Hasan\\n\\n\\n\\nBAN\\n\\n692\\n\\n                                725 v Sri Lanka, 25/05/2021\\n                        \\n',\n",
       " '\\n\\n                            6\\n        \\n\\n\\n\\nThis player has moved down in the rankings since the previous rankings update\\n\\n\\n\\nMatt Henry\\n\\n\\n\\nNZ\\n\\n691\\n\\n                                691 v Bangladesh, 26/03/2021\\n                        \\n',\n",
       " '\\n\\n                            7\\n        \\n\\n\\nJasprit Bumrah\\n\\n\\n\\nIND\\n\\n679\\n\\n                                841 v West Indies, 01/11/2018\\n                        \\n',\n",
       " '\\n\\n                            8\\n        \\n\\n\\nMitchell Starc\\n\\n\\n\\nAUS\\n\\n652\\n\\n                                783 v New Zealand, 29/03/2015\\n                        \\n',\n",
       " '\\n\\n                            9\\n        \\n\\n\\nShakib Al Hasan\\n\\n\\n\\nBAN\\n\\n650\\n\\n                                717 v Zimbabwe, 05/11/2009\\n                        \\n',\n",
       " '\\n\\n                            10\\n        \\n\\n\\nKagiso Rabada\\n\\n\\n\\nSA\\n\\n648\\n\\n                                724 v England, 29/05/2017\\n                        \\n',\n",
       " '\\n\\n                            11\\n        \\n\\n\\nMustafizur Rahman\\n\\n\\n\\nBAN\\n\\n640\\n\\n                                695 v West Indies, 14/12/2018\\n                        \\n',\n",
       " '\\n\\n                            12\\n        \\n\\n\\nPat Cummins\\n\\n\\n\\nAUS\\n\\n636\\n\\n                                729 v Pakistan, 12/06/2019\\n                        \\n',\n",
       " '\\n\\n                            13\\n        \\n\\n\\nShaheen Afridi\\n\\n\\n\\nPAK\\n\\n630\\n\\n                                637 v England, 08/07/2021\\n                        \\n',\n",
       " '\\n\\n                            14\\n        \\n\\n\\nMohammad Amir\\n\\n\\n\\nPAK\\n\\n628\\n\\n                                663 v Sri Lanka, 02/10/2019\\n                        \\n',\n",
       " '\\n\\n                            15\\n        \\n\\n\\nRashid Khan\\n\\n\\n\\nAFG\\n\\n626\\n\\n                                806 v Pakistan, 21/09/2018\\n                        \\n',\n",
       " '\\n\\n                            16\\n        \\n\\n\\n\\nThis player has moved up in the rankings since the previous rankings update\\n\\n\\n\\nAdam Zampa\\n\\n\\n\\nAUS\\n\\n625\\n\\n                                625 v West Indies, 26/07/2021\\n                        \\n',\n",
       " '\\n\\n                            17\\n        \\n\\n\\n\\nThis player has moved down in the rankings since the previous rankings update\\n\\n\\n\\nBhuvneshwar Kumar\\n\\n\\n\\nIND\\n\\n621\\n\\n                                657 v West Indies, 17/10/2014\\n                        \\n',\n",
       " '\\n\\n                            18\\n        \\n\\n\\n\\nThis player has moved down in the rankings since the previous rankings update\\n\\n\\n\\nLachlan Ferguson\\n\\n\\n\\nNZ\\n\\n619\\n\\n                                668 v West Indies, 22/06/2019\\n                        \\n',\n",
       " '\\n\\n                            19\\n        \\n\\n\\n\\nThis player has moved down in the rankings since the previous rankings update\\n\\n\\n\\nJofra Archer\\n\\n\\n\\nENG\\n\\n609\\n\\n                                642 v Australia, 13/09/2020\\n                        \\n',\n",
       " '\\n\\n                            20\\n        \\n\\n\\nAkila Dananjaya\\n\\n\\n\\nSL\\n\\n604\\n\\n                                651 v England, 23/10/2018\\n                        \\n',\n",
       " '\\n\\n                            21\\n        \\n\\n\\nYuzvendra Chahal\\n\\n\\n\\nIND\\n\\n603\\n\\n                                730 v New Zealand, 23/01/2019\\n                        \\n',\n",
       " '\\n\\n                            22\\n        \\n\\n\\nLungi Ngidi\\n\\n\\n\\nSA\\n\\n599\\n\\n                                621 v Australia, 04/03/2020\\n                        \\n',\n",
       " '\\n\\n                            23\\n        \\n\\n\\nMohammad Nabi\\n\\n\\n\\nAFG\\n\\n596\\n\\n                                653 v Zimbabwe, 26/02/2017\\n                        \\n',\n",
       " '\\n\\n                            24\\n        \\n\\n\\nMark Wood\\n\\n\\n\\nENG\\n\\n594\\n\\n                                615 v Afghanistan, 18/06/2019\\n                        \\n',\n",
       " '\\n\\n                            25\\n        \\n\\n\\nAlzarri Joseph\\n\\n\\n\\nWI\\n\\n592\\n\\n                                594 v Australia, 22/07/2021\\n                        \\n',\n",
       " '\\n\\n                            26\\n        \\n\\n\\nMitchell Santner\\n\\n\\n\\nNZ\\n\\n583\\n\\n                                663 v England, 25/02/2018\\n                        \\n',\n",
       " '\\n\\n                            27\\n        \\n\\n\\nMohammad Shami\\n\\n\\n\\nIND\\n\\n566\\n\\n                                654 v Bangladesh, 19/03/2015\\n                        \\n',\n",
       " '\\n\\n                            28\\n        \\n\\n\\n\\nThis player has moved up in the rankings since the previous rankings update\\n\\n\\n\\nKuldeep Yadav\\n\\n\\n\\nIND\\n\\n562\\n\\n                                765 v New Zealand, 26/01/2019\\n                        \\n',\n",
       " '\\n\\n                            29\\n        \\n\\n\\n\\nThis player has moved up in the rankings since the previous rankings update\\n\\n\\n\\nRavindra Jadeja\\n\\n\\n\\nIND\\n\\n550\\n\\n                                738 v Zimbabwe, 01/08/2013\\n                        \\n',\n",
       " '\\n\\n                            30\\n        \\n\\n\\n\\nThis player has moved down in the rankings since the previous rankings update\\n\\n\\n\\nSheldon Cottrell\\n\\n\\n\\nWI\\n\\n541\\n\\n                                581 v Sri Lanka, 26/02/2020\\n                        \\n',\n",
       " '\\n\\n                            31\\n        \\n\\n\\nAhmed Raza\\n\\n\\n\\nUAE\\n\\n531\\n\\n                                531 v Ireland, 18/01/2021\\n                        \\n',\n",
       " '\\n\\n                            32\\n        \\n\\n\\nAndy McBrine\\n\\n\\n\\nIRE\\n\\n527\\n\\n                                570 v Zimbabwe, 01/07/2019\\n                        \\n',\n",
       " '\\n\\n                            33\\n        \\n\\n\\nShadab Khan\\n\\n\\n\\nPAK\\n\\n517\\n\\n                                607 v South Africa, 22/01/2019\\n                        \\n',\n",
       " '\\n\\n                            34\\n        \\n\\n\\nDushmantha Chameera\\n\\n\\n\\nSL\\n\\n514\\n\\n                                538 v England, 29/06/2021\\n                        \\n',\n",
       " '\\n\\n                            35\\n        \\n\\n\\nWanindu De Silva\\n\\n\\n\\nSL\\n\\n508\\n\\n                                511 v India, 20/07/2021\\n                        \\n',\n",
       " '\\n\\n\\n\\n\\nColin de Grandhomme\\n\\n\\n\\nNZ\\n\\n508\\n\\n                                522 v India, 11/02/2020\\n                        \\n',\n",
       " '\\n\\n                            37\\n        \\n\\n\\nTabraiz Shamsi\\n\\n\\n\\nSA\\n\\n501\\n\\n                                501 v Ireland, 16/07/2021\\n                        \\n',\n",
       " '\\n\\n\\n\\n\\nDavid Willey\\n\\n\\n\\nENG\\n\\n501\\n\\n                                551 v Sri Lanka, 02/07/2016\\n                        \\n',\n",
       " '\\n\\n                            39\\n        \\n\\n\\nTim Southee\\n\\n\\n\\nNZ\\n\\n500\\n\\n                                638 v England, 20/02/2015\\n                        \\n',\n",
       " '\\n\\n                            40\\n        \\n\\n\\nAndile Phehlukwayo\\n\\n\\n\\nSA\\n\\n497\\n\\n                                613 v Pakistan, 30/01/2019\\n                        \\n',\n",
       " '\\n\\n\\n\\n\\nAdil Rashid\\n\\n\\n\\nENG\\n\\n497\\n\\n                                687 v Sri Lanka, 20/10/2018\\n                        \\n',\n",
       " '\\n\\n                            42\\n        \\n\\n\\nIsh Sodhi\\n\\n\\n\\n\\n\\n496\\n\\n\\n',\n",
       " '\\n\\n                            43\\n        \\n\\n\\nMark Watt\\n\\n\\n\\nSCO\\n\\n490\\n\\n                                495 v United States, 14/12/2019\\n                        \\n',\n",
       " '\\n\\n                            44\\n        \\n\\n\\nImad Wasim\\n\\n\\n\\nPAK\\n\\n488\\n\\n                                570 v England, 19/05/2019\\n                        \\n',\n",
       " '\\n\\n                            45\\n        \\n\\n\\n\\nThis player has moved up in the rankings since the previous rankings update\\n\\n\\n\\nHasan Ali\\n\\n\\n\\nPAK\\n\\n483\\n\\n                                766 v New Zealand, 06/01/2018\\n                        \\n',\n",
       " '\\n\\n                            46\\n        \\n\\n\\n\\nThis player has moved up in the rankings since the previous rankings update\\n\\n\\n\\nUsman Khan\\n\\n\\n\\nPAK\\n\\n482\\n\\n                                504 v Sri Lanka, 02/10/2019\\n                        \\n',\n",
       " '\\n\\n                            47\\n        \\n\\n\\n\\nThis player has moved down in the rankings since the previous rankings update\\n\\n\\n\\nJhye Richardson\\n\\n\\n\\nAUS\\n\\n480\\n\\n                                548 v Pakistan, 24/03/2019\\n                        \\n',\n",
       " '\\n\\n                            48\\n        \\n\\n\\nRohan Mustafa\\n\\n\\n\\nUAE\\n\\n477\\n\\n                                477 v Ireland, 18/01/2021\\n                        \\n',\n",
       " '\\n\\n                            49\\n        \\n\\n\\nSimi Singh\\n\\n\\n\\nIRE\\n\\n473\\n\\n                                474 v Netherlands, 07/06/2021\\n                        \\n',\n",
       " '\\n\\n                            50\\n        \\n\\n\\nMashrafe Mortaza\\n\\n\\n\\nBAN\\n\\n469\\n\\n                                653 v Zimbabwe, 23/01/2009\\n                        \\n',\n",
       " '\\n\\n                            51\\n        \\n\\n\\nMohammad Mohammad Saifuddin\\n\\n\\n\\nBAN\\n\\n468\\n\\n                                496 v West Indies, 25/01/2021\\n                        \\n',\n",
       " '\\n\\n                            52\\n        \\n\\n\\nSafyaan Sharif\\n\\n\\n\\nSCO\\n\\n467\\n\\n                                542 v England, 10/06/2018\\n                        \\n',\n",
       " '\\n\\n                            53\\n        \\n\\n\\nTendai Chatara\\n\\n\\n\\nZIM\\n\\n465\\n\\n                                562 v Ireland, 07/03/2015\\n                        \\n',\n",
       " '\\n\\n                            54\\n        \\n\\n\\nNuwan Pradeep\\n\\n\\n\\nSL\\n\\n459\\n\\n                                506 v England, 13/10/2018\\n                        \\n',\n",
       " '\\n\\n                            55\\n        \\n\\n\\nJimmy Neesham\\n\\n\\n\\nNZ\\n\\n458\\n\\n                                458 v Bangladesh, 26/03/2021\\n                        \\n',\n",
       " '\\n\\n                            56\\n        \\n\\n\\nSaqib Mahmood\\n\\n\\n\\nENG\\n\\n454\\n\\n                                454 v Pakistan, 13/07/2021\\n                        \\n',\n",
       " '\\n\\n                            57\\n        \\n\\n\\n\\nThis player has moved up in the rankings since the previous rankings update\\n\\n\\n\\nJason Holder\\n\\n\\n\\nWI\\n\\n451\\n\\n                                486 v Sri Lanka, 10/03/2021\\n                        \\n',\n",
       " '\\n\\n                            58\\n        \\n\\n\\n\\nThis player has moved down in the rankings since the previous rankings update\\n\\n\\n\\nMoeen Ali\\n\\n\\n\\nENG\\n\\n449\\n\\n                                629 v Australia, 24/06/2018\\n                        \\n',\n",
       " '\\n\\n                            59\\n        \\n\\n\\nWahab Riaz\\n\\n\\n\\nPAK\\n\\n447\\n\\n                                522 v England, 13/11/2015\\n                        \\n',\n",
       " '\\n\\n                            60\\n        \\n\\n\\nFaheem Ashraf\\n\\n\\n\\nPAK\\n\\n445\\n\\n                                477 v South Africa, 02/04/2021\\n                        \\n',\n",
       " '\\n\\n                            61\\n        \\n\\n\\n\\nThis player has moved up in the rankings since the previous rankings update\\n\\n\\n\\nAkeal Hosein\\n\\n\\n\\nWI\\n\\n443\\n\\n                                443 v Australia, 26/07/2021\\n                        \\n',\n",
       " '\\n\\n\\n\\n\\n\\nThis player has moved down in the rankings since the previous rankings update\\n\\n\\n\\nSuranga Lakmal\\n\\n\\n\\nSL\\n\\n443\\n\\n                                594 v Bangladesh, 25/01/2018\\n                        \\n',\n",
       " '\\n\\n                            63\\n        \\n\\n\\n\\nThis player has moved down in the rankings since the previous rankings update\\n\\n\\n\\nSikandar Raza\\n\\n\\n\\nZIM\\n\\n440\\n\\n                                494 v UAE, 16/04/2019\\n                        \\n',\n",
       " '\\n\\n                            64\\n        \\n\\n\\n\\nThis player has moved down in the rankings since the previous rankings update\\n\\n\\n\\nBlessing Muzarabani\\n\\n\\n\\nZIM\\n\\n437\\n\\n                                440 v Bangladesh, 18/07/2021\\n                        \\n',\n",
       " '\\n\\n                            65\\n        \\n\\n\\n\\nThis player has moved down in the rankings since the previous rankings update\\n\\n\\n\\nTom Curran\\n\\n\\n\\nENG\\n\\n436\\n\\n                                443 v Sri Lanka, 04/07/2021\\n                        \\n',\n",
       " '\\n\\n\\n\\n\\n\\nThis player has moved up in the rankings since the previous rankings update\\n\\n\\n\\nAshton Agar\\n\\n\\n\\nAUS\\n\\n436\\n\\n                                436 v West Indies, 26/07/2021\\n                        \\n',\n",
       " '\\n\\n                            67\\n        \\n\\n\\n\\nThis player has moved down in the rankings since the previous rankings update\\n\\n\\n\\nTaskin Ahmed\\n\\n\\n\\nBAN\\n\\n434\\n\\n                                456 v Sri Lanka, 28/03/2017\\n                        \\n',\n",
       " '\\n\\n                            68\\n        \\n\\n\\n\\nThis player has moved down in the rankings since the previous rankings update\\n\\n\\n\\nAnrich Nortje\\n\\n\\n\\nSA\\n\\n431\\n\\n                                431 v Ireland, 16/07/2021\\n                        \\n',\n",
       " '\\n\\n                            69\\n        \\n\\n\\n\\nThis player has moved down in the rankings since the previous rankings update\\n\\n\\n\\nJosh Davey\\n\\n\\n\\nSCO\\n\\n427\\n\\n                                436 v UAE, 15/12/2019\\n                        \\n',\n",
       " '\\n\\n                            70\\n        \\n\\n\\n\\nThis player has moved down in the rankings since the previous rankings update\\n\\n\\n\\nJoshua Little\\n\\n\\n\\nIRE\\n\\n421\\n\\n                                421 v South Africa, 16/07/2021\\n                        \\n',\n",
       " '\\n\\n\\n\\n\\n\\nThis player has moved down in the rankings since the previous rankings update\\n\\n\\n\\nCraig Young\\n\\n\\n\\nIRE\\n\\n421\\n\\n                                421 v South Africa, 16/07/2021\\n                        \\n',\n",
       " '\\n\\n                            72\\n        \\n\\n\\n\\nThis player has moved down in the rankings since the previous rankings update\\n\\n\\n\\nSean Williams\\n\\n\\n\\nZIM\\n\\n420\\n\\n                                474 v Sri Lanka, 30/06/2017\\n                        \\n',\n",
       " '\\n\\n                            73\\n        \\n\\n\\n\\nThis player has moved down in the rankings since the previous rankings update\\n\\n\\n\\nKane Richardson\\n\\n\\n\\nAUS\\n\\n416\\n\\n                                448 v India, 17/01/2020\\n                        \\n',\n",
       " '\\n\\n                            74\\n        \\n\\n\\n\\nThis player has moved down in the rankings since the previous rankings update\\n\\n\\n\\nBen Stokes\\n\\n\\n\\nENG\\n\\n410\\n\\n                                474 v New Zealand, 03/07/2019\\n                        \\n',\n",
       " '\\n\\n                            75\\n        \\n\\n\\n\\nThis player has moved down in the rankings since the previous rankings update\\n\\n\\n\\nShardul Thakur\\n\\n\\n\\nIND\\n\\n405\\n\\n                                411 v England, 28/03/2021\\n                        \\n',\n",
       " '\\n\\n                            76\\n        \\n\\n\\nRubel Hossain\\n\\n\\n\\nBAN\\n\\n400\\n\\n                                514 v Pakistan, 01/12/2011\\n                        \\n',\n",
       " '\\n\\n                            77\\n        \\n\\n\\nGulbadin Naib\\n\\n\\n\\nAFG\\n\\n399\\n\\n                                472 v Ireland, 21/05/2019\\n                        \\n',\n",
       " '\\n\\n                            78\\n        \\n\\n\\nHardik Pandya\\n\\n\\n\\nIND\\n\\n394\\n\\n                                552 v South Africa, 16/02/2018\\n                        \\n',\n",
       " '\\n\\n\\n\\n\\nAlasdair Evans\\n\\n\\n\\nSCO\\n\\n394\\n\\n                                421 v England, 10/06/2018\\n                        \\n',\n",
       " '\\n\\n\\n\\n\\nKeshav Maharaj\\n\\n\\n\\nSA\\n\\n394\\n\\n                                394 v Ireland, 16/07/2021\\n                        \\n',\n",
       " '\\n\\n                            81\\n        \\n\\n\\nBarry McCarthy\\n\\n\\n\\nIRE\\n\\n391\\n\\n                                448 v West Indies, 09/01/2020\\n                        \\n',\n",
       " '\\n\\n                            82\\n        \\n\\n\\n\\nThis player has moved down in the rankings since the previous rankings update\\n\\n\\n\\nMitchell Marsh\\n\\n\\n\\nAUS\\n\\n390\\n\\n                                511 v New Zealand, 04/12/2016\\n                        \\n',\n",
       " '\\n\\n                            83\\n        \\n\\n\\n\\nThis player has moved down in the rankings since the previous rankings update\\n\\n\\n\\nDhananjaya de Silva\\n\\n\\n\\nSL\\n\\n388\\n\\n                                412 v Bangladesh, 23/05/2021\\n                        \\n',\n",
       " '\\n\\n                            84\\n        \\n\\n\\n\\nThis player has moved down in the rankings since the previous rankings update\\n\\n\\n\\nMarcus Stoinis\\n\\n\\n\\nAUS\\n\\n377\\n\\n                                426 v England, 25/06/2019\\n                        \\n',\n",
       " '\\n\\n                            85\\n        \\n\\n\\n\\nThis player has moved down in the rankings since the previous rankings update\\n\\n\\n\\nLakshan Sandakan\\n\\n\\n\\nSL\\n\\n376\\n\\n                                383 v Bangladesh, 25/05/2021\\n                        \\n',\n",
       " '\\n\\n                            86\\n        \\n\\n\\n\\nThis player has moved down in the rankings since the previous rankings update\\n\\n\\n\\nTaijul Islam\\n\\n\\n\\nBAN\\n\\n374\\n\\n                                397 v Zimbabwe, 06/03/2020\\n                        \\n',\n",
       " '\\n\\n                            87\\n        \\n\\n\\nMohammad Nawaz\\n\\n\\n\\nPAK\\n\\n370\\n\\n                                376 v South Africa, 07/04/2021\\n                        \\n',\n",
       " '\\n\\n                            88\\n        \\n\\n\\nDonald Tiripano\\n\\n\\n\\nZIM\\n\\n367\\n\\n                                373 v Pakistan, 03/11/2020\\n                        \\n',\n",
       " '\\n\\n                            89\\n        \\n\\n\\nAssad Vala\\n\\n\\n\\nPNG\\n\\n361\\n\\n                                369 v Namibia, 23/09/2019\\n                        \\n',\n",
       " '\\n\\n                            90\\n        \\n\\n\\nFred Klaassen\\n\\n\\n\\nNED\\n\\n358\\n\\n                                358 v Ireland, 07/06/2021\\n                        \\n',\n",
       " '\\n\\n                            91\\n        \\n\\n\\n\\nThis player has moved up in the rankings since the previous rankings update\\n\\n\\n\\nGeorge Dockrell\\n\\n\\n\\nIRE\\n\\n357\\n\\n                                589 v West Indies, 16/02/2015\\n                        \\n',\n",
       " '\\n\\n                            92\\n        \\n\\n\\n\\nThis player has moved down in the rankings since the previous rankings update\\n\\n\\n\\nOshane Thomas\\n\\n\\n\\nWI\\n\\n355\\n\\n                                419 v Australia, 06/06/2019\\n                        \\n',\n",
       " '\\n\\n                            93\\n        \\n\\n\\nKyle Jamieson\\n\\n\\n\\nNZ\\n\\n352\\n\\n                                352 v Bangladesh, 26/03/2021\\n                        \\n',\n",
       " '\\n\\n                            94\\n        \\n\\n\\nMichael Leask\\n\\n\\n\\nSCO\\n\\n351\\n\\n                                362 v Papua New Guinea, 17/08/2019\\n                        \\n',\n",
       " '\\n\\n                            95\\n        \\n\\n\\nZeeshan Maqsood\\n\\n\\n\\nOMA\\n\\n350\\n\\n                                350 v United States, 11/02/2020\\n                        \\n',\n",
       " '\\n\\n                            96\\n        \\n\\n\\n\\nThis player has moved up in the rankings since the previous rankings update\\n\\n\\n\\nSharafuddin Ashraf\\n\\n\\n\\nAFG\\n\\n347\\n\\n                                354 v West Indies, 25/03/2018\\n                        \\n',\n",
       " '\\n\\n\\n\\n\\n\\nThis player has moved down in the rankings since the previous rankings update\\n\\n\\n\\nRoston Chase\\n\\n\\n\\n\\n\\n347\\n\\n\\n',\n",
       " '\\n\\n                            98\\n        \\n\\n\\nBilal Khan\\n\\n\\n\\nOMA\\n\\n344\\n\\n                                344 v United States, 11/02/2020\\n                        \\n',\n",
       " '\\n\\n                            99\\n        \\n\\n\\nSaurabh Netravalkar\\n\\n\\n\\nUSA\\n\\n343\\n\\n                                352 v Oman, 11/02/2020\\n                        \\n',\n",
       " '\\n\\n                            100\\n        \\n\\n\\nNorman Vanua\\n\\n\\n\\nPNG\\n\\n342\\n\\n                                353 v Namibia, 22/09/2019\\n                        \\n']"
      ]
     },
     "execution_count": 114,
     "metadata": {},
     "output_type": "execute_result"
    }
   ],
   "source": [
    "   complete_info"
   ]
  },
  {
   "cell_type": "code",
   "execution_count": 115,
   "metadata": {},
   "outputs": [
    {
     "data": {
      "text/plain": [
       "['                            2        This player has moved up in the rankings since the previous rankings updateJosh HazlewoodAUS709                                733 v England, 26/01/2018                        ',\n",
       " '                            3        This player has moved down in the rankings since the previous rankings updateMujeeb Ur RahmanAFG708                                712 v Ireland, 24/01/2021                        ',\n",
       " '                            4        This player has moved down in the rankings since the previous rankings updateChris WoakesENG700                                711 v Sri Lanka, 04/07/2021                        ',\n",
       " '                            5        This player has moved down in the rankings since the previous rankings updateMehedi HasanBAN692                                725 v Sri Lanka, 25/05/2021                        ',\n",
       " '                            6        This player has moved down in the rankings since the previous rankings updateMatt HenryNZ691                                691 v Bangladesh, 26/03/2021                        ',\n",
       " '                            7        Jasprit BumrahIND679                                841 v West Indies, 01/11/2018                        ',\n",
       " '                            8        Mitchell StarcAUS652                                783 v New Zealand, 29/03/2015                        ',\n",
       " '                            9        Shakib Al HasanBAN650                                717 v Zimbabwe, 05/11/2009                        ',\n",
       " '                            10        Kagiso RabadaSA648                                724 v England, 29/05/2017                        ',\n",
       " '                            11        Mustafizur RahmanBAN640                                695 v West Indies, 14/12/2018                        ',\n",
       " '                            12        Pat CumminsAUS636                                729 v Pakistan, 12/06/2019                        ',\n",
       " '                            13        Shaheen AfridiPAK630                                637 v England, 08/07/2021                        ',\n",
       " '                            14        Mohammad AmirPAK628                                663 v Sri Lanka, 02/10/2019                        ',\n",
       " '                            15        Rashid KhanAFG626                                806 v Pakistan, 21/09/2018                        ',\n",
       " '                            16        This player has moved up in the rankings since the previous rankings updateAdam ZampaAUS625                                625 v West Indies, 26/07/2021                        ',\n",
       " '                            17        This player has moved down in the rankings since the previous rankings updateBhuvneshwar KumarIND621                                657 v West Indies, 17/10/2014                        ',\n",
       " '                            18        This player has moved down in the rankings since the previous rankings updateLachlan FergusonNZ619                                668 v West Indies, 22/06/2019                        ',\n",
       " '                            19        This player has moved down in the rankings since the previous rankings updateJofra ArcherENG609                                642 v Australia, 13/09/2020                        ',\n",
       " '                            20        Akila DananjayaSL604                                651 v England, 23/10/2018                        ',\n",
       " '                            21        Yuzvendra ChahalIND603                                730 v New Zealand, 23/01/2019                        ',\n",
       " '                            22        Lungi NgidiSA599                                621 v Australia, 04/03/2020                        ',\n",
       " '                            23        Mohammad NabiAFG596                                653 v Zimbabwe, 26/02/2017                        ',\n",
       " '                            24        Mark WoodENG594                                615 v Afghanistan, 18/06/2019                        ',\n",
       " '                            25        Alzarri JosephWI592                                594 v Australia, 22/07/2021                        ',\n",
       " '                            26        Mitchell SantnerNZ583                                663 v England, 25/02/2018                        ',\n",
       " '                            27        Mohammad ShamiIND566                                654 v Bangladesh, 19/03/2015                        ',\n",
       " '                            28        This player has moved up in the rankings since the previous rankings updateKuldeep YadavIND562                                765 v New Zealand, 26/01/2019                        ',\n",
       " '                            29        This player has moved up in the rankings since the previous rankings updateRavindra JadejaIND550                                738 v Zimbabwe, 01/08/2013                        ',\n",
       " '                            30        This player has moved down in the rankings since the previous rankings updateSheldon CottrellWI541                                581 v Sri Lanka, 26/02/2020                        ',\n",
       " '                            31        Ahmed RazaUAE531                                531 v Ireland, 18/01/2021                        ',\n",
       " '                            32        Andy McBrineIRE527                                570 v Zimbabwe, 01/07/2019                        ',\n",
       " '                            33        Shadab KhanPAK517                                607 v South Africa, 22/01/2019                        ',\n",
       " '                            34        Dushmantha ChameeraSL514                                538 v England, 29/06/2021                        ',\n",
       " '                            35        Wanindu De SilvaSL508                                511 v India, 20/07/2021                        ',\n",
       " 'Colin de GrandhommeNZ508                                522 v India, 11/02/2020                        ',\n",
       " '                            37        Tabraiz ShamsiSA501                                501 v Ireland, 16/07/2021                        ',\n",
       " 'David WilleyENG501                                551 v Sri Lanka, 02/07/2016                        ',\n",
       " '                            39        Tim SoutheeNZ500                                638 v England, 20/02/2015                        ',\n",
       " '                            40        Andile PhehlukwayoSA497                                613 v Pakistan, 30/01/2019                        ',\n",
       " 'Adil RashidENG497                                687 v Sri Lanka, 20/10/2018                        ',\n",
       " '                            42        Ish Sodhi496',\n",
       " '                            43        Mark WattSCO490                                495 v United States, 14/12/2019                        ',\n",
       " '                            44        Imad WasimPAK488                                570 v England, 19/05/2019                        ',\n",
       " '                            45        This player has moved up in the rankings since the previous rankings updateHasan AliPAK483                                766 v New Zealand, 06/01/2018                        ',\n",
       " '                            46        This player has moved up in the rankings since the previous rankings updateUsman KhanPAK482                                504 v Sri Lanka, 02/10/2019                        ',\n",
       " '                            47        This player has moved down in the rankings since the previous rankings updateJhye RichardsonAUS480                                548 v Pakistan, 24/03/2019                        ',\n",
       " '                            48        Rohan MustafaUAE477                                477 v Ireland, 18/01/2021                        ',\n",
       " '                            49        Simi SinghIRE473                                474 v Netherlands, 07/06/2021                        ',\n",
       " '                            50        Mashrafe MortazaBAN469                                653 v Zimbabwe, 23/01/2009                        ',\n",
       " '                            51        Mohammad Mohammad SaifuddinBAN468                                496 v West Indies, 25/01/2021                        ',\n",
       " '                            52        Safyaan SharifSCO467                                542 v England, 10/06/2018                        ',\n",
       " '                            53        Tendai ChataraZIM465                                562 v Ireland, 07/03/2015                        ',\n",
       " '                            54        Nuwan PradeepSL459                                506 v England, 13/10/2018                        ',\n",
       " '                            55        Jimmy NeeshamNZ458                                458 v Bangladesh, 26/03/2021                        ',\n",
       " '                            56        Saqib MahmoodENG454                                454 v Pakistan, 13/07/2021                        ',\n",
       " '                            57        This player has moved up in the rankings since the previous rankings updateJason HolderWI451                                486 v Sri Lanka, 10/03/2021                        ',\n",
       " '                            58        This player has moved down in the rankings since the previous rankings updateMoeen AliENG449                                629 v Australia, 24/06/2018                        ',\n",
       " '                            59        Wahab RiazPAK447                                522 v England, 13/11/2015                        ',\n",
       " '                            60        Faheem AshrafPAK445                                477 v South Africa, 02/04/2021                        ',\n",
       " '                            61        This player has moved up in the rankings since the previous rankings updateAkeal HoseinWI443                                443 v Australia, 26/07/2021                        ',\n",
       " 'This player has moved down in the rankings since the previous rankings updateSuranga LakmalSL443                                594 v Bangladesh, 25/01/2018                        ',\n",
       " '                            63        This player has moved down in the rankings since the previous rankings updateSikandar RazaZIM440                                494 v UAE, 16/04/2019                        ',\n",
       " '                            64        This player has moved down in the rankings since the previous rankings updateBlessing MuzarabaniZIM437                                440 v Bangladesh, 18/07/2021                        ',\n",
       " '                            65        This player has moved down in the rankings since the previous rankings updateTom CurranENG436                                443 v Sri Lanka, 04/07/2021                        ',\n",
       " 'This player has moved up in the rankings since the previous rankings updateAshton AgarAUS436                                436 v West Indies, 26/07/2021                        ',\n",
       " '                            67        This player has moved down in the rankings since the previous rankings updateTaskin AhmedBAN434                                456 v Sri Lanka, 28/03/2017                        ',\n",
       " '                            68        This player has moved down in the rankings since the previous rankings updateAnrich NortjeSA431                                431 v Ireland, 16/07/2021                        ',\n",
       " '                            69        This player has moved down in the rankings since the previous rankings updateJosh DaveySCO427                                436 v UAE, 15/12/2019                        ',\n",
       " '                            70        This player has moved down in the rankings since the previous rankings updateJoshua LittleIRE421                                421 v South Africa, 16/07/2021                        ',\n",
       " 'This player has moved down in the rankings since the previous rankings updateCraig YoungIRE421                                421 v South Africa, 16/07/2021                        ',\n",
       " '                            72        This player has moved down in the rankings since the previous rankings updateSean WilliamsZIM420                                474 v Sri Lanka, 30/06/2017                        ',\n",
       " '                            73        This player has moved down in the rankings since the previous rankings updateKane RichardsonAUS416                                448 v India, 17/01/2020                        ',\n",
       " '                            74        This player has moved down in the rankings since the previous rankings updateBen StokesENG410                                474 v New Zealand, 03/07/2019                        ',\n",
       " '                            75        This player has moved down in the rankings since the previous rankings updateShardul ThakurIND405                                411 v England, 28/03/2021                        ',\n",
       " '                            76        Rubel HossainBAN400                                514 v Pakistan, 01/12/2011                        ',\n",
       " '                            77        Gulbadin NaibAFG399                                472 v Ireland, 21/05/2019                        ',\n",
       " '                            78        Hardik PandyaIND394                                552 v South Africa, 16/02/2018                        ',\n",
       " 'Alasdair EvansSCO394                                421 v England, 10/06/2018                        ',\n",
       " 'Keshav MaharajSA394                                394 v Ireland, 16/07/2021                        ',\n",
       " '                            81        Barry McCarthyIRE391                                448 v West Indies, 09/01/2020                        ',\n",
       " '                            82        This player has moved down in the rankings since the previous rankings updateMitchell MarshAUS390                                511 v New Zealand, 04/12/2016                        ',\n",
       " '                            83        This player has moved down in the rankings since the previous rankings updateDhananjaya de SilvaSL388                                412 v Bangladesh, 23/05/2021                        ',\n",
       " '                            84        This player has moved down in the rankings since the previous rankings updateMarcus StoinisAUS377                                426 v England, 25/06/2019                        ',\n",
       " '                            85        This player has moved down in the rankings since the previous rankings updateLakshan SandakanSL376                                383 v Bangladesh, 25/05/2021                        ',\n",
       " '                            86        This player has moved down in the rankings since the previous rankings updateTaijul IslamBAN374                                397 v Zimbabwe, 06/03/2020                        ',\n",
       " '                            87        Mohammad NawazPAK370                                376 v South Africa, 07/04/2021                        ',\n",
       " '                            88        Donald TiripanoZIM367                                373 v Pakistan, 03/11/2020                        ',\n",
       " '                            89        Assad ValaPNG361                                369 v Namibia, 23/09/2019                        ',\n",
       " '                            90        Fred KlaassenNED358                                358 v Ireland, 07/06/2021                        ',\n",
       " '                            91        This player has moved up in the rankings since the previous rankings updateGeorge DockrellIRE357                                589 v West Indies, 16/02/2015                        ',\n",
       " '                            92        This player has moved down in the rankings since the previous rankings updateOshane ThomasWI355                                419 v Australia, 06/06/2019                        ',\n",
       " '                            93        Kyle JamiesonNZ352                                352 v Bangladesh, 26/03/2021                        ',\n",
       " '                            94        Michael LeaskSCO351                                362 v Papua New Guinea, 17/08/2019                        ',\n",
       " '                            95        Zeeshan MaqsoodOMA350                                350 v United States, 11/02/2020                        ',\n",
       " '                            96        This player has moved up in the rankings since the previous rankings updateSharafuddin AshrafAFG347                                354 v West Indies, 25/03/2018                        ',\n",
       " 'This player has moved down in the rankings since the previous rankings updateRoston Chase347',\n",
       " '                            98        Bilal KhanOMA344                                344 v United States, 11/02/2020                        ',\n",
       " '                            99        Saurabh NetravalkarUSA343                                352 v Oman, 11/02/2020                        ',\n",
       " '                            100        Norman VanuaPNG342                                353 v Namibia, 22/09/2019                        ']"
      ]
     },
     "execution_count": 115,
     "metadata": {},
     "output_type": "execute_result"
    }
   ],
   "source": [
    "complete_info = []\n",
    "for i in match_1:\n",
    "    complete_info.append(i.text.replace(\"\\n\",\"\").replace(\"\\xa0\",\"\"))\n",
    "complete_info"
   ]
  },
  {
   "cell_type": "markdown",
   "metadata": {},
   "source": [
    "6. Write a python program to scrape cricket rankings from ‘www.icc-cricket.com’. You have toscrape:\n",
    "i) Top 10 ODI teams in women’s cricket along with the records for matches, points andrating.\n",
    "ii) Top 10 women’s ODI players along with the records of their team and rating.\n",
    "iii) Top 10 women’s ODI all-rounder along with the records of their team andrating.\n"
   ]
  },
  {
   "cell_type": "code",
   "execution_count": 116,
   "metadata": {},
   "outputs": [],
   "source": [
    "url=\"https://www.icc-cricket.com/rankings/womens/team-rankings/odi\"\n",
    "page=requests.get(url)\n",
    "soup=BeautifulSoup(page.content)"
   ]
  },
  {
   "cell_type": "code",
   "execution_count": 117,
   "metadata": {},
   "outputs": [
    {
     "data": {
      "text/plain": [
       "<Response [200]>"
      ]
     },
     "execution_count": 117,
     "metadata": {},
     "output_type": "execute_result"
    }
   ],
   "source": [
    "page\n"
   ]
  },
  {
   "cell_type": "code",
   "execution_count": 118,
   "metadata": {},
   "outputs": [],
   "source": [
    "match=soup.find_all(\"td\",class_='rankings-block__banner--matches')\n"
   ]
  },
  {
   "cell_type": "code",
   "execution_count": 119,
   "metadata": {},
   "outputs": [
    {
     "data": {
      "text/plain": [
       "[<td class=\"rankings-block__banner--matches\">18</td>]"
      ]
     },
     "execution_count": 119,
     "metadata": {},
     "output_type": "execute_result"
    }
   ],
   "source": [
    "match"
   ]
  },
  {
   "cell_type": "code",
   "execution_count": 120,
   "metadata": {},
   "outputs": [],
   "source": [
    "no_of_match=[]\n",
    "match=soup.find_all(\"td\",class_='rankings-block__banner--matches')\n",
    "for i in match:\n",
    "    no_of_match.append(i.text)"
   ]
  },
  {
   "cell_type": "code",
   "execution_count": 121,
   "metadata": {},
   "outputs": [
    {
     "data": {
      "text/plain": [
       "['18']"
      ]
     },
     "execution_count": 121,
     "metadata": {},
     "output_type": "execute_result"
    }
   ],
   "source": [
    "no_of_match"
   ]
  },
  {
   "cell_type": "code",
   "execution_count": 122,
   "metadata": {},
   "outputs": [],
   "source": [
    "complete_info=[]\n",
    "match_1=soup.find_all(\"td\",class_='table-body__cell u-center-text')\n",
    "for i in match_1:\n",
    "    complete_info.append(i.text)\n",
    "    complete_info"
   ]
  },
  {
   "cell_type": "code",
   "execution_count": 123,
   "metadata": {},
   "outputs": [
    {
     "data": {
      "text/plain": [
       "['20',\n",
       " '2,370',\n",
       " '24',\n",
       " '2,828',\n",
       " '23',\n",
       " '2,535',\n",
       " '21',\n",
       " '1,947',\n",
       " '17',\n",
       " '1,427',\n",
       " '20',\n",
       " '1,496',\n",
       " '5',\n",
       " '306',\n",
       " '11',\n",
       " '519',\n",
       " '2',\n",
       " '25']"
      ]
     },
     "execution_count": 123,
     "metadata": {},
     "output_type": "execute_result"
    }
   ],
   "source": [
    " complete_info"
   ]
  },
  {
   "cell_type": "code",
   "execution_count": 124,
   "metadata": {},
   "outputs": [],
   "source": [
    "no_of_match = []\n",
    "for i in range(0,len(complete_info),2):\n",
    "    no_of_match.append(complete_info[i])\n",
    "    no_of_match"
   ]
  },
  {
   "cell_type": "code",
   "execution_count": 125,
   "metadata": {},
   "outputs": [
    {
     "data": {
      "text/plain": [
       "['20', '24', '23', '21', '17', '20', '5', '11', '2']"
      ]
     },
     "execution_count": 125,
     "metadata": {},
     "output_type": "execute_result"
    }
   ],
   "source": [
    " no_of_match"
   ]
  },
  {
   "cell_type": "code",
   "execution_count": 126,
   "metadata": {},
   "outputs": [],
   "source": [
    "no_of_points = []\n",
    "for i in range(1,len(complete_info),2):\n",
    "    no_of_points.append(complete_info[i])\n",
    "    no_of_points"
   ]
  },
  {
   "cell_type": "code",
   "execution_count": 127,
   "metadata": {},
   "outputs": [
    {
     "data": {
      "text/plain": [
       "['2,370', '2,828', '2,535', '1,947', '1,427', '1,496', '306', '519', '25']"
      ]
     },
     "execution_count": 127,
     "metadata": {},
     "output_type": "execute_result"
    }
   ],
   "source": [
    "no_of_points"
   ]
  },
  {
   "cell_type": "code",
   "execution_count": 128,
   "metadata": {},
   "outputs": [],
   "source": [
    "rating_info=[]\n",
    "match_1=soup.find_all(\"td\",class_='table-body__cell u-text-right rating')\n",
    "for i in match_1:\n",
    "    rating_info.append(i.text)\n",
    "    rating_info"
   ]
  },
  {
   "cell_type": "code",
   "execution_count": 129,
   "metadata": {},
   "outputs": [
    {
     "data": {
      "text/plain": [
       "['119', '118', '110', '93', '84', '75', '61', '47', '13']"
      ]
     },
     "execution_count": 129,
     "metadata": {},
     "output_type": "execute_result"
    }
   ],
   "source": [
    " rating_info"
   ]
  },
  {
   "cell_type": "markdown",
   "metadata": {},
   "source": [
    "ii) Top 10 women’s ODI players along with the records of their team and rating"
   ]
  },
  {
   "cell_type": "code",
   "execution_count": 130,
   "metadata": {},
   "outputs": [],
   "source": [
    "url=\"https://www.icc-cricket.com/rankings/womens/player-rankings/odi/batting\"\n",
    "page=requests.get(url)\n",
    "soup=BeautifulSoup(page.content)\n"
   ]
  },
  {
   "cell_type": "code",
   "execution_count": 131,
   "metadata": {},
   "outputs": [
    {
     "data": {
      "text/plain": [
       "<Response [200]>"
      ]
     },
     "execution_count": 131,
     "metadata": {},
     "output_type": "execute_result"
    }
   ],
   "source": [
    "page"
   ]
  },
  {
   "cell_type": "code",
   "execution_count": 132,
   "metadata": {},
   "outputs": [],
   "source": [
    "complete_info=[]\n",
    "match_1=soup.find_all(\"tr\",class_=\"table-body\")\n",
    "for i in match_1:\n",
    "    complete_info.append(i.text)\n",
    "    complete_info"
   ]
  },
  {
   "cell_type": "code",
   "execution_count": 133,
   "metadata": {},
   "outputs": [
    {
     "data": {
      "text/plain": [
       "['\\n\\n                            2\\n        \\n\\n\\nLizelle Lee\\n\\n\\n\\nSA\\n\\n758\\n\\n                                773 v India, 14/03/2021\\n                        \\n',\n",
       " '\\n\\n                            3\\n        \\n\\n\\nAlyssa Healy\\n\\n\\n\\nAUS\\n\\n756\\n\\n                                756 v New Zealand, 10/04/2021\\n                        \\n',\n",
       " '\\n\\n                            4\\n        \\n\\n\\nTammy Beaumont\\n\\n\\n\\nENG\\n\\n754\\n\\n                                791 v India, 27/06/2021\\n                        \\n',\n",
       " '\\n\\n                            5\\n        \\n\\n\\nStafanie Taylor\\n\\n\\n\\nWI\\n\\n736\\n\\n                                766 v Pakistan, 07/07/2021\\n                        \\n',\n",
       " '\\n\\n                            6\\n        \\n\\n\\nMeg Lanning\\n\\n\\n\\nAUS\\n\\n723\\n\\n                                834 v New Zealand, 24/02/2016\\n                        \\n',\n",
       " '\\n\\n                            7\\n        \\n\\n\\nAmy Satterthwaite\\n\\n\\n\\nNZ\\n\\n715\\n\\n                                756 v Australia, 02/03/2017\\n                        \\n',\n",
       " '\\n\\n                            8\\n        \\n\\n\\nNatalie Sciver\\n\\n\\n\\nENG\\n\\n706\\n\\n                                712 v India, 25/02/2019\\n                        \\n',\n",
       " '\\n\\n                            9\\n        \\n\\n\\nSmriti Mandhana\\n\\n\\n\\nIND\\n\\n701\\n\\n                                797 v England, 28/02/2019\\n                        \\n',\n",
       " '\\n\\n                            10\\n        \\n\\n\\nLaura Wolvaardt\\n\\n\\n\\nSA\\n\\n683\\n\\n                                725 v India, 07/03/2021\\n                        \\n',\n",
       " '\\n\\n                            11\\n        \\n\\n\\nEllyse Perry\\n\\n\\n\\nAUS\\n\\n679\\n\\n                                766 v West Indies, 11/09/2019\\n                        \\n',\n",
       " '\\n\\n                            12\\n        \\n\\n\\nChamari Athapaththu\\n\\n\\n\\nSL\\n\\n667\\n\\n                                691 v South Africa, 14/02/2019\\n                        \\n',\n",
       " '\\n\\n                            13\\n        \\n\\n\\nRachael Haynes\\n\\n\\n\\nAUS\\n\\n657\\n\\n                                680 v New Zealand, 07/04/2021\\n                        \\n',\n",
       " '\\n\\n                            14\\n        \\n\\n\\nHeather Knight\\n\\n\\n\\nENG\\n\\n644\\n\\n                                693 v West Indies, 06/06/2019\\n                        \\n',\n",
       " '\\n\\n                            15\\n        \\n\\n\\nMignon du Preez\\n\\n\\n\\nSA\\n\\n620\\n\\n                                620 v India, 17/03/2021\\n                        \\n',\n",
       " '\\n\\n                            16\\n        \\n\\n\\nBeth Mooney\\n\\n\\n\\nAUS\\n\\n600\\n\\n                                613 v Sri Lanka, 05/10/2019\\n                        \\n',\n",
       " '\\n\\n                            17\\n        \\n\\n\\nHarmanpreet Kaur\\n\\n\\n\\nIND\\n\\n594\\n\\n                                679 v South Africa, 28/11/2014\\n                        \\n',\n",
       " '\\n\\n                            18\\n        \\n\\n\\nSuzie Bates\\n\\n\\n\\nNZ\\n\\n577\\n\\n                                775 v Australia, 24/02/2016\\n                        \\n',\n",
       " '\\n\\n                            19\\n        \\n\\n\\nSophie Devine\\n\\n\\n\\nNZ\\n\\n573\\n\\n                                678 v Australia, 03/03/2019\\n                        \\n',\n",
       " '\\n\\n                            20\\n        \\n\\n\\nPoonam Raut\\n\\n\\n\\nIND\\n\\n570\\n\\n                                606 v South Africa, 14/03/2021\\n                        \\n',\n",
       " '\\n\\n                            21\\n        \\n\\n\\nMarizanne Kapp\\n\\n\\n\\nSA\\n\\n560\\n\\n                                569 v Pakistan, 23/01/2021\\n                        \\n',\n",
       " '\\n\\n                            22\\n        \\n\\n\\nDeepti Sharma\\n\\n\\n\\nIND\\n\\n550\\n\\n                                622 v South Africa, 09/10/2019\\n                        \\n',\n",
       " '\\n\\n                            23\\n        \\n\\n\\nAmy Jones\\n\\n\\n\\nENG\\n\\n539\\n\\n                                564 v West Indies, 13/06/2019\\n                        \\n',\n",
       " '\\n\\n                            24\\n        \\n\\n\\nNahida Khan\\n\\n\\n\\nPAK\\n\\n506\\n\\n                                603 v England, 14/12/2019\\n                        \\n',\n",
       " '\\n\\n                            25\\n        \\n\\n\\n\\nThis player has moved up in the rankings since the previous rankings update\\n\\n\\n\\nDeandra Dottin\\n\\n\\n\\nWI\\n\\n499\\n\\n                                650 v New Zealand, 06/10/2013\\n                        \\n',\n",
       " '\\n\\n                            26\\n        \\n\\n\\nDane van Niekerk\\n\\n\\n\\nSA\\n\\n498\\n\\n                                677 v Sri Lanka, 11/02/2019\\n                        \\n',\n",
       " '\\n\\n                            27\\n        \\n\\n\\n\\nThis player has moved down in the rankings since the previous rankings update\\n\\n\\n\\nHayley Matthews\\n\\n\\n\\nWI\\n\\n490\\n\\n                                535 v Pakistan, 12/07/2021\\n                        \\n',\n",
       " '\\n\\n                            28\\n        \\n\\n\\nBismah Maroof\\n\\n\\n\\nPAK\\n\\n470\\n\\n                                570 v New Zealand, 13/11/2016\\n                        \\n',\n",
       " '\\n\\n                            29\\n        \\n\\n\\n\\nThis player has moved up in the rankings since the previous rankings update\\n\\n\\n\\nNicole Bolton\\n\\n\\n\\nAUS\\n\\n456\\n\\n                                687 v India, 15/03/2018\\n                        \\n',\n",
       " '\\n\\n                            30\\n        \\n\\n\\n\\nThis player has moved down in the rankings since the previous rankings update\\n\\n\\n\\nJaveria Khan\\n\\n\\n\\nPAK\\n\\n453\\n\\n                                573 v South Africa, 15/03/2015\\n                        \\n',\n",
       " '\\n\\n                            31\\n        \\n\\n\\nFargana Hoque\\n\\n\\n\\nBAN\\n\\n445\\n\\n                                446 v Pakistan, 04/11/2019\\n                        \\n',\n",
       " '\\n\\n                            32\\n        \\n\\n\\nAshleigh Gardner\\n\\n\\n\\nAUS\\n\\n440\\n\\n                                452 v New Zealand, 07/04/2021\\n                        \\n',\n",
       " '\\n\\n                            33\\n        \\n\\n\\nRumana Ahmed\\n\\n\\n\\nBAN\\n\\n437\\n\\n                                439 v Pakistan, 04/11/2019\\n                        \\n',\n",
       " '\\n\\n\\n\\n\\nChloe-Lesleigh Tryon\\n\\n\\n\\nSA\\n\\n437\\n\\n                                548 v Pakistan, 12/05/2019\\n                        \\n',\n",
       " '\\n\\n                            35\\n        \\n\\n\\nKatie Perkins\\n\\n\\n\\nNZ\\n\\n413\\n\\n                                503 v South Africa, 25/01/2020\\n                        \\n',\n",
       " '\\n\\n                            36\\n        \\n\\n\\n\\nThis player has moved up in the rankings since the previous rankings update\\n\\n\\n\\nUmaima Sohail\\n\\n\\n\\nPAK\\n\\n403\\n\\n                                403 v West Indies, 18/07/2021\\n                        \\n',\n",
       " '\\n\\n                            37\\n        \\n\\n\\nSune Luus\\n\\n\\n\\nSA\\n\\n398\\n\\n                                469 v England, 05/07/2017\\n                        \\n',\n",
       " '\\n\\n                            38\\n        \\n\\n\\n\\nThis player has moved down in the rankings since the previous rankings update\\n\\n\\n\\nNida Dar\\n\\n\\n\\nPAK\\n\\n397\\n\\n                                408 v West Indies, 15/07/2021\\n                        \\n',\n",
       " '\\n\\n                            39\\n        \\n\\n\\n\\nThis player has moved down in the rankings since the previous rankings update\\n\\n\\n\\nAmelia Kerr\\n\\n\\n\\nNZ\\n\\n396\\n\\n                                409 v Australia, 07/04/2021\\n                        \\n',\n",
       " '\\n\\n                            40\\n        \\n\\n\\n\\nThis player has moved up in the rankings since the previous rankings update\\n\\n\\n\\nJess Jonassen\\n\\n\\n\\nAUS\\n\\n380\\n\\n                                410 v England, 07/07/2019\\n                        \\n',\n",
       " '\\n\\n\\n\\n\\n\\nThis player has moved up in the rankings since the previous rankings update\\n\\n\\n\\nDanielle Wyatt\\n\\n\\n\\nENG\\n\\n380\\n\\n                                465 v Pakistan, 09/12/2019\\n                        \\n',\n",
       " '\\n\\n                            42\\n        \\n\\n\\n\\nThis player has moved up in the rankings since the previous rankings update\\n\\n\\n\\nKyshona Knight\\n\\n\\n\\nWI\\n\\n379\\n\\n                                379 v Pakistan, 18/07/2021\\n                        \\n',\n",
       " '\\n\\n                            43\\n        \\n\\n\\n\\nThis player has moved down in the rankings since the previous rankings update\\n\\n\\n\\nAliya Riaz\\n\\n\\n\\nPAK\\n\\n375\\n\\n                                410 v South Africa, 26/01/2021\\n                        \\n',\n",
       " '\\n\\n                            44\\n        \\n\\n\\n\\nThis player has moved down in the rankings since the previous rankings update\\n\\n\\n\\nKatherine Brunt\\n\\n\\n\\nENG\\n\\n371\\n\\n                                403 v India, 22/02/2019\\n                        \\n',\n",
       " '\\n\\n                            45\\n        \\n\\n\\nLauren Winfield\\n\\n\\n\\nENG\\n\\n367\\n\\n                                395 v Australia, 22/10/2017\\n                        \\n',\n",
       " '\\n\\n                            46\\n        \\n\\n\\nTrisha Chetty\\n\\n\\n\\nSA\\n\\n359\\n\\n                                585 v Ireland, 09/08/2016\\n                        \\n',\n",
       " '\\n\\n                            47\\n        \\n\\n\\nKatey Martin\\n\\n\\n\\nNZ\\n\\n357\\n\\n                                483 v Australia, 05/03/2017\\n                        \\n',\n",
       " '\\n\\n                            48\\n        \\n\\n\\nHarshitha Madavi\\n\\n\\n\\nSL\\n\\n353\\n\\n                                356 v Australia, 09/10/2019\\n                        \\n',\n",
       " '\\n\\n                            49\\n        \\n\\n\\nBrooke Halliday\\n\\n\\n\\nNZ\\n\\n350\\n\\n                                350 v Australia, 10/04/2021\\n                        \\n',\n",
       " '\\n\\n                            50\\n        \\n\\n\\nShikha Pandey\\n\\n\\n\\nIND\\n\\n328\\n\\n                                383 v South Africa, 14/10/2019\\n                        \\n',\n",
       " '\\n\\n                            51\\n        \\n\\n\\nFran Wilson\\n\\n\\n\\nENG\\n\\n321\\n\\n                                355 v India, 09/04/2018\\n                        \\n',\n",
       " '\\n\\n                            52\\n        \\n\\n\\nMaddie Green\\n\\n\\n\\nNZ\\n\\n320\\n\\n                                327 v Australia, 07/04/2021\\n                        \\n',\n",
       " '\\n\\n                            53\\n        \\n\\n\\nDilani Manodara\\n\\n\\n\\nSL\\n\\n319\\n\\n                                419 v West Indies, 15/10/2017\\n                        \\n',\n",
       " '\\n\\n                            54\\n        \\n\\n\\nNigar Sultana\\n\\n\\n\\nBAN\\n\\n317\\n\\n                                336 v Pakistan, 02/11/2019\\n                        \\n',\n",
       " '\\n\\n                            55\\n        \\n\\n\\nJhulan Goswami\\n\\n\\n\\nIND\\n\\n311\\n\\n                                430 v New Zealand, 28/06/2015\\n                        \\n',\n",
       " '\\n\\n                            56\\n        \\n\\n\\nLara Goodall\\n\\n\\n\\nSA\\n\\n305\\n\\n                                320 v India, 14/03/2021\\n                        \\n',\n",
       " '\\n\\n                            57\\n        \\n\\n\\n\\nThis player has moved up in the rankings since the previous rankings update\\n\\n\\n\\nJemimah Rodriques\\n\\n\\n\\nIND\\n\\n302\\n\\n                                411 v West Indies, 06/11/2019\\n                        \\n',\n",
       " '\\n\\n                            58\\n        \\n\\n\\n\\nThis player has moved down in the rankings since the previous rankings update\\n\\n\\n\\nChedean Nation\\n\\n\\n\\nWI\\n\\n297\\n\\n                                314 v Pakistan, 12/07/2021\\n                        \\n',\n",
       " '\\n\\n                            59\\n        \\n\\n\\nShemaine Campbelle\\n\\n\\n\\nWI\\n\\n288\\n\\n                                403 v New Zealand, 14/09/2014\\n                        \\n',\n",
       " '\\n\\n                            60\\n        \\n\\n\\nPriya Punia\\n\\n\\n\\nIND\\n\\n287\\n\\n                                305 v South Africa, 17/03/2021\\n                        \\n',\n",
       " '\\n\\n                            61\\n        \\n\\n\\nRachel Priest\\n\\n\\n\\nNZ\\n\\n285\\n\\n                                589 v Sri Lanka, 07/11/2015\\n                        \\n',\n",
       " '\\n\\n                            62\\n        \\n\\n\\nSidra Ameen\\n\\n\\n\\nPAK\\n\\n268\\n\\n                                319 v South Africa, 09/05/2019\\n                        \\n',\n",
       " '\\n\\n                            63\\n        \\n\\n\\n\\nThis player has moved up in the rankings since the previous rankings update\\n\\n\\n\\nLauren Down\\n\\n\\n\\nNZ\\n\\n264\\n\\n                                275 v Australia, 04/04/2021\\n                        \\n',\n",
       " '\\n\\n\\n\\n\\n\\nThis player has moved down in the rankings since the previous rankings update\\n\\n\\n\\nKycia Knight\\n\\n\\n\\nWI\\n\\n264\\n\\n                                404 v Sri Lanka, 18/05/2015\\n                        \\n',\n",
       " '\\n\\n                            65\\n        \\n\\n\\nNilakshi Silva\\n\\n\\n\\nSL\\n\\n261\\n\\n                                279 v Australia, 07/10/2019\\n                        \\n',\n",
       " '\\n\\n                            66\\n        \\n\\n\\nNicola Carey\\n\\n\\n\\nAUS\\n\\n259\\n\\n                                259 v New Zealand, 10/04/2021\\n                        \\n',\n",
       " '\\n\\n                            67\\n        \\n\\n\\nHayley Jensen\\n\\n\\n\\nNZ\\n\\n256\\n\\n                                271 v England, 23/02/2021\\n                        \\n',\n",
       " '\\n\\n                            68\\n        \\n\\n\\n\\nThis player has moved up in the rankings since the previous rankings update\\n\\n\\n\\nMuneeba Ali\\n\\n\\n\\nPAK\\n\\n252\\n\\n                                252 v West Indies, 18/07/2021\\n                        \\n',\n",
       " '\\n\\n                            69\\n        \\n\\n\\n\\nThis player has moved down in the rankings since the previous rankings update\\n\\n\\n\\nSalma Khatun\\n\\n\\n\\nBAN\\n\\n244\\n\\n                                366 v South Africa, 22/09/2013\\n                        \\n',\n",
       " '\\n\\n                            70\\n        \\n\\n\\n\\nThis player has moved down in the rankings since the previous rankings update\\n\\n\\n\\nGeorgia Wareham\\n\\n\\n\\nAUS\\n\\n239\\n\\n                                239 v New Zealand, 10/04/2021\\n                        \\n',\n",
       " '\\n\\n\\n\\n\\n\\nThis player has moved down in the rankings since the previous rankings update\\n\\n\\n\\nTaniya Bhatia\\n\\n\\n\\nIND\\n\\n239\\n\\n                                291 v West Indies, 06/11/2019\\n                        \\n',\n",
       " '\\n\\n                            72\\n        \\n\\n\\n\\nThis player has moved down in the rankings since the previous rankings update\\n\\n\\n\\nShafali Verma\\n\\n\\n\\nIND\\n\\n235\\n\\n                                235 v England, 03/07/2021\\n                        \\n',\n",
       " '\\n\\n                            73\\n        \\n\\n\\n\\nThis player has moved down in the rankings since the previous rankings update\\n\\n\\n\\nAnne Bosch\\n\\n\\n\\nSA\\n\\n234\\n\\n                                234 v India, 17/03/2021\\n                        \\n',\n",
       " '\\n\\n\\n\\n\\n\\nThis player has moved down in the rankings since the previous rankings update\\n\\n\\n\\nAndrie Steyn\\n\\n\\n\\nSA\\n\\n234\\n\\n                                378 v Ireland, 19/05/2017\\n                        \\n',\n",
       " '\\n\\n\\n\\n\\n\\nThis player has moved down in the rankings since the previous rankings update\\n\\n\\n\\nKate Cross\\n\\n\\n\\nENG\\n\\n234\\n\\n                                234 v India, 03/07/2021\\n                        \\n',\n",
       " '\\n\\n                            76\\n        \\n\\n\\nPoonam Yadav\\n\\n\\n\\nIND\\n\\n232\\n\\n                                260 v South Africa, 11/10/2019\\n                        \\n',\n",
       " '\\n\\n                            77\\n        \\n\\n\\nSophia Dunkley\\n\\n\\n\\nENG\\n\\n230\\n\\n                                230 v India, 03/07/2021\\n                        \\n',\n",
       " '\\n\\n                            78\\n        \\n\\n\\n\\nThis player has moved down in the rankings since the previous rankings update\\n\\n\\n\\nSheneta Grimmond\\n\\n\\n\\nWI\\n\\n228\\n\\n                                268 v India, 01/11/2019\\n                        \\n',\n",
       " '\\n\\n                            79\\n        \\n\\n\\n\\nThis player has moved down in the rankings since the previous rankings update\\n\\n\\n\\nAvanthika Mendis\\n\\n\\n\\nSL\\n\\n226\\n\\n                                408 v India, 21/01/2014\\n                        \\n',\n",
       " '\\n\\n                            80\\n        \\n\\n\\nSharmin Supta\\n\\n\\n\\nBAN\\n\\n221\\n\\n                                226 v Pakistan, 02/11/2019\\n                        \\n',\n",
       " '\\n\\n                            81\\n        \\n\\n\\n\\nThis player has moved up in the rankings since the previous rankings update\\n\\n\\n\\nBritney Cooper\\n\\n\\n\\nWI\\n\\n220\\n\\n                                272 v South Africa, 27/02/2016\\n                        \\n',\n",
       " '\\n\\n                            82\\n        \\n\\n\\n\\nThis player has moved down in the rankings since the previous rankings update\\n\\n\\n\\nLeigh Kasperek\\n\\n\\n\\nNZ\\n\\n219\\n\\n                                259 v South Africa, 25/01/2020\\n                        \\n',\n",
       " '\\n\\n\\n\\n\\n\\nThis player has moved down in the rankings since the previous rankings update\\n\\n\\n\\nAnya Shrubsole\\n\\n\\n\\nENG\\n\\n219\\n\\n                                249 v West Indies, 09/06/2019\\n                        \\n',\n",
       " '\\n\\n                            84\\n        \\n\\n\\n\\nThis player has moved down in the rankings since the previous rankings update\\n\\n\\n\\nAnushka Sanjeewani\\n\\n\\n\\nSL\\n\\n211\\n\\n                                222 v Australia, 07/10/2019\\n                        \\n',\n",
       " '\\n\\n                            85\\n        \\n\\n\\n\\nThis player has moved down in the rankings since the previous rankings update\\n\\n\\n\\nRajeshwari Gayakwad\\n\\n\\n\\nIND\\n\\n207\\n\\n                                229 v South Africa, 14/03/2021\\n                        \\n',\n",
       " '\\n\\n                            86\\n        \\n\\n\\nInoka Ranaweera\\n\\n\\n\\nSL\\n\\n205\\n\\n                                230 v Australia, 29/06/2017\\n                        \\n',\n",
       " '\\n\\n                            87\\n        \\n\\n\\nLea Tahuhu\\n\\n\\n\\nNZ\\n\\n204\\n\\n                                204 v Australia, 10/04/2021\\n                        \\n',\n",
       " '\\n\\n                            88\\n        \\n\\n\\n\\nThis player has moved down in the rankings since the previous rankings update\\n\\n\\n\\nNatasha McLean\\n\\n\\n\\nWI\\n\\n202\\n\\n                                243 v New Zealand, 08/10/2013\\n                        \\n',\n",
       " '\\n\\n                            89\\n        \\n\\n\\n\\nThis player has moved down in the rankings since the previous rankings update\\n\\n\\n\\nAyesha Zafar\\n\\n\\n\\nPAK\\n\\n197\\n\\n                                348 v England, 27/06/2017\\n                        \\n',\n",
       " '\\n\\n                            90\\n        \\n\\n\\n\\nThis player has moved down in the rankings since the previous rankings update\\n\\n\\n\\nMegan Schutt\\n\\n\\n\\nAUS\\n\\n195\\n\\n                                209 v Sri Lanka, 23/09/2016\\n                        \\n',\n",
       " '\\n\\n\\n\\n\\n\\nThis player has moved down in the rankings since the previous rankings update\\n\\n\\n\\nOshadi Ranasinghe\\n\\n\\n\\nSL\\n\\n195\\n\\n                                206 v England, 21/03/2019\\n                        \\n',\n",
       " '\\n\\n                            92\\n        \\n\\n\\n\\nThis player has moved up in the rankings since the previous rankings update\\n\\n\\n\\nNashra Sandhu\\n\\n\\n\\nPAK\\n\\n188\\n\\n                                228 v Bangladesh, 02/11/2019\\n                        \\n',\n",
       " '\\n\\n                            93\\n        \\n\\n\\n\\nThis player has moved down in the rankings since the previous rankings update\\n\\n\\n\\nShamilia Connell\\n\\n\\n\\nWI\\n\\n186\\n\\n                                230 v Pakistan, 09/02/2019\\n                        \\n',\n",
       " '\\n\\n                            94\\n        \\n\\n\\nStacy-Ann King\\n\\n\\n\\nWI\\n\\n182\\n\\n                                390 v India, 29/02/2012\\n                        \\n',\n",
       " '\\n\\n                            95\\n        \\n\\n\\nSanjida Islam\\n\\n\\n\\nBAN\\n\\n181\\n\\n                                192 v South Africa, 04/05/2018\\n                        \\n',\n",
       " '\\n\\n                            96\\n        \\n\\n\\n\\nThis player has moved up in the rankings since the previous rankings update\\n\\n\\n\\nChinelle Henry\\n\\n\\n\\nWI\\n\\n180\\n\\n                                196 v Australia, 11/09/2019\\n                        \\n',\n",
       " '\\n\\n                            97\\n        \\n\\n\\n\\nThis player has moved down in the rankings since the previous rankings update\\n\\n\\n\\nJess Kerr\\n\\n\\n\\nNZ\\n\\n179\\n\\n                                179 v Australia, 10/04/2021\\n                        \\n',\n",
       " '\\n\\n\\n\\n\\n\\nThis player has moved down in the rankings since the previous rankings update\\n\\n\\n\\nHannah Rowe\\n\\n\\n\\nNZ\\n\\n179\\n\\n                                191 v Australia, 04/04/2021\\n                        \\n',\n",
       " '\\n\\n\\n\\n\\nSushma Verma\\n\\n\\n\\nIND\\n\\n179\\n\\n                                261 v Australia, 18/03/2018\\n                        \\n',\n",
       " '\\n\\n                            100\\n        \\n\\n\\nShabnim Ismail\\n\\n\\n\\nSA\\n\\n178\\n\\n                                290 v Ireland, 14/01/2014\\n                        \\n']"
      ]
     },
     "execution_count": 133,
     "metadata": {},
     "output_type": "execute_result"
    }
   ],
   "source": [
    " complete_info"
   ]
  },
  {
   "cell_type": "code",
   "execution_count": 134,
   "metadata": {},
   "outputs": [
    {
     "data": {
      "text/plain": [
       "['                            2        Lizelle LeeSA758                                773 v India, 14/03/2021                        ',\n",
       " '                            3        Alyssa HealyAUS756                                756 v New Zealand, 10/04/2021                        ',\n",
       " '                            4        Tammy BeaumontENG754                                791 v India, 27/06/2021                        ',\n",
       " '                            5        Stafanie TaylorWI736                                766 v Pakistan, 07/07/2021                        ',\n",
       " '                            6        Meg LanningAUS723                                834 v New Zealand, 24/02/2016                        ',\n",
       " '                            7        Amy SatterthwaiteNZ715                                756 v Australia, 02/03/2017                        ',\n",
       " '                            8        Natalie SciverENG706                                712 v India, 25/02/2019                        ',\n",
       " '                            9        Smriti MandhanaIND701                                797 v England, 28/02/2019                        ',\n",
       " '                            10        Laura WolvaardtSA683                                725 v India, 07/03/2021                        ',\n",
       " '                            11        Ellyse PerryAUS679                                766 v West Indies, 11/09/2019                        ',\n",
       " '                            12        Chamari AthapaththuSL667                                691 v South Africa, 14/02/2019                        ',\n",
       " '                            13        Rachael HaynesAUS657                                680 v New Zealand, 07/04/2021                        ',\n",
       " '                            14        Heather KnightENG644                                693 v West Indies, 06/06/2019                        ',\n",
       " '                            15        Mignon du PreezSA620                                620 v India, 17/03/2021                        ',\n",
       " '                            16        Beth MooneyAUS600                                613 v Sri Lanka, 05/10/2019                        ',\n",
       " '                            17        Harmanpreet KaurIND594                                679 v South Africa, 28/11/2014                        ',\n",
       " '                            18        Suzie BatesNZ577                                775 v Australia, 24/02/2016                        ',\n",
       " '                            19        Sophie DevineNZ573                                678 v Australia, 03/03/2019                        ',\n",
       " '                            20        Poonam RautIND570                                606 v South Africa, 14/03/2021                        ',\n",
       " '                            21        Marizanne KappSA560                                569 v Pakistan, 23/01/2021                        ',\n",
       " '                            22        Deepti SharmaIND550                                622 v South Africa, 09/10/2019                        ',\n",
       " '                            23        Amy JonesENG539                                564 v West Indies, 13/06/2019                        ',\n",
       " '                            24        Nahida KhanPAK506                                603 v England, 14/12/2019                        ',\n",
       " '                            25        This player has moved up in the rankings since the previous rankings updateDeandra DottinWI499                                650 v New Zealand, 06/10/2013                        ',\n",
       " '                            26        Dane van NiekerkSA498                                677 v Sri Lanka, 11/02/2019                        ',\n",
       " '                            27        This player has moved down in the rankings since the previous rankings updateHayley MatthewsWI490                                535 v Pakistan, 12/07/2021                        ',\n",
       " '                            28        Bismah MaroofPAK470                                570 v New Zealand, 13/11/2016                        ',\n",
       " '                            29        This player has moved up in the rankings since the previous rankings updateNicole BoltonAUS456                                687 v India, 15/03/2018                        ',\n",
       " '                            30        This player has moved down in the rankings since the previous rankings updateJaveria KhanPAK453                                573 v South Africa, 15/03/2015                        ',\n",
       " '                            31        Fargana HoqueBAN445                                446 v Pakistan, 04/11/2019                        ',\n",
       " '                            32        Ashleigh GardnerAUS440                                452 v New Zealand, 07/04/2021                        ',\n",
       " '                            33        Rumana AhmedBAN437                                439 v Pakistan, 04/11/2019                        ',\n",
       " 'Chloe-Lesleigh TryonSA437                                548 v Pakistan, 12/05/2019                        ',\n",
       " '                            35        Katie PerkinsNZ413                                503 v South Africa, 25/01/2020                        ',\n",
       " '                            36        This player has moved up in the rankings since the previous rankings updateUmaima SohailPAK403                                403 v West Indies, 18/07/2021                        ',\n",
       " '                            37        Sune LuusSA398                                469 v England, 05/07/2017                        ',\n",
       " '                            38        This player has moved down in the rankings since the previous rankings updateNida DarPAK397                                408 v West Indies, 15/07/2021                        ',\n",
       " '                            39        This player has moved down in the rankings since the previous rankings updateAmelia KerrNZ396                                409 v Australia, 07/04/2021                        ',\n",
       " '                            40        This player has moved up in the rankings since the previous rankings updateJess JonassenAUS380                                410 v England, 07/07/2019                        ',\n",
       " 'This player has moved up in the rankings since the previous rankings updateDanielle WyattENG380                                465 v Pakistan, 09/12/2019                        ',\n",
       " '                            42        This player has moved up in the rankings since the previous rankings updateKyshona KnightWI379                                379 v Pakistan, 18/07/2021                        ',\n",
       " '                            43        This player has moved down in the rankings since the previous rankings updateAliya RiazPAK375                                410 v South Africa, 26/01/2021                        ',\n",
       " '                            44        This player has moved down in the rankings since the previous rankings updateKatherine BruntENG371                                403 v India, 22/02/2019                        ',\n",
       " '                            45        Lauren WinfieldENG367                                395 v Australia, 22/10/2017                        ',\n",
       " '                            46        Trisha ChettySA359                                585 v Ireland, 09/08/2016                        ',\n",
       " '                            47        Katey MartinNZ357                                483 v Australia, 05/03/2017                        ',\n",
       " '                            48        Harshitha MadaviSL353                                356 v Australia, 09/10/2019                        ',\n",
       " '                            49        Brooke HallidayNZ350                                350 v Australia, 10/04/2021                        ',\n",
       " '                            50        Shikha PandeyIND328                                383 v South Africa, 14/10/2019                        ',\n",
       " '                            51        Fran WilsonENG321                                355 v India, 09/04/2018                        ',\n",
       " '                            52        Maddie GreenNZ320                                327 v Australia, 07/04/2021                        ',\n",
       " '                            53        Dilani ManodaraSL319                                419 v West Indies, 15/10/2017                        ',\n",
       " '                            54        Nigar SultanaBAN317                                336 v Pakistan, 02/11/2019                        ',\n",
       " '                            55        Jhulan GoswamiIND311                                430 v New Zealand, 28/06/2015                        ',\n",
       " '                            56        Lara GoodallSA305                                320 v India, 14/03/2021                        ',\n",
       " '                            57        This player has moved up in the rankings since the previous rankings updateJemimah RodriquesIND302                                411 v West Indies, 06/11/2019                        ',\n",
       " '                            58        This player has moved down in the rankings since the previous rankings updateChedean NationWI297                                314 v Pakistan, 12/07/2021                        ',\n",
       " '                            59        Shemaine CampbelleWI288                                403 v New Zealand, 14/09/2014                        ',\n",
       " '                            60        Priya PuniaIND287                                305 v South Africa, 17/03/2021                        ',\n",
       " '                            61        Rachel PriestNZ285                                589 v Sri Lanka, 07/11/2015                        ',\n",
       " '                            62        Sidra AmeenPAK268                                319 v South Africa, 09/05/2019                        ',\n",
       " '                            63        This player has moved up in the rankings since the previous rankings updateLauren DownNZ264                                275 v Australia, 04/04/2021                        ',\n",
       " 'This player has moved down in the rankings since the previous rankings updateKycia KnightWI264                                404 v Sri Lanka, 18/05/2015                        ',\n",
       " '                            65        Nilakshi SilvaSL261                                279 v Australia, 07/10/2019                        ',\n",
       " '                            66        Nicola CareyAUS259                                259 v New Zealand, 10/04/2021                        ',\n",
       " '                            67        Hayley JensenNZ256                                271 v England, 23/02/2021                        ',\n",
       " '                            68        This player has moved up in the rankings since the previous rankings updateMuneeba AliPAK252                                252 v West Indies, 18/07/2021                        ',\n",
       " '                            69        This player has moved down in the rankings since the previous rankings updateSalma KhatunBAN244                                366 v South Africa, 22/09/2013                        ',\n",
       " '                            70        This player has moved down in the rankings since the previous rankings updateGeorgia WarehamAUS239                                239 v New Zealand, 10/04/2021                        ',\n",
       " 'This player has moved down in the rankings since the previous rankings updateTaniya BhatiaIND239                                291 v West Indies, 06/11/2019                        ',\n",
       " '                            72        This player has moved down in the rankings since the previous rankings updateShafali VermaIND235                                235 v England, 03/07/2021                        ',\n",
       " '                            73        This player has moved down in the rankings since the previous rankings updateAnne BoschSA234                                234 v India, 17/03/2021                        ',\n",
       " 'This player has moved down in the rankings since the previous rankings updateAndrie SteynSA234                                378 v Ireland, 19/05/2017                        ',\n",
       " 'This player has moved down in the rankings since the previous rankings updateKate CrossENG234                                234 v India, 03/07/2021                        ',\n",
       " '                            76        Poonam YadavIND232                                260 v South Africa, 11/10/2019                        ',\n",
       " '                            77        Sophia DunkleyENG230                                230 v India, 03/07/2021                        ',\n",
       " '                            78        This player has moved down in the rankings since the previous rankings updateSheneta GrimmondWI228                                268 v India, 01/11/2019                        ',\n",
       " '                            79        This player has moved down in the rankings since the previous rankings updateAvanthika MendisSL226                                408 v India, 21/01/2014                        ',\n",
       " '                            80        Sharmin SuptaBAN221                                226 v Pakistan, 02/11/2019                        ',\n",
       " '                            81        This player has moved up in the rankings since the previous rankings updateBritney CooperWI220                                272 v South Africa, 27/02/2016                        ',\n",
       " '                            82        This player has moved down in the rankings since the previous rankings updateLeigh KasperekNZ219                                259 v South Africa, 25/01/2020                        ',\n",
       " 'This player has moved down in the rankings since the previous rankings updateAnya ShrubsoleENG219                                249 v West Indies, 09/06/2019                        ',\n",
       " '                            84        This player has moved down in the rankings since the previous rankings updateAnushka SanjeewaniSL211                                222 v Australia, 07/10/2019                        ',\n",
       " '                            85        This player has moved down in the rankings since the previous rankings updateRajeshwari GayakwadIND207                                229 v South Africa, 14/03/2021                        ',\n",
       " '                            86        Inoka RanaweeraSL205                                230 v Australia, 29/06/2017                        ',\n",
       " '                            87        Lea TahuhuNZ204                                204 v Australia, 10/04/2021                        ',\n",
       " '                            88        This player has moved down in the rankings since the previous rankings updateNatasha McLeanWI202                                243 v New Zealand, 08/10/2013                        ',\n",
       " '                            89        This player has moved down in the rankings since the previous rankings updateAyesha ZafarPAK197                                348 v England, 27/06/2017                        ',\n",
       " '                            90        This player has moved down in the rankings since the previous rankings updateMegan SchuttAUS195                                209 v Sri Lanka, 23/09/2016                        ',\n",
       " 'This player has moved down in the rankings since the previous rankings updateOshadi RanasingheSL195                                206 v England, 21/03/2019                        ',\n",
       " '                            92        This player has moved up in the rankings since the previous rankings updateNashra SandhuPAK188                                228 v Bangladesh, 02/11/2019                        ',\n",
       " '                            93        This player has moved down in the rankings since the previous rankings updateShamilia ConnellWI186                                230 v Pakistan, 09/02/2019                        ',\n",
       " '                            94        Stacy-Ann KingWI182                                390 v India, 29/02/2012                        ',\n",
       " '                            95        Sanjida IslamBAN181                                192 v South Africa, 04/05/2018                        ',\n",
       " '                            96        This player has moved up in the rankings since the previous rankings updateChinelle HenryWI180                                196 v Australia, 11/09/2019                        ',\n",
       " '                            97        This player has moved down in the rankings since the previous rankings updateJess KerrNZ179                                179 v Australia, 10/04/2021                        ',\n",
       " 'This player has moved down in the rankings since the previous rankings updateHannah RoweNZ179                                191 v Australia, 04/04/2021                        ',\n",
       " 'Sushma VermaIND179                                261 v Australia, 18/03/2018                        ',\n",
       " '                            100        Shabnim IsmailSA178                                290 v Ireland, 14/01/2014                        ']"
      ]
     },
     "execution_count": 134,
     "metadata": {},
     "output_type": "execute_result"
    }
   ],
   "source": [
    "complete_info = []\n",
    "for i in match_1:\n",
    "    complete_info.append(i.text.replace(\"\\n\",\"\").replace(\"\\xa0\",\"\"))\n",
    "complete_info"
   ]
  },
  {
   "cell_type": "code",
   "execution_count": 141,
   "metadata": {},
   "outputs": [],
   "source": [
    "rating_info=[]\n",
    "match_1=soup.find_all(\"td\",class_=\"table-body__cell rating\")\n",
    "for i in match_1:\n",
    "    rating_info.append(i.text)\n",
    "    rating_info"
   ]
  },
  {
   "cell_type": "code",
   "execution_count": 142,
   "metadata": {},
   "outputs": [
    {
     "data": {
      "text/plain": [
       "['758',\n",
       " '756',\n",
       " '754',\n",
       " '736',\n",
       " '723',\n",
       " '715',\n",
       " '706',\n",
       " '701',\n",
       " '683',\n",
       " '679',\n",
       " '667',\n",
       " '657',\n",
       " '644',\n",
       " '620',\n",
       " '600',\n",
       " '594',\n",
       " '577',\n",
       " '573',\n",
       " '570',\n",
       " '560',\n",
       " '550',\n",
       " '539',\n",
       " '506',\n",
       " '499',\n",
       " '498',\n",
       " '490',\n",
       " '470',\n",
       " '456',\n",
       " '453',\n",
       " '445',\n",
       " '440',\n",
       " '437',\n",
       " '437',\n",
       " '413',\n",
       " '403',\n",
       " '398',\n",
       " '397',\n",
       " '396',\n",
       " '380',\n",
       " '380',\n",
       " '379',\n",
       " '375',\n",
       " '371',\n",
       " '367',\n",
       " '359',\n",
       " '357',\n",
       " '353',\n",
       " '350',\n",
       " '328',\n",
       " '321',\n",
       " '320',\n",
       " '319',\n",
       " '317',\n",
       " '311',\n",
       " '305',\n",
       " '302',\n",
       " '297',\n",
       " '288',\n",
       " '287',\n",
       " '285',\n",
       " '268',\n",
       " '264',\n",
       " '264',\n",
       " '261',\n",
       " '259',\n",
       " '256',\n",
       " '252',\n",
       " '244',\n",
       " '239',\n",
       " '239',\n",
       " '235',\n",
       " '234',\n",
       " '234',\n",
       " '234',\n",
       " '232',\n",
       " '230',\n",
       " '228',\n",
       " '226',\n",
       " '221',\n",
       " '220',\n",
       " '219',\n",
       " '219',\n",
       " '211',\n",
       " '207',\n",
       " '205',\n",
       " '204',\n",
       " '202',\n",
       " '197',\n",
       " '195',\n",
       " '195',\n",
       " '188',\n",
       " '186',\n",
       " '182',\n",
       " '181',\n",
       " '180',\n",
       " '179',\n",
       " '179',\n",
       " '179',\n",
       " '178']"
      ]
     },
     "execution_count": 142,
     "metadata": {},
     "output_type": "execute_result"
    }
   ],
   "source": [
    "rating_info"
   ]
  },
  {
   "cell_type": "markdown",
   "metadata": {},
   "source": [
    "iii) Top 10 women’s ODI all-rounder along with the records of their team andrating.\n"
   ]
  },
  {
   "cell_type": "code",
   "execution_count": 143,
   "metadata": {},
   "outputs": [
    {
     "data": {
      "text/plain": [
       "<Response [200]>"
      ]
     },
     "execution_count": 143,
     "metadata": {},
     "output_type": "execute_result"
    }
   ],
   "source": [
    "url = \"https://www.icc-cricket.com/rankings/womens/player-rankings/odi/all-rounder\"\n",
    "page=requests.get(url)\n",
    "soup=BeautifulSoup(page.content)\n",
    "page"
   ]
  },
  {
   "cell_type": "code",
   "execution_count": 144,
   "metadata": {},
   "outputs": [],
   "source": [
    "complete_info=[]\n",
    "match_1=soup.find_all(\"tr\",class_=\"table-body\")\n",
    "for i in match_1:\n",
    "    complete_info.append(i.text)\n",
    "    complete_info"
   ]
  },
  {
   "cell_type": "code",
   "execution_count": 145,
   "metadata": {},
   "outputs": [
    {
     "data": {
      "text/plain": [
       "['\\n\\n\\n\\n\\nEllyse Perry\\n\\n\\n\\nAUS\\n\\n418\\n\\n                                548 v West Indies, 11/09/2019\\n                        \\n',\n",
       " '\\n\\n                            3\\n        \\n\\n\\nStafanie Taylor\\n\\n\\n\\nWI\\n\\n394\\n\\n                                559 v New Zealand, 10/10/2013\\n                        \\n',\n",
       " '\\n\\n                            4\\n        \\n\\n\\nNatalie Sciver\\n\\n\\n\\nENG\\n\\n365\\n\\n                                365 v India, 03/07/2021\\n                        \\n',\n",
       " '\\n\\n                            5\\n        \\n\\n\\nDeepti Sharma\\n\\n\\n\\nIND\\n\\n331\\n\\n                                397 v South Africa, 09/10/2019\\n                        \\n',\n",
       " '\\n\\n                            6\\n        \\n\\n\\nJess Jonassen\\n\\n\\n\\nAUS\\n\\n307\\n\\n                                308 v West Indies, 11/09/2019\\n                        \\n',\n",
       " '\\n\\n                            7\\n        \\n\\n\\nAshleigh Gardner\\n\\n\\n\\nAUS\\n\\n252\\n\\n                                256 v New Zealand, 04/04/2021\\n                        \\n',\n",
       " '\\n\\n                            8\\n        \\n\\n\\nDane van Niekerk\\n\\n\\n\\nSA\\n\\n243\\n\\n                                421 v Sri Lanka, 11/02/2019\\n                        \\n',\n",
       " '\\n\\n                            9\\n        \\n\\n\\nSophie Devine\\n\\n\\n\\nNZ\\n\\n242\\n\\n                                305 v Australia, 05/10/2020\\n                        \\n',\n",
       " '\\n\\n                            10\\n        \\n\\n\\nKatherine Brunt\\n\\n\\n\\nENG\\n\\n239\\n\\n                                270 v Sri Lanka, 16/03/2019\\n                        \\n',\n",
       " '\\n\\n                            11\\n        \\n\\n\\nAmelia Kerr\\n\\n\\n\\nNZ\\n\\n236\\n\\n                                247 v Australia, 07/04/2021\\n                        \\n',\n",
       " '\\n\\n                            12\\n        \\n\\n\\nHayley Matthews\\n\\n\\n\\nWI\\n\\n215\\n\\n                                227 v Pakistan, 12/07/2021\\n                        \\n',\n",
       " '\\n\\n\\n\\n\\nJhulan Goswami\\n\\n\\n\\nIND\\n\\n215\\n\\n                                308 v Australia, 02/02/2016\\n                        \\n',\n",
       " '\\n\\n                            14\\n        \\n\\n\\nShikha Pandey\\n\\n\\n\\nIND\\n\\n195\\n\\n                                262 v South Africa, 14/10/2019\\n                        \\n',\n",
       " '\\n\\n                            15\\n        \\n\\n\\nHeather Knight\\n\\n\\n\\nENG\\n\\n181\\n\\n                                249 v West Indies, 13/06/2019\\n                        \\n',\n",
       " '\\n\\n                            16\\n        \\n\\n\\nRumana Ahmed\\n\\n\\n\\nBAN\\n\\n179\\n\\n                                180 v Pakistan, 04/11/2019\\n                        \\n',\n",
       " '\\n\\n                            17\\n        \\n\\n\\nNida Dar\\n\\n\\n\\nPAK\\n\\n176\\n\\n                                178 v West Indies, 15/07/2021\\n                        \\n',\n",
       " '\\n\\n                            18\\n        \\n\\n\\nChamari Athapaththu\\n\\n\\n\\nSL\\n\\n164\\n\\n                                187 v South Africa, 17/02/2019\\n                        \\n',\n",
       " '\\n\\n                            19\\n        \\n\\n\\nSune Luus\\n\\n\\n\\nSA\\n\\n153\\n\\n                                217 v India, 05/02/2018\\n                        \\n',\n",
       " '\\n\\n                            20\\n        \\n\\n\\nHarmanpreet Kaur\\n\\n\\n\\nIND\\n\\n149\\n\\n                                174 v South Africa, 14/03/2021\\n                        \\n']"
      ]
     },
     "execution_count": 145,
     "metadata": {},
     "output_type": "execute_result"
    }
   ],
   "source": [
    "  complete_info"
   ]
  },
  {
   "cell_type": "code",
   "execution_count": 146,
   "metadata": {},
   "outputs": [
    {
     "data": {
      "text/plain": [
       "['Ellyse PerryAUS418                                548 v West Indies, 11/09/2019                        ',\n",
       " '                            3        Stafanie TaylorWI394                                559 v New Zealand, 10/10/2013                        ',\n",
       " '                            4        Natalie SciverENG365                                365 v India, 03/07/2021                        ',\n",
       " '                            5        Deepti SharmaIND331                                397 v South Africa, 09/10/2019                        ',\n",
       " '                            6        Jess JonassenAUS307                                308 v West Indies, 11/09/2019                        ',\n",
       " '                            7        Ashleigh GardnerAUS252                                256 v New Zealand, 04/04/2021                        ',\n",
       " '                            8        Dane van NiekerkSA243                                421 v Sri Lanka, 11/02/2019                        ',\n",
       " '                            9        Sophie DevineNZ242                                305 v Australia, 05/10/2020                        ',\n",
       " '                            10        Katherine BruntENG239                                270 v Sri Lanka, 16/03/2019                        ',\n",
       " '                            11        Amelia KerrNZ236                                247 v Australia, 07/04/2021                        ',\n",
       " '                            12        Hayley MatthewsWI215                                227 v Pakistan, 12/07/2021                        ',\n",
       " 'Jhulan GoswamiIND215                                308 v Australia, 02/02/2016                        ',\n",
       " '                            14        Shikha PandeyIND195                                262 v South Africa, 14/10/2019                        ',\n",
       " '                            15        Heather KnightENG181                                249 v West Indies, 13/06/2019                        ',\n",
       " '                            16        Rumana AhmedBAN179                                180 v Pakistan, 04/11/2019                        ',\n",
       " '                            17        Nida DarPAK176                                178 v West Indies, 15/07/2021                        ',\n",
       " '                            18        Chamari AthapaththuSL164                                187 v South Africa, 17/02/2019                        ',\n",
       " '                            19        Sune LuusSA153                                217 v India, 05/02/2018                        ',\n",
       " '                            20        Harmanpreet KaurIND149                                174 v South Africa, 14/03/2021                        ']"
      ]
     },
     "execution_count": 146,
     "metadata": {},
     "output_type": "execute_result"
    }
   ],
   "source": [
    "complete_info = []\n",
    "for i in match_1:\n",
    "    complete_info.append(i.text.replace(\"\\n\",\"\").replace(\"\\xa0\",\"\"))\n",
    "complete_info"
   ]
  },
  {
   "cell_type": "code",
   "execution_count": 147,
   "metadata": {},
   "outputs": [],
   "source": [
    "rating_info=[]\n",
    "match_1=soup.find_all(\"td\",class_=\"table-body__cell rating\")\n",
    "for i in match_1:\n",
    "    rating_info.append(i.text)\n",
    "    rating_info"
   ]
  },
  {
   "cell_type": "code",
   "execution_count": 148,
   "metadata": {},
   "outputs": [
    {
     "data": {
      "text/plain": [
       "['418',\n",
       " '394',\n",
       " '365',\n",
       " '331',\n",
       " '307',\n",
       " '252',\n",
       " '243',\n",
       " '242',\n",
       " '239',\n",
       " '236',\n",
       " '215',\n",
       " '215',\n",
       " '195',\n",
       " '181',\n",
       " '179',\n",
       " '176',\n",
       " '164',\n",
       " '153',\n",
       " '149']"
      ]
     },
     "execution_count": 148,
     "metadata": {},
     "output_type": "execute_result"
    }
   ],
   "source": [
    " rating_info"
   ]
  },
  {
   "cell_type": "markdown",
   "metadata": {},
   "source": [
    "7.Write a python program to scrape details of all the mobile phones under Rs. 20,000 listed on Amazon.in. The scraped data should include Product Name, Price, Image URL and Average Rating"
   ]
  },
  {
   "cell_type": "code",
   "execution_count": 54,
   "metadata": {},
   "outputs": [
    {
     "data": {
      "text/plain": [
       "<Response [503]>"
      ]
     },
     "execution_count": 54,
     "metadata": {},
     "output_type": "execute_result"
    }
   ],
   "source": [
    "url=\"https://www.amazon.in/s?k=phone+under+20000&ref=nb_sb_noss_1\"\n",
    "page=requests.get(url)\n",
    "soup=BeautifulSoup(page.content)\n",
    "page"
   ]
  },
  {
   "cell_type": "markdown",
   "metadata": {},
   "source": [
    "Response 503"
   ]
  },
  {
   "cell_type": "code",
   "execution_count": 55,
   "metadata": {},
   "outputs": [
    {
     "data": {
      "text/plain": [
       "[]"
      ]
     },
     "execution_count": 55,
     "metadata": {},
     "output_type": "execute_result"
    }
   ],
   "source": [
    "product_name = []\n",
    "\n",
    "name = soup.find_all(\"span\",class_=\"a-size-medium a-color-base a-text-normal\")\n",
    "for i in name:\n",
    "    product_name.append(i.text)\n",
    "product_name"
   ]
  },
  {
   "cell_type": "code",
   "execution_count": 56,
   "metadata": {},
   "outputs": [
    {
     "data": {
      "text/plain": [
       "[]"
      ]
     },
     "execution_count": 56,
     "metadata": {},
     "output_type": "execute_result"
    }
   ],
   "source": [
    "price_name = []\n",
    "\n",
    "name = soup.find_all(\"span\",class_=\"a-price-whole\")\n",
    "for i in name:\n",
    "    price_name.append(i.text)\n",
    "price_name"
   ]
  },
  {
   "cell_type": "code",
   "execution_count": 57,
   "metadata": {},
   "outputs": [
    {
     "data": {
      "text/plain": [
       "[]"
      ]
     },
     "execution_count": 57,
     "metadata": {},
     "output_type": "execute_result"
    }
   ],
   "source": [
    "icon_alt = []\n",
    "\n",
    "name = soup.find_all(\"span\",class_=\"a-icon-alt\")\n",
    "for i in name:\n",
    "    icon_alt.append(i.text)\n",
    "icon_alt\n"
   ]
  },
  {
   "cell_type": "code",
   "execution_count": 58,
   "metadata": {},
   "outputs": [
    {
     "data": {
      "text/plain": [
       "[]"
      ]
     },
     "execution_count": 58,
     "metadata": {},
     "output_type": "execute_result"
    }
   ],
   "source": [
    "image_url = []\n",
    "ima_url = soup.find_all(\"img\",class_=\"s-image\")\n",
    "for i in ima_url:\n",
    "    image_url.append(i.get(\"src\"))\n",
    "    \n",
    "image_url"
   ]
  },
  {
   "cell_type": "markdown",
   "metadata": {},
   "source": [
    "8.Write a python program to extract information about the local weather from the National Weather Service \n",
    "website of USA, https://www.weather.gov/ for the city, San Francisco. You need to extract data about 7 day \n",
    "extended forecast display for the city. The data should include period, short description, temperature and \n",
    "description."
   ]
  },
  {
   "cell_type": "code",
   "execution_count": 59,
   "metadata": {},
   "outputs": [
    {
     "data": {
      "text/plain": [
       "<Response [200]>"
      ]
     },
     "execution_count": 59,
     "metadata": {},
     "output_type": "execute_result"
    }
   ],
   "source": [
    "url = \"https://forecast.weather.gov/MapClick.php?lat=37.777120000000025&lon=-122.41963999999996#.YQB0Erris2w\"\n",
    "page=requests.get(url)\n",
    "soup=BeautifulSoup(page.content)\n",
    "page"
   ]
  },
  {
   "cell_type": "code",
   "execution_count": 60,
   "metadata": {},
   "outputs": [
    {
     "data": {
      "text/plain": [
       "['Overnight',\n",
       " 'Wednesday',\n",
       " 'WednesdayNight',\n",
       " 'Thursday',\n",
       " 'ThursdayNight',\n",
       " 'Friday',\n",
       " 'FridayNight',\n",
       " 'Saturday',\n",
       " 'SaturdayNight']"
      ]
     },
     "execution_count": 60,
     "metadata": {},
     "output_type": "execute_result"
    }
   ],
   "source": [
    "period_name = []\n",
    "\n",
    "name = soup.find_all(\"p\",class_=\"period-name\")\n",
    "for i in name:\n",
    "    period_name.append(i.text)\n",
    "period_name"
   ]
  },
  {
   "cell_type": "code",
   "execution_count": 61,
   "metadata": {},
   "outputs": [
    {
     "data": {
      "text/plain": [
       "['Mostly Cloudy',\n",
       " 'Partly Sunnythen MostlySunny andBreezy',\n",
       " 'Mostly Cloudyand Breezythen MostlyCloudy',\n",
       " 'Partly Sunnythen MostlySunny andBreezy',\n",
       " 'Partly Cloudyand Breezythen MostlyCloudy',\n",
       " 'Mostly Sunnythen Sunnyand Breezy',\n",
       " 'Mostly Cloudy',\n",
       " 'Partly Sunny',\n",
       " 'Mostly Cloudy']"
      ]
     },
     "execution_count": 61,
     "metadata": {},
     "output_type": "execute_result"
    }
   ],
   "source": [
    "short_desc = []\n",
    "\n",
    "name = soup.find_all(\"p\",class_=\"short-desc\")\n",
    "for i in name:\n",
    "    short_desc.append(i.text)\n",
    "short_desc"
   ]
  },
  {
   "cell_type": "code",
   "execution_count": 69,
   "metadata": {},
   "outputs": [
    {
     "data": {
      "text/plain": [
       "['High: 71 °F', 'High: 70 °F', 'High: 69 °F', 'High: 67 °F']"
      ]
     },
     "execution_count": 69,
     "metadata": {},
     "output_type": "execute_result"
    }
   ],
   "source": [
    "temp_detail = []\n",
    "\n",
    "detail = soup.find_all(\"p\",class_=\"temp temp-high\")\n",
    "for i in detail:\n",
    "    temp_detail.append(i.text)\n",
    "temp_detail"
   ]
  },
  {
   "cell_type": "code",
   "execution_count": 70,
   "metadata": {},
   "outputs": [
    {
     "data": {
      "text/plain": [
       "['\\n\\nOvernight\\nMostly CloudyLow: 56 °F\\n\\nWednesday\\nPartly Sunnythen MostlySunny andBreezyHigh: 71 °F\\n\\nWednesdayNight\\nMostly Cloudyand Breezythen MostlyCloudyLow: 57 °F\\n\\nThursday\\nPartly Sunnythen MostlySunny andBreezyHigh: 70 °F\\n\\nThursdayNight\\nPartly Cloudyand Breezythen MostlyCloudyLow: 56 °F\\n\\nFriday\\nMostly Sunnythen Sunnyand BreezyHigh: 69 °F\\n\\nFridayNight\\nMostly CloudyLow: 56 °F\\n\\nSaturday\\nPartly SunnyHigh: 67 °F\\n\\nSaturdayNight\\nMostly CloudyLow: 56 °F']"
      ]
     },
     "execution_count": 70,
     "metadata": {},
     "output_type": "execute_result"
    }
   ],
   "source": [
    "short_desc = []\n",
    "\n",
    "name = soup.find_all(\"div\",id=\"seven-day-forecast-container\")\n",
    "for i in name:\n",
    "    short_desc.append(i.text)\n",
    "short_desc\n",
    "\n",
    "\n"
   ]
  },
  {
   "cell_type": "code",
   "execution_count": 71,
   "metadata": {},
   "outputs": [
    {
     "data": {
      "text/plain": [
       "['OvernightMostly CloudyLow: 56 °FWednesdayPartly Sunnythen MostlySunny andBreezyHigh: 71 °FWednesdayNightMostly Cloudyand Breezythen MostlyCloudyLow: 57 °FThursdayPartly Sunnythen MostlySunny andBreezyHigh: 70 °FThursdayNightPartly Cloudyand Breezythen MostlyCloudyLow: 56 °FFridayMostly Sunnythen Sunnyand BreezyHigh: 69 °FFridayNightMostly CloudyLow: 56 °FSaturdayPartly SunnyHigh: 67 °FSaturdayNightMostly CloudyLow: 56 °F']"
      ]
     },
     "execution_count": 71,
     "metadata": {},
     "output_type": "execute_result"
    }
   ],
   "source": [
    "short_desc = []\n",
    "for i in name:\n",
    "    short_desc.append(i.text.replace(\"\\n\",\"\").replace(\"\\xa0\",\"\"))\n",
    "short_desc"
   ]
  },
  {
   "cell_type": "markdown",
   "metadata": {},
   "source": [
    "9. Write a python program to scrape fresher job listings from ‘https://internshala.com/’. It should include job title, \n",
    "company name, CTC, and apply date."
   ]
  },
  {
   "cell_type": "code",
   "execution_count": 72,
   "metadata": {},
   "outputs": [],
   "source": [
    "page = requests.get(\"https://internshala.com/fresher-jobs\")\n",
    "page\n",
    "soup=BeautifulSoup(page.content)"
   ]
  },
  {
   "cell_type": "code",
   "execution_count": 73,
   "metadata": {},
   "outputs": [
    {
     "data": {
      "text/plain": [
       "['\\n\\nSales Manager/Omni Sport Leader - Retail \\n\\n\\n                        Decathlon Sport India Private Limited                    \\n\\n',\n",
       " '\\n\\nHuman Resources (HR) Associate/Counselor \\n\\n\\n                        New Way Professionals Private Limited                    \\n\\n',\n",
       " '\\n\\nJunior iOS App Developer \\n\\n\\n                        Rang De                    \\n\\n',\n",
       " '\\n\\nSoftware Testing Engineer \\n\\n\\n                        SafeSquid Labs                    \\n\\n',\n",
       " '\\n\\nEmbedded Systems Associate \\n\\n\\n                        Signals & Systems India Private Limited                    \\n\\n',\n",
       " '\\n\\nFull Stack Developer \\n\\n\\n                        Wisestep                    \\n\\n',\n",
       " '\\n\\nNutrition & Dietetics Specialist \\n\\n\\n                        Nucros Science & Taste                    \\n\\n',\n",
       " '\\n\\nHuman Resources (HR) Executive \\n\\n\\n                        Nikulsan Technologies Private Limited                    \\n\\n',\n",
       " '\\n\\nJunior Software Developer \\n\\n\\n                        Habitate Technologies Private Limited                    \\n\\n',\n",
       " '\\n\\nBusiness Development Manager \\n\\n\\n                        School Of Excellence                    \\n\\n',\n",
       " '\\n\\nPatent Research Associate \\n\\n\\n                        Crimson Insights Technologies LLP                    \\n\\n',\n",
       " '\\n\\nData Analyst \\n\\n\\n                        Anudeep Nekkanti                    \\n\\n',\n",
       " '\\n\\nSoftware Tester \\n\\n\\n                        Startxlabs Technologies Private Limited                    \\n\\n',\n",
       " '\\n\\nBusiness Development Executive \\n\\n\\n                        Padhhigh                    \\n\\n',\n",
       " '\\n\\nMERN Stack Developer \\n\\n\\n                        Snippt                    \\n\\n',\n",
       " '\\n\\nConversion Rate Optimization Analyst \\n\\n\\n                        DataVinci Private Limited                    \\n\\n',\n",
       " '\\n\\nClient Service Executive \\n\\n\\n                        Red Tree Design Studio Private Limited                    \\n\\n',\n",
       " '\\n\\nSales Development Representative \\n\\n\\n                        HelloAR                    \\n\\n',\n",
       " '\\n\\nCorporate Sales Associate \\n\\n\\n                        Best Roadways Limited                    \\n\\n',\n",
       " '\\n\\nInternational Business Development Executive \\n\\n\\n                        Advids                    \\n\\n',\n",
       " '\\n\\nProduct Marketer \\n\\n\\n                        Habitate Technologies Private Limited                    \\n\\n',\n",
       " '\\n\\nCustomer Support Associates \\n\\n\\n                        Recruit CRM                    \\n\\n',\n",
       " '\\n\\nContent & Customer Care Executive \\n\\n\\n                        Revo International LLP                    \\n\\n',\n",
       " '\\n\\nDjango Developer \\n\\n\\n                        Startxlabs Technologies Private Limited                    \\n\\n',\n",
       " '\\n\\nReactjs Developer \\n\\n\\n                        Startxlabs Technologies Private Limited                    \\n\\n',\n",
       " '\\n\\nWeb Development Trainee \\n\\n\\n                        Softsensor.ai                    \\n\\n',\n",
       " '\\n\\nBusiness Development Executive \\n\\n\\n                        Verzeo                    \\n\\n',\n",
       " '\\n\\nCybersecurity Compliance Officer \\n\\n\\n                        S3 Infosoft                    \\n\\n',\n",
       " '\\n\\nMERN Stack Developer \\n\\n\\n                        Binary Numbers                    \\n\\n',\n",
       " '\\n\\nSenior Copywriter \\n\\n\\n                        Ranksoldier International Private Limited                    \\n\\n',\n",
       " '\\n\\nCorporate Sales Associate \\n\\n\\n                        MiM-Essay                    \\n\\n',\n",
       " '\\n\\nDigital Marketing Associate \\n\\n\\n                        BubbleNut Wash                    \\n\\n',\n",
       " '\\n\\nSocial Media Marketing Executive \\n\\n\\n                        Erikka India                    \\n\\n',\n",
       " '\\n\\nBusiness Development Executive \\n\\n\\n                        Cosmic Micro Systems Private Limited                    \\n\\n',\n",
       " '\\n\\nOperations Manager \\n\\n\\n                        Kumi Labs                    \\n\\n',\n",
       " '\\n\\nLead Counselor \\n\\n\\n                        HOSS - House Of Soft Skills                    \\n\\n',\n",
       " '\\n\\nAngular.js Developer \\n\\n\\n                        Systaldyn Consultancy Private Limited                    \\n\\n',\n",
       " '\\n\\nDigital Marketing Specialist \\n\\n\\n                        Sahadya Consultants                    \\n\\n',\n",
       " '\\n\\nFranchise Manager - Sales (Assistant Manager ) \\n\\n\\n                        Regrob                    \\n\\n',\n",
       " '\\n\\nGraphic Designer \\n\\n\\n                        Cynfas                    \\n\\n']"
      ]
     },
     "execution_count": 73,
     "metadata": {},
     "output_type": "execute_result"
    }
   ],
   "source": [
    "\n",
    "full_info = []\n",
    "\n",
    "detail = soup.find_all('div',class_=\"company\")\n",
    "for i in detail:\n",
    "    full_info .append(i.text)\n",
    "full_info"
   ]
  },
  {
   "cell_type": "code",
   "execution_count": 74,
   "metadata": {},
   "outputs": [
    {
     "data": {
      "text/plain": [
       "['Sales Manager/Omni Sport Leader - Retail                         Decathlon Sport India Private Limited                    ',\n",
       " 'Human Resources (HR) Associate/Counselor                         New Way Professionals Private Limited                    ',\n",
       " 'Junior iOS App Developer                         Rang De                    ',\n",
       " 'Software Testing Engineer                         SafeSquid Labs                    ',\n",
       " 'Embedded Systems Associate                         Signals & Systems India Private Limited                    ',\n",
       " 'Full Stack Developer                         Wisestep                    ',\n",
       " 'Nutrition & Dietetics Specialist                         Nucros Science & Taste                    ',\n",
       " 'Human Resources (HR) Executive                         Nikulsan Technologies Private Limited                    ',\n",
       " 'Junior Software Developer                         Habitate Technologies Private Limited                    ',\n",
       " 'Business Development Manager                         School Of Excellence                    ',\n",
       " 'Patent Research Associate                         Crimson Insights Technologies LLP                    ',\n",
       " 'Data Analyst                         Anudeep Nekkanti                    ',\n",
       " 'Software Tester                         Startxlabs Technologies Private Limited                    ',\n",
       " 'Business Development Executive                         Padhhigh                    ',\n",
       " 'MERN Stack Developer                         Snippt                    ',\n",
       " 'Conversion Rate Optimization Analyst                         DataVinci Private Limited                    ',\n",
       " 'Client Service Executive                         Red Tree Design Studio Private Limited                    ',\n",
       " 'Sales Development Representative                         HelloAR                    ',\n",
       " 'Corporate Sales Associate                         Best Roadways Limited                    ',\n",
       " 'International Business Development Executive                         Advids                    ',\n",
       " 'Product Marketer                         Habitate Technologies Private Limited                    ',\n",
       " 'Customer Support Associates                         Recruit CRM                    ',\n",
       " 'Content & Customer Care Executive                         Revo International LLP                    ',\n",
       " 'Django Developer                         Startxlabs Technologies Private Limited                    ',\n",
       " 'Reactjs Developer                         Startxlabs Technologies Private Limited                    ',\n",
       " 'Web Development Trainee                         Softsensor.ai                    ',\n",
       " 'Business Development Executive                         Verzeo                    ',\n",
       " 'Cybersecurity Compliance Officer                         S3 Infosoft                    ',\n",
       " 'MERN Stack Developer                         Binary Numbers                    ',\n",
       " 'Senior Copywriter                         Ranksoldier International Private Limited                    ',\n",
       " 'Corporate Sales Associate                         MiM-Essay                    ',\n",
       " 'Digital Marketing Associate                         BubbleNut Wash                    ',\n",
       " 'Social Media Marketing Executive                         Erikka India                    ',\n",
       " 'Business Development Executive                         Cosmic Micro Systems Private Limited                    ',\n",
       " 'Operations Manager                         Kumi Labs                    ',\n",
       " 'Lead Counselor                         HOSS - House Of Soft Skills                    ',\n",
       " 'Angular.js Developer                         Systaldyn Consultancy Private Limited                    ',\n",
       " 'Digital Marketing Specialist                         Sahadya Consultants                    ',\n",
       " 'Franchise Manager - Sales (Assistant Manager )                         Regrob                    ',\n",
       " 'Graphic Designer                         Cynfas                    ']"
      ]
     },
     "execution_count": 74,
     "metadata": {},
     "output_type": "execute_result"
    }
   ],
   "source": [
    "full_info = []\n",
    "for i in detail:\n",
    "    full_info.append(i.text.replace(\"\\n\",\"\").replace(\"\\xa0\",\"\"))\n",
    "full_info"
   ]
  },
  {
   "cell_type": "code",
   "execution_count": 75,
   "metadata": {},
   "outputs": [
    {
     "data": {
      "text/plain": [
       "['\\nStarts\\xa0Immediately\\n                        ',\n",
       " '\\n  3.3 - 4.5 LPA                                                    ',\n",
       " \"21 Aug' 21\",\n",
       " '\\nStarts\\xa0Immediately\\n                        ',\n",
       " '\\n  3 - 4 LPA                                                    ',\n",
       " \"27 Aug' 21\",\n",
       " '\\nStarts\\xa0Immediately\\n                        ',\n",
       " '\\n  3 - 4.7 LPA                                                    ',\n",
       " \"27 Aug' 21\",\n",
       " '\\nStarts\\xa0Immediately\\n                        ',\n",
       " '\\n  3 LPA                                                    ',\n",
       " \"27 Aug' 21\",\n",
       " '\\nStarts\\xa0Immediately\\n                        ',\n",
       " '\\n  3 - 4 LPA                                                    ',\n",
       " \"27 Aug' 21\",\n",
       " '\\nStarts\\xa0Immediately\\n                        ',\n",
       " '\\n  3.25 - 5 LPA                                                    ',\n",
       " \"27 Aug' 21\",\n",
       " '\\nStarts\\xa0Immediately\\n                        ',\n",
       " '\\n  3 LPA                                                    ',\n",
       " \"27 Aug' 21\",\n",
       " '\\nStarts\\xa0Immediately\\n                        ',\n",
       " '\\n  3 LPA                                                    ',\n",
       " \"27 Aug' 21\",\n",
       " '\\nStarts\\xa0Immediately\\n                        ',\n",
       " '\\n  3.6 - 4.8 LPA                                                    ',\n",
       " \"27 Aug' 21\",\n",
       " '\\nStarts\\xa0Immediately\\n                        ',\n",
       " '\\n  3 - 3.5 LPA                                                    ',\n",
       " \"27 Aug' 21\",\n",
       " '\\nStarts\\xa0Immediately\\n                        ',\n",
       " '\\n  3 - 4 LPA                                                    ',\n",
       " \"27 Aug' 21\",\n",
       " '\\nStarts\\xa0Immediately\\n                        ',\n",
       " '\\n  6 - 10 LPA                                                    ',\n",
       " \"27 Aug' 21\",\n",
       " '\\nStarts\\xa0Immediately\\n                        ',\n",
       " '\\n  3 - 3.6 LPA                                                    ',\n",
       " \"27 Aug' 21\",\n",
       " '\\nStarts\\xa0Immediately\\n                        ',\n",
       " '\\n  4 - 7 LPA                                                    ',\n",
       " \"26 Aug' 21\",\n",
       " '\\nStarts\\xa0Immediately\\n                        ',\n",
       " '\\n  4 - 5 LPA                                                    ',\n",
       " \"26 Aug' 21\",\n",
       " '\\nStarts\\xa0Immediately\\n                        ',\n",
       " '\\n  5 LPA                                                    ',\n",
       " \"26 Aug' 21\",\n",
       " '\\nStarts\\xa0Immediately\\n                        ',\n",
       " '\\n  3 LPA                                                    ',\n",
       " \"26 Aug' 21\",\n",
       " '\\nStarts\\xa0Immediately\\n                        ',\n",
       " '\\n  3 - 3.2 LPA                                                    ',\n",
       " \"26 Aug' 21\",\n",
       " '\\nStarts\\xa0Immediately\\n                        ',\n",
       " '\\n  3 LPA                                                    ',\n",
       " \"26 Aug' 21\",\n",
       " '\\nStarts\\xa0Immediately\\n                        ',\n",
       " '\\n  3 - 4 LPA                                                    ',\n",
       " \"26 Aug' 21\",\n",
       " '\\nStarts\\xa0Immediately\\n                        ',\n",
       " '\\n  3.2 - 4.2 LPA                                                    ',\n",
       " \"25 Aug' 21\",\n",
       " '\\nStarts\\xa0Immediately\\n                        ',\n",
       " '\\n  5 - 7 LPA                                                    ',\n",
       " \"25 Aug' 21\",\n",
       " '\\nStarts\\xa0Immediately\\n                        ',\n",
       " '\\n  3 - 3.05 LPA                                                    ',\n",
       " \"25 Aug' 21\",\n",
       " '\\nStarts\\xa0Immediately\\n                        ',\n",
       " '\\n  3.5 - 7.5 LPA                                                    ',\n",
       " \"25 Aug' 21\",\n",
       " '\\nStarts\\xa0Immediately\\n                        ',\n",
       " '\\n  3.5 - 7.5 LPA                                                    ',\n",
       " \"25 Aug' 21\",\n",
       " '\\nStarts\\xa0Immediately\\n                        ',\n",
       " '\\n  3 - 5 LPA                                                    ',\n",
       " \"25 Aug' 21\",\n",
       " '\\nStarts\\xa0Immediately\\n                        ',\n",
       " '\\n  3 - 6 LPA                                                    ',\n",
       " \"25 Aug' 21\",\n",
       " '\\nStarts\\xa0Immediately\\n                        ',\n",
       " '\\n  3 - 3.6 LPA                                                    ',\n",
       " \"25 Aug' 21\",\n",
       " '\\nStarts\\xa0Immediately\\n                        ',\n",
       " '\\n  3 - 7 LPA                                                    ',\n",
       " \"23 Aug' 21\",\n",
       " '\\nStarts\\xa0Immediately\\n                        ',\n",
       " '\\n  3 LPA                                                    ',\n",
       " \"23 Aug' 21\",\n",
       " '\\nStarts\\xa0Immediately\\n                        ',\n",
       " '\\n  4.5 - 6 LPA                                                    ',\n",
       " \"25 Aug' 21\",\n",
       " '\\nStarts\\xa0Immediately\\n                        ',\n",
       " '\\n  3.6 - 5.4 LPA                                                    ',\n",
       " \"23 Aug' 21\",\n",
       " '\\nStarts\\xa0Immediately\\n                        ',\n",
       " '\\n  3 - 5 LPA                                                    ',\n",
       " \"23 Aug' 21\",\n",
       " '\\nStarts\\xa0Immediately\\n                        ',\n",
       " '\\n  3 - 4.8 LPA                                                    ',\n",
       " \"22 Aug' 21\",\n",
       " '\\nStarts\\xa0Immediately\\n                        ',\n",
       " '\\n  3 - 8 LPA                                                    ',\n",
       " \"25 Aug' 21\",\n",
       " '\\nStarts\\xa0Immediately\\n                        ',\n",
       " '\\n  3.8 - 4.5 LPA                                                    ',\n",
       " \"22 Aug' 21\",\n",
       " '\\nStarts\\xa0Immediately\\n                        ',\n",
       " '\\n  3 - 5 LPA                                                    ',\n",
       " \"22 Aug' 21\",\n",
       " '\\nStarts\\xa0Immediately\\n                        ',\n",
       " '\\n  3 - 3.5 LPA                                                    ',\n",
       " \"22 Aug' 21\",\n",
       " '\\nStarts\\xa0Immediately\\n                        ',\n",
       " '\\n  3 - 3.1 LPA                                                    ',\n",
       " \"22 Aug' 21\",\n",
       " '\\nStarts\\xa0Immediately\\n                        ',\n",
       " '\\n  3 LPA                                                    ',\n",
       " \"22 Aug' 21\"]"
      ]
     },
     "execution_count": 75,
     "metadata": {},
     "output_type": "execute_result"
    }
   ],
   "source": [
    "full_info = []\n",
    "\n",
    "detail = soup.find_all('div',class_=\"item_body\")\n",
    "for i in detail:\n",
    "    full_info .append(i.text)\n",
    "full_info\n",
    "\n"
   ]
  },
  {
   "cell_type": "code",
   "execution_count": 76,
   "metadata": {},
   "outputs": [
    {
     "data": {
      "text/plain": [
       "['StartsImmediately                        ',\n",
       " '  3.3 - 4.5 LPA                                                    ',\n",
       " \"21 Aug' 21\",\n",
       " 'StartsImmediately                        ',\n",
       " '  3 - 4 LPA                                                    ',\n",
       " \"27 Aug' 21\",\n",
       " 'StartsImmediately                        ',\n",
       " '  3 - 4.7 LPA                                                    ',\n",
       " \"27 Aug' 21\",\n",
       " 'StartsImmediately                        ',\n",
       " '  3 LPA                                                    ',\n",
       " \"27 Aug' 21\",\n",
       " 'StartsImmediately                        ',\n",
       " '  3 - 4 LPA                                                    ',\n",
       " \"27 Aug' 21\",\n",
       " 'StartsImmediately                        ',\n",
       " '  3.25 - 5 LPA                                                    ',\n",
       " \"27 Aug' 21\",\n",
       " 'StartsImmediately                        ',\n",
       " '  3 LPA                                                    ',\n",
       " \"27 Aug' 21\",\n",
       " 'StartsImmediately                        ',\n",
       " '  3 LPA                                                    ',\n",
       " \"27 Aug' 21\",\n",
       " 'StartsImmediately                        ',\n",
       " '  3.6 - 4.8 LPA                                                    ',\n",
       " \"27 Aug' 21\",\n",
       " 'StartsImmediately                        ',\n",
       " '  3 - 3.5 LPA                                                    ',\n",
       " \"27 Aug' 21\",\n",
       " 'StartsImmediately                        ',\n",
       " '  3 - 4 LPA                                                    ',\n",
       " \"27 Aug' 21\",\n",
       " 'StartsImmediately                        ',\n",
       " '  6 - 10 LPA                                                    ',\n",
       " \"27 Aug' 21\",\n",
       " 'StartsImmediately                        ',\n",
       " '  3 - 3.6 LPA                                                    ',\n",
       " \"27 Aug' 21\",\n",
       " 'StartsImmediately                        ',\n",
       " '  4 - 7 LPA                                                    ',\n",
       " \"26 Aug' 21\",\n",
       " 'StartsImmediately                        ',\n",
       " '  4 - 5 LPA                                                    ',\n",
       " \"26 Aug' 21\",\n",
       " 'StartsImmediately                        ',\n",
       " '  5 LPA                                                    ',\n",
       " \"26 Aug' 21\",\n",
       " 'StartsImmediately                        ',\n",
       " '  3 LPA                                                    ',\n",
       " \"26 Aug' 21\",\n",
       " 'StartsImmediately                        ',\n",
       " '  3 - 3.2 LPA                                                    ',\n",
       " \"26 Aug' 21\",\n",
       " 'StartsImmediately                        ',\n",
       " '  3 LPA                                                    ',\n",
       " \"26 Aug' 21\",\n",
       " 'StartsImmediately                        ',\n",
       " '  3 - 4 LPA                                                    ',\n",
       " \"26 Aug' 21\",\n",
       " 'StartsImmediately                        ',\n",
       " '  3.2 - 4.2 LPA                                                    ',\n",
       " \"25 Aug' 21\",\n",
       " 'StartsImmediately                        ',\n",
       " '  5 - 7 LPA                                                    ',\n",
       " \"25 Aug' 21\",\n",
       " 'StartsImmediately                        ',\n",
       " '  3 - 3.05 LPA                                                    ',\n",
       " \"25 Aug' 21\",\n",
       " 'StartsImmediately                        ',\n",
       " '  3.5 - 7.5 LPA                                                    ',\n",
       " \"25 Aug' 21\",\n",
       " 'StartsImmediately                        ',\n",
       " '  3.5 - 7.5 LPA                                                    ',\n",
       " \"25 Aug' 21\",\n",
       " 'StartsImmediately                        ',\n",
       " '  3 - 5 LPA                                                    ',\n",
       " \"25 Aug' 21\",\n",
       " 'StartsImmediately                        ',\n",
       " '  3 - 6 LPA                                                    ',\n",
       " \"25 Aug' 21\",\n",
       " 'StartsImmediately                        ',\n",
       " '  3 - 3.6 LPA                                                    ',\n",
       " \"25 Aug' 21\",\n",
       " 'StartsImmediately                        ',\n",
       " '  3 - 7 LPA                                                    ',\n",
       " \"23 Aug' 21\",\n",
       " 'StartsImmediately                        ',\n",
       " '  3 LPA                                                    ',\n",
       " \"23 Aug' 21\",\n",
       " 'StartsImmediately                        ',\n",
       " '  4.5 - 6 LPA                                                    ',\n",
       " \"25 Aug' 21\",\n",
       " 'StartsImmediately                        ',\n",
       " '  3.6 - 5.4 LPA                                                    ',\n",
       " \"23 Aug' 21\",\n",
       " 'StartsImmediately                        ',\n",
       " '  3 - 5 LPA                                                    ',\n",
       " \"23 Aug' 21\",\n",
       " 'StartsImmediately                        ',\n",
       " '  3 - 4.8 LPA                                                    ',\n",
       " \"22 Aug' 21\",\n",
       " 'StartsImmediately                        ',\n",
       " '  3 - 8 LPA                                                    ',\n",
       " \"25 Aug' 21\",\n",
       " 'StartsImmediately                        ',\n",
       " '  3.8 - 4.5 LPA                                                    ',\n",
       " \"22 Aug' 21\",\n",
       " 'StartsImmediately                        ',\n",
       " '  3 - 5 LPA                                                    ',\n",
       " \"22 Aug' 21\",\n",
       " 'StartsImmediately                        ',\n",
       " '  3 - 3.5 LPA                                                    ',\n",
       " \"22 Aug' 21\",\n",
       " 'StartsImmediately                        ',\n",
       " '  3 - 3.1 LPA                                                    ',\n",
       " \"22 Aug' 21\",\n",
       " 'StartsImmediately                        ',\n",
       " '  3 LPA                                                    ',\n",
       " \"22 Aug' 21\"]"
      ]
     },
     "execution_count": 76,
     "metadata": {},
     "output_type": "execute_result"
    }
   ],
   "source": [
    "full_info = []\n",
    "for i in detail:\n",
    "    full_info.append(i.text.replace(\"\\n\",\"\").replace(\"\\xa0\",\"\"))\n",
    "full_info"
   ]
  },
  {
   "cell_type": "markdown",
   "metadata": {},
   "source": [
    "10. Write a python program to scrape house details from https://www.nobroker.in/ for any location. It should \n",
    "include house title, location, area, emi and price"
   ]
  },
  {
   "cell_type": "code",
   "execution_count": 77,
   "metadata": {},
   "outputs": [
    {
     "data": {
      "text/plain": [
       "<Response [200]>"
      ]
     },
     "execution_count": 77,
     "metadata": {},
     "output_type": "execute_result"
    }
   ],
   "source": [
    "url = \"https://www.nobroker.in/property/sale/bangalore/Electronic%20City?type=BHK4&searchParam=W3sibGF0IjoxMi44NDUyMTQ1LCJsb24iOjc3LjY2MDE2OTUsInBsYWNlSWQiOiJDaElKdy1GUWQ0cHNyanNSSGZkYXpnXzhYRW8iLCJwbGFjZU5hbWUiOiJFbGVjdHJvbmljIENpdHkifV0=&radius=2.0\"\n",
    "page = requests.get(url)\n",
    "soup=BeautifulSoup(page.content)\n",
    "page"
   ]
  },
  {
   "cell_type": "code",
   "execution_count": 78,
   "metadata": {},
   "outputs": [
    {
     "data": {
      "text/plain": [
       "['3,100 sqft',\n",
       " '₹85,971/Month',\n",
       " '₹1.5 Crores',\n",
       " '1,400 sqft',\n",
       " '₹20,060/Month',\n",
       " '₹35 Lacs',\n",
       " '1,879 sqft',\n",
       " '₹85,971/Month',\n",
       " '₹1.5 Crores',\n",
       " '1,100 sqft',\n",
       " '₹40,120/Month',\n",
       " '₹70 Lacs',\n",
       " '1,500 sqft',\n",
       " '₹45,851/Month',\n",
       " '₹80 Lacs',\n",
       " '2,600 sqft',\n",
       " '₹85,971/Month',\n",
       " '₹1.5 Crores',\n",
       " '3,000 sqft',\n",
       " '₹85,971/Month',\n",
       " '₹1.5 Crores',\n",
       " '1,000 sqft',\n",
       " '₹37,254/Month',\n",
       " '₹65 Lacs',\n",
       " '2,500 sqft',\n",
       " '₹1.43 Lacs/Month',\n",
       " '₹2.5 Crores',\n",
       " '1,500 sqft',\n",
       " '₹57,314/Month',\n",
       " '₹1 Crore']"
      ]
     },
     "execution_count": 78,
     "metadata": {},
     "output_type": "execute_result"
    }
   ],
   "source": [
    "full_info = []\n",
    "\n",
    "detail = soup.find_all('div',class_=\"font-semi-bold heading-6\")\n",
    "for i in detail:\n",
    "    full_info .append(i.text)\n",
    "full_info \n"
   ]
  },
  {
   "cell_type": "code",
   "execution_count": 79,
   "metadata": {},
   "outputs": [
    {
     "data": {
      "text/plain": [
       "['₹85,971/Month',\n",
       " '₹20,060/Month',\n",
       " '₹85,971/Month',\n",
       " '₹40,120/Month',\n",
       " '₹45,851/Month',\n",
       " '₹85,971/Month',\n",
       " '₹85,971/Month',\n",
       " '₹37,254/Month',\n",
       " '₹1.43 Lacs/Month',\n",
       " '₹57,314/Month']"
      ]
     },
     "execution_count": 79,
     "metadata": {},
     "output_type": "execute_result"
    }
   ],
   "source": [
    "EMI = []\n",
    "for i in range(1,len(full_info),3):\n",
    "    EMI.append(full_info[i])\n",
    "EMI"
   ]
  },
  {
   "cell_type": "code",
   "execution_count": 80,
   "metadata": {},
   "outputs": [
    {
     "data": {
      "text/plain": [
       "['3,100 sqft',\n",
       " '1,400 sqft',\n",
       " '1,879 sqft',\n",
       " '1,100 sqft',\n",
       " '1,500 sqft',\n",
       " '2,600 sqft',\n",
       " '3,000 sqft',\n",
       " '1,000 sqft',\n",
       " '2,500 sqft',\n",
       " '1,500 sqft']"
      ]
     },
     "execution_count": 80,
     "metadata": {},
     "output_type": "execute_result"
    }
   ],
   "source": [
    "Area = []\n",
    "for i in range(0,len(full_info),3):\n",
    "    Area.append(full_info[i])\n",
    "Area"
   ]
  },
  {
   "cell_type": "code",
   "execution_count": 81,
   "metadata": {},
   "outputs": [
    {
     "data": {
      "text/plain": [
       "['₹1.5 Crores',\n",
       " '₹35 Lacs',\n",
       " '₹1.5 Crores',\n",
       " '₹70 Lacs',\n",
       " '₹80 Lacs',\n",
       " '₹1.5 Crores',\n",
       " '₹1.5 Crores',\n",
       " '₹65 Lacs',\n",
       " '₹2.5 Crores',\n",
       " '₹1 Crore']"
      ]
     },
     "execution_count": 81,
     "metadata": {},
     "output_type": "execute_result"
    }
   ],
   "source": [
    "Price = []\n",
    "for i in range(2,len(full_info),3):\n",
    "    Price.append(full_info[i])\n",
    "Price"
   ]
  },
  {
   "cell_type": "code",
   "execution_count": 82,
   "metadata": {},
   "outputs": [
    {
     "data": {
      "text/plain": [
       "['6th Cross',\n",
       " 'Standalone Building, Shikaripalya near Shams School',\n",
       " 'Sobha Silicon Oasis Naganathapura, Rayasandra Bengaluru, Karnataka 560100 India',\n",
       " 'Independent House,  Shantipura Village , S.P Layout , near  Shantipura Panchayat Office',\n",
       " 'Independent House, Doddanagamangala Rd opposite Sobha Silicon Oasis',\n",
       " 'Daadys Garden\\xa0 Kammasandra Rd, Kammasandra, Electronic City, Bengaluru, Karnataka 560100, India',\n",
       " 'Deccan Palms Park\\xa0 Deccan Palms Villas, Deccan Palms Road, Shree Ananth Nagar Layout, Glass Factory Layout, Electronic City, Bengaluru, Karnataka 560100, India',\n",
       " 'Independent House, Hosur Road CK Nagar near Shri Shakthi Mariyamma Temple',\n",
       " 'Independent House,  Krishna reddy layout-Near Maruti Suzuki ARENA (Surakshaa Car Care, Bengaluru, Electronic City)',\n",
       " 'Independent House, Industrial Area Near Tech Mahindra']"
      ]
     },
     "execution_count": 82,
     "metadata": {},
     "output_type": "execute_result"
    }
   ],
   "source": [
    "location_info = []\n",
    "\n",
    "detail = soup.find_all('div',class_=\"nb__2CMjv\")\n",
    "for i in detail:\n",
    "    location_info.append(i.text)\n",
    "location_info"
   ]
  },
  {
   "cell_type": "code",
   "execution_count": 83,
   "metadata": {},
   "outputs": [
    {
     "data": {
      "text/plain": [
       "['Home ',\n",
       " 'Bangalore',\n",
       " '4 BHK For Sale  In Gpr Royale In Gpr Royale',\n",
       " '4 BHK For Sale  In Gpr Royale In Gpr Royale',\n",
       " '6th Cross',\n",
       " '4 BHK Flat  For Sale  In Electronic City',\n",
       " '4 BHK Flat  For Sale  In Electronic City',\n",
       " 'Standalone Building, Shikaripalya near Shams School',\n",
       " '4 BHK Flat  For Sale  In Sobha Silicon Oasis  In Hosa Road',\n",
       " '4 BHK Flat  For Sale  In Sobha Silicon Oasis  In Hosa Road',\n",
       " 'Sobha Silicon Oasis Naganathapura, Rayasandra Bengaluru, Karnataka 560100 India',\n",
       " '4 BHK In Independent House  For Sale  In Sarjapura',\n",
       " '4 BHK In Independent House  For Sale  In Sarjapura',\n",
       " 'Independent House,  Shantipura Village , S.P Layout , near  Shantipura Panchayat Office',\n",
       " '4 BHK In Independent House  For Sale  In Naganathapura',\n",
       " '4 BHK In Independent House  For Sale  In Naganathapura',\n",
       " 'Independent House, Doddanagamangala Rd opposite Sobha Silicon Oasis',\n",
       " '4 BHK For Sale  In Daadys Garden In Electronic City',\n",
       " '4 BHK For Sale  In Daadys Garden In Electronic City',\n",
       " 'Kammasandra Rd, Kammasandra, Electronic City, Bengaluru, Karnataka 560100, India',\n",
       " '4 BHK For Sale  In Deccan Palms Park In Electronic City',\n",
       " '4 BHK For Sale  In Deccan Palms Park In Electronic City',\n",
       " 'Deccan Palms Villas, Deccan Palms Road, Shree Ananth Nagar Layout, Glass Factory Layout, Electronic City, Bengaluru, Karnataka 560100, India',\n",
       " '4 BHK In Independent House  For Sale  In Parappana Agrahara',\n",
       " '4 BHK In Independent House  For Sale  In Parappana Agrahara',\n",
       " 'Independent House, Hosur Road CK Nagar near Shri Shakthi Mariyamma Temple',\n",
       " '4 BHK In Independent House  For Sale  In Electronic City, ',\n",
       " '4 BHK In Independent House  For Sale  In Electronic City, ',\n",
       " 'Independent House,  Krishna reddy layout-Near Maruti Suzuki ARENA (Surakshaa Car Care, Bengaluru, Electronic City)',\n",
       " '4 BHK In Independent House  For Sale  In Electronic City Phase Ii',\n",
       " '4 BHK In Independent House  For Sale  In Electronic City Phase Ii',\n",
       " 'Independent House, Industrial Area Near Tech Mahindra',\n",
       " 'Flats in  Vidyanagar  for sale',\n",
       " 'Flats in  LHR Layout  for sale',\n",
       " 'Flats in  Basapura  for sale',\n",
       " 'Flats in  Hebbagodi  for sale',\n",
       " 'Flats in  Electronic City  for sale',\n",
       " 'Flats in  Chikkathoguru Village  for sale']"
      ]
     },
     "execution_count": 83,
     "metadata": {},
     "output_type": "execute_result"
    }
   ],
   "source": [
    "House_title = []\n",
    "\n",
    "title = soup.find_all('span',itemprop=\"name\")\n",
    "for i in title:\n",
    "    House_title .append(i.text)\n",
    "House_title "
   ]
  },
  {
   "cell_type": "code",
   "execution_count": null,
   "metadata": {},
   "outputs": [],
   "source": []
  }
 ],
 "metadata": {
  "kernelspec": {
   "display_name": "Python 3",
   "language": "python",
   "name": "python3"
  },
  "language_info": {
   "codemirror_mode": {
    "name": "ipython",
    "version": 3
   },
   "file_extension": ".py",
   "mimetype": "text/x-python",
   "name": "python",
   "nbconvert_exporter": "python",
   "pygments_lexer": "ipython3",
   "version": "3.8.5"
  }
 },
 "nbformat": 4,
 "nbformat_minor": 4
}
